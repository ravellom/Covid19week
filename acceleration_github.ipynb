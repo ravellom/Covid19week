{
 "cells": [
  {
   "cell_type": "code",
   "metadata": {
    "cell_id": "00000-7515518f-ebbd-4474-b882-220be6c1073f",
    "deepnote_to_be_reexecuted": false,
    "source_hash": "34879368",
    "execution_start": 1632422558923,
    "execution_millis": 216,
    "deepnote_cell_type": "code"
   },
   "source": "import pandas as pd\nimport datetime\nimport plotly\nimport plotly.express as px\nimport plotly.graph_objects as go\n\n#chartTemplate = 'plotly_dark'\nchartTemplate = 'plotly_white'",
   "outputs": [],
   "execution_count": null
  },
  {
   "cell_type": "code",
   "source": "# Datos de Cuba de https://ourworldindata.org/covid-cases\n\n#casos = pd.read_csv(\"owid-covid-data.csv\")\ncasos = pd.read_csv(\"https://raw.githubusercontent.com/owid/covid-19-data/master/public/data/owid-covid-data.csv\")\n\ncuba0 = casos[casos[\"location\"] == \"Cuba\"][[\"date\",\"new_cases\"]]\ncuba = cuba0.reset_index().rename(columns={'date': 'Date','new_cases':'N'}).sort_values(by='Date', ascending=True)\ncuba",
   "metadata": {
    "tags": [],
    "cell_id": "00001-9517021b-ce9b-43c9-9fd7-bf0d07539ea3",
    "deepnote_to_be_reexecuted": false,
    "source_hash": "d771d1e9",
    "execution_start": 1632422928318,
    "execution_millis": 732,
    "deepnote_cell_type": "code"
   },
   "outputs": [
    {
     "output_type": "execute_result",
     "execution_count": 16,
     "data": {
      "application/vnd.deepnote.dataframe.v2+json": {
       "row_count": 560,
       "column_count": 3,
       "columns": [
        {
         "name": "index",
         "dtype": "int64",
         "stats": {
          "unique_count": 560,
          "nan_count": 0,
          "min": "26377",
          "max": "26936",
          "histogram": [
           {
            "bin_start": 26377,
            "bin_end": 26432.9,
            "count": 56
           },
           {
            "bin_start": 26432.9,
            "bin_end": 26488.8,
            "count": 56
           },
           {
            "bin_start": 26488.8,
            "bin_end": 26544.7,
            "count": 56
           },
           {
            "bin_start": 26544.7,
            "bin_end": 26600.6,
            "count": 56
           },
           {
            "bin_start": 26600.6,
            "bin_end": 26656.5,
            "count": 56
           },
           {
            "bin_start": 26656.5,
            "bin_end": 26712.4,
            "count": 56
           },
           {
            "bin_start": 26712.4,
            "bin_end": 26768.3,
            "count": 56
           },
           {
            "bin_start": 26768.3,
            "bin_end": 26824.2,
            "count": 56
           },
           {
            "bin_start": 26824.2,
            "bin_end": 26880.1,
            "count": 56
           },
           {
            "bin_start": 26880.1,
            "bin_end": 26936,
            "count": 56
           }
          ]
         }
        },
        {
         "name": "Date",
         "dtype": "object",
         "stats": {
          "unique_count": 560,
          "nan_count": 0,
          "categories": [
           {
            "name": "2020-03-12",
            "count": 1
           },
           {
            "name": "2020-03-13",
            "count": 1
           },
           {
            "name": "558 others",
            "count": 558
           }
          ]
         }
        },
        {
         "name": "N",
         "dtype": "float64",
         "stats": {
          "unique_count": 349,
          "nan_count": 0,
          "min": "0.0",
          "max": "9907.0",
          "histogram": [
           {
            "bin_start": 0,
            "bin_end": 990.7,
            "count": 387
           },
           {
            "bin_start": 990.7,
            "bin_end": 1981.4,
            "count": 82
           },
           {
            "bin_start": 1981.4,
            "bin_end": 2972.1000000000004,
            "count": 7
           },
           {
            "bin_start": 2972.1000000000004,
            "bin_end": 3962.8,
            "count": 8
           },
           {
            "bin_start": 3962.8,
            "bin_end": 4953.5,
            "count": 0
           },
           {
            "bin_start": 4953.5,
            "bin_end": 5944.200000000001,
            "count": 1
           },
           {
            "bin_start": 5944.200000000001,
            "bin_end": 6934.900000000001,
            "count": 19
           },
           {
            "bin_start": 6934.900000000001,
            "bin_end": 7925.6,
            "count": 13
           },
           {
            "bin_start": 7925.6,
            "bin_end": 8916.300000000001,
            "count": 27
           },
           {
            "bin_start": 8916.300000000001,
            "bin_end": 9907,
            "count": 16
           }
          ]
         }
        },
        {
         "name": "_deepnote_index_column",
         "dtype": "int64"
        }
       ],
       "rows_top": [
        {
         "index": 26377,
         "Date": "2020-03-12",
         "N": 3,
         "_deepnote_index_column": 0
        },
        {
         "index": 26378,
         "Date": "2020-03-13",
         "N": 1,
         "_deepnote_index_column": 1
        },
        {
         "index": 26379,
         "Date": "2020-03-14",
         "N": 0,
         "_deepnote_index_column": 2
        },
        {
         "index": 26380,
         "Date": "2020-03-15",
         "N": 0,
         "_deepnote_index_column": 3
        },
        {
         "index": 26381,
         "Date": "2020-03-16",
         "N": 0,
         "_deepnote_index_column": 4
        },
        {
         "index": 26382,
         "Date": "2020-03-17",
         "N": 1,
         "_deepnote_index_column": 5
        },
        {
         "index": 26383,
         "Date": "2020-03-18",
         "N": 2,
         "_deepnote_index_column": 6
        },
        {
         "index": 26384,
         "Date": "2020-03-19",
         "N": 4,
         "_deepnote_index_column": 7
        },
        {
         "index": 26385,
         "Date": "2020-03-20",
         "N": 5,
         "_deepnote_index_column": 8
        },
        {
         "index": 26386,
         "Date": "2020-03-21",
         "N": 5,
         "_deepnote_index_column": 9
        },
        {
         "index": 26387,
         "Date": "2020-03-22",
         "N": 14,
         "_deepnote_index_column": 10
        },
        {
         "index": 26388,
         "Date": "2020-03-23",
         "N": 5,
         "_deepnote_index_column": 11
        },
        {
         "index": 26389,
         "Date": "2020-03-24",
         "N": 8,
         "_deepnote_index_column": 12
        },
        {
         "index": 26390,
         "Date": "2020-03-25",
         "N": 9,
         "_deepnote_index_column": 13
        },
        {
         "index": 26391,
         "Date": "2020-03-26",
         "N": 10,
         "_deepnote_index_column": 14
        },
        {
         "index": 26392,
         "Date": "2020-03-27",
         "N": 13,
         "_deepnote_index_column": 15
        },
        {
         "index": 26393,
         "Date": "2020-03-28",
         "N": 39,
         "_deepnote_index_column": 16
        },
        {
         "index": 26394,
         "Date": "2020-03-29",
         "N": 20,
         "_deepnote_index_column": 17
        },
        {
         "index": 26395,
         "Date": "2020-03-30",
         "N": 31,
         "_deepnote_index_column": 18
        },
        {
         "index": 26396,
         "Date": "2020-03-31",
         "N": 16,
         "_deepnote_index_column": 19
        },
        {
         "index": 26397,
         "Date": "2020-04-01",
         "N": 26,
         "_deepnote_index_column": 20
        },
        {
         "index": 26398,
         "Date": "2020-04-02",
         "N": 21,
         "_deepnote_index_column": 21
        },
        {
         "index": 26399,
         "Date": "2020-04-03",
         "N": 36,
         "_deepnote_index_column": 22
        },
        {
         "index": 26400,
         "Date": "2020-04-04",
         "N": 19,
         "_deepnote_index_column": 23
        },
        {
         "index": 26401,
         "Date": "2020-04-05",
         "N": 32,
         "_deepnote_index_column": 24
        },
        {
         "index": 26402,
         "Date": "2020-04-06",
         "N": 30,
         "_deepnote_index_column": 25
        },
        {
         "index": 26403,
         "Date": "2020-04-07",
         "N": 46,
         "_deepnote_index_column": 26
        },
        {
         "index": 26404,
         "Date": "2020-04-08",
         "N": 61,
         "_deepnote_index_column": 27
        },
        {
         "index": 26405,
         "Date": "2020-04-09",
         "N": 58,
         "_deepnote_index_column": 28
        },
        {
         "index": 26406,
         "Date": "2020-04-10",
         "N": 49,
         "_deepnote_index_column": 29
        },
        {
         "index": 26407,
         "Date": "2020-04-11",
         "N": 56,
         "_deepnote_index_column": 30
        },
        {
         "index": 26408,
         "Date": "2020-04-12",
         "N": 49,
         "_deepnote_index_column": 31
        },
        {
         "index": 26409,
         "Date": "2020-04-13",
         "N": 57,
         "_deepnote_index_column": 32
        },
        {
         "index": 26410,
         "Date": "2020-04-14",
         "N": 40,
         "_deepnote_index_column": 33
        },
        {
         "index": 26411,
         "Date": "2020-04-15",
         "N": 48,
         "_deepnote_index_column": 34
        },
        {
         "index": 26412,
         "Date": "2020-04-16",
         "N": 48,
         "_deepnote_index_column": 35
        },
        {
         "index": 26413,
         "Date": "2020-04-17",
         "N": 61,
         "_deepnote_index_column": 36
        },
        {
         "index": 26414,
         "Date": "2020-04-18",
         "N": 63,
         "_deepnote_index_column": 37
        },
        {
         "index": 26415,
         "Date": "2020-04-19",
         "N": 49,
         "_deepnote_index_column": 38
        },
        {
         "index": 26416,
         "Date": "2020-04-20",
         "N": 52,
         "_deepnote_index_column": 39
        },
        {
         "index": 26417,
         "Date": "2020-04-21",
         "N": 50,
         "_deepnote_index_column": 40
        },
        {
         "index": 26418,
         "Date": "2020-04-22",
         "N": 52,
         "_deepnote_index_column": 41
        },
        {
         "index": 26419,
         "Date": "2020-04-23",
         "N": 46,
         "_deepnote_index_column": 42
        },
        {
         "index": 26420,
         "Date": "2020-04-24",
         "N": 50,
         "_deepnote_index_column": 43
        },
        {
         "index": 26421,
         "Date": "2020-04-25",
         "N": 52,
         "_deepnote_index_column": 44
        },
        {
         "index": 26422,
         "Date": "2020-04-26",
         "N": 32,
         "_deepnote_index_column": 45
        },
        {
         "index": 26423,
         "Date": "2020-04-27",
         "N": 20,
         "_deepnote_index_column": 46
        },
        {
         "index": 26424,
         "Date": "2020-04-28",
         "N": 48,
         "_deepnote_index_column": 47
        },
        {
         "index": 26425,
         "Date": "2020-04-29",
         "N": 30,
         "_deepnote_index_column": 48
        },
        {
         "index": 26426,
         "Date": "2020-04-30",
         "N": 34,
         "_deepnote_index_column": 49
        },
        {
         "index": 26427,
         "Date": "2020-05-01",
         "N": 36,
         "_deepnote_index_column": 50
        },
        {
         "index": 26428,
         "Date": "2020-05-02",
         "N": 74,
         "_deepnote_index_column": 51
        },
        {
         "index": 26429,
         "Date": "2020-05-03",
         "N": 38,
         "_deepnote_index_column": 52
        },
        {
         "index": 26430,
         "Date": "2020-05-04",
         "N": 19,
         "_deepnote_index_column": 53
        },
        {
         "index": 26431,
         "Date": "2020-05-05",
         "N": 17,
         "_deepnote_index_column": 54
        },
        {
         "index": 26432,
         "Date": "2020-05-06",
         "N": 18,
         "_deepnote_index_column": 55
        },
        {
         "index": 26433,
         "Date": "2020-05-07",
         "N": 26,
         "_deepnote_index_column": 56
        },
        {
         "index": 26434,
         "Date": "2020-05-08",
         "N": 12,
         "_deepnote_index_column": 57
        },
        {
         "index": 26435,
         "Date": "2020-05-09",
         "N": 13,
         "_deepnote_index_column": 58
        },
        {
         "index": 26436,
         "Date": "2020-05-10",
         "N": 12,
         "_deepnote_index_column": 59
        },
        {
         "index": 26437,
         "Date": "2020-05-11",
         "N": 17,
         "_deepnote_index_column": 60
        },
        {
         "index": 26438,
         "Date": "2020-05-12",
         "N": 21,
         "_deepnote_index_column": 61
        },
        {
         "index": 26439,
         "Date": "2020-05-13",
         "N": 6,
         "_deepnote_index_column": 62
        },
        {
         "index": 26440,
         "Date": "2020-05-14",
         "N": 20,
         "_deepnote_index_column": 63
        },
        {
         "index": 26441,
         "Date": "2020-05-15",
         "N": 10,
         "_deepnote_index_column": 64
        },
        {
         "index": 26442,
         "Date": "2020-05-16",
         "N": 22,
         "_deepnote_index_column": 65
        },
        {
         "index": 26443,
         "Date": "2020-05-17",
         "N": 10,
         "_deepnote_index_column": 66
        },
        {
         "index": 26444,
         "Date": "2020-05-18",
         "N": 9,
         "_deepnote_index_column": 67
        },
        {
         "index": 26445,
         "Date": "2020-05-19",
         "N": 6,
         "_deepnote_index_column": 68
        },
        {
         "index": 26446,
         "Date": "2020-05-20",
         "N": 13,
         "_deepnote_index_column": 69
        },
        {
         "index": 26447,
         "Date": "2020-05-21",
         "N": 8,
         "_deepnote_index_column": 70
        },
        {
         "index": 26448,
         "Date": "2020-05-22",
         "N": 8,
         "_deepnote_index_column": 71
        },
        {
         "index": 26449,
         "Date": "2020-05-23",
         "N": 15,
         "_deepnote_index_column": 72
        },
        {
         "index": 26450,
         "Date": "2020-05-24",
         "N": 10,
         "_deepnote_index_column": 73
        },
        {
         "index": 26451,
         "Date": "2020-05-25",
         "N": 6,
         "_deepnote_index_column": 74
        },
        {
         "index": 26452,
         "Date": "2020-05-26",
         "N": 16,
         "_deepnote_index_column": 75
        },
        {
         "index": 26453,
         "Date": "2020-05-27",
         "N": 11,
         "_deepnote_index_column": 76
        },
        {
         "index": 26454,
         "Date": "2020-05-28",
         "N": 9,
         "_deepnote_index_column": 77
        },
        {
         "index": 26455,
         "Date": "2020-05-29",
         "N": 22,
         "_deepnote_index_column": 78
        },
        {
         "index": 26456,
         "Date": "2020-05-30",
         "N": 20,
         "_deepnote_index_column": 79
        },
        {
         "index": 26457,
         "Date": "2020-05-31",
         "N": 20,
         "_deepnote_index_column": 80
        },
        {
         "index": 26458,
         "Date": "2020-06-01",
         "N": 38,
         "_deepnote_index_column": 81
        },
        {
         "index": 26459,
         "Date": "2020-06-02",
         "N": 9,
         "_deepnote_index_column": 82
        },
        {
         "index": 26460,
         "Date": "2020-06-03",
         "N": 15,
         "_deepnote_index_column": 83
        },
        {
         "index": 26461,
         "Date": "2020-06-04",
         "N": 12,
         "_deepnote_index_column": 84
        },
        {
         "index": 26462,
         "Date": "2020-06-05",
         "N": 14,
         "_deepnote_index_column": 85
        },
        {
         "index": 26463,
         "Date": "2020-06-06",
         "N": 40,
         "_deepnote_index_column": 86
        },
        {
         "index": 26464,
         "Date": "2020-06-07",
         "N": 18,
         "_deepnote_index_column": 87
        },
        {
         "index": 26465,
         "Date": "2020-06-08",
         "N": 9,
         "_deepnote_index_column": 88
        },
        {
         "index": 26466,
         "Date": "2020-06-09",
         "N": 5,
         "_deepnote_index_column": 89
        },
        {
         "index": 26467,
         "Date": "2020-06-10",
         "N": 6,
         "_deepnote_index_column": 90
        },
        {
         "index": 26468,
         "Date": "2020-06-11",
         "N": 8,
         "_deepnote_index_column": 91
        },
        {
         "index": 26469,
         "Date": "2020-06-12",
         "N": 14,
         "_deepnote_index_column": 92
        },
        {
         "index": 26470,
         "Date": "2020-06-13",
         "N": 5,
         "_deepnote_index_column": 93
        },
        {
         "index": 26471,
         "Date": "2020-06-14",
         "N": 10,
         "_deepnote_index_column": 94
        },
        {
         "index": 26472,
         "Date": "2020-06-15",
         "N": 14,
         "_deepnote_index_column": 95
        },
        {
         "index": 26473,
         "Date": "2020-06-16",
         "N": 11,
         "_deepnote_index_column": 96
        },
        {
         "index": 26474,
         "Date": "2020-06-17",
         "N": 7,
         "_deepnote_index_column": 97
        },
        {
         "index": 26475,
         "Date": "2020-06-18",
         "N": 15,
         "_deepnote_index_column": 98
        },
        {
         "index": 26476,
         "Date": "2020-06-19",
         "N": 10,
         "_deepnote_index_column": 99
        },
        {
         "index": 26477,
         "Date": "2020-06-20",
         "N": 4,
         "_deepnote_index_column": 100
        },
        {
         "index": 26478,
         "Date": "2020-06-21",
         "N": 3,
         "_deepnote_index_column": 101
        },
        {
         "index": 26479,
         "Date": "2020-06-22",
         "N": 3,
         "_deepnote_index_column": 102
        },
        {
         "index": 26480,
         "Date": "2020-06-23",
         "N": 3,
         "_deepnote_index_column": 103
        },
        {
         "index": 26481,
         "Date": "2020-06-24",
         "N": 1,
         "_deepnote_index_column": 104
        },
        {
         "index": 26482,
         "Date": "2020-06-25",
         "N": 2,
         "_deepnote_index_column": 105
        },
        {
         "index": 26483,
         "Date": "2020-06-26",
         "N": 4,
         "_deepnote_index_column": 106
        },
        {
         "index": 26484,
         "Date": "2020-06-27",
         "N": 5,
         "_deepnote_index_column": 107
        },
        {
         "index": 26485,
         "Date": "2020-06-28",
         "N": 2,
         "_deepnote_index_column": 108
        },
        {
         "index": 26486,
         "Date": "2020-06-29",
         "N": 8,
         "_deepnote_index_column": 109
        },
        {
         "index": 26487,
         "Date": "2020-06-30",
         "N": 1,
         "_deepnote_index_column": 110
        },
        {
         "index": 26488,
         "Date": "2020-07-01",
         "N": 7,
         "_deepnote_index_column": 111
        },
        {
         "index": 26489,
         "Date": "2020-07-02",
         "N": 5,
         "_deepnote_index_column": 112
        },
        {
         "index": 26490,
         "Date": "2020-07-03",
         "N": 8,
         "_deepnote_index_column": 113
        },
        {
         "index": 26491,
         "Date": "2020-07-04",
         "N": 8,
         "_deepnote_index_column": 114
        },
        {
         "index": 26492,
         "Date": "2020-07-05",
         "N": 3,
         "_deepnote_index_column": 115
        },
        {
         "index": 26493,
         "Date": "2020-07-06",
         "N": 8,
         "_deepnote_index_column": 116
        },
        {
         "index": 26494,
         "Date": "2020-07-07",
         "N": 15,
         "_deepnote_index_column": 117
        },
        {
         "index": 26495,
         "Date": "2020-07-08",
         "N": 4,
         "_deepnote_index_column": 118
        },
        {
         "index": 26496,
         "Date": "2020-07-09",
         "N": 4,
         "_deepnote_index_column": 119
        },
        {
         "index": 26497,
         "Date": "2020-07-10",
         "N": 10,
         "_deepnote_index_column": 120
        },
        {
         "index": 26498,
         "Date": "2020-07-11",
         "N": 7,
         "_deepnote_index_column": 121
        },
        {
         "index": 26499,
         "Date": "2020-07-12",
         "N": 6,
         "_deepnote_index_column": 122
        },
        {
         "index": 26500,
         "Date": "2020-07-13",
         "N": 2,
         "_deepnote_index_column": 123
        },
        {
         "index": 26501,
         "Date": "2020-07-14",
         "N": 4,
         "_deepnote_index_column": 124
        },
        {
         "index": 26502,
         "Date": "2020-07-15",
         "N": 6,
         "_deepnote_index_column": 125
        },
        {
         "index": 26503,
         "Date": "2020-07-16",
         "N": 2,
         "_deepnote_index_column": 126
        },
        {
         "index": 26504,
         "Date": "2020-07-17",
         "N": 4,
         "_deepnote_index_column": 127
        },
        {
         "index": 26505,
         "Date": "2020-07-18",
         "N": 1,
         "_deepnote_index_column": 128
        },
        {
         "index": 26506,
         "Date": "2020-07-19",
         "N": 1,
         "_deepnote_index_column": 129
        },
        {
         "index": 26507,
         "Date": "2020-07-20",
         "N": 0,
         "_deepnote_index_column": 130
        },
        {
         "index": 26508,
         "Date": "2020-07-21",
         "N": 3,
         "_deepnote_index_column": 131
        },
        {
         "index": 26509,
         "Date": "2020-07-22",
         "N": 13,
         "_deepnote_index_column": 132
        },
        {
         "index": 26510,
         "Date": "2020-07-23",
         "N": 4,
         "_deepnote_index_column": 133
        },
        {
         "index": 26511,
         "Date": "2020-07-24",
         "N": 3,
         "_deepnote_index_column": 134
        },
        {
         "index": 26512,
         "Date": "2020-07-25",
         "N": 9,
         "_deepnote_index_column": 135
        },
        {
         "index": 26513,
         "Date": "2020-07-26",
         "N": 17,
         "_deepnote_index_column": 136
        },
        {
         "index": 26514,
         "Date": "2020-07-27",
         "N": 37,
         "_deepnote_index_column": 137
        },
        {
         "index": 26515,
         "Date": "2020-07-28",
         "N": 23,
         "_deepnote_index_column": 138
        },
        {
         "index": 26516,
         "Date": "2020-07-29",
         "N": 33,
         "_deepnote_index_column": 139
        },
        {
         "index": 26517,
         "Date": "2020-07-30",
         "N": 9,
         "_deepnote_index_column": 140
        },
        {
         "index": 26518,
         "Date": "2020-07-31",
         "N": 11,
         "_deepnote_index_column": 141
        },
        {
         "index": 26519,
         "Date": "2020-08-01",
         "N": 25,
         "_deepnote_index_column": 142
        },
        {
         "index": 26520,
         "Date": "2020-08-02",
         "N": 13,
         "_deepnote_index_column": 143
        },
        {
         "index": 26521,
         "Date": "2020-08-03",
         "N": 24,
         "_deepnote_index_column": 144
        },
        {
         "index": 26522,
         "Date": "2020-08-04",
         "N": 31,
         "_deepnote_index_column": 145
        },
        {
         "index": 26523,
         "Date": "2020-08-05",
         "N": 25,
         "_deepnote_index_column": 146
        },
        {
         "index": 26524,
         "Date": "2020-08-06",
         "N": 49,
         "_deepnote_index_column": 147
        },
        {
         "index": 26525,
         "Date": "2020-08-07",
         "N": 54,
         "_deepnote_index_column": 148
        },
        {
         "index": 26526,
         "Date": "2020-08-08",
         "N": 59,
         "_deepnote_index_column": 149
        },
        {
         "index": 26527,
         "Date": "2020-08-09",
         "N": 65,
         "_deepnote_index_column": 150
        },
        {
         "index": 26528,
         "Date": "2020-08-10",
         "N": 93,
         "_deepnote_index_column": 151
        },
        {
         "index": 26529,
         "Date": "2020-08-11",
         "N": 47,
         "_deepnote_index_column": 152
        },
        {
         "index": 26530,
         "Date": "2020-08-12",
         "N": 35,
         "_deepnote_index_column": 153
        },
        {
         "index": 26531,
         "Date": "2020-08-13",
         "N": 46,
         "_deepnote_index_column": 154
        },
        {
         "index": 26532,
         "Date": "2020-08-14",
         "N": 55,
         "_deepnote_index_column": 155
        },
        {
         "index": 26533,
         "Date": "2020-08-15",
         "N": 63,
         "_deepnote_index_column": 156
        },
        {
         "index": 26534,
         "Date": "2020-08-16",
         "N": 24,
         "_deepnote_index_column": 157
        },
        {
         "index": 26535,
         "Date": "2020-08-17",
         "N": 48,
         "_deepnote_index_column": 158
        },
        {
         "index": 26536,
         "Date": "2020-08-18",
         "N": 44,
         "_deepnote_index_column": 159
        },
        {
         "index": 26537,
         "Date": "2020-08-19",
         "N": 74,
         "_deepnote_index_column": 160
        },
        {
         "index": 26538,
         "Date": "2020-08-20",
         "N": 83,
         "_deepnote_index_column": 161
        },
        {
         "index": 26539,
         "Date": "2020-08-21",
         "N": 17,
         "_deepnote_index_column": 162
        },
        {
         "index": 26540,
         "Date": "2020-08-22",
         "N": 35,
         "_deepnote_index_column": 163
        },
        {
         "index": 26541,
         "Date": "2020-08-23",
         "N": 65,
         "_deepnote_index_column": 164
        },
        {
         "index": 26542,
         "Date": "2020-08-24",
         "N": 35,
         "_deepnote_index_column": 165
        }
       ],
       "rows_bottom": [
        {
         "index": 26770,
         "Date": "2021-04-09",
         "N": 1017,
         "_deepnote_index_column": 393
        },
        {
         "index": 26771,
         "Date": "2021-04-10",
         "N": 1040,
         "_deepnote_index_column": 394
        },
        {
         "index": 26772,
         "Date": "2021-04-11",
         "N": 959,
         "_deepnote_index_column": 395
        },
        {
         "index": 26773,
         "Date": "2021-04-12",
         "N": 854,
         "_deepnote_index_column": 396
        },
        {
         "index": 26774,
         "Date": "2021-04-13",
         "N": 1060,
         "_deepnote_index_column": 397
        },
        {
         "index": 26775,
         "Date": "2021-04-14",
         "N": 959,
         "_deepnote_index_column": 398
        },
        {
         "index": 26776,
         "Date": "2021-04-15",
         "N": 1004,
         "_deepnote_index_column": 399
        },
        {
         "index": 26777,
         "Date": "2021-04-16",
         "N": 1040,
         "_deepnote_index_column": 400
        },
        {
         "index": 26778,
         "Date": "2021-04-17",
         "N": 1026,
         "_deepnote_index_column": 401
        },
        {
         "index": 26779,
         "Date": "2021-04-18",
         "N": 1037,
         "_deepnote_index_column": 402
        },
        {
         "index": 26780,
         "Date": "2021-04-19",
         "N": 1060,
         "_deepnote_index_column": 403
        },
        {
         "index": 26781,
         "Date": "2021-04-20",
         "N": 1183,
         "_deepnote_index_column": 404
        },
        {
         "index": 26782,
         "Date": "2021-04-21",
         "N": 1006,
         "_deepnote_index_column": 405
        },
        {
         "index": 26783,
         "Date": "2021-04-22",
         "N": 1207,
         "_deepnote_index_column": 406
        },
        {
         "index": 26784,
         "Date": "2021-04-23",
         "N": 1241,
         "_deepnote_index_column": 407
        },
        {
         "index": 26785,
         "Date": "2021-04-24",
         "N": 1110,
         "_deepnote_index_column": 408
        },
        {
         "index": 26786,
         "Date": "2021-04-25",
         "N": 1185,
         "_deepnote_index_column": 409
        },
        {
         "index": 26787,
         "Date": "2021-04-26",
         "N": 938,
         "_deepnote_index_column": 410
        },
        {
         "index": 26788,
         "Date": "2021-04-27",
         "N": 1083,
         "_deepnote_index_column": 411
        },
        {
         "index": 26789,
         "Date": "2021-04-28",
         "N": 988,
         "_deepnote_index_column": 412
        },
        {
         "index": 26790,
         "Date": "2021-04-29",
         "N": 1149,
         "_deepnote_index_column": 413
        },
        {
         "index": 26791,
         "Date": "2021-04-30",
         "N": 1046,
         "_deepnote_index_column": 414
        },
        {
         "index": 26792,
         "Date": "2021-05-01",
         "N": 915,
         "_deepnote_index_column": 415
        },
        {
         "index": 26793,
         "Date": "2021-05-02",
         "N": 1071,
         "_deepnote_index_column": 416
        },
        {
         "index": 26794,
         "Date": "2021-05-03",
         "N": 932,
         "_deepnote_index_column": 417
        },
        {
         "index": 26795,
         "Date": "2021-05-04",
         "N": 1019,
         "_deepnote_index_column": 418
        },
        {
         "index": 26796,
         "Date": "2021-05-05",
         "N": 1010,
         "_deepnote_index_column": 419
        },
        {
         "index": 26797,
         "Date": "2021-05-06",
         "N": 1060,
         "_deepnote_index_column": 420
        },
        {
         "index": 26798,
         "Date": "2021-05-07",
         "N": 1162,
         "_deepnote_index_column": 421
        },
        {
         "index": 26799,
         "Date": "2021-05-08",
         "N": 1036,
         "_deepnote_index_column": 422
        },
        {
         "index": 26800,
         "Date": "2021-05-09",
         "N": 1069,
         "_deepnote_index_column": 423
        },
        {
         "index": 26801,
         "Date": "2021-05-10",
         "N": 1116,
         "_deepnote_index_column": 424
        },
        {
         "index": 26802,
         "Date": "2021-05-11",
         "N": 1071,
         "_deepnote_index_column": 425
        },
        {
         "index": 26803,
         "Date": "2021-05-12",
         "N": 1207,
         "_deepnote_index_column": 426
        },
        {
         "index": 26804,
         "Date": "2021-05-13",
         "N": 1186,
         "_deepnote_index_column": 427
        },
        {
         "index": 26805,
         "Date": "2021-05-14",
         "N": 1277,
         "_deepnote_index_column": 428
        },
        {
         "index": 26806,
         "Date": "2021-05-15",
         "N": 1383,
         "_deepnote_index_column": 429
        },
        {
         "index": 26807,
         "Date": "2021-05-16",
         "N": 1233,
         "_deepnote_index_column": 430
        },
        {
         "index": 26808,
         "Date": "2021-05-17",
         "N": 1057,
         "_deepnote_index_column": 431
        },
        {
         "index": 26809,
         "Date": "2021-05-18",
         "N": 1244,
         "_deepnote_index_column": 432
        },
        {
         "index": 26810,
         "Date": "2021-05-19",
         "N": 1339,
         "_deepnote_index_column": 433
        },
        {
         "index": 26811,
         "Date": "2021-05-20",
         "N": 1252,
         "_deepnote_index_column": 434
        },
        {
         "index": 26812,
         "Date": "2021-05-21",
         "N": 1197,
         "_deepnote_index_column": 435
        },
        {
         "index": 26813,
         "Date": "2021-05-22",
         "N": 1289,
         "_deepnote_index_column": 436
        },
        {
         "index": 26814,
         "Date": "2021-05-23",
         "N": 1221,
         "_deepnote_index_column": 437
        },
        {
         "index": 26815,
         "Date": "2021-05-24",
         "N": 1155,
         "_deepnote_index_column": 438
        },
        {
         "index": 26816,
         "Date": "2021-05-25",
         "N": 1291,
         "_deepnote_index_column": 439
        },
        {
         "index": 26817,
         "Date": "2021-05-26",
         "N": 1129,
         "_deepnote_index_column": 440
        },
        {
         "index": 26818,
         "Date": "2021-05-27",
         "N": 1102,
         "_deepnote_index_column": 441
        },
        {
         "index": 26819,
         "Date": "2021-05-28",
         "N": 1169,
         "_deepnote_index_column": 442
        },
        {
         "index": 26820,
         "Date": "2021-05-29",
         "N": 1188,
         "_deepnote_index_column": 443
        },
        {
         "index": 26821,
         "Date": "2021-05-30",
         "N": 1079,
         "_deepnote_index_column": 444
        },
        {
         "index": 26822,
         "Date": "2021-05-31",
         "N": 1100,
         "_deepnote_index_column": 445
        },
        {
         "index": 26823,
         "Date": "2021-06-01",
         "N": 1057,
         "_deepnote_index_column": 446
        },
        {
         "index": 26824,
         "Date": "2021-06-02",
         "N": 1191,
         "_deepnote_index_column": 447
        },
        {
         "index": 26825,
         "Date": "2021-06-03",
         "N": 1053,
         "_deepnote_index_column": 448
        },
        {
         "index": 26826,
         "Date": "2021-06-04",
         "N": 1129,
         "_deepnote_index_column": 449
        },
        {
         "index": 26827,
         "Date": "2021-06-05",
         "N": 1135,
         "_deepnote_index_column": 450
        },
        {
         "index": 26828,
         "Date": "2021-06-06",
         "N": 1087,
         "_deepnote_index_column": 451
        },
        {
         "index": 26829,
         "Date": "2021-06-07",
         "N": 1185,
         "_deepnote_index_column": 452
        },
        {
         "index": 26830,
         "Date": "2021-06-08",
         "N": 1156,
         "_deepnote_index_column": 453
        },
        {
         "index": 26831,
         "Date": "2021-06-09",
         "N": 1161,
         "_deepnote_index_column": 454
        },
        {
         "index": 26832,
         "Date": "2021-06-10",
         "N": 1158,
         "_deepnote_index_column": 455
        },
        {
         "index": 26833,
         "Date": "2021-06-11",
         "N": 1288,
         "_deepnote_index_column": 456
        },
        {
         "index": 26834,
         "Date": "2021-06-12",
         "N": 1372,
         "_deepnote_index_column": 457
        },
        {
         "index": 26835,
         "Date": "2021-06-13",
         "N": 1470,
         "_deepnote_index_column": 458
        },
        {
         "index": 26836,
         "Date": "2021-06-14",
         "N": 1349,
         "_deepnote_index_column": 459
        },
        {
         "index": 26837,
         "Date": "2021-06-15",
         "N": 1537,
         "_deepnote_index_column": 460
        },
        {
         "index": 26838,
         "Date": "2021-06-16",
         "N": 1403,
         "_deepnote_index_column": 461
        },
        {
         "index": 26839,
         "Date": "2021-06-17",
         "N": 1418,
         "_deepnote_index_column": 462
        },
        {
         "index": 26840,
         "Date": "2021-06-18",
         "N": 1481,
         "_deepnote_index_column": 463
        },
        {
         "index": 26841,
         "Date": "2021-06-19",
         "N": 1472,
         "_deepnote_index_column": 464
        },
        {
         "index": 26842,
         "Date": "2021-06-20",
         "N": 1436,
         "_deepnote_index_column": 465
        },
        {
         "index": 26843,
         "Date": "2021-06-21",
         "N": 1561,
         "_deepnote_index_column": 466
        },
        {
         "index": 26844,
         "Date": "2021-06-22",
         "N": 1489,
         "_deepnote_index_column": 467
        },
        {
         "index": 26845,
         "Date": "2021-06-23",
         "N": 2055,
         "_deepnote_index_column": 468
        },
        {
         "index": 26846,
         "Date": "2021-06-24",
         "N": 1880,
         "_deepnote_index_column": 469
        },
        {
         "index": 26847,
         "Date": "2021-06-25",
         "N": 2464,
         "_deepnote_index_column": 470
        },
        {
         "index": 26848,
         "Date": "2021-06-26",
         "N": 2403,
         "_deepnote_index_column": 471
        },
        {
         "index": 26849,
         "Date": "2021-06-27",
         "N": 2698,
         "_deepnote_index_column": 472
        },
        {
         "index": 26850,
         "Date": "2021-06-28",
         "N": 2589,
         "_deepnote_index_column": 473
        },
        {
         "index": 26851,
         "Date": "2021-06-29",
         "N": 3080,
         "_deepnote_index_column": 474
        },
        {
         "index": 26852,
         "Date": "2021-06-30",
         "N": 2970,
         "_deepnote_index_column": 475
        },
        {
         "index": 26853,
         "Date": "2021-07-01",
         "N": 2952,
         "_deepnote_index_column": 476
        },
        {
         "index": 26854,
         "Date": "2021-07-02",
         "N": 3308,
         "_deepnote_index_column": 477
        },
        {
         "index": 26855,
         "Date": "2021-07-03",
         "N": 3475,
         "_deepnote_index_column": 478
        },
        {
         "index": 26856,
         "Date": "2021-07-04",
         "N": 3519,
         "_deepnote_index_column": 479
        },
        {
         "index": 26857,
         "Date": "2021-07-05",
         "N": 3075,
         "_deepnote_index_column": 480
        },
        {
         "index": 26858,
         "Date": "2021-07-06",
         "N": 3591,
         "_deepnote_index_column": 481
        },
        {
         "index": 26859,
         "Date": "2021-07-07",
         "N": 3664,
         "_deepnote_index_column": 482
        },
        {
         "index": 26860,
         "Date": "2021-07-08",
         "N": 3819,
         "_deepnote_index_column": 483
        },
        {
         "index": 26861,
         "Date": "2021-07-09",
         "N": 6422,
         "_deepnote_index_column": 484
        },
        {
         "index": 26862,
         "Date": "2021-07-10",
         "N": 6750,
         "_deepnote_index_column": 485
        },
        {
         "index": 26863,
         "Date": "2021-07-11",
         "N": 6923,
         "_deepnote_index_column": 486
        },
        {
         "index": 26864,
         "Date": "2021-07-12",
         "N": 6423,
         "_deepnote_index_column": 487
        },
        {
         "index": 26865,
         "Date": "2021-07-13",
         "N": 5613,
         "_deepnote_index_column": 488
        },
        {
         "index": 26866,
         "Date": "2021-07-14",
         "N": 6080,
         "_deepnote_index_column": 489
        },
        {
         "index": 26867,
         "Date": "2021-07-15",
         "N": 6479,
         "_deepnote_index_column": 490
        },
        {
         "index": 26868,
         "Date": "2021-07-16",
         "N": 6460,
         "_deepnote_index_column": 491
        },
        {
         "index": 26869,
         "Date": "2021-07-17",
         "N": 6062,
         "_deepnote_index_column": 492
        },
        {
         "index": 26870,
         "Date": "2021-07-18",
         "N": 6279,
         "_deepnote_index_column": 493
        },
        {
         "index": 26871,
         "Date": "2021-07-19",
         "N": 6505,
         "_deepnote_index_column": 494
        },
        {
         "index": 26872,
         "Date": "2021-07-20",
         "N": 6057,
         "_deepnote_index_column": 495
        },
        {
         "index": 26873,
         "Date": "2021-07-21",
         "N": 6405,
         "_deepnote_index_column": 496
        },
        {
         "index": 26874,
         "Date": "2021-07-22",
         "N": 7745,
         "_deepnote_index_column": 497
        },
        {
         "index": 26875,
         "Date": "2021-07-23",
         "N": 7784,
         "_deepnote_index_column": 498
        },
        {
         "index": 26876,
         "Date": "2021-07-24",
         "N": 7732,
         "_deepnote_index_column": 499
        },
        {
         "index": 26877,
         "Date": "2021-07-25",
         "N": 8853,
         "_deepnote_index_column": 500
        },
        {
         "index": 26878,
         "Date": "2021-07-26",
         "N": 8184,
         "_deepnote_index_column": 501
        },
        {
         "index": 26879,
         "Date": "2021-07-27",
         "N": 7903,
         "_deepnote_index_column": 502
        },
        {
         "index": 26880,
         "Date": "2021-07-28",
         "N": 9323,
         "_deepnote_index_column": 503
        },
        {
         "index": 26881,
         "Date": "2021-07-29",
         "N": 8607,
         "_deepnote_index_column": 504
        },
        {
         "index": 26882,
         "Date": "2021-07-30",
         "N": 8736,
         "_deepnote_index_column": 505
        },
        {
         "index": 26883,
         "Date": "2021-07-31",
         "N": 8875,
         "_deepnote_index_column": 506
        },
        {
         "index": 26884,
         "Date": "2021-08-01",
         "N": 9747,
         "_deepnote_index_column": 507
        },
        {
         "index": 26885,
         "Date": "2021-08-02",
         "N": 9279,
         "_deepnote_index_column": 508
        },
        {
         "index": 26886,
         "Date": "2021-08-03",
         "N": 9629,
         "_deepnote_index_column": 509
        },
        {
         "index": 26887,
         "Date": "2021-08-04",
         "N": 9363,
         "_deepnote_index_column": 510
        },
        {
         "index": 26888,
         "Date": "2021-08-05",
         "N": 8399,
         "_deepnote_index_column": 511
        },
        {
         "index": 26889,
         "Date": "2021-08-06",
         "N": 8886,
         "_deepnote_index_column": 512
        },
        {
         "index": 26890,
         "Date": "2021-08-07",
         "N": 8893,
         "_deepnote_index_column": 513
        },
        {
         "index": 26891,
         "Date": "2021-08-08",
         "N": 9427,
         "_deepnote_index_column": 514
        },
        {
         "index": 26892,
         "Date": "2021-08-09",
         "N": 7950,
         "_deepnote_index_column": 515
        },
        {
         "index": 26893,
         "Date": "2021-08-10",
         "N": 8936,
         "_deepnote_index_column": 516
        },
        {
         "index": 26894,
         "Date": "2021-08-11",
         "N": 8605,
         "_deepnote_index_column": 517
        },
        {
         "index": 26895,
         "Date": "2021-08-12",
         "N": 8194,
         "_deepnote_index_column": 518
        },
        {
         "index": 26896,
         "Date": "2021-08-13",
         "N": 8312,
         "_deepnote_index_column": 519
        },
        {
         "index": 26897,
         "Date": "2021-08-14",
         "N": 8816,
         "_deepnote_index_column": 520
        },
        {
         "index": 26898,
         "Date": "2021-08-15",
         "N": 8636,
         "_deepnote_index_column": 521
        },
        {
         "index": 26899,
         "Date": "2021-08-16",
         "N": 9169,
         "_deepnote_index_column": 522
        },
        {
         "index": 26900,
         "Date": "2021-08-17",
         "N": 9772,
         "_deepnote_index_column": 523
        },
        {
         "index": 26901,
         "Date": "2021-08-18",
         "N": 8666,
         "_deepnote_index_column": 524
        },
        {
         "index": 26902,
         "Date": "2021-08-19",
         "N": 8972,
         "_deepnote_index_column": 525
        },
        {
         "index": 26903,
         "Date": "2021-08-20",
         "N": 9764,
         "_deepnote_index_column": 526
        },
        {
         "index": 26904,
         "Date": "2021-08-21",
         "N": 9740,
         "_deepnote_index_column": 527
        },
        {
         "index": 26905,
         "Date": "2021-08-22",
         "N": 9548,
         "_deepnote_index_column": 528
        },
        {
         "index": 26906,
         "Date": "2021-08-23",
         "N": 9320,
         "_deepnote_index_column": 529
        },
        {
         "index": 26907,
         "Date": "2021-08-24",
         "N": 9907,
         "_deepnote_index_column": 530
        },
        {
         "index": 26908,
         "Date": "2021-08-25",
         "N": 8637,
         "_deepnote_index_column": 531
        },
        {
         "index": 26909,
         "Date": "2021-08-26",
         "N": 8509,
         "_deepnote_index_column": 532
        },
        {
         "index": 26910,
         "Date": "2021-08-27",
         "N": 7639,
         "_deepnote_index_column": 533
        },
        {
         "index": 26911,
         "Date": "2021-08-28",
         "N": 6850,
         "_deepnote_index_column": 534
        },
        {
         "index": 26912,
         "Date": "2021-08-29",
         "N": 6277,
         "_deepnote_index_column": 535
        },
        {
         "index": 26913,
         "Date": "2021-08-30",
         "N": 6075,
         "_deepnote_index_column": 536
        },
        {
         "index": 26914,
         "Date": "2021-08-31",
         "N": 6342,
         "_deepnote_index_column": 537
        },
        {
         "index": 26915,
         "Date": "2021-09-01",
         "N": 6609,
         "_deepnote_index_column": 538
        },
        {
         "index": 26916,
         "Date": "2021-09-02",
         "N": 6208,
         "_deepnote_index_column": 539
        },
        {
         "index": 26917,
         "Date": "2021-09-03",
         "N": 6927,
         "_deepnote_index_column": 540
        },
        {
         "index": 26918,
         "Date": "2021-09-04",
         "N": 7854,
         "_deepnote_index_column": 541
        },
        {
         "index": 26919,
         "Date": "2021-09-05",
         "N": 9221,
         "_deepnote_index_column": 542
        },
        {
         "index": 26920,
         "Date": "2021-09-06",
         "N": 7230,
         "_deepnote_index_column": 543
        },
        {
         "index": 26921,
         "Date": "2021-09-07",
         "N": 7771,
         "_deepnote_index_column": 544
        },
        {
         "index": 26922,
         "Date": "2021-09-08",
         "N": 8317,
         "_deepnote_index_column": 545
        },
        {
         "index": 26923,
         "Date": "2021-09-09",
         "N": 7747,
         "_deepnote_index_column": 546
        },
        {
         "index": 26924,
         "Date": "2021-09-10",
         "N": 8394,
         "_deepnote_index_column": 547
        },
        {
         "index": 26925,
         "Date": "2021-09-11",
         "N": 8035,
         "_deepnote_index_column": 548
        },
        {
         "index": 26926,
         "Date": "2021-09-12",
         "N": 8034,
         "_deepnote_index_column": 549
        },
        {
         "index": 26927,
         "Date": "2021-09-13",
         "N": 8342,
         "_deepnote_index_column": 550
        },
        {
         "index": 26928,
         "Date": "2021-09-14",
         "N": 7516,
         "_deepnote_index_column": 551
        },
        {
         "index": 26929,
         "Date": "2021-09-15",
         "N": 7437,
         "_deepnote_index_column": 552
        },
        {
         "index": 26930,
         "Date": "2021-09-16",
         "N": 7628,
         "_deepnote_index_column": 553
        },
        {
         "index": 26931,
         "Date": "2021-09-17",
         "N": 8291,
         "_deepnote_index_column": 554
        },
        {
         "index": 26932,
         "Date": "2021-09-18",
         "N": 8517,
         "_deepnote_index_column": 555
        },
        {
         "index": 26933,
         "Date": "2021-09-19",
         "N": 8434,
         "_deepnote_index_column": 556
        },
        {
         "index": 26934,
         "Date": "2021-09-20",
         "N": 8544,
         "_deepnote_index_column": 557
        },
        {
         "index": 26935,
         "Date": "2021-09-21",
         "N": 8289,
         "_deepnote_index_column": 558
        },
        {
         "index": 26936,
         "Date": "2021-09-22",
         "N": 7151,
         "_deepnote_index_column": 559
        }
       ]
      },
      "text/plain": "     index        Date       N\n0    26377  2020-03-12     3.0\n1    26378  2020-03-13     1.0\n2    26379  2020-03-14     0.0\n3    26380  2020-03-15     0.0\n4    26381  2020-03-16     0.0\n..     ...         ...     ...\n555  26932  2021-09-18  8517.0\n556  26933  2021-09-19  8434.0\n557  26934  2021-09-20  8544.0\n558  26935  2021-09-21  8289.0\n559  26936  2021-09-22  7151.0\n\n[560 rows x 3 columns]",
      "text/html": "<div>\n<style scoped>\n    .dataframe tbody tr th:only-of-type {\n        vertical-align: middle;\n    }\n\n    .dataframe tbody tr th {\n        vertical-align: top;\n    }\n\n    .dataframe thead th {\n        text-align: right;\n    }\n</style>\n<table border=\"1\" class=\"dataframe\">\n  <thead>\n    <tr style=\"text-align: right;\">\n      <th></th>\n      <th>index</th>\n      <th>Date</th>\n      <th>N</th>\n    </tr>\n  </thead>\n  <tbody>\n    <tr>\n      <th>0</th>\n      <td>26377</td>\n      <td>2020-03-12</td>\n      <td>3.0</td>\n    </tr>\n    <tr>\n      <th>1</th>\n      <td>26378</td>\n      <td>2020-03-13</td>\n      <td>1.0</td>\n    </tr>\n    <tr>\n      <th>2</th>\n      <td>26379</td>\n      <td>2020-03-14</td>\n      <td>0.0</td>\n    </tr>\n    <tr>\n      <th>3</th>\n      <td>26380</td>\n      <td>2020-03-15</td>\n      <td>0.0</td>\n    </tr>\n    <tr>\n      <th>4</th>\n      <td>26381</td>\n      <td>2020-03-16</td>\n      <td>0.0</td>\n    </tr>\n    <tr>\n      <th>...</th>\n      <td>...</td>\n      <td>...</td>\n      <td>...</td>\n    </tr>\n    <tr>\n      <th>555</th>\n      <td>26932</td>\n      <td>2021-09-18</td>\n      <td>8517.0</td>\n    </tr>\n    <tr>\n      <th>556</th>\n      <td>26933</td>\n      <td>2021-09-19</td>\n      <td>8434.0</td>\n    </tr>\n    <tr>\n      <th>557</th>\n      <td>26934</td>\n      <td>2021-09-20</td>\n      <td>8544.0</td>\n    </tr>\n    <tr>\n      <th>558</th>\n      <td>26935</td>\n      <td>2021-09-21</td>\n      <td>8289.0</td>\n    </tr>\n    <tr>\n      <th>559</th>\n      <td>26936</td>\n      <td>2021-09-22</td>\n      <td>7151.0</td>\n    </tr>\n  </tbody>\n</table>\n<p>560 rows × 3 columns</p>\n</div>"
     },
     "metadata": {}
    }
   ],
   "execution_count": null
  },
  {
   "cell_type": "code",
   "metadata": {
    "cell_id": "00001-aabb58e4-ab4e-4422-ad54-8ae0fccca059",
    "deepnote_to_be_reexecuted": false,
    "source_hash": "b7ecadae",
    "execution_start": 1632422934144,
    "execution_millis": 606,
    "deepnote_cell_type": "code"
   },
   "source": "cases = pd.read_csv(\"covid19-casos.csv\")\n\ncases_cfg = cases[cases[\"provincia\"] == \"Cienfuegos\"]\n\n#cuba = cases['fecha_confirmacion'].value_counts().reset_index().rename(columns={'index': 'Date','fecha_confirmacion':'N'}).sort_values(by='Date', ascending=True)\ncfg = cases_cfg['fecha_confirmacion'].value_counts().reset_index().rename(columns={'index': 'Date','fecha_confirmacion':'N'}).sort_values(by='Date', ascending=True)\n\n# calculate case velocity\n#cuba[\"vel\"] = cuba.loc[:, cuba.columns != 'Date'].diff()\ncuba[\"vel\"] = cuba.loc[:, 'N'].diff()\ncfg[\"vel\"] = cfg.loc[:, 'N'].diff()\n\n# calculate case acceleration\ncuba[\"acc\"] = cuba[[\"Date\", \"vel\"]].loc[:, 'vel'].diff()\ncfg[\"acc\"] = cfg[[\"Date\", \"vel\"]].loc[:, 'vel'].diff()\n\n# calculate means - 14 días - 2 semanas\n# usando rolling\navg = 14\ncfg[\"accelMeans14\"] = cfg[[\"Date\", \"vel\"]].loc[:, 'vel'].rolling(window = avg).mean()\ncfg[\"accelMeans7\"] = cfg[[\"Date\", \"vel\"]].loc[:, 'vel'].rolling(window = 7).mean()\ncfg[\"accelMeans3\"] = cfg[[\"Date\", \"vel\"]].loc[:, 'vel'].rolling(window = 3).mean()\ncuba[\"accelMeans14\"] = cuba[[\"Date\", \"vel\"]].loc[:, 'vel'].rolling(window = avg).mean()\ncuba[\"accelMeans7\"] = cuba[[\"Date\", \"vel\"]].loc[:, \"vel\"].rolling(window = 7).mean()\ncuba[\"accelMeans3\"] = cuba[[\"Date\", \"vel\"]].loc[:, \"vel\"].rolling(window = 3).mean()\n\n# con EWM\n# cfg[\"accelMeans5\"] = cfg[[\"Date\", \"vel\"]].loc[:, cfg[[\"Date\", \"vel\"]].columns != 'Datetime'].ewm(span=5).mean()\n\ncuba",
   "outputs": [
    {
     "name": "stderr",
     "text": "/shared-libs/python3.9/py-core/lib/python3.9/site-packages/IPython/core/interactiveshell.py:3169: DtypeWarning:\n\nColumns (1,7) have mixed types.Specify dtype option on import or set low_memory=False.\n\n",
     "output_type": "stream"
    },
    {
     "output_type": "execute_result",
     "execution_count": 17,
     "data": {
      "application/vnd.deepnote.dataframe.v2+json": {
       "row_count": 560,
       "column_count": 8,
       "columns": [
        {
         "name": "index",
         "dtype": "int64",
         "stats": {
          "unique_count": 560,
          "nan_count": 0,
          "min": "26377",
          "max": "26936",
          "histogram": [
           {
            "bin_start": 26377,
            "bin_end": 26432.9,
            "count": 56
           },
           {
            "bin_start": 26432.9,
            "bin_end": 26488.8,
            "count": 56
           },
           {
            "bin_start": 26488.8,
            "bin_end": 26544.7,
            "count": 56
           },
           {
            "bin_start": 26544.7,
            "bin_end": 26600.6,
            "count": 56
           },
           {
            "bin_start": 26600.6,
            "bin_end": 26656.5,
            "count": 56
           },
           {
            "bin_start": 26656.5,
            "bin_end": 26712.4,
            "count": 56
           },
           {
            "bin_start": 26712.4,
            "bin_end": 26768.3,
            "count": 56
           },
           {
            "bin_start": 26768.3,
            "bin_end": 26824.2,
            "count": 56
           },
           {
            "bin_start": 26824.2,
            "bin_end": 26880.1,
            "count": 56
           },
           {
            "bin_start": 26880.1,
            "bin_end": 26936,
            "count": 56
           }
          ]
         }
        },
        {
         "name": "Date",
         "dtype": "object",
         "stats": {
          "unique_count": 560,
          "nan_count": 0,
          "categories": [
           {
            "name": "2020-03-12",
            "count": 1
           },
           {
            "name": "2020-03-13",
            "count": 1
           },
           {
            "name": "558 others",
            "count": 558
           }
          ]
         }
        },
        {
         "name": "N",
         "dtype": "float64",
         "stats": {
          "unique_count": 349,
          "nan_count": 0,
          "min": "0.0",
          "max": "9907.0",
          "histogram": [
           {
            "bin_start": 0,
            "bin_end": 990.7,
            "count": 387
           },
           {
            "bin_start": 990.7,
            "bin_end": 1981.4,
            "count": 82
           },
           {
            "bin_start": 1981.4,
            "bin_end": 2972.1000000000004,
            "count": 7
           },
           {
            "bin_start": 2972.1000000000004,
            "bin_end": 3962.8,
            "count": 8
           },
           {
            "bin_start": 3962.8,
            "bin_end": 4953.5,
            "count": 0
           },
           {
            "bin_start": 4953.5,
            "bin_end": 5944.200000000001,
            "count": 1
           },
           {
            "bin_start": 5944.200000000001,
            "bin_end": 6934.900000000001,
            "count": 19
           },
           {
            "bin_start": 6934.900000000001,
            "bin_end": 7925.6,
            "count": 13
           },
           {
            "bin_start": 7925.6,
            "bin_end": 8916.300000000001,
            "count": 27
           },
           {
            "bin_start": 8916.300000000001,
            "bin_end": 9907,
            "count": 16
           }
          ]
         }
        },
        {
         "name": "vel",
         "dtype": "float64",
         "stats": {
          "unique_count": 278,
          "nan_count": 1,
          "min": "-1991.0",
          "max": "2603.0",
          "histogram": [
           {
            "bin_start": -1991,
            "bin_end": -1531.6,
            "count": 1
           },
           {
            "bin_start": -1531.6,
            "bin_end": -1072.2,
            "count": 4
           },
           {
            "bin_start": -1072.2,
            "bin_end": -612.8000000000002,
            "count": 7
           },
           {
            "bin_start": -612.8000000000002,
            "bin_end": -153.4000000000001,
            "count": 31
           },
           {
            "bin_start": -153.4000000000001,
            "bin_end": 306,
            "count": 483
           },
           {
            "bin_start": 306,
            "bin_end": 765.3999999999996,
            "count": 24
           },
           {
            "bin_start": 765.3999999999996,
            "bin_end": 1224.7999999999997,
            "count": 5
           },
           {
            "bin_start": 1224.7999999999997,
            "bin_end": 1684.1999999999998,
            "count": 3
           },
           {
            "bin_start": 1684.1999999999998,
            "bin_end": 2143.5999999999995,
            "count": 0
           },
           {
            "bin_start": 2143.5999999999995,
            "bin_end": 2603,
            "count": 1
           }
          ]
         }
        },
        {
         "name": "acc",
         "dtype": "float64",
         "stats": {
          "unique_count": 306,
          "nan_count": 2,
          "min": "-3358.0",
          "max": "2532.0",
          "histogram": [
           {
            "bin_start": -3358,
            "bin_end": -2769,
            "count": 1
           },
           {
            "bin_start": -2769,
            "bin_end": -2180,
            "count": 1
           },
           {
            "bin_start": -2180,
            "bin_end": -1591,
            "count": 5
           },
           {
            "bin_start": -1591,
            "bin_end": -1002,
            "count": 6
           },
           {
            "bin_start": -1002,
            "bin_end": -413,
            "count": 20
           },
           {
            "bin_start": -413,
            "bin_end": 176,
            "count": 455
           },
           {
            "bin_start": 176,
            "bin_end": 765,
            "count": 53
           },
           {
            "bin_start": 765,
            "bin_end": 1354,
            "count": 11
           },
           {
            "bin_start": 1354,
            "bin_end": 1943,
            "count": 3
           },
           {
            "bin_start": 1943,
            "bin_end": 2532,
            "count": 3
           }
          ]
         }
        },
        {
         "name": "accelMeans14",
         "dtype": "float64",
         "stats": {
          "unique_count": 317,
          "nan_count": 14,
          "min": "-245.0",
          "max": "310.5",
          "histogram": [
           {
            "bin_start": -245,
            "bin_end": -189.45,
            "count": 4
           },
           {
            "bin_start": -189.45,
            "bin_end": -133.9,
            "count": 6
           },
           {
            "bin_start": -133.9,
            "bin_end": -78.35000000000002,
            "count": 2
           },
           {
            "bin_start": -78.35000000000002,
            "bin_end": -22.80000000000001,
            "count": 9
           },
           {
            "bin_start": -22.80000000000001,
            "bin_end": 32.75,
            "count": 454
           },
           {
            "bin_start": 32.75,
            "bin_end": 88.29999999999995,
            "count": 28
           },
           {
            "bin_start": 88.29999999999995,
            "bin_end": 143.84999999999997,
            "count": 17
           },
           {
            "bin_start": 143.84999999999997,
            "bin_end": 199.39999999999998,
            "count": 12
           },
           {
            "bin_start": 199.39999999999998,
            "bin_end": 254.95,
            "count": 8
           },
           {
            "bin_start": 254.95,
            "bin_end": 310.5,
            "count": 6
           }
          ]
         }
        },
        {
         "name": "accelMeans7",
         "dtype": "float64",
         "stats": {
          "unique_count": 294,
          "nan_count": 7,
          "min": "-509.2857142857143",
          "max": "486.2857142857143",
          "histogram": [
           {
            "bin_start": -509.2857142857143,
            "bin_end": -409.7285714285714,
            "count": 4
           },
           {
            "bin_start": -409.7285714285714,
            "bin_end": -310.1714285714286,
            "count": 1
           },
           {
            "bin_start": -310.1714285714286,
            "bin_end": -210.6142857142857,
            "count": 2
           },
           {
            "bin_start": -210.6142857142857,
            "bin_end": -111.05714285714288,
            "count": 4
           },
           {
            "bin_start": -111.05714285714288,
            "bin_end": -11.500000000000057,
            "count": 50
           },
           {
            "bin_start": -11.500000000000057,
            "bin_end": 88.05714285714288,
            "count": 444
           },
           {
            "bin_start": 88.05714285714288,
            "bin_end": 187.6142857142857,
            "count": 27
           },
           {
            "bin_start": 187.6142857142857,
            "bin_end": 287.1714285714285,
            "count": 11
           },
           {
            "bin_start": 287.1714285714285,
            "bin_end": 386.72857142857134,
            "count": 4
           },
           {
            "bin_start": 386.72857142857134,
            "bin_end": 486.2857142857143,
            "count": 6
           }
          ]
         }
        },
        {
         "name": "accelMeans3",
         "dtype": "float64",
         "stats": {
          "unique_count": 283,
          "nan_count": 3,
          "min": "-756.0",
          "max": "1034.6666666666667",
          "histogram": [
           {
            "bin_start": -756,
            "bin_end": -576.9333333333334,
            "count": 3
           },
           {
            "bin_start": -576.9333333333334,
            "bin_end": -397.8666666666667,
            "count": 2
           },
           {
            "bin_start": -397.8666666666667,
            "bin_end": -218.79999999999995,
            "count": 10
           },
           {
            "bin_start": -218.79999999999995,
            "bin_end": -39.73333333333335,
            "count": 37
           },
           {
            "bin_start": -39.73333333333335,
            "bin_end": 139.33333333333326,
            "count": 470
           },
           {
            "bin_start": 139.33333333333326,
            "bin_end": 318.4000000000001,
            "count": 20
           },
           {
            "bin_start": 318.4000000000001,
            "bin_end": 497.4666666666667,
            "count": 10
           },
           {
            "bin_start": 497.4666666666667,
            "bin_end": 676.5333333333333,
            "count": 1
           },
           {
            "bin_start": 676.5333333333333,
            "bin_end": 855.5999999999999,
            "count": 0
           },
           {
            "bin_start": 855.5999999999999,
            "bin_end": 1034.6666666666667,
            "count": 4
           }
          ]
         }
        },
        {
         "name": "_deepnote_index_column",
         "dtype": "int64"
        }
       ],
       "rows_top": [
        {
         "index": 26377,
         "Date": "2020-03-12",
         "N": 3,
         "vel": "nan",
         "acc": "nan",
         "accelMeans14": "nan",
         "accelMeans7": "nan",
         "accelMeans3": "nan",
         "_deepnote_index_column": 0
        },
        {
         "index": 26378,
         "Date": "2020-03-13",
         "N": 1,
         "vel": -2,
         "acc": "nan",
         "accelMeans14": "nan",
         "accelMeans7": "nan",
         "accelMeans3": "nan",
         "_deepnote_index_column": 1
        },
        {
         "index": 26379,
         "Date": "2020-03-14",
         "N": 0,
         "vel": -1,
         "acc": 1,
         "accelMeans14": "nan",
         "accelMeans7": "nan",
         "accelMeans3": "nan",
         "_deepnote_index_column": 2
        },
        {
         "index": 26380,
         "Date": "2020-03-15",
         "N": 0,
         "vel": 0,
         "acc": 1,
         "accelMeans14": "nan",
         "accelMeans7": "nan",
         "accelMeans3": -1,
         "_deepnote_index_column": 3
        },
        {
         "index": 26381,
         "Date": "2020-03-16",
         "N": 0,
         "vel": 0,
         "acc": 0,
         "accelMeans14": "nan",
         "accelMeans7": "nan",
         "accelMeans3": -0.3333333333333333,
         "_deepnote_index_column": 4
        },
        {
         "index": 26382,
         "Date": "2020-03-17",
         "N": 1,
         "vel": 1,
         "acc": 1,
         "accelMeans14": "nan",
         "accelMeans7": "nan",
         "accelMeans3": 0.3333333333333333,
         "_deepnote_index_column": 5
        },
        {
         "index": 26383,
         "Date": "2020-03-18",
         "N": 2,
         "vel": 1,
         "acc": 0,
         "accelMeans14": "nan",
         "accelMeans7": "nan",
         "accelMeans3": 0.6666666666666666,
         "_deepnote_index_column": 6
        },
        {
         "index": 26384,
         "Date": "2020-03-19",
         "N": 4,
         "vel": 2,
         "acc": 1,
         "accelMeans14": "nan",
         "accelMeans7": 0.14285714285714285,
         "accelMeans3": 1.3333333333333333,
         "_deepnote_index_column": 7
        },
        {
         "index": 26385,
         "Date": "2020-03-20",
         "N": 5,
         "vel": 1,
         "acc": -1,
         "accelMeans14": "nan",
         "accelMeans7": 0.5714285714285714,
         "accelMeans3": 1.3333333333333333,
         "_deepnote_index_column": 8
        },
        {
         "index": 26386,
         "Date": "2020-03-21",
         "N": 5,
         "vel": 0,
         "acc": -1,
         "accelMeans14": "nan",
         "accelMeans7": 0.7142857142857143,
         "accelMeans3": 1,
         "_deepnote_index_column": 9
        },
        {
         "index": 26387,
         "Date": "2020-03-22",
         "N": 14,
         "vel": 9,
         "acc": 9,
         "accelMeans14": "nan",
         "accelMeans7": 2,
         "accelMeans3": 3.3333333333333335,
         "_deepnote_index_column": 10
        },
        {
         "index": 26388,
         "Date": "2020-03-23",
         "N": 5,
         "vel": -9,
         "acc": -18,
         "accelMeans14": "nan",
         "accelMeans7": 0.7142857142857143,
         "accelMeans3": 0,
         "_deepnote_index_column": 11
        },
        {
         "index": 26389,
         "Date": "2020-03-24",
         "N": 8,
         "vel": 3,
         "acc": 12,
         "accelMeans14": "nan",
         "accelMeans7": 1,
         "accelMeans3": 1,
         "_deepnote_index_column": 12
        },
        {
         "index": 26390,
         "Date": "2020-03-25",
         "N": 9,
         "vel": 1,
         "acc": -2,
         "accelMeans14": "nan",
         "accelMeans7": 1,
         "accelMeans3": -1.6666666666666667,
         "_deepnote_index_column": 13
        },
        {
         "index": 26391,
         "Date": "2020-03-26",
         "N": 10,
         "vel": 1,
         "acc": 0,
         "accelMeans14": 0.5,
         "accelMeans7": 0.8571428571428571,
         "accelMeans3": 1.6666666666666667,
         "_deepnote_index_column": 14
        },
        {
         "index": 26392,
         "Date": "2020-03-27",
         "N": 13,
         "vel": 3,
         "acc": 2,
         "accelMeans14": 0.8571428571428571,
         "accelMeans7": 1.1428571428571428,
         "accelMeans3": 1.6666666666666667,
         "_deepnote_index_column": 15
        },
        {
         "index": 26393,
         "Date": "2020-03-28",
         "N": 39,
         "vel": 26,
         "acc": 23,
         "accelMeans14": 2.7857142857142856,
         "accelMeans7": 4.857142857142857,
         "accelMeans3": 10,
         "_deepnote_index_column": 16
        },
        {
         "index": 26394,
         "Date": "2020-03-29",
         "N": 20,
         "vel": -19,
         "acc": -45,
         "accelMeans14": 1.4285714285714286,
         "accelMeans7": 0.8571428571428571,
         "accelMeans3": 3.3333333333333335,
         "_deepnote_index_column": 17
        },
        {
         "index": 26395,
         "Date": "2020-03-30",
         "N": 31,
         "vel": 11,
         "acc": 30,
         "accelMeans14": 2.2142857142857144,
         "accelMeans7": 3.7142857142857144,
         "accelMeans3": 6,
         "_deepnote_index_column": 18
        },
        {
         "index": 26396,
         "Date": "2020-03-31",
         "N": 16,
         "vel": -15,
         "acc": -26,
         "accelMeans14": 1.0714285714285714,
         "accelMeans7": 1.1428571428571428,
         "accelMeans3": -7.666666666666667,
         "_deepnote_index_column": 19
        },
        {
         "index": 26397,
         "Date": "2020-04-01",
         "N": 26,
         "vel": 10,
         "acc": 25,
         "accelMeans14": 1.7142857142857142,
         "accelMeans7": 2.4285714285714284,
         "accelMeans3": 2,
         "_deepnote_index_column": 20
        },
        {
         "index": 26398,
         "Date": "2020-04-02",
         "N": 21,
         "vel": -5,
         "acc": -15,
         "accelMeans14": 1.2142857142857142,
         "accelMeans7": 1.5714285714285714,
         "accelMeans3": -3.3333333333333335,
         "_deepnote_index_column": 21
        },
        {
         "index": 26399,
         "Date": "2020-04-03",
         "N": 36,
         "vel": 15,
         "acc": 20,
         "accelMeans14": 2.2142857142857144,
         "accelMeans7": 3.2857142857142856,
         "accelMeans3": 6.666666666666667,
         "_deepnote_index_column": 22
        },
        {
         "index": 26400,
         "Date": "2020-04-04",
         "N": 19,
         "vel": -17,
         "acc": -32,
         "accelMeans14": 1,
         "accelMeans7": -2.857142857142857,
         "accelMeans3": -2.3333333333333335,
         "_deepnote_index_column": 23
        },
        {
         "index": 26401,
         "Date": "2020-04-05",
         "N": 32,
         "vel": 13,
         "acc": 30,
         "accelMeans14": 1.2857142857142858,
         "accelMeans7": 1.7142857142857142,
         "accelMeans3": 3.6666666666666665,
         "_deepnote_index_column": 24
        },
        {
         "index": 26402,
         "Date": "2020-04-06",
         "N": 30,
         "vel": -2,
         "acc": -15,
         "accelMeans14": 1.7857142857142858,
         "accelMeans7": -0.14285714285714285,
         "accelMeans3": -2,
         "_deepnote_index_column": 25
        },
        {
         "index": 26403,
         "Date": "2020-04-07",
         "N": 46,
         "vel": 16,
         "acc": 18,
         "accelMeans14": 2.7142857142857144,
         "accelMeans7": 4.285714285714286,
         "accelMeans3": 9,
         "_deepnote_index_column": 26
        },
        {
         "index": 26404,
         "Date": "2020-04-08",
         "N": 61,
         "vel": 15,
         "acc": -1,
         "accelMeans14": 3.7142857142857144,
         "accelMeans7": 5,
         "accelMeans3": 9.666666666666666,
         "_deepnote_index_column": 27
        },
        {
         "index": 26405,
         "Date": "2020-04-09",
         "N": 58,
         "vel": -3,
         "acc": -18,
         "accelMeans14": 3.4285714285714284,
         "accelMeans7": 5.285714285714286,
         "accelMeans3": 9.333333333333334,
         "_deepnote_index_column": 28
        },
        {
         "index": 26406,
         "Date": "2020-04-10",
         "N": 49,
         "vel": -9,
         "acc": -6,
         "accelMeans14": 2.5714285714285716,
         "accelMeans7": 1.8571428571428572,
         "accelMeans3": 1,
         "_deepnote_index_column": 29
        },
        {
         "index": 26407,
         "Date": "2020-04-11",
         "N": 56,
         "vel": 7,
         "acc": 16,
         "accelMeans14": 1.2142857142857142,
         "accelMeans7": 5.285714285714286,
         "accelMeans3": -1.6666666666666667,
         "_deepnote_index_column": 30
        },
        {
         "index": 26408,
         "Date": "2020-04-12",
         "N": 49,
         "vel": -7,
         "acc": -14,
         "accelMeans14": 2.0714285714285716,
         "accelMeans7": 2.4285714285714284,
         "accelMeans3": -3,
         "_deepnote_index_column": 31
        },
        {
         "index": 26409,
         "Date": "2020-04-13",
         "N": 57,
         "vel": 8,
         "acc": 15,
         "accelMeans14": 1.8571428571428572,
         "accelMeans7": 3.857142857142857,
         "accelMeans3": 2.6666666666666665,
         "_deepnote_index_column": 32
        },
        {
         "index": 26410,
         "Date": "2020-04-14",
         "N": 40,
         "vel": -17,
         "acc": -25,
         "accelMeans14": 1.7142857142857142,
         "accelMeans7": -0.8571428571428571,
         "accelMeans3": -5.333333333333333,
         "_deepnote_index_column": 33
        },
        {
         "index": 26411,
         "Date": "2020-04-15",
         "N": 48,
         "vel": 8,
         "acc": 25,
         "accelMeans14": 1.5714285714285714,
         "accelMeans7": -1.8571428571428572,
         "accelMeans3": -0.3333333333333333,
         "_deepnote_index_column": 34
        },
        {
         "index": 26412,
         "Date": "2020-04-16",
         "N": 48,
         "vel": 0,
         "acc": -8,
         "accelMeans14": 1.9285714285714286,
         "accelMeans7": -1.4285714285714286,
         "accelMeans3": -3,
         "_deepnote_index_column": 35
        },
        {
         "index": 26413,
         "Date": "2020-04-17",
         "N": 61,
         "vel": 13,
         "acc": 13,
         "accelMeans14": 1.7857142857142858,
         "accelMeans7": 1.7142857142857142,
         "accelMeans3": 7,
         "_deepnote_index_column": 36
        },
        {
         "index": 26414,
         "Date": "2020-04-18",
         "N": 63,
         "vel": 2,
         "acc": -11,
         "accelMeans14": 3.142857142857143,
         "accelMeans7": 1,
         "accelMeans3": 5,
         "_deepnote_index_column": 37
        },
        {
         "index": 26415,
         "Date": "2020-04-19",
         "N": 49,
         "vel": -14,
         "acc": -16,
         "accelMeans14": 1.2142857142857142,
         "accelMeans7": 0,
         "accelMeans3": 0.3333333333333333,
         "_deepnote_index_column": 38
        },
        {
         "index": 26416,
         "Date": "2020-04-20",
         "N": 52,
         "vel": 3,
         "acc": 17,
         "accelMeans14": 1.5714285714285714,
         "accelMeans7": -0.7142857142857143,
         "accelMeans3": -3,
         "_deepnote_index_column": 39
        },
        {
         "index": 26417,
         "Date": "2020-04-21",
         "N": 50,
         "vel": -2,
         "acc": -5,
         "accelMeans14": 0.2857142857142857,
         "accelMeans7": 1.4285714285714286,
         "accelMeans3": -4.333333333333333,
         "_deepnote_index_column": 40
        },
        {
         "index": 26418,
         "Date": "2020-04-22",
         "N": 52,
         "vel": 2,
         "acc": 4,
         "accelMeans14": -0.6428571428571429,
         "accelMeans7": 0.5714285714285714,
         "accelMeans3": 1,
         "_deepnote_index_column": 41
        },
        {
         "index": 26419,
         "Date": "2020-04-23",
         "N": 46,
         "vel": -6,
         "acc": -8,
         "accelMeans14": -0.8571428571428571,
         "accelMeans7": -0.2857142857142857,
         "accelMeans3": -2,
         "_deepnote_index_column": 42
        },
        {
         "index": 26420,
         "Date": "2020-04-24",
         "N": 50,
         "vel": 4,
         "acc": 10,
         "accelMeans14": 0.07142857142857142,
         "accelMeans7": -1.5714285714285714,
         "accelMeans3": 0,
         "_deepnote_index_column": 43
        },
        {
         "index": 26421,
         "Date": "2020-04-25",
         "N": 52,
         "vel": 2,
         "acc": -2,
         "accelMeans14": -0.2857142857142857,
         "accelMeans7": -1.5714285714285714,
         "accelMeans3": 0,
         "_deepnote_index_column": 44
        },
        {
         "index": 26422,
         "Date": "2020-04-26",
         "N": 32,
         "vel": -20,
         "acc": -22,
         "accelMeans14": -1.2142857142857142,
         "accelMeans7": -2.4285714285714284,
         "accelMeans3": -4.666666666666667,
         "_deepnote_index_column": 45
        },
        {
         "index": 26423,
         "Date": "2020-04-27",
         "N": 20,
         "vel": -12,
         "acc": 8,
         "accelMeans14": -2.642857142857143,
         "accelMeans7": -4.571428571428571,
         "accelMeans3": -10,
         "_deepnote_index_column": 46
        },
        {
         "index": 26424,
         "Date": "2020-04-28",
         "N": 48,
         "vel": 28,
         "acc": 40,
         "accelMeans14": 0.5714285714285714,
         "accelMeans7": -0.2857142857142857,
         "accelMeans3": -1.3333333333333333,
         "_deepnote_index_column": 47
        },
        {
         "index": 26425,
         "Date": "2020-04-29",
         "N": 30,
         "vel": -18,
         "acc": -46,
         "accelMeans14": -1.2857142857142858,
         "accelMeans7": -3.142857142857143,
         "accelMeans3": -0.6666666666666666,
         "_deepnote_index_column": 48
        },
        {
         "index": 26426,
         "Date": "2020-04-30",
         "N": 34,
         "vel": 4,
         "acc": 22,
         "accelMeans14": -1,
         "accelMeans7": -1.7142857142857142,
         "accelMeans3": 4.666666666666667,
         "_deepnote_index_column": 49
        },
        {
         "index": 26427,
         "Date": "2020-05-01",
         "N": 36,
         "vel": 2,
         "acc": -2,
         "accelMeans14": -1.7857142857142858,
         "accelMeans7": -2,
         "accelMeans3": -4,
         "_deepnote_index_column": 50
        },
        {
         "index": 26428,
         "Date": "2020-05-02",
         "N": 74,
         "vel": 38,
         "acc": 36,
         "accelMeans14": 0.7857142857142857,
         "accelMeans7": 3.142857142857143,
         "accelMeans3": 14.666666666666666,
         "_deepnote_index_column": 51
        },
        {
         "index": 26429,
         "Date": "2020-05-03",
         "N": 38,
         "vel": -36,
         "acc": -74,
         "accelMeans14": -0.7857142857142857,
         "accelMeans7": 0.8571428571428571,
         "accelMeans3": 1.3333333333333333,
         "_deepnote_index_column": 52
        },
        {
         "index": 26430,
         "Date": "2020-05-04",
         "N": 19,
         "vel": -19,
         "acc": 17,
         "accelMeans14": -2.357142857142857,
         "accelMeans7": -0.14285714285714285,
         "accelMeans3": -5.666666666666667,
         "_deepnote_index_column": 53
        },
        {
         "index": 26431,
         "Date": "2020-05-05",
         "N": 17,
         "vel": -2,
         "acc": 17,
         "accelMeans14": -2.357142857142857,
         "accelMeans7": -4.428571428571429,
         "accelMeans3": -19,
         "_deepnote_index_column": 54
        },
        {
         "index": 26432,
         "Date": "2020-05-06",
         "N": 18,
         "vel": 1,
         "acc": 3,
         "accelMeans14": -2.4285714285714284,
         "accelMeans7": -1.7142857142857142,
         "accelMeans3": -6.666666666666667,
         "_deepnote_index_column": 55
        },
        {
         "index": 26433,
         "Date": "2020-05-07",
         "N": 26,
         "vel": 8,
         "acc": 7,
         "accelMeans14": -1.4285714285714286,
         "accelMeans7": -1.1428571428571428,
         "accelMeans3": 2.3333333333333335,
         "_deepnote_index_column": 56
        },
        {
         "index": 26434,
         "Date": "2020-05-08",
         "N": 12,
         "vel": -14,
         "acc": -22,
         "accelMeans14": -2.7142857142857144,
         "accelMeans7": -3.4285714285714284,
         "accelMeans3": -1.6666666666666667,
         "_deepnote_index_column": 57
        },
        {
         "index": 26435,
         "Date": "2020-05-09",
         "N": 13,
         "vel": 1,
         "acc": 15,
         "accelMeans14": -2.7857142857142856,
         "accelMeans7": -8.714285714285714,
         "accelMeans3": -1.6666666666666667,
         "_deepnote_index_column": 58
        },
        {
         "index": 26436,
         "Date": "2020-05-10",
         "N": 12,
         "vel": -1,
         "acc": -2,
         "accelMeans14": -1.4285714285714286,
         "accelMeans7": -3.7142857142857144,
         "accelMeans3": -4.666666666666667,
         "_deepnote_index_column": 59
        },
        {
         "index": 26437,
         "Date": "2020-05-11",
         "N": 17,
         "vel": 5,
         "acc": 6,
         "accelMeans14": -0.21428571428571427,
         "accelMeans7": -0.2857142857142857,
         "accelMeans3": 1.6666666666666667,
         "_deepnote_index_column": 60
        },
        {
         "index": 26438,
         "Date": "2020-05-12",
         "N": 21,
         "vel": 4,
         "acc": -1,
         "accelMeans14": -1.9285714285714286,
         "accelMeans7": 0.5714285714285714,
         "accelMeans3": 2.6666666666666665,
         "_deepnote_index_column": 61
        }
       ],
       "rows_bottom": [
        {
         "index": 26874,
         "Date": "2021-07-22",
         "N": 7745,
         "vel": 1340,
         "acc": 992,
         "accelMeans14": 280.42857142857144,
         "accelMeans7": 180.85714285714286,
         "accelMeans3": 413.3333333333333,
         "_deepnote_index_column": 497
        },
        {
         "index": 26875,
         "Date": "2021-07-23",
         "N": 7784,
         "vel": 39,
         "acc": -1301,
         "accelMeans14": 97.28571428571429,
         "accelMeans7": 189.14285714285714,
         "accelMeans3": 575.6666666666666,
         "_deepnote_index_column": 498
        },
        {
         "index": 26876,
         "Date": "2021-07-24",
         "N": 7732,
         "vel": -52,
         "acc": -91,
         "accelMeans14": 70.14285714285714,
         "accelMeans7": 238.57142857142858,
         "accelMeans3": 442.3333333333333,
         "_deepnote_index_column": 499
        },
        {
         "index": 26877,
         "Date": "2021-07-25",
         "N": 8853,
         "vel": 1121,
         "acc": 1173,
         "accelMeans14": 137.85714285714286,
         "accelMeans7": 367.7142857142857,
         "accelMeans3": 369.3333333333333,
         "_deepnote_index_column": 500
        },
        {
         "index": 26878,
         "Date": "2021-07-26",
         "N": 8184,
         "vel": -669,
         "acc": -1790,
         "accelMeans14": 125.78571428571429,
         "accelMeans7": 239.85714285714286,
         "accelMeans3": 133.33333333333334,
         "_deepnote_index_column": 501
        },
        {
         "index": 26879,
         "Date": "2021-07-27",
         "N": 7903,
         "vel": -281,
         "acc": 388,
         "accelMeans14": 163.57142857142858,
         "accelMeans7": 263.7142857142857,
         "accelMeans3": 57,
         "_deepnote_index_column": 502
        },
        {
         "index": 26880,
         "Date": "2021-07-28",
         "N": 9323,
         "vel": 1420,
         "acc": 1701,
         "accelMeans14": 231.64285714285714,
         "accelMeans7": 416.85714285714283,
         "accelMeans3": 156.66666666666666,
         "_deepnote_index_column": 503
        },
        {
         "index": 26881,
         "Date": "2021-07-29",
         "N": 8607,
         "vel": -716,
         "acc": -2136,
         "accelMeans14": 152,
         "accelMeans7": 123.14285714285714,
         "accelMeans3": 141,
         "_deepnote_index_column": 504
        },
        {
         "index": 26882,
         "Date": "2021-07-30",
         "N": 8736,
         "vel": 129,
         "acc": 845,
         "accelMeans14": 162.57142857142858,
         "accelMeans7": 136,
         "accelMeans3": 277.6666666666667,
         "_deepnote_index_column": 505
        },
        {
         "index": 26883,
         "Date": "2021-07-31",
         "N": 8875,
         "vel": 139,
         "acc": 10,
         "accelMeans14": 200.92857142857142,
         "accelMeans7": 163.28571428571428,
         "accelMeans3": -149.33333333333334,
         "_deepnote_index_column": 506
        },
        {
         "index": 26884,
         "Date": "2021-08-01",
         "N": 9747,
         "vel": 872,
         "acc": 733,
         "accelMeans14": 247.71428571428572,
         "accelMeans7": 127.71428571428571,
         "accelMeans3": 380,
         "_deepnote_index_column": 507
        },
        {
         "index": 26885,
         "Date": "2021-08-02",
         "N": 9279,
         "vel": -468,
         "acc": -1340,
         "accelMeans14": 198.14285714285714,
         "accelMeans7": 156.42857142857142,
         "accelMeans3": 181,
         "_deepnote_index_column": 508
        },
        {
         "index": 26886,
         "Date": "2021-08-03",
         "N": 9629,
         "vel": 350,
         "acc": 818,
         "accelMeans14": 255.14285714285714,
         "accelMeans7": 246.57142857142858,
         "accelMeans3": 251.33333333333334,
         "_deepnote_index_column": 509
        },
        {
         "index": 26887,
         "Date": "2021-08-04",
         "N": 9363,
         "vel": -266,
         "acc": -616,
         "accelMeans14": 211.28571428571428,
         "accelMeans7": 5.714285714285714,
         "accelMeans3": -128,
         "_deepnote_index_column": 510
        },
        {
         "index": 26888,
         "Date": "2021-08-05",
         "N": 8399,
         "vel": -964,
         "acc": -698,
         "accelMeans14": 46.714285714285715,
         "accelMeans7": -29.714285714285715,
         "accelMeans3": -293.3333333333333,
         "_deepnote_index_column": 511
        },
        {
         "index": 26889,
         "Date": "2021-08-06",
         "N": 8886,
         "vel": 487,
         "acc": 1451,
         "accelMeans14": 78.71428571428571,
         "accelMeans7": 21.428571428571427,
         "accelMeans3": -247.66666666666666,
         "_deepnote_index_column": 512
        },
        {
         "index": 26890,
         "Date": "2021-08-07",
         "N": 8893,
         "vel": 7,
         "acc": -480,
         "accelMeans14": 82.92857142857143,
         "accelMeans7": 2.5714285714285716,
         "accelMeans3": -156.66666666666666,
         "_deepnote_index_column": 513
        },
        {
         "index": 26891,
         "Date": "2021-08-08",
         "N": 9427,
         "vel": 534,
         "acc": 527,
         "accelMeans14": 41,
         "accelMeans7": -45.714285714285715,
         "accelMeans3": 342.6666666666667,
         "_deepnote_index_column": 514
        },
        {
         "index": 26892,
         "Date": "2021-08-09",
         "N": 7950,
         "vel": -1477,
         "acc": -2011,
         "accelMeans14": -16.714285714285715,
         "accelMeans7": -189.85714285714286,
         "accelMeans3": -312,
         "_deepnote_index_column": 515
        },
        {
         "index": 26893,
         "Date": "2021-08-10",
         "N": 8936,
         "vel": 986,
         "acc": 2463,
         "accelMeans14": 73.78571428571429,
         "accelMeans7": -99,
         "accelMeans3": 14.333333333333334,
         "_deepnote_index_column": 516
        },
        {
         "index": 26894,
         "Date": "2021-08-11",
         "N": 8605,
         "vel": -331,
         "acc": -1317,
         "accelMeans14": -51.285714285714285,
         "accelMeans7": -108.28571428571429,
         "accelMeans3": -274,
         "_deepnote_index_column": 517
        },
        {
         "index": 26895,
         "Date": "2021-08-12",
         "N": 8194,
         "vel": -411,
         "acc": -80,
         "accelMeans14": -29.5,
         "accelMeans7": -29.285714285714285,
         "accelMeans3": 81.33333333333333,
         "_deepnote_index_column": 518
        },
        {
         "index": 26896,
         "Date": "2021-08-13",
         "N": 8312,
         "vel": 118,
         "acc": 529,
         "accelMeans14": -30.285714285714285,
         "accelMeans7": -82,
         "accelMeans3": -208,
         "_deepnote_index_column": 519
        },
        {
         "index": 26897,
         "Date": "2021-08-14",
         "N": 8816,
         "vel": 504,
         "acc": 386,
         "accelMeans14": -4.214285714285714,
         "accelMeans7": -11,
         "accelMeans3": 70.33333333333333,
         "_deepnote_index_column": 520
        },
        {
         "index": 26898,
         "Date": "2021-08-15",
         "N": 8636,
         "vel": -180,
         "acc": -684,
         "accelMeans14": -79.35714285714286,
         "accelMeans7": -113,
         "accelMeans3": 147.33333333333334,
         "_deepnote_index_column": 521
        },
        {
         "index": 26899,
         "Date": "2021-08-16",
         "N": 9169,
         "vel": 533,
         "acc": 713,
         "accelMeans14": -7.857142857142857,
         "accelMeans7": 174.14285714285714,
         "accelMeans3": 285.6666666666667,
         "_deepnote_index_column": 522
        },
        {
         "index": 26900,
         "Date": "2021-08-17",
         "N": 9772,
         "vel": 603,
         "acc": 70,
         "accelMeans14": 10.214285714285714,
         "accelMeans7": 119.42857142857143,
         "accelMeans3": 318.6666666666667,
         "_deepnote_index_column": 523
        },
        {
         "index": 26901,
         "Date": "2021-08-18",
         "N": 8666,
         "vel": -1106,
         "acc": -1709,
         "accelMeans14": -49.785714285714285,
         "accelMeans7": 8.714285714285714,
         "accelMeans3": 10,
         "_deepnote_index_column": 524
        },
        {
         "index": 26902,
         "Date": "2021-08-19",
         "N": 8972,
         "vel": 306,
         "acc": 1412,
         "accelMeans14": 40.92857142857143,
         "accelMeans7": 111.14285714285714,
         "accelMeans3": -65.66666666666667,
         "_deepnote_index_column": 525
        },
        {
         "index": 26903,
         "Date": "2021-08-20",
         "N": 9764,
         "vel": 792,
         "acc": 486,
         "accelMeans14": 62.714285714285715,
         "accelMeans7": 207.42857142857142,
         "accelMeans3": -2.6666666666666665,
         "_deepnote_index_column": 526
        },
        {
         "index": 26904,
         "Date": "2021-08-21",
         "N": 9740,
         "vel": -24,
         "acc": -816,
         "accelMeans14": 60.5,
         "accelMeans7": 132,
         "accelMeans3": 358,
         "_deepnote_index_column": 527
        },
        {
         "index": 26905,
         "Date": "2021-08-22",
         "N": 9548,
         "vel": -192,
         "acc": -168,
         "accelMeans14": 8.642857142857142,
         "accelMeans7": 130.28571428571428,
         "accelMeans3": 192,
         "_deepnote_index_column": 528
        },
        {
         "index": 26906,
         "Date": "2021-08-23",
         "N": 9320,
         "vel": -228,
         "acc": -36,
         "accelMeans14": 97.85714285714286,
         "accelMeans7": 21.571428571428573,
         "accelMeans3": -148,
         "_deepnote_index_column": 529
        },
        {
         "index": 26907,
         "Date": "2021-08-24",
         "N": 9907,
         "vel": 587,
         "acc": 815,
         "accelMeans14": 69.35714285714286,
         "accelMeans7": 19.285714285714285,
         "accelMeans3": 55.666666666666664,
         "_deepnote_index_column": 530
        },
        {
         "index": 26908,
         "Date": "2021-08-25",
         "N": 8637,
         "vel": -1270,
         "acc": -1857,
         "accelMeans14": 2.2857142857142856,
         "accelMeans7": -4.142857142857143,
         "accelMeans3": -303.6666666666667,
         "_deepnote_index_column": 531
        },
        {
         "index": 26909,
         "Date": "2021-08-26",
         "N": 8509,
         "vel": -128,
         "acc": 1142,
         "accelMeans14": 22.5,
         "accelMeans7": -66.14285714285714,
         "accelMeans3": -270.3333333333333,
         "_deepnote_index_column": 532
        },
        {
         "index": 26910,
         "Date": "2021-08-27",
         "N": 7639,
         "vel": -870,
         "acc": -742,
         "accelMeans14": -48.07142857142857,
         "accelMeans7": -303.57142857142856,
         "accelMeans3": -756,
         "_deepnote_index_column": 533
        },
        {
         "index": 26911,
         "Date": "2021-08-28",
         "N": 6850,
         "vel": -789,
         "acc": 81,
         "accelMeans14": -140.42857142857142,
         "accelMeans7": -412.85714285714283,
         "accelMeans3": -595.6666666666666,
         "_deepnote_index_column": 534
        },
        {
         "index": 26912,
         "Date": "2021-08-29",
         "N": 6277,
         "vel": -573,
         "acc": 216,
         "accelMeans14": -168.5,
         "accelMeans7": -467.2857142857143,
         "accelMeans3": -744,
         "_deepnote_index_column": 535
        },
        {
         "index": 26913,
         "Date": "2021-08-30",
         "N": 6075,
         "vel": -202,
         "acc": 371,
         "accelMeans14": -221,
         "accelMeans7": -463.57142857142856,
         "accelMeans3": -521.3333333333334,
         "_deepnote_index_column": 536
        },
        {
         "index": 26914,
         "Date": "2021-08-31",
         "N": 6342,
         "vel": 267,
         "acc": 469,
         "accelMeans14": -245,
         "accelMeans7": -509.2857142857143,
         "accelMeans3": -169.33333333333334,
         "_deepnote_index_column": 537
        },
        {
         "index": 26915,
         "Date": "2021-09-01",
         "N": 6609,
         "vel": 267,
         "acc": 0,
         "accelMeans14": -146.92857142857142,
         "accelMeans7": -289.7142857142857,
         "accelMeans3": 110.66666666666667,
         "_deepnote_index_column": 538
        },
        {
         "index": 26916,
         "Date": "2021-09-02",
         "N": 6208,
         "vel": -401,
         "acc": -668,
         "accelMeans14": -197.42857142857142,
         "accelMeans7": -328.7142857142857,
         "accelMeans3": 44.333333333333336,
         "_deepnote_index_column": 539
        },
        {
         "index": 26917,
         "Date": "2021-09-03",
         "N": 6927,
         "vel": 719,
         "acc": 1120,
         "accelMeans14": -202.64285714285714,
         "accelMeans7": -101.71428571428571,
         "accelMeans3": 195,
         "_deepnote_index_column": 540
        },
        {
         "index": 26918,
         "Date": "2021-09-04",
         "N": 7854,
         "vel": 927,
         "acc": 208,
         "accelMeans14": -134.71428571428572,
         "accelMeans7": 143.42857142857142,
         "accelMeans3": 415,
         "_deepnote_index_column": 541
        },
        {
         "index": 26919,
         "Date": "2021-09-05",
         "N": 9221,
         "vel": 1367,
         "acc": 440,
         "accelMeans14": -23.357142857142858,
         "accelMeans7": 420.57142857142856,
         "accelMeans3": 1004.3333333333334,
         "_deepnote_index_column": 542
        },
        {
         "index": 26920,
         "Date": "2021-09-06",
         "N": 7230,
         "vel": -1991,
         "acc": -3358,
         "accelMeans14": -149.28571428571428,
         "accelMeans7": 165,
         "accelMeans3": 101,
         "_deepnote_index_column": 543
        },
        {
         "index": 26921,
         "Date": "2021-09-07",
         "N": 7771,
         "vel": 541,
         "acc": 2532,
         "accelMeans14": -152.57142857142858,
         "accelMeans7": 204.14285714285714,
         "accelMeans3": -27.666666666666668,
         "_deepnote_index_column": 544
        },
        {
         "index": 26922,
         "Date": "2021-09-08",
         "N": 8317,
         "vel": 546,
         "acc": 5,
         "accelMeans14": -22.857142857142858,
         "accelMeans7": 244,
         "accelMeans3": -301.3333333333333,
         "_deepnote_index_column": 545
        },
        {
         "index": 26923,
         "Date": "2021-09-09",
         "N": 7747,
         "vel": -570,
         "acc": -1116,
         "accelMeans14": -54.42857142857143,
         "accelMeans7": 219.85714285714286,
         "accelMeans3": 172.33333333333334,
         "_deepnote_index_column": 546
        },
        {
         "index": 26924,
         "Date": "2021-09-10",
         "N": 8394,
         "vel": 647,
         "acc": 1217,
         "accelMeans14": 53.92857142857143,
         "accelMeans7": 209.57142857142858,
         "accelMeans3": 207.66666666666666,
         "_deepnote_index_column": 547
        },
        {
         "index": 26925,
         "Date": "2021-09-11",
         "N": 8035,
         "vel": -359,
         "acc": -1006,
         "accelMeans14": 84.64285714285714,
         "accelMeans7": 25.857142857142858,
         "accelMeans3": -94,
         "_deepnote_index_column": 548
        },
        {
         "index": 26926,
         "Date": "2021-09-12",
         "N": 8034,
         "vel": -1,
         "acc": 358,
         "accelMeans14": 125.5,
         "accelMeans7": -169.57142857142858,
         "accelMeans3": 95.66666666666667,
         "_deepnote_index_column": 549
        },
        {
         "index": 26927,
         "Date": "2021-09-13",
         "N": 8342,
         "vel": 308,
         "acc": 309,
         "accelMeans14": 161.92857142857142,
         "accelMeans7": 158.85714285714286,
         "accelMeans3": -17.333333333333332,
         "_deepnote_index_column": 550
        },
        {
         "index": 26928,
         "Date": "2021-09-14",
         "N": 7516,
         "vel": -826,
         "acc": -1134,
         "accelMeans14": 83.85714285714286,
         "accelMeans7": -36.42857142857143,
         "accelMeans3": -173,
         "_deepnote_index_column": 551
        },
        {
         "index": 26929,
         "Date": "2021-09-15",
         "N": 7437,
         "vel": -79,
         "acc": 747,
         "accelMeans14": 59.142857142857146,
         "accelMeans7": -125.71428571428571,
         "accelMeans3": -199,
         "_deepnote_index_column": 552
        },
        {
         "index": 26930,
         "Date": "2021-09-16",
         "N": 7628,
         "vel": 191,
         "acc": 270,
         "accelMeans14": 101.42857142857143,
         "accelMeans7": -17,
         "accelMeans3": -238,
         "_deepnote_index_column": 553
        },
        {
         "index": 26931,
         "Date": "2021-09-17",
         "N": 8291,
         "vel": 663,
         "acc": 472,
         "accelMeans14": 97.42857142857143,
         "accelMeans7": -14.714285714285714,
         "accelMeans3": 258.3333333333333,
         "_deepnote_index_column": 554
        },
        {
         "index": 26932,
         "Date": "2021-09-18",
         "N": 8517,
         "vel": 226,
         "acc": -437,
         "accelMeans14": 47.357142857142854,
         "accelMeans7": 68.85714285714286,
         "accelMeans3": 360,
         "_deepnote_index_column": 555
        },
        {
         "index": 26933,
         "Date": "2021-09-19",
         "N": 8434,
         "vel": -83,
         "acc": -309,
         "accelMeans14": -56.214285714285715,
         "accelMeans7": 57.142857142857146,
         "accelMeans3": 268.6666666666667,
         "_deepnote_index_column": 556
        },
        {
         "index": 26934,
         "Date": "2021-09-20",
         "N": 8544,
         "vel": 110,
         "acc": 193,
         "accelMeans14": 93.85714285714286,
         "accelMeans7": 28.857142857142858,
         "accelMeans3": 84.33333333333333,
         "_deepnote_index_column": 557
        },
        {
         "index": 26935,
         "Date": "2021-09-21",
         "N": 8289,
         "vel": -255,
         "acc": -365,
         "accelMeans14": 37,
         "accelMeans7": 110.42857142857143,
         "accelMeans3": -76,
         "_deepnote_index_column": 558
        },
        {
         "index": 26936,
         "Date": "2021-09-22",
         "N": 7151,
         "vel": -1138,
         "acc": -883,
         "accelMeans14": -83.28571428571429,
         "accelMeans7": -40.857142857142854,
         "accelMeans3": -427.6666666666667,
         "_deepnote_index_column": 559
        }
       ]
      },
      "text/plain": "     index        Date       N     vel    acc  accelMeans14  accelMeans7  \\\n0    26377  2020-03-12     3.0     NaN    NaN           NaN          NaN   \n1    26378  2020-03-13     1.0    -2.0    NaN           NaN          NaN   \n2    26379  2020-03-14     0.0    -1.0    1.0           NaN          NaN   \n3    26380  2020-03-15     0.0     0.0    1.0           NaN          NaN   \n4    26381  2020-03-16     0.0     0.0    0.0           NaN          NaN   \n..     ...         ...     ...     ...    ...           ...          ...   \n555  26932  2021-09-18  8517.0   226.0 -437.0     47.357143    68.857143   \n556  26933  2021-09-19  8434.0   -83.0 -309.0    -56.214286    57.142857   \n557  26934  2021-09-20  8544.0   110.0  193.0     93.857143    28.857143   \n558  26935  2021-09-21  8289.0  -255.0 -365.0     37.000000   110.428571   \n559  26936  2021-09-22  7151.0 -1138.0 -883.0    -83.285714   -40.857143   \n\n     accelMeans3  \n0            NaN  \n1            NaN  \n2            NaN  \n3      -1.000000  \n4      -0.333333  \n..           ...  \n555   360.000000  \n556   268.666667  \n557    84.333333  \n558   -76.000000  \n559  -427.666667  \n\n[560 rows x 8 columns]",
      "text/html": "<div>\n<style scoped>\n    .dataframe tbody tr th:only-of-type {\n        vertical-align: middle;\n    }\n\n    .dataframe tbody tr th {\n        vertical-align: top;\n    }\n\n    .dataframe thead th {\n        text-align: right;\n    }\n</style>\n<table border=\"1\" class=\"dataframe\">\n  <thead>\n    <tr style=\"text-align: right;\">\n      <th></th>\n      <th>index</th>\n      <th>Date</th>\n      <th>N</th>\n      <th>vel</th>\n      <th>acc</th>\n      <th>accelMeans14</th>\n      <th>accelMeans7</th>\n      <th>accelMeans3</th>\n    </tr>\n  </thead>\n  <tbody>\n    <tr>\n      <th>0</th>\n      <td>26377</td>\n      <td>2020-03-12</td>\n      <td>3.0</td>\n      <td>NaN</td>\n      <td>NaN</td>\n      <td>NaN</td>\n      <td>NaN</td>\n      <td>NaN</td>\n    </tr>\n    <tr>\n      <th>1</th>\n      <td>26378</td>\n      <td>2020-03-13</td>\n      <td>1.0</td>\n      <td>-2.0</td>\n      <td>NaN</td>\n      <td>NaN</td>\n      <td>NaN</td>\n      <td>NaN</td>\n    </tr>\n    <tr>\n      <th>2</th>\n      <td>26379</td>\n      <td>2020-03-14</td>\n      <td>0.0</td>\n      <td>-1.0</td>\n      <td>1.0</td>\n      <td>NaN</td>\n      <td>NaN</td>\n      <td>NaN</td>\n    </tr>\n    <tr>\n      <th>3</th>\n      <td>26380</td>\n      <td>2020-03-15</td>\n      <td>0.0</td>\n      <td>0.0</td>\n      <td>1.0</td>\n      <td>NaN</td>\n      <td>NaN</td>\n      <td>-1.000000</td>\n    </tr>\n    <tr>\n      <th>4</th>\n      <td>26381</td>\n      <td>2020-03-16</td>\n      <td>0.0</td>\n      <td>0.0</td>\n      <td>0.0</td>\n      <td>NaN</td>\n      <td>NaN</td>\n      <td>-0.333333</td>\n    </tr>\n    <tr>\n      <th>...</th>\n      <td>...</td>\n      <td>...</td>\n      <td>...</td>\n      <td>...</td>\n      <td>...</td>\n      <td>...</td>\n      <td>...</td>\n      <td>...</td>\n    </tr>\n    <tr>\n      <th>555</th>\n      <td>26932</td>\n      <td>2021-09-18</td>\n      <td>8517.0</td>\n      <td>226.0</td>\n      <td>-437.0</td>\n      <td>47.357143</td>\n      <td>68.857143</td>\n      <td>360.000000</td>\n    </tr>\n    <tr>\n      <th>556</th>\n      <td>26933</td>\n      <td>2021-09-19</td>\n      <td>8434.0</td>\n      <td>-83.0</td>\n      <td>-309.0</td>\n      <td>-56.214286</td>\n      <td>57.142857</td>\n      <td>268.666667</td>\n    </tr>\n    <tr>\n      <th>557</th>\n      <td>26934</td>\n      <td>2021-09-20</td>\n      <td>8544.0</td>\n      <td>110.0</td>\n      <td>193.0</td>\n      <td>93.857143</td>\n      <td>28.857143</td>\n      <td>84.333333</td>\n    </tr>\n    <tr>\n      <th>558</th>\n      <td>26935</td>\n      <td>2021-09-21</td>\n      <td>8289.0</td>\n      <td>-255.0</td>\n      <td>-365.0</td>\n      <td>37.000000</td>\n      <td>110.428571</td>\n      <td>-76.000000</td>\n    </tr>\n    <tr>\n      <th>559</th>\n      <td>26936</td>\n      <td>2021-09-22</td>\n      <td>7151.0</td>\n      <td>-1138.0</td>\n      <td>-883.0</td>\n      <td>-83.285714</td>\n      <td>-40.857143</td>\n      <td>-427.666667</td>\n    </tr>\n  </tbody>\n</table>\n<p>560 rows × 8 columns</p>\n</div>"
     },
     "metadata": {}
    }
   ],
   "execution_count": null
  },
  {
   "cell_type": "code",
   "metadata": {
    "cell_id": "00002-a441baa8-09ce-418c-87cd-a000232e9873",
    "deepnote_to_be_reexecuted": false,
    "source_hash": "a13ba2b6",
    "execution_start": 1632422559533,
    "execution_millis": 1846,
    "deepnote_cell_type": "code"
   },
   "source": "fig = px.line(cfg, x=\"Date\", y=\"N\", template=chartTemplate)\nfig.update_layout({\"title\": 'Casos - Cienfuegos',\n                   \"xaxis\": {\"title\":\"Días\"},\n                   \"yaxis\": {\"title\":\"Casos\"},\n                   \"showlegend\": False})\n\nfig.show()",
   "outputs": [
    {
     "data": {
      "text/html": "<html>\n<head><meta charset=\"utf-8\" /></head>\n<body>\n    <div>            <script src=\"https://cdnjs.cloudflare.com/ajax/libs/mathjax/2.7.5/MathJax.js?config=TeX-AMS-MML_SVG\"></script><script type=\"text/javascript\">if (window.MathJax) {MathJax.Hub.Config({SVG: {font: \"STIX-Web\"}});}</script>                <script type=\"text/javascript\">window.PlotlyConfig = {MathJaxConfig: 'local'};</script>\n        <script src=\"https://cdn.plot.ly/plotly-2.4.2.min.js\"></script>                <div id=\"0dca0032-cce0-4f3c-94fc-6e9e22d5aa00\" class=\"plotly-graph-div\" style=\"height:525px; width:100%;\"></div>            <script type=\"text/javascript\">                                    window.PLOTLYENV=window.PLOTLYENV || {};                                    if (document.getElementById(\"0dca0032-cce0-4f3c-94fc-6e9e22d5aa00\")) {                    Plotly.newPlot(                        \"0dca0032-cce0-4f3c-94fc-6e9e22d5aa00\",                        [{\"hovertemplate\":\"Date=%{x}<br>N=%{y}<extra></extra>\",\"legendgroup\":\"\",\"line\":{\"color\":\"#636efa\",\"dash\":\"solid\"},\"marker\":{\"symbol\":\"circle\"},\"mode\":\"lines\",\"name\":\"\",\"orientation\":\"v\",\"showlegend\":false,\"type\":\"scatter\",\"x\":[\"2020/03/24\",\"2020/03/27\",\"2020/03/28\",\"2020/03/29\",\"2020/04/01\",\"2020/04/17\",\"2020/04/19\",\"2020/04/21\",\"2020/04/23\",\"2020/04/24\",\"2020/04/26\",\"2020/04/27\",\"2020/04/29\",\"2020/06/26\",\"2020/07/24\",\"2020/07/25\",\"2020/08/04\",\"2020/08/07\",\"2020/08/14\",\"2020/09/03\",\"2020/09/10\",\"2020/11/12\",\"2020/11/18\",\"2020/11/22\",\"2020/11/23\",\"2020/11/24\",\"2020/11/25\",\"2020/11/26\",\"2020/11/27\",\"2020/11/28\",\"2020/11/29\",\"2020/11/30\",\"2020/12/01\",\"2020/12/02\",\"2020/12/03\",\"2020/12/04\",\"2020/12/05\",\"2020/12/06\",\"2020/12/07\",\"2020/12/09\",\"2020/12/10\",\"2020/12/11\",\"2020/12/12\",\"2020/12/13\",\"2020/12/14\",\"2020/12/15\",\"2020/12/17\",\"2020/12/18\",\"2020/12/19\",\"2020/12/20\",\"2020/12/21\",\"2020/12/22\",\"2020/12/23\",\"2020/12/24\",\"2020/12/25\",\"2020/12/26\",\"2020/12/27\",\"2020/12/28\",\"2020/12/29\",\"2020/12/30\",\"2020/12/31\",\"2021/01/02\",\"2021/01/03\",\"2021/01/04\",\"2021/01/05\",\"2021/01/07\",\"2021/01/08\",\"2021/01/09\",\"2021/01/10\",\"2021/01/11\",\"2021/01/12\",\"2021/01/13\",\"2021/01/14\",\"2021/01/15\",\"2021/01/16\",\"2021/01/17\",\"2021/01/18\",\"2021/01/19\",\"2021/01/20\",\"2021/01/21\",\"2021/01/22\",\"2021/01/23\",\"2021/01/24\",\"2021/01/26\",\"2021/01/27\",\"2021/01/28\",\"2021/01/29\",\"2021/01/30\",\"2021/01/31\",\"2021/02/01\",\"2021/02/02\",\"2021/02/03\",\"2021/02/05\",\"2021/02/06\",\"2021/02/07\",\"2021/02/08\",\"2021/02/10\",\"2021/02/11\",\"2021/02/12\",\"2021/02/13\",\"2021/02/14\",\"2021/02/15\",\"2021/02/17\",\"2021/02/18\",\"2021/02/19\",\"2021/02/20\",\"2021/02/21\",\"2021/02/22\",\"2021/02/23\",\"2021/02/24\",\"2021/02/25\",\"2021/02/26\",\"2021/02/27\",\"2021/02/28\",\"2021/03/01\",\"2021/03/02\",\"2021/03/03\",\"2021/03/04\",\"2021/03/05\",\"2021/03/06\",\"2021/03/07\",\"2021/03/08\",\"2021/03/09\",\"2021/03/10\",\"2021/03/11\",\"2021/03/12\",\"2021/03/14\",\"2021/03/15\",\"2021/03/16\",\"2021/03/17\",\"2021/03/18\",\"2021/03/19\",\"2021/03/20\",\"2021/03/21\",\"2021/03/22\",\"2021/03/23\",\"2021/03/24\",\"2021/03/25\",\"2021/03/26\",\"2021/03/27\",\"2021/03/28\",\"2021/03/29\",\"2021/03/30\",\"2021/03/31\",\"2021/04/01\",\"2021/04/02\",\"2021/04/03\",\"2021/04/04\",\"2021/04/05\",\"2021/04/06\",\"2021/04/07\",\"2021/04/08\",\"2021/04/09\",\"2021/04/10\",\"2021/04/11\",\"2021/04/12\",\"2021/04/13\",\"2021/04/14\",\"2021/04/15\",\"2021/04/16\",\"2021/04/17\",\"2021/04/18\",\"2021/04/19\",\"2021/04/20\",\"2021/04/21\",\"2021/04/22\",\"2021/04/23\",\"2021/04/24\",\"2021/04/25\",\"2021/04/26\",\"2021/04/27\",\"2021/04/28\",\"2021/04/29\",\"2021/04/30\",\"2021/05/01\",\"2021/05/02\",\"2021/05/03\",\"2021/05/04\",\"2021/05/05\",\"2021/05/06\",\"2021/05/07\",\"2021/05/08\",\"2021/05/09\",\"2021/05/10\",\"2021/05/11\",\"2021/05/12\",\"2021/05/13\",\"2021/05/14\",\"2021/05/15\",\"2021/05/16\",\"2021/05/17\",\"2021/05/18\",\"2021/05/19\",\"2021/05/20\",\"2021/05/21\",\"2021/05/22\",\"2021/05/23\",\"2021/05/24\",\"2021/05/25\",\"2021/05/26\",\"2021/05/27\",\"2021/05/28\",\"2021/05/29\",\"2021/05/30\",\"2021/05/31\",\"2021/06/01\",\"2021/06/02\",\"2021/06/03\",\"2021/06/04\",\"2021/06/05\",\"2021/06/06\",\"2021/06/07\",\"2021/06/08\",\"2021/06/09\",\"2021/06/10\",\"2021/06/11\",\"2021/06/12\",\"2021/06/13\",\"2021/06/14\",\"2021/06/15\",\"2021/06/16\",\"2021/06/17\",\"2021/06/18\",\"2021/06/19\",\"2021/06/20\",\"2021/06/21\",\"2021/06/22\",\"2021/06/23\",\"2021/06/24\",\"2021/06/25\",\"2021/06/26\",\"2021/06/27\",\"2021/06/28\",\"2021/06/29\",\"2021/06/30\",\"2021/07/01\",\"2021/07/02\",\"2021/07/03\",\"2021/07/04\"],\"xaxis\":\"x\",\"y\":[1,3,1,3,3,1,1,1,4,1,1,2,2,1,1,1,1,3,1,1,3,1,1,2,6,3,3,2,4,14,7,3,2,4,1,2,7,4,5,2,1,4,4,4,4,2,4,9,1,1,10,5,3,4,4,4,4,4,5,1,3,1,3,2,2,11,2,10,2,1,22,9,37,11,63,5,9,29,9,4,3,17,11,3,4,14,16,8,8,5,9,11,14,6,3,7,4,5,9,11,7,11,11,18,2,11,29,2,12,8,7,16,6,8,12,5,14,5,15,13,3,11,6,9,11,9,7,13,11,7,3,15,8,6,5,7,5,23,16,31,20,18,9,27,49,18,11,11,23,22,22,8,19,24,12,18,13,8,13,7,20,10,13,14,12,11,7,13,16,14,12,15,14,3,17,3,13,19,18,17,16,29,18,21,21,17,39,15,74,52,25,54,48,67,36,59,20,72,50,21,36,26,71,47,37,47,27,25,34,36,34,15,37,31,48,66,72,99,40,51,40,68,27,39,55,57,50,53,58,33,68,79,87,66,79,86,87,73,64],\"yaxis\":\"y\"}],                        {\"legend\":{\"tracegroupgap\":0},\"margin\":{\"t\":60},\"showlegend\":false,\"template\":{\"data\":{\"bar\":[{\"error_x\":{\"color\":\"#2a3f5f\"},\"error_y\":{\"color\":\"#2a3f5f\"},\"marker\":{\"line\":{\"color\":\"white\",\"width\":0.5},\"pattern\":{\"fillmode\":\"overlay\",\"size\":10,\"solidity\":0.2}},\"type\":\"bar\"}],\"barpolar\":[{\"marker\":{\"line\":{\"color\":\"white\",\"width\":0.5},\"pattern\":{\"fillmode\":\"overlay\",\"size\":10,\"solidity\":0.2}},\"type\":\"barpolar\"}],\"carpet\":[{\"aaxis\":{\"endlinecolor\":\"#2a3f5f\",\"gridcolor\":\"#C8D4E3\",\"linecolor\":\"#C8D4E3\",\"minorgridcolor\":\"#C8D4E3\",\"startlinecolor\":\"#2a3f5f\"},\"baxis\":{\"endlinecolor\":\"#2a3f5f\",\"gridcolor\":\"#C8D4E3\",\"linecolor\":\"#C8D4E3\",\"minorgridcolor\":\"#C8D4E3\",\"startlinecolor\":\"#2a3f5f\"},\"type\":\"carpet\"}],\"choropleth\":[{\"colorbar\":{\"outlinewidth\":0,\"ticks\":\"\"},\"type\":\"choropleth\"}],\"contour\":[{\"colorbar\":{\"outlinewidth\":0,\"ticks\":\"\"},\"colorscale\":[[0.0,\"#0d0887\"],[0.1111111111111111,\"#46039f\"],[0.2222222222222222,\"#7201a8\"],[0.3333333333333333,\"#9c179e\"],[0.4444444444444444,\"#bd3786\"],[0.5555555555555556,\"#d8576b\"],[0.6666666666666666,\"#ed7953\"],[0.7777777777777778,\"#fb9f3a\"],[0.8888888888888888,\"#fdca26\"],[1.0,\"#f0f921\"]],\"type\":\"contour\"}],\"contourcarpet\":[{\"colorbar\":{\"outlinewidth\":0,\"ticks\":\"\"},\"type\":\"contourcarpet\"}],\"heatmap\":[{\"colorbar\":{\"outlinewidth\":0,\"ticks\":\"\"},\"colorscale\":[[0.0,\"#0d0887\"],[0.1111111111111111,\"#46039f\"],[0.2222222222222222,\"#7201a8\"],[0.3333333333333333,\"#9c179e\"],[0.4444444444444444,\"#bd3786\"],[0.5555555555555556,\"#d8576b\"],[0.6666666666666666,\"#ed7953\"],[0.7777777777777778,\"#fb9f3a\"],[0.8888888888888888,\"#fdca26\"],[1.0,\"#f0f921\"]],\"type\":\"heatmap\"}],\"heatmapgl\":[{\"colorbar\":{\"outlinewidth\":0,\"ticks\":\"\"},\"colorscale\":[[0.0,\"#0d0887\"],[0.1111111111111111,\"#46039f\"],[0.2222222222222222,\"#7201a8\"],[0.3333333333333333,\"#9c179e\"],[0.4444444444444444,\"#bd3786\"],[0.5555555555555556,\"#d8576b\"],[0.6666666666666666,\"#ed7953\"],[0.7777777777777778,\"#fb9f3a\"],[0.8888888888888888,\"#fdca26\"],[1.0,\"#f0f921\"]],\"type\":\"heatmapgl\"}],\"histogram\":[{\"marker\":{\"pattern\":{\"fillmode\":\"overlay\",\"size\":10,\"solidity\":0.2}},\"type\":\"histogram\"}],\"histogram2d\":[{\"colorbar\":{\"outlinewidth\":0,\"ticks\":\"\"},\"colorscale\":[[0.0,\"#0d0887\"],[0.1111111111111111,\"#46039f\"],[0.2222222222222222,\"#7201a8\"],[0.3333333333333333,\"#9c179e\"],[0.4444444444444444,\"#bd3786\"],[0.5555555555555556,\"#d8576b\"],[0.6666666666666666,\"#ed7953\"],[0.7777777777777778,\"#fb9f3a\"],[0.8888888888888888,\"#fdca26\"],[1.0,\"#f0f921\"]],\"type\":\"histogram2d\"}],\"histogram2dcontour\":[{\"colorbar\":{\"outlinewidth\":0,\"ticks\":\"\"},\"colorscale\":[[0.0,\"#0d0887\"],[0.1111111111111111,\"#46039f\"],[0.2222222222222222,\"#7201a8\"],[0.3333333333333333,\"#9c179e\"],[0.4444444444444444,\"#bd3786\"],[0.5555555555555556,\"#d8576b\"],[0.6666666666666666,\"#ed7953\"],[0.7777777777777778,\"#fb9f3a\"],[0.8888888888888888,\"#fdca26\"],[1.0,\"#f0f921\"]],\"type\":\"histogram2dcontour\"}],\"mesh3d\":[{\"colorbar\":{\"outlinewidth\":0,\"ticks\":\"\"},\"type\":\"mesh3d\"}],\"parcoords\":[{\"line\":{\"colorbar\":{\"outlinewidth\":0,\"ticks\":\"\"}},\"type\":\"parcoords\"}],\"pie\":[{\"automargin\":true,\"type\":\"pie\"}],\"scatter\":[{\"marker\":{\"colorbar\":{\"outlinewidth\":0,\"ticks\":\"\"}},\"type\":\"scatter\"}],\"scatter3d\":[{\"line\":{\"colorbar\":{\"outlinewidth\":0,\"ticks\":\"\"}},\"marker\":{\"colorbar\":{\"outlinewidth\":0,\"ticks\":\"\"}},\"type\":\"scatter3d\"}],\"scattercarpet\":[{\"marker\":{\"colorbar\":{\"outlinewidth\":0,\"ticks\":\"\"}},\"type\":\"scattercarpet\"}],\"scattergeo\":[{\"marker\":{\"colorbar\":{\"outlinewidth\":0,\"ticks\":\"\"}},\"type\":\"scattergeo\"}],\"scattergl\":[{\"marker\":{\"colorbar\":{\"outlinewidth\":0,\"ticks\":\"\"}},\"type\":\"scattergl\"}],\"scattermapbox\":[{\"marker\":{\"colorbar\":{\"outlinewidth\":0,\"ticks\":\"\"}},\"type\":\"scattermapbox\"}],\"scatterpolar\":[{\"marker\":{\"colorbar\":{\"outlinewidth\":0,\"ticks\":\"\"}},\"type\":\"scatterpolar\"}],\"scatterpolargl\":[{\"marker\":{\"colorbar\":{\"outlinewidth\":0,\"ticks\":\"\"}},\"type\":\"scatterpolargl\"}],\"scatterternary\":[{\"marker\":{\"colorbar\":{\"outlinewidth\":0,\"ticks\":\"\"}},\"type\":\"scatterternary\"}],\"surface\":[{\"colorbar\":{\"outlinewidth\":0,\"ticks\":\"\"},\"colorscale\":[[0.0,\"#0d0887\"],[0.1111111111111111,\"#46039f\"],[0.2222222222222222,\"#7201a8\"],[0.3333333333333333,\"#9c179e\"],[0.4444444444444444,\"#bd3786\"],[0.5555555555555556,\"#d8576b\"],[0.6666666666666666,\"#ed7953\"],[0.7777777777777778,\"#fb9f3a\"],[0.8888888888888888,\"#fdca26\"],[1.0,\"#f0f921\"]],\"type\":\"surface\"}],\"table\":[{\"cells\":{\"fill\":{\"color\":\"#EBF0F8\"},\"line\":{\"color\":\"white\"}},\"header\":{\"fill\":{\"color\":\"#C8D4E3\"},\"line\":{\"color\":\"white\"}},\"type\":\"table\"}]},\"layout\":{\"annotationdefaults\":{\"arrowcolor\":\"#2a3f5f\",\"arrowhead\":0,\"arrowwidth\":1},\"autotypenumbers\":\"strict\",\"coloraxis\":{\"colorbar\":{\"outlinewidth\":0,\"ticks\":\"\"}},\"colorscale\":{\"diverging\":[[0,\"#8e0152\"],[0.1,\"#c51b7d\"],[0.2,\"#de77ae\"],[0.3,\"#f1b6da\"],[0.4,\"#fde0ef\"],[0.5,\"#f7f7f7\"],[0.6,\"#e6f5d0\"],[0.7,\"#b8e186\"],[0.8,\"#7fbc41\"],[0.9,\"#4d9221\"],[1,\"#276419\"]],\"sequential\":[[0.0,\"#0d0887\"],[0.1111111111111111,\"#46039f\"],[0.2222222222222222,\"#7201a8\"],[0.3333333333333333,\"#9c179e\"],[0.4444444444444444,\"#bd3786\"],[0.5555555555555556,\"#d8576b\"],[0.6666666666666666,\"#ed7953\"],[0.7777777777777778,\"#fb9f3a\"],[0.8888888888888888,\"#fdca26\"],[1.0,\"#f0f921\"]],\"sequentialminus\":[[0.0,\"#0d0887\"],[0.1111111111111111,\"#46039f\"],[0.2222222222222222,\"#7201a8\"],[0.3333333333333333,\"#9c179e\"],[0.4444444444444444,\"#bd3786\"],[0.5555555555555556,\"#d8576b\"],[0.6666666666666666,\"#ed7953\"],[0.7777777777777778,\"#fb9f3a\"],[0.8888888888888888,\"#fdca26\"],[1.0,\"#f0f921\"]]},\"colorway\":[\"#636efa\",\"#EF553B\",\"#00cc96\",\"#ab63fa\",\"#FFA15A\",\"#19d3f3\",\"#FF6692\",\"#B6E880\",\"#FF97FF\",\"#FECB52\"],\"font\":{\"color\":\"#2a3f5f\"},\"geo\":{\"bgcolor\":\"white\",\"lakecolor\":\"white\",\"landcolor\":\"white\",\"showlakes\":true,\"showland\":true,\"subunitcolor\":\"#C8D4E3\"},\"hoverlabel\":{\"align\":\"left\"},\"hovermode\":\"closest\",\"mapbox\":{\"style\":\"light\"},\"paper_bgcolor\":\"white\",\"plot_bgcolor\":\"white\",\"polar\":{\"angularaxis\":{\"gridcolor\":\"#EBF0F8\",\"linecolor\":\"#EBF0F8\",\"ticks\":\"\"},\"bgcolor\":\"white\",\"radialaxis\":{\"gridcolor\":\"#EBF0F8\",\"linecolor\":\"#EBF0F8\",\"ticks\":\"\"}},\"scene\":{\"xaxis\":{\"backgroundcolor\":\"white\",\"gridcolor\":\"#DFE8F3\",\"gridwidth\":2,\"linecolor\":\"#EBF0F8\",\"showbackground\":true,\"ticks\":\"\",\"zerolinecolor\":\"#EBF0F8\"},\"yaxis\":{\"backgroundcolor\":\"white\",\"gridcolor\":\"#DFE8F3\",\"gridwidth\":2,\"linecolor\":\"#EBF0F8\",\"showbackground\":true,\"ticks\":\"\",\"zerolinecolor\":\"#EBF0F8\"},\"zaxis\":{\"backgroundcolor\":\"white\",\"gridcolor\":\"#DFE8F3\",\"gridwidth\":2,\"linecolor\":\"#EBF0F8\",\"showbackground\":true,\"ticks\":\"\",\"zerolinecolor\":\"#EBF0F8\"}},\"shapedefaults\":{\"line\":{\"color\":\"#2a3f5f\"}},\"ternary\":{\"aaxis\":{\"gridcolor\":\"#DFE8F3\",\"linecolor\":\"#A2B1C6\",\"ticks\":\"\"},\"baxis\":{\"gridcolor\":\"#DFE8F3\",\"linecolor\":\"#A2B1C6\",\"ticks\":\"\"},\"bgcolor\":\"white\",\"caxis\":{\"gridcolor\":\"#DFE8F3\",\"linecolor\":\"#A2B1C6\",\"ticks\":\"\"}},\"title\":{\"x\":0.05},\"xaxis\":{\"automargin\":true,\"gridcolor\":\"#EBF0F8\",\"linecolor\":\"#EBF0F8\",\"ticks\":\"\",\"title\":{\"standoff\":15},\"zerolinecolor\":\"#EBF0F8\",\"zerolinewidth\":2},\"yaxis\":{\"automargin\":true,\"gridcolor\":\"#EBF0F8\",\"linecolor\":\"#EBF0F8\",\"ticks\":\"\",\"title\":{\"standoff\":15},\"zerolinecolor\":\"#EBF0F8\",\"zerolinewidth\":2}}},\"title\":{\"text\":\"Casos - Cienfuegos\"},\"xaxis\":{\"anchor\":\"y\",\"domain\":[0.0,1.0],\"title\":{\"text\":\"D\\u00edas\"}},\"yaxis\":{\"anchor\":\"x\",\"domain\":[0.0,1.0],\"title\":{\"text\":\"Casos\"}}},                        {\"responsive\": true}                    ).then(function(){\n                            \nvar gd = document.getElementById('0dca0032-cce0-4f3c-94fc-6e9e22d5aa00');\nvar x = new MutationObserver(function (mutations, observer) {{\n        var display = window.getComputedStyle(gd).display;\n        if (!display || display === 'none') {{\n            console.log([gd, 'removed!']);\n            Plotly.purge(gd);\n            observer.disconnect();\n        }}\n}});\n\n// Listen for the removal of the full notebook cells\nvar notebookContainer = gd.closest('#notebook-container');\nif (notebookContainer) {{\n    x.observe(notebookContainer, {childList: true});\n}}\n\n// Listen for the clearing of the current output cell\nvar outputEl = gd.closest('.output');\nif (outputEl) {{\n    x.observe(outputEl, {childList: true});\n}}\n\n                        })                };                            </script>        </div>\n</body>\n</html>"
     },
     "metadata": {},
     "output_type": "display_data"
    }
   ],
   "execution_count": null
  },
  {
   "cell_type": "code",
   "metadata": {
    "cell_id": "00003-1a9f0a18-c090-435b-9a8d-2432161ca6bb",
    "deepnote_to_be_reexecuted": false,
    "source_hash": "aa9d2f8b",
    "execution_start": 1632422561383,
    "execution_millis": 48,
    "deepnote_cell_type": "code"
   },
   "source": "fig = px.line(cfg, x=\"Date\", y=\"vel\", template=chartTemplate)\n\nfig.update_layout({\"title\": 'Velocidad de casos - Cienfuegos',\n                   \"xaxis\": {\"title\":\"Días\"},\n                   \"yaxis\": {\"title\":\"Casos\"}})\n                   #\"showlegend\": False})\nfig.show()",
   "outputs": [
    {
     "data": {
      "text/html": "<html>\n<head><meta charset=\"utf-8\" /></head>\n<body>\n    <div>            <script src=\"https://cdnjs.cloudflare.com/ajax/libs/mathjax/2.7.5/MathJax.js?config=TeX-AMS-MML_SVG\"></script><script type=\"text/javascript\">if (window.MathJax) {MathJax.Hub.Config({SVG: {font: \"STIX-Web\"}});}</script>                <script type=\"text/javascript\">window.PlotlyConfig = {MathJaxConfig: 'local'};</script>\n        <script src=\"https://cdn.plot.ly/plotly-2.4.2.min.js\"></script>                <div id=\"22f2a0da-f488-40cd-8b81-3eb29d88cda4\" class=\"plotly-graph-div\" style=\"height:525px; width:100%;\"></div>            <script type=\"text/javascript\">                                    window.PLOTLYENV=window.PLOTLYENV || {};                                    if (document.getElementById(\"22f2a0da-f488-40cd-8b81-3eb29d88cda4\")) {                    Plotly.newPlot(                        \"22f2a0da-f488-40cd-8b81-3eb29d88cda4\",                        [{\"hovertemplate\":\"Date=%{x}<br>vel=%{y}<extra></extra>\",\"legendgroup\":\"\",\"line\":{\"color\":\"#636efa\",\"dash\":\"solid\"},\"marker\":{\"symbol\":\"circle\"},\"mode\":\"lines\",\"name\":\"\",\"orientation\":\"v\",\"showlegend\":false,\"type\":\"scatter\",\"x\":[\"2020/03/24\",\"2020/03/27\",\"2020/03/28\",\"2020/03/29\",\"2020/04/01\",\"2020/04/17\",\"2020/04/19\",\"2020/04/21\",\"2020/04/23\",\"2020/04/24\",\"2020/04/26\",\"2020/04/27\",\"2020/04/29\",\"2020/06/26\",\"2020/07/24\",\"2020/07/25\",\"2020/08/04\",\"2020/08/07\",\"2020/08/14\",\"2020/09/03\",\"2020/09/10\",\"2020/11/12\",\"2020/11/18\",\"2020/11/22\",\"2020/11/23\",\"2020/11/24\",\"2020/11/25\",\"2020/11/26\",\"2020/11/27\",\"2020/11/28\",\"2020/11/29\",\"2020/11/30\",\"2020/12/01\",\"2020/12/02\",\"2020/12/03\",\"2020/12/04\",\"2020/12/05\",\"2020/12/06\",\"2020/12/07\",\"2020/12/09\",\"2020/12/10\",\"2020/12/11\",\"2020/12/12\",\"2020/12/13\",\"2020/12/14\",\"2020/12/15\",\"2020/12/17\",\"2020/12/18\",\"2020/12/19\",\"2020/12/20\",\"2020/12/21\",\"2020/12/22\",\"2020/12/23\",\"2020/12/24\",\"2020/12/25\",\"2020/12/26\",\"2020/12/27\",\"2020/12/28\",\"2020/12/29\",\"2020/12/30\",\"2020/12/31\",\"2021/01/02\",\"2021/01/03\",\"2021/01/04\",\"2021/01/05\",\"2021/01/07\",\"2021/01/08\",\"2021/01/09\",\"2021/01/10\",\"2021/01/11\",\"2021/01/12\",\"2021/01/13\",\"2021/01/14\",\"2021/01/15\",\"2021/01/16\",\"2021/01/17\",\"2021/01/18\",\"2021/01/19\",\"2021/01/20\",\"2021/01/21\",\"2021/01/22\",\"2021/01/23\",\"2021/01/24\",\"2021/01/26\",\"2021/01/27\",\"2021/01/28\",\"2021/01/29\",\"2021/01/30\",\"2021/01/31\",\"2021/02/01\",\"2021/02/02\",\"2021/02/03\",\"2021/02/05\",\"2021/02/06\",\"2021/02/07\",\"2021/02/08\",\"2021/02/10\",\"2021/02/11\",\"2021/02/12\",\"2021/02/13\",\"2021/02/14\",\"2021/02/15\",\"2021/02/17\",\"2021/02/18\",\"2021/02/19\",\"2021/02/20\",\"2021/02/21\",\"2021/02/22\",\"2021/02/23\",\"2021/02/24\",\"2021/02/25\",\"2021/02/26\",\"2021/02/27\",\"2021/02/28\",\"2021/03/01\",\"2021/03/02\",\"2021/03/03\",\"2021/03/04\",\"2021/03/05\",\"2021/03/06\",\"2021/03/07\",\"2021/03/08\",\"2021/03/09\",\"2021/03/10\",\"2021/03/11\",\"2021/03/12\",\"2021/03/14\",\"2021/03/15\",\"2021/03/16\",\"2021/03/17\",\"2021/03/18\",\"2021/03/19\",\"2021/03/20\",\"2021/03/21\",\"2021/03/22\",\"2021/03/23\",\"2021/03/24\",\"2021/03/25\",\"2021/03/26\",\"2021/03/27\",\"2021/03/28\",\"2021/03/29\",\"2021/03/30\",\"2021/03/31\",\"2021/04/01\",\"2021/04/02\",\"2021/04/03\",\"2021/04/04\",\"2021/04/05\",\"2021/04/06\",\"2021/04/07\",\"2021/04/08\",\"2021/04/09\",\"2021/04/10\",\"2021/04/11\",\"2021/04/12\",\"2021/04/13\",\"2021/04/14\",\"2021/04/15\",\"2021/04/16\",\"2021/04/17\",\"2021/04/18\",\"2021/04/19\",\"2021/04/20\",\"2021/04/21\",\"2021/04/22\",\"2021/04/23\",\"2021/04/24\",\"2021/04/25\",\"2021/04/26\",\"2021/04/27\",\"2021/04/28\",\"2021/04/29\",\"2021/04/30\",\"2021/05/01\",\"2021/05/02\",\"2021/05/03\",\"2021/05/04\",\"2021/05/05\",\"2021/05/06\",\"2021/05/07\",\"2021/05/08\",\"2021/05/09\",\"2021/05/10\",\"2021/05/11\",\"2021/05/12\",\"2021/05/13\",\"2021/05/14\",\"2021/05/15\",\"2021/05/16\",\"2021/05/17\",\"2021/05/18\",\"2021/05/19\",\"2021/05/20\",\"2021/05/21\",\"2021/05/22\",\"2021/05/23\",\"2021/05/24\",\"2021/05/25\",\"2021/05/26\",\"2021/05/27\",\"2021/05/28\",\"2021/05/29\",\"2021/05/30\",\"2021/05/31\",\"2021/06/01\",\"2021/06/02\",\"2021/06/03\",\"2021/06/04\",\"2021/06/05\",\"2021/06/06\",\"2021/06/07\",\"2021/06/08\",\"2021/06/09\",\"2021/06/10\",\"2021/06/11\",\"2021/06/12\",\"2021/06/13\",\"2021/06/14\",\"2021/06/15\",\"2021/06/16\",\"2021/06/17\",\"2021/06/18\",\"2021/06/19\",\"2021/06/20\",\"2021/06/21\",\"2021/06/22\",\"2021/06/23\",\"2021/06/24\",\"2021/06/25\",\"2021/06/26\",\"2021/06/27\",\"2021/06/28\",\"2021/06/29\",\"2021/06/30\",\"2021/07/01\",\"2021/07/02\",\"2021/07/03\",\"2021/07/04\"],\"xaxis\":\"x\",\"y\":[null,2.0,-2.0,2.0,0.0,-2.0,0.0,0.0,3.0,-3.0,0.0,1.0,0.0,-1.0,0.0,0.0,0.0,2.0,-2.0,0.0,2.0,-2.0,0.0,1.0,4.0,-3.0,0.0,-1.0,2.0,10.0,-7.0,-4.0,-1.0,2.0,-3.0,1.0,5.0,-3.0,1.0,-3.0,-1.0,3.0,0.0,0.0,0.0,-2.0,2.0,5.0,-8.0,0.0,9.0,-5.0,-2.0,1.0,0.0,0.0,0.0,0.0,1.0,-4.0,2.0,-2.0,2.0,-1.0,0.0,9.0,-9.0,8.0,-8.0,-1.0,21.0,-13.0,28.0,-26.0,52.0,-58.0,4.0,20.0,-20.0,-5.0,-1.0,14.0,-6.0,-8.0,1.0,10.0,2.0,-8.0,0.0,-3.0,4.0,2.0,3.0,-8.0,-3.0,4.0,-3.0,1.0,4.0,2.0,-4.0,4.0,0.0,7.0,-16.0,9.0,18.0,-27.0,10.0,-4.0,-1.0,9.0,-10.0,2.0,4.0,-7.0,9.0,-9.0,10.0,-2.0,-10.0,8.0,-5.0,3.0,2.0,-2.0,-2.0,6.0,-2.0,-4.0,-4.0,12.0,-7.0,-2.0,-1.0,2.0,-2.0,18.0,-7.0,15.0,-11.0,-2.0,-9.0,18.0,22.0,-31.0,-7.0,0.0,12.0,-1.0,0.0,-14.0,11.0,5.0,-12.0,6.0,-5.0,-5.0,5.0,-6.0,13.0,-10.0,3.0,1.0,-2.0,-1.0,-4.0,6.0,3.0,-2.0,-2.0,3.0,-1.0,-11.0,14.0,-14.0,10.0,6.0,-1.0,-1.0,-1.0,13.0,-11.0,3.0,0.0,-4.0,22.0,-24.0,59.0,-22.0,-27.0,29.0,-6.0,19.0,-31.0,23.0,-39.0,52.0,-22.0,-29.0,15.0,-10.0,45.0,-24.0,-10.0,10.0,-20.0,-2.0,9.0,2.0,-2.0,-19.0,22.0,-6.0,17.0,18.0,6.0,27.0,-59.0,11.0,-11.0,28.0,-41.0,12.0,16.0,2.0,-7.0,3.0,5.0,-25.0,35.0,11.0,8.0,-21.0,13.0,7.0,1.0,-14.0,-9.0],\"yaxis\":\"y\"}],                        {\"legend\":{\"tracegroupgap\":0},\"margin\":{\"t\":60},\"template\":{\"data\":{\"bar\":[{\"error_x\":{\"color\":\"#2a3f5f\"},\"error_y\":{\"color\":\"#2a3f5f\"},\"marker\":{\"line\":{\"color\":\"white\",\"width\":0.5},\"pattern\":{\"fillmode\":\"overlay\",\"size\":10,\"solidity\":0.2}},\"type\":\"bar\"}],\"barpolar\":[{\"marker\":{\"line\":{\"color\":\"white\",\"width\":0.5},\"pattern\":{\"fillmode\":\"overlay\",\"size\":10,\"solidity\":0.2}},\"type\":\"barpolar\"}],\"carpet\":[{\"aaxis\":{\"endlinecolor\":\"#2a3f5f\",\"gridcolor\":\"#C8D4E3\",\"linecolor\":\"#C8D4E3\",\"minorgridcolor\":\"#C8D4E3\",\"startlinecolor\":\"#2a3f5f\"},\"baxis\":{\"endlinecolor\":\"#2a3f5f\",\"gridcolor\":\"#C8D4E3\",\"linecolor\":\"#C8D4E3\",\"minorgridcolor\":\"#C8D4E3\",\"startlinecolor\":\"#2a3f5f\"},\"type\":\"carpet\"}],\"choropleth\":[{\"colorbar\":{\"outlinewidth\":0,\"ticks\":\"\"},\"type\":\"choropleth\"}],\"contour\":[{\"colorbar\":{\"outlinewidth\":0,\"ticks\":\"\"},\"colorscale\":[[0.0,\"#0d0887\"],[0.1111111111111111,\"#46039f\"],[0.2222222222222222,\"#7201a8\"],[0.3333333333333333,\"#9c179e\"],[0.4444444444444444,\"#bd3786\"],[0.5555555555555556,\"#d8576b\"],[0.6666666666666666,\"#ed7953\"],[0.7777777777777778,\"#fb9f3a\"],[0.8888888888888888,\"#fdca26\"],[1.0,\"#f0f921\"]],\"type\":\"contour\"}],\"contourcarpet\":[{\"colorbar\":{\"outlinewidth\":0,\"ticks\":\"\"},\"type\":\"contourcarpet\"}],\"heatmap\":[{\"colorbar\":{\"outlinewidth\":0,\"ticks\":\"\"},\"colorscale\":[[0.0,\"#0d0887\"],[0.1111111111111111,\"#46039f\"],[0.2222222222222222,\"#7201a8\"],[0.3333333333333333,\"#9c179e\"],[0.4444444444444444,\"#bd3786\"],[0.5555555555555556,\"#d8576b\"],[0.6666666666666666,\"#ed7953\"],[0.7777777777777778,\"#fb9f3a\"],[0.8888888888888888,\"#fdca26\"],[1.0,\"#f0f921\"]],\"type\":\"heatmap\"}],\"heatmapgl\":[{\"colorbar\":{\"outlinewidth\":0,\"ticks\":\"\"},\"colorscale\":[[0.0,\"#0d0887\"],[0.1111111111111111,\"#46039f\"],[0.2222222222222222,\"#7201a8\"],[0.3333333333333333,\"#9c179e\"],[0.4444444444444444,\"#bd3786\"],[0.5555555555555556,\"#d8576b\"],[0.6666666666666666,\"#ed7953\"],[0.7777777777777778,\"#fb9f3a\"],[0.8888888888888888,\"#fdca26\"],[1.0,\"#f0f921\"]],\"type\":\"heatmapgl\"}],\"histogram\":[{\"marker\":{\"pattern\":{\"fillmode\":\"overlay\",\"size\":10,\"solidity\":0.2}},\"type\":\"histogram\"}],\"histogram2d\":[{\"colorbar\":{\"outlinewidth\":0,\"ticks\":\"\"},\"colorscale\":[[0.0,\"#0d0887\"],[0.1111111111111111,\"#46039f\"],[0.2222222222222222,\"#7201a8\"],[0.3333333333333333,\"#9c179e\"],[0.4444444444444444,\"#bd3786\"],[0.5555555555555556,\"#d8576b\"],[0.6666666666666666,\"#ed7953\"],[0.7777777777777778,\"#fb9f3a\"],[0.8888888888888888,\"#fdca26\"],[1.0,\"#f0f921\"]],\"type\":\"histogram2d\"}],\"histogram2dcontour\":[{\"colorbar\":{\"outlinewidth\":0,\"ticks\":\"\"},\"colorscale\":[[0.0,\"#0d0887\"],[0.1111111111111111,\"#46039f\"],[0.2222222222222222,\"#7201a8\"],[0.3333333333333333,\"#9c179e\"],[0.4444444444444444,\"#bd3786\"],[0.5555555555555556,\"#d8576b\"],[0.6666666666666666,\"#ed7953\"],[0.7777777777777778,\"#fb9f3a\"],[0.8888888888888888,\"#fdca26\"],[1.0,\"#f0f921\"]],\"type\":\"histogram2dcontour\"}],\"mesh3d\":[{\"colorbar\":{\"outlinewidth\":0,\"ticks\":\"\"},\"type\":\"mesh3d\"}],\"parcoords\":[{\"line\":{\"colorbar\":{\"outlinewidth\":0,\"ticks\":\"\"}},\"type\":\"parcoords\"}],\"pie\":[{\"automargin\":true,\"type\":\"pie\"}],\"scatter\":[{\"marker\":{\"colorbar\":{\"outlinewidth\":0,\"ticks\":\"\"}},\"type\":\"scatter\"}],\"scatter3d\":[{\"line\":{\"colorbar\":{\"outlinewidth\":0,\"ticks\":\"\"}},\"marker\":{\"colorbar\":{\"outlinewidth\":0,\"ticks\":\"\"}},\"type\":\"scatter3d\"}],\"scattercarpet\":[{\"marker\":{\"colorbar\":{\"outlinewidth\":0,\"ticks\":\"\"}},\"type\":\"scattercarpet\"}],\"scattergeo\":[{\"marker\":{\"colorbar\":{\"outlinewidth\":0,\"ticks\":\"\"}},\"type\":\"scattergeo\"}],\"scattergl\":[{\"marker\":{\"colorbar\":{\"outlinewidth\":0,\"ticks\":\"\"}},\"type\":\"scattergl\"}],\"scattermapbox\":[{\"marker\":{\"colorbar\":{\"outlinewidth\":0,\"ticks\":\"\"}},\"type\":\"scattermapbox\"}],\"scatterpolar\":[{\"marker\":{\"colorbar\":{\"outlinewidth\":0,\"ticks\":\"\"}},\"type\":\"scatterpolar\"}],\"scatterpolargl\":[{\"marker\":{\"colorbar\":{\"outlinewidth\":0,\"ticks\":\"\"}},\"type\":\"scatterpolargl\"}],\"scatterternary\":[{\"marker\":{\"colorbar\":{\"outlinewidth\":0,\"ticks\":\"\"}},\"type\":\"scatterternary\"}],\"surface\":[{\"colorbar\":{\"outlinewidth\":0,\"ticks\":\"\"},\"colorscale\":[[0.0,\"#0d0887\"],[0.1111111111111111,\"#46039f\"],[0.2222222222222222,\"#7201a8\"],[0.3333333333333333,\"#9c179e\"],[0.4444444444444444,\"#bd3786\"],[0.5555555555555556,\"#d8576b\"],[0.6666666666666666,\"#ed7953\"],[0.7777777777777778,\"#fb9f3a\"],[0.8888888888888888,\"#fdca26\"],[1.0,\"#f0f921\"]],\"type\":\"surface\"}],\"table\":[{\"cells\":{\"fill\":{\"color\":\"#EBF0F8\"},\"line\":{\"color\":\"white\"}},\"header\":{\"fill\":{\"color\":\"#C8D4E3\"},\"line\":{\"color\":\"white\"}},\"type\":\"table\"}]},\"layout\":{\"annotationdefaults\":{\"arrowcolor\":\"#2a3f5f\",\"arrowhead\":0,\"arrowwidth\":1},\"autotypenumbers\":\"strict\",\"coloraxis\":{\"colorbar\":{\"outlinewidth\":0,\"ticks\":\"\"}},\"colorscale\":{\"diverging\":[[0,\"#8e0152\"],[0.1,\"#c51b7d\"],[0.2,\"#de77ae\"],[0.3,\"#f1b6da\"],[0.4,\"#fde0ef\"],[0.5,\"#f7f7f7\"],[0.6,\"#e6f5d0\"],[0.7,\"#b8e186\"],[0.8,\"#7fbc41\"],[0.9,\"#4d9221\"],[1,\"#276419\"]],\"sequential\":[[0.0,\"#0d0887\"],[0.1111111111111111,\"#46039f\"],[0.2222222222222222,\"#7201a8\"],[0.3333333333333333,\"#9c179e\"],[0.4444444444444444,\"#bd3786\"],[0.5555555555555556,\"#d8576b\"],[0.6666666666666666,\"#ed7953\"],[0.7777777777777778,\"#fb9f3a\"],[0.8888888888888888,\"#fdca26\"],[1.0,\"#f0f921\"]],\"sequentialminus\":[[0.0,\"#0d0887\"],[0.1111111111111111,\"#46039f\"],[0.2222222222222222,\"#7201a8\"],[0.3333333333333333,\"#9c179e\"],[0.4444444444444444,\"#bd3786\"],[0.5555555555555556,\"#d8576b\"],[0.6666666666666666,\"#ed7953\"],[0.7777777777777778,\"#fb9f3a\"],[0.8888888888888888,\"#fdca26\"],[1.0,\"#f0f921\"]]},\"colorway\":[\"#636efa\",\"#EF553B\",\"#00cc96\",\"#ab63fa\",\"#FFA15A\",\"#19d3f3\",\"#FF6692\",\"#B6E880\",\"#FF97FF\",\"#FECB52\"],\"font\":{\"color\":\"#2a3f5f\"},\"geo\":{\"bgcolor\":\"white\",\"lakecolor\":\"white\",\"landcolor\":\"white\",\"showlakes\":true,\"showland\":true,\"subunitcolor\":\"#C8D4E3\"},\"hoverlabel\":{\"align\":\"left\"},\"hovermode\":\"closest\",\"mapbox\":{\"style\":\"light\"},\"paper_bgcolor\":\"white\",\"plot_bgcolor\":\"white\",\"polar\":{\"angularaxis\":{\"gridcolor\":\"#EBF0F8\",\"linecolor\":\"#EBF0F8\",\"ticks\":\"\"},\"bgcolor\":\"white\",\"radialaxis\":{\"gridcolor\":\"#EBF0F8\",\"linecolor\":\"#EBF0F8\",\"ticks\":\"\"}},\"scene\":{\"xaxis\":{\"backgroundcolor\":\"white\",\"gridcolor\":\"#DFE8F3\",\"gridwidth\":2,\"linecolor\":\"#EBF0F8\",\"showbackground\":true,\"ticks\":\"\",\"zerolinecolor\":\"#EBF0F8\"},\"yaxis\":{\"backgroundcolor\":\"white\",\"gridcolor\":\"#DFE8F3\",\"gridwidth\":2,\"linecolor\":\"#EBF0F8\",\"showbackground\":true,\"ticks\":\"\",\"zerolinecolor\":\"#EBF0F8\"},\"zaxis\":{\"backgroundcolor\":\"white\",\"gridcolor\":\"#DFE8F3\",\"gridwidth\":2,\"linecolor\":\"#EBF0F8\",\"showbackground\":true,\"ticks\":\"\",\"zerolinecolor\":\"#EBF0F8\"}},\"shapedefaults\":{\"line\":{\"color\":\"#2a3f5f\"}},\"ternary\":{\"aaxis\":{\"gridcolor\":\"#DFE8F3\",\"linecolor\":\"#A2B1C6\",\"ticks\":\"\"},\"baxis\":{\"gridcolor\":\"#DFE8F3\",\"linecolor\":\"#A2B1C6\",\"ticks\":\"\"},\"bgcolor\":\"white\",\"caxis\":{\"gridcolor\":\"#DFE8F3\",\"linecolor\":\"#A2B1C6\",\"ticks\":\"\"}},\"title\":{\"x\":0.05},\"xaxis\":{\"automargin\":true,\"gridcolor\":\"#EBF0F8\",\"linecolor\":\"#EBF0F8\",\"ticks\":\"\",\"title\":{\"standoff\":15},\"zerolinecolor\":\"#EBF0F8\",\"zerolinewidth\":2},\"yaxis\":{\"automargin\":true,\"gridcolor\":\"#EBF0F8\",\"linecolor\":\"#EBF0F8\",\"ticks\":\"\",\"title\":{\"standoff\":15},\"zerolinecolor\":\"#EBF0F8\",\"zerolinewidth\":2}}},\"title\":{\"text\":\"Velocidad de casos - Cienfuegos\"},\"xaxis\":{\"anchor\":\"y\",\"domain\":[0.0,1.0],\"title\":{\"text\":\"D\\u00edas\"}},\"yaxis\":{\"anchor\":\"x\",\"domain\":[0.0,1.0],\"title\":{\"text\":\"Casos\"}}},                        {\"responsive\": true}                    ).then(function(){\n                            \nvar gd = document.getElementById('22f2a0da-f488-40cd-8b81-3eb29d88cda4');\nvar x = new MutationObserver(function (mutations, observer) {{\n        var display = window.getComputedStyle(gd).display;\n        if (!display || display === 'none') {{\n            console.log([gd, 'removed!']);\n            Plotly.purge(gd);\n            observer.disconnect();\n        }}\n}});\n\n// Listen for the removal of the full notebook cells\nvar notebookContainer = gd.closest('#notebook-container');\nif (notebookContainer) {{\n    x.observe(notebookContainer, {childList: true});\n}}\n\n// Listen for the clearing of the current output cell\nvar outputEl = gd.closest('.output');\nif (outputEl) {{\n    x.observe(outputEl, {childList: true});\n}}\n\n                        })                };                            </script>        </div>\n</body>\n</html>"
     },
     "metadata": {},
     "output_type": "display_data"
    }
   ],
   "execution_count": null
  },
  {
   "cell_type": "code",
   "metadata": {
    "cell_id": "00004-e5d65ced-92f1-40e2-957d-9e24b044b648",
    "deepnote_to_be_reexecuted": false,
    "source_hash": "51069ac7",
    "execution_start": 1632422561451,
    "execution_millis": 9,
    "deepnote_cell_type": "code"
   },
   "source": "cfg.head(5)",
   "outputs": [
    {
     "output_type": "execute_result",
     "execution_count": 5,
     "data": {
      "application/vnd.deepnote.dataframe.v2+json": {
       "row_count": 5,
       "column_count": 6,
       "columns": [
        {
         "name": "Date",
         "dtype": "object",
         "stats": {
          "unique_count": 5,
          "nan_count": 0,
          "categories": [
           {
            "name": "2020/03/24",
            "count": 1
           },
           {
            "name": "2020/03/27",
            "count": 1
           },
           {
            "name": "3 others",
            "count": 3
           }
          ]
         }
        },
        {
         "name": "N",
         "dtype": "int64",
         "stats": {
          "unique_count": 2,
          "nan_count": 0,
          "min": "1",
          "max": "3",
          "histogram": [
           {
            "bin_start": 1,
            "bin_end": 1.2,
            "count": 2
           },
           {
            "bin_start": 1.2,
            "bin_end": 1.4,
            "count": 0
           },
           {
            "bin_start": 1.4,
            "bin_end": 1.6,
            "count": 0
           },
           {
            "bin_start": 1.6,
            "bin_end": 1.8,
            "count": 0
           },
           {
            "bin_start": 1.8,
            "bin_end": 2,
            "count": 0
           },
           {
            "bin_start": 2,
            "bin_end": 2.2,
            "count": 0
           },
           {
            "bin_start": 2.2,
            "bin_end": 2.4000000000000004,
            "count": 0
           },
           {
            "bin_start": 2.4000000000000004,
            "bin_end": 2.6,
            "count": 0
           },
           {
            "bin_start": 2.6,
            "bin_end": 2.8,
            "count": 0
           },
           {
            "bin_start": 2.8,
            "bin_end": 3,
            "count": 3
           }
          ]
         }
        },
        {
         "name": "vel",
         "dtype": "float64",
         "stats": {
          "unique_count": 3,
          "nan_count": 1,
          "min": "-2.0",
          "max": "2.0",
          "histogram": [
           {
            "bin_start": -2,
            "bin_end": -1.6,
            "count": 1
           },
           {
            "bin_start": -1.6,
            "bin_end": -1.2,
            "count": 0
           },
           {
            "bin_start": -1.2,
            "bin_end": -0.7999999999999998,
            "count": 0
           },
           {
            "bin_start": -0.7999999999999998,
            "bin_end": -0.3999999999999999,
            "count": 0
           },
           {
            "bin_start": -0.3999999999999999,
            "bin_end": 0,
            "count": 0
           },
           {
            "bin_start": 0,
            "bin_end": 0.40000000000000036,
            "count": 1
           },
           {
            "bin_start": 0.40000000000000036,
            "bin_end": 0.8000000000000003,
            "count": 0
           },
           {
            "bin_start": 0.8000000000000003,
            "bin_end": 1.2000000000000002,
            "count": 0
           },
           {
            "bin_start": 1.2000000000000002,
            "bin_end": 1.6,
            "count": 0
           },
           {
            "bin_start": 1.6,
            "bin_end": 2,
            "count": 2
           }
          ]
         }
        },
        {
         "name": "acc",
         "dtype": "float64",
         "stats": {
          "unique_count": 3,
          "nan_count": 2,
          "min": "-4.0",
          "max": "4.0",
          "histogram": [
           {
            "bin_start": -4,
            "bin_end": -3.2,
            "count": 1
           },
           {
            "bin_start": -3.2,
            "bin_end": -2.4,
            "count": 0
           },
           {
            "bin_start": -2.4,
            "bin_end": -1.5999999999999996,
            "count": 1
           },
           {
            "bin_start": -1.5999999999999996,
            "bin_end": -0.7999999999999998,
            "count": 0
           },
           {
            "bin_start": -0.7999999999999998,
            "bin_end": 0,
            "count": 0
           },
           {
            "bin_start": 0,
            "bin_end": 0.8000000000000007,
            "count": 0
           },
           {
            "bin_start": 0.8000000000000007,
            "bin_end": 1.6000000000000005,
            "count": 0
           },
           {
            "bin_start": 1.6000000000000005,
            "bin_end": 2.4000000000000004,
            "count": 0
           },
           {
            "bin_start": 2.4000000000000004,
            "bin_end": 3.2,
            "count": 0
           },
           {
            "bin_start": 3.2,
            "bin_end": 4,
            "count": 1
           }
          ]
         }
        },
        {
         "name": "accelMeans14",
         "dtype": "float64",
         "stats": {
          "unique_count": 0,
          "nan_count": 5,
          "min": null,
          "max": null,
          "histogram": [
           {
            "bin_start": 0,
            "bin_end": 0.1,
            "count": 0
           },
           {
            "bin_start": 0.1,
            "bin_end": 0.2,
            "count": 0
           },
           {
            "bin_start": 0.2,
            "bin_end": 0.30000000000000004,
            "count": 0
           },
           {
            "bin_start": 0.30000000000000004,
            "bin_end": 0.4,
            "count": 0
           },
           {
            "bin_start": 0.4,
            "bin_end": 0.5,
            "count": 0
           },
           {
            "bin_start": 0.5,
            "bin_end": 0.6000000000000001,
            "count": 0
           },
           {
            "bin_start": 0.6000000000000001,
            "bin_end": 0.7000000000000001,
            "count": 0
           },
           {
            "bin_start": 0.7000000000000001,
            "bin_end": 0.8,
            "count": 0
           },
           {
            "bin_start": 0.8,
            "bin_end": 0.9,
            "count": 0
           },
           {
            "bin_start": 0.9,
            "bin_end": 1,
            "count": 0
           }
          ]
         }
        },
        {
         "name": "accelMeans7",
         "dtype": "float64",
         "stats": {
          "unique_count": 2,
          "nan_count": 3,
          "min": "0.0",
          "max": "0.6666666666666666",
          "histogram": [
           {
            "bin_start": 0,
            "bin_end": 0.06666666666666667,
            "count": 1
           },
           {
            "bin_start": 0.06666666666666667,
            "bin_end": 0.13333333333333333,
            "count": 0
           },
           {
            "bin_start": 0.13333333333333333,
            "bin_end": 0.2,
            "count": 0
           },
           {
            "bin_start": 0.2,
            "bin_end": 0.26666666666666666,
            "count": 0
           },
           {
            "bin_start": 0.26666666666666666,
            "bin_end": 0.3333333333333333,
            "count": 0
           },
           {
            "bin_start": 0.3333333333333333,
            "bin_end": 0.4,
            "count": 0
           },
           {
            "bin_start": 0.4,
            "bin_end": 0.4666666666666667,
            "count": 0
           },
           {
            "bin_start": 0.4666666666666667,
            "bin_end": 0.5333333333333333,
            "count": 0
           },
           {
            "bin_start": 0.5333333333333333,
            "bin_end": 0.6,
            "count": 0
           },
           {
            "bin_start": 0.6,
            "bin_end": 0.6666666666666666,
            "count": 1
           }
          ]
         }
        },
        {
         "name": "_deepnote_index_column",
         "dtype": "int64"
        }
       ],
       "rows_top": [
        {
         "Date": "2020/03/24",
         "N": 1,
         "vel": "nan",
         "acc": "nan",
         "accelMeans14": "nan",
         "accelMeans7": "nan",
         "_deepnote_index_column": 220
        },
        {
         "Date": "2020/03/27",
         "N": 3,
         "vel": 2,
         "acc": "nan",
         "accelMeans14": "nan",
         "accelMeans7": "nan",
         "_deepnote_index_column": 188
        },
        {
         "Date": "2020/03/28",
         "N": 1,
         "vel": -2,
         "acc": -4,
         "accelMeans14": "nan",
         "accelMeans7": "nan",
         "_deepnote_index_column": 219
        },
        {
         "Date": "2020/03/29",
         "N": 3,
         "vel": 2,
         "acc": 4,
         "accelMeans14": "nan",
         "accelMeans7": 0.6666666666666666,
         "_deepnote_index_column": 185
        },
        {
         "Date": "2020/04/01",
         "N": 3,
         "vel": 0,
         "acc": -2,
         "accelMeans14": "nan",
         "accelMeans7": 0,
         "_deepnote_index_column": 197
        }
       ],
       "rows_bottom": null
      },
      "text/plain": "           Date  N  vel  acc  accelMeans14  accelMeans7\n220  2020/03/24  1  NaN  NaN           NaN          NaN\n188  2020/03/27  3  2.0  NaN           NaN          NaN\n219  2020/03/28  1 -2.0 -4.0           NaN          NaN\n185  2020/03/29  3  2.0  4.0           NaN     0.666667\n197  2020/04/01  3  0.0 -2.0           NaN     0.000000",
      "text/html": "<div>\n<style scoped>\n    .dataframe tbody tr th:only-of-type {\n        vertical-align: middle;\n    }\n\n    .dataframe tbody tr th {\n        vertical-align: top;\n    }\n\n    .dataframe thead th {\n        text-align: right;\n    }\n</style>\n<table border=\"1\" class=\"dataframe\">\n  <thead>\n    <tr style=\"text-align: right;\">\n      <th></th>\n      <th>Date</th>\n      <th>N</th>\n      <th>vel</th>\n      <th>acc</th>\n      <th>accelMeans14</th>\n      <th>accelMeans7</th>\n    </tr>\n  </thead>\n  <tbody>\n    <tr>\n      <th>220</th>\n      <td>2020/03/24</td>\n      <td>1</td>\n      <td>NaN</td>\n      <td>NaN</td>\n      <td>NaN</td>\n      <td>NaN</td>\n    </tr>\n    <tr>\n      <th>188</th>\n      <td>2020/03/27</td>\n      <td>3</td>\n      <td>2.0</td>\n      <td>NaN</td>\n      <td>NaN</td>\n      <td>NaN</td>\n    </tr>\n    <tr>\n      <th>219</th>\n      <td>2020/03/28</td>\n      <td>1</td>\n      <td>-2.0</td>\n      <td>-4.0</td>\n      <td>NaN</td>\n      <td>NaN</td>\n    </tr>\n    <tr>\n      <th>185</th>\n      <td>2020/03/29</td>\n      <td>3</td>\n      <td>2.0</td>\n      <td>4.0</td>\n      <td>NaN</td>\n      <td>0.666667</td>\n    </tr>\n    <tr>\n      <th>197</th>\n      <td>2020/04/01</td>\n      <td>3</td>\n      <td>0.0</td>\n      <td>-2.0</td>\n      <td>NaN</td>\n      <td>0.000000</td>\n    </tr>\n  </tbody>\n</table>\n</div>"
     },
     "metadata": {}
    }
   ],
   "execution_count": null
  },
  {
   "cell_type": "code",
   "metadata": {
    "cell_id": "00005-bd8c2192-c495-4b5f-8661-8a5db9b11982",
    "deepnote_to_be_reexecuted": false,
    "source_hash": "f55c3a3a",
    "execution_start": 1632422561502,
    "execution_millis": 44,
    "deepnote_cell_type": "code"
   },
   "source": "#import numpy as np\n# here you define the color\n#cfg[\"color\"] = np.where(cfg[\"accelMeans14\"] >= 0, 'green', \"red\")\n## add a color column to the df, apply along row\n#cfg['color'] = cfg.apply(lambda x: 'red' if x['accelMeans14'] >= 0 else 'green', axis=1)\npos = cfg[cfg['accelMeans7'] >= 0]\nneg = cfg[cfg['accelMeans7'] < 0]\n\nfig = go.Figure()\n\nfig = px.line(cfg, x=\"Date\", y=\"accelMeans14\", template=chartTemplate)\n\n#fig.add_trace(go.Bar(x=cfg['Date'], y=cfg['accelMeans14'], name='Promedio de 14 días', marker = dict(color = 'red')) \n\nfig.add_trace(go.Bar(x=pos['Date'], y=pos['accelMeans7'], name='Promedio de 14 días', marker = dict(color = 'red'), opacity=0.5))\nfig.add_trace(go.Bar(x=neg['Date'], y=neg['accelMeans7'], name='Promedio de 14 días', marker = dict(color = 'green'), opacity=0.5))#fig.update_layout({\"title\": 'Aceleración de casos - promedio 14 días - Cienfuegos', \"xaxis\": {\"title\":\"Días\"},\"yaxis\": {\"title\":\"Casos\"}, \"showlegend\": False})\nfig.show()",
   "outputs": [
    {
     "data": {
      "text/html": "<html>\n<head><meta charset=\"utf-8\" /></head>\n<body>\n    <div>            <script src=\"https://cdnjs.cloudflare.com/ajax/libs/mathjax/2.7.5/MathJax.js?config=TeX-AMS-MML_SVG\"></script><script type=\"text/javascript\">if (window.MathJax) {MathJax.Hub.Config({SVG: {font: \"STIX-Web\"}});}</script>                <script type=\"text/javascript\">window.PlotlyConfig = {MathJaxConfig: 'local'};</script>\n        <script src=\"https://cdn.plot.ly/plotly-2.4.2.min.js\"></script>                <div id=\"90cef27e-4e2c-492c-93d5-b60115d77a4c\" class=\"plotly-graph-div\" style=\"height:525px; width:100%;\"></div>            <script type=\"text/javascript\">                                    window.PLOTLYENV=window.PLOTLYENV || {};                                    if (document.getElementById(\"90cef27e-4e2c-492c-93d5-b60115d77a4c\")) {                    Plotly.newPlot(                        \"90cef27e-4e2c-492c-93d5-b60115d77a4c\",                        [{\"hovertemplate\":\"Date=%{x}<br>accelMeans14=%{y}<extra></extra>\",\"legendgroup\":\"\",\"line\":{\"color\":\"#636efa\",\"dash\":\"solid\"},\"marker\":{\"symbol\":\"circle\"},\"mode\":\"lines\",\"name\":\"\",\"orientation\":\"v\",\"showlegend\":false,\"type\":\"scatter\",\"x\":[\"2020/03/24\",\"2020/03/27\",\"2020/03/28\",\"2020/03/29\",\"2020/04/01\",\"2020/04/17\",\"2020/04/19\",\"2020/04/21\",\"2020/04/23\",\"2020/04/24\",\"2020/04/26\",\"2020/04/27\",\"2020/04/29\",\"2020/06/26\",\"2020/07/24\",\"2020/07/25\",\"2020/08/04\",\"2020/08/07\",\"2020/08/14\",\"2020/09/03\",\"2020/09/10\",\"2020/11/12\",\"2020/11/18\",\"2020/11/22\",\"2020/11/23\",\"2020/11/24\",\"2020/11/25\",\"2020/11/26\",\"2020/11/27\",\"2020/11/28\",\"2020/11/29\",\"2020/11/30\",\"2020/12/01\",\"2020/12/02\",\"2020/12/03\",\"2020/12/04\",\"2020/12/05\",\"2020/12/06\",\"2020/12/07\",\"2020/12/09\",\"2020/12/10\",\"2020/12/11\",\"2020/12/12\",\"2020/12/13\",\"2020/12/14\",\"2020/12/15\",\"2020/12/17\",\"2020/12/18\",\"2020/12/19\",\"2020/12/20\",\"2020/12/21\",\"2020/12/22\",\"2020/12/23\",\"2020/12/24\",\"2020/12/25\",\"2020/12/26\",\"2020/12/27\",\"2020/12/28\",\"2020/12/29\",\"2020/12/30\",\"2020/12/31\",\"2021/01/02\",\"2021/01/03\",\"2021/01/04\",\"2021/01/05\",\"2021/01/07\",\"2021/01/08\",\"2021/01/09\",\"2021/01/10\",\"2021/01/11\",\"2021/01/12\",\"2021/01/13\",\"2021/01/14\",\"2021/01/15\",\"2021/01/16\",\"2021/01/17\",\"2021/01/18\",\"2021/01/19\",\"2021/01/20\",\"2021/01/21\",\"2021/01/22\",\"2021/01/23\",\"2021/01/24\",\"2021/01/26\",\"2021/01/27\",\"2021/01/28\",\"2021/01/29\",\"2021/01/30\",\"2021/01/31\",\"2021/02/01\",\"2021/02/02\",\"2021/02/03\",\"2021/02/05\",\"2021/02/06\",\"2021/02/07\",\"2021/02/08\",\"2021/02/10\",\"2021/02/11\",\"2021/02/12\",\"2021/02/13\",\"2021/02/14\",\"2021/02/15\",\"2021/02/17\",\"2021/02/18\",\"2021/02/19\",\"2021/02/20\",\"2021/02/21\",\"2021/02/22\",\"2021/02/23\",\"2021/02/24\",\"2021/02/25\",\"2021/02/26\",\"2021/02/27\",\"2021/02/28\",\"2021/03/01\",\"2021/03/02\",\"2021/03/03\",\"2021/03/04\",\"2021/03/05\",\"2021/03/06\",\"2021/03/07\",\"2021/03/08\",\"2021/03/09\",\"2021/03/10\",\"2021/03/11\",\"2021/03/12\",\"2021/03/14\",\"2021/03/15\",\"2021/03/16\",\"2021/03/17\",\"2021/03/18\",\"2021/03/19\",\"2021/03/20\",\"2021/03/21\",\"2021/03/22\",\"2021/03/23\",\"2021/03/24\",\"2021/03/25\",\"2021/03/26\",\"2021/03/27\",\"2021/03/28\",\"2021/03/29\",\"2021/03/30\",\"2021/03/31\",\"2021/04/01\",\"2021/04/02\",\"2021/04/03\",\"2021/04/04\",\"2021/04/05\",\"2021/04/06\",\"2021/04/07\",\"2021/04/08\",\"2021/04/09\",\"2021/04/10\",\"2021/04/11\",\"2021/04/12\",\"2021/04/13\",\"2021/04/14\",\"2021/04/15\",\"2021/04/16\",\"2021/04/17\",\"2021/04/18\",\"2021/04/19\",\"2021/04/20\",\"2021/04/21\",\"2021/04/22\",\"2021/04/23\",\"2021/04/24\",\"2021/04/25\",\"2021/04/26\",\"2021/04/27\",\"2021/04/28\",\"2021/04/29\",\"2021/04/30\",\"2021/05/01\",\"2021/05/02\",\"2021/05/03\",\"2021/05/04\",\"2021/05/05\",\"2021/05/06\",\"2021/05/07\",\"2021/05/08\",\"2021/05/09\",\"2021/05/10\",\"2021/05/11\",\"2021/05/12\",\"2021/05/13\",\"2021/05/14\",\"2021/05/15\",\"2021/05/16\",\"2021/05/17\",\"2021/05/18\",\"2021/05/19\",\"2021/05/20\",\"2021/05/21\",\"2021/05/22\",\"2021/05/23\",\"2021/05/24\",\"2021/05/25\",\"2021/05/26\",\"2021/05/27\",\"2021/05/28\",\"2021/05/29\",\"2021/05/30\",\"2021/05/31\",\"2021/06/01\",\"2021/06/02\",\"2021/06/03\",\"2021/06/04\",\"2021/06/05\",\"2021/06/06\",\"2021/06/07\",\"2021/06/08\",\"2021/06/09\",\"2021/06/10\",\"2021/06/11\",\"2021/06/12\",\"2021/06/13\",\"2021/06/14\",\"2021/06/15\",\"2021/06/16\",\"2021/06/17\",\"2021/06/18\",\"2021/06/19\",\"2021/06/20\",\"2021/06/21\",\"2021/06/22\",\"2021/06/23\",\"2021/06/24\",\"2021/06/25\",\"2021/06/26\",\"2021/06/27\",\"2021/06/28\",\"2021/06/29\",\"2021/06/30\",\"2021/07/01\",\"2021/07/02\",\"2021/07/03\",\"2021/07/04\"],\"xaxis\":\"x\",\"y\":[null,null,null,null,null,null,null,null,null,null,null,null,null,null,0.0,-0.14285714285714285,0.0,0.0,-0.14285714285714285,0.0,0.14285714285714285,0.0,-0.21428571428571427,0.07142857142857142,0.35714285714285715,0.07142857142857142,0.07142857142857142,0.07142857142857142,0.21428571428571427,0.9285714285714286,0.42857142857142855,0.0,0.07142857142857142,0.21428571428571427,-0.14285714285714285,0.07142857142857142,0.42857142857142855,0.14285714285714285,-0.07142857142857142,-0.07142857142857142,-0.14285714285714285,0.14285714285714285,0.0,-0.7142857142857143,-0.21428571428571427,-0.07142857142857142,0.14285714285714285,0.35714285714285715,0.0,-0.07142857142857142,0.21428571428571427,0.07142857142857142,-0.14285714285714285,0.14285714285714285,0.21428571428571427,0.0,0.0,0.0,0.07142857142857142,-0.07142857142857142,-0.07142857142857142,-0.5714285714285714,0.14285714285714285,0.07142857142857142,-0.5714285714285714,0.42857142857142855,-0.07142857142857142,0.42857142857142855,-0.14285714285714285,-0.21428571428571427,1.2857142857142858,0.35714285714285715,2.2857142857142856,0.7142857142857143,4.285714285714286,0.2857142857142857,0.42857142857142855,1.9285714285714286,0.5,-0.5,0.07142857142857142,0.5,0.6428571428571429,0.14285714285714285,-1.2857142857142858,0.35714285714285715,-1.5,-0.21428571428571427,-3.9285714285714284,0.0,0.0,-1.2857142857142858,0.35714285714285715,0.14285714285714285,0.0,-0.7142857142857143,-0.5,0.14285714285714285,0.35714285714285715,-0.21428571428571427,-0.6428571428571429,0.21428571428571427,0.21428571428571427,0.9285714285714286,-0.5,0.0,1.0714285714285714,-0.2857142857142857,0.6428571428571429,0.07142857142857142,0.21428571428571427,0.7857142857142857,-0.21428571428571427,-0.21428571428571427,0.35714285714285715,-0.42857142857142855,0.21428571428571427,-0.9285714285714286,0.9285714285714286,0.14285714285714285,-1.8571428571428572,0.6428571428571429,-0.42857142857142855,0.07142857142857142,0.2857142857142857,-0.5,0.07142857142857142,0.35714285714285715,-0.07142857142857142,0.14285714285714285,-0.7857142857142857,0.7142857142857143,-0.5,-0.5,0.14285714285714285,-0.2857142857142857,-0.07142857142857142,1.0,0.35714285714285715,1.5714285714285714,0.9285714285714286,0.35714285714285715,-0.14285714285714285,1.4285714285714286,3.2857142857142856,0.21428571428571427,0.21428571428571427,0.35714285714285715,1.2857142857142858,1.0714285714285714,1.2142857142857142,-1.0714285714285714,0.21428571428571427,-0.5,-0.5714285714285714,0.0,0.2857142857142857,-1.3571428571428572,-2.5714285714285716,-0.7857142857142857,0.6428571428571429,-0.07142857142857142,-0.7142857142857143,-0.5714285714285714,-0.7142857142857143,0.21428571428571427,-0.8571428571428571,-0.7857142857142857,0.2857142857142857,-0.2857142857142857,-0.07142857142857142,0.5,0.07142857142857142,-0.2857142857142857,-0.21428571428571427,-0.5,0.0,0.35714285714285715,0.42857142857142855,0.42857142857142855,0.6428571428571429,1.1428571428571428,0.14285714285714285,0.5,0.6428571428571429,0.14285714285714285,1.7857142857142858,0.8571428571428571,4.071428571428571,3.5,0.8571428571428571,2.5,2.142857142857143,3.5714285714285716,1.4285714285714286,2.142857142857143,0.14285714285714285,3.642857142857143,2.0714285714285716,0.2857142857142857,-0.21428571428571427,0.7857142857142857,-0.21428571428571427,-0.35714285714285715,0.8571428571428571,-0.5,-1.5,-3.0,-0.14285714285714285,-1.6428571428571428,1.0,-4.071428571428571,-0.9285714285714286,0.7142857142857143,0.8571428571428571,2.857142857142857,0.07142857142857142,3.7142857142857144,0.21428571428571427,0.2857142857142857,0.9285714285714286,3.0714285714285716,-0.5,0.21428571428571427,1.5,3.0,0.9285714285714286,1.5714285714285714,0.7142857142857143,-2.357142857142857,-0.2857142857142857,-1.4285714285714286,3.357142857142857,1.0714285714285714,2.7857142857142856,1.2857142857142858,4.285714285714286,2.4285714285714284,0.6428571428571429],\"yaxis\":\"y\"},{\"marker\":{\"color\":\"red\"},\"name\":\"Promedio de 14 d\\u00edas\",\"opacity\":0.5,\"type\":\"bar\",\"x\":[\"2020/03/29\",\"2020/04/01\",\"2020/04/17\",\"2020/04/23\",\"2020/04/24\",\"2020/04/26\",\"2020/04/29\",\"2020/06/26\",\"2020/08/04\",\"2020/08/07\",\"2020/08/14\",\"2020/09/03\",\"2020/09/10\",\"2020/11/12\",\"2020/11/18\",\"2020/11/23\",\"2020/11/24\",\"2020/11/25\",\"2020/11/27\",\"2020/11/28\",\"2020/11/29\",\"2020/12/04\",\"2020/12/05\",\"2020/12/06\",\"2020/12/07\",\"2020/12/12\",\"2020/12/13\",\"2020/12/14\",\"2020/12/17\",\"2020/12/18\",\"2020/12/21\",\"2020/12/22\",\"2020/12/23\",\"2020/12/26\",\"2020/12/27\",\"2020/12/28\",\"2020/12/29\",\"2021/01/03\",\"2021/01/05\",\"2021/01/07\",\"2021/01/08\",\"2021/01/09\",\"2021/01/12\",\"2021/01/13\",\"2021/01/14\",\"2021/01/16\",\"2021/01/20\",\"2021/01/23\",\"2021/01/24\",\"2021/01/26\",\"2021/01/28\",\"2021/01/29\",\"2021/01/30\",\"2021/02/02\",\"2021/02/03\",\"2021/02/05\",\"2021/02/11\",\"2021/02/12\",\"2021/02/13\",\"2021/02/14\",\"2021/02/15\",\"2021/02/17\",\"2021/02/18\",\"2021/02/20\",\"2021/02/21\",\"2021/02/22\",\"2021/02/23\",\"2021/02/25\",\"2021/02/26\",\"2021/02/28\",\"2021/03/03\",\"2021/03/05\",\"2021/03/10\",\"2021/03/11\",\"2021/03/12\",\"2021/03/15\",\"2021/03/16\",\"2021/03/17\",\"2021/03/19\",\"2021/03/20\",\"2021/03/21\",\"2021/03/25\",\"2021/03/26\",\"2021/03/27\",\"2021/03/29\",\"2021/03/31\",\"2021/04/01\",\"2021/04/02\",\"2021/04/05\",\"2021/04/06\",\"2021/04/07\",\"2021/04/10\",\"2021/04/11\",\"2021/04/17\",\"2021/04/19\",\"2021/04/21\",\"2021/04/24\",\"2021/04/25\",\"2021/04/26\",\"2021/04/29\",\"2021/05/01\",\"2021/05/03\",\"2021/05/04\",\"2021/05/05\",\"2021/05/06\",\"2021/05/08\",\"2021/05/09\",\"2021/05/10\",\"2021/05/13\",\"2021/05/15\",\"2021/05/16\",\"2021/05/17\",\"2021/05/20\",\"2021/05/22\",\"2021/05/24\",\"2021/05/26\",\"2021/05/29\",\"2021/05/30\",\"2021/05/31\",\"2021/06/05\",\"2021/06/06\",\"2021/06/08\",\"2021/06/10\",\"2021/06/11\",\"2021/06/12\",\"2021/06/13\",\"2021/06/17\",\"2021/06/21\",\"2021/06/22\",\"2021/06/24\",\"2021/06/26\",\"2021/06/27\",\"2021/06/28\",\"2021/06/30\",\"2021/07/02\"],\"y\":[0.6666666666666666,0.0,0.0,1.0,0.0,0.0,0.3333333333333333,0.0,0.0,0.6666666666666666,0.0,0.0,0.0,0.0,0.0,1.6666666666666667,0.6666666666666666,0.3333333333333333,0.3333333333333333,3.6666666666666665,1.6666666666666667,0.0,1.0,1.0,1.0,0.6666666666666666,1.0,0.0,0.0,1.6666666666666667,0.3333333333333333,1.3333333333333333,0.6666666666666666,0.3333333333333333,0.0,0.0,0.3333333333333333,0.6666666666666666,0.3333333333333333,2.6666666666666665,0.0,2.6666666666666665,4.0,2.3333333333333335,12.0,18.0,1.3333333333333333,2.6666666666666665,2.3333333333333335,0.0,1.0,4.333333333333333,1.3333333333333333,0.3333333333333333,1.0,3.0,0.6666666666666666,0.6666666666666666,2.3333333333333335,0.6666666666666666,0.6666666666666666,0.0,3.6666666666666665,0.0,3.6666666666666665,0.0,0.3333333333333333,1.6666666666666667,1.3333333333333333,0.3333333333333333,2.0,3.3333333333333335,2.0,0.0,1.0,0.6666666666666666,0.6666666666666666,0.0,1.3333333333333333,0.3333333333333333,1.0,6.0,3.0,8.666666666666666,0.6666666666666666,2.3333333333333335,10.333333333333334,3.0,1.6666666666666667,3.6666666666666665,3.6666666666666665,0.6666666666666666,1.3333333333333333,4.0,2.0,0.6666666666666666,0.3333333333333333,1.6666666666666667,2.3333333333333335,0.0,0.6666666666666666,3.3333333333333335,0.6666666666666666,5.0,1.3333333333333333,3.6666666666666665,0.3333333333333333,1.6666666666666667,6.0,19.0,4.333333333333333,3.3333333333333335,14.0,3.6666666666666665,12.0,0.3333333333333333,16.666666666666668,3.6666666666666665,3.6666666666666665,3.0,3.0,0.3333333333333333,11.0,9.666666666666666,13.666666666666666,17.0,9.333333333333334,10.0,3.6666666666666665,0.3333333333333333,5.0,7.0,18.0,0.0,7.0]},{\"marker\":{\"color\":\"green\"},\"name\":\"Promedio de 14 d\\u00edas\",\"opacity\":0.5,\"type\":\"bar\",\"x\":[\"2020/04/19\",\"2020/04/21\",\"2020/04/27\",\"2020/07/24\",\"2020/07/25\",\"2020/11/22\",\"2020/11/26\",\"2020/11/30\",\"2020/12/01\",\"2020/12/02\",\"2020/12/03\",\"2020/12/09\",\"2020/12/10\",\"2020/12/11\",\"2020/12/15\",\"2020/12/19\",\"2020/12/20\",\"2020/12/24\",\"2020/12/25\",\"2020/12/30\",\"2020/12/31\",\"2021/01/02\",\"2021/01/04\",\"2021/01/10\",\"2021/01/11\",\"2021/01/15\",\"2021/01/17\",\"2021/01/18\",\"2021/01/19\",\"2021/01/21\",\"2021/01/22\",\"2021/01/27\",\"2021/01/31\",\"2021/02/01\",\"2021/02/06\",\"2021/02/07\",\"2021/02/08\",\"2021/02/10\",\"2021/02/19\",\"2021/02/24\",\"2021/02/27\",\"2021/03/01\",\"2021/03/02\",\"2021/03/04\",\"2021/03/06\",\"2021/03/07\",\"2021/03/08\",\"2021/03/09\",\"2021/03/14\",\"2021/03/18\",\"2021/03/22\",\"2021/03/23\",\"2021/03/24\",\"2021/03/28\",\"2021/03/30\",\"2021/04/03\",\"2021/04/04\",\"2021/04/08\",\"2021/04/09\",\"2021/04/12\",\"2021/04/13\",\"2021/04/14\",\"2021/04/15\",\"2021/04/16\",\"2021/04/18\",\"2021/04/20\",\"2021/04/22\",\"2021/04/23\",\"2021/04/27\",\"2021/04/28\",\"2021/04/30\",\"2021/05/02\",\"2021/05/07\",\"2021/05/11\",\"2021/05/12\",\"2021/05/14\",\"2021/05/18\",\"2021/05/19\",\"2021/05/21\",\"2021/05/23\",\"2021/05/25\",\"2021/05/27\",\"2021/05/28\",\"2021/06/01\",\"2021/06/02\",\"2021/06/03\",\"2021/06/04\",\"2021/06/07\",\"2021/06/09\",\"2021/06/14\",\"2021/06/15\",\"2021/06/16\",\"2021/06/18\",\"2021/06/19\",\"2021/06/20\",\"2021/06/23\",\"2021/06/25\",\"2021/06/29\",\"2021/07/01\",\"2021/07/03\",\"2021/07/04\"],\"y\":[-0.6666666666666666,-0.6666666666666666,-0.6666666666666666,-0.3333333333333333,-0.3333333333333333,-0.3333333333333333,-1.3333333333333333,-0.3333333333333333,-4.0,-1.0,-0.6666666666666666,-1.6666666666666667,-1.0,-0.3333333333333333,-0.6666666666666666,-0.3333333333333333,-1.0,-2.0,-0.3333333333333333,-1.0,-0.3333333333333333,-1.3333333333333333,-0.3333333333333333,-3.0,-0.3333333333333333,-3.6666666666666665,-10.666666666666666,-0.6666666666666666,-11.333333333333334,-1.6666666666666667,-8.666666666666666,-4.333333333333333,-2.0,-3.6666666666666665,-1.0,-2.6666666666666665,-2.3333333333333335,-0.6666666666666666,-3.0,-7.0,-0.6666666666666666,-1.3333333333333333,-0.3333333333333333,-2.3333333333333335,-0.3333333333333333,-0.6666666666666666,-1.3333333333333333,-2.3333333333333335,-0.6666666666666666,-3.3333333333333335,-3.3333333333333335,-0.3333333333333333,-0.3333333333333333,-1.0,-7.333333333333333,-5.333333333333333,-12.666666666666666,-5.0,-1.0,-0.3333333333333333,-3.6666666666666665,-1.3333333333333333,-1.6666666666666667,-2.0,-1.0,-2.0,-0.6666666666666666,-2.3333333333333335,-0.3333333333333333,-0.3333333333333333,-3.0,-3.6666666666666665,-1.0,-2.6666666666666665,-0.3333333333333333,-2.0,-6.666666666666667,-1.3333333333333333,-6.0,-15.666666666666666,-3.0,-12.0,-8.0,-8.0,-6.666666666666667,-4.0,-4.333333333333333,-6.333333333333333,-1.0,-8.666666666666666,-7.0,-19.666666666666668,-8.0,-0.3333333333333333,-4.333333333333333,-0.6666666666666666,-5.666666666666667,-0.6666666666666666,-0.3333333333333333,-2.0,-7.333333333333333]}],                        {\"legend\":{\"tracegroupgap\":0},\"margin\":{\"t\":60},\"template\":{\"data\":{\"bar\":[{\"error_x\":{\"color\":\"#2a3f5f\"},\"error_y\":{\"color\":\"#2a3f5f\"},\"marker\":{\"line\":{\"color\":\"white\",\"width\":0.5},\"pattern\":{\"fillmode\":\"overlay\",\"size\":10,\"solidity\":0.2}},\"type\":\"bar\"}],\"barpolar\":[{\"marker\":{\"line\":{\"color\":\"white\",\"width\":0.5},\"pattern\":{\"fillmode\":\"overlay\",\"size\":10,\"solidity\":0.2}},\"type\":\"barpolar\"}],\"carpet\":[{\"aaxis\":{\"endlinecolor\":\"#2a3f5f\",\"gridcolor\":\"#C8D4E3\",\"linecolor\":\"#C8D4E3\",\"minorgridcolor\":\"#C8D4E3\",\"startlinecolor\":\"#2a3f5f\"},\"baxis\":{\"endlinecolor\":\"#2a3f5f\",\"gridcolor\":\"#C8D4E3\",\"linecolor\":\"#C8D4E3\",\"minorgridcolor\":\"#C8D4E3\",\"startlinecolor\":\"#2a3f5f\"},\"type\":\"carpet\"}],\"choropleth\":[{\"colorbar\":{\"outlinewidth\":0,\"ticks\":\"\"},\"type\":\"choropleth\"}],\"contour\":[{\"colorbar\":{\"outlinewidth\":0,\"ticks\":\"\"},\"colorscale\":[[0.0,\"#0d0887\"],[0.1111111111111111,\"#46039f\"],[0.2222222222222222,\"#7201a8\"],[0.3333333333333333,\"#9c179e\"],[0.4444444444444444,\"#bd3786\"],[0.5555555555555556,\"#d8576b\"],[0.6666666666666666,\"#ed7953\"],[0.7777777777777778,\"#fb9f3a\"],[0.8888888888888888,\"#fdca26\"],[1.0,\"#f0f921\"]],\"type\":\"contour\"}],\"contourcarpet\":[{\"colorbar\":{\"outlinewidth\":0,\"ticks\":\"\"},\"type\":\"contourcarpet\"}],\"heatmap\":[{\"colorbar\":{\"outlinewidth\":0,\"ticks\":\"\"},\"colorscale\":[[0.0,\"#0d0887\"],[0.1111111111111111,\"#46039f\"],[0.2222222222222222,\"#7201a8\"],[0.3333333333333333,\"#9c179e\"],[0.4444444444444444,\"#bd3786\"],[0.5555555555555556,\"#d8576b\"],[0.6666666666666666,\"#ed7953\"],[0.7777777777777778,\"#fb9f3a\"],[0.8888888888888888,\"#fdca26\"],[1.0,\"#f0f921\"]],\"type\":\"heatmap\"}],\"heatmapgl\":[{\"colorbar\":{\"outlinewidth\":0,\"ticks\":\"\"},\"colorscale\":[[0.0,\"#0d0887\"],[0.1111111111111111,\"#46039f\"],[0.2222222222222222,\"#7201a8\"],[0.3333333333333333,\"#9c179e\"],[0.4444444444444444,\"#bd3786\"],[0.5555555555555556,\"#d8576b\"],[0.6666666666666666,\"#ed7953\"],[0.7777777777777778,\"#fb9f3a\"],[0.8888888888888888,\"#fdca26\"],[1.0,\"#f0f921\"]],\"type\":\"heatmapgl\"}],\"histogram\":[{\"marker\":{\"pattern\":{\"fillmode\":\"overlay\",\"size\":10,\"solidity\":0.2}},\"type\":\"histogram\"}],\"histogram2d\":[{\"colorbar\":{\"outlinewidth\":0,\"ticks\":\"\"},\"colorscale\":[[0.0,\"#0d0887\"],[0.1111111111111111,\"#46039f\"],[0.2222222222222222,\"#7201a8\"],[0.3333333333333333,\"#9c179e\"],[0.4444444444444444,\"#bd3786\"],[0.5555555555555556,\"#d8576b\"],[0.6666666666666666,\"#ed7953\"],[0.7777777777777778,\"#fb9f3a\"],[0.8888888888888888,\"#fdca26\"],[1.0,\"#f0f921\"]],\"type\":\"histogram2d\"}],\"histogram2dcontour\":[{\"colorbar\":{\"outlinewidth\":0,\"ticks\":\"\"},\"colorscale\":[[0.0,\"#0d0887\"],[0.1111111111111111,\"#46039f\"],[0.2222222222222222,\"#7201a8\"],[0.3333333333333333,\"#9c179e\"],[0.4444444444444444,\"#bd3786\"],[0.5555555555555556,\"#d8576b\"],[0.6666666666666666,\"#ed7953\"],[0.7777777777777778,\"#fb9f3a\"],[0.8888888888888888,\"#fdca26\"],[1.0,\"#f0f921\"]],\"type\":\"histogram2dcontour\"}],\"mesh3d\":[{\"colorbar\":{\"outlinewidth\":0,\"ticks\":\"\"},\"type\":\"mesh3d\"}],\"parcoords\":[{\"line\":{\"colorbar\":{\"outlinewidth\":0,\"ticks\":\"\"}},\"type\":\"parcoords\"}],\"pie\":[{\"automargin\":true,\"type\":\"pie\"}],\"scatter\":[{\"marker\":{\"colorbar\":{\"outlinewidth\":0,\"ticks\":\"\"}},\"type\":\"scatter\"}],\"scatter3d\":[{\"line\":{\"colorbar\":{\"outlinewidth\":0,\"ticks\":\"\"}},\"marker\":{\"colorbar\":{\"outlinewidth\":0,\"ticks\":\"\"}},\"type\":\"scatter3d\"}],\"scattercarpet\":[{\"marker\":{\"colorbar\":{\"outlinewidth\":0,\"ticks\":\"\"}},\"type\":\"scattercarpet\"}],\"scattergeo\":[{\"marker\":{\"colorbar\":{\"outlinewidth\":0,\"ticks\":\"\"}},\"type\":\"scattergeo\"}],\"scattergl\":[{\"marker\":{\"colorbar\":{\"outlinewidth\":0,\"ticks\":\"\"}},\"type\":\"scattergl\"}],\"scattermapbox\":[{\"marker\":{\"colorbar\":{\"outlinewidth\":0,\"ticks\":\"\"}},\"type\":\"scattermapbox\"}],\"scatterpolar\":[{\"marker\":{\"colorbar\":{\"outlinewidth\":0,\"ticks\":\"\"}},\"type\":\"scatterpolar\"}],\"scatterpolargl\":[{\"marker\":{\"colorbar\":{\"outlinewidth\":0,\"ticks\":\"\"}},\"type\":\"scatterpolargl\"}],\"scatterternary\":[{\"marker\":{\"colorbar\":{\"outlinewidth\":0,\"ticks\":\"\"}},\"type\":\"scatterternary\"}],\"surface\":[{\"colorbar\":{\"outlinewidth\":0,\"ticks\":\"\"},\"colorscale\":[[0.0,\"#0d0887\"],[0.1111111111111111,\"#46039f\"],[0.2222222222222222,\"#7201a8\"],[0.3333333333333333,\"#9c179e\"],[0.4444444444444444,\"#bd3786\"],[0.5555555555555556,\"#d8576b\"],[0.6666666666666666,\"#ed7953\"],[0.7777777777777778,\"#fb9f3a\"],[0.8888888888888888,\"#fdca26\"],[1.0,\"#f0f921\"]],\"type\":\"surface\"}],\"table\":[{\"cells\":{\"fill\":{\"color\":\"#EBF0F8\"},\"line\":{\"color\":\"white\"}},\"header\":{\"fill\":{\"color\":\"#C8D4E3\"},\"line\":{\"color\":\"white\"}},\"type\":\"table\"}]},\"layout\":{\"annotationdefaults\":{\"arrowcolor\":\"#2a3f5f\",\"arrowhead\":0,\"arrowwidth\":1},\"autotypenumbers\":\"strict\",\"coloraxis\":{\"colorbar\":{\"outlinewidth\":0,\"ticks\":\"\"}},\"colorscale\":{\"diverging\":[[0,\"#8e0152\"],[0.1,\"#c51b7d\"],[0.2,\"#de77ae\"],[0.3,\"#f1b6da\"],[0.4,\"#fde0ef\"],[0.5,\"#f7f7f7\"],[0.6,\"#e6f5d0\"],[0.7,\"#b8e186\"],[0.8,\"#7fbc41\"],[0.9,\"#4d9221\"],[1,\"#276419\"]],\"sequential\":[[0.0,\"#0d0887\"],[0.1111111111111111,\"#46039f\"],[0.2222222222222222,\"#7201a8\"],[0.3333333333333333,\"#9c179e\"],[0.4444444444444444,\"#bd3786\"],[0.5555555555555556,\"#d8576b\"],[0.6666666666666666,\"#ed7953\"],[0.7777777777777778,\"#fb9f3a\"],[0.8888888888888888,\"#fdca26\"],[1.0,\"#f0f921\"]],\"sequentialminus\":[[0.0,\"#0d0887\"],[0.1111111111111111,\"#46039f\"],[0.2222222222222222,\"#7201a8\"],[0.3333333333333333,\"#9c179e\"],[0.4444444444444444,\"#bd3786\"],[0.5555555555555556,\"#d8576b\"],[0.6666666666666666,\"#ed7953\"],[0.7777777777777778,\"#fb9f3a\"],[0.8888888888888888,\"#fdca26\"],[1.0,\"#f0f921\"]]},\"colorway\":[\"#636efa\",\"#EF553B\",\"#00cc96\",\"#ab63fa\",\"#FFA15A\",\"#19d3f3\",\"#FF6692\",\"#B6E880\",\"#FF97FF\",\"#FECB52\"],\"font\":{\"color\":\"#2a3f5f\"},\"geo\":{\"bgcolor\":\"white\",\"lakecolor\":\"white\",\"landcolor\":\"white\",\"showlakes\":true,\"showland\":true,\"subunitcolor\":\"#C8D4E3\"},\"hoverlabel\":{\"align\":\"left\"},\"hovermode\":\"closest\",\"mapbox\":{\"style\":\"light\"},\"paper_bgcolor\":\"white\",\"plot_bgcolor\":\"white\",\"polar\":{\"angularaxis\":{\"gridcolor\":\"#EBF0F8\",\"linecolor\":\"#EBF0F8\",\"ticks\":\"\"},\"bgcolor\":\"white\",\"radialaxis\":{\"gridcolor\":\"#EBF0F8\",\"linecolor\":\"#EBF0F8\",\"ticks\":\"\"}},\"scene\":{\"xaxis\":{\"backgroundcolor\":\"white\",\"gridcolor\":\"#DFE8F3\",\"gridwidth\":2,\"linecolor\":\"#EBF0F8\",\"showbackground\":true,\"ticks\":\"\",\"zerolinecolor\":\"#EBF0F8\"},\"yaxis\":{\"backgroundcolor\":\"white\",\"gridcolor\":\"#DFE8F3\",\"gridwidth\":2,\"linecolor\":\"#EBF0F8\",\"showbackground\":true,\"ticks\":\"\",\"zerolinecolor\":\"#EBF0F8\"},\"zaxis\":{\"backgroundcolor\":\"white\",\"gridcolor\":\"#DFE8F3\",\"gridwidth\":2,\"linecolor\":\"#EBF0F8\",\"showbackground\":true,\"ticks\":\"\",\"zerolinecolor\":\"#EBF0F8\"}},\"shapedefaults\":{\"line\":{\"color\":\"#2a3f5f\"}},\"ternary\":{\"aaxis\":{\"gridcolor\":\"#DFE8F3\",\"linecolor\":\"#A2B1C6\",\"ticks\":\"\"},\"baxis\":{\"gridcolor\":\"#DFE8F3\",\"linecolor\":\"#A2B1C6\",\"ticks\":\"\"},\"bgcolor\":\"white\",\"caxis\":{\"gridcolor\":\"#DFE8F3\",\"linecolor\":\"#A2B1C6\",\"ticks\":\"\"}},\"title\":{\"x\":0.05},\"xaxis\":{\"automargin\":true,\"gridcolor\":\"#EBF0F8\",\"linecolor\":\"#EBF0F8\",\"ticks\":\"\",\"title\":{\"standoff\":15},\"zerolinecolor\":\"#EBF0F8\",\"zerolinewidth\":2},\"yaxis\":{\"automargin\":true,\"gridcolor\":\"#EBF0F8\",\"linecolor\":\"#EBF0F8\",\"ticks\":\"\",\"title\":{\"standoff\":15},\"zerolinecolor\":\"#EBF0F8\",\"zerolinewidth\":2}}},\"xaxis\":{\"anchor\":\"y\",\"domain\":[0.0,1.0],\"title\":{\"text\":\"Date\"}},\"yaxis\":{\"anchor\":\"x\",\"domain\":[0.0,1.0],\"title\":{\"text\":\"accelMeans14\"}}},                        {\"responsive\": true}                    ).then(function(){\n                            \nvar gd = document.getElementById('90cef27e-4e2c-492c-93d5-b60115d77a4c');\nvar x = new MutationObserver(function (mutations, observer) {{\n        var display = window.getComputedStyle(gd).display;\n        if (!display || display === 'none') {{\n            console.log([gd, 'removed!']);\n            Plotly.purge(gd);\n            observer.disconnect();\n        }}\n}});\n\n// Listen for the removal of the full notebook cells\nvar notebookContainer = gd.closest('#notebook-container');\nif (notebookContainer) {{\n    x.observe(notebookContainer, {childList: true});\n}}\n\n// Listen for the clearing of the current output cell\nvar outputEl = gd.closest('.output');\nif (outputEl) {{\n    x.observe(outputEl, {childList: true});\n}}\n\n                        })                };                            </script>        </div>\n</body>\n</html>"
     },
     "metadata": {},
     "output_type": "display_data"
    }
   ],
   "execution_count": null
  },
  {
   "cell_type": "markdown",
   "source": "#  ##--\n\n# CUBA\n\n## Análisis de Cuba\n\n#  ##--",
   "metadata": {
    "cell_id": "00006-ed3d31bf-a4f2-4038-985a-869fa17d5a24",
    "deepnote_cell_type": "markdown"
   }
  },
  {
   "cell_type": "code",
   "metadata": {
    "cell_id": "00007-39f45ad8-e31e-4f8b-b0ac-1dba3efd91d3",
    "deepnote_to_be_reexecuted": false,
    "source_hash": "79016e87",
    "execution_start": 1632422561552,
    "execution_millis": 74,
    "deepnote_cell_type": "code"
   },
   "source": "fig = px.line(cuba, x=\"Date\", y=\"N\", template=chartTemplate)\n\nfig.update_layout({\"title\": 'Casos - Cuba',\n                   \"xaxis\": {\"title\":\"Días\"},\n                   \"yaxis\": {\"title\":\"Casos\"},\n                   \"showlegend\": False})\n\nfig.show()",
   "outputs": [
    {
     "data": {
      "text/html": "<html>\n<head><meta charset=\"utf-8\" /></head>\n<body>\n    <div>            <script src=\"https://cdnjs.cloudflare.com/ajax/libs/mathjax/2.7.5/MathJax.js?config=TeX-AMS-MML_SVG\"></script><script type=\"text/javascript\">if (window.MathJax) {MathJax.Hub.Config({SVG: {font: \"STIX-Web\"}});}</script>                <script type=\"text/javascript\">window.PlotlyConfig = {MathJaxConfig: 'local'};</script>\n        <script src=\"https://cdn.plot.ly/plotly-2.4.2.min.js\"></script>                <div id=\"454dd7c7-ef63-42d0-8dd3-452f43d232f9\" class=\"plotly-graph-div\" style=\"height:525px; width:100%;\"></div>            <script type=\"text/javascript\">                                    window.PLOTLYENV=window.PLOTLYENV || {};                                    if (document.getElementById(\"454dd7c7-ef63-42d0-8dd3-452f43d232f9\")) {                    Plotly.newPlot(                        \"454dd7c7-ef63-42d0-8dd3-452f43d232f9\",                        [{\"hovertemplate\":\"Date=%{x}<br>N=%{y}<extra></extra>\",\"legendgroup\":\"\",\"line\":{\"color\":\"#636efa\",\"dash\":\"solid\"},\"marker\":{\"symbol\":\"circle\"},\"mode\":\"lines\",\"name\":\"\",\"orientation\":\"v\",\"showlegend\":false,\"type\":\"scatter\",\"x\":[\"2020/03/11\",\"2020/03/13\",\"2020/03/16\",\"2020/03/17\",\"2020/03/18\",\"2020/03/19\",\"2020/03/20\",\"2020/03/21\",\"2020/03/22\",\"2020/03/23\",\"2020/03/24\",\"2020/03/25\",\"2020/03/26\",\"2020/03/27\",\"2020/03/28\",\"2020/03/29\",\"2020/03/30\",\"2020/03/31\",\"2020/04/01\",\"2020/04/02\",\"2020/04/03\",\"2020/04/04\",\"2020/04/05\",\"2020/04/06\",\"2020/04/07\",\"2020/04/08\",\"2020/04/09\",\"2020/04/10\",\"2020/04/11\",\"2020/04/12\",\"2020/04/13\",\"2020/04/14\",\"2020/04/15\",\"2020/04/16\",\"2020/04/17\",\"2020/04/18\",\"2020/04/19\",\"2020/04/20\",\"2020/04/21\",\"2020/04/22\",\"2020/04/23\",\"2020/04/24\",\"2020/04/25\",\"2020/04/26\",\"2020/04/27\",\"2020/04/28\",\"2020/04/29\",\"2020/04/30\",\"2020/05/01\",\"2020/05/02\",\"2020/05/03\",\"2020/05/04\",\"2020/05/05\",\"2020/05/06\",\"2020/05/07\",\"2020/05/08\",\"2020/05/09\",\"2020/05/10\",\"2020/05/11\",\"2020/05/12\",\"2020/05/13\",\"2020/05/14\",\"2020/05/15\",\"2020/05/16\",\"2020/05/17\",\"2020/05/18\",\"2020/05/19\",\"2020/05/20\",\"2020/05/21\",\"2020/05/22\",\"2020/05/23\",\"2020/05/24\",\"2020/05/25\",\"2020/05/26\",\"2020/05/27\",\"2020/05/28\",\"2020/05/29\",\"2020/05/30\",\"2020/05/31\",\"2020/06/01\",\"2020/06/02\",\"2020/06/03\",\"2020/06/04\",\"2020/06/05\",\"2020/06/06\",\"2020/06/07\",\"2020/06/08\",\"2020/06/09\",\"2020/06/10\",\"2020/06/11\",\"2020/06/12\",\"2020/06/13\",\"2020/06/14\",\"2020/06/15\",\"2020/06/16\",\"2020/06/17\",\"2020/06/18\",\"2020/06/19\",\"2020/06/20\",\"2020/06/21\",\"2020/06/22\",\"2020/06/23\",\"2020/06/24\",\"2020/06/25\",\"2020/06/26\",\"2020/06/27\",\"2020/06/28\",\"2020/06/29\",\"2020/06/30\",\"2020/07/01\",\"2020/07/02\",\"2020/07/03\",\"2020/07/04\",\"2020/07/05\",\"2020/07/06\",\"2020/07/07\",\"2020/07/08\",\"2020/07/09\",\"2020/07/10\",\"2020/07/11\",\"2020/07/12\",\"2020/07/13\",\"2020/07/14\",\"2020/07/15\",\"2020/07/16\",\"2020/07/17\",\"2020/07/18\",\"2020/07/20\",\"2020/07/21\",\"2020/07/22\",\"2020/07/23\",\"2020/07/24\",\"2020/07/25\",\"2020/07/26\",\"2020/07/27\",\"2020/07/28\",\"2020/07/29\",\"2020/07/30\",\"2020/07/31\",\"2020/08/01\",\"2020/08/02\",\"2020/08/03\",\"2020/08/04\",\"2020/08/05\",\"2020/08/06\",\"2020/08/07\",\"2020/08/08\",\"2020/08/09\",\"2020/08/10\",\"2020/08/11\",\"2020/08/12\",\"2020/08/13\",\"2020/08/14\",\"2020/08/15\",\"2020/08/16\",\"2020/08/17\",\"2020/08/18\",\"2020/08/19\",\"2020/08/20\",\"2020/08/21\",\"2020/08/22\",\"2020/08/23\",\"2020/08/24\",\"2020/08/25\",\"2020/08/26\",\"2020/08/27\",\"2020/08/28\",\"2020/08/29\",\"2020/08/30\",\"2020/08/31\",\"2020/09/01\",\"2020/09/02\",\"2020/09/03\",\"2020/09/04\",\"2020/09/05\",\"2020/09/06\",\"2020/09/07\",\"2020/09/08\",\"2020/09/09\",\"2020/09/10\",\"2020/09/11\",\"2020/09/12\",\"2020/09/13\",\"2020/09/14\",\"2020/09/15\",\"2020/09/16\",\"2020/09/17\",\"2020/09/18\",\"2020/09/19\",\"2020/09/20\",\"2020/09/21\",\"2020/09/22\",\"2020/09/23\",\"2020/09/24\",\"2020/09/25\",\"2020/09/26\",\"2020/09/27\",\"2020/09/28\",\"2020/09/29\",\"2020/09/30\",\"2020/10/01\",\"2020/10/02\",\"2020/10/03\",\"2020/10/04\",\"2020/10/05\",\"2020/10/06\",\"2020/10/07\",\"2020/10/08\",\"2020/10/09\",\"2020/10/10\",\"2020/10/11\",\"2020/10/12\",\"2020/10/13\",\"2020/10/14\",\"2020/10/15\",\"2020/10/16\",\"2020/10/17\",\"2020/10/18\",\"2020/10/19\",\"2020/10/20\",\"2020/10/21\",\"2020/10/22\",\"2020/10/23\",\"2020/10/24\",\"2020/10/25\",\"2020/10/26\",\"2020/10/27\",\"2020/10/28\",\"2020/10/29\",\"2020/10/30\",\"2020/10/31\",\"2020/11/01\",\"2020/11/02\",\"2020/11/03\",\"2020/11/04\",\"2020/11/05\",\"2020/11/06\",\"2020/11/07\",\"2020/11/08\",\"2020/11/09\",\"2020/11/10\",\"2020/11/11\",\"2020/11/12\",\"2020/11/13\",\"2020/11/14\",\"2020/11/15\",\"2020/11/16\",\"2020/11/17\",\"2020/11/18\",\"2020/11/19\",\"2020/11/20\",\"2020/11/21\",\"2020/11/22\",\"2020/11/23\",\"2020/11/24\",\"2020/11/25\",\"2020/11/26\",\"2020/11/27\",\"2020/11/28\",\"2020/11/29\",\"2020/11/30\",\"2020/12/01\",\"2020/12/02\",\"2020/12/03\",\"2020/12/04\",\"2020/12/05\",\"2020/12/06\",\"2020/12/07\",\"2020/12/08\",\"2020/12/09\",\"2020/12/10\",\"2020/12/11\",\"2020/12/12\",\"2020/12/13\",\"2020/12/14\",\"2020/12/15\",\"2020/12/16\",\"2020/12/17\",\"2020/12/18\",\"2020/12/19\",\"2020/12/20\",\"2020/12/21\",\"2020/12/22\",\"2020/12/23\",\"2020/12/24\",\"2020/12/25\",\"2020/12/26\",\"2020/12/27\",\"2020/12/28\",\"2020/12/29\",\"2020/12/30\",\"2020/12/31\",\"2021/01/01\",\"2021/01/02\",\"2021/01/03\",\"2021/01/04\",\"2021/01/05\",\"2021/01/06\",\"2021/01/07\",\"2021/01/08\",\"2021/01/09\",\"2021/01/10\",\"2021/01/11\",\"2021/01/12\",\"2021/01/13\",\"2021/01/14\",\"2021/01/15\",\"2021/01/16\",\"2021/01/17\",\"2021/01/18\",\"2021/01/19\",\"2021/01/20\",\"2021/01/21\",\"2021/01/22\",\"2021/01/23\",\"2021/01/24\",\"2021/01/25\",\"2021/01/26\",\"2021/01/27\",\"2021/01/28\",\"2021/01/29\",\"2021/01/30\",\"2021/01/31\",\"2021/02/01\",\"2021/02/02\",\"2021/02/03\",\"2021/02/04\",\"2021/02/05\",\"2021/02/06\",\"2021/02/07\",\"2021/02/08\",\"2021/02/09\",\"2021/02/10\",\"2021/02/11\",\"2021/02/12\",\"2021/02/13\",\"2021/02/14\",\"2021/02/15\",\"2021/02/16\",\"2021/02/17\",\"2021/02/18\",\"2021/02/19\",\"2021/02/20\",\"2021/02/21\",\"2021/02/22\",\"2021/02/23\",\"2021/02/24\",\"2021/02/25\",\"2021/02/26\",\"2021/02/27\",\"2021/02/28\",\"2021/03/01\",\"2021/03/02\",\"2021/03/03\",\"2021/03/04\",\"2021/03/05\",\"2021/03/06\",\"2021/03/07\",\"2021/03/08\",\"2021/03/09\",\"2021/03/10\",\"2021/03/11\",\"2021/03/12\",\"2021/03/13\",\"2021/03/14\",\"2021/03/15\",\"2021/03/16\",\"2021/03/17\",\"2021/03/18\",\"2021/03/19\",\"2021/03/20\",\"2021/03/21\",\"2021/03/22\",\"2021/03/23\",\"2021/03/24\",\"2021/03/25\",\"2021/03/26\",\"2021/03/27\",\"2021/03/28\",\"2021/03/29\",\"2021/03/30\",\"2021/03/31\",\"2021/04/01\",\"2021/04/02\",\"2021/04/03\",\"2021/04/04\",\"2021/04/05\",\"2021/04/06\",\"2021/04/07\",\"2021/04/08\",\"2021/04/09\",\"2021/04/10\",\"2021/04/11\",\"2021/04/12\",\"2021/04/13\",\"2021/04/14\",\"2021/04/15\",\"2021/04/16\",\"2021/04/17\",\"2021/04/18\",\"2021/04/19\",\"2021/04/20\",\"2021/04/21\",\"2021/04/22\",\"2021/04/23\",\"2021/04/24\",\"2021/04/25\",\"2021/04/26\",\"2021/04/27\",\"2021/04/28\",\"2021/04/29\",\"2021/04/30\",\"2021/05/01\",\"2021/05/02\",\"2021/05/03\",\"2021/05/04\",\"2021/05/05\",\"2021/05/06\",\"2021/05/07\",\"2021/05/08\",\"2021/05/09\",\"2021/05/10\",\"2021/05/11\",\"2021/05/12\",\"2021/05/13\",\"2021/05/14\",\"2021/05/15\",\"2021/05/16\",\"2021/05/17\",\"2021/05/18\",\"2021/05/19\",\"2021/05/20\",\"2021/05/21\",\"2021/05/22\",\"2021/05/23\",\"2021/05/24\",\"2021/05/25\",\"2021/05/26\",\"2021/05/27\",\"2021/05/28\",\"2021/05/29\",\"2021/05/30\",\"2021/05/31\",\"2021/06/01\",\"2021/06/02\",\"2021/06/03\",\"2021/06/04\",\"2021/06/05\",\"2021/06/06\",\"2021/06/07\",\"2021/06/08\",\"2021/06/09\",\"2021/06/10\",\"2021/06/11\",\"2021/06/12\",\"2021/06/13\",\"2021/06/14\",\"2021/06/15\",\"2021/06/16\",\"2021/06/17\",\"2021/06/18\",\"2021/06/19\",\"2021/06/20\",\"2021/06/21\",\"2021/06/22\",\"2021/06/23\",\"2021/06/24\",\"2021/06/25\",\"2021/06/26\",\"2021/06/27\",\"2021/06/28\",\"2021/06/29\",\"2021/06/30\",\"2021/07/01\",\"2021/07/02\",\"2021/07/03\",\"2021/07/04\"],\"xaxis\":\"x\",\"y\":[3,1,1,2,4,5,9,10,5,8,9,10,13,39,20,31,16,26,21,36,19,32,30,46,61,58,49,56,49,57,40,48,48,61,63,49,52,50,52,46,50,52,32,20,48,30,34,36,74,38,19,17,18,26,12,13,12,17,21,6,20,10,22,10,9,6,13,8,8,15,10,6,16,11,9,22,20,20,38,9,15,12,14,40,18,9,5,6,8,14,5,10,14,11,7,15,10,4,3,3,3,1,2,4,5,2,8,1,7,5,8,8,3,8,15,4,4,10,7,6,2,4,6,2,4,1,1,3,13,4,3,9,17,37,23,33,9,11,25,13,24,31,25,49,54,59,65,93,47,35,45,56,63,24,48,44,74,83,17,35,65,35,27,15,47,60,59,48,59,33,61,88,52,32,11,43,25,82,92,42,60,31,42,77,73,57,71,51,36,50,81,48,40,40,62,45,26,48,66,73,48,62,29,36,38,15,19,26,5,30,22,17,18,27,56,52,50,38,47,63,53,58,55,32,29,83,49,39,35,86,48,35,65,109,40,44,39,30,52,43,37,58,54,27,22,49,28,37,21,38,35,48,33,71,76,49,35,63,60,51,97,75,75,79,104,68,124,76,124,75,86,87,69,69,96,83,100,122,131,103,115,142,116,217,183,138,167,229,167,86,176,193,169,199,316,224,201,314,344,365,388,431,487,550,505,547,405,650,292,330,349,408,530,567,634,567,786,825,666,659,910,1012,906,1044,893,816,845,821,820,653,580,858,850,823,888,806,715,937,824,923,859,937,1039,838,836,699,670,875,720,618,811,997,914,807,777,750,858,873,1041,772,778,762,639,914,734,792,727,689,735,813,796,718,774,736,816,832,950,919,701,1008,1051,1013,1077,1029,1162,1066,1030,961,914,1017,1040,959,854,1060,959,1004,1040,1026,1037,1060,1183,1006,1207,1241,1110,1185,938,1083,988,1149,1046,915,1071,932,1019,1010,1060,1162,1036,1069,1116,1071,1207,1186,1277,1383,1233,1057,1244,1339,1252,1197,1289,1221,1155,1291,1129,1102,1169,1188,1079,1100,1057,1191,1053,1129,1135,1087,1185,1156,1161,1158,1288,1372,1470,1349,1537,1403,1418,1481,1472,1436,1561,1489,2055,1880,2464,2403,2698,2589,3080,2970,2952,3308,3475,3519,3075],\"yaxis\":\"y\"}],                        {\"legend\":{\"tracegroupgap\":0},\"margin\":{\"t\":60},\"showlegend\":false,\"template\":{\"data\":{\"bar\":[{\"error_x\":{\"color\":\"#2a3f5f\"},\"error_y\":{\"color\":\"#2a3f5f\"},\"marker\":{\"line\":{\"color\":\"white\",\"width\":0.5},\"pattern\":{\"fillmode\":\"overlay\",\"size\":10,\"solidity\":0.2}},\"type\":\"bar\"}],\"barpolar\":[{\"marker\":{\"line\":{\"color\":\"white\",\"width\":0.5},\"pattern\":{\"fillmode\":\"overlay\",\"size\":10,\"solidity\":0.2}},\"type\":\"barpolar\"}],\"carpet\":[{\"aaxis\":{\"endlinecolor\":\"#2a3f5f\",\"gridcolor\":\"#C8D4E3\",\"linecolor\":\"#C8D4E3\",\"minorgridcolor\":\"#C8D4E3\",\"startlinecolor\":\"#2a3f5f\"},\"baxis\":{\"endlinecolor\":\"#2a3f5f\",\"gridcolor\":\"#C8D4E3\",\"linecolor\":\"#C8D4E3\",\"minorgridcolor\":\"#C8D4E3\",\"startlinecolor\":\"#2a3f5f\"},\"type\":\"carpet\"}],\"choropleth\":[{\"colorbar\":{\"outlinewidth\":0,\"ticks\":\"\"},\"type\":\"choropleth\"}],\"contour\":[{\"colorbar\":{\"outlinewidth\":0,\"ticks\":\"\"},\"colorscale\":[[0.0,\"#0d0887\"],[0.1111111111111111,\"#46039f\"],[0.2222222222222222,\"#7201a8\"],[0.3333333333333333,\"#9c179e\"],[0.4444444444444444,\"#bd3786\"],[0.5555555555555556,\"#d8576b\"],[0.6666666666666666,\"#ed7953\"],[0.7777777777777778,\"#fb9f3a\"],[0.8888888888888888,\"#fdca26\"],[1.0,\"#f0f921\"]],\"type\":\"contour\"}],\"contourcarpet\":[{\"colorbar\":{\"outlinewidth\":0,\"ticks\":\"\"},\"type\":\"contourcarpet\"}],\"heatmap\":[{\"colorbar\":{\"outlinewidth\":0,\"ticks\":\"\"},\"colorscale\":[[0.0,\"#0d0887\"],[0.1111111111111111,\"#46039f\"],[0.2222222222222222,\"#7201a8\"],[0.3333333333333333,\"#9c179e\"],[0.4444444444444444,\"#bd3786\"],[0.5555555555555556,\"#d8576b\"],[0.6666666666666666,\"#ed7953\"],[0.7777777777777778,\"#fb9f3a\"],[0.8888888888888888,\"#fdca26\"],[1.0,\"#f0f921\"]],\"type\":\"heatmap\"}],\"heatmapgl\":[{\"colorbar\":{\"outlinewidth\":0,\"ticks\":\"\"},\"colorscale\":[[0.0,\"#0d0887\"],[0.1111111111111111,\"#46039f\"],[0.2222222222222222,\"#7201a8\"],[0.3333333333333333,\"#9c179e\"],[0.4444444444444444,\"#bd3786\"],[0.5555555555555556,\"#d8576b\"],[0.6666666666666666,\"#ed7953\"],[0.7777777777777778,\"#fb9f3a\"],[0.8888888888888888,\"#fdca26\"],[1.0,\"#f0f921\"]],\"type\":\"heatmapgl\"}],\"histogram\":[{\"marker\":{\"pattern\":{\"fillmode\":\"overlay\",\"size\":10,\"solidity\":0.2}},\"type\":\"histogram\"}],\"histogram2d\":[{\"colorbar\":{\"outlinewidth\":0,\"ticks\":\"\"},\"colorscale\":[[0.0,\"#0d0887\"],[0.1111111111111111,\"#46039f\"],[0.2222222222222222,\"#7201a8\"],[0.3333333333333333,\"#9c179e\"],[0.4444444444444444,\"#bd3786\"],[0.5555555555555556,\"#d8576b\"],[0.6666666666666666,\"#ed7953\"],[0.7777777777777778,\"#fb9f3a\"],[0.8888888888888888,\"#fdca26\"],[1.0,\"#f0f921\"]],\"type\":\"histogram2d\"}],\"histogram2dcontour\":[{\"colorbar\":{\"outlinewidth\":0,\"ticks\":\"\"},\"colorscale\":[[0.0,\"#0d0887\"],[0.1111111111111111,\"#46039f\"],[0.2222222222222222,\"#7201a8\"],[0.3333333333333333,\"#9c179e\"],[0.4444444444444444,\"#bd3786\"],[0.5555555555555556,\"#d8576b\"],[0.6666666666666666,\"#ed7953\"],[0.7777777777777778,\"#fb9f3a\"],[0.8888888888888888,\"#fdca26\"],[1.0,\"#f0f921\"]],\"type\":\"histogram2dcontour\"}],\"mesh3d\":[{\"colorbar\":{\"outlinewidth\":0,\"ticks\":\"\"},\"type\":\"mesh3d\"}],\"parcoords\":[{\"line\":{\"colorbar\":{\"outlinewidth\":0,\"ticks\":\"\"}},\"type\":\"parcoords\"}],\"pie\":[{\"automargin\":true,\"type\":\"pie\"}],\"scatter\":[{\"marker\":{\"colorbar\":{\"outlinewidth\":0,\"ticks\":\"\"}},\"type\":\"scatter\"}],\"scatter3d\":[{\"line\":{\"colorbar\":{\"outlinewidth\":0,\"ticks\":\"\"}},\"marker\":{\"colorbar\":{\"outlinewidth\":0,\"ticks\":\"\"}},\"type\":\"scatter3d\"}],\"scattercarpet\":[{\"marker\":{\"colorbar\":{\"outlinewidth\":0,\"ticks\":\"\"}},\"type\":\"scattercarpet\"}],\"scattergeo\":[{\"marker\":{\"colorbar\":{\"outlinewidth\":0,\"ticks\":\"\"}},\"type\":\"scattergeo\"}],\"scattergl\":[{\"marker\":{\"colorbar\":{\"outlinewidth\":0,\"ticks\":\"\"}},\"type\":\"scattergl\"}],\"scattermapbox\":[{\"marker\":{\"colorbar\":{\"outlinewidth\":0,\"ticks\":\"\"}},\"type\":\"scattermapbox\"}],\"scatterpolar\":[{\"marker\":{\"colorbar\":{\"outlinewidth\":0,\"ticks\":\"\"}},\"type\":\"scatterpolar\"}],\"scatterpolargl\":[{\"marker\":{\"colorbar\":{\"outlinewidth\":0,\"ticks\":\"\"}},\"type\":\"scatterpolargl\"}],\"scatterternary\":[{\"marker\":{\"colorbar\":{\"outlinewidth\":0,\"ticks\":\"\"}},\"type\":\"scatterternary\"}],\"surface\":[{\"colorbar\":{\"outlinewidth\":0,\"ticks\":\"\"},\"colorscale\":[[0.0,\"#0d0887\"],[0.1111111111111111,\"#46039f\"],[0.2222222222222222,\"#7201a8\"],[0.3333333333333333,\"#9c179e\"],[0.4444444444444444,\"#bd3786\"],[0.5555555555555556,\"#d8576b\"],[0.6666666666666666,\"#ed7953\"],[0.7777777777777778,\"#fb9f3a\"],[0.8888888888888888,\"#fdca26\"],[1.0,\"#f0f921\"]],\"type\":\"surface\"}],\"table\":[{\"cells\":{\"fill\":{\"color\":\"#EBF0F8\"},\"line\":{\"color\":\"white\"}},\"header\":{\"fill\":{\"color\":\"#C8D4E3\"},\"line\":{\"color\":\"white\"}},\"type\":\"table\"}]},\"layout\":{\"annotationdefaults\":{\"arrowcolor\":\"#2a3f5f\",\"arrowhead\":0,\"arrowwidth\":1},\"autotypenumbers\":\"strict\",\"coloraxis\":{\"colorbar\":{\"outlinewidth\":0,\"ticks\":\"\"}},\"colorscale\":{\"diverging\":[[0,\"#8e0152\"],[0.1,\"#c51b7d\"],[0.2,\"#de77ae\"],[0.3,\"#f1b6da\"],[0.4,\"#fde0ef\"],[0.5,\"#f7f7f7\"],[0.6,\"#e6f5d0\"],[0.7,\"#b8e186\"],[0.8,\"#7fbc41\"],[0.9,\"#4d9221\"],[1,\"#276419\"]],\"sequential\":[[0.0,\"#0d0887\"],[0.1111111111111111,\"#46039f\"],[0.2222222222222222,\"#7201a8\"],[0.3333333333333333,\"#9c179e\"],[0.4444444444444444,\"#bd3786\"],[0.5555555555555556,\"#d8576b\"],[0.6666666666666666,\"#ed7953\"],[0.7777777777777778,\"#fb9f3a\"],[0.8888888888888888,\"#fdca26\"],[1.0,\"#f0f921\"]],\"sequentialminus\":[[0.0,\"#0d0887\"],[0.1111111111111111,\"#46039f\"],[0.2222222222222222,\"#7201a8\"],[0.3333333333333333,\"#9c179e\"],[0.4444444444444444,\"#bd3786\"],[0.5555555555555556,\"#d8576b\"],[0.6666666666666666,\"#ed7953\"],[0.7777777777777778,\"#fb9f3a\"],[0.8888888888888888,\"#fdca26\"],[1.0,\"#f0f921\"]]},\"colorway\":[\"#636efa\",\"#EF553B\",\"#00cc96\",\"#ab63fa\",\"#FFA15A\",\"#19d3f3\",\"#FF6692\",\"#B6E880\",\"#FF97FF\",\"#FECB52\"],\"font\":{\"color\":\"#2a3f5f\"},\"geo\":{\"bgcolor\":\"white\",\"lakecolor\":\"white\",\"landcolor\":\"white\",\"showlakes\":true,\"showland\":true,\"subunitcolor\":\"#C8D4E3\"},\"hoverlabel\":{\"align\":\"left\"},\"hovermode\":\"closest\",\"mapbox\":{\"style\":\"light\"},\"paper_bgcolor\":\"white\",\"plot_bgcolor\":\"white\",\"polar\":{\"angularaxis\":{\"gridcolor\":\"#EBF0F8\",\"linecolor\":\"#EBF0F8\",\"ticks\":\"\"},\"bgcolor\":\"white\",\"radialaxis\":{\"gridcolor\":\"#EBF0F8\",\"linecolor\":\"#EBF0F8\",\"ticks\":\"\"}},\"scene\":{\"xaxis\":{\"backgroundcolor\":\"white\",\"gridcolor\":\"#DFE8F3\",\"gridwidth\":2,\"linecolor\":\"#EBF0F8\",\"showbackground\":true,\"ticks\":\"\",\"zerolinecolor\":\"#EBF0F8\"},\"yaxis\":{\"backgroundcolor\":\"white\",\"gridcolor\":\"#DFE8F3\",\"gridwidth\":2,\"linecolor\":\"#EBF0F8\",\"showbackground\":true,\"ticks\":\"\",\"zerolinecolor\":\"#EBF0F8\"},\"zaxis\":{\"backgroundcolor\":\"white\",\"gridcolor\":\"#DFE8F3\",\"gridwidth\":2,\"linecolor\":\"#EBF0F8\",\"showbackground\":true,\"ticks\":\"\",\"zerolinecolor\":\"#EBF0F8\"}},\"shapedefaults\":{\"line\":{\"color\":\"#2a3f5f\"}},\"ternary\":{\"aaxis\":{\"gridcolor\":\"#DFE8F3\",\"linecolor\":\"#A2B1C6\",\"ticks\":\"\"},\"baxis\":{\"gridcolor\":\"#DFE8F3\",\"linecolor\":\"#A2B1C6\",\"ticks\":\"\"},\"bgcolor\":\"white\",\"caxis\":{\"gridcolor\":\"#DFE8F3\",\"linecolor\":\"#A2B1C6\",\"ticks\":\"\"}},\"title\":{\"x\":0.05},\"xaxis\":{\"automargin\":true,\"gridcolor\":\"#EBF0F8\",\"linecolor\":\"#EBF0F8\",\"ticks\":\"\",\"title\":{\"standoff\":15},\"zerolinecolor\":\"#EBF0F8\",\"zerolinewidth\":2},\"yaxis\":{\"automargin\":true,\"gridcolor\":\"#EBF0F8\",\"linecolor\":\"#EBF0F8\",\"ticks\":\"\",\"title\":{\"standoff\":15},\"zerolinecolor\":\"#EBF0F8\",\"zerolinewidth\":2}}},\"title\":{\"text\":\"Casos - Cuba\"},\"xaxis\":{\"anchor\":\"y\",\"domain\":[0.0,1.0],\"title\":{\"text\":\"D\\u00edas\"}},\"yaxis\":{\"anchor\":\"x\",\"domain\":[0.0,1.0],\"title\":{\"text\":\"Casos\"}}},                        {\"responsive\": true}                    ).then(function(){\n                            \nvar gd = document.getElementById('454dd7c7-ef63-42d0-8dd3-452f43d232f9');\nvar x = new MutationObserver(function (mutations, observer) {{\n        var display = window.getComputedStyle(gd).display;\n        if (!display || display === 'none') {{\n            console.log([gd, 'removed!']);\n            Plotly.purge(gd);\n            observer.disconnect();\n        }}\n}});\n\n// Listen for the removal of the full notebook cells\nvar notebookContainer = gd.closest('#notebook-container');\nif (notebookContainer) {{\n    x.observe(notebookContainer, {childList: true});\n}}\n\n// Listen for the clearing of the current output cell\nvar outputEl = gd.closest('.output');\nif (outputEl) {{\n    x.observe(outputEl, {childList: true});\n}}\n\n                        })                };                            </script>        </div>\n</body>\n</html>"
     },
     "metadata": {},
     "output_type": "display_data"
    }
   ],
   "execution_count": null
  },
  {
   "cell_type": "code",
   "metadata": {
    "cell_id": "00008-af47d852-ea9a-4e06-88b1-213015b82ef8",
    "deepnote_to_be_reexecuted": false,
    "source_hash": "6f1953c2",
    "execution_start": 1632422561638,
    "execution_millis": 67,
    "deepnote_cell_type": "code"
   },
   "source": "fig = px.line(cuba, x=\"Date\", y=\"vel\", template=chartTemplate)\n\nfig.update_layout({\"title\": 'Velocidad - Cuba',\n                   \"xaxis\": {\"title\":\"Días\"},\n                   \"yaxis\": {\"title\":\"Casos\"},\n                   \"showlegend\": False})\n\nfig.show()",
   "outputs": [
    {
     "data": {
      "text/html": "<html>\n<head><meta charset=\"utf-8\" /></head>\n<body>\n    <div>            <script src=\"https://cdnjs.cloudflare.com/ajax/libs/mathjax/2.7.5/MathJax.js?config=TeX-AMS-MML_SVG\"></script><script type=\"text/javascript\">if (window.MathJax) {MathJax.Hub.Config({SVG: {font: \"STIX-Web\"}});}</script>                <script type=\"text/javascript\">window.PlotlyConfig = {MathJaxConfig: 'local'};</script>\n        <script src=\"https://cdn.plot.ly/plotly-2.4.2.min.js\"></script>                <div id=\"f90b6fe8-442c-4833-bb55-02a9971b6dd8\" class=\"plotly-graph-div\" style=\"height:525px; width:100%;\"></div>            <script type=\"text/javascript\">                                    window.PLOTLYENV=window.PLOTLYENV || {};                                    if (document.getElementById(\"f90b6fe8-442c-4833-bb55-02a9971b6dd8\")) {                    Plotly.newPlot(                        \"f90b6fe8-442c-4833-bb55-02a9971b6dd8\",                        [{\"hovertemplate\":\"Date=%{x}<br>vel=%{y}<extra></extra>\",\"legendgroup\":\"\",\"line\":{\"color\":\"#636efa\",\"dash\":\"solid\"},\"marker\":{\"symbol\":\"circle\"},\"mode\":\"lines\",\"name\":\"\",\"orientation\":\"v\",\"showlegend\":false,\"type\":\"scatter\",\"x\":[\"2020/03/11\",\"2020/03/13\",\"2020/03/16\",\"2020/03/17\",\"2020/03/18\",\"2020/03/19\",\"2020/03/20\",\"2020/03/21\",\"2020/03/22\",\"2020/03/23\",\"2020/03/24\",\"2020/03/25\",\"2020/03/26\",\"2020/03/27\",\"2020/03/28\",\"2020/03/29\",\"2020/03/30\",\"2020/03/31\",\"2020/04/01\",\"2020/04/02\",\"2020/04/03\",\"2020/04/04\",\"2020/04/05\",\"2020/04/06\",\"2020/04/07\",\"2020/04/08\",\"2020/04/09\",\"2020/04/10\",\"2020/04/11\",\"2020/04/12\",\"2020/04/13\",\"2020/04/14\",\"2020/04/15\",\"2020/04/16\",\"2020/04/17\",\"2020/04/18\",\"2020/04/19\",\"2020/04/20\",\"2020/04/21\",\"2020/04/22\",\"2020/04/23\",\"2020/04/24\",\"2020/04/25\",\"2020/04/26\",\"2020/04/27\",\"2020/04/28\",\"2020/04/29\",\"2020/04/30\",\"2020/05/01\",\"2020/05/02\",\"2020/05/03\",\"2020/05/04\",\"2020/05/05\",\"2020/05/06\",\"2020/05/07\",\"2020/05/08\",\"2020/05/09\",\"2020/05/10\",\"2020/05/11\",\"2020/05/12\",\"2020/05/13\",\"2020/05/14\",\"2020/05/15\",\"2020/05/16\",\"2020/05/17\",\"2020/05/18\",\"2020/05/19\",\"2020/05/20\",\"2020/05/21\",\"2020/05/22\",\"2020/05/23\",\"2020/05/24\",\"2020/05/25\",\"2020/05/26\",\"2020/05/27\",\"2020/05/28\",\"2020/05/29\",\"2020/05/30\",\"2020/05/31\",\"2020/06/01\",\"2020/06/02\",\"2020/06/03\",\"2020/06/04\",\"2020/06/05\",\"2020/06/06\",\"2020/06/07\",\"2020/06/08\",\"2020/06/09\",\"2020/06/10\",\"2020/06/11\",\"2020/06/12\",\"2020/06/13\",\"2020/06/14\",\"2020/06/15\",\"2020/06/16\",\"2020/06/17\",\"2020/06/18\",\"2020/06/19\",\"2020/06/20\",\"2020/06/21\",\"2020/06/22\",\"2020/06/23\",\"2020/06/24\",\"2020/06/25\",\"2020/06/26\",\"2020/06/27\",\"2020/06/28\",\"2020/06/29\",\"2020/06/30\",\"2020/07/01\",\"2020/07/02\",\"2020/07/03\",\"2020/07/04\",\"2020/07/05\",\"2020/07/06\",\"2020/07/07\",\"2020/07/08\",\"2020/07/09\",\"2020/07/10\",\"2020/07/11\",\"2020/07/12\",\"2020/07/13\",\"2020/07/14\",\"2020/07/15\",\"2020/07/16\",\"2020/07/17\",\"2020/07/18\",\"2020/07/20\",\"2020/07/21\",\"2020/07/22\",\"2020/07/23\",\"2020/07/24\",\"2020/07/25\",\"2020/07/26\",\"2020/07/27\",\"2020/07/28\",\"2020/07/29\",\"2020/07/30\",\"2020/07/31\",\"2020/08/01\",\"2020/08/02\",\"2020/08/03\",\"2020/08/04\",\"2020/08/05\",\"2020/08/06\",\"2020/08/07\",\"2020/08/08\",\"2020/08/09\",\"2020/08/10\",\"2020/08/11\",\"2020/08/12\",\"2020/08/13\",\"2020/08/14\",\"2020/08/15\",\"2020/08/16\",\"2020/08/17\",\"2020/08/18\",\"2020/08/19\",\"2020/08/20\",\"2020/08/21\",\"2020/08/22\",\"2020/08/23\",\"2020/08/24\",\"2020/08/25\",\"2020/08/26\",\"2020/08/27\",\"2020/08/28\",\"2020/08/29\",\"2020/08/30\",\"2020/08/31\",\"2020/09/01\",\"2020/09/02\",\"2020/09/03\",\"2020/09/04\",\"2020/09/05\",\"2020/09/06\",\"2020/09/07\",\"2020/09/08\",\"2020/09/09\",\"2020/09/10\",\"2020/09/11\",\"2020/09/12\",\"2020/09/13\",\"2020/09/14\",\"2020/09/15\",\"2020/09/16\",\"2020/09/17\",\"2020/09/18\",\"2020/09/19\",\"2020/09/20\",\"2020/09/21\",\"2020/09/22\",\"2020/09/23\",\"2020/09/24\",\"2020/09/25\",\"2020/09/26\",\"2020/09/27\",\"2020/09/28\",\"2020/09/29\",\"2020/09/30\",\"2020/10/01\",\"2020/10/02\",\"2020/10/03\",\"2020/10/04\",\"2020/10/05\",\"2020/10/06\",\"2020/10/07\",\"2020/10/08\",\"2020/10/09\",\"2020/10/10\",\"2020/10/11\",\"2020/10/12\",\"2020/10/13\",\"2020/10/14\",\"2020/10/15\",\"2020/10/16\",\"2020/10/17\",\"2020/10/18\",\"2020/10/19\",\"2020/10/20\",\"2020/10/21\",\"2020/10/22\",\"2020/10/23\",\"2020/10/24\",\"2020/10/25\",\"2020/10/26\",\"2020/10/27\",\"2020/10/28\",\"2020/10/29\",\"2020/10/30\",\"2020/10/31\",\"2020/11/01\",\"2020/11/02\",\"2020/11/03\",\"2020/11/04\",\"2020/11/05\",\"2020/11/06\",\"2020/11/07\",\"2020/11/08\",\"2020/11/09\",\"2020/11/10\",\"2020/11/11\",\"2020/11/12\",\"2020/11/13\",\"2020/11/14\",\"2020/11/15\",\"2020/11/16\",\"2020/11/17\",\"2020/11/18\",\"2020/11/19\",\"2020/11/20\",\"2020/11/21\",\"2020/11/22\",\"2020/11/23\",\"2020/11/24\",\"2020/11/25\",\"2020/11/26\",\"2020/11/27\",\"2020/11/28\",\"2020/11/29\",\"2020/11/30\",\"2020/12/01\",\"2020/12/02\",\"2020/12/03\",\"2020/12/04\",\"2020/12/05\",\"2020/12/06\",\"2020/12/07\",\"2020/12/08\",\"2020/12/09\",\"2020/12/10\",\"2020/12/11\",\"2020/12/12\",\"2020/12/13\",\"2020/12/14\",\"2020/12/15\",\"2020/12/16\",\"2020/12/17\",\"2020/12/18\",\"2020/12/19\",\"2020/12/20\",\"2020/12/21\",\"2020/12/22\",\"2020/12/23\",\"2020/12/24\",\"2020/12/25\",\"2020/12/26\",\"2020/12/27\",\"2020/12/28\",\"2020/12/29\",\"2020/12/30\",\"2020/12/31\",\"2021/01/01\",\"2021/01/02\",\"2021/01/03\",\"2021/01/04\",\"2021/01/05\",\"2021/01/06\",\"2021/01/07\",\"2021/01/08\",\"2021/01/09\",\"2021/01/10\",\"2021/01/11\",\"2021/01/12\",\"2021/01/13\",\"2021/01/14\",\"2021/01/15\",\"2021/01/16\",\"2021/01/17\",\"2021/01/18\",\"2021/01/19\",\"2021/01/20\",\"2021/01/21\",\"2021/01/22\",\"2021/01/23\",\"2021/01/24\",\"2021/01/25\",\"2021/01/26\",\"2021/01/27\",\"2021/01/28\",\"2021/01/29\",\"2021/01/30\",\"2021/01/31\",\"2021/02/01\",\"2021/02/02\",\"2021/02/03\",\"2021/02/04\",\"2021/02/05\",\"2021/02/06\",\"2021/02/07\",\"2021/02/08\",\"2021/02/09\",\"2021/02/10\",\"2021/02/11\",\"2021/02/12\",\"2021/02/13\",\"2021/02/14\",\"2021/02/15\",\"2021/02/16\",\"2021/02/17\",\"2021/02/18\",\"2021/02/19\",\"2021/02/20\",\"2021/02/21\",\"2021/02/22\",\"2021/02/23\",\"2021/02/24\",\"2021/02/25\",\"2021/02/26\",\"2021/02/27\",\"2021/02/28\",\"2021/03/01\",\"2021/03/02\",\"2021/03/03\",\"2021/03/04\",\"2021/03/05\",\"2021/03/06\",\"2021/03/07\",\"2021/03/08\",\"2021/03/09\",\"2021/03/10\",\"2021/03/11\",\"2021/03/12\",\"2021/03/13\",\"2021/03/14\",\"2021/03/15\",\"2021/03/16\",\"2021/03/17\",\"2021/03/18\",\"2021/03/19\",\"2021/03/20\",\"2021/03/21\",\"2021/03/22\",\"2021/03/23\",\"2021/03/24\",\"2021/03/25\",\"2021/03/26\",\"2021/03/27\",\"2021/03/28\",\"2021/03/29\",\"2021/03/30\",\"2021/03/31\",\"2021/04/01\",\"2021/04/02\",\"2021/04/03\",\"2021/04/04\",\"2021/04/05\",\"2021/04/06\",\"2021/04/07\",\"2021/04/08\",\"2021/04/09\",\"2021/04/10\",\"2021/04/11\",\"2021/04/12\",\"2021/04/13\",\"2021/04/14\",\"2021/04/15\",\"2021/04/16\",\"2021/04/17\",\"2021/04/18\",\"2021/04/19\",\"2021/04/20\",\"2021/04/21\",\"2021/04/22\",\"2021/04/23\",\"2021/04/24\",\"2021/04/25\",\"2021/04/26\",\"2021/04/27\",\"2021/04/28\",\"2021/04/29\",\"2021/04/30\",\"2021/05/01\",\"2021/05/02\",\"2021/05/03\",\"2021/05/04\",\"2021/05/05\",\"2021/05/06\",\"2021/05/07\",\"2021/05/08\",\"2021/05/09\",\"2021/05/10\",\"2021/05/11\",\"2021/05/12\",\"2021/05/13\",\"2021/05/14\",\"2021/05/15\",\"2021/05/16\",\"2021/05/17\",\"2021/05/18\",\"2021/05/19\",\"2021/05/20\",\"2021/05/21\",\"2021/05/22\",\"2021/05/23\",\"2021/05/24\",\"2021/05/25\",\"2021/05/26\",\"2021/05/27\",\"2021/05/28\",\"2021/05/29\",\"2021/05/30\",\"2021/05/31\",\"2021/06/01\",\"2021/06/02\",\"2021/06/03\",\"2021/06/04\",\"2021/06/05\",\"2021/06/06\",\"2021/06/07\",\"2021/06/08\",\"2021/06/09\",\"2021/06/10\",\"2021/06/11\",\"2021/06/12\",\"2021/06/13\",\"2021/06/14\",\"2021/06/15\",\"2021/06/16\",\"2021/06/17\",\"2021/06/18\",\"2021/06/19\",\"2021/06/20\",\"2021/06/21\",\"2021/06/22\",\"2021/06/23\",\"2021/06/24\",\"2021/06/25\",\"2021/06/26\",\"2021/06/27\",\"2021/06/28\",\"2021/06/29\",\"2021/06/30\",\"2021/07/01\",\"2021/07/02\",\"2021/07/03\",\"2021/07/04\"],\"xaxis\":\"x\",\"y\":[null,-2.0,0.0,1.0,2.0,1.0,4.0,1.0,-5.0,3.0,1.0,1.0,3.0,26.0,-19.0,11.0,-15.0,10.0,-5.0,15.0,-17.0,13.0,-2.0,16.0,15.0,-3.0,-9.0,7.0,-7.0,8.0,-17.0,8.0,0.0,13.0,2.0,-14.0,3.0,-2.0,2.0,-6.0,4.0,2.0,-20.0,-12.0,28.0,-18.0,4.0,2.0,38.0,-36.0,-19.0,-2.0,1.0,8.0,-14.0,1.0,-1.0,5.0,4.0,-15.0,14.0,-10.0,12.0,-12.0,-1.0,-3.0,7.0,-5.0,0.0,7.0,-5.0,-4.0,10.0,-5.0,-2.0,13.0,-2.0,0.0,18.0,-29.0,6.0,-3.0,2.0,26.0,-22.0,-9.0,-4.0,1.0,2.0,6.0,-9.0,5.0,4.0,-3.0,-4.0,8.0,-5.0,-6.0,-1.0,0.0,0.0,-2.0,1.0,2.0,1.0,-3.0,6.0,-7.0,6.0,-2.0,3.0,0.0,-5.0,5.0,7.0,-11.0,0.0,6.0,-3.0,-1.0,-4.0,2.0,2.0,-4.0,2.0,-3.0,0.0,2.0,10.0,-9.0,-1.0,6.0,8.0,20.0,-14.0,10.0,-24.0,2.0,14.0,-12.0,11.0,7.0,-6.0,24.0,5.0,5.0,6.0,28.0,-46.0,-12.0,10.0,11.0,7.0,-39.0,24.0,-4.0,30.0,9.0,-66.0,18.0,30.0,-30.0,-8.0,-12.0,32.0,13.0,-1.0,-11.0,11.0,-26.0,28.0,27.0,-36.0,-20.0,-21.0,32.0,-18.0,57.0,10.0,-50.0,18.0,-29.0,11.0,35.0,-4.0,-16.0,14.0,-20.0,-15.0,14.0,31.0,-33.0,-8.0,0.0,22.0,-17.0,-19.0,22.0,18.0,7.0,-25.0,14.0,-33.0,7.0,2.0,-23.0,4.0,7.0,-21.0,25.0,-8.0,-5.0,1.0,9.0,29.0,-4.0,-2.0,-12.0,9.0,16.0,-10.0,5.0,-3.0,-23.0,-3.0,54.0,-34.0,-10.0,-4.0,51.0,-38.0,-13.0,30.0,44.0,-69.0,4.0,-5.0,-9.0,22.0,-9.0,-6.0,21.0,-4.0,-27.0,-5.0,27.0,-21.0,9.0,-16.0,17.0,-3.0,13.0,-15.0,38.0,5.0,-27.0,-14.0,28.0,-3.0,-9.0,46.0,-22.0,0.0,4.0,25.0,-36.0,56.0,-48.0,48.0,-49.0,11.0,1.0,-18.0,0.0,27.0,-13.0,17.0,22.0,9.0,-28.0,12.0,27.0,-26.0,101.0,-34.0,-45.0,29.0,62.0,-62.0,-81.0,90.0,17.0,-24.0,30.0,117.0,-92.0,-23.0,113.0,30.0,21.0,23.0,43.0,56.0,63.0,-45.0,42.0,-142.0,245.0,-358.0,38.0,19.0,59.0,122.0,37.0,67.0,-67.0,219.0,39.0,-159.0,-7.0,251.0,102.0,-106.0,138.0,-151.0,-77.0,29.0,-24.0,-1.0,-167.0,-73.0,278.0,-8.0,-27.0,65.0,-82.0,-91.0,222.0,-113.0,99.0,-64.0,78.0,102.0,-201.0,-2.0,-137.0,-29.0,205.0,-155.0,-102.0,193.0,186.0,-83.0,-107.0,-30.0,-27.0,108.0,15.0,168.0,-269.0,6.0,-16.0,-123.0,275.0,-180.0,58.0,-65.0,-38.0,46.0,78.0,-17.0,-78.0,56.0,-38.0,80.0,16.0,118.0,-31.0,-218.0,307.0,43.0,-38.0,64.0,-48.0,133.0,-96.0,-36.0,-69.0,-47.0,103.0,23.0,-81.0,-105.0,206.0,-101.0,45.0,36.0,-14.0,11.0,23.0,123.0,-177.0,201.0,34.0,-131.0,75.0,-247.0,145.0,-95.0,161.0,-103.0,-131.0,156.0,-139.0,87.0,-9.0,50.0,102.0,-126.0,33.0,47.0,-45.0,136.0,-21.0,91.0,106.0,-150.0,-176.0,187.0,95.0,-87.0,-55.0,92.0,-68.0,-66.0,136.0,-162.0,-27.0,67.0,19.0,-109.0,21.0,-43.0,134.0,-138.0,76.0,6.0,-48.0,98.0,-29.0,5.0,-3.0,130.0,84.0,98.0,-121.0,188.0,-134.0,15.0,63.0,-9.0,-36.0,125.0,-72.0,566.0,-175.0,584.0,-61.0,295.0,-109.0,491.0,-110.0,-18.0,356.0,167.0,44.0,-444.0],\"yaxis\":\"y\"}],                        {\"legend\":{\"tracegroupgap\":0},\"margin\":{\"t\":60},\"showlegend\":false,\"template\":{\"data\":{\"bar\":[{\"error_x\":{\"color\":\"#2a3f5f\"},\"error_y\":{\"color\":\"#2a3f5f\"},\"marker\":{\"line\":{\"color\":\"white\",\"width\":0.5},\"pattern\":{\"fillmode\":\"overlay\",\"size\":10,\"solidity\":0.2}},\"type\":\"bar\"}],\"barpolar\":[{\"marker\":{\"line\":{\"color\":\"white\",\"width\":0.5},\"pattern\":{\"fillmode\":\"overlay\",\"size\":10,\"solidity\":0.2}},\"type\":\"barpolar\"}],\"carpet\":[{\"aaxis\":{\"endlinecolor\":\"#2a3f5f\",\"gridcolor\":\"#C8D4E3\",\"linecolor\":\"#C8D4E3\",\"minorgridcolor\":\"#C8D4E3\",\"startlinecolor\":\"#2a3f5f\"},\"baxis\":{\"endlinecolor\":\"#2a3f5f\",\"gridcolor\":\"#C8D4E3\",\"linecolor\":\"#C8D4E3\",\"minorgridcolor\":\"#C8D4E3\",\"startlinecolor\":\"#2a3f5f\"},\"type\":\"carpet\"}],\"choropleth\":[{\"colorbar\":{\"outlinewidth\":0,\"ticks\":\"\"},\"type\":\"choropleth\"}],\"contour\":[{\"colorbar\":{\"outlinewidth\":0,\"ticks\":\"\"},\"colorscale\":[[0.0,\"#0d0887\"],[0.1111111111111111,\"#46039f\"],[0.2222222222222222,\"#7201a8\"],[0.3333333333333333,\"#9c179e\"],[0.4444444444444444,\"#bd3786\"],[0.5555555555555556,\"#d8576b\"],[0.6666666666666666,\"#ed7953\"],[0.7777777777777778,\"#fb9f3a\"],[0.8888888888888888,\"#fdca26\"],[1.0,\"#f0f921\"]],\"type\":\"contour\"}],\"contourcarpet\":[{\"colorbar\":{\"outlinewidth\":0,\"ticks\":\"\"},\"type\":\"contourcarpet\"}],\"heatmap\":[{\"colorbar\":{\"outlinewidth\":0,\"ticks\":\"\"},\"colorscale\":[[0.0,\"#0d0887\"],[0.1111111111111111,\"#46039f\"],[0.2222222222222222,\"#7201a8\"],[0.3333333333333333,\"#9c179e\"],[0.4444444444444444,\"#bd3786\"],[0.5555555555555556,\"#d8576b\"],[0.6666666666666666,\"#ed7953\"],[0.7777777777777778,\"#fb9f3a\"],[0.8888888888888888,\"#fdca26\"],[1.0,\"#f0f921\"]],\"type\":\"heatmap\"}],\"heatmapgl\":[{\"colorbar\":{\"outlinewidth\":0,\"ticks\":\"\"},\"colorscale\":[[0.0,\"#0d0887\"],[0.1111111111111111,\"#46039f\"],[0.2222222222222222,\"#7201a8\"],[0.3333333333333333,\"#9c179e\"],[0.4444444444444444,\"#bd3786\"],[0.5555555555555556,\"#d8576b\"],[0.6666666666666666,\"#ed7953\"],[0.7777777777777778,\"#fb9f3a\"],[0.8888888888888888,\"#fdca26\"],[1.0,\"#f0f921\"]],\"type\":\"heatmapgl\"}],\"histogram\":[{\"marker\":{\"pattern\":{\"fillmode\":\"overlay\",\"size\":10,\"solidity\":0.2}},\"type\":\"histogram\"}],\"histogram2d\":[{\"colorbar\":{\"outlinewidth\":0,\"ticks\":\"\"},\"colorscale\":[[0.0,\"#0d0887\"],[0.1111111111111111,\"#46039f\"],[0.2222222222222222,\"#7201a8\"],[0.3333333333333333,\"#9c179e\"],[0.4444444444444444,\"#bd3786\"],[0.5555555555555556,\"#d8576b\"],[0.6666666666666666,\"#ed7953\"],[0.7777777777777778,\"#fb9f3a\"],[0.8888888888888888,\"#fdca26\"],[1.0,\"#f0f921\"]],\"type\":\"histogram2d\"}],\"histogram2dcontour\":[{\"colorbar\":{\"outlinewidth\":0,\"ticks\":\"\"},\"colorscale\":[[0.0,\"#0d0887\"],[0.1111111111111111,\"#46039f\"],[0.2222222222222222,\"#7201a8\"],[0.3333333333333333,\"#9c179e\"],[0.4444444444444444,\"#bd3786\"],[0.5555555555555556,\"#d8576b\"],[0.6666666666666666,\"#ed7953\"],[0.7777777777777778,\"#fb9f3a\"],[0.8888888888888888,\"#fdca26\"],[1.0,\"#f0f921\"]],\"type\":\"histogram2dcontour\"}],\"mesh3d\":[{\"colorbar\":{\"outlinewidth\":0,\"ticks\":\"\"},\"type\":\"mesh3d\"}],\"parcoords\":[{\"line\":{\"colorbar\":{\"outlinewidth\":0,\"ticks\":\"\"}},\"type\":\"parcoords\"}],\"pie\":[{\"automargin\":true,\"type\":\"pie\"}],\"scatter\":[{\"marker\":{\"colorbar\":{\"outlinewidth\":0,\"ticks\":\"\"}},\"type\":\"scatter\"}],\"scatter3d\":[{\"line\":{\"colorbar\":{\"outlinewidth\":0,\"ticks\":\"\"}},\"marker\":{\"colorbar\":{\"outlinewidth\":0,\"ticks\":\"\"}},\"type\":\"scatter3d\"}],\"scattercarpet\":[{\"marker\":{\"colorbar\":{\"outlinewidth\":0,\"ticks\":\"\"}},\"type\":\"scattercarpet\"}],\"scattergeo\":[{\"marker\":{\"colorbar\":{\"outlinewidth\":0,\"ticks\":\"\"}},\"type\":\"scattergeo\"}],\"scattergl\":[{\"marker\":{\"colorbar\":{\"outlinewidth\":0,\"ticks\":\"\"}},\"type\":\"scattergl\"}],\"scattermapbox\":[{\"marker\":{\"colorbar\":{\"outlinewidth\":0,\"ticks\":\"\"}},\"type\":\"scattermapbox\"}],\"scatterpolar\":[{\"marker\":{\"colorbar\":{\"outlinewidth\":0,\"ticks\":\"\"}},\"type\":\"scatterpolar\"}],\"scatterpolargl\":[{\"marker\":{\"colorbar\":{\"outlinewidth\":0,\"ticks\":\"\"}},\"type\":\"scatterpolargl\"}],\"scatterternary\":[{\"marker\":{\"colorbar\":{\"outlinewidth\":0,\"ticks\":\"\"}},\"type\":\"scatterternary\"}],\"surface\":[{\"colorbar\":{\"outlinewidth\":0,\"ticks\":\"\"},\"colorscale\":[[0.0,\"#0d0887\"],[0.1111111111111111,\"#46039f\"],[0.2222222222222222,\"#7201a8\"],[0.3333333333333333,\"#9c179e\"],[0.4444444444444444,\"#bd3786\"],[0.5555555555555556,\"#d8576b\"],[0.6666666666666666,\"#ed7953\"],[0.7777777777777778,\"#fb9f3a\"],[0.8888888888888888,\"#fdca26\"],[1.0,\"#f0f921\"]],\"type\":\"surface\"}],\"table\":[{\"cells\":{\"fill\":{\"color\":\"#EBF0F8\"},\"line\":{\"color\":\"white\"}},\"header\":{\"fill\":{\"color\":\"#C8D4E3\"},\"line\":{\"color\":\"white\"}},\"type\":\"table\"}]},\"layout\":{\"annotationdefaults\":{\"arrowcolor\":\"#2a3f5f\",\"arrowhead\":0,\"arrowwidth\":1},\"autotypenumbers\":\"strict\",\"coloraxis\":{\"colorbar\":{\"outlinewidth\":0,\"ticks\":\"\"}},\"colorscale\":{\"diverging\":[[0,\"#8e0152\"],[0.1,\"#c51b7d\"],[0.2,\"#de77ae\"],[0.3,\"#f1b6da\"],[0.4,\"#fde0ef\"],[0.5,\"#f7f7f7\"],[0.6,\"#e6f5d0\"],[0.7,\"#b8e186\"],[0.8,\"#7fbc41\"],[0.9,\"#4d9221\"],[1,\"#276419\"]],\"sequential\":[[0.0,\"#0d0887\"],[0.1111111111111111,\"#46039f\"],[0.2222222222222222,\"#7201a8\"],[0.3333333333333333,\"#9c179e\"],[0.4444444444444444,\"#bd3786\"],[0.5555555555555556,\"#d8576b\"],[0.6666666666666666,\"#ed7953\"],[0.7777777777777778,\"#fb9f3a\"],[0.8888888888888888,\"#fdca26\"],[1.0,\"#f0f921\"]],\"sequentialminus\":[[0.0,\"#0d0887\"],[0.1111111111111111,\"#46039f\"],[0.2222222222222222,\"#7201a8\"],[0.3333333333333333,\"#9c179e\"],[0.4444444444444444,\"#bd3786\"],[0.5555555555555556,\"#d8576b\"],[0.6666666666666666,\"#ed7953\"],[0.7777777777777778,\"#fb9f3a\"],[0.8888888888888888,\"#fdca26\"],[1.0,\"#f0f921\"]]},\"colorway\":[\"#636efa\",\"#EF553B\",\"#00cc96\",\"#ab63fa\",\"#FFA15A\",\"#19d3f3\",\"#FF6692\",\"#B6E880\",\"#FF97FF\",\"#FECB52\"],\"font\":{\"color\":\"#2a3f5f\"},\"geo\":{\"bgcolor\":\"white\",\"lakecolor\":\"white\",\"landcolor\":\"white\",\"showlakes\":true,\"showland\":true,\"subunitcolor\":\"#C8D4E3\"},\"hoverlabel\":{\"align\":\"left\"},\"hovermode\":\"closest\",\"mapbox\":{\"style\":\"light\"},\"paper_bgcolor\":\"white\",\"plot_bgcolor\":\"white\",\"polar\":{\"angularaxis\":{\"gridcolor\":\"#EBF0F8\",\"linecolor\":\"#EBF0F8\",\"ticks\":\"\"},\"bgcolor\":\"white\",\"radialaxis\":{\"gridcolor\":\"#EBF0F8\",\"linecolor\":\"#EBF0F8\",\"ticks\":\"\"}},\"scene\":{\"xaxis\":{\"backgroundcolor\":\"white\",\"gridcolor\":\"#DFE8F3\",\"gridwidth\":2,\"linecolor\":\"#EBF0F8\",\"showbackground\":true,\"ticks\":\"\",\"zerolinecolor\":\"#EBF0F8\"},\"yaxis\":{\"backgroundcolor\":\"white\",\"gridcolor\":\"#DFE8F3\",\"gridwidth\":2,\"linecolor\":\"#EBF0F8\",\"showbackground\":true,\"ticks\":\"\",\"zerolinecolor\":\"#EBF0F8\"},\"zaxis\":{\"backgroundcolor\":\"white\",\"gridcolor\":\"#DFE8F3\",\"gridwidth\":2,\"linecolor\":\"#EBF0F8\",\"showbackground\":true,\"ticks\":\"\",\"zerolinecolor\":\"#EBF0F8\"}},\"shapedefaults\":{\"line\":{\"color\":\"#2a3f5f\"}},\"ternary\":{\"aaxis\":{\"gridcolor\":\"#DFE8F3\",\"linecolor\":\"#A2B1C6\",\"ticks\":\"\"},\"baxis\":{\"gridcolor\":\"#DFE8F3\",\"linecolor\":\"#A2B1C6\",\"ticks\":\"\"},\"bgcolor\":\"white\",\"caxis\":{\"gridcolor\":\"#DFE8F3\",\"linecolor\":\"#A2B1C6\",\"ticks\":\"\"}},\"title\":{\"x\":0.05},\"xaxis\":{\"automargin\":true,\"gridcolor\":\"#EBF0F8\",\"linecolor\":\"#EBF0F8\",\"ticks\":\"\",\"title\":{\"standoff\":15},\"zerolinecolor\":\"#EBF0F8\",\"zerolinewidth\":2},\"yaxis\":{\"automargin\":true,\"gridcolor\":\"#EBF0F8\",\"linecolor\":\"#EBF0F8\",\"ticks\":\"\",\"title\":{\"standoff\":15},\"zerolinecolor\":\"#EBF0F8\",\"zerolinewidth\":2}}},\"title\":{\"text\":\"Velocidad - Cuba\"},\"xaxis\":{\"anchor\":\"y\",\"domain\":[0.0,1.0],\"title\":{\"text\":\"D\\u00edas\"}},\"yaxis\":{\"anchor\":\"x\",\"domain\":[0.0,1.0],\"title\":{\"text\":\"Casos\"}}},                        {\"responsive\": true}                    ).then(function(){\n                            \nvar gd = document.getElementById('f90b6fe8-442c-4833-bb55-02a9971b6dd8');\nvar x = new MutationObserver(function (mutations, observer) {{\n        var display = window.getComputedStyle(gd).display;\n        if (!display || display === 'none') {{\n            console.log([gd, 'removed!']);\n            Plotly.purge(gd);\n            observer.disconnect();\n        }}\n}});\n\n// Listen for the removal of the full notebook cells\nvar notebookContainer = gd.closest('#notebook-container');\nif (notebookContainer) {{\n    x.observe(notebookContainer, {childList: true});\n}}\n\n// Listen for the clearing of the current output cell\nvar outputEl = gd.closest('.output');\nif (outputEl) {{\n    x.observe(outputEl, {childList: true});\n}}\n\n                        })                };                            </script>        </div>\n</body>\n</html>"
     },
     "metadata": {},
     "output_type": "display_data"
    }
   ],
   "execution_count": null
  },
  {
   "cell_type": "code",
   "metadata": {
    "cell_id": "00009-589b586a-63f6-4cce-959f-b46d17fa01d7",
    "deepnote_to_be_reexecuted": false,
    "source_hash": "c2b77394",
    "execution_start": 1632422561719,
    "execution_millis": 58,
    "deepnote_cell_type": "code"
   },
   "source": "fig = px.line(cuba, x=\"Date\", y=\"acc\", template=chartTemplate)\n\nfig.update_layout({\"title\": 'Aceleración de casos - Cuba',\n                   \"xaxis\": {\"title\":\"Días\"},\n                   \"yaxis\": {\"title\":\"Casos\"},\n                   \"showlegend\": False})\n\nfig.show()",
   "outputs": [
    {
     "data": {
      "text/html": "<html>\n<head><meta charset=\"utf-8\" /></head>\n<body>\n    <div>            <script src=\"https://cdnjs.cloudflare.com/ajax/libs/mathjax/2.7.5/MathJax.js?config=TeX-AMS-MML_SVG\"></script><script type=\"text/javascript\">if (window.MathJax) {MathJax.Hub.Config({SVG: {font: \"STIX-Web\"}});}</script>                <script type=\"text/javascript\">window.PlotlyConfig = {MathJaxConfig: 'local'};</script>\n        <script src=\"https://cdn.plot.ly/plotly-2.4.2.min.js\"></script>                <div id=\"7eb7baef-544d-4954-80bd-6c9c23243df8\" class=\"plotly-graph-div\" style=\"height:525px; width:100%;\"></div>            <script type=\"text/javascript\">                                    window.PLOTLYENV=window.PLOTLYENV || {};                                    if (document.getElementById(\"7eb7baef-544d-4954-80bd-6c9c23243df8\")) {                    Plotly.newPlot(                        \"7eb7baef-544d-4954-80bd-6c9c23243df8\",                        [{\"hovertemplate\":\"Date=%{x}<br>acc=%{y}<extra></extra>\",\"legendgroup\":\"\",\"line\":{\"color\":\"#636efa\",\"dash\":\"solid\"},\"marker\":{\"symbol\":\"circle\"},\"mode\":\"lines\",\"name\":\"\",\"orientation\":\"v\",\"showlegend\":false,\"type\":\"scatter\",\"x\":[\"2020/03/11\",\"2020/03/13\",\"2020/03/16\",\"2020/03/17\",\"2020/03/18\",\"2020/03/19\",\"2020/03/20\",\"2020/03/21\",\"2020/03/22\",\"2020/03/23\",\"2020/03/24\",\"2020/03/25\",\"2020/03/26\",\"2020/03/27\",\"2020/03/28\",\"2020/03/29\",\"2020/03/30\",\"2020/03/31\",\"2020/04/01\",\"2020/04/02\",\"2020/04/03\",\"2020/04/04\",\"2020/04/05\",\"2020/04/06\",\"2020/04/07\",\"2020/04/08\",\"2020/04/09\",\"2020/04/10\",\"2020/04/11\",\"2020/04/12\",\"2020/04/13\",\"2020/04/14\",\"2020/04/15\",\"2020/04/16\",\"2020/04/17\",\"2020/04/18\",\"2020/04/19\",\"2020/04/20\",\"2020/04/21\",\"2020/04/22\",\"2020/04/23\",\"2020/04/24\",\"2020/04/25\",\"2020/04/26\",\"2020/04/27\",\"2020/04/28\",\"2020/04/29\",\"2020/04/30\",\"2020/05/01\",\"2020/05/02\",\"2020/05/03\",\"2020/05/04\",\"2020/05/05\",\"2020/05/06\",\"2020/05/07\",\"2020/05/08\",\"2020/05/09\",\"2020/05/10\",\"2020/05/11\",\"2020/05/12\",\"2020/05/13\",\"2020/05/14\",\"2020/05/15\",\"2020/05/16\",\"2020/05/17\",\"2020/05/18\",\"2020/05/19\",\"2020/05/20\",\"2020/05/21\",\"2020/05/22\",\"2020/05/23\",\"2020/05/24\",\"2020/05/25\",\"2020/05/26\",\"2020/05/27\",\"2020/05/28\",\"2020/05/29\",\"2020/05/30\",\"2020/05/31\",\"2020/06/01\",\"2020/06/02\",\"2020/06/03\",\"2020/06/04\",\"2020/06/05\",\"2020/06/06\",\"2020/06/07\",\"2020/06/08\",\"2020/06/09\",\"2020/06/10\",\"2020/06/11\",\"2020/06/12\",\"2020/06/13\",\"2020/06/14\",\"2020/06/15\",\"2020/06/16\",\"2020/06/17\",\"2020/06/18\",\"2020/06/19\",\"2020/06/20\",\"2020/06/21\",\"2020/06/22\",\"2020/06/23\",\"2020/06/24\",\"2020/06/25\",\"2020/06/26\",\"2020/06/27\",\"2020/06/28\",\"2020/06/29\",\"2020/06/30\",\"2020/07/01\",\"2020/07/02\",\"2020/07/03\",\"2020/07/04\",\"2020/07/05\",\"2020/07/06\",\"2020/07/07\",\"2020/07/08\",\"2020/07/09\",\"2020/07/10\",\"2020/07/11\",\"2020/07/12\",\"2020/07/13\",\"2020/07/14\",\"2020/07/15\",\"2020/07/16\",\"2020/07/17\",\"2020/07/18\",\"2020/07/20\",\"2020/07/21\",\"2020/07/22\",\"2020/07/23\",\"2020/07/24\",\"2020/07/25\",\"2020/07/26\",\"2020/07/27\",\"2020/07/28\",\"2020/07/29\",\"2020/07/30\",\"2020/07/31\",\"2020/08/01\",\"2020/08/02\",\"2020/08/03\",\"2020/08/04\",\"2020/08/05\",\"2020/08/06\",\"2020/08/07\",\"2020/08/08\",\"2020/08/09\",\"2020/08/10\",\"2020/08/11\",\"2020/08/12\",\"2020/08/13\",\"2020/08/14\",\"2020/08/15\",\"2020/08/16\",\"2020/08/17\",\"2020/08/18\",\"2020/08/19\",\"2020/08/20\",\"2020/08/21\",\"2020/08/22\",\"2020/08/23\",\"2020/08/24\",\"2020/08/25\",\"2020/08/26\",\"2020/08/27\",\"2020/08/28\",\"2020/08/29\",\"2020/08/30\",\"2020/08/31\",\"2020/09/01\",\"2020/09/02\",\"2020/09/03\",\"2020/09/04\",\"2020/09/05\",\"2020/09/06\",\"2020/09/07\",\"2020/09/08\",\"2020/09/09\",\"2020/09/10\",\"2020/09/11\",\"2020/09/12\",\"2020/09/13\",\"2020/09/14\",\"2020/09/15\",\"2020/09/16\",\"2020/09/17\",\"2020/09/18\",\"2020/09/19\",\"2020/09/20\",\"2020/09/21\",\"2020/09/22\",\"2020/09/23\",\"2020/09/24\",\"2020/09/25\",\"2020/09/26\",\"2020/09/27\",\"2020/09/28\",\"2020/09/29\",\"2020/09/30\",\"2020/10/01\",\"2020/10/02\",\"2020/10/03\",\"2020/10/04\",\"2020/10/05\",\"2020/10/06\",\"2020/10/07\",\"2020/10/08\",\"2020/10/09\",\"2020/10/10\",\"2020/10/11\",\"2020/10/12\",\"2020/10/13\",\"2020/10/14\",\"2020/10/15\",\"2020/10/16\",\"2020/10/17\",\"2020/10/18\",\"2020/10/19\",\"2020/10/20\",\"2020/10/21\",\"2020/10/22\",\"2020/10/23\",\"2020/10/24\",\"2020/10/25\",\"2020/10/26\",\"2020/10/27\",\"2020/10/28\",\"2020/10/29\",\"2020/10/30\",\"2020/10/31\",\"2020/11/01\",\"2020/11/02\",\"2020/11/03\",\"2020/11/04\",\"2020/11/05\",\"2020/11/06\",\"2020/11/07\",\"2020/11/08\",\"2020/11/09\",\"2020/11/10\",\"2020/11/11\",\"2020/11/12\",\"2020/11/13\",\"2020/11/14\",\"2020/11/15\",\"2020/11/16\",\"2020/11/17\",\"2020/11/18\",\"2020/11/19\",\"2020/11/20\",\"2020/11/21\",\"2020/11/22\",\"2020/11/23\",\"2020/11/24\",\"2020/11/25\",\"2020/11/26\",\"2020/11/27\",\"2020/11/28\",\"2020/11/29\",\"2020/11/30\",\"2020/12/01\",\"2020/12/02\",\"2020/12/03\",\"2020/12/04\",\"2020/12/05\",\"2020/12/06\",\"2020/12/07\",\"2020/12/08\",\"2020/12/09\",\"2020/12/10\",\"2020/12/11\",\"2020/12/12\",\"2020/12/13\",\"2020/12/14\",\"2020/12/15\",\"2020/12/16\",\"2020/12/17\",\"2020/12/18\",\"2020/12/19\",\"2020/12/20\",\"2020/12/21\",\"2020/12/22\",\"2020/12/23\",\"2020/12/24\",\"2020/12/25\",\"2020/12/26\",\"2020/12/27\",\"2020/12/28\",\"2020/12/29\",\"2020/12/30\",\"2020/12/31\",\"2021/01/01\",\"2021/01/02\",\"2021/01/03\",\"2021/01/04\",\"2021/01/05\",\"2021/01/06\",\"2021/01/07\",\"2021/01/08\",\"2021/01/09\",\"2021/01/10\",\"2021/01/11\",\"2021/01/12\",\"2021/01/13\",\"2021/01/14\",\"2021/01/15\",\"2021/01/16\",\"2021/01/17\",\"2021/01/18\",\"2021/01/19\",\"2021/01/20\",\"2021/01/21\",\"2021/01/22\",\"2021/01/23\",\"2021/01/24\",\"2021/01/25\",\"2021/01/26\",\"2021/01/27\",\"2021/01/28\",\"2021/01/29\",\"2021/01/30\",\"2021/01/31\",\"2021/02/01\",\"2021/02/02\",\"2021/02/03\",\"2021/02/04\",\"2021/02/05\",\"2021/02/06\",\"2021/02/07\",\"2021/02/08\",\"2021/02/09\",\"2021/02/10\",\"2021/02/11\",\"2021/02/12\",\"2021/02/13\",\"2021/02/14\",\"2021/02/15\",\"2021/02/16\",\"2021/02/17\",\"2021/02/18\",\"2021/02/19\",\"2021/02/20\",\"2021/02/21\",\"2021/02/22\",\"2021/02/23\",\"2021/02/24\",\"2021/02/25\",\"2021/02/26\",\"2021/02/27\",\"2021/02/28\",\"2021/03/01\",\"2021/03/02\",\"2021/03/03\",\"2021/03/04\",\"2021/03/05\",\"2021/03/06\",\"2021/03/07\",\"2021/03/08\",\"2021/03/09\",\"2021/03/10\",\"2021/03/11\",\"2021/03/12\",\"2021/03/13\",\"2021/03/14\",\"2021/03/15\",\"2021/03/16\",\"2021/03/17\",\"2021/03/18\",\"2021/03/19\",\"2021/03/20\",\"2021/03/21\",\"2021/03/22\",\"2021/03/23\",\"2021/03/24\",\"2021/03/25\",\"2021/03/26\",\"2021/03/27\",\"2021/03/28\",\"2021/03/29\",\"2021/03/30\",\"2021/03/31\",\"2021/04/01\",\"2021/04/02\",\"2021/04/03\",\"2021/04/04\",\"2021/04/05\",\"2021/04/06\",\"2021/04/07\",\"2021/04/08\",\"2021/04/09\",\"2021/04/10\",\"2021/04/11\",\"2021/04/12\",\"2021/04/13\",\"2021/04/14\",\"2021/04/15\",\"2021/04/16\",\"2021/04/17\",\"2021/04/18\",\"2021/04/19\",\"2021/04/20\",\"2021/04/21\",\"2021/04/22\",\"2021/04/23\",\"2021/04/24\",\"2021/04/25\",\"2021/04/26\",\"2021/04/27\",\"2021/04/28\",\"2021/04/29\",\"2021/04/30\",\"2021/05/01\",\"2021/05/02\",\"2021/05/03\",\"2021/05/04\",\"2021/05/05\",\"2021/05/06\",\"2021/05/07\",\"2021/05/08\",\"2021/05/09\",\"2021/05/10\",\"2021/05/11\",\"2021/05/12\",\"2021/05/13\",\"2021/05/14\",\"2021/05/15\",\"2021/05/16\",\"2021/05/17\",\"2021/05/18\",\"2021/05/19\",\"2021/05/20\",\"2021/05/21\",\"2021/05/22\",\"2021/05/23\",\"2021/05/24\",\"2021/05/25\",\"2021/05/26\",\"2021/05/27\",\"2021/05/28\",\"2021/05/29\",\"2021/05/30\",\"2021/05/31\",\"2021/06/01\",\"2021/06/02\",\"2021/06/03\",\"2021/06/04\",\"2021/06/05\",\"2021/06/06\",\"2021/06/07\",\"2021/06/08\",\"2021/06/09\",\"2021/06/10\",\"2021/06/11\",\"2021/06/12\",\"2021/06/13\",\"2021/06/14\",\"2021/06/15\",\"2021/06/16\",\"2021/06/17\",\"2021/06/18\",\"2021/06/19\",\"2021/06/20\",\"2021/06/21\",\"2021/06/22\",\"2021/06/23\",\"2021/06/24\",\"2021/06/25\",\"2021/06/26\",\"2021/06/27\",\"2021/06/28\",\"2021/06/29\",\"2021/06/30\",\"2021/07/01\",\"2021/07/02\",\"2021/07/03\",\"2021/07/04\"],\"xaxis\":\"x\",\"y\":[null,null,2.0,1.0,1.0,-1.0,3.0,-3.0,-6.0,8.0,-2.0,0.0,2.0,23.0,-45.0,30.0,-26.0,25.0,-15.0,20.0,-32.0,30.0,-15.0,18.0,-1.0,-18.0,-6.0,16.0,-14.0,15.0,-25.0,25.0,-8.0,13.0,-11.0,-16.0,17.0,-5.0,4.0,-8.0,10.0,-2.0,-22.0,8.0,40.0,-46.0,22.0,-2.0,36.0,-74.0,17.0,17.0,3.0,7.0,-22.0,15.0,-2.0,6.0,-1.0,-19.0,29.0,-24.0,22.0,-24.0,11.0,-2.0,10.0,-12.0,5.0,7.0,-12.0,1.0,14.0,-15.0,3.0,15.0,-15.0,2.0,18.0,-47.0,35.0,-9.0,5.0,24.0,-48.0,13.0,5.0,5.0,1.0,4.0,-15.0,14.0,-1.0,-7.0,-1.0,12.0,-13.0,-1.0,5.0,1.0,0.0,-2.0,3.0,1.0,-1.0,-4.0,9.0,-13.0,13.0,-8.0,5.0,-3.0,-5.0,10.0,2.0,-18.0,11.0,6.0,-9.0,2.0,-3.0,6.0,0.0,-6.0,6.0,-5.0,3.0,2.0,8.0,-19.0,8.0,7.0,2.0,12.0,-34.0,24.0,-34.0,26.0,12.0,-26.0,23.0,-4.0,-13.0,30.0,-19.0,0.0,1.0,22.0,-74.0,34.0,22.0,1.0,-4.0,-46.0,63.0,-28.0,34.0,-21.0,-75.0,84.0,12.0,-60.0,22.0,-4.0,44.0,-19.0,-14.0,-10.0,22.0,-37.0,54.0,-1.0,-63.0,16.0,-1.0,53.0,-50.0,75.0,-47.0,-60.0,68.0,-47.0,40.0,24.0,-39.0,-12.0,30.0,-34.0,5.0,29.0,17.0,-64.0,25.0,8.0,22.0,-39.0,-2.0,41.0,-4.0,-11.0,-32.0,39.0,-47.0,40.0,-5.0,-25.0,27.0,3.0,-28.0,46.0,-33.0,3.0,6.0,8.0,20.0,-33.0,2.0,-10.0,21.0,7.0,-26.0,15.0,-8.0,-20.0,20.0,57.0,-88.0,24.0,6.0,55.0,-89.0,25.0,43.0,14.0,-113.0,73.0,-9.0,-4.0,31.0,-31.0,3.0,27.0,-25.0,-23.0,22.0,32.0,-48.0,30.0,-25.0,33.0,-20.0,16.0,-28.0,53.0,-33.0,-32.0,13.0,42.0,-31.0,-6.0,55.0,-68.0,22.0,4.0,21.0,-61.0,92.0,-104.0,96.0,-97.0,60.0,-10.0,-19.0,18.0,27.0,-40.0,30.0,5.0,-13.0,-37.0,40.0,15.0,-53.0,127.0,-135.0,-11.0,74.0,33.0,-124.0,-19.0,171.0,-73.0,-41.0,54.0,87.0,-209.0,69.0,136.0,-83.0,-9.0,2.0,20.0,13.0,7.0,-108.0,87.0,-184.0,387.0,-603.0,396.0,-19.0,40.0,63.0,-85.0,30.0,-134.0,286.0,-180.0,-198.0,152.0,258.0,-149.0,-208.0,244.0,-289.0,74.0,106.0,-53.0,23.0,-166.0,94.0,351.0,-286.0,-19.0,92.0,-147.0,-9.0,313.0,-335.0,212.0,-163.0,142.0,24.0,-303.0,199.0,-135.0,108.0,234.0,-360.0,53.0,295.0,-7.0,-269.0,-24.0,77.0,3.0,135.0,-93.0,153.0,-437.0,275.0,-22.0,-107.0,398.0,-455.0,238.0,-123.0,27.0,84.0,32.0,-95.0,-61.0,134.0,-94.0,118.0,-64.0,102.0,-149.0,-187.0,525.0,-264.0,-81.0,102.0,-112.0,181.0,-229.0,60.0,-33.0,22.0,150.0,-80.0,-104.0,-24.0,311.0,-307.0,146.0,-9.0,-50.0,25.0,12.0,100.0,-300.0,378.0,-167.0,-165.0,206.0,-322.0,392.0,-240.0,256.0,-264.0,-28.0,287.0,-295.0,226.0,-96.0,59.0,52.0,-228.0,159.0,14.0,-92.0,181.0,-157.0,112.0,15.0,-256.0,-26.0,363.0,-92.0,-182.0,32.0,147.0,-160.0,2.0,202.0,-298.0,135.0,94.0,-48.0,-128.0,130.0,-64.0,177.0,-272.0,214.0,-70.0,-54.0,146.0,-127.0,34.0,-8.0,133.0,-46.0,14.0,-219.0,309.0,-322.0,149.0,48.0,-72.0,-27.0,161.0,-197.0,638.0,-741.0,759.0,-645.0,356.0,-404.0,600.0,-601.0,92.0,374.0,-189.0,-123.0,-488.0],\"yaxis\":\"y\"}],                        {\"legend\":{\"tracegroupgap\":0},\"margin\":{\"t\":60},\"showlegend\":false,\"template\":{\"data\":{\"bar\":[{\"error_x\":{\"color\":\"#2a3f5f\"},\"error_y\":{\"color\":\"#2a3f5f\"},\"marker\":{\"line\":{\"color\":\"white\",\"width\":0.5},\"pattern\":{\"fillmode\":\"overlay\",\"size\":10,\"solidity\":0.2}},\"type\":\"bar\"}],\"barpolar\":[{\"marker\":{\"line\":{\"color\":\"white\",\"width\":0.5},\"pattern\":{\"fillmode\":\"overlay\",\"size\":10,\"solidity\":0.2}},\"type\":\"barpolar\"}],\"carpet\":[{\"aaxis\":{\"endlinecolor\":\"#2a3f5f\",\"gridcolor\":\"#C8D4E3\",\"linecolor\":\"#C8D4E3\",\"minorgridcolor\":\"#C8D4E3\",\"startlinecolor\":\"#2a3f5f\"},\"baxis\":{\"endlinecolor\":\"#2a3f5f\",\"gridcolor\":\"#C8D4E3\",\"linecolor\":\"#C8D4E3\",\"minorgridcolor\":\"#C8D4E3\",\"startlinecolor\":\"#2a3f5f\"},\"type\":\"carpet\"}],\"choropleth\":[{\"colorbar\":{\"outlinewidth\":0,\"ticks\":\"\"},\"type\":\"choropleth\"}],\"contour\":[{\"colorbar\":{\"outlinewidth\":0,\"ticks\":\"\"},\"colorscale\":[[0.0,\"#0d0887\"],[0.1111111111111111,\"#46039f\"],[0.2222222222222222,\"#7201a8\"],[0.3333333333333333,\"#9c179e\"],[0.4444444444444444,\"#bd3786\"],[0.5555555555555556,\"#d8576b\"],[0.6666666666666666,\"#ed7953\"],[0.7777777777777778,\"#fb9f3a\"],[0.8888888888888888,\"#fdca26\"],[1.0,\"#f0f921\"]],\"type\":\"contour\"}],\"contourcarpet\":[{\"colorbar\":{\"outlinewidth\":0,\"ticks\":\"\"},\"type\":\"contourcarpet\"}],\"heatmap\":[{\"colorbar\":{\"outlinewidth\":0,\"ticks\":\"\"},\"colorscale\":[[0.0,\"#0d0887\"],[0.1111111111111111,\"#46039f\"],[0.2222222222222222,\"#7201a8\"],[0.3333333333333333,\"#9c179e\"],[0.4444444444444444,\"#bd3786\"],[0.5555555555555556,\"#d8576b\"],[0.6666666666666666,\"#ed7953\"],[0.7777777777777778,\"#fb9f3a\"],[0.8888888888888888,\"#fdca26\"],[1.0,\"#f0f921\"]],\"type\":\"heatmap\"}],\"heatmapgl\":[{\"colorbar\":{\"outlinewidth\":0,\"ticks\":\"\"},\"colorscale\":[[0.0,\"#0d0887\"],[0.1111111111111111,\"#46039f\"],[0.2222222222222222,\"#7201a8\"],[0.3333333333333333,\"#9c179e\"],[0.4444444444444444,\"#bd3786\"],[0.5555555555555556,\"#d8576b\"],[0.6666666666666666,\"#ed7953\"],[0.7777777777777778,\"#fb9f3a\"],[0.8888888888888888,\"#fdca26\"],[1.0,\"#f0f921\"]],\"type\":\"heatmapgl\"}],\"histogram\":[{\"marker\":{\"pattern\":{\"fillmode\":\"overlay\",\"size\":10,\"solidity\":0.2}},\"type\":\"histogram\"}],\"histogram2d\":[{\"colorbar\":{\"outlinewidth\":0,\"ticks\":\"\"},\"colorscale\":[[0.0,\"#0d0887\"],[0.1111111111111111,\"#46039f\"],[0.2222222222222222,\"#7201a8\"],[0.3333333333333333,\"#9c179e\"],[0.4444444444444444,\"#bd3786\"],[0.5555555555555556,\"#d8576b\"],[0.6666666666666666,\"#ed7953\"],[0.7777777777777778,\"#fb9f3a\"],[0.8888888888888888,\"#fdca26\"],[1.0,\"#f0f921\"]],\"type\":\"histogram2d\"}],\"histogram2dcontour\":[{\"colorbar\":{\"outlinewidth\":0,\"ticks\":\"\"},\"colorscale\":[[0.0,\"#0d0887\"],[0.1111111111111111,\"#46039f\"],[0.2222222222222222,\"#7201a8\"],[0.3333333333333333,\"#9c179e\"],[0.4444444444444444,\"#bd3786\"],[0.5555555555555556,\"#d8576b\"],[0.6666666666666666,\"#ed7953\"],[0.7777777777777778,\"#fb9f3a\"],[0.8888888888888888,\"#fdca26\"],[1.0,\"#f0f921\"]],\"type\":\"histogram2dcontour\"}],\"mesh3d\":[{\"colorbar\":{\"outlinewidth\":0,\"ticks\":\"\"},\"type\":\"mesh3d\"}],\"parcoords\":[{\"line\":{\"colorbar\":{\"outlinewidth\":0,\"ticks\":\"\"}},\"type\":\"parcoords\"}],\"pie\":[{\"automargin\":true,\"type\":\"pie\"}],\"scatter\":[{\"marker\":{\"colorbar\":{\"outlinewidth\":0,\"ticks\":\"\"}},\"type\":\"scatter\"}],\"scatter3d\":[{\"line\":{\"colorbar\":{\"outlinewidth\":0,\"ticks\":\"\"}},\"marker\":{\"colorbar\":{\"outlinewidth\":0,\"ticks\":\"\"}},\"type\":\"scatter3d\"}],\"scattercarpet\":[{\"marker\":{\"colorbar\":{\"outlinewidth\":0,\"ticks\":\"\"}},\"type\":\"scattercarpet\"}],\"scattergeo\":[{\"marker\":{\"colorbar\":{\"outlinewidth\":0,\"ticks\":\"\"}},\"type\":\"scattergeo\"}],\"scattergl\":[{\"marker\":{\"colorbar\":{\"outlinewidth\":0,\"ticks\":\"\"}},\"type\":\"scattergl\"}],\"scattermapbox\":[{\"marker\":{\"colorbar\":{\"outlinewidth\":0,\"ticks\":\"\"}},\"type\":\"scattermapbox\"}],\"scatterpolar\":[{\"marker\":{\"colorbar\":{\"outlinewidth\":0,\"ticks\":\"\"}},\"type\":\"scatterpolar\"}],\"scatterpolargl\":[{\"marker\":{\"colorbar\":{\"outlinewidth\":0,\"ticks\":\"\"}},\"type\":\"scatterpolargl\"}],\"scatterternary\":[{\"marker\":{\"colorbar\":{\"outlinewidth\":0,\"ticks\":\"\"}},\"type\":\"scatterternary\"}],\"surface\":[{\"colorbar\":{\"outlinewidth\":0,\"ticks\":\"\"},\"colorscale\":[[0.0,\"#0d0887\"],[0.1111111111111111,\"#46039f\"],[0.2222222222222222,\"#7201a8\"],[0.3333333333333333,\"#9c179e\"],[0.4444444444444444,\"#bd3786\"],[0.5555555555555556,\"#d8576b\"],[0.6666666666666666,\"#ed7953\"],[0.7777777777777778,\"#fb9f3a\"],[0.8888888888888888,\"#fdca26\"],[1.0,\"#f0f921\"]],\"type\":\"surface\"}],\"table\":[{\"cells\":{\"fill\":{\"color\":\"#EBF0F8\"},\"line\":{\"color\":\"white\"}},\"header\":{\"fill\":{\"color\":\"#C8D4E3\"},\"line\":{\"color\":\"white\"}},\"type\":\"table\"}]},\"layout\":{\"annotationdefaults\":{\"arrowcolor\":\"#2a3f5f\",\"arrowhead\":0,\"arrowwidth\":1},\"autotypenumbers\":\"strict\",\"coloraxis\":{\"colorbar\":{\"outlinewidth\":0,\"ticks\":\"\"}},\"colorscale\":{\"diverging\":[[0,\"#8e0152\"],[0.1,\"#c51b7d\"],[0.2,\"#de77ae\"],[0.3,\"#f1b6da\"],[0.4,\"#fde0ef\"],[0.5,\"#f7f7f7\"],[0.6,\"#e6f5d0\"],[0.7,\"#b8e186\"],[0.8,\"#7fbc41\"],[0.9,\"#4d9221\"],[1,\"#276419\"]],\"sequential\":[[0.0,\"#0d0887\"],[0.1111111111111111,\"#46039f\"],[0.2222222222222222,\"#7201a8\"],[0.3333333333333333,\"#9c179e\"],[0.4444444444444444,\"#bd3786\"],[0.5555555555555556,\"#d8576b\"],[0.6666666666666666,\"#ed7953\"],[0.7777777777777778,\"#fb9f3a\"],[0.8888888888888888,\"#fdca26\"],[1.0,\"#f0f921\"]],\"sequentialminus\":[[0.0,\"#0d0887\"],[0.1111111111111111,\"#46039f\"],[0.2222222222222222,\"#7201a8\"],[0.3333333333333333,\"#9c179e\"],[0.4444444444444444,\"#bd3786\"],[0.5555555555555556,\"#d8576b\"],[0.6666666666666666,\"#ed7953\"],[0.7777777777777778,\"#fb9f3a\"],[0.8888888888888888,\"#fdca26\"],[1.0,\"#f0f921\"]]},\"colorway\":[\"#636efa\",\"#EF553B\",\"#00cc96\",\"#ab63fa\",\"#FFA15A\",\"#19d3f3\",\"#FF6692\",\"#B6E880\",\"#FF97FF\",\"#FECB52\"],\"font\":{\"color\":\"#2a3f5f\"},\"geo\":{\"bgcolor\":\"white\",\"lakecolor\":\"white\",\"landcolor\":\"white\",\"showlakes\":true,\"showland\":true,\"subunitcolor\":\"#C8D4E3\"},\"hoverlabel\":{\"align\":\"left\"},\"hovermode\":\"closest\",\"mapbox\":{\"style\":\"light\"},\"paper_bgcolor\":\"white\",\"plot_bgcolor\":\"white\",\"polar\":{\"angularaxis\":{\"gridcolor\":\"#EBF0F8\",\"linecolor\":\"#EBF0F8\",\"ticks\":\"\"},\"bgcolor\":\"white\",\"radialaxis\":{\"gridcolor\":\"#EBF0F8\",\"linecolor\":\"#EBF0F8\",\"ticks\":\"\"}},\"scene\":{\"xaxis\":{\"backgroundcolor\":\"white\",\"gridcolor\":\"#DFE8F3\",\"gridwidth\":2,\"linecolor\":\"#EBF0F8\",\"showbackground\":true,\"ticks\":\"\",\"zerolinecolor\":\"#EBF0F8\"},\"yaxis\":{\"backgroundcolor\":\"white\",\"gridcolor\":\"#DFE8F3\",\"gridwidth\":2,\"linecolor\":\"#EBF0F8\",\"showbackground\":true,\"ticks\":\"\",\"zerolinecolor\":\"#EBF0F8\"},\"zaxis\":{\"backgroundcolor\":\"white\",\"gridcolor\":\"#DFE8F3\",\"gridwidth\":2,\"linecolor\":\"#EBF0F8\",\"showbackground\":true,\"ticks\":\"\",\"zerolinecolor\":\"#EBF0F8\"}},\"shapedefaults\":{\"line\":{\"color\":\"#2a3f5f\"}},\"ternary\":{\"aaxis\":{\"gridcolor\":\"#DFE8F3\",\"linecolor\":\"#A2B1C6\",\"ticks\":\"\"},\"baxis\":{\"gridcolor\":\"#DFE8F3\",\"linecolor\":\"#A2B1C6\",\"ticks\":\"\"},\"bgcolor\":\"white\",\"caxis\":{\"gridcolor\":\"#DFE8F3\",\"linecolor\":\"#A2B1C6\",\"ticks\":\"\"}},\"title\":{\"x\":0.05},\"xaxis\":{\"automargin\":true,\"gridcolor\":\"#EBF0F8\",\"linecolor\":\"#EBF0F8\",\"ticks\":\"\",\"title\":{\"standoff\":15},\"zerolinecolor\":\"#EBF0F8\",\"zerolinewidth\":2},\"yaxis\":{\"automargin\":true,\"gridcolor\":\"#EBF0F8\",\"linecolor\":\"#EBF0F8\",\"ticks\":\"\",\"title\":{\"standoff\":15},\"zerolinecolor\":\"#EBF0F8\",\"zerolinewidth\":2}}},\"title\":{\"text\":\"Aceleraci\\u00f3n de casos - Cuba\"},\"xaxis\":{\"anchor\":\"y\",\"domain\":[0.0,1.0],\"title\":{\"text\":\"D\\u00edas\"}},\"yaxis\":{\"anchor\":\"x\",\"domain\":[0.0,1.0],\"title\":{\"text\":\"Casos\"}}},                        {\"responsive\": true}                    ).then(function(){\n                            \nvar gd = document.getElementById('7eb7baef-544d-4954-80bd-6c9c23243df8');\nvar x = new MutationObserver(function (mutations, observer) {{\n        var display = window.getComputedStyle(gd).display;\n        if (!display || display === 'none') {{\n            console.log([gd, 'removed!']);\n            Plotly.purge(gd);\n            observer.disconnect();\n        }}\n}});\n\n// Listen for the removal of the full notebook cells\nvar notebookContainer = gd.closest('#notebook-container');\nif (notebookContainer) {{\n    x.observe(notebookContainer, {childList: true});\n}}\n\n// Listen for the clearing of the current output cell\nvar outputEl = gd.closest('.output');\nif (outputEl) {{\n    x.observe(outputEl, {childList: true});\n}}\n\n                        })                };                            </script>        </div>\n</body>\n</html>"
     },
     "metadata": {},
     "output_type": "display_data"
    }
   ],
   "execution_count": null
  },
  {
   "cell_type": "code",
   "metadata": {
    "cell_id": "00010-00f332b6-61d1-4ccb-ba1c-1d16058229af",
    "deepnote_to_be_reexecuted": false,
    "source_hash": "e867f6d7",
    "execution_start": 1632422561835,
    "execution_millis": 50,
    "deepnote_cell_type": "code"
   },
   "source": "pos = cuba[cuba['accelMeans7'] >= 0]\nneg = cuba[cuba['accelMeans7'] < 0]\n\nfig = px.line(cuba, x=\"Date\", y=\"accelMeans14\", template=chartTemplate)\n\nfig.update_layout({\"title\": 'Aceleración de casos - promedio 14 días - Cuba',\n                   \"xaxis\": {\"title\":\"Días\"},\n                   \"yaxis\": {\"title\":\"Casos\"},\n                   \"showlegend\": False})\nfig.add_trace(go.Bar(x=pos['Date'], y=pos['accelMeans7'], name='Promedio de 14 días', opacity=0.5))\nfig.add_trace(go.Bar(x=neg['Date'], y=neg['accelMeans7'], name='Promedio de 14 días', opacity=0.5))\n\nfig.show()",
   "outputs": [
    {
     "data": {
      "text/html": "<html>\n<head><meta charset=\"utf-8\" /></head>\n<body>\n    <div>            <script src=\"https://cdnjs.cloudflare.com/ajax/libs/mathjax/2.7.5/MathJax.js?config=TeX-AMS-MML_SVG\"></script><script type=\"text/javascript\">if (window.MathJax) {MathJax.Hub.Config({SVG: {font: \"STIX-Web\"}});}</script>                <script type=\"text/javascript\">window.PlotlyConfig = {MathJaxConfig: 'local'};</script>\n        <script src=\"https://cdn.plot.ly/plotly-2.4.2.min.js\"></script>                <div id=\"69f51dd9-33b9-46f5-ab15-f3d368731495\" class=\"plotly-graph-div\" style=\"height:525px; width:100%;\"></div>            <script type=\"text/javascript\">                                    window.PLOTLYENV=window.PLOTLYENV || {};                                    if (document.getElementById(\"69f51dd9-33b9-46f5-ab15-f3d368731495\")) {                    Plotly.newPlot(                        \"69f51dd9-33b9-46f5-ab15-f3d368731495\",                        [{\"hovertemplate\":\"Date=%{x}<br>accelMeans14=%{y}<extra></extra>\",\"legendgroup\":\"\",\"line\":{\"color\":\"#636efa\",\"dash\":\"solid\"},\"marker\":{\"symbol\":\"circle\"},\"mode\":\"lines\",\"name\":\"\",\"orientation\":\"v\",\"showlegend\":false,\"type\":\"scatter\",\"x\":[\"2020/03/11\",\"2020/03/13\",\"2020/03/16\",\"2020/03/17\",\"2020/03/18\",\"2020/03/19\",\"2020/03/20\",\"2020/03/21\",\"2020/03/22\",\"2020/03/23\",\"2020/03/24\",\"2020/03/25\",\"2020/03/26\",\"2020/03/27\",\"2020/03/28\",\"2020/03/29\",\"2020/03/30\",\"2020/03/31\",\"2020/04/01\",\"2020/04/02\",\"2020/04/03\",\"2020/04/04\",\"2020/04/05\",\"2020/04/06\",\"2020/04/07\",\"2020/04/08\",\"2020/04/09\",\"2020/04/10\",\"2020/04/11\",\"2020/04/12\",\"2020/04/13\",\"2020/04/14\",\"2020/04/15\",\"2020/04/16\",\"2020/04/17\",\"2020/04/18\",\"2020/04/19\",\"2020/04/20\",\"2020/04/21\",\"2020/04/22\",\"2020/04/23\",\"2020/04/24\",\"2020/04/25\",\"2020/04/26\",\"2020/04/27\",\"2020/04/28\",\"2020/04/29\",\"2020/04/30\",\"2020/05/01\",\"2020/05/02\",\"2020/05/03\",\"2020/05/04\",\"2020/05/05\",\"2020/05/06\",\"2020/05/07\",\"2020/05/08\",\"2020/05/09\",\"2020/05/10\",\"2020/05/11\",\"2020/05/12\",\"2020/05/13\",\"2020/05/14\",\"2020/05/15\",\"2020/05/16\",\"2020/05/17\",\"2020/05/18\",\"2020/05/19\",\"2020/05/20\",\"2020/05/21\",\"2020/05/22\",\"2020/05/23\",\"2020/05/24\",\"2020/05/25\",\"2020/05/26\",\"2020/05/27\",\"2020/05/28\",\"2020/05/29\",\"2020/05/30\",\"2020/05/31\",\"2020/06/01\",\"2020/06/02\",\"2020/06/03\",\"2020/06/04\",\"2020/06/05\",\"2020/06/06\",\"2020/06/07\",\"2020/06/08\",\"2020/06/09\",\"2020/06/10\",\"2020/06/11\",\"2020/06/12\",\"2020/06/13\",\"2020/06/14\",\"2020/06/15\",\"2020/06/16\",\"2020/06/17\",\"2020/06/18\",\"2020/06/19\",\"2020/06/20\",\"2020/06/21\",\"2020/06/22\",\"2020/06/23\",\"2020/06/24\",\"2020/06/25\",\"2020/06/26\",\"2020/06/27\",\"2020/06/28\",\"2020/06/29\",\"2020/06/30\",\"2020/07/01\",\"2020/07/02\",\"2020/07/03\",\"2020/07/04\",\"2020/07/05\",\"2020/07/06\",\"2020/07/07\",\"2020/07/08\",\"2020/07/09\",\"2020/07/10\",\"2020/07/11\",\"2020/07/12\",\"2020/07/13\",\"2020/07/14\",\"2020/07/15\",\"2020/07/16\",\"2020/07/17\",\"2020/07/18\",\"2020/07/20\",\"2020/07/21\",\"2020/07/22\",\"2020/07/23\",\"2020/07/24\",\"2020/07/25\",\"2020/07/26\",\"2020/07/27\",\"2020/07/28\",\"2020/07/29\",\"2020/07/30\",\"2020/07/31\",\"2020/08/01\",\"2020/08/02\",\"2020/08/03\",\"2020/08/04\",\"2020/08/05\",\"2020/08/06\",\"2020/08/07\",\"2020/08/08\",\"2020/08/09\",\"2020/08/10\",\"2020/08/11\",\"2020/08/12\",\"2020/08/13\",\"2020/08/14\",\"2020/08/15\",\"2020/08/16\",\"2020/08/17\",\"2020/08/18\",\"2020/08/19\",\"2020/08/20\",\"2020/08/21\",\"2020/08/22\",\"2020/08/23\",\"2020/08/24\",\"2020/08/25\",\"2020/08/26\",\"2020/08/27\",\"2020/08/28\",\"2020/08/29\",\"2020/08/30\",\"2020/08/31\",\"2020/09/01\",\"2020/09/02\",\"2020/09/03\",\"2020/09/04\",\"2020/09/05\",\"2020/09/06\",\"2020/09/07\",\"2020/09/08\",\"2020/09/09\",\"2020/09/10\",\"2020/09/11\",\"2020/09/12\",\"2020/09/13\",\"2020/09/14\",\"2020/09/15\",\"2020/09/16\",\"2020/09/17\",\"2020/09/18\",\"2020/09/19\",\"2020/09/20\",\"2020/09/21\",\"2020/09/22\",\"2020/09/23\",\"2020/09/24\",\"2020/09/25\",\"2020/09/26\",\"2020/09/27\",\"2020/09/28\",\"2020/09/29\",\"2020/09/30\",\"2020/10/01\",\"2020/10/02\",\"2020/10/03\",\"2020/10/04\",\"2020/10/05\",\"2020/10/06\",\"2020/10/07\",\"2020/10/08\",\"2020/10/09\",\"2020/10/10\",\"2020/10/11\",\"2020/10/12\",\"2020/10/13\",\"2020/10/14\",\"2020/10/15\",\"2020/10/16\",\"2020/10/17\",\"2020/10/18\",\"2020/10/19\",\"2020/10/20\",\"2020/10/21\",\"2020/10/22\",\"2020/10/23\",\"2020/10/24\",\"2020/10/25\",\"2020/10/26\",\"2020/10/27\",\"2020/10/28\",\"2020/10/29\",\"2020/10/30\",\"2020/10/31\",\"2020/11/01\",\"2020/11/02\",\"2020/11/03\",\"2020/11/04\",\"2020/11/05\",\"2020/11/06\",\"2020/11/07\",\"2020/11/08\",\"2020/11/09\",\"2020/11/10\",\"2020/11/11\",\"2020/11/12\",\"2020/11/13\",\"2020/11/14\",\"2020/11/15\",\"2020/11/16\",\"2020/11/17\",\"2020/11/18\",\"2020/11/19\",\"2020/11/20\",\"2020/11/21\",\"2020/11/22\",\"2020/11/23\",\"2020/11/24\",\"2020/11/25\",\"2020/11/26\",\"2020/11/27\",\"2020/11/28\",\"2020/11/29\",\"2020/11/30\",\"2020/12/01\",\"2020/12/02\",\"2020/12/03\",\"2020/12/04\",\"2020/12/05\",\"2020/12/06\",\"2020/12/07\",\"2020/12/08\",\"2020/12/09\",\"2020/12/10\",\"2020/12/11\",\"2020/12/12\",\"2020/12/13\",\"2020/12/14\",\"2020/12/15\",\"2020/12/16\",\"2020/12/17\",\"2020/12/18\",\"2020/12/19\",\"2020/12/20\",\"2020/12/21\",\"2020/12/22\",\"2020/12/23\",\"2020/12/24\",\"2020/12/25\",\"2020/12/26\",\"2020/12/27\",\"2020/12/28\",\"2020/12/29\",\"2020/12/30\",\"2020/12/31\",\"2021/01/01\",\"2021/01/02\",\"2021/01/03\",\"2021/01/04\",\"2021/01/05\",\"2021/01/06\",\"2021/01/07\",\"2021/01/08\",\"2021/01/09\",\"2021/01/10\",\"2021/01/11\",\"2021/01/12\",\"2021/01/13\",\"2021/01/14\",\"2021/01/15\",\"2021/01/16\",\"2021/01/17\",\"2021/01/18\",\"2021/01/19\",\"2021/01/20\",\"2021/01/21\",\"2021/01/22\",\"2021/01/23\",\"2021/01/24\",\"2021/01/25\",\"2021/01/26\",\"2021/01/27\",\"2021/01/28\",\"2021/01/29\",\"2021/01/30\",\"2021/01/31\",\"2021/02/01\",\"2021/02/02\",\"2021/02/03\",\"2021/02/04\",\"2021/02/05\",\"2021/02/06\",\"2021/02/07\",\"2021/02/08\",\"2021/02/09\",\"2021/02/10\",\"2021/02/11\",\"2021/02/12\",\"2021/02/13\",\"2021/02/14\",\"2021/02/15\",\"2021/02/16\",\"2021/02/17\",\"2021/02/18\",\"2021/02/19\",\"2021/02/20\",\"2021/02/21\",\"2021/02/22\",\"2021/02/23\",\"2021/02/24\",\"2021/02/25\",\"2021/02/26\",\"2021/02/27\",\"2021/02/28\",\"2021/03/01\",\"2021/03/02\",\"2021/03/03\",\"2021/03/04\",\"2021/03/05\",\"2021/03/06\",\"2021/03/07\",\"2021/03/08\",\"2021/03/09\",\"2021/03/10\",\"2021/03/11\",\"2021/03/12\",\"2021/03/13\",\"2021/03/14\",\"2021/03/15\",\"2021/03/16\",\"2021/03/17\",\"2021/03/18\",\"2021/03/19\",\"2021/03/20\",\"2021/03/21\",\"2021/03/22\",\"2021/03/23\",\"2021/03/24\",\"2021/03/25\",\"2021/03/26\",\"2021/03/27\",\"2021/03/28\",\"2021/03/29\",\"2021/03/30\",\"2021/03/31\",\"2021/04/01\",\"2021/04/02\",\"2021/04/03\",\"2021/04/04\",\"2021/04/05\",\"2021/04/06\",\"2021/04/07\",\"2021/04/08\",\"2021/04/09\",\"2021/04/10\",\"2021/04/11\",\"2021/04/12\",\"2021/04/13\",\"2021/04/14\",\"2021/04/15\",\"2021/04/16\",\"2021/04/17\",\"2021/04/18\",\"2021/04/19\",\"2021/04/20\",\"2021/04/21\",\"2021/04/22\",\"2021/04/23\",\"2021/04/24\",\"2021/04/25\",\"2021/04/26\",\"2021/04/27\",\"2021/04/28\",\"2021/04/29\",\"2021/04/30\",\"2021/05/01\",\"2021/05/02\",\"2021/05/03\",\"2021/05/04\",\"2021/05/05\",\"2021/05/06\",\"2021/05/07\",\"2021/05/08\",\"2021/05/09\",\"2021/05/10\",\"2021/05/11\",\"2021/05/12\",\"2021/05/13\",\"2021/05/14\",\"2021/05/15\",\"2021/05/16\",\"2021/05/17\",\"2021/05/18\",\"2021/05/19\",\"2021/05/20\",\"2021/05/21\",\"2021/05/22\",\"2021/05/23\",\"2021/05/24\",\"2021/05/25\",\"2021/05/26\",\"2021/05/27\",\"2021/05/28\",\"2021/05/29\",\"2021/05/30\",\"2021/05/31\",\"2021/06/01\",\"2021/06/02\",\"2021/06/03\",\"2021/06/04\",\"2021/06/05\",\"2021/06/06\",\"2021/06/07\",\"2021/06/08\",\"2021/06/09\",\"2021/06/10\",\"2021/06/11\",\"2021/06/12\",\"2021/06/13\",\"2021/06/14\",\"2021/06/15\",\"2021/06/16\",\"2021/06/17\",\"2021/06/18\",\"2021/06/19\",\"2021/06/20\",\"2021/06/21\",\"2021/06/22\",\"2021/06/23\",\"2021/06/24\",\"2021/06/25\",\"2021/06/26\",\"2021/06/27\",\"2021/06/28\",\"2021/06/29\",\"2021/06/30\",\"2021/07/01\",\"2021/07/02\",\"2021/07/03\",\"2021/07/04\"],\"xaxis\":\"x\",\"y\":[null,null,null,null,null,null,null,null,null,null,null,null,null,null,1.2142857142857142,2.142857142857143,1.0714285714285714,1.7142857142857142,1.2142857142857142,2.2142857142857144,0.7142857142857143,1.5714285714285714,1.7857142857142858,2.7142857142857144,3.7142857142857144,3.4285714285714284,2.5714285714285716,1.2142857142857142,2.0714285714285716,1.8571428571428572,1.7142857142857142,1.5714285714285714,1.9285714285714286,1.7857142857142858,3.142857142857143,1.2142857142857142,1.5714285714285714,0.2857142857142857,-0.6428571428571429,-0.8571428571428571,0.07142857142857142,-0.2857142857142857,-1.2142857142857142,-2.642857142857143,0.5714285714285714,-1.2857142857142858,-1.0,-1.7857142857142858,0.7857142857142857,-0.7857142857142857,-2.357142857142857,-2.357142857142857,-2.4285714285714284,-1.4285714285714286,-2.7142857142857144,-2.7857142857142856,-1.4285714285714286,-0.21428571428571427,-1.9285714285714286,-1.7142857142857142,-1.0,-1.8571428571428572,-3.7142857142857144,-2.0,-0.7142857142857143,-0.7857142857142857,-0.35714285714285715,-1.2857142857142858,-0.2857142857142857,0.14285714285714285,-0.14285714285714285,-0.7857142857142857,-0.35714285714285715,0.35714285714285715,-0.7857142857142857,0.8571428571428571,-0.14285714285714285,0.7142857142857143,2.0714285714285716,0.21428571428571427,0.14285714285714285,0.2857142857142857,0.42857142857142855,1.7857142857142858,0.5714285714285714,0.21428571428571427,-0.7857142857142857,-0.35714285714285715,-0.07142857142857142,-0.5714285714285714,-1.0714285714285714,-0.7142857142857143,-1.7142857142857142,0.14285714285714285,-0.5714285714285714,0.21428571428571427,-0.2857142857142857,-2.5714285714285716,-1.0714285714285714,-0.42857142857142855,-0.14285714285714285,-0.35714285714285715,-0.42857142857142855,-0.7142857142857143,0.0,-0.5714285714285714,-0.42857142857142855,-0.7142857142857143,0.0,-0.7142857142857143,-0.14285714285714285,0.2857142857142857,0.0,0.35714285714285715,0.8571428571428571,0.21428571428571427,0.14285714285714285,0.42857142857142855,0.14285714285714285,0.2857142857142857,-0.42857142857142855,0.21428571428571427,-0.07142857142857142,-0.21428571428571427,-0.2857142857142857,-0.5,-0.14285714285714285,-0.35714285714285715,-0.14285714285714285,0.0,-0.07142857142857142,-0.07142857142857142,0.7142857142857143,2.2142857142857144,1.5,2.0714285714285716,0.21428571428571427,0.6428571428571429,1.5,0.8571428571428571,1.6428571428571428,2.0,0.8571428571428571,3.2142857142857144,3.642857142857143,3.5714285714285716,3.4285714285714284,4.0,1.7142857142857142,0.14285714285714285,2.5714285714285716,3.2142857142857144,2.7142857142857144,0.7857142857142857,1.7142857142857142,0.9285714285714286,3.5,2.4285714285714284,-2.642857142857143,-1.7142857142857142,0.0,-4.142857142857143,-1.4285714285714286,-1.4285714285714286,0.14285714285714285,0.2857142857142857,-0.2857142857142857,1.7142857142857142,0.7857142857142857,-0.7857142857142857,-0.9285714285714286,0.35714285714285715,2.5,-0.21428571428571427,-3.857142857142857,0.5714285714285714,-0.14285714285714285,4.785714285714286,3.2142857142857144,-1.2857142857142858,0.07142857142857142,-1.2142857142857142,-1.2142857142857142,3.142857142857143,0.8571428571428571,-2.2142857142857144,1.3571428571428572,1.3571428571428572,1.7857142857142858,0.5,4.0,-2.4285714285714284,-3.7142857142857144,-0.14285714285714285,0.14285714285714285,1.0,-1.1428571428571428,-2.0714285714285716,-0.5,1.1428571428571428,-1.6428571428571428,0.7857142857142857,-0.5,-1.0,-3.0714285714285716,-2.357142857142857,-1.5,-1.0,-4.071428571428571,-1.0714285714285714,-0.2857142857142857,-2.2142857142857144,-3.4285714285714284,-3.2857142857142856,0.5714285714285714,-0.7142857142857143,1.5,0.14285714285714285,0.6428571428571429,3.4285714285714284,2.4285714285714284,2.2857142857142856,3.5714285714285716,0.14285714285714285,0.5,4.714285714285714,2.2142857142857144,0.8571428571428571,-1.5,2.4285714285714284,-0.14285714285714285,-0.21428571428571427,1.2857142857142858,3.2857142857142856,-0.9285714285714286,-1.0,-1.1428571428571428,-0.14285714285714285,1.6428571428571428,-2.857142857142857,-0.8571428571428571,1.3571428571428572,1.3571428571428572,-4.214285714285714,-1.8571428571428572,1.0,-2.642857142857143,-5.142857142857143,-1.3571428571428572,-0.42857142857142855,-0.2857142857142857,1.2857142857142858,-1.3571428571428572,2.0,2.7857142857142856,-0.6428571428571429,-1.3571428571428572,2.5714285714285716,2.7142857142857144,0.14285714285714285,4.928571428571429,2.7142857142857144,3.857142857142857,2.9285714285714284,4.928571428571429,1.4285714285714286,6.5,0.35714285714285715,3.4285714285714284,1.8571428571428572,3.642857142857143,1.7142857142857142,0.6428571428571429,1.2857142857142858,-0.07142857142857142,0.5714285714285714,1.7857142857142858,3.0714285714285716,1.9285714285714286,2.5,-0.6428571428571429,4.714285714285714,-0.5714285714285714,10.142857142857142,6.928571428571429,3.642857142857143,7.0,11.428571428571429,5.071428571428571,0.21428571428571427,5.428571428571429,5.071428571428571,2.7142857142857144,6.857142857142857,14.357142857142858,5.857142857142857,6.071428571428571,6.928571428571429,11.5,16.214285714285715,15.785714285714286,14.428571428571429,22.857142857142858,33.142857142857146,23.5,25.285714285714285,16.857142857142858,32.214285714285715,-1.7142857142857142,7.571428571428571,10.571428571428571,6.714285714285714,13.285714285714286,14.428571428571429,17.571428571428573,9.714285714285714,21.357142857142858,19.642857142857142,11.5,8.0,36.07142857142857,25.857142857142858,43.857142857142854,51.0,38.857142857142854,29.142857142857142,22.5,18.142857142857142,13.285714285714286,6.142857142857143,-14.714285714285714,2.357142857142857,13.142857142857142,11.714285714285714,-1.5714285714285714,-14.714285714285714,-13.642857142857142,-7.642857142857143,-4.928571428571429,7.642857142857143,1.0,8.285714285714286,15.642857142857142,13.214285714285714,18.285714285714285,-11.357142857142858,-12.857142857142858,3.7142857142857144,-12.0,-13.428571428571429,6.857142857142857,4.285714285714286,6.428571428571429,-8.285714285714286,-5.857142857142857,-13.357142857142858,-12.928571428571429,2.5,14.642857142857142,5.214285714285714,7.714285714285714,-8.071428571428571,-5.785714285714286,21.142857142857142,-5.5,-14.642857142857142,-13.357142857142858,-8.428571428571429,-3.0,4.5,-4.428571428571429,-11.071428571428571,-19.071428571428573,-2.5714285714285716,2.7142857142857144,5.0,22.214285714285715,0.35714285714285715,-2.357142857142857,15.428571428571429,23.142857142857142,23.142857142857142,24.428571428571427,15.428571428571429,26.142857142857142,24.857142857142858,18.285714285714285,16.071428571428573,7.0,13.214285714285714,6.428571428571429,2.857142857142857,10.928571428571429,3.7142857142857144,-6.571428571428571,-0.6428571428571429,-2.642857142857143,-0.21428571428571427,-8.928571428571429,-0.42857142857142855,10.928571428571429,3.2142857142857144,20.928571428571427,16.0,5.0,16.142857142857142,6.0,1.6428571428571428,2.0714285714285716,10.357142857142858,0.42857142857142855,-7.928571428571429,2.4285714285714284,-9.142857142857142,-11.714285714285714,0.2857142857142857,-10.5,-5.642857142857143,-5.285714285714286,-8.285714285714286,12.714285714285714,-0.8571428571428571,15.642857142857142,2.642857142857143,16.5,33.42857142857143,11.571428571428571,8.928571428571429,16.071428571428573,23.5,13.714285714285714,2.5,18.071428571428573,10.857142857142858,2.7857142857142856,15.714285714285714,-5.571428571428571,-6.0,-7.714285714285714,-13.928571428571429,-11.0,3.0714285714285716,-13.357142857142858,-10.571428571428571,-14.214285714285714,-4.857142857142857,-11.0,-9.571428571428571,2.142857142857143,-9.642857142857142,2.2857142857142856,4.0,8.5,13.142857142857142,27.928571428571427,17.785714285714285,34.285714285714285,15.142857142857142,26.071428571428573,25.142857142857142,24.071428571428573,24.928571428571427,26.857142857142858,23.785714285714285,63.857142857142854,51.57142857142857,84.0,73.64285714285714,87.71428571428571,88.57142857142857,110.21428571428571,111.92857142857143,109.57142857142857,130.5,143.07142857142858,148.78571428571428,108.14285714285714],\"yaxis\":\"y\"},{\"name\":\"Promedio de 14 d\\u00edas\",\"opacity\":0.5,\"type\":\"bar\",\"x\":[\"2020/03/18\",\"2020/03/19\",\"2020/03/20\",\"2020/03/21\",\"2020/03/22\",\"2020/03/25\",\"2020/03/26\",\"2020/03/27\",\"2020/03/28\",\"2020/03/29\",\"2020/03/31\",\"2020/04/02\",\"2020/04/04\",\"2020/04/06\",\"2020/04/07\",\"2020/04/08\",\"2020/04/09\",\"2020/04/12\",\"2020/04/16\",\"2020/04/17\",\"2020/04/18\",\"2020/04/21\",\"2020/04/23\",\"2020/04/24\",\"2020/04/29\",\"2020/05/01\",\"2020/05/02\",\"2020/05/06\",\"2020/05/10\",\"2020/05/11\",\"2020/05/13\",\"2020/05/15\",\"2020/05/19\",\"2020/05/21\",\"2020/05/22\",\"2020/05/23\",\"2020/05/25\",\"2020/05/26\",\"2020/05/27\",\"2020/05/28\",\"2020/05/29\",\"2020/05/30\",\"2020/05/31\",\"2020/06/04\",\"2020/06/05\",\"2020/06/06\",\"2020/06/11\",\"2020/06/13\",\"2020/06/14\",\"2020/06/15\",\"2020/06/17\",\"2020/06/25\",\"2020/06/26\",\"2020/06/27\",\"2020/06/28\",\"2020/06/30\",\"2020/07/02\",\"2020/07/03\",\"2020/07/05\",\"2020/07/06\",\"2020/07/07\",\"2020/07/10\",\"2020/07/11\",\"2020/07/14\",\"2020/07/15\",\"2020/07/16\",\"2020/07/21\",\"2020/07/22\",\"2020/07/23\",\"2020/07/25\",\"2020/07/26\",\"2020/07/27\",\"2020/07/28\",\"2020/08/01\",\"2020/08/02\",\"2020/08/03\",\"2020/08/04\",\"2020/08/05\",\"2020/08/06\",\"2020/08/07\",\"2020/08/08\",\"2020/08/09\",\"2020/08/13\",\"2020/08/14\",\"2020/08/18\",\"2020/08/19\",\"2020/08/23\",\"2020/08/26\",\"2020/08/27\",\"2020/08/28\",\"2020/08/29\",\"2020/09/01\",\"2020/09/02\",\"2020/09/03\",\"2020/09/08\",\"2020/09/09\",\"2020/09/10\",\"2020/09/13\",\"2020/09/14\",\"2020/09/15\",\"2020/09/16\",\"2020/09/21\",\"2020/09/22\",\"2020/09/25\",\"2020/09/26\",\"2020/09/29\",\"2020/09/30\",\"2020/10/01\",\"2020/10/10\",\"2020/10/12\",\"2020/10/14\",\"2020/10/15\",\"2020/10/16\",\"2020/10/17\",\"2020/10/20\",\"2020/10/21\",\"2020/10/22\",\"2020/10/26\",\"2020/10/27\",\"2020/10/28\",\"2020/10/30\",\"2020/10/31\",\"2020/11/01\",\"2020/11/03\",\"2020/11/04\",\"2020/11/08\",\"2020/11/09\",\"2020/11/10\",\"2020/11/11\",\"2020/11/12\",\"2020/11/16\",\"2020/11/17\",\"2020/11/19\",\"2020/11/21\",\"2020/11/23\",\"2020/11/24\",\"2020/11/25\",\"2020/11/28\",\"2020/11/29\",\"2020/11/30\",\"2020/12/01\",\"2020/12/02\",\"2020/12/04\",\"2020/12/06\",\"2020/12/08\",\"2020/12/10\",\"2020/12/14\",\"2020/12/15\",\"2020/12/16\",\"2020/12/17\",\"2020/12/18\",\"2020/12/19\",\"2020/12/21\",\"2020/12/22\",\"2020/12/23\",\"2020/12/24\",\"2020/12/25\",\"2020/12/27\",\"2020/12/28\",\"2020/12/31\",\"2021/01/01\",\"2021/01/02\",\"2021/01/03\",\"2021/01/04\",\"2021/01/05\",\"2021/01/07\",\"2021/01/08\",\"2021/01/09\",\"2021/01/10\",\"2021/01/11\",\"2021/01/12\",\"2021/01/13\",\"2021/01/14\",\"2021/01/16\",\"2021/01/20\",\"2021/01/21\",\"2021/01/22\",\"2021/01/23\",\"2021/01/24\",\"2021/01/25\",\"2021/01/26\",\"2021/01/27\",\"2021/01/29\",\"2021/01/30\",\"2021/01/31\",\"2021/02/01\",\"2021/02/06\",\"2021/02/09\",\"2021/02/10\",\"2021/02/11\",\"2021/02/12\",\"2021/02/15\",\"2021/02/16\",\"2021/02/17\",\"2021/02/19\",\"2021/02/20\",\"2021/02/25\",\"2021/02/26\",\"2021/03/01\",\"2021/03/02\",\"2021/03/06\",\"2021/03/07\",\"2021/03/08\",\"2021/03/13\",\"2021/03/15\",\"2021/03/19\",\"2021/03/20\",\"2021/03/24\",\"2021/03/25\",\"2021/03/26\",\"2021/03/27\",\"2021/03/29\",\"2021/03/30\",\"2021/03/31\",\"2021/04/01\",\"2021/04/03\",\"2021/04/05\",\"2021/04/09\",\"2021/04/10\",\"2021/04/12\",\"2021/04/13\",\"2021/04/14\",\"2021/04/16\",\"2021/04/17\",\"2021/04/18\",\"2021/04/19\",\"2021/04/21\",\"2021/04/22\",\"2021/04/23\",\"2021/04/28\",\"2021/05/03\",\"2021/05/05\",\"2021/05/06\",\"2021/05/07\",\"2021/05/08\",\"2021/05/10\",\"2021/05/11\",\"2021/05/12\",\"2021/05/13\",\"2021/05/14\",\"2021/05/15\",\"2021/05/18\",\"2021/05/19\",\"2021/05/24\",\"2021/05/28\",\"2021/06/01\",\"2021/06/03\",\"2021/06/05\",\"2021/06/06\",\"2021/06/07\",\"2021/06/08\",\"2021/06/10\",\"2021/06/11\",\"2021/06/12\",\"2021/06/13\",\"2021/06/14\",\"2021/06/16\",\"2021/06/18\",\"2021/06/19\",\"2021/06/20\",\"2021/06/21\",\"2021/06/22\",\"2021/06/23\",\"2021/06/24\",\"2021/06/25\",\"2021/06/26\",\"2021/06/27\",\"2021/06/28\",\"2021/06/29\",\"2021/06/30\",\"2021/07/01\",\"2021/07/02\",\"2021/07/03\"],\"y\":[1.0,1.3333333333333333,2.3333333333333335,2.0,0.0,1.6666666666666667,1.6666666666666667,10.0,3.3333333333333335,6.0,2.0,6.666666666666667,3.6666666666666665,9.0,9.666666666666666,9.333333333333334,1.0,2.6666666666666665,7.0,5.0,0.3333333333333333,1.0,0.0,0.0,4.666666666666667,14.666666666666666,1.3333333333333333,2.3333333333333335,1.6666666666666667,2.6666666666666665,1.0,5.333333333333333,1.0,0.6666666666666666,0.6666666666666666,0.6666666666666666,0.3333333333333333,0.3333333333333333,1.0,2.0,3.0,3.6666666666666665,5.333333333333333,1.6666666666666667,8.333333333333334,2.0,3.0,0.6666666666666666,0.0,2.0,0.3333333333333333,0.3333333333333333,1.3333333333333333,0.0,1.3333333333333333,1.6666666666666667,2.3333333333333335,0.3333333333333333,0.0,2.3333333333333335,0.3333333333333333,1.0,0.6666666666666666,0.0,0.0,0.0,4.0,1.0,0.0,4.333333333333333,11.333333333333334,4.666666666666667,5.333333333333333,1.3333333333333333,4.333333333333333,2.0,4.0,8.333333333333334,7.666666666666667,11.333333333333334,5.333333333333333,13.0,3.0,9.333333333333334,16.666666666666668,11.666666666666666,6.0,4.0,11.0,14.666666666666666,0.3333333333333333,4.333333333333333,9.666666666666666,6.333333333333333,23.666666666666668,16.333333333333332,5.666666666666667,0.0,5.666666666666667,14.0,5.0,10.0,4.0,4.666666666666667,1.6666666666666667,7.0,15.666666666666666,0.0,3.6666666666666665,4.0,1.6666666666666667,13.0,11.333333333333334,7.666666666666667,4.333333333333333,5.0,3.6666666666666665,9.333333333333334,5.666666666666667,3.3333333333333335,12.333333333333334,3.0,0.0,20.333333333333332,1.6666666666666667,2.6666666666666665,1.3333333333333333,2.3333333333333335,2.0,3.6666666666666665,0.3333333333333333,5.0,3.3333333333333335,9.0,12.0,9.333333333333334,5.333333333333333,3.6666666666666665,5.333333333333333,11.333333333333334,5.0,8.0,9.666666666666666,15.0,18.666666666666668,3.3333333333333335,3.0,4.666666666666667,10.333333333333334,8.666666666666666,16.0,1.0,3.6666666666666665,4.333333333333333,34.0,13.666666666666666,7.333333333333333,15.333333333333334,9.666666666666666,8.666666666666666,27.666666666666668,7.666666666666667,41.0,18.333333333333332,0.6666666666666666,40.0,54.666666666666664,24.666666666666668,29.0,40.666666666666664,54.0,24.666666666666668,20.0,48.333333333333336,38.666666666666664,66.66666666666667,72.66666666666667,75.33333333333333,12.333333333333334,73.0,63.666666666666664,33.0,28.333333333333332,115.33333333333333,82.33333333333333,44.666666666666664,1.3333333333333333,12.666666666666666,65.66666666666667,81.0,10.0,16.333333333333332,6.0,69.33333333333333,37.666666666666664,38.666666666666664,13.0,7.0,92.33333333333333,98.66666666666667,17.0,32.0,97.0,45.333333333333336,51.0,28.666666666666668,35.666666666666664,32.666666666666664,19.333333333333332,71.33333333333333,34.333333333333336,19.333333333333332,44.0,104.0,23.0,49.666666666666664,0.3333333333333333,26.333333333333332,15.0,6.666666666666667,0.0,50.0,22.333333333333332,11.0,6.666666666666667,52.333333333333336,49.0,19.333333333333332,34.666666666666664,70.33333333333333,34.666666666666664,42.666666666666664,47.666666666666664,8.666666666666666,3.0,11.666666666666666,46.0,23.333333333333332,68.66666666666667,58.666666666666664,15.666666666666666,35.333333333333336,65.0,0.6666666666666666,19.666666666666668,37.333333333333336,24.0,11.333333333333334,18.666666666666668,7.0,24.666666666666668,44.0,70.33333333333333,104.0,20.333333333333332,55.0,23.0,23.0,6.0,26.666666666666668,5.666666666666667,206.33333333333334,106.33333333333333,325.0,116.0,272.6666666666667,41.666666666666664,225.66666666666666,90.66666666666667,121.0,76.0,168.33333333333334,189.0]},{\"name\":\"Promedio de 14 d\\u00edas\",\"opacity\":0.5,\"type\":\"bar\",\"x\":[\"2020/03/17\",\"2020/03/23\",\"2020/03/24\",\"2020/03/30\",\"2020/04/01\",\"2020/04/03\",\"2020/04/05\",\"2020/04/10\",\"2020/04/11\",\"2020/04/13\",\"2020/04/14\",\"2020/04/15\",\"2020/04/19\",\"2020/04/20\",\"2020/04/22\",\"2020/04/25\",\"2020/04/26\",\"2020/04/27\",\"2020/04/28\",\"2020/04/30\",\"2020/05/03\",\"2020/05/04\",\"2020/05/05\",\"2020/05/07\",\"2020/05/08\",\"2020/05/09\",\"2020/05/12\",\"2020/05/14\",\"2020/05/16\",\"2020/05/17\",\"2020/05/18\",\"2020/05/20\",\"2020/05/24\",\"2020/06/01\",\"2020/06/02\",\"2020/06/03\",\"2020/06/07\",\"2020/06/08\",\"2020/06/09\",\"2020/06/10\",\"2020/06/12\",\"2020/06/16\",\"2020/06/18\",\"2020/06/19\",\"2020/06/20\",\"2020/06/21\",\"2020/06/22\",\"2020/06/23\",\"2020/06/24\",\"2020/06/29\",\"2020/07/01\",\"2020/07/04\",\"2020/07/08\",\"2020/07/09\",\"2020/07/12\",\"2020/07/13\",\"2020/07/17\",\"2020/07/18\",\"2020/07/20\",\"2020/07/24\",\"2020/07/29\",\"2020/07/30\",\"2020/07/31\",\"2020/08/10\",\"2020/08/11\",\"2020/08/12\",\"2020/08/15\",\"2020/08/16\",\"2020/08/17\",\"2020/08/20\",\"2020/08/21\",\"2020/08/22\",\"2020/08/24\",\"2020/08/25\",\"2020/08/30\",\"2020/08/31\",\"2020/09/04\",\"2020/09/05\",\"2020/09/06\",\"2020/09/07\",\"2020/09/11\",\"2020/09/12\",\"2020/09/17\",\"2020/09/18\",\"2020/09/19\",\"2020/09/20\",\"2020/09/23\",\"2020/09/24\",\"2020/09/27\",\"2020/09/28\",\"2020/10/02\",\"2020/10/03\",\"2020/10/04\",\"2020/10/05\",\"2020/10/06\",\"2020/10/07\",\"2020/10/08\",\"2020/10/09\",\"2020/10/11\",\"2020/10/13\",\"2020/10/18\",\"2020/10/19\",\"2020/10/23\",\"2020/10/24\",\"2020/10/25\",\"2020/10/29\",\"2020/11/02\",\"2020/11/05\",\"2020/11/06\",\"2020/11/07\",\"2020/11/13\",\"2020/11/14\",\"2020/11/15\",\"2020/11/18\",\"2020/11/20\",\"2020/11/22\",\"2020/11/26\",\"2020/11/27\",\"2020/12/03\",\"2020/12/05\",\"2020/12/07\",\"2020/12/09\",\"2020/12/11\",\"2020/12/12\",\"2020/12/13\",\"2020/12/20\",\"2020/12/26\",\"2020/12/29\",\"2020/12/30\",\"2021/01/06\",\"2021/01/15\",\"2021/01/17\",\"2021/01/18\",\"2021/01/19\",\"2021/01/28\",\"2021/02/02\",\"2021/02/03\",\"2021/02/04\",\"2021/02/05\",\"2021/02/07\",\"2021/02/08\",\"2021/02/13\",\"2021/02/14\",\"2021/02/18\",\"2021/02/21\",\"2021/02/22\",\"2021/02/23\",\"2021/02/24\",\"2021/02/27\",\"2021/02/28\",\"2021/03/03\",\"2021/03/04\",\"2021/03/05\",\"2021/03/09\",\"2021/03/10\",\"2021/03/11\",\"2021/03/12\",\"2021/03/14\",\"2021/03/16\",\"2021/03/17\",\"2021/03/18\",\"2021/03/21\",\"2021/03/22\",\"2021/03/23\",\"2021/03/28\",\"2021/04/02\",\"2021/04/04\",\"2021/04/06\",\"2021/04/07\",\"2021/04/08\",\"2021/04/11\",\"2021/04/15\",\"2021/04/20\",\"2021/04/24\",\"2021/04/25\",\"2021/04/26\",\"2021/04/27\",\"2021/04/29\",\"2021/04/30\",\"2021/05/01\",\"2021/05/02\",\"2021/05/04\",\"2021/05/09\",\"2021/05/16\",\"2021/05/17\",\"2021/05/20\",\"2021/05/21\",\"2021/05/22\",\"2021/05/23\",\"2021/05/25\",\"2021/05/26\",\"2021/05/27\",\"2021/05/29\",\"2021/05/30\",\"2021/05/31\",\"2021/06/02\",\"2021/06/04\",\"2021/06/09\",\"2021/06/15\",\"2021/06/17\",\"2021/07/04\"],\"y\":[-0.3333333333333333,-0.3333333333333333,-0.3333333333333333,-7.666666666666667,-3.3333333333333335,-2.3333333333333335,-2.0,-1.6666666666666667,-3.0,-5.333333333333333,-0.3333333333333333,-3.0,-3.0,-4.333333333333333,-2.0,-4.666666666666667,-10.0,-1.3333333333333333,-0.6666666666666666,-4.0,-5.666666666666667,-19.0,-6.666666666666667,-1.6666666666666667,-1.6666666666666667,-4.666666666666667,-2.0,-3.6666666666666665,-3.3333333333333335,-0.3333333333333333,-5.333333333333333,-0.3333333333333333,-0.6666666666666666,-3.6666666666666665,-1.6666666666666667,-8.666666666666666,-1.6666666666666667,-11.666666666666666,-4.0,-0.3333333333333333,-0.3333333333333333,-1.0,-0.3333333333333333,-1.0,-4.0,-2.3333333333333335,-0.3333333333333333,-0.6666666666666666,-0.3333333333333333,-1.3333333333333333,-1.0,-0.6666666666666666,-1.3333333333333333,-1.6666666666666667,-2.6666666666666665,-1.0,-1.6666666666666667,-0.3333333333333333,-0.3333333333333333,-1.3333333333333333,-9.333333333333334,-4.0,-2.6666666666666665,-4.0,-10.0,-16.0,-7.0,-2.6666666666666665,-6.333333333333333,-9.0,-13.0,-6.0,-2.6666666666666665,-16.666666666666668,-0.3333333333333333,-8.666666666666666,-9.666666666666666,-25.666666666666668,-3.0,-2.3333333333333335,-7.333333333333333,-20.333333333333332,-2.0,-7.333333333333333,-7.0,-7.0,-3.3333333333333335,-13.666666666666666,-4.666666666666667,-4.666666666666667,-1.3333333333333333,-14.666666666666666,-4.0,-8.0,-4.666666666666667,-5.666666666666667,-4.0,-3.3333333333333335,-1.3333333333333333,-4.0,-6.0,-1.6666666666666667,-2.6666666666666665,-7.0,-9.666666666666666,-16.0,-7.0,-7.0,-23.333333333333332,-3.3333333333333335,-3.3333333333333335,-12.0,-1.6666666666666667,-9.333333333333334,-0.6666666666666666,-1.6666666666666667,-12.0,-4.333333333333333,-6.0,-2.3333333333333335,-9.333333333333334,-16.333333333333332,-12.333333333333334,-2.0,-5.666666666666667,-2.3333333333333335,-16.666666666666668,-27.0,-17.666666666666668,-0.6666666666666666,-48.333333333333336,-85.0,-25.0,-100.33333333333333,-42.333333333333336,-39.666666666666664,-30.0,-66.33333333333333,-24.0,-64.0,-80.33333333333333,-14.666666666666666,-36.0,-26.0,-7.0,-33.666666666666664,-113.33333333333333,-56.0,-17.333333333333332,-21.333333333333332,-1.3333333333333333,-73.33333333333333,-54.666666666666664,-28.666666666666668,-31.666666666666668,-93.0,-44.333333333333336,-9.333333333333334,-62.333333333333336,-15.0,-19.0,-5.666666666666667,-13.0,-20.0,-43.666666666666664,-7.333333333333333,-3.6666666666666665,-67.0,-50.666666666666664,-4.333333333333333,-54.333333333333336,-6.666666666666667,-10.333333333333334,-7.333333333333333,-101.0,-9.0,-65.66666666666667,-12.333333333333334,-24.333333333333332,-26.0,-38.0,-20.333333333333332,-15.333333333333334,-73.33333333333333,-46.333333333333336,-15.666666666666666,-16.666666666666668,-10.333333333333334,-14.0,-30.666666666666668,-17.666666666666668,-40.666666666666664,-7.666666666666667,-23.0,-43.666666666666664,-15.666666666666666,-18.666666666666668,-9.0,-22.333333333333332,-18.666666666666668,-77.66666666666667]}],                        {\"legend\":{\"tracegroupgap\":0},\"margin\":{\"t\":60},\"showlegend\":false,\"template\":{\"data\":{\"bar\":[{\"error_x\":{\"color\":\"#2a3f5f\"},\"error_y\":{\"color\":\"#2a3f5f\"},\"marker\":{\"line\":{\"color\":\"white\",\"width\":0.5},\"pattern\":{\"fillmode\":\"overlay\",\"size\":10,\"solidity\":0.2}},\"type\":\"bar\"}],\"barpolar\":[{\"marker\":{\"line\":{\"color\":\"white\",\"width\":0.5},\"pattern\":{\"fillmode\":\"overlay\",\"size\":10,\"solidity\":0.2}},\"type\":\"barpolar\"}],\"carpet\":[{\"aaxis\":{\"endlinecolor\":\"#2a3f5f\",\"gridcolor\":\"#C8D4E3\",\"linecolor\":\"#C8D4E3\",\"minorgridcolor\":\"#C8D4E3\",\"startlinecolor\":\"#2a3f5f\"},\"baxis\":{\"endlinecolor\":\"#2a3f5f\",\"gridcolor\":\"#C8D4E3\",\"linecolor\":\"#C8D4E3\",\"minorgridcolor\":\"#C8D4E3\",\"startlinecolor\":\"#2a3f5f\"},\"type\":\"carpet\"}],\"choropleth\":[{\"colorbar\":{\"outlinewidth\":0,\"ticks\":\"\"},\"type\":\"choropleth\"}],\"contour\":[{\"colorbar\":{\"outlinewidth\":0,\"ticks\":\"\"},\"colorscale\":[[0.0,\"#0d0887\"],[0.1111111111111111,\"#46039f\"],[0.2222222222222222,\"#7201a8\"],[0.3333333333333333,\"#9c179e\"],[0.4444444444444444,\"#bd3786\"],[0.5555555555555556,\"#d8576b\"],[0.6666666666666666,\"#ed7953\"],[0.7777777777777778,\"#fb9f3a\"],[0.8888888888888888,\"#fdca26\"],[1.0,\"#f0f921\"]],\"type\":\"contour\"}],\"contourcarpet\":[{\"colorbar\":{\"outlinewidth\":0,\"ticks\":\"\"},\"type\":\"contourcarpet\"}],\"heatmap\":[{\"colorbar\":{\"outlinewidth\":0,\"ticks\":\"\"},\"colorscale\":[[0.0,\"#0d0887\"],[0.1111111111111111,\"#46039f\"],[0.2222222222222222,\"#7201a8\"],[0.3333333333333333,\"#9c179e\"],[0.4444444444444444,\"#bd3786\"],[0.5555555555555556,\"#d8576b\"],[0.6666666666666666,\"#ed7953\"],[0.7777777777777778,\"#fb9f3a\"],[0.8888888888888888,\"#fdca26\"],[1.0,\"#f0f921\"]],\"type\":\"heatmap\"}],\"heatmapgl\":[{\"colorbar\":{\"outlinewidth\":0,\"ticks\":\"\"},\"colorscale\":[[0.0,\"#0d0887\"],[0.1111111111111111,\"#46039f\"],[0.2222222222222222,\"#7201a8\"],[0.3333333333333333,\"#9c179e\"],[0.4444444444444444,\"#bd3786\"],[0.5555555555555556,\"#d8576b\"],[0.6666666666666666,\"#ed7953\"],[0.7777777777777778,\"#fb9f3a\"],[0.8888888888888888,\"#fdca26\"],[1.0,\"#f0f921\"]],\"type\":\"heatmapgl\"}],\"histogram\":[{\"marker\":{\"pattern\":{\"fillmode\":\"overlay\",\"size\":10,\"solidity\":0.2}},\"type\":\"histogram\"}],\"histogram2d\":[{\"colorbar\":{\"outlinewidth\":0,\"ticks\":\"\"},\"colorscale\":[[0.0,\"#0d0887\"],[0.1111111111111111,\"#46039f\"],[0.2222222222222222,\"#7201a8\"],[0.3333333333333333,\"#9c179e\"],[0.4444444444444444,\"#bd3786\"],[0.5555555555555556,\"#d8576b\"],[0.6666666666666666,\"#ed7953\"],[0.7777777777777778,\"#fb9f3a\"],[0.8888888888888888,\"#fdca26\"],[1.0,\"#f0f921\"]],\"type\":\"histogram2d\"}],\"histogram2dcontour\":[{\"colorbar\":{\"outlinewidth\":0,\"ticks\":\"\"},\"colorscale\":[[0.0,\"#0d0887\"],[0.1111111111111111,\"#46039f\"],[0.2222222222222222,\"#7201a8\"],[0.3333333333333333,\"#9c179e\"],[0.4444444444444444,\"#bd3786\"],[0.5555555555555556,\"#d8576b\"],[0.6666666666666666,\"#ed7953\"],[0.7777777777777778,\"#fb9f3a\"],[0.8888888888888888,\"#fdca26\"],[1.0,\"#f0f921\"]],\"type\":\"histogram2dcontour\"}],\"mesh3d\":[{\"colorbar\":{\"outlinewidth\":0,\"ticks\":\"\"},\"type\":\"mesh3d\"}],\"parcoords\":[{\"line\":{\"colorbar\":{\"outlinewidth\":0,\"ticks\":\"\"}},\"type\":\"parcoords\"}],\"pie\":[{\"automargin\":true,\"type\":\"pie\"}],\"scatter\":[{\"marker\":{\"colorbar\":{\"outlinewidth\":0,\"ticks\":\"\"}},\"type\":\"scatter\"}],\"scatter3d\":[{\"line\":{\"colorbar\":{\"outlinewidth\":0,\"ticks\":\"\"}},\"marker\":{\"colorbar\":{\"outlinewidth\":0,\"ticks\":\"\"}},\"type\":\"scatter3d\"}],\"scattercarpet\":[{\"marker\":{\"colorbar\":{\"outlinewidth\":0,\"ticks\":\"\"}},\"type\":\"scattercarpet\"}],\"scattergeo\":[{\"marker\":{\"colorbar\":{\"outlinewidth\":0,\"ticks\":\"\"}},\"type\":\"scattergeo\"}],\"scattergl\":[{\"marker\":{\"colorbar\":{\"outlinewidth\":0,\"ticks\":\"\"}},\"type\":\"scattergl\"}],\"scattermapbox\":[{\"marker\":{\"colorbar\":{\"outlinewidth\":0,\"ticks\":\"\"}},\"type\":\"scattermapbox\"}],\"scatterpolar\":[{\"marker\":{\"colorbar\":{\"outlinewidth\":0,\"ticks\":\"\"}},\"type\":\"scatterpolar\"}],\"scatterpolargl\":[{\"marker\":{\"colorbar\":{\"outlinewidth\":0,\"ticks\":\"\"}},\"type\":\"scatterpolargl\"}],\"scatterternary\":[{\"marker\":{\"colorbar\":{\"outlinewidth\":0,\"ticks\":\"\"}},\"type\":\"scatterternary\"}],\"surface\":[{\"colorbar\":{\"outlinewidth\":0,\"ticks\":\"\"},\"colorscale\":[[0.0,\"#0d0887\"],[0.1111111111111111,\"#46039f\"],[0.2222222222222222,\"#7201a8\"],[0.3333333333333333,\"#9c179e\"],[0.4444444444444444,\"#bd3786\"],[0.5555555555555556,\"#d8576b\"],[0.6666666666666666,\"#ed7953\"],[0.7777777777777778,\"#fb9f3a\"],[0.8888888888888888,\"#fdca26\"],[1.0,\"#f0f921\"]],\"type\":\"surface\"}],\"table\":[{\"cells\":{\"fill\":{\"color\":\"#EBF0F8\"},\"line\":{\"color\":\"white\"}},\"header\":{\"fill\":{\"color\":\"#C8D4E3\"},\"line\":{\"color\":\"white\"}},\"type\":\"table\"}]},\"layout\":{\"annotationdefaults\":{\"arrowcolor\":\"#2a3f5f\",\"arrowhead\":0,\"arrowwidth\":1},\"autotypenumbers\":\"strict\",\"coloraxis\":{\"colorbar\":{\"outlinewidth\":0,\"ticks\":\"\"}},\"colorscale\":{\"diverging\":[[0,\"#8e0152\"],[0.1,\"#c51b7d\"],[0.2,\"#de77ae\"],[0.3,\"#f1b6da\"],[0.4,\"#fde0ef\"],[0.5,\"#f7f7f7\"],[0.6,\"#e6f5d0\"],[0.7,\"#b8e186\"],[0.8,\"#7fbc41\"],[0.9,\"#4d9221\"],[1,\"#276419\"]],\"sequential\":[[0.0,\"#0d0887\"],[0.1111111111111111,\"#46039f\"],[0.2222222222222222,\"#7201a8\"],[0.3333333333333333,\"#9c179e\"],[0.4444444444444444,\"#bd3786\"],[0.5555555555555556,\"#d8576b\"],[0.6666666666666666,\"#ed7953\"],[0.7777777777777778,\"#fb9f3a\"],[0.8888888888888888,\"#fdca26\"],[1.0,\"#f0f921\"]],\"sequentialminus\":[[0.0,\"#0d0887\"],[0.1111111111111111,\"#46039f\"],[0.2222222222222222,\"#7201a8\"],[0.3333333333333333,\"#9c179e\"],[0.4444444444444444,\"#bd3786\"],[0.5555555555555556,\"#d8576b\"],[0.6666666666666666,\"#ed7953\"],[0.7777777777777778,\"#fb9f3a\"],[0.8888888888888888,\"#fdca26\"],[1.0,\"#f0f921\"]]},\"colorway\":[\"#636efa\",\"#EF553B\",\"#00cc96\",\"#ab63fa\",\"#FFA15A\",\"#19d3f3\",\"#FF6692\",\"#B6E880\",\"#FF97FF\",\"#FECB52\"],\"font\":{\"color\":\"#2a3f5f\"},\"geo\":{\"bgcolor\":\"white\",\"lakecolor\":\"white\",\"landcolor\":\"white\",\"showlakes\":true,\"showland\":true,\"subunitcolor\":\"#C8D4E3\"},\"hoverlabel\":{\"align\":\"left\"},\"hovermode\":\"closest\",\"mapbox\":{\"style\":\"light\"},\"paper_bgcolor\":\"white\",\"plot_bgcolor\":\"white\",\"polar\":{\"angularaxis\":{\"gridcolor\":\"#EBF0F8\",\"linecolor\":\"#EBF0F8\",\"ticks\":\"\"},\"bgcolor\":\"white\",\"radialaxis\":{\"gridcolor\":\"#EBF0F8\",\"linecolor\":\"#EBF0F8\",\"ticks\":\"\"}},\"scene\":{\"xaxis\":{\"backgroundcolor\":\"white\",\"gridcolor\":\"#DFE8F3\",\"gridwidth\":2,\"linecolor\":\"#EBF0F8\",\"showbackground\":true,\"ticks\":\"\",\"zerolinecolor\":\"#EBF0F8\"},\"yaxis\":{\"backgroundcolor\":\"white\",\"gridcolor\":\"#DFE8F3\",\"gridwidth\":2,\"linecolor\":\"#EBF0F8\",\"showbackground\":true,\"ticks\":\"\",\"zerolinecolor\":\"#EBF0F8\"},\"zaxis\":{\"backgroundcolor\":\"white\",\"gridcolor\":\"#DFE8F3\",\"gridwidth\":2,\"linecolor\":\"#EBF0F8\",\"showbackground\":true,\"ticks\":\"\",\"zerolinecolor\":\"#EBF0F8\"}},\"shapedefaults\":{\"line\":{\"color\":\"#2a3f5f\"}},\"ternary\":{\"aaxis\":{\"gridcolor\":\"#DFE8F3\",\"linecolor\":\"#A2B1C6\",\"ticks\":\"\"},\"baxis\":{\"gridcolor\":\"#DFE8F3\",\"linecolor\":\"#A2B1C6\",\"ticks\":\"\"},\"bgcolor\":\"white\",\"caxis\":{\"gridcolor\":\"#DFE8F3\",\"linecolor\":\"#A2B1C6\",\"ticks\":\"\"}},\"title\":{\"x\":0.05},\"xaxis\":{\"automargin\":true,\"gridcolor\":\"#EBF0F8\",\"linecolor\":\"#EBF0F8\",\"ticks\":\"\",\"title\":{\"standoff\":15},\"zerolinecolor\":\"#EBF0F8\",\"zerolinewidth\":2},\"yaxis\":{\"automargin\":true,\"gridcolor\":\"#EBF0F8\",\"linecolor\":\"#EBF0F8\",\"ticks\":\"\",\"title\":{\"standoff\":15},\"zerolinecolor\":\"#EBF0F8\",\"zerolinewidth\":2}}},\"title\":{\"text\":\"Aceleraci\\u00f3n de casos - promedio 14 d\\u00edas - Cuba\"},\"xaxis\":{\"anchor\":\"y\",\"domain\":[0.0,1.0],\"title\":{\"text\":\"D\\u00edas\"}},\"yaxis\":{\"anchor\":\"x\",\"domain\":[0.0,1.0],\"title\":{\"text\":\"Casos\"}}},                        {\"responsive\": true}                    ).then(function(){\n                            \nvar gd = document.getElementById('69f51dd9-33b9-46f5-ab15-f3d368731495');\nvar x = new MutationObserver(function (mutations, observer) {{\n        var display = window.getComputedStyle(gd).display;\n        if (!display || display === 'none') {{\n            console.log([gd, 'removed!']);\n            Plotly.purge(gd);\n            observer.disconnect();\n        }}\n}});\n\n// Listen for the removal of the full notebook cells\nvar notebookContainer = gd.closest('#notebook-container');\nif (notebookContainer) {{\n    x.observe(notebookContainer, {childList: true});\n}}\n\n// Listen for the clearing of the current output cell\nvar outputEl = gd.closest('.output');\nif (outputEl) {{\n    x.observe(outputEl, {childList: true});\n}}\n\n                        })                };                            </script>        </div>\n</body>\n</html>"
     },
     "metadata": {},
     "output_type": "display_data"
    }
   ],
   "execution_count": null
  },
  {
   "cell_type": "code",
   "metadata": {
    "cell_id": "00011-13bdae30-06fc-4beb-ada8-15593defd262",
    "deepnote_to_be_reexecuted": false,
    "source_hash": "68cb1be1",
    "execution_start": 1632425420927,
    "execution_millis": 51,
    "deepnote_cell_type": "code"
   },
   "source": "#bars = 'accelMeans7'\nbars = 'accelMeans3'\n#bars = 'acc'\n#bars = 'vel'\n\npos = cuba[cuba[bars] >= 0]\nneg = cuba[cuba[bars] < 0]\n\nfig = go.Figure()\n\n### Traces\n# Line\nfig.add_trace(go.Scatter(\n    x = cuba['Date'],\n    y = cuba['accelMeans14'],\n    name = 'Aceleración 14d',\n    line = dict(\n        color = ('blue'),\n        width = 1)\n))\n# Bars\nfig.add_trace(go.Bar(\n    x=pos['Date'], \n    y=pos[bars], \n    name='Acc positiva 3d', # Positive velocity\n    marker = dict(color = 'red'), \n    opacity=0.7\n))\nfig.add_trace(go.Bar(\n    x=neg['Date'], \n    y=neg[bars], \n    name='Acc negativa 3d', # Negative velocity\n    marker = dict(color = 'green'), \n    opacity=0.7\n))\n\n### Layout\nlayout = {'title': 'Aceleración de casos - promedio móvil 14 días (línea) - 3 días (barras) - Cuba',\n            #\"width\" : 800,\n            #\"height\" : 600\n         }\nfig.update_layout(layout)\nfig.show()",
   "outputs": [
    {
     "data": {
      "text/html": "<html>\n<head><meta charset=\"utf-8\" /></head>\n<body>\n    <div>            <script src=\"https://cdnjs.cloudflare.com/ajax/libs/mathjax/2.7.5/MathJax.js?config=TeX-AMS-MML_SVG\"></script><script type=\"text/javascript\">if (window.MathJax) {MathJax.Hub.Config({SVG: {font: \"STIX-Web\"}});}</script>                <script type=\"text/javascript\">window.PlotlyConfig = {MathJaxConfig: 'local'};</script>\n        <script src=\"https://cdn.plot.ly/plotly-2.4.2.min.js\"></script>                <div id=\"634a90ab-d6fc-42c5-83eb-28d2437f1d04\" class=\"plotly-graph-div\" style=\"height:525px; width:100%;\"></div>            <script type=\"text/javascript\">                                    window.PLOTLYENV=window.PLOTLYENV || {};                                    if (document.getElementById(\"634a90ab-d6fc-42c5-83eb-28d2437f1d04\")) {                    Plotly.newPlot(                        \"634a90ab-d6fc-42c5-83eb-28d2437f1d04\",                        [{\"line\":{\"color\":\"blue\",\"width\":1},\"name\":\"Aceleraci\\u00f3n 14d\",\"type\":\"scatter\",\"x\":[\"2020-03-12\",\"2020-03-13\",\"2020-03-14\",\"2020-03-15\",\"2020-03-16\",\"2020-03-17\",\"2020-03-18\",\"2020-03-19\",\"2020-03-20\",\"2020-03-21\",\"2020-03-22\",\"2020-03-23\",\"2020-03-24\",\"2020-03-25\",\"2020-03-26\",\"2020-03-27\",\"2020-03-28\",\"2020-03-29\",\"2020-03-30\",\"2020-03-31\",\"2020-04-01\",\"2020-04-02\",\"2020-04-03\",\"2020-04-04\",\"2020-04-05\",\"2020-04-06\",\"2020-04-07\",\"2020-04-08\",\"2020-04-09\",\"2020-04-10\",\"2020-04-11\",\"2020-04-12\",\"2020-04-13\",\"2020-04-14\",\"2020-04-15\",\"2020-04-16\",\"2020-04-17\",\"2020-04-18\",\"2020-04-19\",\"2020-04-20\",\"2020-04-21\",\"2020-04-22\",\"2020-04-23\",\"2020-04-24\",\"2020-04-25\",\"2020-04-26\",\"2020-04-27\",\"2020-04-28\",\"2020-04-29\",\"2020-04-30\",\"2020-05-01\",\"2020-05-02\",\"2020-05-03\",\"2020-05-04\",\"2020-05-05\",\"2020-05-06\",\"2020-05-07\",\"2020-05-08\",\"2020-05-09\",\"2020-05-10\",\"2020-05-11\",\"2020-05-12\",\"2020-05-13\",\"2020-05-14\",\"2020-05-15\",\"2020-05-16\",\"2020-05-17\",\"2020-05-18\",\"2020-05-19\",\"2020-05-20\",\"2020-05-21\",\"2020-05-22\",\"2020-05-23\",\"2020-05-24\",\"2020-05-25\",\"2020-05-26\",\"2020-05-27\",\"2020-05-28\",\"2020-05-29\",\"2020-05-30\",\"2020-05-31\",\"2020-06-01\",\"2020-06-02\",\"2020-06-03\",\"2020-06-04\",\"2020-06-05\",\"2020-06-06\",\"2020-06-07\",\"2020-06-08\",\"2020-06-09\",\"2020-06-10\",\"2020-06-11\",\"2020-06-12\",\"2020-06-13\",\"2020-06-14\",\"2020-06-15\",\"2020-06-16\",\"2020-06-17\",\"2020-06-18\",\"2020-06-19\",\"2020-06-20\",\"2020-06-21\",\"2020-06-22\",\"2020-06-23\",\"2020-06-24\",\"2020-06-25\",\"2020-06-26\",\"2020-06-27\",\"2020-06-28\",\"2020-06-29\",\"2020-06-30\",\"2020-07-01\",\"2020-07-02\",\"2020-07-03\",\"2020-07-04\",\"2020-07-05\",\"2020-07-06\",\"2020-07-07\",\"2020-07-08\",\"2020-07-09\",\"2020-07-10\",\"2020-07-11\",\"2020-07-12\",\"2020-07-13\",\"2020-07-14\",\"2020-07-15\",\"2020-07-16\",\"2020-07-17\",\"2020-07-18\",\"2020-07-19\",\"2020-07-20\",\"2020-07-21\",\"2020-07-22\",\"2020-07-23\",\"2020-07-24\",\"2020-07-25\",\"2020-07-26\",\"2020-07-27\",\"2020-07-28\",\"2020-07-29\",\"2020-07-30\",\"2020-07-31\",\"2020-08-01\",\"2020-08-02\",\"2020-08-03\",\"2020-08-04\",\"2020-08-05\",\"2020-08-06\",\"2020-08-07\",\"2020-08-08\",\"2020-08-09\",\"2020-08-10\",\"2020-08-11\",\"2020-08-12\",\"2020-08-13\",\"2020-08-14\",\"2020-08-15\",\"2020-08-16\",\"2020-08-17\",\"2020-08-18\",\"2020-08-19\",\"2020-08-20\",\"2020-08-21\",\"2020-08-22\",\"2020-08-23\",\"2020-08-24\",\"2020-08-25\",\"2020-08-26\",\"2020-08-27\",\"2020-08-28\",\"2020-08-29\",\"2020-08-30\",\"2020-08-31\",\"2020-09-01\",\"2020-09-02\",\"2020-09-03\",\"2020-09-04\",\"2020-09-05\",\"2020-09-06\",\"2020-09-07\",\"2020-09-08\",\"2020-09-09\",\"2020-09-10\",\"2020-09-11\",\"2020-09-12\",\"2020-09-13\",\"2020-09-14\",\"2020-09-15\",\"2020-09-16\",\"2020-09-17\",\"2020-09-18\",\"2020-09-19\",\"2020-09-20\",\"2020-09-21\",\"2020-09-22\",\"2020-09-23\",\"2020-09-24\",\"2020-09-25\",\"2020-09-26\",\"2020-09-27\",\"2020-09-28\",\"2020-09-29\",\"2020-09-30\",\"2020-10-01\",\"2020-10-02\",\"2020-10-03\",\"2020-10-04\",\"2020-10-05\",\"2020-10-06\",\"2020-10-07\",\"2020-10-08\",\"2020-10-09\",\"2020-10-10\",\"2020-10-11\",\"2020-10-12\",\"2020-10-13\",\"2020-10-14\",\"2020-10-15\",\"2020-10-16\",\"2020-10-17\",\"2020-10-18\",\"2020-10-19\",\"2020-10-20\",\"2020-10-21\",\"2020-10-22\",\"2020-10-23\",\"2020-10-24\",\"2020-10-25\",\"2020-10-26\",\"2020-10-27\",\"2020-10-28\",\"2020-10-29\",\"2020-10-30\",\"2020-10-31\",\"2020-11-01\",\"2020-11-02\",\"2020-11-03\",\"2020-11-04\",\"2020-11-05\",\"2020-11-06\",\"2020-11-07\",\"2020-11-08\",\"2020-11-09\",\"2020-11-10\",\"2020-11-11\",\"2020-11-12\",\"2020-11-13\",\"2020-11-14\",\"2020-11-15\",\"2020-11-16\",\"2020-11-17\",\"2020-11-18\",\"2020-11-19\",\"2020-11-20\",\"2020-11-21\",\"2020-11-22\",\"2020-11-23\",\"2020-11-24\",\"2020-11-25\",\"2020-11-26\",\"2020-11-27\",\"2020-11-28\",\"2020-11-29\",\"2020-11-30\",\"2020-12-01\",\"2020-12-02\",\"2020-12-03\",\"2020-12-04\",\"2020-12-05\",\"2020-12-06\",\"2020-12-07\",\"2020-12-08\",\"2020-12-09\",\"2020-12-10\",\"2020-12-11\",\"2020-12-12\",\"2020-12-13\",\"2020-12-14\",\"2020-12-15\",\"2020-12-16\",\"2020-12-17\",\"2020-12-18\",\"2020-12-19\",\"2020-12-20\",\"2020-12-21\",\"2020-12-22\",\"2020-12-23\",\"2020-12-24\",\"2020-12-25\",\"2020-12-26\",\"2020-12-27\",\"2020-12-28\",\"2020-12-29\",\"2020-12-30\",\"2020-12-31\",\"2021-01-01\",\"2021-01-02\",\"2021-01-03\",\"2021-01-04\",\"2021-01-05\",\"2021-01-06\",\"2021-01-07\",\"2021-01-08\",\"2021-01-09\",\"2021-01-10\",\"2021-01-11\",\"2021-01-12\",\"2021-01-13\",\"2021-01-14\",\"2021-01-15\",\"2021-01-16\",\"2021-01-17\",\"2021-01-18\",\"2021-01-19\",\"2021-01-20\",\"2021-01-21\",\"2021-01-22\",\"2021-01-23\",\"2021-01-24\",\"2021-01-25\",\"2021-01-26\",\"2021-01-27\",\"2021-01-28\",\"2021-01-29\",\"2021-01-30\",\"2021-01-31\",\"2021-02-01\",\"2021-02-02\",\"2021-02-03\",\"2021-02-04\",\"2021-02-05\",\"2021-02-06\",\"2021-02-07\",\"2021-02-08\",\"2021-02-09\",\"2021-02-10\",\"2021-02-11\",\"2021-02-12\",\"2021-02-13\",\"2021-02-14\",\"2021-02-15\",\"2021-02-16\",\"2021-02-17\",\"2021-02-18\",\"2021-02-19\",\"2021-02-20\",\"2021-02-21\",\"2021-02-22\",\"2021-02-23\",\"2021-02-24\",\"2021-02-25\",\"2021-02-26\",\"2021-02-27\",\"2021-02-28\",\"2021-03-01\",\"2021-03-02\",\"2021-03-03\",\"2021-03-04\",\"2021-03-05\",\"2021-03-06\",\"2021-03-07\",\"2021-03-08\",\"2021-03-09\",\"2021-03-10\",\"2021-03-11\",\"2021-03-12\",\"2021-03-13\",\"2021-03-14\",\"2021-03-15\",\"2021-03-16\",\"2021-03-17\",\"2021-03-18\",\"2021-03-19\",\"2021-03-20\",\"2021-03-21\",\"2021-03-22\",\"2021-03-23\",\"2021-03-24\",\"2021-03-25\",\"2021-03-26\",\"2021-03-27\",\"2021-03-28\",\"2021-03-29\",\"2021-03-30\",\"2021-03-31\",\"2021-04-01\",\"2021-04-02\",\"2021-04-03\",\"2021-04-04\",\"2021-04-05\",\"2021-04-06\",\"2021-04-07\",\"2021-04-08\",\"2021-04-09\",\"2021-04-10\",\"2021-04-11\",\"2021-04-12\",\"2021-04-13\",\"2021-04-14\",\"2021-04-15\",\"2021-04-16\",\"2021-04-17\",\"2021-04-18\",\"2021-04-19\",\"2021-04-20\",\"2021-04-21\",\"2021-04-22\",\"2021-04-23\",\"2021-04-24\",\"2021-04-25\",\"2021-04-26\",\"2021-04-27\",\"2021-04-28\",\"2021-04-29\",\"2021-04-30\",\"2021-05-01\",\"2021-05-02\",\"2021-05-03\",\"2021-05-04\",\"2021-05-05\",\"2021-05-06\",\"2021-05-07\",\"2021-05-08\",\"2021-05-09\",\"2021-05-10\",\"2021-05-11\",\"2021-05-12\",\"2021-05-13\",\"2021-05-14\",\"2021-05-15\",\"2021-05-16\",\"2021-05-17\",\"2021-05-18\",\"2021-05-19\",\"2021-05-20\",\"2021-05-21\",\"2021-05-22\",\"2021-05-23\",\"2021-05-24\",\"2021-05-25\",\"2021-05-26\",\"2021-05-27\",\"2021-05-28\",\"2021-05-29\",\"2021-05-30\",\"2021-05-31\",\"2021-06-01\",\"2021-06-02\",\"2021-06-03\",\"2021-06-04\",\"2021-06-05\",\"2021-06-06\",\"2021-06-07\",\"2021-06-08\",\"2021-06-09\",\"2021-06-10\",\"2021-06-11\",\"2021-06-12\",\"2021-06-13\",\"2021-06-14\",\"2021-06-15\",\"2021-06-16\",\"2021-06-17\",\"2021-06-18\",\"2021-06-19\",\"2021-06-20\",\"2021-06-21\",\"2021-06-22\",\"2021-06-23\",\"2021-06-24\",\"2021-06-25\",\"2021-06-26\",\"2021-06-27\",\"2021-06-28\",\"2021-06-29\",\"2021-06-30\",\"2021-07-01\",\"2021-07-02\",\"2021-07-03\",\"2021-07-04\",\"2021-07-05\",\"2021-07-06\",\"2021-07-07\",\"2021-07-08\",\"2021-07-09\",\"2021-07-10\",\"2021-07-11\",\"2021-07-12\",\"2021-07-13\",\"2021-07-14\",\"2021-07-15\",\"2021-07-16\",\"2021-07-17\",\"2021-07-18\",\"2021-07-19\",\"2021-07-20\",\"2021-07-21\",\"2021-07-22\",\"2021-07-23\",\"2021-07-24\",\"2021-07-25\",\"2021-07-26\",\"2021-07-27\",\"2021-07-28\",\"2021-07-29\",\"2021-07-30\",\"2021-07-31\",\"2021-08-01\",\"2021-08-02\",\"2021-08-03\",\"2021-08-04\",\"2021-08-05\",\"2021-08-06\",\"2021-08-07\",\"2021-08-08\",\"2021-08-09\",\"2021-08-10\",\"2021-08-11\",\"2021-08-12\",\"2021-08-13\",\"2021-08-14\",\"2021-08-15\",\"2021-08-16\",\"2021-08-17\",\"2021-08-18\",\"2021-08-19\",\"2021-08-20\",\"2021-08-21\",\"2021-08-22\",\"2021-08-23\",\"2021-08-24\",\"2021-08-25\",\"2021-08-26\",\"2021-08-27\",\"2021-08-28\",\"2021-08-29\",\"2021-08-30\",\"2021-08-31\",\"2021-09-01\",\"2021-09-02\",\"2021-09-03\",\"2021-09-04\",\"2021-09-05\",\"2021-09-06\",\"2021-09-07\",\"2021-09-08\",\"2021-09-09\",\"2021-09-10\",\"2021-09-11\",\"2021-09-12\",\"2021-09-13\",\"2021-09-14\",\"2021-09-15\",\"2021-09-16\",\"2021-09-17\",\"2021-09-18\",\"2021-09-19\",\"2021-09-20\",\"2021-09-21\",\"2021-09-22\"],\"y\":[null,null,null,null,null,null,null,null,null,null,null,null,null,null,0.5,0.8571428571428571,2.7857142857142856,1.4285714285714286,2.2142857142857144,1.0714285714285714,1.7142857142857142,1.2142857142857142,2.2142857142857144,1.0,1.2857142857142858,1.7857142857142858,2.7142857142857144,3.7142857142857144,3.4285714285714284,2.5714285714285716,1.2142857142857142,2.0714285714285716,1.8571428571428572,1.7142857142857142,1.5714285714285714,1.9285714285714286,1.7857142857142858,3.142857142857143,1.2142857142857142,1.5714285714285714,0.2857142857142857,-0.6428571428571429,-0.8571428571428571,0.07142857142857142,-0.2857142857142857,-1.2142857142857142,-2.642857142857143,0.5714285714285714,-1.2857142857142858,-1.0,-1.7857142857142858,0.7857142857142857,-0.7857142857142857,-2.357142857142857,-2.357142857142857,-2.4285714285714284,-1.4285714285714286,-2.7142857142857144,-2.7857142857142856,-1.4285714285714286,-0.21428571428571427,-1.9285714285714286,-1.7142857142857142,-1.0,-1.8571428571428572,-3.7142857142857144,-2.0,-0.7142857142857143,-0.7857142857142857,-0.35714285714285715,-1.2857142857142858,-0.2857142857142857,0.14285714285714285,-0.14285714285714285,-0.7857142857142857,-0.35714285714285715,0.35714285714285715,-0.7857142857142857,0.8571428571428571,-0.14285714285714285,0.7142857142857143,2.0714285714285716,0.21428571428571427,0.14285714285714285,0.2857142857142857,0.42857142857142855,1.7857142857142858,0.5714285714285714,0.21428571428571427,-0.7857142857142857,-0.35714285714285715,-0.07142857142857142,-0.5714285714285714,-1.0714285714285714,-0.7142857142857143,-1.7142857142857142,0.14285714285714285,-0.5714285714285714,0.21428571428571427,-0.2857142857142857,-2.5714285714285716,-1.0714285714285714,-0.42857142857142855,-0.14285714285714285,-0.35714285714285715,-0.42857142857142855,-0.7142857142857143,0.0,-0.5714285714285714,-0.42857142857142855,-0.7142857142857143,0.0,-0.7142857142857143,-0.14285714285714285,0.2857142857142857,0.0,0.35714285714285715,0.8571428571428571,0.21428571428571427,0.14285714285714285,0.42857142857142855,0.14285714285714285,0.2857142857142857,-0.42857142857142855,0.21428571428571427,-0.07142857142857142,-0.21428571428571427,-0.2857142857142857,-0.5,-0.14285714285714285,-0.5714285714285714,-0.8571428571428571,0.6428571428571429,0.0,-0.5,0.14285714285714285,0.7857142857142857,2.5,1.3571428571428572,1.9285714285714286,0.5,0.5,1.7142857142857142,0.8571428571428571,1.7142857142857142,2.0,0.8571428571428571,3.2142857142857144,3.642857142857143,3.5714285714285716,3.4285714285714284,4.0,1.7142857142857142,0.14285714285714285,2.642857142857143,3.142857142857143,2.7142857142857144,0.7857142857142857,1.7142857142857142,0.9285714285714286,3.5,2.4285714285714284,-2.642857142857143,-1.7142857142857142,0.0,-4.142857142857143,-1.4285714285714286,-1.4285714285714286,0.07142857142857142,0.35714285714285715,-0.2857142857142857,1.7142857142857142,0.7857142857142857,-0.7857142857142857,-0.9285714285714286,0.35714285714285715,2.5,-0.21428571428571427,-3.857142857142857,0.5714285714285714,-0.14285714285714285,4.785714285714286,3.2142857142857144,-1.2857142857142858,0.07142857142857142,-1.2142857142857142,-1.2142857142857142,3.142857142857143,0.8571428571428571,-2.2142857142857144,1.3571428571428572,1.3571428571428572,1.7857142857142858,0.5,4.0,-2.4285714285714284,-3.7142857142857144,-0.14285714285714285,0.14285714285714285,1.0,-1.1428571428571428,-2.0714285714285716,-0.5,1.1428571428571428,-1.6428571428571428,0.7857142857142857,-0.5,-1.0,-3.0714285714285716,-2.357142857142857,-1.5,-1.0,-4.071428571428571,-1.0714285714285714,-0.2857142857142857,-2.2142857142857144,-3.4285714285714284,-3.2857142857142856,0.5714285714285714,-0.7142857142857143,1.5,0.14285714285714285,0.6428571428571429,3.4285714285714284,2.4285714285714284,2.2857142857142856,3.5714285714285716,0.14285714285714285,0.5,4.714285714285714,2.2142857142857144,0.8571428571428571,-1.5,2.4285714285714284,-0.14285714285714285,-0.21428571428571427,1.2857142857142858,3.2857142857142856,-0.9285714285714286,-1.0,-1.1428571428571428,-0.14285714285714285,1.6428571428571428,-2.857142857142857,-0.8571428571428571,1.3571428571428572,1.3571428571428572,-4.214285714285714,-1.8571428571428572,1.0,-2.642857142857143,-5.142857142857143,-1.3571428571428572,-0.42857142857142855,-0.2857142857142857,1.2857142857142858,-1.3571428571428572,2.0,2.7857142857142856,-0.6428571428571429,-1.3571428571428572,2.5714285714285716,2.7142857142857144,0.14285714285714285,4.928571428571429,2.7142857142857144,3.857142857142857,2.9285714285714284,4.928571428571429,1.4285714285714286,6.5,0.35714285714285715,3.4285714285714284,1.8571428571428572,3.642857142857143,1.7142857142857142,0.6428571428571429,1.2857142857142858,-0.07142857142857142,0.5714285714285714,1.7857142857142858,3.0714285714285716,1.9285714285714286,2.5,-0.6428571428571429,4.714285714285714,-0.5714285714285714,10.142857142857142,6.928571428571429,3.642857142857143,7.0,11.428571428571429,5.071428571428571,0.21428571428571427,5.428571428571429,5.071428571428571,2.7142857142857144,6.857142857142857,14.357142857142858,5.857142857142857,6.071428571428571,6.928571428571429,11.5,16.214285714285715,15.785714285714286,14.428571428571429,22.857142857142858,33.142857142857146,23.5,25.285714285714285,16.857142857142858,32.214285714285715,-1.7142857142857142,7.571428571428571,10.571428571428571,6.714285714285714,13.285714285714286,14.428571428571429,17.571428571428573,9.714285714285714,21.357142857142858,19.642857142857142,11.5,8.0,36.07142857142857,25.857142857142858,43.857142857142854,51.0,38.857142857142854,29.142857142857142,22.5,18.142857142857142,13.285714285714286,6.142857142857143,-14.714285714285714,2.357142857142857,13.142857142857142,11.714285714285714,-1.5714285714285714,-14.714285714285714,-13.642857142857142,-7.642857142857143,-4.928571428571429,7.642857142857143,1.0,8.285714285714286,15.642857142857142,13.214285714285714,18.285714285714285,-11.357142857142858,-12.857142857142858,3.7142857142857144,-12.0,-13.428571428571429,6.857142857142857,4.285714285714286,6.428571428571429,-8.285714285714286,-5.857142857142857,-13.357142857142858,-12.928571428571429,2.5,14.642857142857142,5.214285714285714,7.714285714285714,-8.071428571428571,-5.785714285714286,21.142857142857142,-5.5,-14.642857142857142,-13.357142857142858,-8.428571428571429,-3.0,4.5,-4.428571428571429,-11.071428571428571,-19.071428571428573,-2.5714285714285716,2.7142857142857144,5.0,22.214285714285715,0.35714285714285715,-2.357142857142857,15.428571428571429,23.142857142857142,23.142857142857142,24.428571428571427,15.428571428571429,26.142857142857142,24.857142857142858,18.285714285714285,16.071428571428573,7.0,13.214285714285714,6.428571428571429,2.857142857142857,10.928571428571429,3.7142857142857144,-6.571428571428571,-0.6428571428571429,-2.642857142857143,-0.21428571428571427,-8.928571428571429,-0.42857142857142855,10.928571428571429,3.2142857142857144,20.928571428571427,16.0,5.0,16.142857142857142,6.0,1.6428571428571428,2.0714285714285716,10.357142857142858,0.42857142857142855,-7.928571428571429,2.4285714285714284,-9.142857142857142,-11.714285714285714,0.2857142857142857,-10.5,-5.642857142857143,-5.285714285714286,-8.285714285714286,12.714285714285714,-0.8571428571428571,15.642857142857142,2.642857142857143,16.5,33.42857142857143,11.571428571428571,8.928571428571429,16.071428571428573,23.5,13.714285714285714,2.5,18.071428571428573,10.857142857142858,2.7857142857142856,15.714285714285714,-5.571428571428571,-6.0,-7.714285714285714,-13.928571428571429,-11.0,3.0714285714285716,-13.357142857142858,-10.571428571428571,-14.214285714285714,-4.857142857142857,-11.0,-9.571428571428571,2.142857142857143,-9.642857142857142,2.2857142857142856,4.0,8.5,13.142857142857142,27.928571428571427,17.785714285714285,34.285714285714285,15.142857142857142,26.071428571428573,25.142857142857142,24.071428571428573,24.928571428571427,26.857142857142858,23.785714285714285,63.857142857142854,51.57142857142857,84.0,73.64285714285714,87.71428571428571,88.57142857142857,110.21428571428571,111.92857142857143,109.57142857142857,130.5,143.07142857142858,148.78571428571428,108.14285714285714,150.14285714285714,114.92857142857143,138.5,282.7142857142857,310.5,301.7857142857143,273.85714285714283,180.92857142857142,222.14285714285714,251.92857142857142,225.14285714285714,184.78571428571428,197.14285714285714,245.0,176.14285714285714,195.78571428571428,280.42857142857144,97.28571428571429,70.14285714285714,137.85714285714286,125.78571428571429,163.57142857142858,231.64285714285714,152.0,162.57142857142858,200.92857142857142,247.71428571428572,198.14285714285714,255.14285714285714,211.28571428571428,46.714285714285715,78.71428571428571,82.92857142857143,41.0,-16.714285714285715,73.78571428571429,-51.285714285714285,-29.5,-30.285714285714285,-4.214285714285714,-79.35714285714286,-7.857142857142857,10.214285714285714,-49.785714285714285,40.92857142857143,62.714285714285715,60.5,8.642857142857142,97.85714285714286,69.35714285714286,2.2857142857142856,22.5,-48.07142857142857,-140.42857142857142,-168.5,-221.0,-245.0,-146.92857142857142,-197.42857142857142,-202.64285714285714,-134.71428571428572,-23.357142857142858,-149.28571428571428,-152.57142857142858,-22.857142857142858,-54.42857142857143,53.92857142857143,84.64285714285714,125.5,161.92857142857142,83.85714285714286,59.142857142857146,101.42857142857143,97.42857142857143,47.357142857142854,-56.214285714285715,93.85714285714286,37.0,-83.28571428571429]},{\"marker\":{\"color\":\"red\"},\"name\":\"Acc positiva 3d\",\"opacity\":0.7,\"type\":\"bar\",\"x\":[\"2020-03-17\",\"2020-03-18\",\"2020-03-19\",\"2020-03-20\",\"2020-03-21\",\"2020-03-22\",\"2020-03-23\",\"2020-03-24\",\"2020-03-26\",\"2020-03-27\",\"2020-03-28\",\"2020-03-29\",\"2020-03-30\",\"2020-04-01\",\"2020-04-03\",\"2020-04-05\",\"2020-04-07\",\"2020-04-08\",\"2020-04-09\",\"2020-04-10\",\"2020-04-13\",\"2020-04-17\",\"2020-04-18\",\"2020-04-19\",\"2020-04-22\",\"2020-04-24\",\"2020-04-25\",\"2020-04-30\",\"2020-05-02\",\"2020-05-03\",\"2020-05-07\",\"2020-05-11\",\"2020-05-12\",\"2020-05-14\",\"2020-05-16\",\"2020-05-20\",\"2020-05-22\",\"2020-05-23\",\"2020-05-24\",\"2020-05-26\",\"2020-05-27\",\"2020-05-28\",\"2020-05-29\",\"2020-05-30\",\"2020-05-31\",\"2020-06-01\",\"2020-06-05\",\"2020-06-06\",\"2020-06-07\",\"2020-06-12\",\"2020-06-14\",\"2020-06-15\",\"2020-06-16\",\"2020-06-18\",\"2020-06-26\",\"2020-06-27\",\"2020-06-28\",\"2020-06-29\",\"2020-07-01\",\"2020-07-03\",\"2020-07-04\",\"2020-07-06\",\"2020-07-07\",\"2020-07-08\",\"2020-07-11\",\"2020-07-12\",\"2020-07-15\",\"2020-07-16\",\"2020-07-17\",\"2020-07-21\",\"2020-07-22\",\"2020-07-23\",\"2020-07-24\",\"2020-07-26\",\"2020-07-27\",\"2020-07-28\",\"2020-07-29\",\"2020-08-02\",\"2020-08-03\",\"2020-08-04\",\"2020-08-05\",\"2020-08-06\",\"2020-08-07\",\"2020-08-08\",\"2020-08-09\",\"2020-08-10\",\"2020-08-14\",\"2020-08-15\",\"2020-08-19\",\"2020-08-20\",\"2020-08-24\",\"2020-08-27\",\"2020-08-28\",\"2020-08-29\",\"2020-08-30\",\"2020-09-02\",\"2020-09-03\",\"2020-09-04\",\"2020-09-09\",\"2020-09-10\",\"2020-09-11\",\"2020-09-14\",\"2020-09-15\",\"2020-09-16\",\"2020-09-17\",\"2020-09-22\",\"2020-09-23\",\"2020-09-26\",\"2020-09-27\",\"2020-09-30\",\"2020-10-01\",\"2020-10-02\",\"2020-10-11\",\"2020-10-13\",\"2020-10-15\",\"2020-10-16\",\"2020-10-17\",\"2020-10-18\",\"2020-10-21\",\"2020-10-22\",\"2020-10-23\",\"2020-10-27\",\"2020-10-28\",\"2020-10-29\",\"2020-10-31\",\"2020-11-01\",\"2020-11-02\",\"2020-11-04\",\"2020-11-05\",\"2020-11-09\",\"2020-11-10\",\"2020-11-11\",\"2020-11-12\",\"2020-11-13\",\"2020-11-17\",\"2020-11-18\",\"2020-11-20\",\"2020-11-22\",\"2020-11-24\",\"2020-11-25\",\"2020-11-26\",\"2020-11-29\",\"2020-11-30\",\"2020-12-01\",\"2020-12-02\",\"2020-12-03\",\"2020-12-05\",\"2020-12-07\",\"2020-12-09\",\"2020-12-11\",\"2020-12-15\",\"2020-12-16\",\"2020-12-17\",\"2020-12-18\",\"2020-12-19\",\"2020-12-20\",\"2020-12-22\",\"2020-12-23\",\"2020-12-24\",\"2020-12-25\",\"2020-12-26\",\"2020-12-28\",\"2020-12-29\",\"2021-01-01\",\"2021-01-02\",\"2021-01-03\",\"2021-01-04\",\"2021-01-05\",\"2021-01-06\",\"2021-01-08\",\"2021-01-09\",\"2021-01-10\",\"2021-01-11\",\"2021-01-12\",\"2021-01-13\",\"2021-01-14\",\"2021-01-15\",\"2021-01-17\",\"2021-01-21\",\"2021-01-22\",\"2021-01-23\",\"2021-01-24\",\"2021-01-25\",\"2021-01-26\",\"2021-01-27\",\"2021-01-28\",\"2021-01-30\",\"2021-01-31\",\"2021-02-01\",\"2021-02-02\",\"2021-02-07\",\"2021-02-10\",\"2021-02-11\",\"2021-02-12\",\"2021-02-13\",\"2021-02-16\",\"2021-02-17\",\"2021-02-18\",\"2021-02-20\",\"2021-02-21\",\"2021-02-26\",\"2021-02-27\",\"2021-03-02\",\"2021-03-03\",\"2021-03-07\",\"2021-03-08\",\"2021-03-09\",\"2021-03-14\",\"2021-03-16\",\"2021-03-20\",\"2021-03-21\",\"2021-03-25\",\"2021-03-26\",\"2021-03-27\",\"2021-03-28\",\"2021-03-30\",\"2021-03-31\",\"2021-04-01\",\"2021-04-02\",\"2021-04-04\",\"2021-04-06\",\"2021-04-10\",\"2021-04-11\",\"2021-04-13\",\"2021-04-14\",\"2021-04-15\",\"2021-04-17\",\"2021-04-18\",\"2021-04-19\",\"2021-04-20\",\"2021-04-22\",\"2021-04-23\",\"2021-04-24\",\"2021-04-29\",\"2021-05-04\",\"2021-05-06\",\"2021-05-07\",\"2021-05-08\",\"2021-05-09\",\"2021-05-11\",\"2021-05-12\",\"2021-05-13\",\"2021-05-14\",\"2021-05-15\",\"2021-05-16\",\"2021-05-19\",\"2021-05-20\",\"2021-05-25\",\"2021-05-29\",\"2021-06-02\",\"2021-06-04\",\"2021-06-06\",\"2021-06-07\",\"2021-06-08\",\"2021-06-09\",\"2021-06-11\",\"2021-06-12\",\"2021-06-13\",\"2021-06-14\",\"2021-06-15\",\"2021-06-17\",\"2021-06-19\",\"2021-06-20\",\"2021-06-21\",\"2021-06-22\",\"2021-06-23\",\"2021-06-24\",\"2021-06-25\",\"2021-06-26\",\"2021-06-27\",\"2021-06-28\",\"2021-06-29\",\"2021-06-30\",\"2021-07-01\",\"2021-07-02\",\"2021-07-03\",\"2021-07-04\",\"2021-07-06\",\"2021-07-07\",\"2021-07-08\",\"2021-07-09\",\"2021-07-10\",\"2021-07-11\",\"2021-07-12\",\"2021-07-15\",\"2021-07-16\",\"2021-07-19\",\"2021-07-21\",\"2021-07-22\",\"2021-07-23\",\"2021-07-24\",\"2021-07-25\",\"2021-07-26\",\"2021-07-27\",\"2021-07-28\",\"2021-07-29\",\"2021-07-30\",\"2021-08-01\",\"2021-08-02\",\"2021-08-03\",\"2021-08-08\",\"2021-08-10\",\"2021-08-12\",\"2021-08-14\",\"2021-08-15\",\"2021-08-16\",\"2021-08-17\",\"2021-08-18\",\"2021-08-21\",\"2021-08-22\",\"2021-08-24\",\"2021-09-01\",\"2021-09-02\",\"2021-09-03\",\"2021-09-04\",\"2021-09-05\",\"2021-09-06\",\"2021-09-09\",\"2021-09-10\",\"2021-09-12\",\"2021-09-17\",\"2021-09-18\",\"2021-09-19\",\"2021-09-20\"],\"y\":[0.3333333333333333,0.6666666666666666,1.3333333333333333,1.3333333333333333,1.0,3.3333333333333335,0.0,1.0,1.6666666666666667,1.6666666666666667,10.0,3.3333333333333335,6.0,2.0,6.666666666666667,3.6666666666666665,9.0,9.666666666666666,9.333333333333334,1.0,2.6666666666666665,7.0,5.0,0.3333333333333333,1.0,0.0,0.0,4.666666666666667,14.666666666666666,1.3333333333333333,2.3333333333333335,1.6666666666666667,2.6666666666666665,1.0,5.333333333333333,1.0,0.6666666666666666,0.6666666666666666,0.6666666666666666,0.3333333333333333,0.3333333333333333,1.0,2.0,3.0,3.6666666666666665,5.333333333333333,1.6666666666666667,8.333333333333334,2.0,3.0,0.6666666666666666,0.0,2.0,0.3333333333333333,0.3333333333333333,1.3333333333333333,0.0,1.3333333333333333,1.6666666666666667,2.3333333333333335,0.3333333333333333,0.0,2.3333333333333335,0.3333333333333333,1.0,0.6666666666666666,0.0,0.0,0.0,0.6666666666666666,4.0,1.3333333333333333,0.0,4.333333333333333,11.333333333333334,4.666666666666667,5.333333333333333,1.3333333333333333,4.333333333333333,2.0,4.0,8.333333333333334,7.666666666666667,11.333333333333334,5.333333333333333,13.0,2.6666666666666665,9.333333333333334,16.666666666666668,11.666666666666666,6.0,4.0,11.0,14.666666666666666,0.3333333333333333,4.333333333333333,9.666666666666666,6.333333333333333,23.666666666666668,16.333333333333332,5.666666666666667,0.0,5.666666666666667,14.0,5.0,10.0,4.0,4.666666666666667,1.6666666666666667,7.0,15.666666666666666,0.0,3.6666666666666665,4.0,1.6666666666666667,13.0,11.333333333333334,7.666666666666667,4.333333333333333,5.0,3.6666666666666665,9.333333333333334,5.666666666666667,3.3333333333333335,12.333333333333334,3.0,0.0,20.333333333333332,1.6666666666666667,2.6666666666666665,1.3333333333333333,2.3333333333333335,2.0,3.6666666666666665,0.3333333333333333,5.0,3.3333333333333335,9.0,12.0,9.333333333333334,5.333333333333333,3.6666666666666665,5.333333333333333,11.333333333333334,5.0,8.0,9.666666666666666,15.0,18.666666666666668,3.3333333333333335,3.0,4.666666666666667,10.333333333333334,8.666666666666666,16.0,1.0,3.6666666666666665,4.333333333333333,34.0,13.666666666666666,7.333333333333333,15.333333333333334,9.666666666666666,8.666666666666666,27.666666666666668,7.666666666666667,41.0,18.333333333333332,0.6666666666666666,40.0,54.666666666666664,24.666666666666668,29.0,40.666666666666664,54.0,24.666666666666668,20.0,48.333333333333336,38.666666666666664,66.66666666666667,72.66666666666667,75.33333333333333,12.333333333333334,73.0,63.666666666666664,33.0,28.333333333333332,115.33333333333333,82.33333333333333,44.666666666666664,1.3333333333333333,12.666666666666666,65.66666666666667,81.0,10.0,16.333333333333332,6.0,69.33333333333333,37.666666666666664,38.666666666666664,13.0,7.0,92.33333333333333,98.66666666666667,17.0,32.0,97.0,45.333333333333336,51.0,28.666666666666668,35.666666666666664,32.666666666666664,19.333333333333332,71.33333333333333,34.333333333333336,19.333333333333332,44.0,104.0,23.0,49.666666666666664,0.3333333333333333,26.333333333333332,15.0,6.666666666666667,0.0,50.0,22.333333333333332,11.0,6.666666666666667,52.333333333333336,49.0,19.333333333333332,34.666666666666664,70.33333333333333,34.666666666666664,42.666666666666664,47.666666666666664,8.666666666666666,3.0,11.666666666666666,46.0,23.333333333333332,68.66666666666667,58.666666666666664,15.666666666666666,35.333333333333336,65.0,0.6666666666666666,19.666666666666668,37.333333333333336,24.0,11.333333333333334,18.666666666666668,7.0,24.666666666666668,44.0,70.33333333333333,104.0,20.333333333333332,55.0,23.0,23.0,6.0,26.666666666666668,5.666666666666667,206.33333333333334,106.33333333333333,325.0,116.0,272.6666666666667,41.666666666666664,225.66666666666666,90.66666666666667,121.0,76.0,168.33333333333334,189.0,38.666666666666664,48.333333333333336,248.0,943.6666666666666,1028.6666666666667,1034.6666666666667,0.3333333333333333,18.666666666666668,282.3333333333333,15.0,42.0,413.3333333333333,575.6666666666666,442.3333333333333,369.3333333333333,133.33333333333334,57.0,156.66666666666666,141.0,277.6666666666667,380.0,181.0,251.33333333333334,342.6666666666667,14.333333333333334,81.33333333333333,70.33333333333333,147.33333333333334,285.6666666666667,318.6666666666667,10.0,358.0,192.0,55.666666666666664,110.66666666666667,44.333333333333336,195.0,415.0,1004.3333333333334,101.0,172.33333333333334,207.66666666666666,95.66666666666667,258.3333333333333,360.0,268.6666666666667,84.33333333333333]},{\"marker\":{\"color\":\"green\"},\"name\":\"Acc negativa 3d\",\"opacity\":0.7,\"type\":\"bar\",\"x\":[\"2020-03-15\",\"2020-03-16\",\"2020-03-25\",\"2020-03-31\",\"2020-04-02\",\"2020-04-04\",\"2020-04-06\",\"2020-04-11\",\"2020-04-12\",\"2020-04-14\",\"2020-04-15\",\"2020-04-16\",\"2020-04-20\",\"2020-04-21\",\"2020-04-23\",\"2020-04-26\",\"2020-04-27\",\"2020-04-28\",\"2020-04-29\",\"2020-05-01\",\"2020-05-04\",\"2020-05-05\",\"2020-05-06\",\"2020-05-08\",\"2020-05-09\",\"2020-05-10\",\"2020-05-13\",\"2020-05-15\",\"2020-05-17\",\"2020-05-18\",\"2020-05-19\",\"2020-05-21\",\"2020-05-25\",\"2020-06-02\",\"2020-06-03\",\"2020-06-04\",\"2020-06-08\",\"2020-06-09\",\"2020-06-10\",\"2020-06-11\",\"2020-06-13\",\"2020-06-17\",\"2020-06-19\",\"2020-06-20\",\"2020-06-21\",\"2020-06-22\",\"2020-06-23\",\"2020-06-24\",\"2020-06-25\",\"2020-06-30\",\"2020-07-02\",\"2020-07-05\",\"2020-07-09\",\"2020-07-10\",\"2020-07-13\",\"2020-07-14\",\"2020-07-18\",\"2020-07-19\",\"2020-07-20\",\"2020-07-25\",\"2020-07-30\",\"2020-07-31\",\"2020-08-01\",\"2020-08-11\",\"2020-08-12\",\"2020-08-13\",\"2020-08-16\",\"2020-08-17\",\"2020-08-18\",\"2020-08-21\",\"2020-08-22\",\"2020-08-23\",\"2020-08-25\",\"2020-08-26\",\"2020-08-31\",\"2020-09-01\",\"2020-09-05\",\"2020-09-06\",\"2020-09-07\",\"2020-09-08\",\"2020-09-12\",\"2020-09-13\",\"2020-09-18\",\"2020-09-19\",\"2020-09-20\",\"2020-09-21\",\"2020-09-24\",\"2020-09-25\",\"2020-09-28\",\"2020-09-29\",\"2020-10-03\",\"2020-10-04\",\"2020-10-05\",\"2020-10-06\",\"2020-10-07\",\"2020-10-08\",\"2020-10-09\",\"2020-10-10\",\"2020-10-12\",\"2020-10-14\",\"2020-10-19\",\"2020-10-20\",\"2020-10-24\",\"2020-10-25\",\"2020-10-26\",\"2020-10-30\",\"2020-11-03\",\"2020-11-06\",\"2020-11-07\",\"2020-11-08\",\"2020-11-14\",\"2020-11-15\",\"2020-11-16\",\"2020-11-19\",\"2020-11-21\",\"2020-11-23\",\"2020-11-27\",\"2020-11-28\",\"2020-12-04\",\"2020-12-06\",\"2020-12-08\",\"2020-12-10\",\"2020-12-12\",\"2020-12-13\",\"2020-12-14\",\"2020-12-21\",\"2020-12-27\",\"2020-12-30\",\"2020-12-31\",\"2021-01-07\",\"2021-01-16\",\"2021-01-18\",\"2021-01-19\",\"2021-01-20\",\"2021-01-29\",\"2021-02-03\",\"2021-02-04\",\"2021-02-05\",\"2021-02-06\",\"2021-02-08\",\"2021-02-09\",\"2021-02-14\",\"2021-02-15\",\"2021-02-19\",\"2021-02-22\",\"2021-02-23\",\"2021-02-24\",\"2021-02-25\",\"2021-02-28\",\"2021-03-01\",\"2021-03-04\",\"2021-03-05\",\"2021-03-06\",\"2021-03-10\",\"2021-03-11\",\"2021-03-12\",\"2021-03-13\",\"2021-03-15\",\"2021-03-17\",\"2021-03-18\",\"2021-03-19\",\"2021-03-22\",\"2021-03-23\",\"2021-03-24\",\"2021-03-29\",\"2021-04-03\",\"2021-04-05\",\"2021-04-07\",\"2021-04-08\",\"2021-04-09\",\"2021-04-12\",\"2021-04-16\",\"2021-04-21\",\"2021-04-25\",\"2021-04-26\",\"2021-04-27\",\"2021-04-28\",\"2021-04-30\",\"2021-05-01\",\"2021-05-02\",\"2021-05-03\",\"2021-05-05\",\"2021-05-10\",\"2021-05-17\",\"2021-05-18\",\"2021-05-21\",\"2021-05-22\",\"2021-05-23\",\"2021-05-24\",\"2021-05-26\",\"2021-05-27\",\"2021-05-28\",\"2021-05-30\",\"2021-05-31\",\"2021-06-01\",\"2021-06-03\",\"2021-06-05\",\"2021-06-10\",\"2021-06-16\",\"2021-06-18\",\"2021-07-05\",\"2021-07-13\",\"2021-07-14\",\"2021-07-17\",\"2021-07-18\",\"2021-07-20\",\"2021-07-31\",\"2021-08-04\",\"2021-08-05\",\"2021-08-06\",\"2021-08-07\",\"2021-08-09\",\"2021-08-11\",\"2021-08-13\",\"2021-08-19\",\"2021-08-20\",\"2021-08-23\",\"2021-08-25\",\"2021-08-26\",\"2021-08-27\",\"2021-08-28\",\"2021-08-29\",\"2021-08-30\",\"2021-08-31\",\"2021-09-07\",\"2021-09-08\",\"2021-09-11\",\"2021-09-13\",\"2021-09-14\",\"2021-09-15\",\"2021-09-16\",\"2021-09-21\",\"2021-09-22\"],\"y\":[-1.0,-0.3333333333333333,-1.6666666666666667,-7.666666666666667,-3.3333333333333335,-2.3333333333333335,-2.0,-1.6666666666666667,-3.0,-5.333333333333333,-0.3333333333333333,-3.0,-3.0,-4.333333333333333,-2.0,-4.666666666666667,-10.0,-1.3333333333333333,-0.6666666666666666,-4.0,-5.666666666666667,-19.0,-6.666666666666667,-1.6666666666666667,-1.6666666666666667,-4.666666666666667,-2.0,-3.6666666666666665,-3.3333333333333335,-0.3333333333333333,-5.333333333333333,-0.3333333333333333,-0.6666666666666666,-3.6666666666666665,-1.6666666666666667,-8.666666666666666,-1.6666666666666667,-11.666666666666666,-4.0,-0.3333333333333333,-0.3333333333333333,-1.0,-0.3333333333333333,-1.0,-4.0,-2.3333333333333335,-0.3333333333333333,-0.6666666666666666,-0.3333333333333333,-1.3333333333333333,-1.0,-0.6666666666666666,-1.3333333333333333,-1.6666666666666667,-2.6666666666666665,-1.0,-1.6666666666666667,-0.3333333333333333,-1.3333333333333333,-1.3333333333333333,-9.333333333333334,-4.0,-2.6666666666666665,-4.0,-10.0,-15.666666666666666,-7.333333333333333,-2.3333333333333335,-6.333333333333333,-9.0,-13.0,-6.0,-2.6666666666666665,-16.666666666666668,-0.3333333333333333,-8.666666666666666,-9.666666666666666,-25.666666666666668,-3.0,-2.3333333333333335,-7.333333333333333,-20.333333333333332,-2.0,-7.333333333333333,-7.0,-7.0,-3.3333333333333335,-13.666666666666666,-4.666666666666667,-4.666666666666667,-1.3333333333333333,-14.666666666666666,-4.0,-8.0,-4.666666666666667,-5.666666666666667,-4.0,-3.3333333333333335,-1.3333333333333333,-4.0,-6.0,-1.6666666666666667,-2.6666666666666665,-7.0,-9.666666666666666,-16.0,-7.0,-7.0,-23.333333333333332,-3.3333333333333335,-3.3333333333333335,-12.0,-1.6666666666666667,-9.333333333333334,-0.6666666666666666,-1.6666666666666667,-12.0,-4.333333333333333,-6.0,-2.3333333333333335,-9.333333333333334,-16.333333333333332,-12.333333333333334,-2.0,-5.666666666666667,-2.3333333333333335,-16.666666666666668,-27.0,-17.666666666666668,-0.6666666666666666,-48.333333333333336,-85.0,-25.0,-100.33333333333333,-42.333333333333336,-39.666666666666664,-30.0,-66.33333333333333,-24.0,-64.0,-80.33333333333333,-14.666666666666666,-36.0,-26.0,-7.0,-33.666666666666664,-113.33333333333333,-56.0,-17.333333333333332,-21.333333333333332,-1.3333333333333333,-73.33333333333333,-54.666666666666664,-28.666666666666668,-31.666666666666668,-93.0,-44.333333333333336,-9.333333333333334,-62.333333333333336,-15.0,-19.0,-5.666666666666667,-13.0,-20.0,-43.666666666666664,-7.333333333333333,-3.6666666666666665,-67.0,-50.666666666666664,-4.333333333333333,-54.333333333333336,-6.666666666666667,-10.333333333333334,-7.333333333333333,-101.0,-9.0,-65.66666666666667,-12.333333333333334,-24.333333333333332,-26.0,-38.0,-20.333333333333332,-15.333333333333334,-73.33333333333333,-46.333333333333336,-15.666666666666666,-16.666666666666668,-10.333333333333334,-14.0,-30.666666666666668,-17.666666666666668,-40.666666666666664,-7.666666666666667,-23.0,-43.666666666666664,-15.666666666666666,-18.666666666666668,-9.0,-22.333333333333332,-18.666666666666668,-77.66666666666667,-379.0,-281.0,-6.0,-66.66666666666667,-1.6666666666666667,-149.33333333333334,-128.0,-293.3333333333333,-247.66666666666666,-156.66666666666666,-312.0,-274.0,-208.0,-65.66666666666667,-2.6666666666666665,-148.0,-303.6666666666667,-270.3333333333333,-756.0,-595.6666666666666,-744.0,-521.3333333333334,-169.33333333333334,-27.666666666666668,-301.3333333333333,-94.0,-17.333333333333332,-173.0,-199.0,-238.0,-76.0,-427.6666666666667]}],                        {\"template\":{\"data\":{\"bar\":[{\"error_x\":{\"color\":\"#2a3f5f\"},\"error_y\":{\"color\":\"#2a3f5f\"},\"marker\":{\"line\":{\"color\":\"#E5ECF6\",\"width\":0.5},\"pattern\":{\"fillmode\":\"overlay\",\"size\":10,\"solidity\":0.2}},\"type\":\"bar\"}],\"barpolar\":[{\"marker\":{\"line\":{\"color\":\"#E5ECF6\",\"width\":0.5},\"pattern\":{\"fillmode\":\"overlay\",\"size\":10,\"solidity\":0.2}},\"type\":\"barpolar\"}],\"carpet\":[{\"aaxis\":{\"endlinecolor\":\"#2a3f5f\",\"gridcolor\":\"white\",\"linecolor\":\"white\",\"minorgridcolor\":\"white\",\"startlinecolor\":\"#2a3f5f\"},\"baxis\":{\"endlinecolor\":\"#2a3f5f\",\"gridcolor\":\"white\",\"linecolor\":\"white\",\"minorgridcolor\":\"white\",\"startlinecolor\":\"#2a3f5f\"},\"type\":\"carpet\"}],\"choropleth\":[{\"colorbar\":{\"outlinewidth\":0,\"ticks\":\"\"},\"type\":\"choropleth\"}],\"contour\":[{\"colorbar\":{\"outlinewidth\":0,\"ticks\":\"\"},\"colorscale\":[[0.0,\"#0d0887\"],[0.1111111111111111,\"#46039f\"],[0.2222222222222222,\"#7201a8\"],[0.3333333333333333,\"#9c179e\"],[0.4444444444444444,\"#bd3786\"],[0.5555555555555556,\"#d8576b\"],[0.6666666666666666,\"#ed7953\"],[0.7777777777777778,\"#fb9f3a\"],[0.8888888888888888,\"#fdca26\"],[1.0,\"#f0f921\"]],\"type\":\"contour\"}],\"contourcarpet\":[{\"colorbar\":{\"outlinewidth\":0,\"ticks\":\"\"},\"type\":\"contourcarpet\"}],\"heatmap\":[{\"colorbar\":{\"outlinewidth\":0,\"ticks\":\"\"},\"colorscale\":[[0.0,\"#0d0887\"],[0.1111111111111111,\"#46039f\"],[0.2222222222222222,\"#7201a8\"],[0.3333333333333333,\"#9c179e\"],[0.4444444444444444,\"#bd3786\"],[0.5555555555555556,\"#d8576b\"],[0.6666666666666666,\"#ed7953\"],[0.7777777777777778,\"#fb9f3a\"],[0.8888888888888888,\"#fdca26\"],[1.0,\"#f0f921\"]],\"type\":\"heatmap\"}],\"heatmapgl\":[{\"colorbar\":{\"outlinewidth\":0,\"ticks\":\"\"},\"colorscale\":[[0.0,\"#0d0887\"],[0.1111111111111111,\"#46039f\"],[0.2222222222222222,\"#7201a8\"],[0.3333333333333333,\"#9c179e\"],[0.4444444444444444,\"#bd3786\"],[0.5555555555555556,\"#d8576b\"],[0.6666666666666666,\"#ed7953\"],[0.7777777777777778,\"#fb9f3a\"],[0.8888888888888888,\"#fdca26\"],[1.0,\"#f0f921\"]],\"type\":\"heatmapgl\"}],\"histogram\":[{\"marker\":{\"pattern\":{\"fillmode\":\"overlay\",\"size\":10,\"solidity\":0.2}},\"type\":\"histogram\"}],\"histogram2d\":[{\"colorbar\":{\"outlinewidth\":0,\"ticks\":\"\"},\"colorscale\":[[0.0,\"#0d0887\"],[0.1111111111111111,\"#46039f\"],[0.2222222222222222,\"#7201a8\"],[0.3333333333333333,\"#9c179e\"],[0.4444444444444444,\"#bd3786\"],[0.5555555555555556,\"#d8576b\"],[0.6666666666666666,\"#ed7953\"],[0.7777777777777778,\"#fb9f3a\"],[0.8888888888888888,\"#fdca26\"],[1.0,\"#f0f921\"]],\"type\":\"histogram2d\"}],\"histogram2dcontour\":[{\"colorbar\":{\"outlinewidth\":0,\"ticks\":\"\"},\"colorscale\":[[0.0,\"#0d0887\"],[0.1111111111111111,\"#46039f\"],[0.2222222222222222,\"#7201a8\"],[0.3333333333333333,\"#9c179e\"],[0.4444444444444444,\"#bd3786\"],[0.5555555555555556,\"#d8576b\"],[0.6666666666666666,\"#ed7953\"],[0.7777777777777778,\"#fb9f3a\"],[0.8888888888888888,\"#fdca26\"],[1.0,\"#f0f921\"]],\"type\":\"histogram2dcontour\"}],\"mesh3d\":[{\"colorbar\":{\"outlinewidth\":0,\"ticks\":\"\"},\"type\":\"mesh3d\"}],\"parcoords\":[{\"line\":{\"colorbar\":{\"outlinewidth\":0,\"ticks\":\"\"}},\"type\":\"parcoords\"}],\"pie\":[{\"automargin\":true,\"type\":\"pie\"}],\"scatter\":[{\"marker\":{\"colorbar\":{\"outlinewidth\":0,\"ticks\":\"\"}},\"type\":\"scatter\"}],\"scatter3d\":[{\"line\":{\"colorbar\":{\"outlinewidth\":0,\"ticks\":\"\"}},\"marker\":{\"colorbar\":{\"outlinewidth\":0,\"ticks\":\"\"}},\"type\":\"scatter3d\"}],\"scattercarpet\":[{\"marker\":{\"colorbar\":{\"outlinewidth\":0,\"ticks\":\"\"}},\"type\":\"scattercarpet\"}],\"scattergeo\":[{\"marker\":{\"colorbar\":{\"outlinewidth\":0,\"ticks\":\"\"}},\"type\":\"scattergeo\"}],\"scattergl\":[{\"marker\":{\"colorbar\":{\"outlinewidth\":0,\"ticks\":\"\"}},\"type\":\"scattergl\"}],\"scattermapbox\":[{\"marker\":{\"colorbar\":{\"outlinewidth\":0,\"ticks\":\"\"}},\"type\":\"scattermapbox\"}],\"scatterpolar\":[{\"marker\":{\"colorbar\":{\"outlinewidth\":0,\"ticks\":\"\"}},\"type\":\"scatterpolar\"}],\"scatterpolargl\":[{\"marker\":{\"colorbar\":{\"outlinewidth\":0,\"ticks\":\"\"}},\"type\":\"scatterpolargl\"}],\"scatterternary\":[{\"marker\":{\"colorbar\":{\"outlinewidth\":0,\"ticks\":\"\"}},\"type\":\"scatterternary\"}],\"surface\":[{\"colorbar\":{\"outlinewidth\":0,\"ticks\":\"\"},\"colorscale\":[[0.0,\"#0d0887\"],[0.1111111111111111,\"#46039f\"],[0.2222222222222222,\"#7201a8\"],[0.3333333333333333,\"#9c179e\"],[0.4444444444444444,\"#bd3786\"],[0.5555555555555556,\"#d8576b\"],[0.6666666666666666,\"#ed7953\"],[0.7777777777777778,\"#fb9f3a\"],[0.8888888888888888,\"#fdca26\"],[1.0,\"#f0f921\"]],\"type\":\"surface\"}],\"table\":[{\"cells\":{\"fill\":{\"color\":\"#EBF0F8\"},\"line\":{\"color\":\"white\"}},\"header\":{\"fill\":{\"color\":\"#C8D4E3\"},\"line\":{\"color\":\"white\"}},\"type\":\"table\"}]},\"layout\":{\"annotationdefaults\":{\"arrowcolor\":\"#2a3f5f\",\"arrowhead\":0,\"arrowwidth\":1},\"autotypenumbers\":\"strict\",\"coloraxis\":{\"colorbar\":{\"outlinewidth\":0,\"ticks\":\"\"}},\"colorscale\":{\"diverging\":[[0,\"#8e0152\"],[0.1,\"#c51b7d\"],[0.2,\"#de77ae\"],[0.3,\"#f1b6da\"],[0.4,\"#fde0ef\"],[0.5,\"#f7f7f7\"],[0.6,\"#e6f5d0\"],[0.7,\"#b8e186\"],[0.8,\"#7fbc41\"],[0.9,\"#4d9221\"],[1,\"#276419\"]],\"sequential\":[[0.0,\"#0d0887\"],[0.1111111111111111,\"#46039f\"],[0.2222222222222222,\"#7201a8\"],[0.3333333333333333,\"#9c179e\"],[0.4444444444444444,\"#bd3786\"],[0.5555555555555556,\"#d8576b\"],[0.6666666666666666,\"#ed7953\"],[0.7777777777777778,\"#fb9f3a\"],[0.8888888888888888,\"#fdca26\"],[1.0,\"#f0f921\"]],\"sequentialminus\":[[0.0,\"#0d0887\"],[0.1111111111111111,\"#46039f\"],[0.2222222222222222,\"#7201a8\"],[0.3333333333333333,\"#9c179e\"],[0.4444444444444444,\"#bd3786\"],[0.5555555555555556,\"#d8576b\"],[0.6666666666666666,\"#ed7953\"],[0.7777777777777778,\"#fb9f3a\"],[0.8888888888888888,\"#fdca26\"],[1.0,\"#f0f921\"]]},\"colorway\":[\"#636efa\",\"#EF553B\",\"#00cc96\",\"#ab63fa\",\"#FFA15A\",\"#19d3f3\",\"#FF6692\",\"#B6E880\",\"#FF97FF\",\"#FECB52\"],\"font\":{\"color\":\"#2a3f5f\"},\"geo\":{\"bgcolor\":\"white\",\"lakecolor\":\"white\",\"landcolor\":\"#E5ECF6\",\"showlakes\":true,\"showland\":true,\"subunitcolor\":\"white\"},\"hoverlabel\":{\"align\":\"left\"},\"hovermode\":\"closest\",\"mapbox\":{\"style\":\"light\"},\"paper_bgcolor\":\"white\",\"plot_bgcolor\":\"#E5ECF6\",\"polar\":{\"angularaxis\":{\"gridcolor\":\"white\",\"linecolor\":\"white\",\"ticks\":\"\"},\"bgcolor\":\"#E5ECF6\",\"radialaxis\":{\"gridcolor\":\"white\",\"linecolor\":\"white\",\"ticks\":\"\"}},\"scene\":{\"xaxis\":{\"backgroundcolor\":\"#E5ECF6\",\"gridcolor\":\"white\",\"gridwidth\":2,\"linecolor\":\"white\",\"showbackground\":true,\"ticks\":\"\",\"zerolinecolor\":\"white\"},\"yaxis\":{\"backgroundcolor\":\"#E5ECF6\",\"gridcolor\":\"white\",\"gridwidth\":2,\"linecolor\":\"white\",\"showbackground\":true,\"ticks\":\"\",\"zerolinecolor\":\"white\"},\"zaxis\":{\"backgroundcolor\":\"#E5ECF6\",\"gridcolor\":\"white\",\"gridwidth\":2,\"linecolor\":\"white\",\"showbackground\":true,\"ticks\":\"\",\"zerolinecolor\":\"white\"}},\"shapedefaults\":{\"line\":{\"color\":\"#2a3f5f\"}},\"ternary\":{\"aaxis\":{\"gridcolor\":\"white\",\"linecolor\":\"white\",\"ticks\":\"\"},\"baxis\":{\"gridcolor\":\"white\",\"linecolor\":\"white\",\"ticks\":\"\"},\"bgcolor\":\"#E5ECF6\",\"caxis\":{\"gridcolor\":\"white\",\"linecolor\":\"white\",\"ticks\":\"\"}},\"title\":{\"x\":0.05},\"xaxis\":{\"automargin\":true,\"gridcolor\":\"white\",\"linecolor\":\"white\",\"ticks\":\"\",\"title\":{\"standoff\":15},\"zerolinecolor\":\"white\",\"zerolinewidth\":2},\"yaxis\":{\"automargin\":true,\"gridcolor\":\"white\",\"linecolor\":\"white\",\"ticks\":\"\",\"title\":{\"standoff\":15},\"zerolinecolor\":\"white\",\"zerolinewidth\":2}}},\"title\":{\"text\":\"Aceleraci\\u00f3n de casos - promedio m\\u00f3vil 14 d\\u00edas (l\\u00ednea) - 3 d\\u00edas (barras) - Cuba\"}},                        {\"responsive\": true}                    ).then(function(){\n                            \nvar gd = document.getElementById('634a90ab-d6fc-42c5-83eb-28d2437f1d04');\nvar x = new MutationObserver(function (mutations, observer) {{\n        var display = window.getComputedStyle(gd).display;\n        if (!display || display === 'none') {{\n            console.log([gd, 'removed!']);\n            Plotly.purge(gd);\n            observer.disconnect();\n        }}\n}});\n\n// Listen for the removal of the full notebook cells\nvar notebookContainer = gd.closest('#notebook-container');\nif (notebookContainer) {{\n    x.observe(notebookContainer, {childList: true});\n}}\n\n// Listen for the clearing of the current output cell\nvar outputEl = gd.closest('.output');\nif (outputEl) {{\n    x.observe(outputEl, {childList: true});\n}}\n\n                        })                };                            </script>        </div>\n</body>\n</html>"
     },
     "metadata": {},
     "output_type": "display_data"
    }
   ],
   "execution_count": null
  },
  {
   "cell_type": "code",
   "source": "#bars = 'accelMeans7'\nbars = 'accelMeans3'\n#bars = 'acc'\n#bars = 'vel'\n\npos = cuba[cuba[bars] >= 0]\nneg = cuba[cuba[bars] < 0]\n\n#fig = go.Figure()\n\nfrom plotly.subplots import make_subplots\nfig = make_subplots(specs=[[{\"secondary_y\": True}]])\n\n### Traces\n# Line\nfig.add_trace(go.Scatter(\n    x = cuba['Date'],\n    y = cuba['accelMeans14'],\n    name = 'Aceleración 14d',\n    line = dict(\n        color = ('blue'), #lambda x:  'red' if x < 0 else 'green'\n        width = 1),\n), secondary_y=False)\nfig.add_trace(go.Bar(\n    x=pos['Date'], \n    y=pos[bars], \n    name='Acc positiva 3d', # Positive velocity\n    marker = dict(color = 'red'), \n    opacity=0.5\n), secondary_y=True)\nfig.add_trace(go.Bar(\n    x=neg['Date'], \n    y=neg[bars], \n    name='Acc negativa 3d', # Negative velocity\n    marker = dict(color = 'green'), \n    opacity=0.7, yaxis = 'y2'\n), secondary_y=True)\n\n### Layout\nlayout = {\n            'title': 'Aceleración de casos - promedio móvil 14 días (línea) - 3 días (barras) - Cuba',\n            #\"width\" : 800,\n            #\"height\" : 600,\n            'yaxis': {\n                    'zerolinecolor': '#969696',\n                    'zerolinewidth': 2,\n                    'rangemode': 'tozero'\n            },\n            'yaxis2': {\n                    'overlaying': 'y',\n                    'side': 'right',\n                    'rangemode': 'tozero'\n             },\n            'yaxis3': {\n                    'overlaying': 'y',\n                    'side': 'right',\n                    'rangemode': 'tozero'\n\n             }\n}\nfig.update_yaxes(secondary_y=False,\n                 tickfont_color=\"MediumSlateBlue\", title=\"Promedio 14d - Línea\")\nfig.update_yaxes(secondary_y=True,\n                 tickfont_color=\"DarkOrange\", title=\"Promedio 3d - Barras\")\nfig.update_layout(layout)\nfig.show()",
   "metadata": {
    "tags": [],
    "cell_id": "00013-36857c1c-7952-49fb-8df4-204ee539d68d",
    "deepnote_to_be_reexecuted": false,
    "source_hash": "c7645ea7",
    "execution_start": 1632425425114,
    "execution_millis": 51,
    "deepnote_cell_type": "code"
   },
   "outputs": [
    {
     "data": {
      "text/html": "<html>\n<head><meta charset=\"utf-8\" /></head>\n<body>\n    <div>            <script src=\"https://cdnjs.cloudflare.com/ajax/libs/mathjax/2.7.5/MathJax.js?config=TeX-AMS-MML_SVG\"></script><script type=\"text/javascript\">if (window.MathJax) {MathJax.Hub.Config({SVG: {font: \"STIX-Web\"}});}</script>                <script type=\"text/javascript\">window.PlotlyConfig = {MathJaxConfig: 'local'};</script>\n        <script src=\"https://cdn.plot.ly/plotly-2.4.2.min.js\"></script>                <div id=\"3799413b-42aa-402f-b527-041b19342f42\" class=\"plotly-graph-div\" style=\"height:525px; width:100%;\"></div>            <script type=\"text/javascript\">                                    window.PLOTLYENV=window.PLOTLYENV || {};                                    if (document.getElementById(\"3799413b-42aa-402f-b527-041b19342f42\")) {                    Plotly.newPlot(                        \"3799413b-42aa-402f-b527-041b19342f42\",                        [{\"line\":{\"color\":\"blue\",\"width\":1},\"name\":\"Aceleraci\\u00f3n 14d\",\"type\":\"scatter\",\"x\":[\"2020-03-12\",\"2020-03-13\",\"2020-03-14\",\"2020-03-15\",\"2020-03-16\",\"2020-03-17\",\"2020-03-18\",\"2020-03-19\",\"2020-03-20\",\"2020-03-21\",\"2020-03-22\",\"2020-03-23\",\"2020-03-24\",\"2020-03-25\",\"2020-03-26\",\"2020-03-27\",\"2020-03-28\",\"2020-03-29\",\"2020-03-30\",\"2020-03-31\",\"2020-04-01\",\"2020-04-02\",\"2020-04-03\",\"2020-04-04\",\"2020-04-05\",\"2020-04-06\",\"2020-04-07\",\"2020-04-08\",\"2020-04-09\",\"2020-04-10\",\"2020-04-11\",\"2020-04-12\",\"2020-04-13\",\"2020-04-14\",\"2020-04-15\",\"2020-04-16\",\"2020-04-17\",\"2020-04-18\",\"2020-04-19\",\"2020-04-20\",\"2020-04-21\",\"2020-04-22\",\"2020-04-23\",\"2020-04-24\",\"2020-04-25\",\"2020-04-26\",\"2020-04-27\",\"2020-04-28\",\"2020-04-29\",\"2020-04-30\",\"2020-05-01\",\"2020-05-02\",\"2020-05-03\",\"2020-05-04\",\"2020-05-05\",\"2020-05-06\",\"2020-05-07\",\"2020-05-08\",\"2020-05-09\",\"2020-05-10\",\"2020-05-11\",\"2020-05-12\",\"2020-05-13\",\"2020-05-14\",\"2020-05-15\",\"2020-05-16\",\"2020-05-17\",\"2020-05-18\",\"2020-05-19\",\"2020-05-20\",\"2020-05-21\",\"2020-05-22\",\"2020-05-23\",\"2020-05-24\",\"2020-05-25\",\"2020-05-26\",\"2020-05-27\",\"2020-05-28\",\"2020-05-29\",\"2020-05-30\",\"2020-05-31\",\"2020-06-01\",\"2020-06-02\",\"2020-06-03\",\"2020-06-04\",\"2020-06-05\",\"2020-06-06\",\"2020-06-07\",\"2020-06-08\",\"2020-06-09\",\"2020-06-10\",\"2020-06-11\",\"2020-06-12\",\"2020-06-13\",\"2020-06-14\",\"2020-06-15\",\"2020-06-16\",\"2020-06-17\",\"2020-06-18\",\"2020-06-19\",\"2020-06-20\",\"2020-06-21\",\"2020-06-22\",\"2020-06-23\",\"2020-06-24\",\"2020-06-25\",\"2020-06-26\",\"2020-06-27\",\"2020-06-28\",\"2020-06-29\",\"2020-06-30\",\"2020-07-01\",\"2020-07-02\",\"2020-07-03\",\"2020-07-04\",\"2020-07-05\",\"2020-07-06\",\"2020-07-07\",\"2020-07-08\",\"2020-07-09\",\"2020-07-10\",\"2020-07-11\",\"2020-07-12\",\"2020-07-13\",\"2020-07-14\",\"2020-07-15\",\"2020-07-16\",\"2020-07-17\",\"2020-07-18\",\"2020-07-19\",\"2020-07-20\",\"2020-07-21\",\"2020-07-22\",\"2020-07-23\",\"2020-07-24\",\"2020-07-25\",\"2020-07-26\",\"2020-07-27\",\"2020-07-28\",\"2020-07-29\",\"2020-07-30\",\"2020-07-31\",\"2020-08-01\",\"2020-08-02\",\"2020-08-03\",\"2020-08-04\",\"2020-08-05\",\"2020-08-06\",\"2020-08-07\",\"2020-08-08\",\"2020-08-09\",\"2020-08-10\",\"2020-08-11\",\"2020-08-12\",\"2020-08-13\",\"2020-08-14\",\"2020-08-15\",\"2020-08-16\",\"2020-08-17\",\"2020-08-18\",\"2020-08-19\",\"2020-08-20\",\"2020-08-21\",\"2020-08-22\",\"2020-08-23\",\"2020-08-24\",\"2020-08-25\",\"2020-08-26\",\"2020-08-27\",\"2020-08-28\",\"2020-08-29\",\"2020-08-30\",\"2020-08-31\",\"2020-09-01\",\"2020-09-02\",\"2020-09-03\",\"2020-09-04\",\"2020-09-05\",\"2020-09-06\",\"2020-09-07\",\"2020-09-08\",\"2020-09-09\",\"2020-09-10\",\"2020-09-11\",\"2020-09-12\",\"2020-09-13\",\"2020-09-14\",\"2020-09-15\",\"2020-09-16\",\"2020-09-17\",\"2020-09-18\",\"2020-09-19\",\"2020-09-20\",\"2020-09-21\",\"2020-09-22\",\"2020-09-23\",\"2020-09-24\",\"2020-09-25\",\"2020-09-26\",\"2020-09-27\",\"2020-09-28\",\"2020-09-29\",\"2020-09-30\",\"2020-10-01\",\"2020-10-02\",\"2020-10-03\",\"2020-10-04\",\"2020-10-05\",\"2020-10-06\",\"2020-10-07\",\"2020-10-08\",\"2020-10-09\",\"2020-10-10\",\"2020-10-11\",\"2020-10-12\",\"2020-10-13\",\"2020-10-14\",\"2020-10-15\",\"2020-10-16\",\"2020-10-17\",\"2020-10-18\",\"2020-10-19\",\"2020-10-20\",\"2020-10-21\",\"2020-10-22\",\"2020-10-23\",\"2020-10-24\",\"2020-10-25\",\"2020-10-26\",\"2020-10-27\",\"2020-10-28\",\"2020-10-29\",\"2020-10-30\",\"2020-10-31\",\"2020-11-01\",\"2020-11-02\",\"2020-11-03\",\"2020-11-04\",\"2020-11-05\",\"2020-11-06\",\"2020-11-07\",\"2020-11-08\",\"2020-11-09\",\"2020-11-10\",\"2020-11-11\",\"2020-11-12\",\"2020-11-13\",\"2020-11-14\",\"2020-11-15\",\"2020-11-16\",\"2020-11-17\",\"2020-11-18\",\"2020-11-19\",\"2020-11-20\",\"2020-11-21\",\"2020-11-22\",\"2020-11-23\",\"2020-11-24\",\"2020-11-25\",\"2020-11-26\",\"2020-11-27\",\"2020-11-28\",\"2020-11-29\",\"2020-11-30\",\"2020-12-01\",\"2020-12-02\",\"2020-12-03\",\"2020-12-04\",\"2020-12-05\",\"2020-12-06\",\"2020-12-07\",\"2020-12-08\",\"2020-12-09\",\"2020-12-10\",\"2020-12-11\",\"2020-12-12\",\"2020-12-13\",\"2020-12-14\",\"2020-12-15\",\"2020-12-16\",\"2020-12-17\",\"2020-12-18\",\"2020-12-19\",\"2020-12-20\",\"2020-12-21\",\"2020-12-22\",\"2020-12-23\",\"2020-12-24\",\"2020-12-25\",\"2020-12-26\",\"2020-12-27\",\"2020-12-28\",\"2020-12-29\",\"2020-12-30\",\"2020-12-31\",\"2021-01-01\",\"2021-01-02\",\"2021-01-03\",\"2021-01-04\",\"2021-01-05\",\"2021-01-06\",\"2021-01-07\",\"2021-01-08\",\"2021-01-09\",\"2021-01-10\",\"2021-01-11\",\"2021-01-12\",\"2021-01-13\",\"2021-01-14\",\"2021-01-15\",\"2021-01-16\",\"2021-01-17\",\"2021-01-18\",\"2021-01-19\",\"2021-01-20\",\"2021-01-21\",\"2021-01-22\",\"2021-01-23\",\"2021-01-24\",\"2021-01-25\",\"2021-01-26\",\"2021-01-27\",\"2021-01-28\",\"2021-01-29\",\"2021-01-30\",\"2021-01-31\",\"2021-02-01\",\"2021-02-02\",\"2021-02-03\",\"2021-02-04\",\"2021-02-05\",\"2021-02-06\",\"2021-02-07\",\"2021-02-08\",\"2021-02-09\",\"2021-02-10\",\"2021-02-11\",\"2021-02-12\",\"2021-02-13\",\"2021-02-14\",\"2021-02-15\",\"2021-02-16\",\"2021-02-17\",\"2021-02-18\",\"2021-02-19\",\"2021-02-20\",\"2021-02-21\",\"2021-02-22\",\"2021-02-23\",\"2021-02-24\",\"2021-02-25\",\"2021-02-26\",\"2021-02-27\",\"2021-02-28\",\"2021-03-01\",\"2021-03-02\",\"2021-03-03\",\"2021-03-04\",\"2021-03-05\",\"2021-03-06\",\"2021-03-07\",\"2021-03-08\",\"2021-03-09\",\"2021-03-10\",\"2021-03-11\",\"2021-03-12\",\"2021-03-13\",\"2021-03-14\",\"2021-03-15\",\"2021-03-16\",\"2021-03-17\",\"2021-03-18\",\"2021-03-19\",\"2021-03-20\",\"2021-03-21\",\"2021-03-22\",\"2021-03-23\",\"2021-03-24\",\"2021-03-25\",\"2021-03-26\",\"2021-03-27\",\"2021-03-28\",\"2021-03-29\",\"2021-03-30\",\"2021-03-31\",\"2021-04-01\",\"2021-04-02\",\"2021-04-03\",\"2021-04-04\",\"2021-04-05\",\"2021-04-06\",\"2021-04-07\",\"2021-04-08\",\"2021-04-09\",\"2021-04-10\",\"2021-04-11\",\"2021-04-12\",\"2021-04-13\",\"2021-04-14\",\"2021-04-15\",\"2021-04-16\",\"2021-04-17\",\"2021-04-18\",\"2021-04-19\",\"2021-04-20\",\"2021-04-21\",\"2021-04-22\",\"2021-04-23\",\"2021-04-24\",\"2021-04-25\",\"2021-04-26\",\"2021-04-27\",\"2021-04-28\",\"2021-04-29\",\"2021-04-30\",\"2021-05-01\",\"2021-05-02\",\"2021-05-03\",\"2021-05-04\",\"2021-05-05\",\"2021-05-06\",\"2021-05-07\",\"2021-05-08\",\"2021-05-09\",\"2021-05-10\",\"2021-05-11\",\"2021-05-12\",\"2021-05-13\",\"2021-05-14\",\"2021-05-15\",\"2021-05-16\",\"2021-05-17\",\"2021-05-18\",\"2021-05-19\",\"2021-05-20\",\"2021-05-21\",\"2021-05-22\",\"2021-05-23\",\"2021-05-24\",\"2021-05-25\",\"2021-05-26\",\"2021-05-27\",\"2021-05-28\",\"2021-05-29\",\"2021-05-30\",\"2021-05-31\",\"2021-06-01\",\"2021-06-02\",\"2021-06-03\",\"2021-06-04\",\"2021-06-05\",\"2021-06-06\",\"2021-06-07\",\"2021-06-08\",\"2021-06-09\",\"2021-06-10\",\"2021-06-11\",\"2021-06-12\",\"2021-06-13\",\"2021-06-14\",\"2021-06-15\",\"2021-06-16\",\"2021-06-17\",\"2021-06-18\",\"2021-06-19\",\"2021-06-20\",\"2021-06-21\",\"2021-06-22\",\"2021-06-23\",\"2021-06-24\",\"2021-06-25\",\"2021-06-26\",\"2021-06-27\",\"2021-06-28\",\"2021-06-29\",\"2021-06-30\",\"2021-07-01\",\"2021-07-02\",\"2021-07-03\",\"2021-07-04\",\"2021-07-05\",\"2021-07-06\",\"2021-07-07\",\"2021-07-08\",\"2021-07-09\",\"2021-07-10\",\"2021-07-11\",\"2021-07-12\",\"2021-07-13\",\"2021-07-14\",\"2021-07-15\",\"2021-07-16\",\"2021-07-17\",\"2021-07-18\",\"2021-07-19\",\"2021-07-20\",\"2021-07-21\",\"2021-07-22\",\"2021-07-23\",\"2021-07-24\",\"2021-07-25\",\"2021-07-26\",\"2021-07-27\",\"2021-07-28\",\"2021-07-29\",\"2021-07-30\",\"2021-07-31\",\"2021-08-01\",\"2021-08-02\",\"2021-08-03\",\"2021-08-04\",\"2021-08-05\",\"2021-08-06\",\"2021-08-07\",\"2021-08-08\",\"2021-08-09\",\"2021-08-10\",\"2021-08-11\",\"2021-08-12\",\"2021-08-13\",\"2021-08-14\",\"2021-08-15\",\"2021-08-16\",\"2021-08-17\",\"2021-08-18\",\"2021-08-19\",\"2021-08-20\",\"2021-08-21\",\"2021-08-22\",\"2021-08-23\",\"2021-08-24\",\"2021-08-25\",\"2021-08-26\",\"2021-08-27\",\"2021-08-28\",\"2021-08-29\",\"2021-08-30\",\"2021-08-31\",\"2021-09-01\",\"2021-09-02\",\"2021-09-03\",\"2021-09-04\",\"2021-09-05\",\"2021-09-06\",\"2021-09-07\",\"2021-09-08\",\"2021-09-09\",\"2021-09-10\",\"2021-09-11\",\"2021-09-12\",\"2021-09-13\",\"2021-09-14\",\"2021-09-15\",\"2021-09-16\",\"2021-09-17\",\"2021-09-18\",\"2021-09-19\",\"2021-09-20\",\"2021-09-21\",\"2021-09-22\"],\"xaxis\":\"x\",\"y\":[null,null,null,null,null,null,null,null,null,null,null,null,null,null,0.5,0.8571428571428571,2.7857142857142856,1.4285714285714286,2.2142857142857144,1.0714285714285714,1.7142857142857142,1.2142857142857142,2.2142857142857144,1.0,1.2857142857142858,1.7857142857142858,2.7142857142857144,3.7142857142857144,3.4285714285714284,2.5714285714285716,1.2142857142857142,2.0714285714285716,1.8571428571428572,1.7142857142857142,1.5714285714285714,1.9285714285714286,1.7857142857142858,3.142857142857143,1.2142857142857142,1.5714285714285714,0.2857142857142857,-0.6428571428571429,-0.8571428571428571,0.07142857142857142,-0.2857142857142857,-1.2142857142857142,-2.642857142857143,0.5714285714285714,-1.2857142857142858,-1.0,-1.7857142857142858,0.7857142857142857,-0.7857142857142857,-2.357142857142857,-2.357142857142857,-2.4285714285714284,-1.4285714285714286,-2.7142857142857144,-2.7857142857142856,-1.4285714285714286,-0.21428571428571427,-1.9285714285714286,-1.7142857142857142,-1.0,-1.8571428571428572,-3.7142857142857144,-2.0,-0.7142857142857143,-0.7857142857142857,-0.35714285714285715,-1.2857142857142858,-0.2857142857142857,0.14285714285714285,-0.14285714285714285,-0.7857142857142857,-0.35714285714285715,0.35714285714285715,-0.7857142857142857,0.8571428571428571,-0.14285714285714285,0.7142857142857143,2.0714285714285716,0.21428571428571427,0.14285714285714285,0.2857142857142857,0.42857142857142855,1.7857142857142858,0.5714285714285714,0.21428571428571427,-0.7857142857142857,-0.35714285714285715,-0.07142857142857142,-0.5714285714285714,-1.0714285714285714,-0.7142857142857143,-1.7142857142857142,0.14285714285714285,-0.5714285714285714,0.21428571428571427,-0.2857142857142857,-2.5714285714285716,-1.0714285714285714,-0.42857142857142855,-0.14285714285714285,-0.35714285714285715,-0.42857142857142855,-0.7142857142857143,0.0,-0.5714285714285714,-0.42857142857142855,-0.7142857142857143,0.0,-0.7142857142857143,-0.14285714285714285,0.2857142857142857,0.0,0.35714285714285715,0.8571428571428571,0.21428571428571427,0.14285714285714285,0.42857142857142855,0.14285714285714285,0.2857142857142857,-0.42857142857142855,0.21428571428571427,-0.07142857142857142,-0.21428571428571427,-0.2857142857142857,-0.5,-0.14285714285714285,-0.5714285714285714,-0.8571428571428571,0.6428571428571429,0.0,-0.5,0.14285714285714285,0.7857142857142857,2.5,1.3571428571428572,1.9285714285714286,0.5,0.5,1.7142857142857142,0.8571428571428571,1.7142857142857142,2.0,0.8571428571428571,3.2142857142857144,3.642857142857143,3.5714285714285716,3.4285714285714284,4.0,1.7142857142857142,0.14285714285714285,2.642857142857143,3.142857142857143,2.7142857142857144,0.7857142857142857,1.7142857142857142,0.9285714285714286,3.5,2.4285714285714284,-2.642857142857143,-1.7142857142857142,0.0,-4.142857142857143,-1.4285714285714286,-1.4285714285714286,0.07142857142857142,0.35714285714285715,-0.2857142857142857,1.7142857142857142,0.7857142857142857,-0.7857142857142857,-0.9285714285714286,0.35714285714285715,2.5,-0.21428571428571427,-3.857142857142857,0.5714285714285714,-0.14285714285714285,4.785714285714286,3.2142857142857144,-1.2857142857142858,0.07142857142857142,-1.2142857142857142,-1.2142857142857142,3.142857142857143,0.8571428571428571,-2.2142857142857144,1.3571428571428572,1.3571428571428572,1.7857142857142858,0.5,4.0,-2.4285714285714284,-3.7142857142857144,-0.14285714285714285,0.14285714285714285,1.0,-1.1428571428571428,-2.0714285714285716,-0.5,1.1428571428571428,-1.6428571428571428,0.7857142857142857,-0.5,-1.0,-3.0714285714285716,-2.357142857142857,-1.5,-1.0,-4.071428571428571,-1.0714285714285714,-0.2857142857142857,-2.2142857142857144,-3.4285714285714284,-3.2857142857142856,0.5714285714285714,-0.7142857142857143,1.5,0.14285714285714285,0.6428571428571429,3.4285714285714284,2.4285714285714284,2.2857142857142856,3.5714285714285716,0.14285714285714285,0.5,4.714285714285714,2.2142857142857144,0.8571428571428571,-1.5,2.4285714285714284,-0.14285714285714285,-0.21428571428571427,1.2857142857142858,3.2857142857142856,-0.9285714285714286,-1.0,-1.1428571428571428,-0.14285714285714285,1.6428571428571428,-2.857142857142857,-0.8571428571428571,1.3571428571428572,1.3571428571428572,-4.214285714285714,-1.8571428571428572,1.0,-2.642857142857143,-5.142857142857143,-1.3571428571428572,-0.42857142857142855,-0.2857142857142857,1.2857142857142858,-1.3571428571428572,2.0,2.7857142857142856,-0.6428571428571429,-1.3571428571428572,2.5714285714285716,2.7142857142857144,0.14285714285714285,4.928571428571429,2.7142857142857144,3.857142857142857,2.9285714285714284,4.928571428571429,1.4285714285714286,6.5,0.35714285714285715,3.4285714285714284,1.8571428571428572,3.642857142857143,1.7142857142857142,0.6428571428571429,1.2857142857142858,-0.07142857142857142,0.5714285714285714,1.7857142857142858,3.0714285714285716,1.9285714285714286,2.5,-0.6428571428571429,4.714285714285714,-0.5714285714285714,10.142857142857142,6.928571428571429,3.642857142857143,7.0,11.428571428571429,5.071428571428571,0.21428571428571427,5.428571428571429,5.071428571428571,2.7142857142857144,6.857142857142857,14.357142857142858,5.857142857142857,6.071428571428571,6.928571428571429,11.5,16.214285714285715,15.785714285714286,14.428571428571429,22.857142857142858,33.142857142857146,23.5,25.285714285714285,16.857142857142858,32.214285714285715,-1.7142857142857142,7.571428571428571,10.571428571428571,6.714285714285714,13.285714285714286,14.428571428571429,17.571428571428573,9.714285714285714,21.357142857142858,19.642857142857142,11.5,8.0,36.07142857142857,25.857142857142858,43.857142857142854,51.0,38.857142857142854,29.142857142857142,22.5,18.142857142857142,13.285714285714286,6.142857142857143,-14.714285714285714,2.357142857142857,13.142857142857142,11.714285714285714,-1.5714285714285714,-14.714285714285714,-13.642857142857142,-7.642857142857143,-4.928571428571429,7.642857142857143,1.0,8.285714285714286,15.642857142857142,13.214285714285714,18.285714285714285,-11.357142857142858,-12.857142857142858,3.7142857142857144,-12.0,-13.428571428571429,6.857142857142857,4.285714285714286,6.428571428571429,-8.285714285714286,-5.857142857142857,-13.357142857142858,-12.928571428571429,2.5,14.642857142857142,5.214285714285714,7.714285714285714,-8.071428571428571,-5.785714285714286,21.142857142857142,-5.5,-14.642857142857142,-13.357142857142858,-8.428571428571429,-3.0,4.5,-4.428571428571429,-11.071428571428571,-19.071428571428573,-2.5714285714285716,2.7142857142857144,5.0,22.214285714285715,0.35714285714285715,-2.357142857142857,15.428571428571429,23.142857142857142,23.142857142857142,24.428571428571427,15.428571428571429,26.142857142857142,24.857142857142858,18.285714285714285,16.071428571428573,7.0,13.214285714285714,6.428571428571429,2.857142857142857,10.928571428571429,3.7142857142857144,-6.571428571428571,-0.6428571428571429,-2.642857142857143,-0.21428571428571427,-8.928571428571429,-0.42857142857142855,10.928571428571429,3.2142857142857144,20.928571428571427,16.0,5.0,16.142857142857142,6.0,1.6428571428571428,2.0714285714285716,10.357142857142858,0.42857142857142855,-7.928571428571429,2.4285714285714284,-9.142857142857142,-11.714285714285714,0.2857142857142857,-10.5,-5.642857142857143,-5.285714285714286,-8.285714285714286,12.714285714285714,-0.8571428571428571,15.642857142857142,2.642857142857143,16.5,33.42857142857143,11.571428571428571,8.928571428571429,16.071428571428573,23.5,13.714285714285714,2.5,18.071428571428573,10.857142857142858,2.7857142857142856,15.714285714285714,-5.571428571428571,-6.0,-7.714285714285714,-13.928571428571429,-11.0,3.0714285714285716,-13.357142857142858,-10.571428571428571,-14.214285714285714,-4.857142857142857,-11.0,-9.571428571428571,2.142857142857143,-9.642857142857142,2.2857142857142856,4.0,8.5,13.142857142857142,27.928571428571427,17.785714285714285,34.285714285714285,15.142857142857142,26.071428571428573,25.142857142857142,24.071428571428573,24.928571428571427,26.857142857142858,23.785714285714285,63.857142857142854,51.57142857142857,84.0,73.64285714285714,87.71428571428571,88.57142857142857,110.21428571428571,111.92857142857143,109.57142857142857,130.5,143.07142857142858,148.78571428571428,108.14285714285714,150.14285714285714,114.92857142857143,138.5,282.7142857142857,310.5,301.7857142857143,273.85714285714283,180.92857142857142,222.14285714285714,251.92857142857142,225.14285714285714,184.78571428571428,197.14285714285714,245.0,176.14285714285714,195.78571428571428,280.42857142857144,97.28571428571429,70.14285714285714,137.85714285714286,125.78571428571429,163.57142857142858,231.64285714285714,152.0,162.57142857142858,200.92857142857142,247.71428571428572,198.14285714285714,255.14285714285714,211.28571428571428,46.714285714285715,78.71428571428571,82.92857142857143,41.0,-16.714285714285715,73.78571428571429,-51.285714285714285,-29.5,-30.285714285714285,-4.214285714285714,-79.35714285714286,-7.857142857142857,10.214285714285714,-49.785714285714285,40.92857142857143,62.714285714285715,60.5,8.642857142857142,97.85714285714286,69.35714285714286,2.2857142857142856,22.5,-48.07142857142857,-140.42857142857142,-168.5,-221.0,-245.0,-146.92857142857142,-197.42857142857142,-202.64285714285714,-134.71428571428572,-23.357142857142858,-149.28571428571428,-152.57142857142858,-22.857142857142858,-54.42857142857143,53.92857142857143,84.64285714285714,125.5,161.92857142857142,83.85714285714286,59.142857142857146,101.42857142857143,97.42857142857143,47.357142857142854,-56.214285714285715,93.85714285714286,37.0,-83.28571428571429],\"yaxis\":\"y\"},{\"marker\":{\"color\":\"red\"},\"name\":\"Acc positiva 3d\",\"opacity\":0.5,\"type\":\"bar\",\"x\":[\"2020-03-17\",\"2020-03-18\",\"2020-03-19\",\"2020-03-20\",\"2020-03-21\",\"2020-03-22\",\"2020-03-23\",\"2020-03-24\",\"2020-03-26\",\"2020-03-27\",\"2020-03-28\",\"2020-03-29\",\"2020-03-30\",\"2020-04-01\",\"2020-04-03\",\"2020-04-05\",\"2020-04-07\",\"2020-04-08\",\"2020-04-09\",\"2020-04-10\",\"2020-04-13\",\"2020-04-17\",\"2020-04-18\",\"2020-04-19\",\"2020-04-22\",\"2020-04-24\",\"2020-04-25\",\"2020-04-30\",\"2020-05-02\",\"2020-05-03\",\"2020-05-07\",\"2020-05-11\",\"2020-05-12\",\"2020-05-14\",\"2020-05-16\",\"2020-05-20\",\"2020-05-22\",\"2020-05-23\",\"2020-05-24\",\"2020-05-26\",\"2020-05-27\",\"2020-05-28\",\"2020-05-29\",\"2020-05-30\",\"2020-05-31\",\"2020-06-01\",\"2020-06-05\",\"2020-06-06\",\"2020-06-07\",\"2020-06-12\",\"2020-06-14\",\"2020-06-15\",\"2020-06-16\",\"2020-06-18\",\"2020-06-26\",\"2020-06-27\",\"2020-06-28\",\"2020-06-29\",\"2020-07-01\",\"2020-07-03\",\"2020-07-04\",\"2020-07-06\",\"2020-07-07\",\"2020-07-08\",\"2020-07-11\",\"2020-07-12\",\"2020-07-15\",\"2020-07-16\",\"2020-07-17\",\"2020-07-21\",\"2020-07-22\",\"2020-07-23\",\"2020-07-24\",\"2020-07-26\",\"2020-07-27\",\"2020-07-28\",\"2020-07-29\",\"2020-08-02\",\"2020-08-03\",\"2020-08-04\",\"2020-08-05\",\"2020-08-06\",\"2020-08-07\",\"2020-08-08\",\"2020-08-09\",\"2020-08-10\",\"2020-08-14\",\"2020-08-15\",\"2020-08-19\",\"2020-08-20\",\"2020-08-24\",\"2020-08-27\",\"2020-08-28\",\"2020-08-29\",\"2020-08-30\",\"2020-09-02\",\"2020-09-03\",\"2020-09-04\",\"2020-09-09\",\"2020-09-10\",\"2020-09-11\",\"2020-09-14\",\"2020-09-15\",\"2020-09-16\",\"2020-09-17\",\"2020-09-22\",\"2020-09-23\",\"2020-09-26\",\"2020-09-27\",\"2020-09-30\",\"2020-10-01\",\"2020-10-02\",\"2020-10-11\",\"2020-10-13\",\"2020-10-15\",\"2020-10-16\",\"2020-10-17\",\"2020-10-18\",\"2020-10-21\",\"2020-10-22\",\"2020-10-23\",\"2020-10-27\",\"2020-10-28\",\"2020-10-29\",\"2020-10-31\",\"2020-11-01\",\"2020-11-02\",\"2020-11-04\",\"2020-11-05\",\"2020-11-09\",\"2020-11-10\",\"2020-11-11\",\"2020-11-12\",\"2020-11-13\",\"2020-11-17\",\"2020-11-18\",\"2020-11-20\",\"2020-11-22\",\"2020-11-24\",\"2020-11-25\",\"2020-11-26\",\"2020-11-29\",\"2020-11-30\",\"2020-12-01\",\"2020-12-02\",\"2020-12-03\",\"2020-12-05\",\"2020-12-07\",\"2020-12-09\",\"2020-12-11\",\"2020-12-15\",\"2020-12-16\",\"2020-12-17\",\"2020-12-18\",\"2020-12-19\",\"2020-12-20\",\"2020-12-22\",\"2020-12-23\",\"2020-12-24\",\"2020-12-25\",\"2020-12-26\",\"2020-12-28\",\"2020-12-29\",\"2021-01-01\",\"2021-01-02\",\"2021-01-03\",\"2021-01-04\",\"2021-01-05\",\"2021-01-06\",\"2021-01-08\",\"2021-01-09\",\"2021-01-10\",\"2021-01-11\",\"2021-01-12\",\"2021-01-13\",\"2021-01-14\",\"2021-01-15\",\"2021-01-17\",\"2021-01-21\",\"2021-01-22\",\"2021-01-23\",\"2021-01-24\",\"2021-01-25\",\"2021-01-26\",\"2021-01-27\",\"2021-01-28\",\"2021-01-30\",\"2021-01-31\",\"2021-02-01\",\"2021-02-02\",\"2021-02-07\",\"2021-02-10\",\"2021-02-11\",\"2021-02-12\",\"2021-02-13\",\"2021-02-16\",\"2021-02-17\",\"2021-02-18\",\"2021-02-20\",\"2021-02-21\",\"2021-02-26\",\"2021-02-27\",\"2021-03-02\",\"2021-03-03\",\"2021-03-07\",\"2021-03-08\",\"2021-03-09\",\"2021-03-14\",\"2021-03-16\",\"2021-03-20\",\"2021-03-21\",\"2021-03-25\",\"2021-03-26\",\"2021-03-27\",\"2021-03-28\",\"2021-03-30\",\"2021-03-31\",\"2021-04-01\",\"2021-04-02\",\"2021-04-04\",\"2021-04-06\",\"2021-04-10\",\"2021-04-11\",\"2021-04-13\",\"2021-04-14\",\"2021-04-15\",\"2021-04-17\",\"2021-04-18\",\"2021-04-19\",\"2021-04-20\",\"2021-04-22\",\"2021-04-23\",\"2021-04-24\",\"2021-04-29\",\"2021-05-04\",\"2021-05-06\",\"2021-05-07\",\"2021-05-08\",\"2021-05-09\",\"2021-05-11\",\"2021-05-12\",\"2021-05-13\",\"2021-05-14\",\"2021-05-15\",\"2021-05-16\",\"2021-05-19\",\"2021-05-20\",\"2021-05-25\",\"2021-05-29\",\"2021-06-02\",\"2021-06-04\",\"2021-06-06\",\"2021-06-07\",\"2021-06-08\",\"2021-06-09\",\"2021-06-11\",\"2021-06-12\",\"2021-06-13\",\"2021-06-14\",\"2021-06-15\",\"2021-06-17\",\"2021-06-19\",\"2021-06-20\",\"2021-06-21\",\"2021-06-22\",\"2021-06-23\",\"2021-06-24\",\"2021-06-25\",\"2021-06-26\",\"2021-06-27\",\"2021-06-28\",\"2021-06-29\",\"2021-06-30\",\"2021-07-01\",\"2021-07-02\",\"2021-07-03\",\"2021-07-04\",\"2021-07-06\",\"2021-07-07\",\"2021-07-08\",\"2021-07-09\",\"2021-07-10\",\"2021-07-11\",\"2021-07-12\",\"2021-07-15\",\"2021-07-16\",\"2021-07-19\",\"2021-07-21\",\"2021-07-22\",\"2021-07-23\",\"2021-07-24\",\"2021-07-25\",\"2021-07-26\",\"2021-07-27\",\"2021-07-28\",\"2021-07-29\",\"2021-07-30\",\"2021-08-01\",\"2021-08-02\",\"2021-08-03\",\"2021-08-08\",\"2021-08-10\",\"2021-08-12\",\"2021-08-14\",\"2021-08-15\",\"2021-08-16\",\"2021-08-17\",\"2021-08-18\",\"2021-08-21\",\"2021-08-22\",\"2021-08-24\",\"2021-09-01\",\"2021-09-02\",\"2021-09-03\",\"2021-09-04\",\"2021-09-05\",\"2021-09-06\",\"2021-09-09\",\"2021-09-10\",\"2021-09-12\",\"2021-09-17\",\"2021-09-18\",\"2021-09-19\",\"2021-09-20\"],\"xaxis\":\"x\",\"y\":[0.3333333333333333,0.6666666666666666,1.3333333333333333,1.3333333333333333,1.0,3.3333333333333335,0.0,1.0,1.6666666666666667,1.6666666666666667,10.0,3.3333333333333335,6.0,2.0,6.666666666666667,3.6666666666666665,9.0,9.666666666666666,9.333333333333334,1.0,2.6666666666666665,7.0,5.0,0.3333333333333333,1.0,0.0,0.0,4.666666666666667,14.666666666666666,1.3333333333333333,2.3333333333333335,1.6666666666666667,2.6666666666666665,1.0,5.333333333333333,1.0,0.6666666666666666,0.6666666666666666,0.6666666666666666,0.3333333333333333,0.3333333333333333,1.0,2.0,3.0,3.6666666666666665,5.333333333333333,1.6666666666666667,8.333333333333334,2.0,3.0,0.6666666666666666,0.0,2.0,0.3333333333333333,0.3333333333333333,1.3333333333333333,0.0,1.3333333333333333,1.6666666666666667,2.3333333333333335,0.3333333333333333,0.0,2.3333333333333335,0.3333333333333333,1.0,0.6666666666666666,0.0,0.0,0.0,0.6666666666666666,4.0,1.3333333333333333,0.0,4.333333333333333,11.333333333333334,4.666666666666667,5.333333333333333,1.3333333333333333,4.333333333333333,2.0,4.0,8.333333333333334,7.666666666666667,11.333333333333334,5.333333333333333,13.0,2.6666666666666665,9.333333333333334,16.666666666666668,11.666666666666666,6.0,4.0,11.0,14.666666666666666,0.3333333333333333,4.333333333333333,9.666666666666666,6.333333333333333,23.666666666666668,16.333333333333332,5.666666666666667,0.0,5.666666666666667,14.0,5.0,10.0,4.0,4.666666666666667,1.6666666666666667,7.0,15.666666666666666,0.0,3.6666666666666665,4.0,1.6666666666666667,13.0,11.333333333333334,7.666666666666667,4.333333333333333,5.0,3.6666666666666665,9.333333333333334,5.666666666666667,3.3333333333333335,12.333333333333334,3.0,0.0,20.333333333333332,1.6666666666666667,2.6666666666666665,1.3333333333333333,2.3333333333333335,2.0,3.6666666666666665,0.3333333333333333,5.0,3.3333333333333335,9.0,12.0,9.333333333333334,5.333333333333333,3.6666666666666665,5.333333333333333,11.333333333333334,5.0,8.0,9.666666666666666,15.0,18.666666666666668,3.3333333333333335,3.0,4.666666666666667,10.333333333333334,8.666666666666666,16.0,1.0,3.6666666666666665,4.333333333333333,34.0,13.666666666666666,7.333333333333333,15.333333333333334,9.666666666666666,8.666666666666666,27.666666666666668,7.666666666666667,41.0,18.333333333333332,0.6666666666666666,40.0,54.666666666666664,24.666666666666668,29.0,40.666666666666664,54.0,24.666666666666668,20.0,48.333333333333336,38.666666666666664,66.66666666666667,72.66666666666667,75.33333333333333,12.333333333333334,73.0,63.666666666666664,33.0,28.333333333333332,115.33333333333333,82.33333333333333,44.666666666666664,1.3333333333333333,12.666666666666666,65.66666666666667,81.0,10.0,16.333333333333332,6.0,69.33333333333333,37.666666666666664,38.666666666666664,13.0,7.0,92.33333333333333,98.66666666666667,17.0,32.0,97.0,45.333333333333336,51.0,28.666666666666668,35.666666666666664,32.666666666666664,19.333333333333332,71.33333333333333,34.333333333333336,19.333333333333332,44.0,104.0,23.0,49.666666666666664,0.3333333333333333,26.333333333333332,15.0,6.666666666666667,0.0,50.0,22.333333333333332,11.0,6.666666666666667,52.333333333333336,49.0,19.333333333333332,34.666666666666664,70.33333333333333,34.666666666666664,42.666666666666664,47.666666666666664,8.666666666666666,3.0,11.666666666666666,46.0,23.333333333333332,68.66666666666667,58.666666666666664,15.666666666666666,35.333333333333336,65.0,0.6666666666666666,19.666666666666668,37.333333333333336,24.0,11.333333333333334,18.666666666666668,7.0,24.666666666666668,44.0,70.33333333333333,104.0,20.333333333333332,55.0,23.0,23.0,6.0,26.666666666666668,5.666666666666667,206.33333333333334,106.33333333333333,325.0,116.0,272.6666666666667,41.666666666666664,225.66666666666666,90.66666666666667,121.0,76.0,168.33333333333334,189.0,38.666666666666664,48.333333333333336,248.0,943.6666666666666,1028.6666666666667,1034.6666666666667,0.3333333333333333,18.666666666666668,282.3333333333333,15.0,42.0,413.3333333333333,575.6666666666666,442.3333333333333,369.3333333333333,133.33333333333334,57.0,156.66666666666666,141.0,277.6666666666667,380.0,181.0,251.33333333333334,342.6666666666667,14.333333333333334,81.33333333333333,70.33333333333333,147.33333333333334,285.6666666666667,318.6666666666667,10.0,358.0,192.0,55.666666666666664,110.66666666666667,44.333333333333336,195.0,415.0,1004.3333333333334,101.0,172.33333333333334,207.66666666666666,95.66666666666667,258.3333333333333,360.0,268.6666666666667,84.33333333333333],\"yaxis\":\"y2\"},{\"marker\":{\"color\":\"green\"},\"name\":\"Acc negativa 3d\",\"opacity\":0.7,\"type\":\"bar\",\"x\":[\"2020-03-15\",\"2020-03-16\",\"2020-03-25\",\"2020-03-31\",\"2020-04-02\",\"2020-04-04\",\"2020-04-06\",\"2020-04-11\",\"2020-04-12\",\"2020-04-14\",\"2020-04-15\",\"2020-04-16\",\"2020-04-20\",\"2020-04-21\",\"2020-04-23\",\"2020-04-26\",\"2020-04-27\",\"2020-04-28\",\"2020-04-29\",\"2020-05-01\",\"2020-05-04\",\"2020-05-05\",\"2020-05-06\",\"2020-05-08\",\"2020-05-09\",\"2020-05-10\",\"2020-05-13\",\"2020-05-15\",\"2020-05-17\",\"2020-05-18\",\"2020-05-19\",\"2020-05-21\",\"2020-05-25\",\"2020-06-02\",\"2020-06-03\",\"2020-06-04\",\"2020-06-08\",\"2020-06-09\",\"2020-06-10\",\"2020-06-11\",\"2020-06-13\",\"2020-06-17\",\"2020-06-19\",\"2020-06-20\",\"2020-06-21\",\"2020-06-22\",\"2020-06-23\",\"2020-06-24\",\"2020-06-25\",\"2020-06-30\",\"2020-07-02\",\"2020-07-05\",\"2020-07-09\",\"2020-07-10\",\"2020-07-13\",\"2020-07-14\",\"2020-07-18\",\"2020-07-19\",\"2020-07-20\",\"2020-07-25\",\"2020-07-30\",\"2020-07-31\",\"2020-08-01\",\"2020-08-11\",\"2020-08-12\",\"2020-08-13\",\"2020-08-16\",\"2020-08-17\",\"2020-08-18\",\"2020-08-21\",\"2020-08-22\",\"2020-08-23\",\"2020-08-25\",\"2020-08-26\",\"2020-08-31\",\"2020-09-01\",\"2020-09-05\",\"2020-09-06\",\"2020-09-07\",\"2020-09-08\",\"2020-09-12\",\"2020-09-13\",\"2020-09-18\",\"2020-09-19\",\"2020-09-20\",\"2020-09-21\",\"2020-09-24\",\"2020-09-25\",\"2020-09-28\",\"2020-09-29\",\"2020-10-03\",\"2020-10-04\",\"2020-10-05\",\"2020-10-06\",\"2020-10-07\",\"2020-10-08\",\"2020-10-09\",\"2020-10-10\",\"2020-10-12\",\"2020-10-14\",\"2020-10-19\",\"2020-10-20\",\"2020-10-24\",\"2020-10-25\",\"2020-10-26\",\"2020-10-30\",\"2020-11-03\",\"2020-11-06\",\"2020-11-07\",\"2020-11-08\",\"2020-11-14\",\"2020-11-15\",\"2020-11-16\",\"2020-11-19\",\"2020-11-21\",\"2020-11-23\",\"2020-11-27\",\"2020-11-28\",\"2020-12-04\",\"2020-12-06\",\"2020-12-08\",\"2020-12-10\",\"2020-12-12\",\"2020-12-13\",\"2020-12-14\",\"2020-12-21\",\"2020-12-27\",\"2020-12-30\",\"2020-12-31\",\"2021-01-07\",\"2021-01-16\",\"2021-01-18\",\"2021-01-19\",\"2021-01-20\",\"2021-01-29\",\"2021-02-03\",\"2021-02-04\",\"2021-02-05\",\"2021-02-06\",\"2021-02-08\",\"2021-02-09\",\"2021-02-14\",\"2021-02-15\",\"2021-02-19\",\"2021-02-22\",\"2021-02-23\",\"2021-02-24\",\"2021-02-25\",\"2021-02-28\",\"2021-03-01\",\"2021-03-04\",\"2021-03-05\",\"2021-03-06\",\"2021-03-10\",\"2021-03-11\",\"2021-03-12\",\"2021-03-13\",\"2021-03-15\",\"2021-03-17\",\"2021-03-18\",\"2021-03-19\",\"2021-03-22\",\"2021-03-23\",\"2021-03-24\",\"2021-03-29\",\"2021-04-03\",\"2021-04-05\",\"2021-04-07\",\"2021-04-08\",\"2021-04-09\",\"2021-04-12\",\"2021-04-16\",\"2021-04-21\",\"2021-04-25\",\"2021-04-26\",\"2021-04-27\",\"2021-04-28\",\"2021-04-30\",\"2021-05-01\",\"2021-05-02\",\"2021-05-03\",\"2021-05-05\",\"2021-05-10\",\"2021-05-17\",\"2021-05-18\",\"2021-05-21\",\"2021-05-22\",\"2021-05-23\",\"2021-05-24\",\"2021-05-26\",\"2021-05-27\",\"2021-05-28\",\"2021-05-30\",\"2021-05-31\",\"2021-06-01\",\"2021-06-03\",\"2021-06-05\",\"2021-06-10\",\"2021-06-16\",\"2021-06-18\",\"2021-07-05\",\"2021-07-13\",\"2021-07-14\",\"2021-07-17\",\"2021-07-18\",\"2021-07-20\",\"2021-07-31\",\"2021-08-04\",\"2021-08-05\",\"2021-08-06\",\"2021-08-07\",\"2021-08-09\",\"2021-08-11\",\"2021-08-13\",\"2021-08-19\",\"2021-08-20\",\"2021-08-23\",\"2021-08-25\",\"2021-08-26\",\"2021-08-27\",\"2021-08-28\",\"2021-08-29\",\"2021-08-30\",\"2021-08-31\",\"2021-09-07\",\"2021-09-08\",\"2021-09-11\",\"2021-09-13\",\"2021-09-14\",\"2021-09-15\",\"2021-09-16\",\"2021-09-21\",\"2021-09-22\"],\"xaxis\":\"x\",\"y\":[-1.0,-0.3333333333333333,-1.6666666666666667,-7.666666666666667,-3.3333333333333335,-2.3333333333333335,-2.0,-1.6666666666666667,-3.0,-5.333333333333333,-0.3333333333333333,-3.0,-3.0,-4.333333333333333,-2.0,-4.666666666666667,-10.0,-1.3333333333333333,-0.6666666666666666,-4.0,-5.666666666666667,-19.0,-6.666666666666667,-1.6666666666666667,-1.6666666666666667,-4.666666666666667,-2.0,-3.6666666666666665,-3.3333333333333335,-0.3333333333333333,-5.333333333333333,-0.3333333333333333,-0.6666666666666666,-3.6666666666666665,-1.6666666666666667,-8.666666666666666,-1.6666666666666667,-11.666666666666666,-4.0,-0.3333333333333333,-0.3333333333333333,-1.0,-0.3333333333333333,-1.0,-4.0,-2.3333333333333335,-0.3333333333333333,-0.6666666666666666,-0.3333333333333333,-1.3333333333333333,-1.0,-0.6666666666666666,-1.3333333333333333,-1.6666666666666667,-2.6666666666666665,-1.0,-1.6666666666666667,-0.3333333333333333,-1.3333333333333333,-1.3333333333333333,-9.333333333333334,-4.0,-2.6666666666666665,-4.0,-10.0,-15.666666666666666,-7.333333333333333,-2.3333333333333335,-6.333333333333333,-9.0,-13.0,-6.0,-2.6666666666666665,-16.666666666666668,-0.3333333333333333,-8.666666666666666,-9.666666666666666,-25.666666666666668,-3.0,-2.3333333333333335,-7.333333333333333,-20.333333333333332,-2.0,-7.333333333333333,-7.0,-7.0,-3.3333333333333335,-13.666666666666666,-4.666666666666667,-4.666666666666667,-1.3333333333333333,-14.666666666666666,-4.0,-8.0,-4.666666666666667,-5.666666666666667,-4.0,-3.3333333333333335,-1.3333333333333333,-4.0,-6.0,-1.6666666666666667,-2.6666666666666665,-7.0,-9.666666666666666,-16.0,-7.0,-7.0,-23.333333333333332,-3.3333333333333335,-3.3333333333333335,-12.0,-1.6666666666666667,-9.333333333333334,-0.6666666666666666,-1.6666666666666667,-12.0,-4.333333333333333,-6.0,-2.3333333333333335,-9.333333333333334,-16.333333333333332,-12.333333333333334,-2.0,-5.666666666666667,-2.3333333333333335,-16.666666666666668,-27.0,-17.666666666666668,-0.6666666666666666,-48.333333333333336,-85.0,-25.0,-100.33333333333333,-42.333333333333336,-39.666666666666664,-30.0,-66.33333333333333,-24.0,-64.0,-80.33333333333333,-14.666666666666666,-36.0,-26.0,-7.0,-33.666666666666664,-113.33333333333333,-56.0,-17.333333333333332,-21.333333333333332,-1.3333333333333333,-73.33333333333333,-54.666666666666664,-28.666666666666668,-31.666666666666668,-93.0,-44.333333333333336,-9.333333333333334,-62.333333333333336,-15.0,-19.0,-5.666666666666667,-13.0,-20.0,-43.666666666666664,-7.333333333333333,-3.6666666666666665,-67.0,-50.666666666666664,-4.333333333333333,-54.333333333333336,-6.666666666666667,-10.333333333333334,-7.333333333333333,-101.0,-9.0,-65.66666666666667,-12.333333333333334,-24.333333333333332,-26.0,-38.0,-20.333333333333332,-15.333333333333334,-73.33333333333333,-46.333333333333336,-15.666666666666666,-16.666666666666668,-10.333333333333334,-14.0,-30.666666666666668,-17.666666666666668,-40.666666666666664,-7.666666666666667,-23.0,-43.666666666666664,-15.666666666666666,-18.666666666666668,-9.0,-22.333333333333332,-18.666666666666668,-77.66666666666667,-379.0,-281.0,-6.0,-66.66666666666667,-1.6666666666666667,-149.33333333333334,-128.0,-293.3333333333333,-247.66666666666666,-156.66666666666666,-312.0,-274.0,-208.0,-65.66666666666667,-2.6666666666666665,-148.0,-303.6666666666667,-270.3333333333333,-756.0,-595.6666666666666,-744.0,-521.3333333333334,-169.33333333333334,-27.666666666666668,-301.3333333333333,-94.0,-17.333333333333332,-173.0,-199.0,-238.0,-76.0,-427.6666666666667],\"yaxis\":\"y2\"}],                        {\"template\":{\"data\":{\"bar\":[{\"error_x\":{\"color\":\"#2a3f5f\"},\"error_y\":{\"color\":\"#2a3f5f\"},\"marker\":{\"line\":{\"color\":\"#E5ECF6\",\"width\":0.5},\"pattern\":{\"fillmode\":\"overlay\",\"size\":10,\"solidity\":0.2}},\"type\":\"bar\"}],\"barpolar\":[{\"marker\":{\"line\":{\"color\":\"#E5ECF6\",\"width\":0.5},\"pattern\":{\"fillmode\":\"overlay\",\"size\":10,\"solidity\":0.2}},\"type\":\"barpolar\"}],\"carpet\":[{\"aaxis\":{\"endlinecolor\":\"#2a3f5f\",\"gridcolor\":\"white\",\"linecolor\":\"white\",\"minorgridcolor\":\"white\",\"startlinecolor\":\"#2a3f5f\"},\"baxis\":{\"endlinecolor\":\"#2a3f5f\",\"gridcolor\":\"white\",\"linecolor\":\"white\",\"minorgridcolor\":\"white\",\"startlinecolor\":\"#2a3f5f\"},\"type\":\"carpet\"}],\"choropleth\":[{\"colorbar\":{\"outlinewidth\":0,\"ticks\":\"\"},\"type\":\"choropleth\"}],\"contour\":[{\"colorbar\":{\"outlinewidth\":0,\"ticks\":\"\"},\"colorscale\":[[0.0,\"#0d0887\"],[0.1111111111111111,\"#46039f\"],[0.2222222222222222,\"#7201a8\"],[0.3333333333333333,\"#9c179e\"],[0.4444444444444444,\"#bd3786\"],[0.5555555555555556,\"#d8576b\"],[0.6666666666666666,\"#ed7953\"],[0.7777777777777778,\"#fb9f3a\"],[0.8888888888888888,\"#fdca26\"],[1.0,\"#f0f921\"]],\"type\":\"contour\"}],\"contourcarpet\":[{\"colorbar\":{\"outlinewidth\":0,\"ticks\":\"\"},\"type\":\"contourcarpet\"}],\"heatmap\":[{\"colorbar\":{\"outlinewidth\":0,\"ticks\":\"\"},\"colorscale\":[[0.0,\"#0d0887\"],[0.1111111111111111,\"#46039f\"],[0.2222222222222222,\"#7201a8\"],[0.3333333333333333,\"#9c179e\"],[0.4444444444444444,\"#bd3786\"],[0.5555555555555556,\"#d8576b\"],[0.6666666666666666,\"#ed7953\"],[0.7777777777777778,\"#fb9f3a\"],[0.8888888888888888,\"#fdca26\"],[1.0,\"#f0f921\"]],\"type\":\"heatmap\"}],\"heatmapgl\":[{\"colorbar\":{\"outlinewidth\":0,\"ticks\":\"\"},\"colorscale\":[[0.0,\"#0d0887\"],[0.1111111111111111,\"#46039f\"],[0.2222222222222222,\"#7201a8\"],[0.3333333333333333,\"#9c179e\"],[0.4444444444444444,\"#bd3786\"],[0.5555555555555556,\"#d8576b\"],[0.6666666666666666,\"#ed7953\"],[0.7777777777777778,\"#fb9f3a\"],[0.8888888888888888,\"#fdca26\"],[1.0,\"#f0f921\"]],\"type\":\"heatmapgl\"}],\"histogram\":[{\"marker\":{\"pattern\":{\"fillmode\":\"overlay\",\"size\":10,\"solidity\":0.2}},\"type\":\"histogram\"}],\"histogram2d\":[{\"colorbar\":{\"outlinewidth\":0,\"ticks\":\"\"},\"colorscale\":[[0.0,\"#0d0887\"],[0.1111111111111111,\"#46039f\"],[0.2222222222222222,\"#7201a8\"],[0.3333333333333333,\"#9c179e\"],[0.4444444444444444,\"#bd3786\"],[0.5555555555555556,\"#d8576b\"],[0.6666666666666666,\"#ed7953\"],[0.7777777777777778,\"#fb9f3a\"],[0.8888888888888888,\"#fdca26\"],[1.0,\"#f0f921\"]],\"type\":\"histogram2d\"}],\"histogram2dcontour\":[{\"colorbar\":{\"outlinewidth\":0,\"ticks\":\"\"},\"colorscale\":[[0.0,\"#0d0887\"],[0.1111111111111111,\"#46039f\"],[0.2222222222222222,\"#7201a8\"],[0.3333333333333333,\"#9c179e\"],[0.4444444444444444,\"#bd3786\"],[0.5555555555555556,\"#d8576b\"],[0.6666666666666666,\"#ed7953\"],[0.7777777777777778,\"#fb9f3a\"],[0.8888888888888888,\"#fdca26\"],[1.0,\"#f0f921\"]],\"type\":\"histogram2dcontour\"}],\"mesh3d\":[{\"colorbar\":{\"outlinewidth\":0,\"ticks\":\"\"},\"type\":\"mesh3d\"}],\"parcoords\":[{\"line\":{\"colorbar\":{\"outlinewidth\":0,\"ticks\":\"\"}},\"type\":\"parcoords\"}],\"pie\":[{\"automargin\":true,\"type\":\"pie\"}],\"scatter\":[{\"marker\":{\"colorbar\":{\"outlinewidth\":0,\"ticks\":\"\"}},\"type\":\"scatter\"}],\"scatter3d\":[{\"line\":{\"colorbar\":{\"outlinewidth\":0,\"ticks\":\"\"}},\"marker\":{\"colorbar\":{\"outlinewidth\":0,\"ticks\":\"\"}},\"type\":\"scatter3d\"}],\"scattercarpet\":[{\"marker\":{\"colorbar\":{\"outlinewidth\":0,\"ticks\":\"\"}},\"type\":\"scattercarpet\"}],\"scattergeo\":[{\"marker\":{\"colorbar\":{\"outlinewidth\":0,\"ticks\":\"\"}},\"type\":\"scattergeo\"}],\"scattergl\":[{\"marker\":{\"colorbar\":{\"outlinewidth\":0,\"ticks\":\"\"}},\"type\":\"scattergl\"}],\"scattermapbox\":[{\"marker\":{\"colorbar\":{\"outlinewidth\":0,\"ticks\":\"\"}},\"type\":\"scattermapbox\"}],\"scatterpolar\":[{\"marker\":{\"colorbar\":{\"outlinewidth\":0,\"ticks\":\"\"}},\"type\":\"scatterpolar\"}],\"scatterpolargl\":[{\"marker\":{\"colorbar\":{\"outlinewidth\":0,\"ticks\":\"\"}},\"type\":\"scatterpolargl\"}],\"scatterternary\":[{\"marker\":{\"colorbar\":{\"outlinewidth\":0,\"ticks\":\"\"}},\"type\":\"scatterternary\"}],\"surface\":[{\"colorbar\":{\"outlinewidth\":0,\"ticks\":\"\"},\"colorscale\":[[0.0,\"#0d0887\"],[0.1111111111111111,\"#46039f\"],[0.2222222222222222,\"#7201a8\"],[0.3333333333333333,\"#9c179e\"],[0.4444444444444444,\"#bd3786\"],[0.5555555555555556,\"#d8576b\"],[0.6666666666666666,\"#ed7953\"],[0.7777777777777778,\"#fb9f3a\"],[0.8888888888888888,\"#fdca26\"],[1.0,\"#f0f921\"]],\"type\":\"surface\"}],\"table\":[{\"cells\":{\"fill\":{\"color\":\"#EBF0F8\"},\"line\":{\"color\":\"white\"}},\"header\":{\"fill\":{\"color\":\"#C8D4E3\"},\"line\":{\"color\":\"white\"}},\"type\":\"table\"}]},\"layout\":{\"annotationdefaults\":{\"arrowcolor\":\"#2a3f5f\",\"arrowhead\":0,\"arrowwidth\":1},\"autotypenumbers\":\"strict\",\"coloraxis\":{\"colorbar\":{\"outlinewidth\":0,\"ticks\":\"\"}},\"colorscale\":{\"diverging\":[[0,\"#8e0152\"],[0.1,\"#c51b7d\"],[0.2,\"#de77ae\"],[0.3,\"#f1b6da\"],[0.4,\"#fde0ef\"],[0.5,\"#f7f7f7\"],[0.6,\"#e6f5d0\"],[0.7,\"#b8e186\"],[0.8,\"#7fbc41\"],[0.9,\"#4d9221\"],[1,\"#276419\"]],\"sequential\":[[0.0,\"#0d0887\"],[0.1111111111111111,\"#46039f\"],[0.2222222222222222,\"#7201a8\"],[0.3333333333333333,\"#9c179e\"],[0.4444444444444444,\"#bd3786\"],[0.5555555555555556,\"#d8576b\"],[0.6666666666666666,\"#ed7953\"],[0.7777777777777778,\"#fb9f3a\"],[0.8888888888888888,\"#fdca26\"],[1.0,\"#f0f921\"]],\"sequentialminus\":[[0.0,\"#0d0887\"],[0.1111111111111111,\"#46039f\"],[0.2222222222222222,\"#7201a8\"],[0.3333333333333333,\"#9c179e\"],[0.4444444444444444,\"#bd3786\"],[0.5555555555555556,\"#d8576b\"],[0.6666666666666666,\"#ed7953\"],[0.7777777777777778,\"#fb9f3a\"],[0.8888888888888888,\"#fdca26\"],[1.0,\"#f0f921\"]]},\"colorway\":[\"#636efa\",\"#EF553B\",\"#00cc96\",\"#ab63fa\",\"#FFA15A\",\"#19d3f3\",\"#FF6692\",\"#B6E880\",\"#FF97FF\",\"#FECB52\"],\"font\":{\"color\":\"#2a3f5f\"},\"geo\":{\"bgcolor\":\"white\",\"lakecolor\":\"white\",\"landcolor\":\"#E5ECF6\",\"showlakes\":true,\"showland\":true,\"subunitcolor\":\"white\"},\"hoverlabel\":{\"align\":\"left\"},\"hovermode\":\"closest\",\"mapbox\":{\"style\":\"light\"},\"paper_bgcolor\":\"white\",\"plot_bgcolor\":\"#E5ECF6\",\"polar\":{\"angularaxis\":{\"gridcolor\":\"white\",\"linecolor\":\"white\",\"ticks\":\"\"},\"bgcolor\":\"#E5ECF6\",\"radialaxis\":{\"gridcolor\":\"white\",\"linecolor\":\"white\",\"ticks\":\"\"}},\"scene\":{\"xaxis\":{\"backgroundcolor\":\"#E5ECF6\",\"gridcolor\":\"white\",\"gridwidth\":2,\"linecolor\":\"white\",\"showbackground\":true,\"ticks\":\"\",\"zerolinecolor\":\"white\"},\"yaxis\":{\"backgroundcolor\":\"#E5ECF6\",\"gridcolor\":\"white\",\"gridwidth\":2,\"linecolor\":\"white\",\"showbackground\":true,\"ticks\":\"\",\"zerolinecolor\":\"white\"},\"zaxis\":{\"backgroundcolor\":\"#E5ECF6\",\"gridcolor\":\"white\",\"gridwidth\":2,\"linecolor\":\"white\",\"showbackground\":true,\"ticks\":\"\",\"zerolinecolor\":\"white\"}},\"shapedefaults\":{\"line\":{\"color\":\"#2a3f5f\"}},\"ternary\":{\"aaxis\":{\"gridcolor\":\"white\",\"linecolor\":\"white\",\"ticks\":\"\"},\"baxis\":{\"gridcolor\":\"white\",\"linecolor\":\"white\",\"ticks\":\"\"},\"bgcolor\":\"#E5ECF6\",\"caxis\":{\"gridcolor\":\"white\",\"linecolor\":\"white\",\"ticks\":\"\"}},\"title\":{\"x\":0.05},\"xaxis\":{\"automargin\":true,\"gridcolor\":\"white\",\"linecolor\":\"white\",\"ticks\":\"\",\"title\":{\"standoff\":15},\"zerolinecolor\":\"white\",\"zerolinewidth\":2},\"yaxis\":{\"automargin\":true,\"gridcolor\":\"white\",\"linecolor\":\"white\",\"ticks\":\"\",\"title\":{\"standoff\":15},\"zerolinecolor\":\"white\",\"zerolinewidth\":2}}},\"title\":{\"text\":\"Aceleraci\\u00f3n de casos - promedio m\\u00f3vil 14 d\\u00edas (l\\u00ednea) - 3 d\\u00edas (barras) - Cuba\"},\"xaxis\":{\"anchor\":\"y\",\"domain\":[0.0,0.94]},\"yaxis\":{\"anchor\":\"x\",\"domain\":[0.0,1.0],\"rangemode\":\"tozero\",\"tickfont\":{\"color\":\"MediumSlateBlue\"},\"title\":{\"text\":\"Promedio 14d - L\\u00ednea\"},\"zerolinecolor\":\"#969696\",\"zerolinewidth\":2},\"yaxis2\":{\"anchor\":\"x\",\"overlaying\":\"y\",\"rangemode\":\"tozero\",\"side\":\"right\",\"tickfont\":{\"color\":\"DarkOrange\"},\"title\":{\"text\":\"Promedio 3d - Barras\"}},\"yaxis3\":{\"overlaying\":\"y\",\"rangemode\":\"tozero\",\"side\":\"right\"}},                        {\"responsive\": true}                    ).then(function(){\n                            \nvar gd = document.getElementById('3799413b-42aa-402f-b527-041b19342f42');\nvar x = new MutationObserver(function (mutations, observer) {{\n        var display = window.getComputedStyle(gd).display;\n        if (!display || display === 'none') {{\n            console.log([gd, 'removed!']);\n            Plotly.purge(gd);\n            observer.disconnect();\n        }}\n}});\n\n// Listen for the removal of the full notebook cells\nvar notebookContainer = gd.closest('#notebook-container');\nif (notebookContainer) {{\n    x.observe(notebookContainer, {childList: true});\n}}\n\n// Listen for the clearing of the current output cell\nvar outputEl = gd.closest('.output');\nif (outputEl) {{\n    x.observe(outputEl, {childList: true});\n}}\n\n                        })                };                            </script>        </div>\n</body>\n</html>"
     },
     "metadata": {},
     "output_type": "display_data"
    }
   ],
   "execution_count": null
  },
  {
   "cell_type": "markdown",
   "source": "<a style='text-decoration:none;line-height:16px;display:flex;color:#5B5B62;padding:10px;justify-content:end;' href='https://deepnote.com?utm_source=created-in-deepnote-cell&projectId=331fe212-3056-4b5e-ab8f-59cd76bdab29' target=\"_blank\">\n<img alt='Created in deepnote.com' style='display:inline;max-height:16px;margin:0px;margin-right:7.5px;' src='data:image/svg+xml;base64,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' > </img>\nCreated in <span style='font-weight:600;margin-left:4px;'>Deepnote</span></a>",
   "metadata": {
    "tags": [],
    "created_in_deepnote_cell": true,
    "deepnote_cell_type": "markdown"
   }
  }
 ],
 "nbformat": 4,
 "nbformat_minor": 2,
 "metadata": {
  "language_info": {
   "codemirror_mode": {
    "name": "ipython",
    "version": 3
   },
   "file_extension": ".py",
   "mimetype": "text/x-python",
   "name": "python",
   "nbconvert_exporter": "python",
   "pygments_lexer": "ipython3",
   "version": "3.9.5"
  },
  "orig_nbformat": 2,
  "kernelspec": {
   "name": "python3",
   "display_name": "Python 3.9.5 64-bit"
  },
  "interpreter": {
   "hash": "63fd5069d213b44bf678585dea6b12cceca9941eaf7f819626cde1f2670de90d"
  },
  "deepnote_notebook_id": "c2b68b75-c0e3-4094-9c66-4d5dd388eab1",
  "deepnote": {},
  "deepnote_execution_queue": []
 }
}