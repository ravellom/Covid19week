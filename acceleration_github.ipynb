{
 "cells": [
  {
   "cell_type": "code",
   "metadata": {
    "cell_id": "00000-7515518f-ebbd-4474-b882-220be6c1073f",
    "deepnote_to_be_reexecuted": false,
    "source_hash": "34879368",
    "execution_start": 1632846796024,
    "execution_millis": 396,
    "deepnote_cell_type": "code"
   },
   "source": "import pandas as pd\nimport datetime\nimport plotly\nimport plotly.express as px\nimport plotly.graph_objects as go\n\n#chartTemplate = 'plotly_dark'\nchartTemplate = 'plotly_white'",
   "execution_count": null,
   "outputs": []
  },
  {
   "cell_type": "code",
   "metadata": {
    "tags": [],
    "cell_id": "00001-9517021b-ce9b-43c9-9fd7-bf0d07539ea3",
    "deepnote_to_be_reexecuted": false,
    "source_hash": "d771d1e9",
    "execution_start": 1632846796423,
    "execution_millis": 1467,
    "deepnote_cell_type": "code"
   },
   "source": "# Datos de Cuba de https://ourworldindata.org/covid-cases\n\n#casos = pd.read_csv(\"owid-covid-data.csv\")\ncasos = pd.read_csv(\"https://raw.githubusercontent.com/owid/covid-19-data/master/public/data/owid-covid-data.csv\")\n\ncuba0 = casos[casos[\"location\"] == \"Cuba\"][[\"date\",\"new_cases\"]]\ncuba = cuba0.reset_index().rename(columns={'date': 'Date','new_cases':'N'}).sort_values(by='Date', ascending=True)\ncuba",
   "execution_count": null,
   "outputs": [
    {
     "output_type": "execute_result",
     "execution_count": 2,
     "data": {
      "application/vnd.deepnote.dataframe.v2+json": {
       "row_count": 565,
       "column_count": 3,
       "columns": [
        {
         "name": "index",
         "dtype": "int64",
         "stats": {
          "unique_count": 565,
          "nan_count": 0,
          "min": "26642",
          "max": "27206",
          "histogram": [
           {
            "bin_start": 26642,
            "bin_end": 26698.4,
            "count": 57
           },
           {
            "bin_start": 26698.4,
            "bin_end": 26754.8,
            "count": 56
           },
           {
            "bin_start": 26754.8,
            "bin_end": 26811.2,
            "count": 57
           },
           {
            "bin_start": 26811.2,
            "bin_end": 26867.6,
            "count": 56
           },
           {
            "bin_start": 26867.6,
            "bin_end": 26924,
            "count": 56
           },
           {
            "bin_start": 26924,
            "bin_end": 26980.4,
            "count": 57
           },
           {
            "bin_start": 26980.4,
            "bin_end": 27036.8,
            "count": 56
           },
           {
            "bin_start": 27036.8,
            "bin_end": 27093.2,
            "count": 57
           },
           {
            "bin_start": 27093.2,
            "bin_end": 27149.6,
            "count": 56
           },
           {
            "bin_start": 27149.6,
            "bin_end": 27206,
            "count": 57
           }
          ]
         }
        },
        {
         "name": "Date",
         "dtype": "object",
         "stats": {
          "unique_count": 565,
          "nan_count": 0,
          "categories": [
           {
            "name": "2020-03-12",
            "count": 1
           },
           {
            "name": "2020-03-13",
            "count": 1
           },
           {
            "name": "563 others",
            "count": 563
           }
          ]
         }
        },
        {
         "name": "N",
         "dtype": "float64",
         "stats": {
          "unique_count": 354,
          "nan_count": 0,
          "min": "0.0",
          "max": "9907.0",
          "histogram": [
           {
            "bin_start": 0,
            "bin_end": 990.7,
            "count": 387
           },
           {
            "bin_start": 990.7,
            "bin_end": 1981.4,
            "count": 82
           },
           {
            "bin_start": 1981.4,
            "bin_end": 2972.1000000000004,
            "count": 7
           },
           {
            "bin_start": 2972.1000000000004,
            "bin_end": 3962.8,
            "count": 8
           },
           {
            "bin_start": 3962.8,
            "bin_end": 4953.5,
            "count": 0
           },
           {
            "bin_start": 4953.5,
            "bin_end": 5944.200000000001,
            "count": 1
           },
           {
            "bin_start": 5944.200000000001,
            "bin_end": 6934.900000000001,
            "count": 21
           },
           {
            "bin_start": 6934.900000000001,
            "bin_end": 7925.6,
            "count": 16
           },
           {
            "bin_start": 7925.6,
            "bin_end": 8916.300000000001,
            "count": 27
           },
           {
            "bin_start": 8916.300000000001,
            "bin_end": 9907,
            "count": 16
           }
          ]
         }
        },
        {
         "name": "_deepnote_index_column",
         "dtype": "int64"
        }
       ],
       "rows_top": [
        {
         "index": 26642,
         "Date": "2020-03-12",
         "N": 3,
         "_deepnote_index_column": 0
        },
        {
         "index": 26643,
         "Date": "2020-03-13",
         "N": 1,
         "_deepnote_index_column": 1
        },
        {
         "index": 26644,
         "Date": "2020-03-14",
         "N": 0,
         "_deepnote_index_column": 2
        },
        {
         "index": 26645,
         "Date": "2020-03-15",
         "N": 0,
         "_deepnote_index_column": 3
        },
        {
         "index": 26646,
         "Date": "2020-03-16",
         "N": 0,
         "_deepnote_index_column": 4
        },
        {
         "index": 26647,
         "Date": "2020-03-17",
         "N": 1,
         "_deepnote_index_column": 5
        },
        {
         "index": 26648,
         "Date": "2020-03-18",
         "N": 2,
         "_deepnote_index_column": 6
        },
        {
         "index": 26649,
         "Date": "2020-03-19",
         "N": 4,
         "_deepnote_index_column": 7
        },
        {
         "index": 26650,
         "Date": "2020-03-20",
         "N": 5,
         "_deepnote_index_column": 8
        },
        {
         "index": 26651,
         "Date": "2020-03-21",
         "N": 5,
         "_deepnote_index_column": 9
        },
        {
         "index": 26652,
         "Date": "2020-03-22",
         "N": 14,
         "_deepnote_index_column": 10
        },
        {
         "index": 26653,
         "Date": "2020-03-23",
         "N": 5,
         "_deepnote_index_column": 11
        },
        {
         "index": 26654,
         "Date": "2020-03-24",
         "N": 8,
         "_deepnote_index_column": 12
        },
        {
         "index": 26655,
         "Date": "2020-03-25",
         "N": 9,
         "_deepnote_index_column": 13
        },
        {
         "index": 26656,
         "Date": "2020-03-26",
         "N": 10,
         "_deepnote_index_column": 14
        },
        {
         "index": 26657,
         "Date": "2020-03-27",
         "N": 13,
         "_deepnote_index_column": 15
        },
        {
         "index": 26658,
         "Date": "2020-03-28",
         "N": 39,
         "_deepnote_index_column": 16
        },
        {
         "index": 26659,
         "Date": "2020-03-29",
         "N": 20,
         "_deepnote_index_column": 17
        },
        {
         "index": 26660,
         "Date": "2020-03-30",
         "N": 31,
         "_deepnote_index_column": 18
        },
        {
         "index": 26661,
         "Date": "2020-03-31",
         "N": 16,
         "_deepnote_index_column": 19
        },
        {
         "index": 26662,
         "Date": "2020-04-01",
         "N": 26,
         "_deepnote_index_column": 20
        },
        {
         "index": 26663,
         "Date": "2020-04-02",
         "N": 21,
         "_deepnote_index_column": 21
        },
        {
         "index": 26664,
         "Date": "2020-04-03",
         "N": 36,
         "_deepnote_index_column": 22
        },
        {
         "index": 26665,
         "Date": "2020-04-04",
         "N": 19,
         "_deepnote_index_column": 23
        },
        {
         "index": 26666,
         "Date": "2020-04-05",
         "N": 32,
         "_deepnote_index_column": 24
        },
        {
         "index": 26667,
         "Date": "2020-04-06",
         "N": 30,
         "_deepnote_index_column": 25
        },
        {
         "index": 26668,
         "Date": "2020-04-07",
         "N": 46,
         "_deepnote_index_column": 26
        },
        {
         "index": 26669,
         "Date": "2020-04-08",
         "N": 61,
         "_deepnote_index_column": 27
        },
        {
         "index": 26670,
         "Date": "2020-04-09",
         "N": 58,
         "_deepnote_index_column": 28
        },
        {
         "index": 26671,
         "Date": "2020-04-10",
         "N": 49,
         "_deepnote_index_column": 29
        },
        {
         "index": 26672,
         "Date": "2020-04-11",
         "N": 56,
         "_deepnote_index_column": 30
        },
        {
         "index": 26673,
         "Date": "2020-04-12",
         "N": 49,
         "_deepnote_index_column": 31
        },
        {
         "index": 26674,
         "Date": "2020-04-13",
         "N": 57,
         "_deepnote_index_column": 32
        },
        {
         "index": 26675,
         "Date": "2020-04-14",
         "N": 40,
         "_deepnote_index_column": 33
        },
        {
         "index": 26676,
         "Date": "2020-04-15",
         "N": 48,
         "_deepnote_index_column": 34
        },
        {
         "index": 26677,
         "Date": "2020-04-16",
         "N": 48,
         "_deepnote_index_column": 35
        },
        {
         "index": 26678,
         "Date": "2020-04-17",
         "N": 61,
         "_deepnote_index_column": 36
        },
        {
         "index": 26679,
         "Date": "2020-04-18",
         "N": 63,
         "_deepnote_index_column": 37
        },
        {
         "index": 26680,
         "Date": "2020-04-19",
         "N": 49,
         "_deepnote_index_column": 38
        },
        {
         "index": 26681,
         "Date": "2020-04-20",
         "N": 52,
         "_deepnote_index_column": 39
        },
        {
         "index": 26682,
         "Date": "2020-04-21",
         "N": 50,
         "_deepnote_index_column": 40
        },
        {
         "index": 26683,
         "Date": "2020-04-22",
         "N": 52,
         "_deepnote_index_column": 41
        },
        {
         "index": 26684,
         "Date": "2020-04-23",
         "N": 46,
         "_deepnote_index_column": 42
        },
        {
         "index": 26685,
         "Date": "2020-04-24",
         "N": 50,
         "_deepnote_index_column": 43
        },
        {
         "index": 26686,
         "Date": "2020-04-25",
         "N": 52,
         "_deepnote_index_column": 44
        },
        {
         "index": 26687,
         "Date": "2020-04-26",
         "N": 32,
         "_deepnote_index_column": 45
        },
        {
         "index": 26688,
         "Date": "2020-04-27",
         "N": 20,
         "_deepnote_index_column": 46
        },
        {
         "index": 26689,
         "Date": "2020-04-28",
         "N": 48,
         "_deepnote_index_column": 47
        },
        {
         "index": 26690,
         "Date": "2020-04-29",
         "N": 30,
         "_deepnote_index_column": 48
        },
        {
         "index": 26691,
         "Date": "2020-04-30",
         "N": 34,
         "_deepnote_index_column": 49
        },
        {
         "index": 26692,
         "Date": "2020-05-01",
         "N": 36,
         "_deepnote_index_column": 50
        },
        {
         "index": 26693,
         "Date": "2020-05-02",
         "N": 74,
         "_deepnote_index_column": 51
        },
        {
         "index": 26694,
         "Date": "2020-05-03",
         "N": 38,
         "_deepnote_index_column": 52
        },
        {
         "index": 26695,
         "Date": "2020-05-04",
         "N": 19,
         "_deepnote_index_column": 53
        },
        {
         "index": 26696,
         "Date": "2020-05-05",
         "N": 17,
         "_deepnote_index_column": 54
        },
        {
         "index": 26697,
         "Date": "2020-05-06",
         "N": 18,
         "_deepnote_index_column": 55
        },
        {
         "index": 26698,
         "Date": "2020-05-07",
         "N": 26,
         "_deepnote_index_column": 56
        },
        {
         "index": 26699,
         "Date": "2020-05-08",
         "N": 12,
         "_deepnote_index_column": 57
        },
        {
         "index": 26700,
         "Date": "2020-05-09",
         "N": 13,
         "_deepnote_index_column": 58
        },
        {
         "index": 26701,
         "Date": "2020-05-10",
         "N": 12,
         "_deepnote_index_column": 59
        },
        {
         "index": 26702,
         "Date": "2020-05-11",
         "N": 17,
         "_deepnote_index_column": 60
        },
        {
         "index": 26703,
         "Date": "2020-05-12",
         "N": 21,
         "_deepnote_index_column": 61
        },
        {
         "index": 26704,
         "Date": "2020-05-13",
         "N": 6,
         "_deepnote_index_column": 62
        },
        {
         "index": 26705,
         "Date": "2020-05-14",
         "N": 20,
         "_deepnote_index_column": 63
        },
        {
         "index": 26706,
         "Date": "2020-05-15",
         "N": 10,
         "_deepnote_index_column": 64
        },
        {
         "index": 26707,
         "Date": "2020-05-16",
         "N": 22,
         "_deepnote_index_column": 65
        },
        {
         "index": 26708,
         "Date": "2020-05-17",
         "N": 10,
         "_deepnote_index_column": 66
        },
        {
         "index": 26709,
         "Date": "2020-05-18",
         "N": 9,
         "_deepnote_index_column": 67
        },
        {
         "index": 26710,
         "Date": "2020-05-19",
         "N": 6,
         "_deepnote_index_column": 68
        },
        {
         "index": 26711,
         "Date": "2020-05-20",
         "N": 13,
         "_deepnote_index_column": 69
        },
        {
         "index": 26712,
         "Date": "2020-05-21",
         "N": 8,
         "_deepnote_index_column": 70
        },
        {
         "index": 26713,
         "Date": "2020-05-22",
         "N": 8,
         "_deepnote_index_column": 71
        },
        {
         "index": 26714,
         "Date": "2020-05-23",
         "N": 15,
         "_deepnote_index_column": 72
        },
        {
         "index": 26715,
         "Date": "2020-05-24",
         "N": 10,
         "_deepnote_index_column": 73
        },
        {
         "index": 26716,
         "Date": "2020-05-25",
         "N": 6,
         "_deepnote_index_column": 74
        },
        {
         "index": 26717,
         "Date": "2020-05-26",
         "N": 16,
         "_deepnote_index_column": 75
        },
        {
         "index": 26718,
         "Date": "2020-05-27",
         "N": 11,
         "_deepnote_index_column": 76
        },
        {
         "index": 26719,
         "Date": "2020-05-28",
         "N": 9,
         "_deepnote_index_column": 77
        },
        {
         "index": 26720,
         "Date": "2020-05-29",
         "N": 22,
         "_deepnote_index_column": 78
        },
        {
         "index": 26721,
         "Date": "2020-05-30",
         "N": 20,
         "_deepnote_index_column": 79
        },
        {
         "index": 26722,
         "Date": "2020-05-31",
         "N": 20,
         "_deepnote_index_column": 80
        },
        {
         "index": 26723,
         "Date": "2020-06-01",
         "N": 38,
         "_deepnote_index_column": 81
        },
        {
         "index": 26724,
         "Date": "2020-06-02",
         "N": 9,
         "_deepnote_index_column": 82
        },
        {
         "index": 26725,
         "Date": "2020-06-03",
         "N": 15,
         "_deepnote_index_column": 83
        },
        {
         "index": 26726,
         "Date": "2020-06-04",
         "N": 12,
         "_deepnote_index_column": 84
        },
        {
         "index": 26727,
         "Date": "2020-06-05",
         "N": 14,
         "_deepnote_index_column": 85
        },
        {
         "index": 26728,
         "Date": "2020-06-06",
         "N": 40,
         "_deepnote_index_column": 86
        },
        {
         "index": 26729,
         "Date": "2020-06-07",
         "N": 18,
         "_deepnote_index_column": 87
        },
        {
         "index": 26730,
         "Date": "2020-06-08",
         "N": 9,
         "_deepnote_index_column": 88
        },
        {
         "index": 26731,
         "Date": "2020-06-09",
         "N": 5,
         "_deepnote_index_column": 89
        },
        {
         "index": 26732,
         "Date": "2020-06-10",
         "N": 6,
         "_deepnote_index_column": 90
        },
        {
         "index": 26733,
         "Date": "2020-06-11",
         "N": 8,
         "_deepnote_index_column": 91
        },
        {
         "index": 26734,
         "Date": "2020-06-12",
         "N": 14,
         "_deepnote_index_column": 92
        },
        {
         "index": 26735,
         "Date": "2020-06-13",
         "N": 5,
         "_deepnote_index_column": 93
        },
        {
         "index": 26736,
         "Date": "2020-06-14",
         "N": 10,
         "_deepnote_index_column": 94
        },
        {
         "index": 26737,
         "Date": "2020-06-15",
         "N": 14,
         "_deepnote_index_column": 95
        },
        {
         "index": 26738,
         "Date": "2020-06-16",
         "N": 11,
         "_deepnote_index_column": 96
        },
        {
         "index": 26739,
         "Date": "2020-06-17",
         "N": 7,
         "_deepnote_index_column": 97
        },
        {
         "index": 26740,
         "Date": "2020-06-18",
         "N": 15,
         "_deepnote_index_column": 98
        },
        {
         "index": 26741,
         "Date": "2020-06-19",
         "N": 10,
         "_deepnote_index_column": 99
        },
        {
         "index": 26742,
         "Date": "2020-06-20",
         "N": 4,
         "_deepnote_index_column": 100
        },
        {
         "index": 26743,
         "Date": "2020-06-21",
         "N": 3,
         "_deepnote_index_column": 101
        },
        {
         "index": 26744,
         "Date": "2020-06-22",
         "N": 3,
         "_deepnote_index_column": 102
        },
        {
         "index": 26745,
         "Date": "2020-06-23",
         "N": 3,
         "_deepnote_index_column": 103
        },
        {
         "index": 26746,
         "Date": "2020-06-24",
         "N": 1,
         "_deepnote_index_column": 104
        },
        {
         "index": 26747,
         "Date": "2020-06-25",
         "N": 2,
         "_deepnote_index_column": 105
        },
        {
         "index": 26748,
         "Date": "2020-06-26",
         "N": 4,
         "_deepnote_index_column": 106
        },
        {
         "index": 26749,
         "Date": "2020-06-27",
         "N": 5,
         "_deepnote_index_column": 107
        },
        {
         "index": 26750,
         "Date": "2020-06-28",
         "N": 2,
         "_deepnote_index_column": 108
        },
        {
         "index": 26751,
         "Date": "2020-06-29",
         "N": 8,
         "_deepnote_index_column": 109
        },
        {
         "index": 26752,
         "Date": "2020-06-30",
         "N": 1,
         "_deepnote_index_column": 110
        },
        {
         "index": 26753,
         "Date": "2020-07-01",
         "N": 7,
         "_deepnote_index_column": 111
        },
        {
         "index": 26754,
         "Date": "2020-07-02",
         "N": 5,
         "_deepnote_index_column": 112
        },
        {
         "index": 26755,
         "Date": "2020-07-03",
         "N": 8,
         "_deepnote_index_column": 113
        },
        {
         "index": 26756,
         "Date": "2020-07-04",
         "N": 8,
         "_deepnote_index_column": 114
        },
        {
         "index": 26757,
         "Date": "2020-07-05",
         "N": 3,
         "_deepnote_index_column": 115
        },
        {
         "index": 26758,
         "Date": "2020-07-06",
         "N": 8,
         "_deepnote_index_column": 116
        },
        {
         "index": 26759,
         "Date": "2020-07-07",
         "N": 15,
         "_deepnote_index_column": 117
        },
        {
         "index": 26760,
         "Date": "2020-07-08",
         "N": 4,
         "_deepnote_index_column": 118
        },
        {
         "index": 26761,
         "Date": "2020-07-09",
         "N": 4,
         "_deepnote_index_column": 119
        },
        {
         "index": 26762,
         "Date": "2020-07-10",
         "N": 10,
         "_deepnote_index_column": 120
        },
        {
         "index": 26763,
         "Date": "2020-07-11",
         "N": 7,
         "_deepnote_index_column": 121
        },
        {
         "index": 26764,
         "Date": "2020-07-12",
         "N": 6,
         "_deepnote_index_column": 122
        },
        {
         "index": 26765,
         "Date": "2020-07-13",
         "N": 2,
         "_deepnote_index_column": 123
        },
        {
         "index": 26766,
         "Date": "2020-07-14",
         "N": 4,
         "_deepnote_index_column": 124
        },
        {
         "index": 26767,
         "Date": "2020-07-15",
         "N": 6,
         "_deepnote_index_column": 125
        },
        {
         "index": 26768,
         "Date": "2020-07-16",
         "N": 2,
         "_deepnote_index_column": 126
        },
        {
         "index": 26769,
         "Date": "2020-07-17",
         "N": 4,
         "_deepnote_index_column": 127
        },
        {
         "index": 26770,
         "Date": "2020-07-18",
         "N": 1,
         "_deepnote_index_column": 128
        },
        {
         "index": 26771,
         "Date": "2020-07-19",
         "N": 1,
         "_deepnote_index_column": 129
        },
        {
         "index": 26772,
         "Date": "2020-07-20",
         "N": 0,
         "_deepnote_index_column": 130
        },
        {
         "index": 26773,
         "Date": "2020-07-21",
         "N": 3,
         "_deepnote_index_column": 131
        },
        {
         "index": 26774,
         "Date": "2020-07-22",
         "N": 13,
         "_deepnote_index_column": 132
        },
        {
         "index": 26775,
         "Date": "2020-07-23",
         "N": 4,
         "_deepnote_index_column": 133
        },
        {
         "index": 26776,
         "Date": "2020-07-24",
         "N": 3,
         "_deepnote_index_column": 134
        },
        {
         "index": 26777,
         "Date": "2020-07-25",
         "N": 9,
         "_deepnote_index_column": 135
        },
        {
         "index": 26778,
         "Date": "2020-07-26",
         "N": 17,
         "_deepnote_index_column": 136
        },
        {
         "index": 26779,
         "Date": "2020-07-27",
         "N": 37,
         "_deepnote_index_column": 137
        },
        {
         "index": 26780,
         "Date": "2020-07-28",
         "N": 23,
         "_deepnote_index_column": 138
        },
        {
         "index": 26781,
         "Date": "2020-07-29",
         "N": 33,
         "_deepnote_index_column": 139
        },
        {
         "index": 26782,
         "Date": "2020-07-30",
         "N": 9,
         "_deepnote_index_column": 140
        },
        {
         "index": 26783,
         "Date": "2020-07-31",
         "N": 11,
         "_deepnote_index_column": 141
        },
        {
         "index": 26784,
         "Date": "2020-08-01",
         "N": 25,
         "_deepnote_index_column": 142
        },
        {
         "index": 26785,
         "Date": "2020-08-02",
         "N": 13,
         "_deepnote_index_column": 143
        },
        {
         "index": 26786,
         "Date": "2020-08-03",
         "N": 24,
         "_deepnote_index_column": 144
        },
        {
         "index": 26787,
         "Date": "2020-08-04",
         "N": 31,
         "_deepnote_index_column": 145
        },
        {
         "index": 26788,
         "Date": "2020-08-05",
         "N": 25,
         "_deepnote_index_column": 146
        },
        {
         "index": 26789,
         "Date": "2020-08-06",
         "N": 49,
         "_deepnote_index_column": 147
        },
        {
         "index": 26790,
         "Date": "2020-08-07",
         "N": 54,
         "_deepnote_index_column": 148
        },
        {
         "index": 26791,
         "Date": "2020-08-08",
         "N": 59,
         "_deepnote_index_column": 149
        },
        {
         "index": 26792,
         "Date": "2020-08-09",
         "N": 65,
         "_deepnote_index_column": 150
        },
        {
         "index": 26793,
         "Date": "2020-08-10",
         "N": 93,
         "_deepnote_index_column": 151
        },
        {
         "index": 26794,
         "Date": "2020-08-11",
         "N": 47,
         "_deepnote_index_column": 152
        },
        {
         "index": 26795,
         "Date": "2020-08-12",
         "N": 35,
         "_deepnote_index_column": 153
        },
        {
         "index": 26796,
         "Date": "2020-08-13",
         "N": 46,
         "_deepnote_index_column": 154
        },
        {
         "index": 26797,
         "Date": "2020-08-14",
         "N": 55,
         "_deepnote_index_column": 155
        },
        {
         "index": 26798,
         "Date": "2020-08-15",
         "N": 63,
         "_deepnote_index_column": 156
        },
        {
         "index": 26799,
         "Date": "2020-08-16",
         "N": 24,
         "_deepnote_index_column": 157
        },
        {
         "index": 26800,
         "Date": "2020-08-17",
         "N": 48,
         "_deepnote_index_column": 158
        },
        {
         "index": 26801,
         "Date": "2020-08-18",
         "N": 44,
         "_deepnote_index_column": 159
        },
        {
         "index": 26802,
         "Date": "2020-08-19",
         "N": 74,
         "_deepnote_index_column": 160
        },
        {
         "index": 26803,
         "Date": "2020-08-20",
         "N": 83,
         "_deepnote_index_column": 161
        },
        {
         "index": 26804,
         "Date": "2020-08-21",
         "N": 17,
         "_deepnote_index_column": 162
        },
        {
         "index": 26805,
         "Date": "2020-08-22",
         "N": 35,
         "_deepnote_index_column": 163
        },
        {
         "index": 26806,
         "Date": "2020-08-23",
         "N": 65,
         "_deepnote_index_column": 164
        },
        {
         "index": 26807,
         "Date": "2020-08-24",
         "N": 35,
         "_deepnote_index_column": 165
        }
       ],
       "rows_bottom": [
        {
         "index": 27040,
         "Date": "2021-04-14",
         "N": 959,
         "_deepnote_index_column": 398
        },
        {
         "index": 27041,
         "Date": "2021-04-15",
         "N": 1004,
         "_deepnote_index_column": 399
        },
        {
         "index": 27042,
         "Date": "2021-04-16",
         "N": 1040,
         "_deepnote_index_column": 400
        },
        {
         "index": 27043,
         "Date": "2021-04-17",
         "N": 1026,
         "_deepnote_index_column": 401
        },
        {
         "index": 27044,
         "Date": "2021-04-18",
         "N": 1037,
         "_deepnote_index_column": 402
        },
        {
         "index": 27045,
         "Date": "2021-04-19",
         "N": 1060,
         "_deepnote_index_column": 403
        },
        {
         "index": 27046,
         "Date": "2021-04-20",
         "N": 1183,
         "_deepnote_index_column": 404
        },
        {
         "index": 27047,
         "Date": "2021-04-21",
         "N": 1006,
         "_deepnote_index_column": 405
        },
        {
         "index": 27048,
         "Date": "2021-04-22",
         "N": 1207,
         "_deepnote_index_column": 406
        },
        {
         "index": 27049,
         "Date": "2021-04-23",
         "N": 1241,
         "_deepnote_index_column": 407
        },
        {
         "index": 27050,
         "Date": "2021-04-24",
         "N": 1110,
         "_deepnote_index_column": 408
        },
        {
         "index": 27051,
         "Date": "2021-04-25",
         "N": 1185,
         "_deepnote_index_column": 409
        },
        {
         "index": 27052,
         "Date": "2021-04-26",
         "N": 938,
         "_deepnote_index_column": 410
        },
        {
         "index": 27053,
         "Date": "2021-04-27",
         "N": 1083,
         "_deepnote_index_column": 411
        },
        {
         "index": 27054,
         "Date": "2021-04-28",
         "N": 988,
         "_deepnote_index_column": 412
        },
        {
         "index": 27055,
         "Date": "2021-04-29",
         "N": 1149,
         "_deepnote_index_column": 413
        },
        {
         "index": 27056,
         "Date": "2021-04-30",
         "N": 1046,
         "_deepnote_index_column": 414
        },
        {
         "index": 27057,
         "Date": "2021-05-01",
         "N": 915,
         "_deepnote_index_column": 415
        },
        {
         "index": 27058,
         "Date": "2021-05-02",
         "N": 1071,
         "_deepnote_index_column": 416
        },
        {
         "index": 27059,
         "Date": "2021-05-03",
         "N": 932,
         "_deepnote_index_column": 417
        },
        {
         "index": 27060,
         "Date": "2021-05-04",
         "N": 1019,
         "_deepnote_index_column": 418
        },
        {
         "index": 27061,
         "Date": "2021-05-05",
         "N": 1010,
         "_deepnote_index_column": 419
        },
        {
         "index": 27062,
         "Date": "2021-05-06",
         "N": 1060,
         "_deepnote_index_column": 420
        },
        {
         "index": 27063,
         "Date": "2021-05-07",
         "N": 1162,
         "_deepnote_index_column": 421
        },
        {
         "index": 27064,
         "Date": "2021-05-08",
         "N": 1036,
         "_deepnote_index_column": 422
        },
        {
         "index": 27065,
         "Date": "2021-05-09",
         "N": 1069,
         "_deepnote_index_column": 423
        },
        {
         "index": 27066,
         "Date": "2021-05-10",
         "N": 1116,
         "_deepnote_index_column": 424
        },
        {
         "index": 27067,
         "Date": "2021-05-11",
         "N": 1071,
         "_deepnote_index_column": 425
        },
        {
         "index": 27068,
         "Date": "2021-05-12",
         "N": 1207,
         "_deepnote_index_column": 426
        },
        {
         "index": 27069,
         "Date": "2021-05-13",
         "N": 1186,
         "_deepnote_index_column": 427
        },
        {
         "index": 27070,
         "Date": "2021-05-14",
         "N": 1277,
         "_deepnote_index_column": 428
        },
        {
         "index": 27071,
         "Date": "2021-05-15",
         "N": 1383,
         "_deepnote_index_column": 429
        },
        {
         "index": 27072,
         "Date": "2021-05-16",
         "N": 1233,
         "_deepnote_index_column": 430
        },
        {
         "index": 27073,
         "Date": "2021-05-17",
         "N": 1057,
         "_deepnote_index_column": 431
        },
        {
         "index": 27074,
         "Date": "2021-05-18",
         "N": 1244,
         "_deepnote_index_column": 432
        },
        {
         "index": 27075,
         "Date": "2021-05-19",
         "N": 1339,
         "_deepnote_index_column": 433
        },
        {
         "index": 27076,
         "Date": "2021-05-20",
         "N": 1252,
         "_deepnote_index_column": 434
        },
        {
         "index": 27077,
         "Date": "2021-05-21",
         "N": 1197,
         "_deepnote_index_column": 435
        },
        {
         "index": 27078,
         "Date": "2021-05-22",
         "N": 1289,
         "_deepnote_index_column": 436
        },
        {
         "index": 27079,
         "Date": "2021-05-23",
         "N": 1221,
         "_deepnote_index_column": 437
        },
        {
         "index": 27080,
         "Date": "2021-05-24",
         "N": 1155,
         "_deepnote_index_column": 438
        },
        {
         "index": 27081,
         "Date": "2021-05-25",
         "N": 1291,
         "_deepnote_index_column": 439
        },
        {
         "index": 27082,
         "Date": "2021-05-26",
         "N": 1129,
         "_deepnote_index_column": 440
        },
        {
         "index": 27083,
         "Date": "2021-05-27",
         "N": 1102,
         "_deepnote_index_column": 441
        },
        {
         "index": 27084,
         "Date": "2021-05-28",
         "N": 1169,
         "_deepnote_index_column": 442
        },
        {
         "index": 27085,
         "Date": "2021-05-29",
         "N": 1188,
         "_deepnote_index_column": 443
        },
        {
         "index": 27086,
         "Date": "2021-05-30",
         "N": 1079,
         "_deepnote_index_column": 444
        },
        {
         "index": 27087,
         "Date": "2021-05-31",
         "N": 1100,
         "_deepnote_index_column": 445
        },
        {
         "index": 27088,
         "Date": "2021-06-01",
         "N": 1057,
         "_deepnote_index_column": 446
        },
        {
         "index": 27089,
         "Date": "2021-06-02",
         "N": 1191,
         "_deepnote_index_column": 447
        },
        {
         "index": 27090,
         "Date": "2021-06-03",
         "N": 1053,
         "_deepnote_index_column": 448
        },
        {
         "index": 27091,
         "Date": "2021-06-04",
         "N": 1129,
         "_deepnote_index_column": 449
        },
        {
         "index": 27092,
         "Date": "2021-06-05",
         "N": 1135,
         "_deepnote_index_column": 450
        },
        {
         "index": 27093,
         "Date": "2021-06-06",
         "N": 1087,
         "_deepnote_index_column": 451
        },
        {
         "index": 27094,
         "Date": "2021-06-07",
         "N": 1185,
         "_deepnote_index_column": 452
        },
        {
         "index": 27095,
         "Date": "2021-06-08",
         "N": 1156,
         "_deepnote_index_column": 453
        },
        {
         "index": 27096,
         "Date": "2021-06-09",
         "N": 1161,
         "_deepnote_index_column": 454
        },
        {
         "index": 27097,
         "Date": "2021-06-10",
         "N": 1158,
         "_deepnote_index_column": 455
        },
        {
         "index": 27098,
         "Date": "2021-06-11",
         "N": 1288,
         "_deepnote_index_column": 456
        },
        {
         "index": 27099,
         "Date": "2021-06-12",
         "N": 1372,
         "_deepnote_index_column": 457
        },
        {
         "index": 27100,
         "Date": "2021-06-13",
         "N": 1470,
         "_deepnote_index_column": 458
        },
        {
         "index": 27101,
         "Date": "2021-06-14",
         "N": 1349,
         "_deepnote_index_column": 459
        },
        {
         "index": 27102,
         "Date": "2021-06-15",
         "N": 1537,
         "_deepnote_index_column": 460
        },
        {
         "index": 27103,
         "Date": "2021-06-16",
         "N": 1403,
         "_deepnote_index_column": 461
        },
        {
         "index": 27104,
         "Date": "2021-06-17",
         "N": 1418,
         "_deepnote_index_column": 462
        },
        {
         "index": 27105,
         "Date": "2021-06-18",
         "N": 1481,
         "_deepnote_index_column": 463
        },
        {
         "index": 27106,
         "Date": "2021-06-19",
         "N": 1472,
         "_deepnote_index_column": 464
        },
        {
         "index": 27107,
         "Date": "2021-06-20",
         "N": 1436,
         "_deepnote_index_column": 465
        },
        {
         "index": 27108,
         "Date": "2021-06-21",
         "N": 1561,
         "_deepnote_index_column": 466
        },
        {
         "index": 27109,
         "Date": "2021-06-22",
         "N": 1489,
         "_deepnote_index_column": 467
        },
        {
         "index": 27110,
         "Date": "2021-06-23",
         "N": 2055,
         "_deepnote_index_column": 468
        },
        {
         "index": 27111,
         "Date": "2021-06-24",
         "N": 1880,
         "_deepnote_index_column": 469
        },
        {
         "index": 27112,
         "Date": "2021-06-25",
         "N": 2464,
         "_deepnote_index_column": 470
        },
        {
         "index": 27113,
         "Date": "2021-06-26",
         "N": 2403,
         "_deepnote_index_column": 471
        },
        {
         "index": 27114,
         "Date": "2021-06-27",
         "N": 2698,
         "_deepnote_index_column": 472
        },
        {
         "index": 27115,
         "Date": "2021-06-28",
         "N": 2589,
         "_deepnote_index_column": 473
        },
        {
         "index": 27116,
         "Date": "2021-06-29",
         "N": 3080,
         "_deepnote_index_column": 474
        },
        {
         "index": 27117,
         "Date": "2021-06-30",
         "N": 2970,
         "_deepnote_index_column": 475
        },
        {
         "index": 27118,
         "Date": "2021-07-01",
         "N": 2952,
         "_deepnote_index_column": 476
        },
        {
         "index": 27119,
         "Date": "2021-07-02",
         "N": 3308,
         "_deepnote_index_column": 477
        },
        {
         "index": 27120,
         "Date": "2021-07-03",
         "N": 3475,
         "_deepnote_index_column": 478
        },
        {
         "index": 27121,
         "Date": "2021-07-04",
         "N": 3519,
         "_deepnote_index_column": 479
        },
        {
         "index": 27122,
         "Date": "2021-07-05",
         "N": 3075,
         "_deepnote_index_column": 480
        },
        {
         "index": 27123,
         "Date": "2021-07-06",
         "N": 3591,
         "_deepnote_index_column": 481
        },
        {
         "index": 27124,
         "Date": "2021-07-07",
         "N": 3664,
         "_deepnote_index_column": 482
        },
        {
         "index": 27125,
         "Date": "2021-07-08",
         "N": 3819,
         "_deepnote_index_column": 483
        },
        {
         "index": 27126,
         "Date": "2021-07-09",
         "N": 6422,
         "_deepnote_index_column": 484
        },
        {
         "index": 27127,
         "Date": "2021-07-10",
         "N": 6750,
         "_deepnote_index_column": 485
        },
        {
         "index": 27128,
         "Date": "2021-07-11",
         "N": 6923,
         "_deepnote_index_column": 486
        },
        {
         "index": 27129,
         "Date": "2021-07-12",
         "N": 6423,
         "_deepnote_index_column": 487
        },
        {
         "index": 27130,
         "Date": "2021-07-13",
         "N": 5613,
         "_deepnote_index_column": 488
        },
        {
         "index": 27131,
         "Date": "2021-07-14",
         "N": 6080,
         "_deepnote_index_column": 489
        },
        {
         "index": 27132,
         "Date": "2021-07-15",
         "N": 6479,
         "_deepnote_index_column": 490
        },
        {
         "index": 27133,
         "Date": "2021-07-16",
         "N": 6460,
         "_deepnote_index_column": 491
        },
        {
         "index": 27134,
         "Date": "2021-07-17",
         "N": 6062,
         "_deepnote_index_column": 492
        },
        {
         "index": 27135,
         "Date": "2021-07-18",
         "N": 6279,
         "_deepnote_index_column": 493
        },
        {
         "index": 27136,
         "Date": "2021-07-19",
         "N": 6505,
         "_deepnote_index_column": 494
        },
        {
         "index": 27137,
         "Date": "2021-07-20",
         "N": 6057,
         "_deepnote_index_column": 495
        },
        {
         "index": 27138,
         "Date": "2021-07-21",
         "N": 6405,
         "_deepnote_index_column": 496
        },
        {
         "index": 27139,
         "Date": "2021-07-22",
         "N": 7745,
         "_deepnote_index_column": 497
        },
        {
         "index": 27140,
         "Date": "2021-07-23",
         "N": 7784,
         "_deepnote_index_column": 498
        },
        {
         "index": 27141,
         "Date": "2021-07-24",
         "N": 7732,
         "_deepnote_index_column": 499
        },
        {
         "index": 27142,
         "Date": "2021-07-25",
         "N": 8853,
         "_deepnote_index_column": 500
        },
        {
         "index": 27143,
         "Date": "2021-07-26",
         "N": 8184,
         "_deepnote_index_column": 501
        },
        {
         "index": 27144,
         "Date": "2021-07-27",
         "N": 7903,
         "_deepnote_index_column": 502
        },
        {
         "index": 27145,
         "Date": "2021-07-28",
         "N": 9323,
         "_deepnote_index_column": 503
        },
        {
         "index": 27146,
         "Date": "2021-07-29",
         "N": 8607,
         "_deepnote_index_column": 504
        },
        {
         "index": 27147,
         "Date": "2021-07-30",
         "N": 8736,
         "_deepnote_index_column": 505
        },
        {
         "index": 27148,
         "Date": "2021-07-31",
         "N": 8875,
         "_deepnote_index_column": 506
        },
        {
         "index": 27149,
         "Date": "2021-08-01",
         "N": 9747,
         "_deepnote_index_column": 507
        },
        {
         "index": 27150,
         "Date": "2021-08-02",
         "N": 9279,
         "_deepnote_index_column": 508
        },
        {
         "index": 27151,
         "Date": "2021-08-03",
         "N": 9629,
         "_deepnote_index_column": 509
        },
        {
         "index": 27152,
         "Date": "2021-08-04",
         "N": 9363,
         "_deepnote_index_column": 510
        },
        {
         "index": 27153,
         "Date": "2021-08-05",
         "N": 8399,
         "_deepnote_index_column": 511
        },
        {
         "index": 27154,
         "Date": "2021-08-06",
         "N": 8886,
         "_deepnote_index_column": 512
        },
        {
         "index": 27155,
         "Date": "2021-08-07",
         "N": 8893,
         "_deepnote_index_column": 513
        },
        {
         "index": 27156,
         "Date": "2021-08-08",
         "N": 9427,
         "_deepnote_index_column": 514
        },
        {
         "index": 27157,
         "Date": "2021-08-09",
         "N": 7950,
         "_deepnote_index_column": 515
        },
        {
         "index": 27158,
         "Date": "2021-08-10",
         "N": 8936,
         "_deepnote_index_column": 516
        },
        {
         "index": 27159,
         "Date": "2021-08-11",
         "N": 8605,
         "_deepnote_index_column": 517
        },
        {
         "index": 27160,
         "Date": "2021-08-12",
         "N": 8194,
         "_deepnote_index_column": 518
        },
        {
         "index": 27161,
         "Date": "2021-08-13",
         "N": 8312,
         "_deepnote_index_column": 519
        },
        {
         "index": 27162,
         "Date": "2021-08-14",
         "N": 8816,
         "_deepnote_index_column": 520
        },
        {
         "index": 27163,
         "Date": "2021-08-15",
         "N": 8636,
         "_deepnote_index_column": 521
        },
        {
         "index": 27164,
         "Date": "2021-08-16",
         "N": 9169,
         "_deepnote_index_column": 522
        },
        {
         "index": 27165,
         "Date": "2021-08-17",
         "N": 9772,
         "_deepnote_index_column": 523
        },
        {
         "index": 27166,
         "Date": "2021-08-18",
         "N": 8666,
         "_deepnote_index_column": 524
        },
        {
         "index": 27167,
         "Date": "2021-08-19",
         "N": 8972,
         "_deepnote_index_column": 525
        },
        {
         "index": 27168,
         "Date": "2021-08-20",
         "N": 9764,
         "_deepnote_index_column": 526
        },
        {
         "index": 27169,
         "Date": "2021-08-21",
         "N": 9740,
         "_deepnote_index_column": 527
        },
        {
         "index": 27170,
         "Date": "2021-08-22",
         "N": 9548,
         "_deepnote_index_column": 528
        },
        {
         "index": 27171,
         "Date": "2021-08-23",
         "N": 9320,
         "_deepnote_index_column": 529
        },
        {
         "index": 27172,
         "Date": "2021-08-24",
         "N": 9907,
         "_deepnote_index_column": 530
        },
        {
         "index": 27173,
         "Date": "2021-08-25",
         "N": 8637,
         "_deepnote_index_column": 531
        },
        {
         "index": 27174,
         "Date": "2021-08-26",
         "N": 8509,
         "_deepnote_index_column": 532
        },
        {
         "index": 27175,
         "Date": "2021-08-27",
         "N": 7639,
         "_deepnote_index_column": 533
        },
        {
         "index": 27176,
         "Date": "2021-08-28",
         "N": 6850,
         "_deepnote_index_column": 534
        },
        {
         "index": 27177,
         "Date": "2021-08-29",
         "N": 6277,
         "_deepnote_index_column": 535
        },
        {
         "index": 27178,
         "Date": "2021-08-30",
         "N": 6075,
         "_deepnote_index_column": 536
        },
        {
         "index": 27179,
         "Date": "2021-08-31",
         "N": 6342,
         "_deepnote_index_column": 537
        },
        {
         "index": 27180,
         "Date": "2021-09-01",
         "N": 6609,
         "_deepnote_index_column": 538
        },
        {
         "index": 27181,
         "Date": "2021-09-02",
         "N": 6208,
         "_deepnote_index_column": 539
        },
        {
         "index": 27182,
         "Date": "2021-09-03",
         "N": 6927,
         "_deepnote_index_column": 540
        },
        {
         "index": 27183,
         "Date": "2021-09-04",
         "N": 7854,
         "_deepnote_index_column": 541
        },
        {
         "index": 27184,
         "Date": "2021-09-05",
         "N": 9221,
         "_deepnote_index_column": 542
        },
        {
         "index": 27185,
         "Date": "2021-09-06",
         "N": 7230,
         "_deepnote_index_column": 543
        },
        {
         "index": 27186,
         "Date": "2021-09-07",
         "N": 7771,
         "_deepnote_index_column": 544
        },
        {
         "index": 27187,
         "Date": "2021-09-08",
         "N": 8317,
         "_deepnote_index_column": 545
        },
        {
         "index": 27188,
         "Date": "2021-09-09",
         "N": 7747,
         "_deepnote_index_column": 546
        },
        {
         "index": 27189,
         "Date": "2021-09-10",
         "N": 8394,
         "_deepnote_index_column": 547
        },
        {
         "index": 27190,
         "Date": "2021-09-11",
         "N": 8035,
         "_deepnote_index_column": 548
        },
        {
         "index": 27191,
         "Date": "2021-09-12",
         "N": 8034,
         "_deepnote_index_column": 549
        },
        {
         "index": 27192,
         "Date": "2021-09-13",
         "N": 8342,
         "_deepnote_index_column": 550
        },
        {
         "index": 27193,
         "Date": "2021-09-14",
         "N": 7516,
         "_deepnote_index_column": 551
        },
        {
         "index": 27194,
         "Date": "2021-09-15",
         "N": 7437,
         "_deepnote_index_column": 552
        },
        {
         "index": 27195,
         "Date": "2021-09-16",
         "N": 7628,
         "_deepnote_index_column": 553
        },
        {
         "index": 27196,
         "Date": "2021-09-17",
         "N": 8291,
         "_deepnote_index_column": 554
        },
        {
         "index": 27197,
         "Date": "2021-09-18",
         "N": 8517,
         "_deepnote_index_column": 555
        },
        {
         "index": 27198,
         "Date": "2021-09-19",
         "N": 8434,
         "_deepnote_index_column": 556
        },
        {
         "index": 27199,
         "Date": "2021-09-20",
         "N": 8544,
         "_deepnote_index_column": 557
        },
        {
         "index": 27200,
         "Date": "2021-09-21",
         "N": 8289,
         "_deepnote_index_column": 558
        },
        {
         "index": 27201,
         "Date": "2021-09-22",
         "N": 7151,
         "_deepnote_index_column": 559
        },
        {
         "index": 27202,
         "Date": "2021-09-23",
         "N": 6935,
         "_deepnote_index_column": 560
        },
        {
         "index": 27203,
         "Date": "2021-09-24",
         "N": 7695,
         "_deepnote_index_column": 561
        },
        {
         "index": 27204,
         "Date": "2021-09-25",
         "N": 7513,
         "_deepnote_index_column": 562
        },
        {
         "index": 27205,
         "Date": "2021-09-26",
         "N": 6673,
         "_deepnote_index_column": 563
        },
        {
         "index": 27206,
         "Date": "2021-09-27",
         "N": 6632,
         "_deepnote_index_column": 564
        }
       ]
      },
      "text/plain": "     index        Date       N\n0    26642  2020-03-12     3.0\n1    26643  2020-03-13     1.0\n2    26644  2020-03-14     0.0\n3    26645  2020-03-15     0.0\n4    26646  2020-03-16     0.0\n..     ...         ...     ...\n560  27202  2021-09-23  6935.0\n561  27203  2021-09-24  7695.0\n562  27204  2021-09-25  7513.0\n563  27205  2021-09-26  6673.0\n564  27206  2021-09-27  6632.0\n\n[565 rows x 3 columns]",
      "text/html": "<div>\n<style scoped>\n    .dataframe tbody tr th:only-of-type {\n        vertical-align: middle;\n    }\n\n    .dataframe tbody tr th {\n        vertical-align: top;\n    }\n\n    .dataframe thead th {\n        text-align: right;\n    }\n</style>\n<table border=\"1\" class=\"dataframe\">\n  <thead>\n    <tr style=\"text-align: right;\">\n      <th></th>\n      <th>index</th>\n      <th>Date</th>\n      <th>N</th>\n    </tr>\n  </thead>\n  <tbody>\n    <tr>\n      <th>0</th>\n      <td>26642</td>\n      <td>2020-03-12</td>\n      <td>3.0</td>\n    </tr>\n    <tr>\n      <th>1</th>\n      <td>26643</td>\n      <td>2020-03-13</td>\n      <td>1.0</td>\n    </tr>\n    <tr>\n      <th>2</th>\n      <td>26644</td>\n      <td>2020-03-14</td>\n      <td>0.0</td>\n    </tr>\n    <tr>\n      <th>3</th>\n      <td>26645</td>\n      <td>2020-03-15</td>\n      <td>0.0</td>\n    </tr>\n    <tr>\n      <th>4</th>\n      <td>26646</td>\n      <td>2020-03-16</td>\n      <td>0.0</td>\n    </tr>\n    <tr>\n      <th>...</th>\n      <td>...</td>\n      <td>...</td>\n      <td>...</td>\n    </tr>\n    <tr>\n      <th>560</th>\n      <td>27202</td>\n      <td>2021-09-23</td>\n      <td>6935.0</td>\n    </tr>\n    <tr>\n      <th>561</th>\n      <td>27203</td>\n      <td>2021-09-24</td>\n      <td>7695.0</td>\n    </tr>\n    <tr>\n      <th>562</th>\n      <td>27204</td>\n      <td>2021-09-25</td>\n      <td>7513.0</td>\n    </tr>\n    <tr>\n      <th>563</th>\n      <td>27205</td>\n      <td>2021-09-26</td>\n      <td>6673.0</td>\n    </tr>\n    <tr>\n      <th>564</th>\n      <td>27206</td>\n      <td>2021-09-27</td>\n      <td>6632.0</td>\n    </tr>\n  </tbody>\n</table>\n<p>565 rows × 3 columns</p>\n</div>"
     },
     "metadata": {}
    }
   ]
  },
  {
   "cell_type": "code",
   "metadata": {
    "tags": [],
    "cell_id": "00002-3aa5bdc7-c604-42cf-87a9-3c04a5621f51",
    "deepnote_to_be_reexecuted": false,
    "source_hash": "a2696b49",
    "execution_start": 1632846797838,
    "execution_millis": 83,
    "deepnote_cell_type": "code"
   },
   "source": "cfg = pd.read_csv(\"../covid19-casos-cfg2.csv\", delimiter=';')\n#cases = pd.read_csv(\"../covid19-casos.csv\")\n\n#cases_cfg = cases[cases[\"provincia\"] == \"Cienfuegos\"]\n\ncfg.rename(columns={'fecha': 'Date', 'totales': 'test', 'positivos': 'N'}, inplace=True)\n\ncfg",
   "execution_count": null,
   "outputs": [
    {
     "output_type": "execute_result",
     "execution_count": 3,
     "data": {
      "application/vnd.deepnote.dataframe.v2+json": {
       "row_count": 250,
       "column_count": 3,
       "columns": [
        {
         "name": "Date",
         "dtype": "object",
         "stats": {
          "unique_count": 250,
          "nan_count": 0,
          "categories": [
           {
            "name": "17/01/2021",
            "count": 1
           },
           {
            "name": "18/01/2021",
            "count": 1
           },
           {
            "name": "248 others",
            "count": 248
           }
          ]
         }
        },
        {
         "name": "test",
         "dtype": "int64",
         "stats": {
          "unique_count": 219,
          "nan_count": 0,
          "min": "12",
          "max": "6231",
          "histogram": [
           {
            "bin_start": 12,
            "bin_end": 633.9,
            "count": 151
           },
           {
            "bin_start": 633.9,
            "bin_end": 1255.8,
            "count": 57
           },
           {
            "bin_start": 1255.8,
            "bin_end": 1877.6999999999998,
            "count": 17
           },
           {
            "bin_start": 1877.6999999999998,
            "bin_end": 2499.6,
            "count": 12
           },
           {
            "bin_start": 2499.6,
            "bin_end": 3121.5,
            "count": 8
           },
           {
            "bin_start": 3121.5,
            "bin_end": 3743.3999999999996,
            "count": 3
           },
           {
            "bin_start": 3743.3999999999996,
            "bin_end": 4365.3,
            "count": 0
           },
           {
            "bin_start": 4365.3,
            "bin_end": 4987.2,
            "count": 0
           },
           {
            "bin_start": 4987.2,
            "bin_end": 5609.099999999999,
            "count": 1
           },
           {
            "bin_start": 5609.099999999999,
            "bin_end": 6231,
            "count": 1
           }
          ]
         }
        },
        {
         "name": "N",
         "dtype": "int64",
         "stats": {
          "unique_count": 152,
          "nan_count": 0,
          "min": "0",
          "max": "2249",
          "histogram": [
           {
            "bin_start": 0,
            "bin_end": 224.9,
            "count": 178
           },
           {
            "bin_start": 224.9,
            "bin_end": 449.8,
            "count": 23
           },
           {
            "bin_start": 449.8,
            "bin_end": 674.7,
            "count": 16
           },
           {
            "bin_start": 674.7,
            "bin_end": 899.6,
            "count": 6
           },
           {
            "bin_start": 899.6,
            "bin_end": 1124.5,
            "count": 8
           },
           {
            "bin_start": 1124.5,
            "bin_end": 1349.4,
            "count": 8
           },
           {
            "bin_start": 1349.4,
            "bin_end": 1574.3,
            "count": 4
           },
           {
            "bin_start": 1574.3,
            "bin_end": 1799.2,
            "count": 5
           },
           {
            "bin_start": 1799.2,
            "bin_end": 2024.1000000000001,
            "count": 0
           },
           {
            "bin_start": 2024.1000000000001,
            "bin_end": 2249,
            "count": 2
           }
          ]
         }
        },
        {
         "name": "_deepnote_index_column",
         "dtype": "int64"
        }
       ],
       "rows_top": [
        {
         "Date": "17/01/2021",
         "test": 12,
         "N": 2,
         "_deepnote_index_column": 0
        },
        {
         "Date": "18/01/2021",
         "test": 1566,
         "N": 24,
         "_deepnote_index_column": 1
        },
        {
         "Date": "19/01/2021",
         "test": 1000,
         "N": 37,
         "_deepnote_index_column": 2
        },
        {
         "Date": "20/01/2021",
         "test": 90,
         "N": 3,
         "_deepnote_index_column": 3
        },
        {
         "Date": "21/01/2021",
         "test": 638,
         "N": 5,
         "_deepnote_index_column": 4
        },
        {
         "Date": "22/01/2021",
         "test": 207,
         "N": 3,
         "_deepnote_index_column": 5
        },
        {
         "Date": "23/01/2021",
         "test": 202,
         "N": 18,
         "_deepnote_index_column": 6
        },
        {
         "Date": "24/01/2021",
         "test": 156,
         "N": 3,
         "_deepnote_index_column": 7
        },
        {
         "Date": "25/01/2021",
         "test": 505,
         "N": 5,
         "_deepnote_index_column": 8
        },
        {
         "Date": "26/01/2021",
         "test": 354,
         "N": 6,
         "_deepnote_index_column": 9
        },
        {
         "Date": "27/01/2021",
         "test": 203,
         "N": 4,
         "_deepnote_index_column": 10
        },
        {
         "Date": "28/01/2021",
         "test": 417,
         "N": 16,
         "_deepnote_index_column": 11
        },
        {
         "Date": "29/01/2021",
         "test": 437,
         "N": 20,
         "_deepnote_index_column": 12
        },
        {
         "Date": "30/01/2021",
         "test": 338,
         "N": 8,
         "_deepnote_index_column": 13
        },
        {
         "Date": "31/01/2021",
         "test": 153,
         "N": 2,
         "_deepnote_index_column": 14
        },
        {
         "Date": "01/02/2021",
         "test": 257,
         "N": 4,
         "_deepnote_index_column": 15
        },
        {
         "Date": "02/02/2021",
         "test": 212,
         "N": 7,
         "_deepnote_index_column": 16
        },
        {
         "Date": "03/02/2021",
         "test": 196,
         "N": 12,
         "_deepnote_index_column": 17
        },
        {
         "Date": "04/02/2021",
         "test": 467,
         "N": 0,
         "_deepnote_index_column": 18
        },
        {
         "Date": "05/02/2021",
         "test": 6231,
         "N": 170,
         "_deepnote_index_column": 19
        },
        {
         "Date": "06/02/2021",
         "test": 1359,
         "N": 26,
         "_deepnote_index_column": 20
        },
        {
         "Date": "07/02/2021",
         "test": 228,
         "N": 0,
         "_deepnote_index_column": 21
        },
        {
         "Date": "08/02/2021",
         "test": 430,
         "N": 72,
         "_deepnote_index_column": 22
        },
        {
         "Date": "09/02/2021",
         "test": 327,
         "N": 0,
         "_deepnote_index_column": 23
        },
        {
         "Date": "10/02/2021",
         "test": 369,
         "N": 4,
         "_deepnote_index_column": 24
        },
        {
         "Date": "11/02/2021",
         "test": 428,
         "N": 11,
         "_deepnote_index_column": 25
        },
        {
         "Date": "12/02/2021",
         "test": 284,
         "N": 9,
         "_deepnote_index_column": 26
        },
        {
         "Date": "13/02/2021",
         "test": 332,
         "N": 10,
         "_deepnote_index_column": 27
        },
        {
         "Date": "15/02/2021",
         "test": 567,
         "N": 12,
         "_deepnote_index_column": 28
        },
        {
         "Date": "16/02/2021",
         "test": 449,
         "N": 0,
         "_deepnote_index_column": 29
        },
        {
         "Date": "17/02/2021",
         "test": 1026,
         "N": 22,
         "_deepnote_index_column": 30
        },
        {
         "Date": "18/02/2021",
         "test": 442,
         "N": 20,
         "_deepnote_index_column": 31
        },
        {
         "Date": "19/02/2021",
         "test": 1382,
         "N": 47,
         "_deepnote_index_column": 32
        },
        {
         "Date": "20/02/2021",
         "test": 72,
         "N": 11,
         "_deepnote_index_column": 33
        },
        {
         "Date": "21/02/2021",
         "test": 2341,
         "N": 400,
         "_deepnote_index_column": 34
        },
        {
         "Date": "22/02/2021",
         "test": 201,
         "N": 6,
         "_deepnote_index_column": 35
        },
        {
         "Date": "23/02/2021",
         "test": 668,
         "N": 11,
         "_deepnote_index_column": 36
        },
        {
         "Date": "24/02/2021",
         "test": 428,
         "N": 8,
         "_deepnote_index_column": 37
        },
        {
         "Date": "25/02/2021",
         "test": 664,
         "N": 8,
         "_deepnote_index_column": 38
        },
        {
         "Date": "26/02/2021",
         "test": 572,
         "N": 17,
         "_deepnote_index_column": 39
        },
        {
         "Date": "27/02/2021",
         "test": 508,
         "N": 13,
         "_deepnote_index_column": 40
        },
        {
         "Date": "01/03/2021",
         "test": 705,
         "N": 13,
         "_deepnote_index_column": 41
        },
        {
         "Date": "02/03/2021",
         "test": 488,
         "N": 5,
         "_deepnote_index_column": 42
        },
        {
         "Date": "03/03/2021",
         "test": 656,
         "N": 17,
         "_deepnote_index_column": 43
        },
        {
         "Date": "04/03/2021",
         "test": 469,
         "N": 5,
         "_deepnote_index_column": 44
        },
        {
         "Date": "05/03/2021",
         "test": 542,
         "N": 16,
         "_deepnote_index_column": 45
        },
        {
         "Date": "06/03/2021",
         "test": 1545,
         "N": 63,
         "_deepnote_index_column": 46
        },
        {
         "Date": "07/03/2021",
         "test": 458,
         "N": 4,
         "_deepnote_index_column": 47
        },
        {
         "Date": "08/03/2021",
         "test": 327,
         "N": 12,
         "_deepnote_index_column": 48
        },
        {
         "Date": "09/03/2021",
         "test": 614,
         "N": 6,
         "_deepnote_index_column": 49
        },
        {
         "Date": "10/03/2021",
         "test": 537,
         "N": 8,
         "_deepnote_index_column": 50
        },
        {
         "Date": "11/03/2021",
         "test": 532,
         "N": 12,
         "_deepnote_index_column": 51
        },
        {
         "Date": "12/03/2021",
         "test": 483,
         "N": 11,
         "_deepnote_index_column": 52
        },
        {
         "Date": "13/03/2021",
         "test": 259,
         "N": 0,
         "_deepnote_index_column": 53
        },
        {
         "Date": "15/03/2021",
         "test": 625,
         "N": 13,
         "_deepnote_index_column": 54
        },
        {
         "Date": "16/03/2021",
         "test": 493,
         "N": 12,
         "_deepnote_index_column": 55
        },
        {
         "Date": "17/03/2021",
         "test": 503,
         "N": 9,
         "_deepnote_index_column": 56
        },
        {
         "Date": "18/03/2021",
         "test": 498,
         "N": 6,
         "_deepnote_index_column": 57
        },
        {
         "Date": "19/03/2021",
         "test": 794,
         "N": 15,
         "_deepnote_index_column": 58
        },
        {
         "Date": "20/03/2021",
         "test": 243,
         "N": 8,
         "_deepnote_index_column": 59
        },
        {
         "Date": "21/03/2021",
         "test": 507,
         "N": 8,
         "_deepnote_index_column": 60
        },
        {
         "Date": "22/03/2021",
         "test": 620,
         "N": 5,
         "_deepnote_index_column": 61
        },
        {
         "Date": "23/03/2021",
         "test": 990,
         "N": 15,
         "_deepnote_index_column": 62
        },
        {
         "Date": "24/03/2021",
         "test": 74,
         "N": 0,
         "_deepnote_index_column": 63
        },
        {
         "Date": "25/03/2021",
         "test": 466,
         "N": 20,
         "_deepnote_index_column": 64
        },
        {
         "Date": "26/03/2021",
         "test": 581,
         "N": 16,
         "_deepnote_index_column": 65
        },
        {
         "Date": "27/03/2021",
         "test": 377,
         "N": 31,
         "_deepnote_index_column": 66
        },
        {
         "Date": "29/03/2021",
         "test": 806,
         "N": 21,
         "_deepnote_index_column": 67
        },
        {
         "Date": "30/03/2021",
         "test": 718,
         "N": 9,
         "_deepnote_index_column": 68
        },
        {
         "Date": "31/03/2021",
         "test": 611,
         "N": 27,
         "_deepnote_index_column": 69
        },
        {
         "Date": "01/04/2021",
         "test": 600,
         "N": 55,
         "_deepnote_index_column": 70
        },
        {
         "Date": "02/04/2021",
         "test": 507,
         "N": 19,
         "_deepnote_index_column": 71
        },
        {
         "Date": "03/04/2021",
         "test": 505,
         "N": 13,
         "_deepnote_index_column": 72
        },
        {
         "Date": "04/04/2021",
         "test": 486,
         "N": 11,
         "_deepnote_index_column": 73
        },
        {
         "Date": "05/04/2021",
         "test": 917,
         "N": 26,
         "_deepnote_index_column": 74
        },
        {
         "Date": "06/04/2021",
         "test": 599,
         "N": 26,
         "_deepnote_index_column": 75
        },
        {
         "Date": "07/04/2021",
         "test": 1825,
         "N": 100,
         "_deepnote_index_column": 76
        },
        {
         "Date": "08/04/2021",
         "test": 754,
         "N": 8,
         "_deepnote_index_column": 77
        },
        {
         "Date": "09/04/2021",
         "test": 5457,
         "N": 387,
         "_deepnote_index_column": 78
        },
        {
         "Date": "10/04/2021",
         "test": 520,
         "N": 25,
         "_deepnote_index_column": 79
        },
        {
         "Date": "11/04/2021",
         "test": 494,
         "N": 12,
         "_deepnote_index_column": 80
        },
        {
         "Date": "12/04/2021",
         "test": 840,
         "N": 22,
         "_deepnote_index_column": 81
        },
        {
         "Date": "13/04/2021",
         "test": 337,
         "N": 15,
         "_deepnote_index_column": 82
        },
        {
         "Date": "14/04/2021",
         "test": 560,
         "N": 8,
         "_deepnote_index_column": 83
        },
        {
         "Date": "15/04/2021",
         "test": 650,
         "N": 10,
         "_deepnote_index_column": 84
        },
        {
         "Date": "16/04/2021",
         "test": 467,
         "N": 12,
         "_deepnote_index_column": 85
        },
        {
         "Date": "17/04/2021",
         "test": 621,
         "N": 20,
         "_deepnote_index_column": 86
        },
        {
         "Date": "18/04/2021",
         "test": 612,
         "N": 12,
         "_deepnote_index_column": 87
        },
        {
         "Date": "19/04/2021",
         "test": 590,
         "N": 15,
         "_deepnote_index_column": 88
        },
        {
         "Date": "20/04/2021",
         "test": 495,
         "N": 14,
         "_deepnote_index_column": 89
        },
        {
         "Date": "21/04/2021",
         "test": 594,
         "N": 14,
         "_deepnote_index_column": 90
        },
        {
         "Date": "22/04/2021",
         "test": 648,
         "N": 12,
         "_deepnote_index_column": 91
        },
        {
         "Date": "23/04/2021",
         "test": 618,
         "N": 11,
         "_deepnote_index_column": 92
        },
        {
         "Date": "24/04/2021",
         "test": 673,
         "N": 13,
         "_deepnote_index_column": 93
        },
        {
         "Date": "25/04/2021",
         "test": 1037,
         "N": 16,
         "_deepnote_index_column": 94
        },
        {
         "Date": "26/04/2021",
         "test": 754,
         "N": 16,
         "_deepnote_index_column": 95
        },
        {
         "Date": "27/04/2021",
         "test": 483,
         "N": 12,
         "_deepnote_index_column": 96
        },
        {
         "Date": "28/04/2021",
         "test": 721,
         "N": 15,
         "_deepnote_index_column": 97
        },
        {
         "Date": "29/04/2021",
         "test": 681,
         "N": 14,
         "_deepnote_index_column": 98
        },
        {
         "Date": "30/04/2021",
         "test": 521,
         "N": 3,
         "_deepnote_index_column": 99
        },
        {
         "Date": "01/05/2021",
         "test": 566,
         "N": 17,
         "_deepnote_index_column": 100
        },
        {
         "Date": "02/05/2021",
         "test": 1169,
         "N": 3,
         "_deepnote_index_column": 101
        },
        {
         "Date": "03/05/2021",
         "test": 1761,
         "N": 26,
         "_deepnote_index_column": 102
        },
        {
         "Date": "04/05/2021",
         "test": 596,
         "N": 26,
         "_deepnote_index_column": 103
        },
        {
         "Date": "05/05/2021",
         "test": 559,
         "N": 26,
         "_deepnote_index_column": 104
        },
        {
         "Date": "06/05/2021",
         "test": 629,
         "N": 18,
         "_deepnote_index_column": 105
        },
        {
         "Date": "07/05/2021",
         "test": 659,
         "N": 23,
         "_deepnote_index_column": 106
        },
        {
         "Date": "08/05/2021",
         "test": 614,
         "N": 28,
         "_deepnote_index_column": 107
        },
        {
         "Date": "09/05/2021",
         "test": 547,
         "N": 18,
         "_deepnote_index_column": 108
        },
        {
         "Date": "10/05/2021",
         "test": 534,
         "N": 22,
         "_deepnote_index_column": 109
        },
        {
         "Date": "11/05/2021",
         "test": 624,
         "N": 26,
         "_deepnote_index_column": 110
        },
        {
         "Date": "12/05/2021",
         "test": 624,
         "N": 11,
         "_deepnote_index_column": 111
        },
        {
         "Date": "13/05/2021",
         "test": 604,
         "N": 44,
         "_deepnote_index_column": 112
        },
        {
         "Date": "14/05/2021",
         "test": 653,
         "N": 15,
         "_deepnote_index_column": 113
        },
        {
         "Date": "15/05/2021",
         "test": 859,
         "N": 74,
         "_deepnote_index_column": 114
        },
        {
         "Date": "16/05/2021",
         "test": 3091,
         "N": 361,
         "_deepnote_index_column": 115
        },
        {
         "Date": "17/05/2021",
         "test": 2503,
         "N": 132,
         "_deepnote_index_column": 116
        },
        {
         "Date": "18/05/2021",
         "test": 384,
         "N": 77,
         "_deepnote_index_column": 117
        },
        {
         "Date": "19/05/2021",
         "test": 3688,
         "N": 624,
         "_deepnote_index_column": 118
        },
        {
         "Date": "20/05/2021",
         "test": 1789,
         "N": 141,
         "_deepnote_index_column": 119
        },
        {
         "Date": "21/05/2021",
         "test": 1358,
         "N": 56,
         "_deepnote_index_column": 120
        },
        {
         "Date": "22/05/2021",
         "test": 569,
         "N": 58,
         "_deepnote_index_column": 121
        },
        {
         "Date": "23/05/2021",
         "test": 521,
         "N": 38,
         "_deepnote_index_column": 122
        },
        {
         "Date": "24/05/2021",
         "test": 594,
         "N": 79,
         "_deepnote_index_column": 123
        },
        {
         "Date": "25/05/2021",
         "test": 702,
         "N": 71,
         "_deepnote_index_column": 124
        },
        {
         "Date": "26/05/2021",
         "test": 305,
         "N": 29,
         "_deepnote_index_column": 125
        },
        {
         "Date": "27/05/2021",
         "test": 793,
         "N": 37,
         "_deepnote_index_column": 126
        },
        {
         "Date": "28/05/2021",
         "test": 536,
         "N": 40,
         "_deepnote_index_column": 127
        },
        {
         "Date": "29/05/2021",
         "test": 713,
         "N": 86,
         "_deepnote_index_column": 128
        },
        {
         "Date": "30/05/2021",
         "test": 572,
         "N": 49,
         "_deepnote_index_column": 129
        },
        {
         "Date": "31/05/2021",
         "test": 501,
         "N": 43,
         "_deepnote_index_column": 130
        },
        {
         "Date": "01/06/2021",
         "test": 381,
         "N": 53,
         "_deepnote_index_column": 131
        },
        {
         "Date": "02/06/2021",
         "test": 443,
         "N": 31,
         "_deepnote_index_column": 132
        },
        {
         "Date": "03/06/2021",
         "test": 741,
         "N": 28,
         "_deepnote_index_column": 133
        },
        {
         "Date": "04/06/2021",
         "test": 664,
         "N": 40,
         "_deepnote_index_column": 134
        },
        {
         "Date": "05/06/2021",
         "test": 637,
         "N": 42,
         "_deepnote_index_column": 135
        },
        {
         "Date": "06/06/2021",
         "test": 621,
         "N": 50,
         "_deepnote_index_column": 136
        },
        {
         "Date": "07/06/2021",
         "test": 616,
         "N": 19,
         "_deepnote_index_column": 137
        },
        {
         "Date": "08/06/2021",
         "test": 564,
         "N": 41,
         "_deepnote_index_column": 138
        },
        {
         "Date": "09/06/2021",
         "test": 616,
         "N": 50,
         "_deepnote_index_column": 139
        },
        {
         "Date": "10/06/2021",
         "test": 619,
         "N": 65,
         "_deepnote_index_column": 140
        },
        {
         "Date": "11/06/2021",
         "test": 527,
         "N": 72,
         "_deepnote_index_column": 141
        },
        {
         "Date": "12/06/2021",
         "test": 534,
         "N": 78,
         "_deepnote_index_column": 142
        },
        {
         "Date": "13/06/2021",
         "test": 665,
         "N": 132,
         "_deepnote_index_column": 143
        },
        {
         "Date": "14/06/2021",
         "test": 607,
         "N": 124,
         "_deepnote_index_column": 144
        },
        {
         "Date": "15/06/2021",
         "test": 609,
         "N": 50,
         "_deepnote_index_column": 145
        },
        {
         "Date": "16/06/2021",
         "test": 593,
         "N": 43,
         "_deepnote_index_column": 146
        },
        {
         "Date": "17/06/2021",
         "test": 601,
         "N": 76,
         "_deepnote_index_column": 147
        },
        {
         "Date": "18/06/2021",
         "test": 609,
         "N": 37,
         "_deepnote_index_column": 148
        },
        {
         "Date": "19/06/2021",
         "test": 612,
         "N": 42,
         "_deepnote_index_column": 149
        },
        {
         "Date": "20/06/2021",
         "test": 600,
         "N": 63,
         "_deepnote_index_column": 150
        },
        {
         "Date": "21/06/2021",
         "test": 515,
         "N": 59,
         "_deepnote_index_column": 151
        },
        {
         "Date": "22/06/2021",
         "test": 479,
         "N": 61,
         "_deepnote_index_column": 152
        },
        {
         "Date": "23/06/2021",
         "test": 468,
         "N": 77,
         "_deepnote_index_column": 153
        },
        {
         "Date": "24/06/2021",
         "test": 612,
         "N": 61,
         "_deepnote_index_column": 154
        },
        {
         "Date": "25/06/2021",
         "test": 488,
         "N": 56,
         "_deepnote_index_column": 155
        },
        {
         "Date": "26/06/2021",
         "test": 509,
         "N": 77,
         "_deepnote_index_column": 156
        },
        {
         "Date": "27/06/2021",
         "test": 572,
         "N": 96,
         "_deepnote_index_column": 157
        },
        {
         "Date": "28/06/2021",
         "test": 424,
         "N": 94,
         "_deepnote_index_column": 158
        },
        {
         "Date": "29/06/2021",
         "test": 582,
         "N": 76,
         "_deepnote_index_column": 159
        },
        {
         "Date": "30/06/2021",
         "test": 612,
         "N": 85,
         "_deepnote_index_column": 160
        },
        {
         "Date": "01/07/2021",
         "test": 620,
         "N": 101,
         "_deepnote_index_column": 161
        },
        {
         "Date": "02/07/2021",
         "test": 659,
         "N": 88,
         "_deepnote_index_column": 162
        },
        {
         "Date": "03/07/2021",
         "test": 406,
         "N": 74,
         "_deepnote_index_column": 163
        },
        {
         "Date": "04/07/2021",
         "test": 295,
         "N": 77,
         "_deepnote_index_column": 164
        },
        {
         "Date": "05/07/2021",
         "test": 311,
         "N": 157,
         "_deepnote_index_column": 165
        },
        {
         "Date": "06/07/2021",
         "test": 620,
         "N": 211,
         "_deepnote_index_column": 166
        },
        {
         "Date": "07/07/2021",
         "test": 551,
         "N": 153,
         "_deepnote_index_column": 167
        },
        {
         "Date": "08/07/2021",
         "test": 444,
         "N": 180,
         "_deepnote_index_column": 168
        },
        {
         "Date": "09/07/2021",
         "test": 605,
         "N": 206,
         "_deepnote_index_column": 169
        },
        {
         "Date": "10/07/2021",
         "test": 794,
         "N": 404,
         "_deepnote_index_column": 170
        },
        {
         "Date": "11/07/2021",
         "test": 827,
         "N": 464,
         "_deepnote_index_column": 171
        },
        {
         "Date": "12/07/2021",
         "test": 418,
         "N": 176,
         "_deepnote_index_column": 172
        },
        {
         "Date": "13/07/2021",
         "test": 499,
         "N": 167,
         "_deepnote_index_column": 173
        },
        {
         "Date": "14/07/2021",
         "test": 602,
         "N": 264,
         "_deepnote_index_column": 174
        },
        {
         "Date": "15/07/2021",
         "test": 1238,
         "N": 589,
         "_deepnote_index_column": 175
        },
        {
         "Date": "16/07/2021",
         "test": 1977,
         "N": 1071,
         "_deepnote_index_column": 176
        },
        {
         "Date": "17/07/2021",
         "test": 1104,
         "N": 507,
         "_deepnote_index_column": 177
        },
        {
         "Date": "18/07/2021",
         "test": 613,
         "N": 364,
         "_deepnote_index_column": 178
        },
        {
         "Date": "19/07/2021",
         "test": 1238,
         "N": 918,
         "_deepnote_index_column": 179
        },
        {
         "Date": "20/07/2021",
         "test": 929,
         "N": 334,
         "_deepnote_index_column": 180
        },
        {
         "Date": "21/07/2021",
         "test": 1161,
         "N": 870,
         "_deepnote_index_column": 181
        },
        {
         "Date": "22/07/2021",
         "test": 1827,
         "N": 830,
         "_deepnote_index_column": 182
        },
        {
         "Date": "23/07/2021",
         "test": 750,
         "N": 515,
         "_deepnote_index_column": 183
        },
        {
         "Date": "24/07/2021",
         "test": 1135,
         "N": 812,
         "_deepnote_index_column": 184
        },
        {
         "Date": "25/07/2021",
         "test": 1227,
         "N": 748,
         "_deepnote_index_column": 185
        },
        {
         "Date": "26/07/2021",
         "test": 785,
         "N": 476,
         "_deepnote_index_column": 186
        },
        {
         "Date": "27/07/2021",
         "test": 2751,
         "N": 1545,
         "_deepnote_index_column": 187
        },
        {
         "Date": "28/07/2021",
         "test": 557,
         "N": 358,
         "_deepnote_index_column": 188
        },
        {
         "Date": "29/07/2021",
         "test": 1436,
         "N": 859,
         "_deepnote_index_column": 189
        },
        {
         "Date": "30/07/2021",
         "test": 2084,
         "N": 1234,
         "_deepnote_index_column": 190
        },
        {
         "Date": "31/07/2021",
         "test": 1020,
         "N": 533,
         "_deepnote_index_column": 191
        },
        {
         "Date": "01/08/2021",
         "test": 1362,
         "N": 914,
         "_deepnote_index_column": 192
        },
        {
         "Date": "02/08/2021",
         "test": 1406,
         "N": 950,
         "_deepnote_index_column": 193
        },
        {
         "Date": "03/08/2021",
         "test": 2414,
         "N": 1396,
         "_deepnote_index_column": 194
        },
        {
         "Date": "04/08/2021",
         "test": 1225,
         "N": 651,
         "_deepnote_index_column": 195
        },
        {
         "Date": "05/08/2021",
         "test": 2389,
         "N": 1510,
         "_deepnote_index_column": 196
        },
        {
         "Date": "06/08/2021",
         "test": 2192,
         "N": 1275,
         "_deepnote_index_column": 197
        },
        {
         "Date": "07/08/2021",
         "test": 1709,
         "N": 1152,
         "_deepnote_index_column": 198
        },
        {
         "Date": "08/08/2021",
         "test": 1721,
         "N": 1022,
         "_deepnote_index_column": 199
        },
        {
         "Date": "09/08/2021",
         "test": 2883,
         "N": 1701,
         "_deepnote_index_column": 200
        },
        {
         "Date": "10/08/2021",
         "test": 2547,
         "N": 1653,
         "_deepnote_index_column": 201
        },
        {
         "Date": "11/08/2021",
         "test": 2624,
         "N": 1640,
         "_deepnote_index_column": 202
        },
        {
         "Date": "12/08/2021",
         "test": 2005,
         "N": 1149,
         "_deepnote_index_column": 203
        },
        {
         "Date": "13/08/2021",
         "test": 2219,
         "N": 1255,
         "_deepnote_index_column": 204
        },
        {
         "Date": "14/08/2021",
         "test": 1873,
         "N": 1001,
         "_deepnote_index_column": 205
        },
        {
         "Date": "15/08/2021",
         "test": 1818,
         "N": 1078,
         "_deepnote_index_column": 206
        },
        {
         "Date": "16/08/2021",
         "test": 3484,
         "N": 2249,
         "_deepnote_index_column": 207
        },
        {
         "Date": "17/08/2021",
         "test": 2277,
         "N": 1328,
         "_deepnote_index_column": 208
        },
        {
         "Date": "18/08/2021",
         "test": 2346,
         "N": 1189,
         "_deepnote_index_column": 209
        },
        {
         "Date": "19/08/2021",
         "test": 3242,
         "N": 2034,
         "_deepnote_index_column": 210
        },
        {
         "Date": "20/08/2021",
         "test": 2725,
         "N": 1691,
         "_deepnote_index_column": 211
        },
        {
         "Date": "21/08/2021",
         "test": 2686,
         "N": 1696,
         "_deepnote_index_column": 212
        },
        {
         "Date": "22/08/2021",
         "test": 2489,
         "N": 1403,
         "_deepnote_index_column": 213
        },
        {
         "Date": "23/08/2021",
         "test": 2252,
         "N": 1344,
         "_deepnote_index_column": 214
        },
        {
         "Date": "24/08/2021",
         "test": 1449,
         "N": 934,
         "_deepnote_index_column": 215
        },
        {
         "Date": "25/08/2021",
         "test": 1117,
         "N": 688,
         "_deepnote_index_column": 216
        },
        {
         "Date": "26/08/2021",
         "test": 827,
         "N": 487,
         "_deepnote_index_column": 217
        },
        {
         "Date": "27/08/2021",
         "test": 641,
         "N": 312,
         "_deepnote_index_column": 218
        },
        {
         "Date": "28/08/2021",
         "test": 600,
         "N": 331,
         "_deepnote_index_column": 219
        },
        {
         "Date": "29/08/2021",
         "test": 728,
         "N": 499,
         "_deepnote_index_column": 220
        },
        {
         "Date": "30/08/2021",
         "test": 795,
         "N": 489,
         "_deepnote_index_column": 221
        },
        {
         "Date": "31/08/2021",
         "test": 908,
         "N": 619,
         "_deepnote_index_column": 222
        },
        {
         "Date": "01/09/2021",
         "test": 823,
         "N": 533,
         "_deepnote_index_column": 223
        },
        {
         "Date": "02/09/2021",
         "test": 703,
         "N": 474,
         "_deepnote_index_column": 224
        },
        {
         "Date": "03/09/2021",
         "test": 773,
         "N": 431,
         "_deepnote_index_column": 225
        },
        {
         "Date": "04/09/2021",
         "test": 1039,
         "N": 542,
         "_deepnote_index_column": 226
        },
        {
         "Date": "05/09/2021",
         "test": 798,
         "N": 589,
         "_deepnote_index_column": 227
        },
        {
         "Date": "06/09/2021",
         "test": 480,
         "N": 355,
         "_deepnote_index_column": 228
        },
        {
         "Date": "07/09/2021",
         "test": 627,
         "N": 395,
         "_deepnote_index_column": 229
        },
        {
         "Date": "08/09/2021",
         "test": 543,
         "N": 350,
         "_deepnote_index_column": 230
        },
        {
         "Date": "09/09/2021",
         "test": 589,
         "N": 391,
         "_deepnote_index_column": 231
        },
        {
         "Date": "10/09/2021",
         "test": 548,
         "N": 351,
         "_deepnote_index_column": 232
        },
        {
         "Date": "11/09/2021",
         "test": 517,
         "N": 333,
         "_deepnote_index_column": 233
        },
        {
         "Date": "12/09/2021",
         "test": 397,
         "N": 186,
         "_deepnote_index_column": 234
        },
        {
         "Date": "13/09/2021",
         "test": 289,
         "N": 203,
         "_deepnote_index_column": 235
        },
        {
         "Date": "14/09/2021",
         "test": 439,
         "N": 288,
         "_deepnote_index_column": 236
        },
        {
         "Date": "15/09/2021",
         "test": 447,
         "N": 280,
         "_deepnote_index_column": 237
        },
        {
         "Date": "16/09/2021",
         "test": 562,
         "N": 374,
         "_deepnote_index_column": 238
        },
        {
         "Date": "17/09/2021",
         "test": 405,
         "N": 278,
         "_deepnote_index_column": 239
        },
        {
         "Date": "18/09/2021",
         "test": 366,
         "N": 267,
         "_deepnote_index_column": 240
        },
        {
         "Date": "19/09/2021",
         "test": 339,
         "N": 198,
         "_deepnote_index_column": 241
        },
        {
         "Date": "20/09/2021",
         "test": 279,
         "N": 122,
         "_deepnote_index_column": 242
        },
        {
         "Date": "21/09/2021",
         "test": 341,
         "N": 215,
         "_deepnote_index_column": 243
        },
        {
         "Date": "22/09/2021",
         "test": 474,
         "N": 236,
         "_deepnote_index_column": 244
        },
        {
         "Date": "23/09/2021",
         "test": 300,
         "N": 180,
         "_deepnote_index_column": 245
        },
        {
         "Date": "24/09/2021",
         "test": 259,
         "N": 102,
         "_deepnote_index_column": 246
        },
        {
         "Date": "25/09/2021",
         "test": 287,
         "N": 168,
         "_deepnote_index_column": 247
        },
        {
         "Date": "26/09/2021",
         "test": 183,
         "N": 129,
         "_deepnote_index_column": 248
        },
        {
         "Date": "27/09/2021",
         "test": 132,
         "N": 93,
         "_deepnote_index_column": 249
        }
       ],
       "rows_bottom": null
      },
      "text/plain": "           Date  test    N\n0    17/01/2021    12    2\n1    18/01/2021  1566   24\n2    19/01/2021  1000   37\n3    20/01/2021    90    3\n4    21/01/2021   638    5\n..          ...   ...  ...\n245  23/09/2021   300  180\n246  24/09/2021   259  102\n247  25/09/2021   287  168\n248  26/09/2021   183  129\n249  27/09/2021   132   93\n\n[250 rows x 3 columns]",
      "text/html": "<div>\n<style scoped>\n    .dataframe tbody tr th:only-of-type {\n        vertical-align: middle;\n    }\n\n    .dataframe tbody tr th {\n        vertical-align: top;\n    }\n\n    .dataframe thead th {\n        text-align: right;\n    }\n</style>\n<table border=\"1\" class=\"dataframe\">\n  <thead>\n    <tr style=\"text-align: right;\">\n      <th></th>\n      <th>Date</th>\n      <th>test</th>\n      <th>N</th>\n    </tr>\n  </thead>\n  <tbody>\n    <tr>\n      <th>0</th>\n      <td>17/01/2021</td>\n      <td>12</td>\n      <td>2</td>\n    </tr>\n    <tr>\n      <th>1</th>\n      <td>18/01/2021</td>\n      <td>1566</td>\n      <td>24</td>\n    </tr>\n    <tr>\n      <th>2</th>\n      <td>19/01/2021</td>\n      <td>1000</td>\n      <td>37</td>\n    </tr>\n    <tr>\n      <th>3</th>\n      <td>20/01/2021</td>\n      <td>90</td>\n      <td>3</td>\n    </tr>\n    <tr>\n      <th>4</th>\n      <td>21/01/2021</td>\n      <td>638</td>\n      <td>5</td>\n    </tr>\n    <tr>\n      <th>...</th>\n      <td>...</td>\n      <td>...</td>\n      <td>...</td>\n    </tr>\n    <tr>\n      <th>245</th>\n      <td>23/09/2021</td>\n      <td>300</td>\n      <td>180</td>\n    </tr>\n    <tr>\n      <th>246</th>\n      <td>24/09/2021</td>\n      <td>259</td>\n      <td>102</td>\n    </tr>\n    <tr>\n      <th>247</th>\n      <td>25/09/2021</td>\n      <td>287</td>\n      <td>168</td>\n    </tr>\n    <tr>\n      <th>248</th>\n      <td>26/09/2021</td>\n      <td>183</td>\n      <td>129</td>\n    </tr>\n    <tr>\n      <th>249</th>\n      <td>27/09/2021</td>\n      <td>132</td>\n      <td>93</td>\n    </tr>\n  </tbody>\n</table>\n<p>250 rows × 3 columns</p>\n</div>"
     },
     "metadata": {}
    }
   ]
  },
  {
   "cell_type": "code",
   "metadata": {
    "cell_id": "00001-aabb58e4-ab4e-4422-ad54-8ae0fccca059",
    "deepnote_to_be_reexecuted": false,
    "source_hash": "64e0ce57",
    "execution_start": 1632846797906,
    "execution_millis": 115,
    "deepnote_cell_type": "code"
   },
   "source": "\n# calculate case velocity\n#cuba[\"vel\"] = cuba.loc[:, cuba.columns != 'Date'].diff()\ncuba[\"vel\"] = cuba.loc[:, 'N'].diff()\ncfg[\"vel\"] = cfg.loc[:, 'N'].diff()\n\n# calculate case acceleration\ncuba[\"acc\"] = cuba[[\"Date\", \"vel\"]].loc[:, 'vel'].diff()\ncfg[\"acc\"] = cfg[[\"Date\", \"vel\"]].loc[:, 'vel'].diff()\n\n# calculate means - 14 días - 2 semanas\n# usando rolling\navg = 14\ncfg[\"accelMeans14\"] = cfg[[\"Date\", \"vel\"]].loc[:, 'vel'].rolling(window = avg).mean()\ncfg[\"accelMeans7\"] = cfg[[\"Date\", \"vel\"]].loc[:, 'vel'].rolling(window = 7).mean()\ncfg[\"accelMeans3\"] = cfg[[\"Date\", \"vel\"]].loc[:, 'vel'].rolling(window = 3).mean()\ncuba[\"accelMeans14\"] = cuba[[\"Date\", \"vel\"]].loc[:, 'vel'].rolling(window = avg).mean()\ncuba[\"accelMeans7\"] = cuba[[\"Date\", \"vel\"]].loc[:, \"vel\"].rolling(window = 7).mean()\ncuba[\"accelMeans3\"] = cuba[[\"Date\", \"vel\"]].loc[:, \"vel\"].rolling(window = 3).mean()\n\n# con EWM\n# cfg[\"accelMeans5\"] = cfg[[\"Date\", \"vel\"]].loc[:, cfg[[\"Date\", \"vel\"]].columns != 'Datetime'].ewm(span=5).mean()\n\ncfg",
   "execution_count": null,
   "outputs": [
    {
     "output_type": "execute_result",
     "execution_count": 4,
     "data": {
      "application/vnd.deepnote.dataframe.v2+json": {
       "row_count": 250,
       "column_count": 8,
       "columns": [
        {
         "name": "Date",
         "dtype": "object",
         "stats": {
          "unique_count": 250,
          "nan_count": 0,
          "categories": [
           {
            "name": "17/01/2021",
            "count": 1
           },
           {
            "name": "18/01/2021",
            "count": 1
           },
           {
            "name": "248 others",
            "count": 248
           }
          ]
         }
        },
        {
         "name": "test",
         "dtype": "int64",
         "stats": {
          "unique_count": 219,
          "nan_count": 0,
          "min": "12",
          "max": "6231",
          "histogram": [
           {
            "bin_start": 12,
            "bin_end": 633.9,
            "count": 151
           },
           {
            "bin_start": 633.9,
            "bin_end": 1255.8,
            "count": 57
           },
           {
            "bin_start": 1255.8,
            "bin_end": 1877.6999999999998,
            "count": 17
           },
           {
            "bin_start": 1877.6999999999998,
            "bin_end": 2499.6,
            "count": 12
           },
           {
            "bin_start": 2499.6,
            "bin_end": 3121.5,
            "count": 8
           },
           {
            "bin_start": 3121.5,
            "bin_end": 3743.3999999999996,
            "count": 3
           },
           {
            "bin_start": 3743.3999999999996,
            "bin_end": 4365.3,
            "count": 0
           },
           {
            "bin_start": 4365.3,
            "bin_end": 4987.2,
            "count": 0
           },
           {
            "bin_start": 4987.2,
            "bin_end": 5609.099999999999,
            "count": 1
           },
           {
            "bin_start": 5609.099999999999,
            "bin_end": 6231,
            "count": 1
           }
          ]
         }
        },
        {
         "name": "N",
         "dtype": "int64",
         "stats": {
          "unique_count": 152,
          "nan_count": 0,
          "min": "0",
          "max": "2249",
          "histogram": [
           {
            "bin_start": 0,
            "bin_end": 224.9,
            "count": 178
           },
           {
            "bin_start": 224.9,
            "bin_end": 449.8,
            "count": 23
           },
           {
            "bin_start": 449.8,
            "bin_end": 674.7,
            "count": 16
           },
           {
            "bin_start": 674.7,
            "bin_end": 899.6,
            "count": 6
           },
           {
            "bin_start": 899.6,
            "bin_end": 1124.5,
            "count": 8
           },
           {
            "bin_start": 1124.5,
            "bin_end": 1349.4,
            "count": 8
           },
           {
            "bin_start": 1349.4,
            "bin_end": 1574.3,
            "count": 4
           },
           {
            "bin_start": 1574.3,
            "bin_end": 1799.2,
            "count": 5
           },
           {
            "bin_start": 1799.2,
            "bin_end": 2024.1000000000001,
            "count": 0
           },
           {
            "bin_start": 2024.1000000000001,
            "bin_end": 2249,
            "count": 2
           }
          ]
         }
        },
        {
         "name": "vel",
         "dtype": "float64",
         "stats": {
          "unique_count": 143,
          "nan_count": 1,
          "min": "-1187.0",
          "max": "1171.0",
          "histogram": [
           {
            "bin_start": -1187,
            "bin_end": -951.2,
            "count": 1
           },
           {
            "bin_start": -951.2,
            "bin_end": -715.4,
            "count": 2
           },
           {
            "bin_start": -715.4,
            "bin_end": -479.5999999999999,
            "count": 5
           },
           {
            "bin_start": -479.5999999999999,
            "bin_end": -243.79999999999995,
            "count": 10
           },
           {
            "bin_start": -243.79999999999995,
            "bin_end": -8,
            "count": 68
           },
           {
            "bin_start": -8,
            "bin_end": 227.80000000000018,
            "count": 145
           },
           {
            "bin_start": 227.80000000000018,
            "bin_end": 463.60000000000014,
            "count": 8
           },
           {
            "bin_start": 463.60000000000014,
            "bin_end": 699.4000000000001,
            "count": 6
           },
           {
            "bin_start": 699.4000000000001,
            "bin_end": 935.2000000000003,
            "count": 2
           },
           {
            "bin_start": 935.2000000000003,
            "bin_end": 1171,
            "count": 2
           }
          ]
         }
        },
        {
         "name": "acc",
         "dtype": "float64",
         "stats": {
          "unique_count": 167,
          "nan_count": 2,
          "min": "-2256.0",
          "max": "1688.0",
          "histogram": [
           {
            "bin_start": -2256,
            "bin_end": -1861.6,
            "count": 2
           },
           {
            "bin_start": -1861.6,
            "bin_end": -1467.2,
            "count": 0
           },
           {
            "bin_start": -1467.2,
            "bin_end": -1072.8000000000002,
            "count": 5
           },
           {
            "bin_start": -1072.8000000000002,
            "bin_end": -678.4000000000001,
            "count": 5
           },
           {
            "bin_start": -678.4000000000001,
            "bin_end": -284,
            "count": 10
           },
           {
            "bin_start": -284,
            "bin_end": 110.39999999999964,
            "count": 185
           },
           {
            "bin_start": 110.39999999999964,
            "bin_end": 504.7999999999997,
            "count": 28
           },
           {
            "bin_start": 504.7999999999997,
            "bin_end": 899.1999999999998,
            "count": 6
           },
           {
            "bin_start": 899.1999999999998,
            "bin_end": 1293.6,
            "count": 4
           },
           {
            "bin_start": 1293.6,
            "bin_end": 1688,
            "count": 3
           }
          ]
         }
        },
        {
         "name": "accelMeans14",
         "dtype": "float64",
         "stats": {
          "unique_count": 155,
          "nan_count": 14,
          "min": "-125.71428571428571",
          "max": "98.42857142857143",
          "histogram": [
           {
            "bin_start": -125.71428571428571,
            "bin_end": -103.3,
            "count": 2
           },
           {
            "bin_start": -103.3,
            "bin_end": -80.88571428571427,
            "count": 2
           },
           {
            "bin_start": -80.88571428571427,
            "bin_end": -58.47142857142856,
            "count": 3
           },
           {
            "bin_start": -58.47142857142856,
            "bin_end": -36.05714285714285,
            "count": 9
           },
           {
            "bin_start": -36.05714285714285,
            "bin_end": -13.642857142857139,
            "count": 15
           },
           {
            "bin_start": -13.642857142857139,
            "bin_end": 8.771428571428586,
            "count": 162
           },
           {
            "bin_start": 8.771428571428586,
            "bin_end": 31.185714285714297,
            "count": 25
           },
           {
            "bin_start": 31.185714285714297,
            "bin_end": 53.60000000000001,
            "count": 10
           },
           {
            "bin_start": 53.60000000000001,
            "bin_end": 76.01428571428572,
            "count": 4
           },
           {
            "bin_start": 76.01428571428572,
            "bin_end": 98.42857142857143,
            "count": 4
           }
          ]
         }
        },
        {
         "name": "accelMeans7",
         "dtype": "float64",
         "stats": {
          "unique_count": 160,
          "nan_count": 7,
          "min": "-221.0",
          "max": "173.0",
          "histogram": [
           {
            "bin_start": -221,
            "bin_end": -181.6,
            "count": 3
           },
           {
            "bin_start": -181.6,
            "bin_end": -142.2,
            "count": 0
           },
           {
            "bin_start": -142.2,
            "bin_end": -102.80000000000001,
            "count": 3
           },
           {
            "bin_start": -102.80000000000001,
            "bin_end": -63.400000000000006,
            "count": 5
           },
           {
            "bin_start": -63.400000000000006,
            "bin_end": -24,
            "count": 15
           },
           {
            "bin_start": -24,
            "bin_end": 15.399999999999977,
            "count": 180
           },
           {
            "bin_start": 15.399999999999977,
            "bin_end": 54.80000000000001,
            "count": 18
           },
           {
            "bin_start": 54.80000000000001,
            "bin_end": 94.19999999999999,
            "count": 11
           },
           {
            "bin_start": 94.19999999999999,
            "bin_end": 133.59999999999997,
            "count": 6
           },
           {
            "bin_start": 133.59999999999997,
            "bin_end": 173,
            "count": 2
           }
          ]
         }
        },
        {
         "name": "accelMeans3",
         "dtype": "float64",
         "stats": {
          "unique_count": 148,
          "nan_count": 3,
          "min": "-285.6666666666667",
          "max": "331.3333333333333",
          "histogram": [
           {
            "bin_start": -285.6666666666667,
            "bin_end": -223.9666666666667,
            "count": 3
           },
           {
            "bin_start": -223.9666666666667,
            "bin_end": -162.26666666666668,
            "count": 6
           },
           {
            "bin_start": -162.26666666666668,
            "bin_end": -100.56666666666666,
            "count": 7
           },
           {
            "bin_start": -100.56666666666666,
            "bin_end": -38.866666666666674,
            "count": 16
           },
           {
            "bin_start": -38.866666666666674,
            "bin_end": 22.833333333333314,
            "count": 179
           },
           {
            "bin_start": 22.833333333333314,
            "bin_end": 84.53333333333336,
            "count": 15
           },
           {
            "bin_start": 84.53333333333336,
            "bin_end": 146.23333333333335,
            "count": 11
           },
           {
            "bin_start": 146.23333333333335,
            "bin_end": 207.93333333333334,
            "count": 6
           },
           {
            "bin_start": 207.93333333333334,
            "bin_end": 269.6333333333334,
            "count": 1
           },
           {
            "bin_start": 269.6333333333334,
            "bin_end": 331.3333333333333,
            "count": 3
           }
          ]
         }
        },
        {
         "name": "_deepnote_index_column",
         "dtype": "int64"
        }
       ],
       "rows_top": [
        {
         "Date": "17/01/2021",
         "test": 12,
         "N": 2,
         "vel": "nan",
         "acc": "nan",
         "accelMeans14": "nan",
         "accelMeans7": "nan",
         "accelMeans3": "nan",
         "_deepnote_index_column": 0
        },
        {
         "Date": "18/01/2021",
         "test": 1566,
         "N": 24,
         "vel": 22,
         "acc": "nan",
         "accelMeans14": "nan",
         "accelMeans7": "nan",
         "accelMeans3": "nan",
         "_deepnote_index_column": 1
        },
        {
         "Date": "19/01/2021",
         "test": 1000,
         "N": 37,
         "vel": 13,
         "acc": -9,
         "accelMeans14": "nan",
         "accelMeans7": "nan",
         "accelMeans3": "nan",
         "_deepnote_index_column": 2
        },
        {
         "Date": "20/01/2021",
         "test": 90,
         "N": 3,
         "vel": -34,
         "acc": -47,
         "accelMeans14": "nan",
         "accelMeans7": "nan",
         "accelMeans3": 0.3333333333333333,
         "_deepnote_index_column": 3
        },
        {
         "Date": "21/01/2021",
         "test": 638,
         "N": 5,
         "vel": 2,
         "acc": 36,
         "accelMeans14": "nan",
         "accelMeans7": "nan",
         "accelMeans3": -6.333333333333333,
         "_deepnote_index_column": 4
        },
        {
         "Date": "22/01/2021",
         "test": 207,
         "N": 3,
         "vel": -2,
         "acc": -4,
         "accelMeans14": "nan",
         "accelMeans7": "nan",
         "accelMeans3": -11.333333333333334,
         "_deepnote_index_column": 5
        },
        {
         "Date": "23/01/2021",
         "test": 202,
         "N": 18,
         "vel": 15,
         "acc": 17,
         "accelMeans14": "nan",
         "accelMeans7": "nan",
         "accelMeans3": 5,
         "_deepnote_index_column": 6
        },
        {
         "Date": "24/01/2021",
         "test": 156,
         "N": 3,
         "vel": -15,
         "acc": -30,
         "accelMeans14": "nan",
         "accelMeans7": 0.14285714285714285,
         "accelMeans3": -0.6666666666666666,
         "_deepnote_index_column": 7
        },
        {
         "Date": "25/01/2021",
         "test": 505,
         "N": 5,
         "vel": 2,
         "acc": 17,
         "accelMeans14": "nan",
         "accelMeans7": -2.7142857142857144,
         "accelMeans3": 0.6666666666666666,
         "_deepnote_index_column": 8
        },
        {
         "Date": "26/01/2021",
         "test": 354,
         "N": 6,
         "vel": 1,
         "acc": -1,
         "accelMeans14": "nan",
         "accelMeans7": -4.428571428571429,
         "accelMeans3": -4,
         "_deepnote_index_column": 9
        },
        {
         "Date": "27/01/2021",
         "test": 203,
         "N": 4,
         "vel": -2,
         "acc": -3,
         "accelMeans14": "nan",
         "accelMeans7": 0.14285714285714285,
         "accelMeans3": 0.3333333333333333,
         "_deepnote_index_column": 10
        },
        {
         "Date": "28/01/2021",
         "test": 417,
         "N": 16,
         "vel": 12,
         "acc": 14,
         "accelMeans14": "nan",
         "accelMeans7": 1.5714285714285714,
         "accelMeans3": 3.6666666666666665,
         "_deepnote_index_column": 11
        },
        {
         "Date": "29/01/2021",
         "test": 437,
         "N": 20,
         "vel": 4,
         "acc": -8,
         "accelMeans14": "nan",
         "accelMeans7": 2.4285714285714284,
         "accelMeans3": 4.666666666666667,
         "_deepnote_index_column": 12
        },
        {
         "Date": "30/01/2021",
         "test": 338,
         "N": 8,
         "vel": -12,
         "acc": -16,
         "accelMeans14": "nan",
         "accelMeans7": -1.4285714285714286,
         "accelMeans3": 1.3333333333333333,
         "_deepnote_index_column": 13
        },
        {
         "Date": "31/01/2021",
         "test": 153,
         "N": 2,
         "vel": -6,
         "acc": 6,
         "accelMeans14": 0,
         "accelMeans7": -0.14285714285714285,
         "accelMeans3": -4.666666666666667,
         "_deepnote_index_column": 14
        },
        {
         "Date": "01/02/2021",
         "test": 257,
         "N": 4,
         "vel": 2,
         "acc": 8,
         "accelMeans14": -1.4285714285714286,
         "accelMeans7": -0.14285714285714285,
         "accelMeans3": -5.333333333333333,
         "_deepnote_index_column": 15
        },
        {
         "Date": "02/02/2021",
         "test": 212,
         "N": 7,
         "vel": 3,
         "acc": 1,
         "accelMeans14": -2.142857142857143,
         "accelMeans7": 0.14285714285714285,
         "accelMeans3": -0.3333333333333333,
         "_deepnote_index_column": 16
        },
        {
         "Date": "03/02/2021",
         "test": 196,
         "N": 12,
         "vel": 5,
         "acc": 2,
         "accelMeans14": 0.6428571428571429,
         "accelMeans7": 1.1428571428571428,
         "accelMeans3": 3.3333333333333335,
         "_deepnote_index_column": 17
        },
        {
         "Date": "04/02/2021",
         "test": 467,
         "N": 0,
         "vel": -12,
         "acc": -17,
         "accelMeans14": -0.35714285714285715,
         "accelMeans7": -2.2857142857142856,
         "accelMeans3": -1.3333333333333333,
         "_deepnote_index_column": 18
        },
        {
         "Date": "05/02/2021",
         "test": 6231,
         "N": 170,
         "vel": 170,
         "acc": 182,
         "accelMeans14": 11.928571428571429,
         "accelMeans7": 21.428571428571427,
         "accelMeans3": 54.333333333333336,
         "_deepnote_index_column": 19
        },
        {
         "Date": "06/02/2021",
         "test": 1359,
         "N": 26,
         "vel": -144,
         "acc": -314,
         "accelMeans14": 0.5714285714285714,
         "accelMeans7": 2.5714285714285716,
         "accelMeans3": 4.666666666666667,
         "_deepnote_index_column": 20
        },
        {
         "Date": "07/02/2021",
         "test": 228,
         "N": 0,
         "vel": -26,
         "acc": 118,
         "accelMeans14": -0.21428571428571427,
         "accelMeans7": -0.2857142857142857,
         "accelMeans3": 0,
         "_deepnote_index_column": 21
        },
        {
         "Date": "08/02/2021",
         "test": 430,
         "N": 72,
         "vel": 72,
         "acc": 98,
         "accelMeans14": 4.785714285714286,
         "accelMeans7": 9.714285714285714,
         "accelMeans3": -32.666666666666664,
         "_deepnote_index_column": 22
        },
        {
         "Date": "09/02/2021",
         "test": 327,
         "N": 0,
         "vel": -72,
         "acc": -144,
         "accelMeans14": -0.42857142857142855,
         "accelMeans7": -1,
         "accelMeans3": -8.666666666666666,
         "_deepnote_index_column": 23
        },
        {
         "Date": "10/02/2021",
         "test": 369,
         "N": 4,
         "vel": 4,
         "acc": 76,
         "accelMeans14": 0,
         "accelMeans7": -1.1428571428571428,
         "accelMeans3": 1.3333333333333333,
         "_deepnote_index_column": 24
        },
        {
         "Date": "11/02/2021",
         "test": 428,
         "N": 11,
         "vel": 7,
         "acc": 3,
         "accelMeans14": -0.35714285714285715,
         "accelMeans7": 1.5714285714285714,
         "accelMeans3": -20.333333333333332,
         "_deepnote_index_column": 25
        },
        {
         "Date": "12/02/2021",
         "test": 284,
         "N": 9,
         "vel": -2,
         "acc": -9,
         "accelMeans14": -0.7857142857142857,
         "accelMeans7": -23,
         "accelMeans3": 3,
         "_deepnote_index_column": 26
        },
        {
         "Date": "13/02/2021",
         "test": 332,
         "N": 10,
         "vel": 1,
         "acc": 3,
         "accelMeans14": 0.14285714285714285,
         "accelMeans7": -2.2857142857142856,
         "accelMeans3": 2,
         "_deepnote_index_column": 27
        },
        {
         "Date": "15/02/2021",
         "test": 567,
         "N": 12,
         "vel": 2,
         "acc": 1,
         "accelMeans14": 0.7142857142857143,
         "accelMeans7": 1.7142857142857142,
         "accelMeans3": 0.3333333333333333,
         "_deepnote_index_column": 28
        },
        {
         "Date": "16/02/2021",
         "test": 449,
         "N": 0,
         "vel": -12,
         "acc": -14,
         "accelMeans14": -0.2857142857142857,
         "accelMeans7": -10.285714285714286,
         "accelMeans3": -3,
         "_deepnote_index_column": 29
        },
        {
         "Date": "17/02/2021",
         "test": 1026,
         "N": 22,
         "vel": 22,
         "acc": 34,
         "accelMeans14": 1.0714285714285714,
         "accelMeans7": 3.142857142857143,
         "accelMeans3": 4,
         "_deepnote_index_column": 30
        },
        {
         "Date": "18/02/2021",
         "test": 442,
         "N": 20,
         "vel": -2,
         "acc": -24,
         "accelMeans14": 0.5714285714285714,
         "accelMeans7": 2.2857142857142856,
         "accelMeans3": 2.6666666666666665,
         "_deepnote_index_column": 31
        },
        {
         "Date": "19/02/2021",
         "test": 1382,
         "N": 47,
         "vel": 27,
         "acc": 29,
         "accelMeans14": 3.357142857142857,
         "accelMeans7": 5.142857142857143,
         "accelMeans3": 15.666666666666666,
         "_deepnote_index_column": 32
        },
        {
         "Date": "20/02/2021",
         "test": 72,
         "N": 11,
         "vel": -36,
         "acc": -63,
         "accelMeans14": -11.357142857142858,
         "accelMeans7": 0.2857142857142857,
         "accelMeans3": -3.6666666666666665,
         "_deepnote_index_column": 33
        },
        {
         "Date": "21/02/2021",
         "test": 2341,
         "N": 400,
         "vel": 389,
         "acc": 425,
         "accelMeans14": 26.714285714285715,
         "accelMeans7": 55.714285714285715,
         "accelMeans3": 126.66666666666667,
         "_deepnote_index_column": 34
        },
        {
         "Date": "22/02/2021",
         "test": 201,
         "N": 6,
         "vel": -394,
         "acc": -783,
         "accelMeans14": 0.42857142857142855,
         "accelMeans7": -0.8571428571428571,
         "accelMeans3": -13.666666666666666,
         "_deepnote_index_column": 35
        },
        {
         "Date": "23/02/2021",
         "test": 668,
         "N": 11,
         "vel": 5,
         "acc": 399,
         "accelMeans14": -4.357142857142857,
         "accelMeans7": 1.5714285714285714,
         "accelMeans3": 0,
         "_deepnote_index_column": 36
        },
        {
         "Date": "24/02/2021",
         "test": 428,
         "N": 8,
         "vel": -3,
         "acc": -8,
         "accelMeans14": 0.5714285714285714,
         "accelMeans7": -2,
         "accelMeans3": -130.66666666666666,
         "_deepnote_index_column": 37
        },
        {
         "Date": "25/02/2021",
         "test": 664,
         "N": 8,
         "vel": 0,
         "acc": 3,
         "accelMeans14": 0.2857142857142857,
         "accelMeans7": -1.7142857142857142,
         "accelMeans3": 0.6666666666666666,
         "_deepnote_index_column": 38
        },
        {
         "Date": "26/02/2021",
         "test": 572,
         "N": 17,
         "vel": 9,
         "acc": 9,
         "accelMeans14": 0.42857142857142855,
         "accelMeans7": -4.285714285714286,
         "accelMeans3": 2,
         "_deepnote_index_column": 39
        },
        {
         "Date": "27/02/2021",
         "test": 508,
         "N": 13,
         "vel": -4,
         "acc": -13,
         "accelMeans14": 0.2857142857142857,
         "accelMeans7": 0.2857142857142857,
         "accelMeans3": 1.6666666666666667,
         "_deepnote_index_column": 40
        },
        {
         "Date": "01/03/2021",
         "test": 705,
         "N": 13,
         "vel": 0,
         "acc": 4,
         "accelMeans14": 0.21428571428571427,
         "accelMeans7": -55.285714285714285,
         "accelMeans3": 1.6666666666666667,
         "_deepnote_index_column": 41
        },
        {
         "Date": "02/03/2021",
         "test": 488,
         "N": 5,
         "vel": -8,
         "acc": -8,
         "accelMeans14": -0.5,
         "accelMeans7": -0.14285714285714285,
         "accelMeans3": -4,
         "_deepnote_index_column": 42
        },
        {
         "Date": "03/03/2021",
         "test": 656,
         "N": 17,
         "vel": 12,
         "acc": 20,
         "accelMeans14": 1.2142857142857142,
         "accelMeans7": 0.8571428571428571,
         "accelMeans3": 1.3333333333333333,
         "_deepnote_index_column": 43
        },
        {
         "Date": "04/03/2021",
         "test": 469,
         "N": 5,
         "vel": -12,
         "acc": -24,
         "accelMeans14": -1.2142857142857142,
         "accelMeans7": -0.42857142857142855,
         "accelMeans3": -2.6666666666666665,
         "_deepnote_index_column": 44
        },
        {
         "Date": "05/03/2021",
         "test": 542,
         "N": 16,
         "vel": 11,
         "acc": 23,
         "accelMeans14": -0.2857142857142857,
         "accelMeans7": 1.1428571428571428,
         "accelMeans3": 3.6666666666666665,
         "_deepnote_index_column": 45
        },
        {
         "Date": "06/03/2021",
         "test": 1545,
         "N": 63,
         "vel": 47,
         "acc": 36,
         "accelMeans14": 1.1428571428571428,
         "accelMeans7": 6.571428571428571,
         "accelMeans3": 15.333333333333334,
         "_deepnote_index_column": 46
        },
        {
         "Date": "07/03/2021",
         "test": 458,
         "N": 4,
         "vel": -59,
         "acc": -106,
         "accelMeans14": -0.5,
         "accelMeans7": -1.2857142857142858,
         "accelMeans3": -0.3333333333333333,
         "_deepnote_index_column": 47
        },
        {
         "Date": "08/03/2021",
         "test": 327,
         "N": 12,
         "vel": 8,
         "acc": 67,
         "accelMeans14": -27.714285714285715,
         "accelMeans7": -0.14285714285714285,
         "accelMeans3": -1.3333333333333333,
         "_deepnote_index_column": 48
        },
        {
         "Date": "09/03/2021",
         "test": 614,
         "N": 6,
         "vel": -6,
         "acc": -14,
         "accelMeans14": 0,
         "accelMeans7": 0.14285714285714285,
         "accelMeans3": -19,
         "_deepnote_index_column": 49
        },
        {
         "Date": "10/03/2021",
         "test": 537,
         "N": 8,
         "vel": 2,
         "acc": 8,
         "accelMeans14": -0.21428571428571427,
         "accelMeans7": -1.2857142857142858,
         "accelMeans3": 1.3333333333333333,
         "_deepnote_index_column": 50
        },
        {
         "Date": "11/03/2021",
         "test": 532,
         "N": 12,
         "vel": 4,
         "acc": 2,
         "accelMeans14": 0.2857142857142857,
         "accelMeans7": 1,
         "accelMeans3": 0,
         "_deepnote_index_column": 51
        },
        {
         "Date": "12/03/2021",
         "test": 483,
         "N": 11,
         "vel": -1,
         "acc": -5,
         "accelMeans14": 0.21428571428571427,
         "accelMeans7": -0.7142857142857143,
         "accelMeans3": 1.6666666666666667,
         "_deepnote_index_column": 52
        },
        {
         "Date": "13/03/2021",
         "test": 259,
         "N": 0,
         "vel": -11,
         "acc": -10,
         "accelMeans14": -1.2142857142857142,
         "accelMeans7": -9,
         "accelMeans3": -2.6666666666666665,
         "_deepnote_index_column": 53
        },
        {
         "Date": "15/03/2021",
         "test": 625,
         "N": 13,
         "vel": 13,
         "acc": 24,
         "accelMeans14": 0,
         "accelMeans7": 1.2857142857142858,
         "accelMeans3": 0.3333333333333333,
         "_deepnote_index_column": 54
        },
        {
         "Date": "16/03/2021",
         "test": 493,
         "N": 12,
         "vel": -1,
         "acc": -14,
         "accelMeans14": -0.07142857142857142,
         "accelMeans7": 0,
         "accelMeans3": 0.3333333333333333,
         "_deepnote_index_column": 55
        },
        {
         "Date": "17/03/2021",
         "test": 503,
         "N": 9,
         "vel": -3,
         "acc": -2,
         "accelMeans14": 0.2857142857142857,
         "accelMeans7": 0.42857142857142855,
         "accelMeans3": 3,
         "_deepnote_index_column": 56
        },
        {
         "Date": "18/03/2021",
         "test": 498,
         "N": 6,
         "vel": -3,
         "acc": 0,
         "accelMeans14": -0.7857142857142857,
         "accelMeans7": -0.2857142857142857,
         "accelMeans3": -2.3333333333333335,
         "_deepnote_index_column": 57
        },
        {
         "Date": "19/03/2021",
         "test": 794,
         "N": 15,
         "vel": 9,
         "acc": 12,
         "accelMeans14": 0.7142857142857143,
         "accelMeans7": 0.42857142857142855,
         "accelMeans3": 1,
         "_deepnote_index_column": 58
        },
        {
         "Date": "20/03/2021",
         "test": 243,
         "N": 8,
         "vel": -7,
         "acc": -16,
         "accelMeans14": -0.5714285714285714,
         "accelMeans7": -0.42857142857142855,
         "accelMeans3": -0.3333333333333333,
         "_deepnote_index_column": 59
        },
        {
         "Date": "21/03/2021",
         "test": 507,
         "N": 8,
         "vel": 0,
         "acc": 7,
         "accelMeans14": -3.9285714285714284,
         "accelMeans7": 1.1428571428571428,
         "accelMeans3": 0.6666666666666666,
         "_deepnote_index_column": 60
        },
        {
         "Date": "22/03/2021",
         "test": 620,
         "N": 5,
         "vel": -3,
         "acc": -3,
         "accelMeans14": 0.07142857142857142,
         "accelMeans7": -1.1428571428571428,
         "accelMeans3": -3.3333333333333335,
         "_deepnote_index_column": 61
        }
       ],
       "rows_bottom": [
        {
         "Date": "27/07/2021",
         "test": 2751,
         "N": 1545,
         "vel": 1069,
         "acc": 1341,
         "accelMeans14": 98.42857142857143,
         "accelMeans7": 173,
         "accelMeans3": 244.33333333333334,
         "_deepnote_index_column": 187
        },
        {
         "Date": "28/07/2021",
         "test": 557,
         "N": 358,
         "vel": -1187,
         "acc": -2256,
         "accelMeans14": 6.714285714285714,
         "accelMeans7": -73.14285714285714,
         "accelMeans3": -130,
         "_deepnote_index_column": 188
        },
        {
         "Date": "29/07/2021",
         "test": 1436,
         "N": 859,
         "vel": 501,
         "acc": 1688,
         "accelMeans14": 19.285714285714285,
         "accelMeans7": 4.142857142857143,
         "accelMeans3": 127.66666666666667,
         "_deepnote_index_column": 189
        },
        {
         "Date": "30/07/2021",
         "test": 2084,
         "N": 1234,
         "vel": 375,
         "acc": -126,
         "accelMeans14": 11.642857142857142,
         "accelMeans7": 102.71428571428571,
         "accelMeans3": -103.66666666666667,
         "_deepnote_index_column": 190
        },
        {
         "Date": "31/07/2021",
         "test": 1020,
         "N": 533,
         "vel": -701,
         "acc": -1076,
         "accelMeans14": 1.8571428571428572,
         "accelMeans7": -39.857142857142854,
         "accelMeans3": 58.333333333333336,
         "_deepnote_index_column": 191
        },
        {
         "Date": "01/08/2021",
         "test": 1362,
         "N": 914,
         "vel": 381,
         "acc": 1082,
         "accelMeans14": 39.285714285714285,
         "accelMeans7": 23.714285714285715,
         "accelMeans3": 18.333333333333332,
         "_deepnote_index_column": 192
        },
        {
         "Date": "02/08/2021",
         "test": 1406,
         "N": 950,
         "vel": 36,
         "acc": -345,
         "accelMeans14": 2.2857142857142856,
         "accelMeans7": 67.71428571428571,
         "accelMeans3": -94.66666666666667,
         "_deepnote_index_column": 193
        },
        {
         "Date": "03/08/2021",
         "test": 2414,
         "N": 1396,
         "vel": 446,
         "acc": 410,
         "accelMeans14": 75.85714285714286,
         "accelMeans7": -21.285714285714285,
         "accelMeans3": 287.6666666666667,
         "_deepnote_index_column": 194
        },
        {
         "Date": "04/08/2021",
         "test": 1225,
         "N": 651,
         "vel": -745,
         "acc": -1191,
         "accelMeans14": -15.642857142857142,
         "accelMeans7": 41.857142857142854,
         "accelMeans3": -87.66666666666667,
         "_deepnote_index_column": 195
        },
        {
         "Date": "05/08/2021",
         "test": 2389,
         "N": 1510,
         "vel": 859,
         "acc": 1604,
         "accelMeans14": 48.57142857142857,
         "accelMeans7": 93,
         "accelMeans3": 186.66666666666666,
         "_deepnote_index_column": 196
        },
        {
         "Date": "06/08/2021",
         "test": 2192,
         "N": 1275,
         "vel": -235,
         "acc": -1094,
         "accelMeans14": 54.285714285714285,
         "accelMeans7": 5.857142857142857,
         "accelMeans3": -40.333333333333336,
         "_deepnote_index_column": 197
        },
        {
         "Date": "07/08/2021",
         "test": 1709,
         "N": 1152,
         "vel": -123,
         "acc": 112,
         "accelMeans14": 24.285714285714285,
         "accelMeans7": 88.42857142857143,
         "accelMeans3": 167,
         "_deepnote_index_column": 198
        },
        {
         "Date": "08/08/2021",
         "test": 1721,
         "N": 1022,
         "vel": -130,
         "acc": -7,
         "accelMeans14": 19.571428571428573,
         "accelMeans7": 15.428571428571429,
         "accelMeans3": -162.66666666666666,
         "_deepnote_index_column": 199
        },
        {
         "Date": "09/08/2021",
         "test": 2883,
         "N": 1701,
         "vel": 679,
         "acc": 809,
         "accelMeans14": 87.5,
         "accelMeans7": 107.28571428571429,
         "accelMeans3": 142,
         "_deepnote_index_column": 200
        },
        {
         "Date": "10/08/2021",
         "test": 2547,
         "N": 1653,
         "vel": -48,
         "acc": -727,
         "accelMeans14": 7.714285714285714,
         "accelMeans7": 36.714285714285715,
         "accelMeans3": 167,
         "_deepnote_index_column": 201
        },
        {
         "Date": "11/08/2021",
         "test": 2624,
         "N": 1640,
         "vel": -13,
         "acc": 35,
         "accelMeans14": 91.57142857142857,
         "accelMeans7": 141.28571428571428,
         "accelMeans3": 206,
         "_deepnote_index_column": 202
        },
        {
         "Date": "12/08/2021",
         "test": 2005,
         "N": 1149,
         "vel": -491,
         "acc": -478,
         "accelMeans14": 20.714285714285715,
         "accelMeans7": -51.57142857142857,
         "accelMeans3": -184,
         "_deepnote_index_column": 203
        },
        {
         "Date": "13/08/2021",
         "test": 2219,
         "N": 1255,
         "vel": 106,
         "acc": 597,
         "accelMeans14": 1.5,
         "accelMeans7": -2.857142857142857,
         "accelMeans3": -132.66666666666666,
         "_deepnote_index_column": 204
        },
        {
         "Date": "14/08/2021",
         "test": 1873,
         "N": 1001,
         "vel": -254,
         "acc": -360,
         "accelMeans14": 33.42857142857143,
         "accelMeans7": -21.571428571428573,
         "accelMeans3": -213,
         "_deepnote_index_column": 205
        },
        {
         "Date": "15/08/2021",
         "test": 1818,
         "N": 1078,
         "vel": 77,
         "acc": 331,
         "accelMeans14": 11.714285714285714,
         "accelMeans7": 8,
         "accelMeans3": -23.666666666666668,
         "_deepnote_index_column": 206
        },
        {
         "Date": "16/08/2021",
         "test": 3484,
         "N": 2249,
         "vel": 1171,
         "acc": 1094,
         "accelMeans14": 92.78571428571429,
         "accelMeans7": 78.28571428571429,
         "accelMeans3": 331.3333333333333,
         "_deepnote_index_column": 207
        },
        {
         "Date": "17/08/2021",
         "test": 2277,
         "N": 1328,
         "vel": -921,
         "acc": -2092,
         "accelMeans14": -4.857142857142857,
         "accelMeans7": -46.42857142857143,
         "accelMeans3": 109,
         "_deepnote_index_column": 208
        },
        {
         "Date": "18/08/2021",
         "test": 2346,
         "N": 1189,
         "vel": -139,
         "acc": 782,
         "accelMeans14": 38.42857142857143,
         "accelMeans7": -64.42857142857143,
         "accelMeans3": 37,
         "_deepnote_index_column": 209
        },
        {
         "Date": "19/08/2021",
         "test": 3242,
         "N": 2034,
         "vel": 845,
         "acc": 984,
         "accelMeans14": 37.42857142857143,
         "accelMeans7": 126.42857142857143,
         "accelMeans3": -71.66666666666667,
         "_deepnote_index_column": 210
        },
        {
         "Date": "20/08/2021",
         "test": 2725,
         "N": 1691,
         "vel": -343,
         "acc": -1188,
         "accelMeans14": 29.714285714285715,
         "accelMeans7": 62.285714285714285,
         "accelMeans3": 121,
         "_deepnote_index_column": 211
        },
        {
         "Date": "21/08/2021",
         "test": 2686,
         "N": 1696,
         "vel": 5,
         "acc": 348,
         "accelMeans14": 38.857142857142854,
         "accelMeans7": 99.28571428571429,
         "accelMeans3": 169,
         "_deepnote_index_column": 212
        },
        {
         "Date": "22/08/2021",
         "test": 2489,
         "N": 1403,
         "vel": -293,
         "acc": -298,
         "accelMeans14": 27.214285714285715,
         "accelMeans7": 46.42857142857143,
         "accelMeans3": -210.33333333333334,
         "_deepnote_index_column": 213
        },
        {
         "Date": "23/08/2021",
         "test": 2252,
         "N": 1344,
         "vel": -59,
         "acc": 234,
         "accelMeans14": -25.5,
         "accelMeans7": -129.28571428571428,
         "accelMeans3": -115.66666666666667,
         "_deepnote_index_column": 214
        },
        {
         "Date": "24/08/2021",
         "test": 1449,
         "N": 934,
         "vel": -410,
         "acc": -351,
         "accelMeans14": -51.357142857142854,
         "accelMeans7": -56.285714285714285,
         "accelMeans3": -254,
         "_deepnote_index_column": 215
        },
        {
         "Date": "25/08/2021",
         "test": 1117,
         "N": 688,
         "vel": -246,
         "acc": 164,
         "accelMeans14": -68,
         "accelMeans7": -71.57142857142857,
         "accelMeans3": -238.33333333333334,
         "_deepnote_index_column": 216
        },
        {
         "Date": "26/08/2021",
         "test": 827,
         "N": 487,
         "vel": -201,
         "acc": 45,
         "accelMeans14": -47.285714285714285,
         "accelMeans7": -221,
         "accelMeans3": -285.6666666666667,
         "_deepnote_index_column": 217
        },
        {
         "Date": "27/08/2021",
         "test": 641,
         "N": 312,
         "vel": -175,
         "acc": 26,
         "accelMeans14": -67.35714285714286,
         "accelMeans7": -197,
         "accelMeans3": -207.33333333333334,
         "_deepnote_index_column": 218
        },
        {
         "Date": "28/08/2021",
         "test": 600,
         "N": 331,
         "vel": 19,
         "acc": 194,
         "accelMeans14": -47.857142857142854,
         "accelMeans7": -195,
         "accelMeans3": -119,
         "_deepnote_index_column": 219
        },
        {
         "Date": "29/08/2021",
         "test": 728,
         "N": 499,
         "vel": 168,
         "acc": 149,
         "accelMeans14": -41.357142857142854,
         "accelMeans7": -129.14285714285714,
         "accelMeans3": 4,
         "_deepnote_index_column": 220
        },
        {
         "Date": "30/08/2021",
         "test": 795,
         "N": 489,
         "vel": -10,
         "acc": -178,
         "accelMeans14": -125.71428571428571,
         "accelMeans7": -122.14285714285714,
         "accelMeans3": 59,
         "_deepnote_index_column": 221
        },
        {
         "Date": "31/08/2021",
         "test": 908,
         "N": 619,
         "vel": 130,
         "acc": 140,
         "accelMeans14": -50.642857142857146,
         "accelMeans7": -45,
         "accelMeans3": 96,
         "_deepnote_index_column": 222
        },
        {
         "Date": "01/09/2021",
         "test": 823,
         "N": 533,
         "vel": -86,
         "acc": -216,
         "accelMeans14": -46.857142857142854,
         "accelMeans7": -22.142857142857142,
         "accelMeans3": 11.333333333333334,
         "_deepnote_index_column": 223
        },
        {
         "Date": "02/09/2021",
         "test": 703,
         "N": 474,
         "vel": -59,
         "acc": 27,
         "accelMeans14": -111.42857142857143,
         "accelMeans7": -1.8571428571428572,
         "accelMeans3": -5,
         "_deepnote_index_column": 224
        },
        {
         "Date": "03/09/2021",
         "test": 773,
         "N": 431,
         "vel": -43,
         "acc": 16,
         "accelMeans14": -90,
         "accelMeans7": 17,
         "accelMeans3": -62.666666666666664,
         "_deepnote_index_column": 225
        },
        {
         "Date": "04/09/2021",
         "test": 1039,
         "N": 542,
         "vel": 111,
         "acc": 154,
         "accelMeans14": -82.42857142857143,
         "accelMeans7": 30.142857142857142,
         "accelMeans3": 3,
         "_deepnote_index_column": 226
        },
        {
         "Date": "05/09/2021",
         "test": 798,
         "N": 589,
         "vel": 47,
         "acc": -64,
         "accelMeans14": -58.142857142857146,
         "accelMeans7": 12.857142857142858,
         "accelMeans3": 38.333333333333336,
         "_deepnote_index_column": 227
        },
        {
         "Date": "06/09/2021",
         "test": 480,
         "N": 355,
         "vel": -234,
         "acc": -281,
         "accelMeans14": -70.64285714285714,
         "accelMeans7": -19.142857142857142,
         "accelMeans3": -25.333333333333332,
         "_deepnote_index_column": 228
        },
        {
         "Date": "07/09/2021",
         "test": 627,
         "N": 395,
         "vel": 40,
         "acc": 274,
         "accelMeans14": -38.5,
         "accelMeans7": -32,
         "accelMeans3": -49,
         "_deepnote_index_column": 229
        },
        {
         "Date": "08/09/2021",
         "test": 543,
         "N": 350,
         "vel": -45,
         "acc": -85,
         "accelMeans14": -24.142857142857142,
         "accelMeans7": -26.142857142857142,
         "accelMeans3": -79.66666666666667,
         "_deepnote_index_column": 230
        },
        {
         "Date": "09/09/2021",
         "test": 589,
         "N": 391,
         "vel": 41,
         "acc": 86,
         "accelMeans14": -6.857142857142857,
         "accelMeans7": -11.857142857142858,
         "accelMeans3": 12,
         "_deepnote_index_column": 231
        },
        {
         "Date": "10/09/2021",
         "test": 548,
         "N": 351,
         "vel": -40,
         "acc": -81,
         "accelMeans14": 2.7857142857142856,
         "accelMeans7": -11.428571428571429,
         "accelMeans3": -14.666666666666666,
         "_deepnote_index_column": 232
        },
        {
         "Date": "11/09/2021",
         "test": 517,
         "N": 333,
         "vel": -18,
         "acc": 22,
         "accelMeans14": 0.14285714285714285,
         "accelMeans7": -29.857142857142858,
         "accelMeans3": -5.666666666666667,
         "_deepnote_index_column": 233
        },
        {
         "Date": "12/09/2021",
         "test": 397,
         "N": 186,
         "vel": -147,
         "acc": -129,
         "accelMeans14": -22.357142857142858,
         "accelMeans7": -57.57142857142857,
         "accelMeans3": -68.33333333333333,
         "_deepnote_index_column": 234
        },
        {
         "Date": "13/09/2021",
         "test": 289,
         "N": 203,
         "vel": 17,
         "acc": 164,
         "accelMeans14": -20.428571428571427,
         "accelMeans7": -21.714285714285715,
         "accelMeans3": -49.333333333333336,
         "_deepnote_index_column": 235
        },
        {
         "Date": "14/09/2021",
         "test": 439,
         "N": 288,
         "vel": 85,
         "acc": 68,
         "accelMeans14": -23.642857142857142,
         "accelMeans7": -15.285714285714286,
         "accelMeans3": -15,
         "_deepnote_index_column": 236
        },
        {
         "Date": "15/09/2021",
         "test": 447,
         "N": 280,
         "vel": -8,
         "acc": -93,
         "accelMeans14": -18.071428571428573,
         "accelMeans7": -10,
         "accelMeans3": 31.333333333333332,
         "_deepnote_index_column": 237
        },
        {
         "Date": "16/09/2021",
         "test": 562,
         "N": 374,
         "vel": 94,
         "acc": 102,
         "accelMeans14": -7.142857142857143,
         "accelMeans7": -2.4285714285714284,
         "accelMeans3": 57,
         "_deepnote_index_column": 238
        },
        {
         "Date": "17/09/2021",
         "test": 405,
         "N": 278,
         "vel": -96,
         "acc": -190,
         "accelMeans14": -10.928571428571429,
         "accelMeans7": -10.428571428571429,
         "accelMeans3": -3.3333333333333335,
         "_deepnote_index_column": 239
        },
        {
         "Date": "18/09/2021",
         "test": 366,
         "N": 267,
         "vel": -11,
         "acc": 85,
         "accelMeans14": -19.642857142857142,
         "accelMeans7": -9.428571428571429,
         "accelMeans3": -4.333333333333333,
         "_deepnote_index_column": 240
        },
        {
         "Date": "19/09/2021",
         "test": 339,
         "N": 198,
         "vel": -69,
         "acc": -58,
         "accelMeans14": -27.928571428571427,
         "accelMeans7": 1.7142857142857142,
         "accelMeans3": -58.666666666666664,
         "_deepnote_index_column": 241
        },
        {
         "Date": "20/09/2021",
         "test": 279,
         "N": 122,
         "vel": -76,
         "acc": -7,
         "accelMeans14": -16.642857142857142,
         "accelMeans7": -11.571428571428571,
         "accelMeans3": -52,
         "_deepnote_index_column": 242
        },
        {
         "Date": "21/09/2021",
         "test": 341,
         "N": 215,
         "vel": 93,
         "acc": 169,
         "accelMeans14": -12.857142857142858,
         "accelMeans7": -10.428571428571429,
         "accelMeans3": -17.333333333333332,
         "_deepnote_index_column": 243
        },
        {
         "Date": "22/09/2021",
         "test": 474,
         "N": 236,
         "vel": 21,
         "acc": -72,
         "accelMeans14": -8.142857142857142,
         "accelMeans7": -6.285714285714286,
         "accelMeans3": 12.666666666666666,
         "_deepnote_index_column": 244
        },
        {
         "Date": "23/09/2021",
         "test": 300,
         "N": 180,
         "vel": -56,
         "acc": -77,
         "accelMeans14": -15.071428571428571,
         "accelMeans7": -27.714285714285715,
         "accelMeans3": 19.333333333333332,
         "_deepnote_index_column": 245
        },
        {
         "Date": "24/09/2021",
         "test": 259,
         "N": 102,
         "vel": -78,
         "acc": -22,
         "accelMeans14": -17.785714285714285,
         "accelMeans7": -25.142857142857142,
         "accelMeans3": -37.666666666666664,
         "_deepnote_index_column": 246
        },
        {
         "Date": "25/09/2021",
         "test": 287,
         "N": 168,
         "vel": 66,
         "acc": 144,
         "accelMeans14": -11.785714285714286,
         "accelMeans7": -14.142857142857142,
         "accelMeans3": -22.666666666666668,
         "_deepnote_index_column": 247
        },
        {
         "Date": "26/09/2021",
         "test": 183,
         "N": 129,
         "vel": -39,
         "acc": -105,
         "accelMeans14": -4.071428571428571,
         "accelMeans7": -9.857142857142858,
         "accelMeans3": -17,
         "_deepnote_index_column": 248
        },
        {
         "Date": "27/09/2021",
         "test": 132,
         "N": 93,
         "vel": -36,
         "acc": 3,
         "accelMeans14": -7.857142857142857,
         "accelMeans7": -4.142857142857143,
         "accelMeans3": -3,
         "_deepnote_index_column": 249
        }
       ]
      },
      "text/plain": "           Date  test    N   vel    acc  accelMeans14  accelMeans7  \\\n0    17/01/2021    12    2   NaN    NaN           NaN          NaN   \n1    18/01/2021  1566   24  22.0    NaN           NaN          NaN   \n2    19/01/2021  1000   37  13.0   -9.0           NaN          NaN   \n3    20/01/2021    90    3 -34.0  -47.0           NaN          NaN   \n4    21/01/2021   638    5   2.0   36.0           NaN          NaN   \n..          ...   ...  ...   ...    ...           ...          ...   \n245  23/09/2021   300  180 -56.0  -77.0    -15.071429   -27.714286   \n246  24/09/2021   259  102 -78.0  -22.0    -17.785714   -25.142857   \n247  25/09/2021   287  168  66.0  144.0    -11.785714   -14.142857   \n248  26/09/2021   183  129 -39.0 -105.0     -4.071429    -9.857143   \n249  27/09/2021   132   93 -36.0    3.0     -7.857143    -4.142857   \n\n     accelMeans3  \n0            NaN  \n1            NaN  \n2            NaN  \n3       0.333333  \n4      -6.333333  \n..           ...  \n245    19.333333  \n246   -37.666667  \n247   -22.666667  \n248   -17.000000  \n249    -3.000000  \n\n[250 rows x 8 columns]",
      "text/html": "<div>\n<style scoped>\n    .dataframe tbody tr th:only-of-type {\n        vertical-align: middle;\n    }\n\n    .dataframe tbody tr th {\n        vertical-align: top;\n    }\n\n    .dataframe thead th {\n        text-align: right;\n    }\n</style>\n<table border=\"1\" class=\"dataframe\">\n  <thead>\n    <tr style=\"text-align: right;\">\n      <th></th>\n      <th>Date</th>\n      <th>test</th>\n      <th>N</th>\n      <th>vel</th>\n      <th>acc</th>\n      <th>accelMeans14</th>\n      <th>accelMeans7</th>\n      <th>accelMeans3</th>\n    </tr>\n  </thead>\n  <tbody>\n    <tr>\n      <th>0</th>\n      <td>17/01/2021</td>\n      <td>12</td>\n      <td>2</td>\n      <td>NaN</td>\n      <td>NaN</td>\n      <td>NaN</td>\n      <td>NaN</td>\n      <td>NaN</td>\n    </tr>\n    <tr>\n      <th>1</th>\n      <td>18/01/2021</td>\n      <td>1566</td>\n      <td>24</td>\n      <td>22.0</td>\n      <td>NaN</td>\n      <td>NaN</td>\n      <td>NaN</td>\n      <td>NaN</td>\n    </tr>\n    <tr>\n      <th>2</th>\n      <td>19/01/2021</td>\n      <td>1000</td>\n      <td>37</td>\n      <td>13.0</td>\n      <td>-9.0</td>\n      <td>NaN</td>\n      <td>NaN</td>\n      <td>NaN</td>\n    </tr>\n    <tr>\n      <th>3</th>\n      <td>20/01/2021</td>\n      <td>90</td>\n      <td>3</td>\n      <td>-34.0</td>\n      <td>-47.0</td>\n      <td>NaN</td>\n      <td>NaN</td>\n      <td>0.333333</td>\n    </tr>\n    <tr>\n      <th>4</th>\n      <td>21/01/2021</td>\n      <td>638</td>\n      <td>5</td>\n      <td>2.0</td>\n      <td>36.0</td>\n      <td>NaN</td>\n      <td>NaN</td>\n      <td>-6.333333</td>\n    </tr>\n    <tr>\n      <th>...</th>\n      <td>...</td>\n      <td>...</td>\n      <td>...</td>\n      <td>...</td>\n      <td>...</td>\n      <td>...</td>\n      <td>...</td>\n      <td>...</td>\n    </tr>\n    <tr>\n      <th>245</th>\n      <td>23/09/2021</td>\n      <td>300</td>\n      <td>180</td>\n      <td>-56.0</td>\n      <td>-77.0</td>\n      <td>-15.071429</td>\n      <td>-27.714286</td>\n      <td>19.333333</td>\n    </tr>\n    <tr>\n      <th>246</th>\n      <td>24/09/2021</td>\n      <td>259</td>\n      <td>102</td>\n      <td>-78.0</td>\n      <td>-22.0</td>\n      <td>-17.785714</td>\n      <td>-25.142857</td>\n      <td>-37.666667</td>\n    </tr>\n    <tr>\n      <th>247</th>\n      <td>25/09/2021</td>\n      <td>287</td>\n      <td>168</td>\n      <td>66.0</td>\n      <td>144.0</td>\n      <td>-11.785714</td>\n      <td>-14.142857</td>\n      <td>-22.666667</td>\n    </tr>\n    <tr>\n      <th>248</th>\n      <td>26/09/2021</td>\n      <td>183</td>\n      <td>129</td>\n      <td>-39.0</td>\n      <td>-105.0</td>\n      <td>-4.071429</td>\n      <td>-9.857143</td>\n      <td>-17.000000</td>\n    </tr>\n    <tr>\n      <th>249</th>\n      <td>27/09/2021</td>\n      <td>132</td>\n      <td>93</td>\n      <td>-36.0</td>\n      <td>3.0</td>\n      <td>-7.857143</td>\n      <td>-4.142857</td>\n      <td>-3.000000</td>\n    </tr>\n  </tbody>\n</table>\n<p>250 rows × 8 columns</p>\n</div>"
     },
     "metadata": {}
    }
   ]
  },
  {
   "cell_type": "code",
   "metadata": {
    "cell_id": "00002-a441baa8-09ce-418c-87cd-a000232e9873",
    "deepnote_to_be_reexecuted": false,
    "source_hash": "a13ba2b6",
    "execution_start": 1632846798012,
    "execution_millis": 1803,
    "deepnote_cell_type": "code"
   },
   "source": "fig = px.line(cfg, x=\"Date\", y=\"N\", template=chartTemplate)\nfig.update_layout({\"title\": 'Casos - Cienfuegos',\n                   \"xaxis\": {\"title\":\"Días\"},\n                   \"yaxis\": {\"title\":\"Casos\"},\n                   \"showlegend\": False})\n\nfig.show()",
   "execution_count": null,
   "outputs": [
    {
     "data": {
      "text/html": "<html>\n<head><meta charset=\"utf-8\" /></head>\n<body>\n    <div>            <script src=\"https://cdnjs.cloudflare.com/ajax/libs/mathjax/2.7.5/MathJax.js?config=TeX-AMS-MML_SVG\"></script><script type=\"text/javascript\">if (window.MathJax) {MathJax.Hub.Config({SVG: {font: \"STIX-Web\"}});}</script>                <script type=\"text/javascript\">window.PlotlyConfig = {MathJaxConfig: 'local'};</script>\n        <script src=\"https://cdn.plot.ly/plotly-2.4.2.min.js\"></script>                <div id=\"4e6a637b-11cd-45a2-b730-cbb15bc9455a\" class=\"plotly-graph-div\" style=\"height:525px; width:100%;\"></div>            <script type=\"text/javascript\">                                    window.PLOTLYENV=window.PLOTLYENV || {};                                    if (document.getElementById(\"4e6a637b-11cd-45a2-b730-cbb15bc9455a\")) {                    Plotly.newPlot(                        \"4e6a637b-11cd-45a2-b730-cbb15bc9455a\",                        [{\"hovertemplate\":\"Date=%{x}<br>N=%{y}<extra></extra>\",\"legendgroup\":\"\",\"line\":{\"color\":\"#636efa\",\"dash\":\"solid\"},\"marker\":{\"symbol\":\"circle\"},\"mode\":\"lines\",\"name\":\"\",\"orientation\":\"v\",\"showlegend\":false,\"type\":\"scatter\",\"x\":[\"17/01/2021\",\"18/01/2021\",\"19/01/2021\",\"20/01/2021\",\"21/01/2021\",\"22/01/2021\",\"23/01/2021\",\"24/01/2021\",\"25/01/2021\",\"26/01/2021\",\"27/01/2021\",\"28/01/2021\",\"29/01/2021\",\"30/01/2021\",\"31/01/2021\",\"01/02/2021\",\"02/02/2021\",\"03/02/2021\",\"04/02/2021\",\"05/02/2021\",\"06/02/2021\",\"07/02/2021\",\"08/02/2021\",\"09/02/2021\",\"10/02/2021\",\"11/02/2021\",\"12/02/2021\",\"13/02/2021\",\"15/02/2021\",\"16/02/2021\",\"17/02/2021\",\"18/02/2021\",\"19/02/2021\",\"20/02/2021\",\"21/02/2021\",\"22/02/2021\",\"23/02/2021\",\"24/02/2021\",\"25/02/2021\",\"26/02/2021\",\"27/02/2021\",\"01/03/2021\",\"02/03/2021\",\"03/03/2021\",\"04/03/2021\",\"05/03/2021\",\"06/03/2021\",\"07/03/2021\",\"08/03/2021\",\"09/03/2021\",\"10/03/2021\",\"11/03/2021\",\"12/03/2021\",\"13/03/2021\",\"15/03/2021\",\"16/03/2021\",\"17/03/2021\",\"18/03/2021\",\"19/03/2021\",\"20/03/2021\",\"21/03/2021\",\"22/03/2021\",\"23/03/2021\",\"24/03/2021\",\"25/03/2021\",\"26/03/2021\",\"27/03/2021\",\"29/03/2021\",\"30/03/2021\",\"31/03/2021\",\"01/04/2021\",\"02/04/2021\",\"03/04/2021\",\"04/04/2021\",\"05/04/2021\",\"06/04/2021\",\"07/04/2021\",\"08/04/2021\",\"09/04/2021\",\"10/04/2021\",\"11/04/2021\",\"12/04/2021\",\"13/04/2021\",\"14/04/2021\",\"15/04/2021\",\"16/04/2021\",\"17/04/2021\",\"18/04/2021\",\"19/04/2021\",\"20/04/2021\",\"21/04/2021\",\"22/04/2021\",\"23/04/2021\",\"24/04/2021\",\"25/04/2021\",\"26/04/2021\",\"27/04/2021\",\"28/04/2021\",\"29/04/2021\",\"30/04/2021\",\"01/05/2021\",\"02/05/2021\",\"03/05/2021\",\"04/05/2021\",\"05/05/2021\",\"06/05/2021\",\"07/05/2021\",\"08/05/2021\",\"09/05/2021\",\"10/05/2021\",\"11/05/2021\",\"12/05/2021\",\"13/05/2021\",\"14/05/2021\",\"15/05/2021\",\"16/05/2021\",\"17/05/2021\",\"18/05/2021\",\"19/05/2021\",\"20/05/2021\",\"21/05/2021\",\"22/05/2021\",\"23/05/2021\",\"24/05/2021\",\"25/05/2021\",\"26/05/2021\",\"27/05/2021\",\"28/05/2021\",\"29/05/2021\",\"30/05/2021\",\"31/05/2021\",\"01/06/2021\",\"02/06/2021\",\"03/06/2021\",\"04/06/2021\",\"05/06/2021\",\"06/06/2021\",\"07/06/2021\",\"08/06/2021\",\"09/06/2021\",\"10/06/2021\",\"11/06/2021\",\"12/06/2021\",\"13/06/2021\",\"14/06/2021\",\"15/06/2021\",\"16/06/2021\",\"17/06/2021\",\"18/06/2021\",\"19/06/2021\",\"20/06/2021\",\"21/06/2021\",\"22/06/2021\",\"23/06/2021\",\"24/06/2021\",\"25/06/2021\",\"26/06/2021\",\"27/06/2021\",\"28/06/2021\",\"29/06/2021\",\"30/06/2021\",\"01/07/2021\",\"02/07/2021\",\"03/07/2021\",\"04/07/2021\",\"05/07/2021\",\"06/07/2021\",\"07/07/2021\",\"08/07/2021\",\"09/07/2021\",\"10/07/2021\",\"11/07/2021\",\"12/07/2021\",\"13/07/2021\",\"14/07/2021\",\"15/07/2021\",\"16/07/2021\",\"17/07/2021\",\"18/07/2021\",\"19/07/2021\",\"20/07/2021\",\"21/07/2021\",\"22/07/2021\",\"23/07/2021\",\"24/07/2021\",\"25/07/2021\",\"26/07/2021\",\"27/07/2021\",\"28/07/2021\",\"29/07/2021\",\"30/07/2021\",\"31/07/2021\",\"01/08/2021\",\"02/08/2021\",\"03/08/2021\",\"04/08/2021\",\"05/08/2021\",\"06/08/2021\",\"07/08/2021\",\"08/08/2021\",\"09/08/2021\",\"10/08/2021\",\"11/08/2021\",\"12/08/2021\",\"13/08/2021\",\"14/08/2021\",\"15/08/2021\",\"16/08/2021\",\"17/08/2021\",\"18/08/2021\",\"19/08/2021\",\"20/08/2021\",\"21/08/2021\",\"22/08/2021\",\"23/08/2021\",\"24/08/2021\",\"25/08/2021\",\"26/08/2021\",\"27/08/2021\",\"28/08/2021\",\"29/08/2021\",\"30/08/2021\",\"31/08/2021\",\"01/09/2021\",\"02/09/2021\",\"03/09/2021\",\"04/09/2021\",\"05/09/2021\",\"06/09/2021\",\"07/09/2021\",\"08/09/2021\",\"09/09/2021\",\"10/09/2021\",\"11/09/2021\",\"12/09/2021\",\"13/09/2021\",\"14/09/2021\",\"15/09/2021\",\"16/09/2021\",\"17/09/2021\",\"18/09/2021\",\"19/09/2021\",\"20/09/2021\",\"21/09/2021\",\"22/09/2021\",\"23/09/2021\",\"24/09/2021\",\"25/09/2021\",\"26/09/2021\",\"27/09/2021\"],\"xaxis\":\"x\",\"y\":[2,24,37,3,5,3,18,3,5,6,4,16,20,8,2,4,7,12,0,170,26,0,72,0,4,11,9,10,12,0,22,20,47,11,400,6,11,8,8,17,13,13,5,17,5,16,63,4,12,6,8,12,11,0,13,12,9,6,15,8,8,5,15,0,20,16,31,21,9,27,55,19,13,11,26,26,100,8,387,25,12,22,15,8,10,12,20,12,15,14,14,12,11,13,16,16,12,15,14,3,17,3,26,26,26,18,23,28,18,22,26,11,44,15,74,361,132,77,624,141,56,58,38,79,71,29,37,40,86,49,43,53,31,28,40,42,50,19,41,50,65,72,78,132,124,50,43,76,37,42,63,59,61,77,61,56,77,96,94,76,85,101,88,74,77,157,211,153,180,206,404,464,176,167,264,589,1071,507,364,918,334,870,830,515,812,748,476,1545,358,859,1234,533,914,950,1396,651,1510,1275,1152,1022,1701,1653,1640,1149,1255,1001,1078,2249,1328,1189,2034,1691,1696,1403,1344,934,688,487,312,331,499,489,619,533,474,431,542,589,355,395,350,391,351,333,186,203,288,280,374,278,267,198,122,215,236,180,102,168,129,93],\"yaxis\":\"y\"}],                        {\"legend\":{\"tracegroupgap\":0},\"margin\":{\"t\":60},\"showlegend\":false,\"template\":{\"data\":{\"bar\":[{\"error_x\":{\"color\":\"#2a3f5f\"},\"error_y\":{\"color\":\"#2a3f5f\"},\"marker\":{\"line\":{\"color\":\"white\",\"width\":0.5},\"pattern\":{\"fillmode\":\"overlay\",\"size\":10,\"solidity\":0.2}},\"type\":\"bar\"}],\"barpolar\":[{\"marker\":{\"line\":{\"color\":\"white\",\"width\":0.5},\"pattern\":{\"fillmode\":\"overlay\",\"size\":10,\"solidity\":0.2}},\"type\":\"barpolar\"}],\"carpet\":[{\"aaxis\":{\"endlinecolor\":\"#2a3f5f\",\"gridcolor\":\"#C8D4E3\",\"linecolor\":\"#C8D4E3\",\"minorgridcolor\":\"#C8D4E3\",\"startlinecolor\":\"#2a3f5f\"},\"baxis\":{\"endlinecolor\":\"#2a3f5f\",\"gridcolor\":\"#C8D4E3\",\"linecolor\":\"#C8D4E3\",\"minorgridcolor\":\"#C8D4E3\",\"startlinecolor\":\"#2a3f5f\"},\"type\":\"carpet\"}],\"choropleth\":[{\"colorbar\":{\"outlinewidth\":0,\"ticks\":\"\"},\"type\":\"choropleth\"}],\"contour\":[{\"colorbar\":{\"outlinewidth\":0,\"ticks\":\"\"},\"colorscale\":[[0.0,\"#0d0887\"],[0.1111111111111111,\"#46039f\"],[0.2222222222222222,\"#7201a8\"],[0.3333333333333333,\"#9c179e\"],[0.4444444444444444,\"#bd3786\"],[0.5555555555555556,\"#d8576b\"],[0.6666666666666666,\"#ed7953\"],[0.7777777777777778,\"#fb9f3a\"],[0.8888888888888888,\"#fdca26\"],[1.0,\"#f0f921\"]],\"type\":\"contour\"}],\"contourcarpet\":[{\"colorbar\":{\"outlinewidth\":0,\"ticks\":\"\"},\"type\":\"contourcarpet\"}],\"heatmap\":[{\"colorbar\":{\"outlinewidth\":0,\"ticks\":\"\"},\"colorscale\":[[0.0,\"#0d0887\"],[0.1111111111111111,\"#46039f\"],[0.2222222222222222,\"#7201a8\"],[0.3333333333333333,\"#9c179e\"],[0.4444444444444444,\"#bd3786\"],[0.5555555555555556,\"#d8576b\"],[0.6666666666666666,\"#ed7953\"],[0.7777777777777778,\"#fb9f3a\"],[0.8888888888888888,\"#fdca26\"],[1.0,\"#f0f921\"]],\"type\":\"heatmap\"}],\"heatmapgl\":[{\"colorbar\":{\"outlinewidth\":0,\"ticks\":\"\"},\"colorscale\":[[0.0,\"#0d0887\"],[0.1111111111111111,\"#46039f\"],[0.2222222222222222,\"#7201a8\"],[0.3333333333333333,\"#9c179e\"],[0.4444444444444444,\"#bd3786\"],[0.5555555555555556,\"#d8576b\"],[0.6666666666666666,\"#ed7953\"],[0.7777777777777778,\"#fb9f3a\"],[0.8888888888888888,\"#fdca26\"],[1.0,\"#f0f921\"]],\"type\":\"heatmapgl\"}],\"histogram\":[{\"marker\":{\"pattern\":{\"fillmode\":\"overlay\",\"size\":10,\"solidity\":0.2}},\"type\":\"histogram\"}],\"histogram2d\":[{\"colorbar\":{\"outlinewidth\":0,\"ticks\":\"\"},\"colorscale\":[[0.0,\"#0d0887\"],[0.1111111111111111,\"#46039f\"],[0.2222222222222222,\"#7201a8\"],[0.3333333333333333,\"#9c179e\"],[0.4444444444444444,\"#bd3786\"],[0.5555555555555556,\"#d8576b\"],[0.6666666666666666,\"#ed7953\"],[0.7777777777777778,\"#fb9f3a\"],[0.8888888888888888,\"#fdca26\"],[1.0,\"#f0f921\"]],\"type\":\"histogram2d\"}],\"histogram2dcontour\":[{\"colorbar\":{\"outlinewidth\":0,\"ticks\":\"\"},\"colorscale\":[[0.0,\"#0d0887\"],[0.1111111111111111,\"#46039f\"],[0.2222222222222222,\"#7201a8\"],[0.3333333333333333,\"#9c179e\"],[0.4444444444444444,\"#bd3786\"],[0.5555555555555556,\"#d8576b\"],[0.6666666666666666,\"#ed7953\"],[0.7777777777777778,\"#fb9f3a\"],[0.8888888888888888,\"#fdca26\"],[1.0,\"#f0f921\"]],\"type\":\"histogram2dcontour\"}],\"mesh3d\":[{\"colorbar\":{\"outlinewidth\":0,\"ticks\":\"\"},\"type\":\"mesh3d\"}],\"parcoords\":[{\"line\":{\"colorbar\":{\"outlinewidth\":0,\"ticks\":\"\"}},\"type\":\"parcoords\"}],\"pie\":[{\"automargin\":true,\"type\":\"pie\"}],\"scatter\":[{\"marker\":{\"colorbar\":{\"outlinewidth\":0,\"ticks\":\"\"}},\"type\":\"scatter\"}],\"scatter3d\":[{\"line\":{\"colorbar\":{\"outlinewidth\":0,\"ticks\":\"\"}},\"marker\":{\"colorbar\":{\"outlinewidth\":0,\"ticks\":\"\"}},\"type\":\"scatter3d\"}],\"scattercarpet\":[{\"marker\":{\"colorbar\":{\"outlinewidth\":0,\"ticks\":\"\"}},\"type\":\"scattercarpet\"}],\"scattergeo\":[{\"marker\":{\"colorbar\":{\"outlinewidth\":0,\"ticks\":\"\"}},\"type\":\"scattergeo\"}],\"scattergl\":[{\"marker\":{\"colorbar\":{\"outlinewidth\":0,\"ticks\":\"\"}},\"type\":\"scattergl\"}],\"scattermapbox\":[{\"marker\":{\"colorbar\":{\"outlinewidth\":0,\"ticks\":\"\"}},\"type\":\"scattermapbox\"}],\"scatterpolar\":[{\"marker\":{\"colorbar\":{\"outlinewidth\":0,\"ticks\":\"\"}},\"type\":\"scatterpolar\"}],\"scatterpolargl\":[{\"marker\":{\"colorbar\":{\"outlinewidth\":0,\"ticks\":\"\"}},\"type\":\"scatterpolargl\"}],\"scatterternary\":[{\"marker\":{\"colorbar\":{\"outlinewidth\":0,\"ticks\":\"\"}},\"type\":\"scatterternary\"}],\"surface\":[{\"colorbar\":{\"outlinewidth\":0,\"ticks\":\"\"},\"colorscale\":[[0.0,\"#0d0887\"],[0.1111111111111111,\"#46039f\"],[0.2222222222222222,\"#7201a8\"],[0.3333333333333333,\"#9c179e\"],[0.4444444444444444,\"#bd3786\"],[0.5555555555555556,\"#d8576b\"],[0.6666666666666666,\"#ed7953\"],[0.7777777777777778,\"#fb9f3a\"],[0.8888888888888888,\"#fdca26\"],[1.0,\"#f0f921\"]],\"type\":\"surface\"}],\"table\":[{\"cells\":{\"fill\":{\"color\":\"#EBF0F8\"},\"line\":{\"color\":\"white\"}},\"header\":{\"fill\":{\"color\":\"#C8D4E3\"},\"line\":{\"color\":\"white\"}},\"type\":\"table\"}]},\"layout\":{\"annotationdefaults\":{\"arrowcolor\":\"#2a3f5f\",\"arrowhead\":0,\"arrowwidth\":1},\"autotypenumbers\":\"strict\",\"coloraxis\":{\"colorbar\":{\"outlinewidth\":0,\"ticks\":\"\"}},\"colorscale\":{\"diverging\":[[0,\"#8e0152\"],[0.1,\"#c51b7d\"],[0.2,\"#de77ae\"],[0.3,\"#f1b6da\"],[0.4,\"#fde0ef\"],[0.5,\"#f7f7f7\"],[0.6,\"#e6f5d0\"],[0.7,\"#b8e186\"],[0.8,\"#7fbc41\"],[0.9,\"#4d9221\"],[1,\"#276419\"]],\"sequential\":[[0.0,\"#0d0887\"],[0.1111111111111111,\"#46039f\"],[0.2222222222222222,\"#7201a8\"],[0.3333333333333333,\"#9c179e\"],[0.4444444444444444,\"#bd3786\"],[0.5555555555555556,\"#d8576b\"],[0.6666666666666666,\"#ed7953\"],[0.7777777777777778,\"#fb9f3a\"],[0.8888888888888888,\"#fdca26\"],[1.0,\"#f0f921\"]],\"sequentialminus\":[[0.0,\"#0d0887\"],[0.1111111111111111,\"#46039f\"],[0.2222222222222222,\"#7201a8\"],[0.3333333333333333,\"#9c179e\"],[0.4444444444444444,\"#bd3786\"],[0.5555555555555556,\"#d8576b\"],[0.6666666666666666,\"#ed7953\"],[0.7777777777777778,\"#fb9f3a\"],[0.8888888888888888,\"#fdca26\"],[1.0,\"#f0f921\"]]},\"colorway\":[\"#636efa\",\"#EF553B\",\"#00cc96\",\"#ab63fa\",\"#FFA15A\",\"#19d3f3\",\"#FF6692\",\"#B6E880\",\"#FF97FF\",\"#FECB52\"],\"font\":{\"color\":\"#2a3f5f\"},\"geo\":{\"bgcolor\":\"white\",\"lakecolor\":\"white\",\"landcolor\":\"white\",\"showlakes\":true,\"showland\":true,\"subunitcolor\":\"#C8D4E3\"},\"hoverlabel\":{\"align\":\"left\"},\"hovermode\":\"closest\",\"mapbox\":{\"style\":\"light\"},\"paper_bgcolor\":\"white\",\"plot_bgcolor\":\"white\",\"polar\":{\"angularaxis\":{\"gridcolor\":\"#EBF0F8\",\"linecolor\":\"#EBF0F8\",\"ticks\":\"\"},\"bgcolor\":\"white\",\"radialaxis\":{\"gridcolor\":\"#EBF0F8\",\"linecolor\":\"#EBF0F8\",\"ticks\":\"\"}},\"scene\":{\"xaxis\":{\"backgroundcolor\":\"white\",\"gridcolor\":\"#DFE8F3\",\"gridwidth\":2,\"linecolor\":\"#EBF0F8\",\"showbackground\":true,\"ticks\":\"\",\"zerolinecolor\":\"#EBF0F8\"},\"yaxis\":{\"backgroundcolor\":\"white\",\"gridcolor\":\"#DFE8F3\",\"gridwidth\":2,\"linecolor\":\"#EBF0F8\",\"showbackground\":true,\"ticks\":\"\",\"zerolinecolor\":\"#EBF0F8\"},\"zaxis\":{\"backgroundcolor\":\"white\",\"gridcolor\":\"#DFE8F3\",\"gridwidth\":2,\"linecolor\":\"#EBF0F8\",\"showbackground\":true,\"ticks\":\"\",\"zerolinecolor\":\"#EBF0F8\"}},\"shapedefaults\":{\"line\":{\"color\":\"#2a3f5f\"}},\"ternary\":{\"aaxis\":{\"gridcolor\":\"#DFE8F3\",\"linecolor\":\"#A2B1C6\",\"ticks\":\"\"},\"baxis\":{\"gridcolor\":\"#DFE8F3\",\"linecolor\":\"#A2B1C6\",\"ticks\":\"\"},\"bgcolor\":\"white\",\"caxis\":{\"gridcolor\":\"#DFE8F3\",\"linecolor\":\"#A2B1C6\",\"ticks\":\"\"}},\"title\":{\"x\":0.05},\"xaxis\":{\"automargin\":true,\"gridcolor\":\"#EBF0F8\",\"linecolor\":\"#EBF0F8\",\"ticks\":\"\",\"title\":{\"standoff\":15},\"zerolinecolor\":\"#EBF0F8\",\"zerolinewidth\":2},\"yaxis\":{\"automargin\":true,\"gridcolor\":\"#EBF0F8\",\"linecolor\":\"#EBF0F8\",\"ticks\":\"\",\"title\":{\"standoff\":15},\"zerolinecolor\":\"#EBF0F8\",\"zerolinewidth\":2}}},\"title\":{\"text\":\"Casos - Cienfuegos\"},\"xaxis\":{\"anchor\":\"y\",\"domain\":[0.0,1.0],\"title\":{\"text\":\"D\\u00edas\"}},\"yaxis\":{\"anchor\":\"x\",\"domain\":[0.0,1.0],\"title\":{\"text\":\"Casos\"}}},                        {\"responsive\": true}                    ).then(function(){\n                            \nvar gd = document.getElementById('4e6a637b-11cd-45a2-b730-cbb15bc9455a');\nvar x = new MutationObserver(function (mutations, observer) {{\n        var display = window.getComputedStyle(gd).display;\n        if (!display || display === 'none') {{\n            console.log([gd, 'removed!']);\n            Plotly.purge(gd);\n            observer.disconnect();\n        }}\n}});\n\n// Listen for the removal of the full notebook cells\nvar notebookContainer = gd.closest('#notebook-container');\nif (notebookContainer) {{\n    x.observe(notebookContainer, {childList: true});\n}}\n\n// Listen for the clearing of the current output cell\nvar outputEl = gd.closest('.output');\nif (outputEl) {{\n    x.observe(outputEl, {childList: true});\n}}\n\n                        })                };                            </script>        </div>\n</body>\n</html>"
     },
     "metadata": {},
     "output_type": "display_data"
    }
   ]
  },
  {
   "cell_type": "markdown",
   "source": "#  ##--\n\n# CUBA\n\n## Análisis de Cuba\n\n#  ##--",
   "metadata": {
    "cell_id": "00006-ed3d31bf-a4f2-4038-985a-869fa17d5a24",
    "deepnote_cell_type": "markdown"
   }
  },
  {
   "cell_type": "code",
   "metadata": {
    "cell_id": "00007-39f45ad8-e31e-4f8b-b0ac-1dba3efd91d3",
    "deepnote_to_be_reexecuted": false,
    "source_hash": "79016e87",
    "execution_start": 1632846800244,
    "execution_millis": 126,
    "deepnote_cell_type": "code"
   },
   "source": "fig = px.line(cuba, x=\"Date\", y=\"N\", template=chartTemplate)\n\nfig.update_layout({\"title\": 'Casos - Cuba',\n                   \"xaxis\": {\"title\":\"Días\"},\n                   \"yaxis\": {\"title\":\"Casos\"},\n                   \"showlegend\": False})\n\nfig.show()",
   "execution_count": null,
   "outputs": [
    {
     "data": {
      "text/html": "<html>\n<head><meta charset=\"utf-8\" /></head>\n<body>\n    <div>            <script src=\"https://cdnjs.cloudflare.com/ajax/libs/mathjax/2.7.5/MathJax.js?config=TeX-AMS-MML_SVG\"></script><script type=\"text/javascript\">if (window.MathJax) {MathJax.Hub.Config({SVG: {font: \"STIX-Web\"}});}</script>                <script type=\"text/javascript\">window.PlotlyConfig = {MathJaxConfig: 'local'};</script>\n        <script src=\"https://cdn.plot.ly/plotly-2.4.2.min.js\"></script>                <div id=\"465d86b3-ba60-4829-860d-9b47510b91fd\" class=\"plotly-graph-div\" style=\"height:525px; width:100%;\"></div>            <script type=\"text/javascript\">                                    window.PLOTLYENV=window.PLOTLYENV || {};                                    if (document.getElementById(\"465d86b3-ba60-4829-860d-9b47510b91fd\")) {                    Plotly.newPlot(                        \"465d86b3-ba60-4829-860d-9b47510b91fd\",                        [{\"hovertemplate\":\"Date=%{x}<br>N=%{y}<extra></extra>\",\"legendgroup\":\"\",\"line\":{\"color\":\"#636efa\",\"dash\":\"solid\"},\"marker\":{\"symbol\":\"circle\"},\"mode\":\"lines\",\"name\":\"\",\"orientation\":\"v\",\"showlegend\":false,\"type\":\"scatter\",\"x\":[\"2020-03-12\",\"2020-03-13\",\"2020-03-14\",\"2020-03-15\",\"2020-03-16\",\"2020-03-17\",\"2020-03-18\",\"2020-03-19\",\"2020-03-20\",\"2020-03-21\",\"2020-03-22\",\"2020-03-23\",\"2020-03-24\",\"2020-03-25\",\"2020-03-26\",\"2020-03-27\",\"2020-03-28\",\"2020-03-29\",\"2020-03-30\",\"2020-03-31\",\"2020-04-01\",\"2020-04-02\",\"2020-04-03\",\"2020-04-04\",\"2020-04-05\",\"2020-04-06\",\"2020-04-07\",\"2020-04-08\",\"2020-04-09\",\"2020-04-10\",\"2020-04-11\",\"2020-04-12\",\"2020-04-13\",\"2020-04-14\",\"2020-04-15\",\"2020-04-16\",\"2020-04-17\",\"2020-04-18\",\"2020-04-19\",\"2020-04-20\",\"2020-04-21\",\"2020-04-22\",\"2020-04-23\",\"2020-04-24\",\"2020-04-25\",\"2020-04-26\",\"2020-04-27\",\"2020-04-28\",\"2020-04-29\",\"2020-04-30\",\"2020-05-01\",\"2020-05-02\",\"2020-05-03\",\"2020-05-04\",\"2020-05-05\",\"2020-05-06\",\"2020-05-07\",\"2020-05-08\",\"2020-05-09\",\"2020-05-10\",\"2020-05-11\",\"2020-05-12\",\"2020-05-13\",\"2020-05-14\",\"2020-05-15\",\"2020-05-16\",\"2020-05-17\",\"2020-05-18\",\"2020-05-19\",\"2020-05-20\",\"2020-05-21\",\"2020-05-22\",\"2020-05-23\",\"2020-05-24\",\"2020-05-25\",\"2020-05-26\",\"2020-05-27\",\"2020-05-28\",\"2020-05-29\",\"2020-05-30\",\"2020-05-31\",\"2020-06-01\",\"2020-06-02\",\"2020-06-03\",\"2020-06-04\",\"2020-06-05\",\"2020-06-06\",\"2020-06-07\",\"2020-06-08\",\"2020-06-09\",\"2020-06-10\",\"2020-06-11\",\"2020-06-12\",\"2020-06-13\",\"2020-06-14\",\"2020-06-15\",\"2020-06-16\",\"2020-06-17\",\"2020-06-18\",\"2020-06-19\",\"2020-06-20\",\"2020-06-21\",\"2020-06-22\",\"2020-06-23\",\"2020-06-24\",\"2020-06-25\",\"2020-06-26\",\"2020-06-27\",\"2020-06-28\",\"2020-06-29\",\"2020-06-30\",\"2020-07-01\",\"2020-07-02\",\"2020-07-03\",\"2020-07-04\",\"2020-07-05\",\"2020-07-06\",\"2020-07-07\",\"2020-07-08\",\"2020-07-09\",\"2020-07-10\",\"2020-07-11\",\"2020-07-12\",\"2020-07-13\",\"2020-07-14\",\"2020-07-15\",\"2020-07-16\",\"2020-07-17\",\"2020-07-18\",\"2020-07-19\",\"2020-07-20\",\"2020-07-21\",\"2020-07-22\",\"2020-07-23\",\"2020-07-24\",\"2020-07-25\",\"2020-07-26\",\"2020-07-27\",\"2020-07-28\",\"2020-07-29\",\"2020-07-30\",\"2020-07-31\",\"2020-08-01\",\"2020-08-02\",\"2020-08-03\",\"2020-08-04\",\"2020-08-05\",\"2020-08-06\",\"2020-08-07\",\"2020-08-08\",\"2020-08-09\",\"2020-08-10\",\"2020-08-11\",\"2020-08-12\",\"2020-08-13\",\"2020-08-14\",\"2020-08-15\",\"2020-08-16\",\"2020-08-17\",\"2020-08-18\",\"2020-08-19\",\"2020-08-20\",\"2020-08-21\",\"2020-08-22\",\"2020-08-23\",\"2020-08-24\",\"2020-08-25\",\"2020-08-26\",\"2020-08-27\",\"2020-08-28\",\"2020-08-29\",\"2020-08-30\",\"2020-08-31\",\"2020-09-01\",\"2020-09-02\",\"2020-09-03\",\"2020-09-04\",\"2020-09-05\",\"2020-09-06\",\"2020-09-07\",\"2020-09-08\",\"2020-09-09\",\"2020-09-10\",\"2020-09-11\",\"2020-09-12\",\"2020-09-13\",\"2020-09-14\",\"2020-09-15\",\"2020-09-16\",\"2020-09-17\",\"2020-09-18\",\"2020-09-19\",\"2020-09-20\",\"2020-09-21\",\"2020-09-22\",\"2020-09-23\",\"2020-09-24\",\"2020-09-25\",\"2020-09-26\",\"2020-09-27\",\"2020-09-28\",\"2020-09-29\",\"2020-09-30\",\"2020-10-01\",\"2020-10-02\",\"2020-10-03\",\"2020-10-04\",\"2020-10-05\",\"2020-10-06\",\"2020-10-07\",\"2020-10-08\",\"2020-10-09\",\"2020-10-10\",\"2020-10-11\",\"2020-10-12\",\"2020-10-13\",\"2020-10-14\",\"2020-10-15\",\"2020-10-16\",\"2020-10-17\",\"2020-10-18\",\"2020-10-19\",\"2020-10-20\",\"2020-10-21\",\"2020-10-22\",\"2020-10-23\",\"2020-10-24\",\"2020-10-25\",\"2020-10-26\",\"2020-10-27\",\"2020-10-28\",\"2020-10-29\",\"2020-10-30\",\"2020-10-31\",\"2020-11-01\",\"2020-11-02\",\"2020-11-03\",\"2020-11-04\",\"2020-11-05\",\"2020-11-06\",\"2020-11-07\",\"2020-11-08\",\"2020-11-09\",\"2020-11-10\",\"2020-11-11\",\"2020-11-12\",\"2020-11-13\",\"2020-11-14\",\"2020-11-15\",\"2020-11-16\",\"2020-11-17\",\"2020-11-18\",\"2020-11-19\",\"2020-11-20\",\"2020-11-21\",\"2020-11-22\",\"2020-11-23\",\"2020-11-24\",\"2020-11-25\",\"2020-11-26\",\"2020-11-27\",\"2020-11-28\",\"2020-11-29\",\"2020-11-30\",\"2020-12-01\",\"2020-12-02\",\"2020-12-03\",\"2020-12-04\",\"2020-12-05\",\"2020-12-06\",\"2020-12-07\",\"2020-12-08\",\"2020-12-09\",\"2020-12-10\",\"2020-12-11\",\"2020-12-12\",\"2020-12-13\",\"2020-12-14\",\"2020-12-15\",\"2020-12-16\",\"2020-12-17\",\"2020-12-18\",\"2020-12-19\",\"2020-12-20\",\"2020-12-21\",\"2020-12-22\",\"2020-12-23\",\"2020-12-24\",\"2020-12-25\",\"2020-12-26\",\"2020-12-27\",\"2020-12-28\",\"2020-12-29\",\"2020-12-30\",\"2020-12-31\",\"2021-01-01\",\"2021-01-02\",\"2021-01-03\",\"2021-01-04\",\"2021-01-05\",\"2021-01-06\",\"2021-01-07\",\"2021-01-08\",\"2021-01-09\",\"2021-01-10\",\"2021-01-11\",\"2021-01-12\",\"2021-01-13\",\"2021-01-14\",\"2021-01-15\",\"2021-01-16\",\"2021-01-17\",\"2021-01-18\",\"2021-01-19\",\"2021-01-20\",\"2021-01-21\",\"2021-01-22\",\"2021-01-23\",\"2021-01-24\",\"2021-01-25\",\"2021-01-26\",\"2021-01-27\",\"2021-01-28\",\"2021-01-29\",\"2021-01-30\",\"2021-01-31\",\"2021-02-01\",\"2021-02-02\",\"2021-02-03\",\"2021-02-04\",\"2021-02-05\",\"2021-02-06\",\"2021-02-07\",\"2021-02-08\",\"2021-02-09\",\"2021-02-10\",\"2021-02-11\",\"2021-02-12\",\"2021-02-13\",\"2021-02-14\",\"2021-02-15\",\"2021-02-16\",\"2021-02-17\",\"2021-02-18\",\"2021-02-19\",\"2021-02-20\",\"2021-02-21\",\"2021-02-22\",\"2021-02-23\",\"2021-02-24\",\"2021-02-25\",\"2021-02-26\",\"2021-02-27\",\"2021-02-28\",\"2021-03-01\",\"2021-03-02\",\"2021-03-03\",\"2021-03-04\",\"2021-03-05\",\"2021-03-06\",\"2021-03-07\",\"2021-03-08\",\"2021-03-09\",\"2021-03-10\",\"2021-03-11\",\"2021-03-12\",\"2021-03-13\",\"2021-03-14\",\"2021-03-15\",\"2021-03-16\",\"2021-03-17\",\"2021-03-18\",\"2021-03-19\",\"2021-03-20\",\"2021-03-21\",\"2021-03-22\",\"2021-03-23\",\"2021-03-24\",\"2021-03-25\",\"2021-03-26\",\"2021-03-27\",\"2021-03-28\",\"2021-03-29\",\"2021-03-30\",\"2021-03-31\",\"2021-04-01\",\"2021-04-02\",\"2021-04-03\",\"2021-04-04\",\"2021-04-05\",\"2021-04-06\",\"2021-04-07\",\"2021-04-08\",\"2021-04-09\",\"2021-04-10\",\"2021-04-11\",\"2021-04-12\",\"2021-04-13\",\"2021-04-14\",\"2021-04-15\",\"2021-04-16\",\"2021-04-17\",\"2021-04-18\",\"2021-04-19\",\"2021-04-20\",\"2021-04-21\",\"2021-04-22\",\"2021-04-23\",\"2021-04-24\",\"2021-04-25\",\"2021-04-26\",\"2021-04-27\",\"2021-04-28\",\"2021-04-29\",\"2021-04-30\",\"2021-05-01\",\"2021-05-02\",\"2021-05-03\",\"2021-05-04\",\"2021-05-05\",\"2021-05-06\",\"2021-05-07\",\"2021-05-08\",\"2021-05-09\",\"2021-05-10\",\"2021-05-11\",\"2021-05-12\",\"2021-05-13\",\"2021-05-14\",\"2021-05-15\",\"2021-05-16\",\"2021-05-17\",\"2021-05-18\",\"2021-05-19\",\"2021-05-20\",\"2021-05-21\",\"2021-05-22\",\"2021-05-23\",\"2021-05-24\",\"2021-05-25\",\"2021-05-26\",\"2021-05-27\",\"2021-05-28\",\"2021-05-29\",\"2021-05-30\",\"2021-05-31\",\"2021-06-01\",\"2021-06-02\",\"2021-06-03\",\"2021-06-04\",\"2021-06-05\",\"2021-06-06\",\"2021-06-07\",\"2021-06-08\",\"2021-06-09\",\"2021-06-10\",\"2021-06-11\",\"2021-06-12\",\"2021-06-13\",\"2021-06-14\",\"2021-06-15\",\"2021-06-16\",\"2021-06-17\",\"2021-06-18\",\"2021-06-19\",\"2021-06-20\",\"2021-06-21\",\"2021-06-22\",\"2021-06-23\",\"2021-06-24\",\"2021-06-25\",\"2021-06-26\",\"2021-06-27\",\"2021-06-28\",\"2021-06-29\",\"2021-06-30\",\"2021-07-01\",\"2021-07-02\",\"2021-07-03\",\"2021-07-04\",\"2021-07-05\",\"2021-07-06\",\"2021-07-07\",\"2021-07-08\",\"2021-07-09\",\"2021-07-10\",\"2021-07-11\",\"2021-07-12\",\"2021-07-13\",\"2021-07-14\",\"2021-07-15\",\"2021-07-16\",\"2021-07-17\",\"2021-07-18\",\"2021-07-19\",\"2021-07-20\",\"2021-07-21\",\"2021-07-22\",\"2021-07-23\",\"2021-07-24\",\"2021-07-25\",\"2021-07-26\",\"2021-07-27\",\"2021-07-28\",\"2021-07-29\",\"2021-07-30\",\"2021-07-31\",\"2021-08-01\",\"2021-08-02\",\"2021-08-03\",\"2021-08-04\",\"2021-08-05\",\"2021-08-06\",\"2021-08-07\",\"2021-08-08\",\"2021-08-09\",\"2021-08-10\",\"2021-08-11\",\"2021-08-12\",\"2021-08-13\",\"2021-08-14\",\"2021-08-15\",\"2021-08-16\",\"2021-08-17\",\"2021-08-18\",\"2021-08-19\",\"2021-08-20\",\"2021-08-21\",\"2021-08-22\",\"2021-08-23\",\"2021-08-24\",\"2021-08-25\",\"2021-08-26\",\"2021-08-27\",\"2021-08-28\",\"2021-08-29\",\"2021-08-30\",\"2021-08-31\",\"2021-09-01\",\"2021-09-02\",\"2021-09-03\",\"2021-09-04\",\"2021-09-05\",\"2021-09-06\",\"2021-09-07\",\"2021-09-08\",\"2021-09-09\",\"2021-09-10\",\"2021-09-11\",\"2021-09-12\",\"2021-09-13\",\"2021-09-14\",\"2021-09-15\",\"2021-09-16\",\"2021-09-17\",\"2021-09-18\",\"2021-09-19\",\"2021-09-20\",\"2021-09-21\",\"2021-09-22\",\"2021-09-23\",\"2021-09-24\",\"2021-09-25\",\"2021-09-26\",\"2021-09-27\"],\"xaxis\":\"x\",\"y\":[3.0,1.0,0.0,0.0,0.0,1.0,2.0,4.0,5.0,5.0,14.0,5.0,8.0,9.0,10.0,13.0,39.0,20.0,31.0,16.0,26.0,21.0,36.0,19.0,32.0,30.0,46.0,61.0,58.0,49.0,56.0,49.0,57.0,40.0,48.0,48.0,61.0,63.0,49.0,52.0,50.0,52.0,46.0,50.0,52.0,32.0,20.0,48.0,30.0,34.0,36.0,74.0,38.0,19.0,17.0,18.0,26.0,12.0,13.0,12.0,17.0,21.0,6.0,20.0,10.0,22.0,10.0,9.0,6.0,13.0,8.0,8.0,15.0,10.0,6.0,16.0,11.0,9.0,22.0,20.0,20.0,38.0,9.0,15.0,12.0,14.0,40.0,18.0,9.0,5.0,6.0,8.0,14.0,5.0,10.0,14.0,11.0,7.0,15.0,10.0,4.0,3.0,3.0,3.0,1.0,2.0,4.0,5.0,2.0,8.0,1.0,7.0,5.0,8.0,8.0,3.0,8.0,15.0,4.0,4.0,10.0,7.0,6.0,2.0,4.0,6.0,2.0,4.0,1.0,1.0,0.0,3.0,13.0,4.0,3.0,9.0,17.0,37.0,23.0,33.0,9.0,11.0,25.0,13.0,24.0,31.0,25.0,49.0,54.0,59.0,65.0,93.0,47.0,35.0,46.0,55.0,63.0,24.0,48.0,44.0,74.0,83.0,17.0,35.0,65.0,35.0,27.0,15.0,47.0,60.0,59.0,48.0,59.0,33.0,61.0,88.0,52.0,32.0,11.0,43.0,25.0,82.0,92.0,42.0,60.0,31.0,42.0,77.0,73.0,57.0,71.0,51.0,36.0,50.0,81.0,48.0,40.0,40.0,62.0,45.0,26.0,48.0,66.0,73.0,48.0,62.0,29.0,36.0,38.0,15.0,19.0,26.0,5.0,30.0,22.0,17.0,18.0,27.0,56.0,52.0,50.0,38.0,47.0,63.0,53.0,58.0,55.0,32.0,29.0,83.0,49.0,39.0,35.0,86.0,48.0,35.0,65.0,109.0,40.0,44.0,39.0,30.0,52.0,43.0,37.0,58.0,54.0,27.0,22.0,49.0,28.0,37.0,21.0,38.0,35.0,48.0,33.0,71.0,76.0,49.0,35.0,63.0,60.0,51.0,97.0,75.0,75.0,79.0,104.0,68.0,124.0,76.0,124.0,75.0,86.0,87.0,69.0,69.0,96.0,83.0,100.0,122.0,131.0,103.0,115.0,142.0,116.0,217.0,183.0,138.0,167.0,229.0,167.0,86.0,176.0,193.0,169.0,199.0,316.0,224.0,201.0,314.0,344.0,365.0,388.0,431.0,487.0,550.0,505.0,547.0,405.0,650.0,292.0,330.0,349.0,408.0,530.0,567.0,634.0,567.0,786.0,825.0,666.0,659.0,910.0,1012.0,906.0,1044.0,893.0,816.0,845.0,821.0,820.0,653.0,580.0,858.0,850.0,823.0,888.0,806.0,715.0,937.0,824.0,923.0,859.0,937.0,1039.0,838.0,836.0,699.0,670.0,875.0,720.0,618.0,811.0,997.0,914.0,807.0,777.0,750.0,858.0,873.0,1041.0,772.0,778.0,762.0,639.0,914.0,734.0,792.0,727.0,689.0,735.0,813.0,796.0,718.0,774.0,736.0,816.0,832.0,950.0,919.0,701.0,1008.0,1051.0,1013.0,1077.0,1029.0,1162.0,1066.0,1030.0,961.0,914.0,1017.0,1040.0,959.0,854.0,1060.0,959.0,1004.0,1040.0,1026.0,1037.0,1060.0,1183.0,1006.0,1207.0,1241.0,1110.0,1185.0,938.0,1083.0,988.0,1149.0,1046.0,915.0,1071.0,932.0,1019.0,1010.0,1060.0,1162.0,1036.0,1069.0,1116.0,1071.0,1207.0,1186.0,1277.0,1383.0,1233.0,1057.0,1244.0,1339.0,1252.0,1197.0,1289.0,1221.0,1155.0,1291.0,1129.0,1102.0,1169.0,1188.0,1079.0,1100.0,1057.0,1191.0,1053.0,1129.0,1135.0,1087.0,1185.0,1156.0,1161.0,1158.0,1288.0,1372.0,1470.0,1349.0,1537.0,1403.0,1418.0,1481.0,1472.0,1436.0,1561.0,1489.0,2055.0,1880.0,2464.0,2403.0,2698.0,2589.0,3080.0,2970.0,2952.0,3308.0,3475.0,3519.0,3075.0,3591.0,3664.0,3819.0,6422.0,6750.0,6923.0,6423.0,5613.0,6080.0,6479.0,6460.0,6062.0,6279.0,6505.0,6057.0,6405.0,7745.0,7784.0,7732.0,8853.0,8184.0,7903.0,9323.0,8607.0,8736.0,8875.0,9747.0,9279.0,9629.0,9363.0,8399.0,8886.0,8893.0,9427.0,7950.0,8936.0,8605.0,8194.0,8312.0,8816.0,8636.0,9169.0,9772.0,8666.0,8972.0,9764.0,9740.0,9548.0,9320.0,9907.0,8637.0,8509.0,7639.0,6850.0,6277.0,6075.0,6342.0,6609.0,6208.0,6927.0,7854.0,9221.0,7230.0,7771.0,8317.0,7747.0,8394.0,8035.0,8034.0,8342.0,7516.0,7437.0,7628.0,8291.0,8517.0,8434.0,8544.0,8289.0,7151.0,6935.0,7695.0,7513.0,6673.0,6632.0],\"yaxis\":\"y\"}],                        {\"legend\":{\"tracegroupgap\":0},\"margin\":{\"t\":60},\"showlegend\":false,\"template\":{\"data\":{\"bar\":[{\"error_x\":{\"color\":\"#2a3f5f\"},\"error_y\":{\"color\":\"#2a3f5f\"},\"marker\":{\"line\":{\"color\":\"white\",\"width\":0.5},\"pattern\":{\"fillmode\":\"overlay\",\"size\":10,\"solidity\":0.2}},\"type\":\"bar\"}],\"barpolar\":[{\"marker\":{\"line\":{\"color\":\"white\",\"width\":0.5},\"pattern\":{\"fillmode\":\"overlay\",\"size\":10,\"solidity\":0.2}},\"type\":\"barpolar\"}],\"carpet\":[{\"aaxis\":{\"endlinecolor\":\"#2a3f5f\",\"gridcolor\":\"#C8D4E3\",\"linecolor\":\"#C8D4E3\",\"minorgridcolor\":\"#C8D4E3\",\"startlinecolor\":\"#2a3f5f\"},\"baxis\":{\"endlinecolor\":\"#2a3f5f\",\"gridcolor\":\"#C8D4E3\",\"linecolor\":\"#C8D4E3\",\"minorgridcolor\":\"#C8D4E3\",\"startlinecolor\":\"#2a3f5f\"},\"type\":\"carpet\"}],\"choropleth\":[{\"colorbar\":{\"outlinewidth\":0,\"ticks\":\"\"},\"type\":\"choropleth\"}],\"contour\":[{\"colorbar\":{\"outlinewidth\":0,\"ticks\":\"\"},\"colorscale\":[[0.0,\"#0d0887\"],[0.1111111111111111,\"#46039f\"],[0.2222222222222222,\"#7201a8\"],[0.3333333333333333,\"#9c179e\"],[0.4444444444444444,\"#bd3786\"],[0.5555555555555556,\"#d8576b\"],[0.6666666666666666,\"#ed7953\"],[0.7777777777777778,\"#fb9f3a\"],[0.8888888888888888,\"#fdca26\"],[1.0,\"#f0f921\"]],\"type\":\"contour\"}],\"contourcarpet\":[{\"colorbar\":{\"outlinewidth\":0,\"ticks\":\"\"},\"type\":\"contourcarpet\"}],\"heatmap\":[{\"colorbar\":{\"outlinewidth\":0,\"ticks\":\"\"},\"colorscale\":[[0.0,\"#0d0887\"],[0.1111111111111111,\"#46039f\"],[0.2222222222222222,\"#7201a8\"],[0.3333333333333333,\"#9c179e\"],[0.4444444444444444,\"#bd3786\"],[0.5555555555555556,\"#d8576b\"],[0.6666666666666666,\"#ed7953\"],[0.7777777777777778,\"#fb9f3a\"],[0.8888888888888888,\"#fdca26\"],[1.0,\"#f0f921\"]],\"type\":\"heatmap\"}],\"heatmapgl\":[{\"colorbar\":{\"outlinewidth\":0,\"ticks\":\"\"},\"colorscale\":[[0.0,\"#0d0887\"],[0.1111111111111111,\"#46039f\"],[0.2222222222222222,\"#7201a8\"],[0.3333333333333333,\"#9c179e\"],[0.4444444444444444,\"#bd3786\"],[0.5555555555555556,\"#d8576b\"],[0.6666666666666666,\"#ed7953\"],[0.7777777777777778,\"#fb9f3a\"],[0.8888888888888888,\"#fdca26\"],[1.0,\"#f0f921\"]],\"type\":\"heatmapgl\"}],\"histogram\":[{\"marker\":{\"pattern\":{\"fillmode\":\"overlay\",\"size\":10,\"solidity\":0.2}},\"type\":\"histogram\"}],\"histogram2d\":[{\"colorbar\":{\"outlinewidth\":0,\"ticks\":\"\"},\"colorscale\":[[0.0,\"#0d0887\"],[0.1111111111111111,\"#46039f\"],[0.2222222222222222,\"#7201a8\"],[0.3333333333333333,\"#9c179e\"],[0.4444444444444444,\"#bd3786\"],[0.5555555555555556,\"#d8576b\"],[0.6666666666666666,\"#ed7953\"],[0.7777777777777778,\"#fb9f3a\"],[0.8888888888888888,\"#fdca26\"],[1.0,\"#f0f921\"]],\"type\":\"histogram2d\"}],\"histogram2dcontour\":[{\"colorbar\":{\"outlinewidth\":0,\"ticks\":\"\"},\"colorscale\":[[0.0,\"#0d0887\"],[0.1111111111111111,\"#46039f\"],[0.2222222222222222,\"#7201a8\"],[0.3333333333333333,\"#9c179e\"],[0.4444444444444444,\"#bd3786\"],[0.5555555555555556,\"#d8576b\"],[0.6666666666666666,\"#ed7953\"],[0.7777777777777778,\"#fb9f3a\"],[0.8888888888888888,\"#fdca26\"],[1.0,\"#f0f921\"]],\"type\":\"histogram2dcontour\"}],\"mesh3d\":[{\"colorbar\":{\"outlinewidth\":0,\"ticks\":\"\"},\"type\":\"mesh3d\"}],\"parcoords\":[{\"line\":{\"colorbar\":{\"outlinewidth\":0,\"ticks\":\"\"}},\"type\":\"parcoords\"}],\"pie\":[{\"automargin\":true,\"type\":\"pie\"}],\"scatter\":[{\"marker\":{\"colorbar\":{\"outlinewidth\":0,\"ticks\":\"\"}},\"type\":\"scatter\"}],\"scatter3d\":[{\"line\":{\"colorbar\":{\"outlinewidth\":0,\"ticks\":\"\"}},\"marker\":{\"colorbar\":{\"outlinewidth\":0,\"ticks\":\"\"}},\"type\":\"scatter3d\"}],\"scattercarpet\":[{\"marker\":{\"colorbar\":{\"outlinewidth\":0,\"ticks\":\"\"}},\"type\":\"scattercarpet\"}],\"scattergeo\":[{\"marker\":{\"colorbar\":{\"outlinewidth\":0,\"ticks\":\"\"}},\"type\":\"scattergeo\"}],\"scattergl\":[{\"marker\":{\"colorbar\":{\"outlinewidth\":0,\"ticks\":\"\"}},\"type\":\"scattergl\"}],\"scattermapbox\":[{\"marker\":{\"colorbar\":{\"outlinewidth\":0,\"ticks\":\"\"}},\"type\":\"scattermapbox\"}],\"scatterpolar\":[{\"marker\":{\"colorbar\":{\"outlinewidth\":0,\"ticks\":\"\"}},\"type\":\"scatterpolar\"}],\"scatterpolargl\":[{\"marker\":{\"colorbar\":{\"outlinewidth\":0,\"ticks\":\"\"}},\"type\":\"scatterpolargl\"}],\"scatterternary\":[{\"marker\":{\"colorbar\":{\"outlinewidth\":0,\"ticks\":\"\"}},\"type\":\"scatterternary\"}],\"surface\":[{\"colorbar\":{\"outlinewidth\":0,\"ticks\":\"\"},\"colorscale\":[[0.0,\"#0d0887\"],[0.1111111111111111,\"#46039f\"],[0.2222222222222222,\"#7201a8\"],[0.3333333333333333,\"#9c179e\"],[0.4444444444444444,\"#bd3786\"],[0.5555555555555556,\"#d8576b\"],[0.6666666666666666,\"#ed7953\"],[0.7777777777777778,\"#fb9f3a\"],[0.8888888888888888,\"#fdca26\"],[1.0,\"#f0f921\"]],\"type\":\"surface\"}],\"table\":[{\"cells\":{\"fill\":{\"color\":\"#EBF0F8\"},\"line\":{\"color\":\"white\"}},\"header\":{\"fill\":{\"color\":\"#C8D4E3\"},\"line\":{\"color\":\"white\"}},\"type\":\"table\"}]},\"layout\":{\"annotationdefaults\":{\"arrowcolor\":\"#2a3f5f\",\"arrowhead\":0,\"arrowwidth\":1},\"autotypenumbers\":\"strict\",\"coloraxis\":{\"colorbar\":{\"outlinewidth\":0,\"ticks\":\"\"}},\"colorscale\":{\"diverging\":[[0,\"#8e0152\"],[0.1,\"#c51b7d\"],[0.2,\"#de77ae\"],[0.3,\"#f1b6da\"],[0.4,\"#fde0ef\"],[0.5,\"#f7f7f7\"],[0.6,\"#e6f5d0\"],[0.7,\"#b8e186\"],[0.8,\"#7fbc41\"],[0.9,\"#4d9221\"],[1,\"#276419\"]],\"sequential\":[[0.0,\"#0d0887\"],[0.1111111111111111,\"#46039f\"],[0.2222222222222222,\"#7201a8\"],[0.3333333333333333,\"#9c179e\"],[0.4444444444444444,\"#bd3786\"],[0.5555555555555556,\"#d8576b\"],[0.6666666666666666,\"#ed7953\"],[0.7777777777777778,\"#fb9f3a\"],[0.8888888888888888,\"#fdca26\"],[1.0,\"#f0f921\"]],\"sequentialminus\":[[0.0,\"#0d0887\"],[0.1111111111111111,\"#46039f\"],[0.2222222222222222,\"#7201a8\"],[0.3333333333333333,\"#9c179e\"],[0.4444444444444444,\"#bd3786\"],[0.5555555555555556,\"#d8576b\"],[0.6666666666666666,\"#ed7953\"],[0.7777777777777778,\"#fb9f3a\"],[0.8888888888888888,\"#fdca26\"],[1.0,\"#f0f921\"]]},\"colorway\":[\"#636efa\",\"#EF553B\",\"#00cc96\",\"#ab63fa\",\"#FFA15A\",\"#19d3f3\",\"#FF6692\",\"#B6E880\",\"#FF97FF\",\"#FECB52\"],\"font\":{\"color\":\"#2a3f5f\"},\"geo\":{\"bgcolor\":\"white\",\"lakecolor\":\"white\",\"landcolor\":\"white\",\"showlakes\":true,\"showland\":true,\"subunitcolor\":\"#C8D4E3\"},\"hoverlabel\":{\"align\":\"left\"},\"hovermode\":\"closest\",\"mapbox\":{\"style\":\"light\"},\"paper_bgcolor\":\"white\",\"plot_bgcolor\":\"white\",\"polar\":{\"angularaxis\":{\"gridcolor\":\"#EBF0F8\",\"linecolor\":\"#EBF0F8\",\"ticks\":\"\"},\"bgcolor\":\"white\",\"radialaxis\":{\"gridcolor\":\"#EBF0F8\",\"linecolor\":\"#EBF0F8\",\"ticks\":\"\"}},\"scene\":{\"xaxis\":{\"backgroundcolor\":\"white\",\"gridcolor\":\"#DFE8F3\",\"gridwidth\":2,\"linecolor\":\"#EBF0F8\",\"showbackground\":true,\"ticks\":\"\",\"zerolinecolor\":\"#EBF0F8\"},\"yaxis\":{\"backgroundcolor\":\"white\",\"gridcolor\":\"#DFE8F3\",\"gridwidth\":2,\"linecolor\":\"#EBF0F8\",\"showbackground\":true,\"ticks\":\"\",\"zerolinecolor\":\"#EBF0F8\"},\"zaxis\":{\"backgroundcolor\":\"white\",\"gridcolor\":\"#DFE8F3\",\"gridwidth\":2,\"linecolor\":\"#EBF0F8\",\"showbackground\":true,\"ticks\":\"\",\"zerolinecolor\":\"#EBF0F8\"}},\"shapedefaults\":{\"line\":{\"color\":\"#2a3f5f\"}},\"ternary\":{\"aaxis\":{\"gridcolor\":\"#DFE8F3\",\"linecolor\":\"#A2B1C6\",\"ticks\":\"\"},\"baxis\":{\"gridcolor\":\"#DFE8F3\",\"linecolor\":\"#A2B1C6\",\"ticks\":\"\"},\"bgcolor\":\"white\",\"caxis\":{\"gridcolor\":\"#DFE8F3\",\"linecolor\":\"#A2B1C6\",\"ticks\":\"\"}},\"title\":{\"x\":0.05},\"xaxis\":{\"automargin\":true,\"gridcolor\":\"#EBF0F8\",\"linecolor\":\"#EBF0F8\",\"ticks\":\"\",\"title\":{\"standoff\":15},\"zerolinecolor\":\"#EBF0F8\",\"zerolinewidth\":2},\"yaxis\":{\"automargin\":true,\"gridcolor\":\"#EBF0F8\",\"linecolor\":\"#EBF0F8\",\"ticks\":\"\",\"title\":{\"standoff\":15},\"zerolinecolor\":\"#EBF0F8\",\"zerolinewidth\":2}}},\"title\":{\"text\":\"Casos - Cuba\"},\"xaxis\":{\"anchor\":\"y\",\"domain\":[0.0,1.0],\"title\":{\"text\":\"D\\u00edas\"}},\"yaxis\":{\"anchor\":\"x\",\"domain\":[0.0,1.0],\"title\":{\"text\":\"Casos\"}}},                        {\"responsive\": true}                    ).then(function(){\n                            \nvar gd = document.getElementById('465d86b3-ba60-4829-860d-9b47510b91fd');\nvar x = new MutationObserver(function (mutations, observer) {{\n        var display = window.getComputedStyle(gd).display;\n        if (!display || display === 'none') {{\n            console.log([gd, 'removed!']);\n            Plotly.purge(gd);\n            observer.disconnect();\n        }}\n}});\n\n// Listen for the removal of the full notebook cells\nvar notebookContainer = gd.closest('#notebook-container');\nif (notebookContainer) {{\n    x.observe(notebookContainer, {childList: true});\n}}\n\n// Listen for the clearing of the current output cell\nvar outputEl = gd.closest('.output');\nif (outputEl) {{\n    x.observe(outputEl, {childList: true});\n}}\n\n                        })                };                            </script>        </div>\n</body>\n</html>"
     },
     "metadata": {},
     "output_type": "display_data"
    }
   ]
  },
  {
   "cell_type": "code",
   "metadata": {
    "cell_id": "00010-00f332b6-61d1-4ccb-ba1c-1d16058229af",
    "deepnote_to_be_reexecuted": false,
    "source_hash": "e867f6d7",
    "execution_start": 1632846800742,
    "execution_millis": 126,
    "deepnote_cell_type": "code"
   },
   "source": "pos = cuba[cuba['accelMeans7'] >= 0]\nneg = cuba[cuba['accelMeans7'] < 0]\n\nfig = px.line(cuba, x=\"Date\", y=\"accelMeans14\", template=chartTemplate)\n\nfig.update_layout({\"title\": 'Aceleración de casos - promedio 14 días - Cuba',\n                   \"xaxis\": {\"title\":\"Días\"},\n                   \"yaxis\": {\"title\":\"Casos\"},\n                   \"showlegend\": False})\nfig.add_trace(go.Bar(x=pos['Date'], y=pos['accelMeans7'], name='Promedio de 14 días', opacity=0.5))\nfig.add_trace(go.Bar(x=neg['Date'], y=neg['accelMeans7'], name='Promedio de 14 días', opacity=0.5))\n\nfig.show()",
   "execution_count": null,
   "outputs": []
  },
  {
   "cell_type": "code",
   "metadata": {
    "cell_id": "00011-13bdae30-06fc-4beb-ada8-15593defd262",
    "deepnote_to_be_reexecuted": false,
    "source_hash": "498ab606",
    "execution_start": 1632846800872,
    "execution_millis": 1906,
    "deepnote_cell_type": "code"
   },
   "source": "bars = 'accelMeans7'\n#bars = 'accelMeans3'\n#bars = 'acc'\n#bars = 'vel'\ncfg['color'] = cfg.apply(lambda x: 'green' if x['accelMeans7'] <= 0 else 'red', axis=1)\n\nfig = go.Figure()\n\n### Traces\n# Line\nfig.add_trace(go.Scatter( #type= 'area',\n    x = cfg['Date'],\n    y = cfg['accelMeans14'], #cfg[cfg['accelMeans14']<0]['accelMeans14'], #y = ,\n    name = 'Aceleración 14d',\n    line = dict(\n        color = 'blue', # cuba['color'],\n        width = 1.5)\n))\n# Bars\nfig.add_trace(go.Bar(\n    x=cfg['Date'], \n    y=cfg[bars], \n    name='Aceleración 3d', \n    opacity=0.5,\n    marker=dict(color=cfg['color']),\n    yaxis = 'y2'\n))\n\n# First apply general tamplate\nfig.update_layout(template = chartTemplate)\n\n### New spec Layout\nlayout = {'title': 'Aceleración de casos - promedio móvil 14 días (línea) - 3 días (barras) - Cuba',\n             \"width\" : 800,\n            \"height\" : 500,\n            'font' : {\n                'family': \"Arial\",\n                'size': 12,\n                'color': 'rgb(96, 96, 96)' #\"gray\"\n            },\n            'xaxis': {\n                'dtick': '30',\n                'tickformat': '%d %B',\n                'showline': True,\n                'showgrid': False,\n                'showticklabels': True,\n                'linecolor': 'rgb(204, 204, 204)',\n                'linewidth': 2,\n                'ticks': 'outside',\n                'tickfont': dict(\n                    family='Arial',\n                    size=12,\n                    color='rgb(82, 82, 82)',\n        ),\n            },\n            'yaxis': {\n                    'zerolinecolor': 'black',\n                    'zerolinewidth': 1,\n                    'rangemode': 'tozero',\n                    #'gridcolor': 'gray',\n                    #'gridwidth': 0.1\n                    #'range': [150,-150]\n            },\n            'yaxis2': {\n                    #'title': '3 dias',\n                    'overlaying': 'y',\n                    'side': 'right',\n                    #'range': [250,-250],\n                    'zerolinecolor': 'black',\n                    'zerolinewidth': 1,\n                },\n            #'legend_title': \"Legend Title\",\n            'legend': { \n                    'x': .1,\n                    'y': .98\n            }\n         }\nfig.update_layout(layout)\nfig.write_image(\"figure.png\")\nfig.show()",
   "execution_count": null,
   "outputs": [
    {
     "data": {
      "text/html": "<html>\n<head><meta charset=\"utf-8\" /></head>\n<body>\n    <div>            <script src=\"https://cdnjs.cloudflare.com/ajax/libs/mathjax/2.7.5/MathJax.js?config=TeX-AMS-MML_SVG\"></script><script type=\"text/javascript\">if (window.MathJax) {MathJax.Hub.Config({SVG: {font: \"STIX-Web\"}});}</script>                <script type=\"text/javascript\">window.PlotlyConfig = {MathJaxConfig: 'local'};</script>\n        <script src=\"https://cdn.plot.ly/plotly-2.4.2.min.js\"></script>                <div id=\"cb318cb8-d887-4748-b415-4bf7d228146f\" class=\"plotly-graph-div\" style=\"height:500px; width:800px;\"></div>            <script type=\"text/javascript\">                                    window.PLOTLYENV=window.PLOTLYENV || {};                                    if (document.getElementById(\"cb318cb8-d887-4748-b415-4bf7d228146f\")) {                    Plotly.newPlot(                        \"cb318cb8-d887-4748-b415-4bf7d228146f\",                        [{\"line\":{\"color\":\"blue\",\"width\":1.5},\"name\":\"Aceleraci\\u00f3n 14d\",\"type\":\"scatter\",\"x\":[\"17/01/2021\",\"18/01/2021\",\"19/01/2021\",\"20/01/2021\",\"21/01/2021\",\"22/01/2021\",\"23/01/2021\",\"24/01/2021\",\"25/01/2021\",\"26/01/2021\",\"27/01/2021\",\"28/01/2021\",\"29/01/2021\",\"30/01/2021\",\"31/01/2021\",\"01/02/2021\",\"02/02/2021\",\"03/02/2021\",\"04/02/2021\",\"05/02/2021\",\"06/02/2021\",\"07/02/2021\",\"08/02/2021\",\"09/02/2021\",\"10/02/2021\",\"11/02/2021\",\"12/02/2021\",\"13/02/2021\",\"15/02/2021\",\"16/02/2021\",\"17/02/2021\",\"18/02/2021\",\"19/02/2021\",\"20/02/2021\",\"21/02/2021\",\"22/02/2021\",\"23/02/2021\",\"24/02/2021\",\"25/02/2021\",\"26/02/2021\",\"27/02/2021\",\"01/03/2021\",\"02/03/2021\",\"03/03/2021\",\"04/03/2021\",\"05/03/2021\",\"06/03/2021\",\"07/03/2021\",\"08/03/2021\",\"09/03/2021\",\"10/03/2021\",\"11/03/2021\",\"12/03/2021\",\"13/03/2021\",\"15/03/2021\",\"16/03/2021\",\"17/03/2021\",\"18/03/2021\",\"19/03/2021\",\"20/03/2021\",\"21/03/2021\",\"22/03/2021\",\"23/03/2021\",\"24/03/2021\",\"25/03/2021\",\"26/03/2021\",\"27/03/2021\",\"29/03/2021\",\"30/03/2021\",\"31/03/2021\",\"01/04/2021\",\"02/04/2021\",\"03/04/2021\",\"04/04/2021\",\"05/04/2021\",\"06/04/2021\",\"07/04/2021\",\"08/04/2021\",\"09/04/2021\",\"10/04/2021\",\"11/04/2021\",\"12/04/2021\",\"13/04/2021\",\"14/04/2021\",\"15/04/2021\",\"16/04/2021\",\"17/04/2021\",\"18/04/2021\",\"19/04/2021\",\"20/04/2021\",\"21/04/2021\",\"22/04/2021\",\"23/04/2021\",\"24/04/2021\",\"25/04/2021\",\"26/04/2021\",\"27/04/2021\",\"28/04/2021\",\"29/04/2021\",\"30/04/2021\",\"01/05/2021\",\"02/05/2021\",\"03/05/2021\",\"04/05/2021\",\"05/05/2021\",\"06/05/2021\",\"07/05/2021\",\"08/05/2021\",\"09/05/2021\",\"10/05/2021\",\"11/05/2021\",\"12/05/2021\",\"13/05/2021\",\"14/05/2021\",\"15/05/2021\",\"16/05/2021\",\"17/05/2021\",\"18/05/2021\",\"19/05/2021\",\"20/05/2021\",\"21/05/2021\",\"22/05/2021\",\"23/05/2021\",\"24/05/2021\",\"25/05/2021\",\"26/05/2021\",\"27/05/2021\",\"28/05/2021\",\"29/05/2021\",\"30/05/2021\",\"31/05/2021\",\"01/06/2021\",\"02/06/2021\",\"03/06/2021\",\"04/06/2021\",\"05/06/2021\",\"06/06/2021\",\"07/06/2021\",\"08/06/2021\",\"09/06/2021\",\"10/06/2021\",\"11/06/2021\",\"12/06/2021\",\"13/06/2021\",\"14/06/2021\",\"15/06/2021\",\"16/06/2021\",\"17/06/2021\",\"18/06/2021\",\"19/06/2021\",\"20/06/2021\",\"21/06/2021\",\"22/06/2021\",\"23/06/2021\",\"24/06/2021\",\"25/06/2021\",\"26/06/2021\",\"27/06/2021\",\"28/06/2021\",\"29/06/2021\",\"30/06/2021\",\"01/07/2021\",\"02/07/2021\",\"03/07/2021\",\"04/07/2021\",\"05/07/2021\",\"06/07/2021\",\"07/07/2021\",\"08/07/2021\",\"09/07/2021\",\"10/07/2021\",\"11/07/2021\",\"12/07/2021\",\"13/07/2021\",\"14/07/2021\",\"15/07/2021\",\"16/07/2021\",\"17/07/2021\",\"18/07/2021\",\"19/07/2021\",\"20/07/2021\",\"21/07/2021\",\"22/07/2021\",\"23/07/2021\",\"24/07/2021\",\"25/07/2021\",\"26/07/2021\",\"27/07/2021\",\"28/07/2021\",\"29/07/2021\",\"30/07/2021\",\"31/07/2021\",\"01/08/2021\",\"02/08/2021\",\"03/08/2021\",\"04/08/2021\",\"05/08/2021\",\"06/08/2021\",\"07/08/2021\",\"08/08/2021\",\"09/08/2021\",\"10/08/2021\",\"11/08/2021\",\"12/08/2021\",\"13/08/2021\",\"14/08/2021\",\"15/08/2021\",\"16/08/2021\",\"17/08/2021\",\"18/08/2021\",\"19/08/2021\",\"20/08/2021\",\"21/08/2021\",\"22/08/2021\",\"23/08/2021\",\"24/08/2021\",\"25/08/2021\",\"26/08/2021\",\"27/08/2021\",\"28/08/2021\",\"29/08/2021\",\"30/08/2021\",\"31/08/2021\",\"01/09/2021\",\"02/09/2021\",\"03/09/2021\",\"04/09/2021\",\"05/09/2021\",\"06/09/2021\",\"07/09/2021\",\"08/09/2021\",\"09/09/2021\",\"10/09/2021\",\"11/09/2021\",\"12/09/2021\",\"13/09/2021\",\"14/09/2021\",\"15/09/2021\",\"16/09/2021\",\"17/09/2021\",\"18/09/2021\",\"19/09/2021\",\"20/09/2021\",\"21/09/2021\",\"22/09/2021\",\"23/09/2021\",\"24/09/2021\",\"25/09/2021\",\"26/09/2021\",\"27/09/2021\"],\"y\":[null,null,null,null,null,null,null,null,null,null,null,null,null,null,0.0,-1.4285714285714286,-2.142857142857143,0.6428571428571429,-0.35714285714285715,11.928571428571429,0.5714285714285714,-0.21428571428571427,4.785714285714286,-0.42857142857142855,0.0,-0.35714285714285715,-0.7857142857142857,0.14285714285714285,0.7142857142857143,-0.2857142857142857,1.0714285714285714,0.5714285714285714,3.357142857142857,-11.357142857142858,26.714285714285715,0.42857142857142855,-4.357142857142857,0.5714285714285714,0.2857142857142857,0.42857142857142855,0.2857142857142857,0.21428571428571427,-0.5,1.2142857142857142,-1.2142857142857142,-0.2857142857142857,1.1428571428571428,-0.5,-27.714285714285715,0.0,-0.21428571428571427,0.2857142857142857,0.21428571428571427,-1.2142857142857142,0.0,-0.07142857142857142,0.2857142857142857,-0.7857142857142857,0.7142857142857143,-0.5714285714285714,-3.9285714285714284,0.07142857142857142,0.21428571428571427,-0.42857142857142855,0.8571428571428571,0.2857142857142857,1.4285714285714286,1.5,-0.2857142857142857,1.0714285714285714,3.2857142857142856,0.9285714285714286,-0.14285714285714285,0.21428571428571427,1.2857142857142858,1.5,6.071428571428571,0.5714285714285714,26.214285714285715,0.6428571428571429,-1.3571428571428572,0.07142857142857142,0.42857142857142855,-1.3571428571428572,-3.2142857142857144,-0.5,0.5,0.07142857142857142,-0.7857142857142857,-0.8571428571428571,-6.142857142857143,0.2857142857142857,-26.857142857142858,-0.8571428571428571,0.2857142857142857,-0.42857142857142855,-0.21428571428571427,0.5,0.2857142857142857,-0.6428571428571429,-0.21428571428571427,-0.6428571428571429,0.7857142857142857,0.8571428571428571,0.8571428571428571,0.42857142857142855,0.8571428571428571,1.0714285714285714,0.14285714285714285,0.42857142857142855,1.0,-0.2857142857142857,2.142857142857143,0.8571428571428571,4.071428571428571,25.571428571428573,7.571428571428571,3.642857142857143,42.714285714285715,8.785714285714286,2.357142857142857,2.142857142857143,1.4285714285714286,4.071428571428571,3.2142857142857144,1.2857142857142858,-0.5,1.7857142857142858,0.8571428571428571,-22.285714285714285,-6.357142857142857,-1.7142857142857142,-42.357142857142854,-8.071428571428571,-1.1428571428571428,-1.1428571428571428,0.8571428571428571,-4.285714285714286,-2.142857142857143,1.5,2.0,2.2857142857142856,-0.5714285714285714,5.928571428571429,5.785714285714286,-0.21428571428571427,0.8571428571428571,3.4285714285714284,-0.21428571428571427,0.0,0.9285714285714286,2.857142857142857,1.4285714285714286,1.9285714285714286,-0.2857142857142857,-1.1428571428571428,-0.07142857142857142,-2.5714285714285716,-2.142857142857143,1.8571428571428572,3.0,1.7857142857142858,3.642857142857143,2.2857142857142856,1.0,7.0,10.714285714285714,5.428571428571429,8.5,10.714285714285714,23.357142857142858,26.285714285714285,5.857142857142857,6.5,12.785714285714286,34.857142857142854,70.21428571428571,30.928571428571427,20.5,54.357142857142854,8.785714285714286,51.214285714285715,46.42857142857143,22.071428571428573,29.142857142857142,20.285714285714285,21.428571428571427,98.42857142857143,6.714285714285714,19.285714285714285,11.642857142857142,1.8571428571428572,39.285714285714285,2.2857142857142856,75.85714285714286,-15.642857142857142,48.57142857142857,54.285714285714285,24.285714285714285,19.571428571428573,87.5,7.714285714285714,91.57142857142857,20.714285714285715,1.5,33.42857142857143,11.714285714285714,92.78571428571429,-4.857142857142857,38.42857142857143,37.42857142857143,29.714285714285715,38.857142857142854,27.214285714285715,-25.5,-51.357142857142854,-68.0,-47.285714285714285,-67.35714285714286,-47.857142857142854,-41.357142857142854,-125.71428571428571,-50.642857142857146,-46.857142857142854,-111.42857142857143,-90.0,-82.42857142857143,-58.142857142857146,-70.64285714285714,-38.5,-24.142857142857142,-6.857142857142857,2.7857142857142856,0.14285714285714285,-22.357142857142858,-20.428571428571427,-23.642857142857142,-18.071428571428573,-7.142857142857143,-10.928571428571429,-19.642857142857142,-27.928571428571427,-16.642857142857142,-12.857142857142858,-8.142857142857142,-15.071428571428571,-17.785714285714285,-11.785714285714286,-4.071428571428571,-7.857142857142857]},{\"marker\":{\"color\":[\"red\",\"red\",\"red\",\"red\",\"red\",\"red\",\"red\",\"red\",\"green\",\"green\",\"red\",\"red\",\"red\",\"green\",\"green\",\"green\",\"red\",\"red\",\"green\",\"red\",\"red\",\"green\",\"red\",\"green\",\"green\",\"red\",\"green\",\"green\",\"red\",\"green\",\"red\",\"red\",\"red\",\"red\",\"red\",\"green\",\"red\",\"green\",\"green\",\"green\",\"red\",\"green\",\"green\",\"red\",\"green\",\"red\",\"red\",\"green\",\"green\",\"red\",\"green\",\"red\",\"green\",\"green\",\"red\",\"green\",\"red\",\"green\",\"red\",\"green\",\"red\",\"green\",\"red\",\"green\",\"red\",\"red\",\"red\",\"red\",\"red\",\"red\",\"red\",\"green\",\"green\",\"green\",\"red\",\"red\",\"red\",\"green\",\"red\",\"red\",\"red\",\"green\",\"green\",\"green\",\"red\",\"green\",\"green\",\"green\",\"green\",\"green\",\"red\",\"red\",\"green\",\"green\",\"red\",\"red\",\"green\",\"red\",\"red\",\"green\",\"red\",\"green\",\"red\",\"red\",\"red\",\"red\",\"red\",\"red\",\"red\",\"green\",\"green\",\"green\",\"red\",\"green\",\"red\",\"red\",\"red\",\"red\",\"red\",\"red\",\"red\",\"green\",\"green\",\"green\",\"green\",\"green\",\"green\",\"green\",\"red\",\"red\",\"green\",\"green\",\"red\",\"green\",\"green\",\"green\",\"red\",\"green\",\"green\",\"red\",\"red\",\"red\",\"red\",\"red\",\"red\",\"red\",\"green\",\"red\",\"green\",\"green\",\"green\",\"green\",\"red\",\"red\",\"green\",\"red\",\"red\",\"red\",\"red\",\"red\",\"red\",\"red\",\"red\",\"green\",\"green\",\"red\",\"red\",\"red\",\"red\",\"red\",\"red\",\"red\",\"red\",\"green\",\"red\",\"red\",\"red\",\"red\",\"green\",\"red\",\"red\",\"red\",\"red\",\"green\",\"red\",\"red\",\"green\",\"red\",\"green\",\"red\",\"red\",\"green\",\"red\",\"red\",\"green\",\"red\",\"red\",\"red\",\"red\",\"red\",\"red\",\"red\",\"red\",\"green\",\"green\",\"green\",\"red\",\"red\",\"green\",\"green\",\"red\",\"red\",\"red\",\"red\",\"green\",\"green\",\"green\",\"green\",\"green\",\"green\",\"green\",\"green\",\"green\",\"green\",\"green\",\"red\",\"red\",\"red\",\"green\",\"green\",\"green\",\"green\",\"green\",\"green\",\"green\",\"green\",\"green\",\"green\",\"green\",\"green\",\"green\",\"red\",\"green\",\"green\",\"green\",\"green\",\"green\",\"green\",\"green\",\"green\"]},\"name\":\"Aceleraci\\u00f3n 3d\",\"opacity\":0.5,\"type\":\"bar\",\"x\":[\"17/01/2021\",\"18/01/2021\",\"19/01/2021\",\"20/01/2021\",\"21/01/2021\",\"22/01/2021\",\"23/01/2021\",\"24/01/2021\",\"25/01/2021\",\"26/01/2021\",\"27/01/2021\",\"28/01/2021\",\"29/01/2021\",\"30/01/2021\",\"31/01/2021\",\"01/02/2021\",\"02/02/2021\",\"03/02/2021\",\"04/02/2021\",\"05/02/2021\",\"06/02/2021\",\"07/02/2021\",\"08/02/2021\",\"09/02/2021\",\"10/02/2021\",\"11/02/2021\",\"12/02/2021\",\"13/02/2021\",\"15/02/2021\",\"16/02/2021\",\"17/02/2021\",\"18/02/2021\",\"19/02/2021\",\"20/02/2021\",\"21/02/2021\",\"22/02/2021\",\"23/02/2021\",\"24/02/2021\",\"25/02/2021\",\"26/02/2021\",\"27/02/2021\",\"01/03/2021\",\"02/03/2021\",\"03/03/2021\",\"04/03/2021\",\"05/03/2021\",\"06/03/2021\",\"07/03/2021\",\"08/03/2021\",\"09/03/2021\",\"10/03/2021\",\"11/03/2021\",\"12/03/2021\",\"13/03/2021\",\"15/03/2021\",\"16/03/2021\",\"17/03/2021\",\"18/03/2021\",\"19/03/2021\",\"20/03/2021\",\"21/03/2021\",\"22/03/2021\",\"23/03/2021\",\"24/03/2021\",\"25/03/2021\",\"26/03/2021\",\"27/03/2021\",\"29/03/2021\",\"30/03/2021\",\"31/03/2021\",\"01/04/2021\",\"02/04/2021\",\"03/04/2021\",\"04/04/2021\",\"05/04/2021\",\"06/04/2021\",\"07/04/2021\",\"08/04/2021\",\"09/04/2021\",\"10/04/2021\",\"11/04/2021\",\"12/04/2021\",\"13/04/2021\",\"14/04/2021\",\"15/04/2021\",\"16/04/2021\",\"17/04/2021\",\"18/04/2021\",\"19/04/2021\",\"20/04/2021\",\"21/04/2021\",\"22/04/2021\",\"23/04/2021\",\"24/04/2021\",\"25/04/2021\",\"26/04/2021\",\"27/04/2021\",\"28/04/2021\",\"29/04/2021\",\"30/04/2021\",\"01/05/2021\",\"02/05/2021\",\"03/05/2021\",\"04/05/2021\",\"05/05/2021\",\"06/05/2021\",\"07/05/2021\",\"08/05/2021\",\"09/05/2021\",\"10/05/2021\",\"11/05/2021\",\"12/05/2021\",\"13/05/2021\",\"14/05/2021\",\"15/05/2021\",\"16/05/2021\",\"17/05/2021\",\"18/05/2021\",\"19/05/2021\",\"20/05/2021\",\"21/05/2021\",\"22/05/2021\",\"23/05/2021\",\"24/05/2021\",\"25/05/2021\",\"26/05/2021\",\"27/05/2021\",\"28/05/2021\",\"29/05/2021\",\"30/05/2021\",\"31/05/2021\",\"01/06/2021\",\"02/06/2021\",\"03/06/2021\",\"04/06/2021\",\"05/06/2021\",\"06/06/2021\",\"07/06/2021\",\"08/06/2021\",\"09/06/2021\",\"10/06/2021\",\"11/06/2021\",\"12/06/2021\",\"13/06/2021\",\"14/06/2021\",\"15/06/2021\",\"16/06/2021\",\"17/06/2021\",\"18/06/2021\",\"19/06/2021\",\"20/06/2021\",\"21/06/2021\",\"22/06/2021\",\"23/06/2021\",\"24/06/2021\",\"25/06/2021\",\"26/06/2021\",\"27/06/2021\",\"28/06/2021\",\"29/06/2021\",\"30/06/2021\",\"01/07/2021\",\"02/07/2021\",\"03/07/2021\",\"04/07/2021\",\"05/07/2021\",\"06/07/2021\",\"07/07/2021\",\"08/07/2021\",\"09/07/2021\",\"10/07/2021\",\"11/07/2021\",\"12/07/2021\",\"13/07/2021\",\"14/07/2021\",\"15/07/2021\",\"16/07/2021\",\"17/07/2021\",\"18/07/2021\",\"19/07/2021\",\"20/07/2021\",\"21/07/2021\",\"22/07/2021\",\"23/07/2021\",\"24/07/2021\",\"25/07/2021\",\"26/07/2021\",\"27/07/2021\",\"28/07/2021\",\"29/07/2021\",\"30/07/2021\",\"31/07/2021\",\"01/08/2021\",\"02/08/2021\",\"03/08/2021\",\"04/08/2021\",\"05/08/2021\",\"06/08/2021\",\"07/08/2021\",\"08/08/2021\",\"09/08/2021\",\"10/08/2021\",\"11/08/2021\",\"12/08/2021\",\"13/08/2021\",\"14/08/2021\",\"15/08/2021\",\"16/08/2021\",\"17/08/2021\",\"18/08/2021\",\"19/08/2021\",\"20/08/2021\",\"21/08/2021\",\"22/08/2021\",\"23/08/2021\",\"24/08/2021\",\"25/08/2021\",\"26/08/2021\",\"27/08/2021\",\"28/08/2021\",\"29/08/2021\",\"30/08/2021\",\"31/08/2021\",\"01/09/2021\",\"02/09/2021\",\"03/09/2021\",\"04/09/2021\",\"05/09/2021\",\"06/09/2021\",\"07/09/2021\",\"08/09/2021\",\"09/09/2021\",\"10/09/2021\",\"11/09/2021\",\"12/09/2021\",\"13/09/2021\",\"14/09/2021\",\"15/09/2021\",\"16/09/2021\",\"17/09/2021\",\"18/09/2021\",\"19/09/2021\",\"20/09/2021\",\"21/09/2021\",\"22/09/2021\",\"23/09/2021\",\"24/09/2021\",\"25/09/2021\",\"26/09/2021\",\"27/09/2021\"],\"y\":[null,null,null,null,null,null,null,0.14285714285714285,-2.7142857142857144,-4.428571428571429,0.14285714285714285,1.5714285714285714,2.4285714285714284,-1.4285714285714286,-0.14285714285714285,-0.14285714285714285,0.14285714285714285,1.1428571428571428,-2.2857142857142856,21.428571428571427,2.5714285714285716,-0.2857142857142857,9.714285714285714,-1.0,-1.1428571428571428,1.5714285714285714,-23.0,-2.2857142857142856,1.7142857142857142,-10.285714285714286,3.142857142857143,2.2857142857142856,5.142857142857143,0.2857142857142857,55.714285714285715,-0.8571428571428571,1.5714285714285714,-2.0,-1.7142857142857142,-4.285714285714286,0.2857142857142857,-55.285714285714285,-0.14285714285714285,0.8571428571428571,-0.42857142857142855,1.1428571428571428,6.571428571428571,-1.2857142857142858,-0.14285714285714285,0.14285714285714285,-1.2857142857142858,1.0,-0.7142857142857143,-9.0,1.2857142857142858,0.0,0.42857142857142855,-0.2857142857142857,0.42857142857142855,-0.42857142857142855,1.1428571428571428,-1.1428571428571428,0.42857142857142855,-1.2857142857142858,2.0,0.14285714285714285,3.2857142857142856,1.8571428571428572,0.5714285714285714,1.7142857142857142,7.857142857142857,-0.14285714285714285,-0.42857142857142855,-2.857142857142857,0.7142857142857143,2.4285714285714284,10.428571428571429,-6.714285714285714,52.57142857142857,1.7142857142857142,0.14285714285714285,-0.5714285714285714,-1.5714285714285714,-13.142857142857142,0.2857142857142857,-53.57142857142857,-0.7142857142857143,0.0,-1.0,-0.14285714285714285,0.8571428571428571,0.2857142857142857,-0.14285714285714285,-1.0,0.5714285714285714,0.14285714285714285,-0.2857142857142857,0.14285714285714285,0.2857142857142857,-1.1428571428571428,0.5714285714285714,-1.8571428571428572,1.4285714285714286,2.0,1.5714285714285714,0.5714285714285714,2.857142857142857,1.5714285714285714,2.142857142857143,-0.5714285714285714,0.0,-2.142857142857143,3.7142857142857144,-1.1428571428571428,6.571428571428571,49.0,15.714285714285714,7.285714285714286,87.57142857142857,13.857142857142858,5.857142857142857,-2.2857142857142856,-46.142857142857146,-7.571428571428571,-0.8571428571428571,-85.0,-14.857142857142858,-2.2857142857142856,4.0,1.5714285714285714,-5.142857142857143,-2.5714285714285716,0.2857142857142857,-1.2857142857142858,0.0,-6.285714285714286,0.14285714285714285,-3.4285714285714284,-1.7142857142857142,2.7142857142857144,5.285714285714286,4.571428571428571,5.142857142857143,11.714285714285714,15.0,1.2857142857142858,-1.0,1.5714285714285714,-5.0,-5.142857142857143,-9.857142857142858,-9.285714285714286,1.5714285714285714,4.857142857142857,-2.142857142857143,2.7142857142857144,5.0,4.714285714285714,5.0,2.142857142857143,1.1428571428571428,5.714285714285714,4.571428571428571,-0.42857142857142855,-2.7142857142857144,9.0,19.285714285714285,9.714285714285714,11.285714285714286,16.857142857142858,47.142857142857146,55.285714285714285,2.7142857142857144,-6.285714285714286,15.857142857142858,58.42857142857143,123.57142857142857,14.714285714285714,-14.285714285714286,106.0,23.857142857142858,86.57142857142857,34.42857142857143,-79.42857142857143,43.57142857142857,54.857142857142854,-63.142857142857146,173.0,-73.14285714285714,4.142857142857143,102.71428571428571,-39.857142857142854,23.714285714285715,67.71428571428571,-21.285714285714285,41.857142857142854,93.0,5.857142857142857,88.42857142857143,15.428571428571429,107.28571428571429,36.714285714285715,141.28571428571428,-51.57142857142857,-2.857142857142857,-21.571428571428573,8.0,78.28571428571429,-46.42857142857143,-64.42857142857143,126.42857142857143,62.285714285714285,99.28571428571429,46.42857142857143,-129.28571428571428,-56.285714285714285,-71.57142857142857,-221.0,-197.0,-195.0,-129.14285714285714,-122.14285714285714,-45.0,-22.142857142857142,-1.8571428571428572,17.0,30.142857142857142,12.857142857142858,-19.142857142857142,-32.0,-26.142857142857142,-11.857142857142858,-11.428571428571429,-29.857142857142858,-57.57142857142857,-21.714285714285715,-15.285714285714286,-10.0,-2.4285714285714284,-10.428571428571429,-9.428571428571429,1.7142857142857142,-11.571428571428571,-10.428571428571429,-6.285714285714286,-27.714285714285715,-25.142857142857142,-14.142857142857142,-9.857142857142858,-4.142857142857143],\"yaxis\":\"y2\"}],                        {\"font\":{\"color\":\"rgb(96, 96, 96)\",\"family\":\"Arial\",\"size\":12},\"height\":500,\"legend\":{\"x\":0.1,\"y\":0.98},\"template\":{\"data\":{\"bar\":[{\"error_x\":{\"color\":\"#2a3f5f\"},\"error_y\":{\"color\":\"#2a3f5f\"},\"marker\":{\"line\":{\"color\":\"white\",\"width\":0.5},\"pattern\":{\"fillmode\":\"overlay\",\"size\":10,\"solidity\":0.2}},\"type\":\"bar\"}],\"barpolar\":[{\"marker\":{\"line\":{\"color\":\"white\",\"width\":0.5},\"pattern\":{\"fillmode\":\"overlay\",\"size\":10,\"solidity\":0.2}},\"type\":\"barpolar\"}],\"carpet\":[{\"aaxis\":{\"endlinecolor\":\"#2a3f5f\",\"gridcolor\":\"#C8D4E3\",\"linecolor\":\"#C8D4E3\",\"minorgridcolor\":\"#C8D4E3\",\"startlinecolor\":\"#2a3f5f\"},\"baxis\":{\"endlinecolor\":\"#2a3f5f\",\"gridcolor\":\"#C8D4E3\",\"linecolor\":\"#C8D4E3\",\"minorgridcolor\":\"#C8D4E3\",\"startlinecolor\":\"#2a3f5f\"},\"type\":\"carpet\"}],\"choropleth\":[{\"colorbar\":{\"outlinewidth\":0,\"ticks\":\"\"},\"type\":\"choropleth\"}],\"contour\":[{\"colorbar\":{\"outlinewidth\":0,\"ticks\":\"\"},\"colorscale\":[[0.0,\"#0d0887\"],[0.1111111111111111,\"#46039f\"],[0.2222222222222222,\"#7201a8\"],[0.3333333333333333,\"#9c179e\"],[0.4444444444444444,\"#bd3786\"],[0.5555555555555556,\"#d8576b\"],[0.6666666666666666,\"#ed7953\"],[0.7777777777777778,\"#fb9f3a\"],[0.8888888888888888,\"#fdca26\"],[1.0,\"#f0f921\"]],\"type\":\"contour\"}],\"contourcarpet\":[{\"colorbar\":{\"outlinewidth\":0,\"ticks\":\"\"},\"type\":\"contourcarpet\"}],\"heatmap\":[{\"colorbar\":{\"outlinewidth\":0,\"ticks\":\"\"},\"colorscale\":[[0.0,\"#0d0887\"],[0.1111111111111111,\"#46039f\"],[0.2222222222222222,\"#7201a8\"],[0.3333333333333333,\"#9c179e\"],[0.4444444444444444,\"#bd3786\"],[0.5555555555555556,\"#d8576b\"],[0.6666666666666666,\"#ed7953\"],[0.7777777777777778,\"#fb9f3a\"],[0.8888888888888888,\"#fdca26\"],[1.0,\"#f0f921\"]],\"type\":\"heatmap\"}],\"heatmapgl\":[{\"colorbar\":{\"outlinewidth\":0,\"ticks\":\"\"},\"colorscale\":[[0.0,\"#0d0887\"],[0.1111111111111111,\"#46039f\"],[0.2222222222222222,\"#7201a8\"],[0.3333333333333333,\"#9c179e\"],[0.4444444444444444,\"#bd3786\"],[0.5555555555555556,\"#d8576b\"],[0.6666666666666666,\"#ed7953\"],[0.7777777777777778,\"#fb9f3a\"],[0.8888888888888888,\"#fdca26\"],[1.0,\"#f0f921\"]],\"type\":\"heatmapgl\"}],\"histogram\":[{\"marker\":{\"pattern\":{\"fillmode\":\"overlay\",\"size\":10,\"solidity\":0.2}},\"type\":\"histogram\"}],\"histogram2d\":[{\"colorbar\":{\"outlinewidth\":0,\"ticks\":\"\"},\"colorscale\":[[0.0,\"#0d0887\"],[0.1111111111111111,\"#46039f\"],[0.2222222222222222,\"#7201a8\"],[0.3333333333333333,\"#9c179e\"],[0.4444444444444444,\"#bd3786\"],[0.5555555555555556,\"#d8576b\"],[0.6666666666666666,\"#ed7953\"],[0.7777777777777778,\"#fb9f3a\"],[0.8888888888888888,\"#fdca26\"],[1.0,\"#f0f921\"]],\"type\":\"histogram2d\"}],\"histogram2dcontour\":[{\"colorbar\":{\"outlinewidth\":0,\"ticks\":\"\"},\"colorscale\":[[0.0,\"#0d0887\"],[0.1111111111111111,\"#46039f\"],[0.2222222222222222,\"#7201a8\"],[0.3333333333333333,\"#9c179e\"],[0.4444444444444444,\"#bd3786\"],[0.5555555555555556,\"#d8576b\"],[0.6666666666666666,\"#ed7953\"],[0.7777777777777778,\"#fb9f3a\"],[0.8888888888888888,\"#fdca26\"],[1.0,\"#f0f921\"]],\"type\":\"histogram2dcontour\"}],\"mesh3d\":[{\"colorbar\":{\"outlinewidth\":0,\"ticks\":\"\"},\"type\":\"mesh3d\"}],\"parcoords\":[{\"line\":{\"colorbar\":{\"outlinewidth\":0,\"ticks\":\"\"}},\"type\":\"parcoords\"}],\"pie\":[{\"automargin\":true,\"type\":\"pie\"}],\"scatter\":[{\"marker\":{\"colorbar\":{\"outlinewidth\":0,\"ticks\":\"\"}},\"type\":\"scatter\"}],\"scatter3d\":[{\"line\":{\"colorbar\":{\"outlinewidth\":0,\"ticks\":\"\"}},\"marker\":{\"colorbar\":{\"outlinewidth\":0,\"ticks\":\"\"}},\"type\":\"scatter3d\"}],\"scattercarpet\":[{\"marker\":{\"colorbar\":{\"outlinewidth\":0,\"ticks\":\"\"}},\"type\":\"scattercarpet\"}],\"scattergeo\":[{\"marker\":{\"colorbar\":{\"outlinewidth\":0,\"ticks\":\"\"}},\"type\":\"scattergeo\"}],\"scattergl\":[{\"marker\":{\"colorbar\":{\"outlinewidth\":0,\"ticks\":\"\"}},\"type\":\"scattergl\"}],\"scattermapbox\":[{\"marker\":{\"colorbar\":{\"outlinewidth\":0,\"ticks\":\"\"}},\"type\":\"scattermapbox\"}],\"scatterpolar\":[{\"marker\":{\"colorbar\":{\"outlinewidth\":0,\"ticks\":\"\"}},\"type\":\"scatterpolar\"}],\"scatterpolargl\":[{\"marker\":{\"colorbar\":{\"outlinewidth\":0,\"ticks\":\"\"}},\"type\":\"scatterpolargl\"}],\"scatterternary\":[{\"marker\":{\"colorbar\":{\"outlinewidth\":0,\"ticks\":\"\"}},\"type\":\"scatterternary\"}],\"surface\":[{\"colorbar\":{\"outlinewidth\":0,\"ticks\":\"\"},\"colorscale\":[[0.0,\"#0d0887\"],[0.1111111111111111,\"#46039f\"],[0.2222222222222222,\"#7201a8\"],[0.3333333333333333,\"#9c179e\"],[0.4444444444444444,\"#bd3786\"],[0.5555555555555556,\"#d8576b\"],[0.6666666666666666,\"#ed7953\"],[0.7777777777777778,\"#fb9f3a\"],[0.8888888888888888,\"#fdca26\"],[1.0,\"#f0f921\"]],\"type\":\"surface\"}],\"table\":[{\"cells\":{\"fill\":{\"color\":\"#EBF0F8\"},\"line\":{\"color\":\"white\"}},\"header\":{\"fill\":{\"color\":\"#C8D4E3\"},\"line\":{\"color\":\"white\"}},\"type\":\"table\"}]},\"layout\":{\"annotationdefaults\":{\"arrowcolor\":\"#2a3f5f\",\"arrowhead\":0,\"arrowwidth\":1},\"autotypenumbers\":\"strict\",\"coloraxis\":{\"colorbar\":{\"outlinewidth\":0,\"ticks\":\"\"}},\"colorscale\":{\"diverging\":[[0,\"#8e0152\"],[0.1,\"#c51b7d\"],[0.2,\"#de77ae\"],[0.3,\"#f1b6da\"],[0.4,\"#fde0ef\"],[0.5,\"#f7f7f7\"],[0.6,\"#e6f5d0\"],[0.7,\"#b8e186\"],[0.8,\"#7fbc41\"],[0.9,\"#4d9221\"],[1,\"#276419\"]],\"sequential\":[[0.0,\"#0d0887\"],[0.1111111111111111,\"#46039f\"],[0.2222222222222222,\"#7201a8\"],[0.3333333333333333,\"#9c179e\"],[0.4444444444444444,\"#bd3786\"],[0.5555555555555556,\"#d8576b\"],[0.6666666666666666,\"#ed7953\"],[0.7777777777777778,\"#fb9f3a\"],[0.8888888888888888,\"#fdca26\"],[1.0,\"#f0f921\"]],\"sequentialminus\":[[0.0,\"#0d0887\"],[0.1111111111111111,\"#46039f\"],[0.2222222222222222,\"#7201a8\"],[0.3333333333333333,\"#9c179e\"],[0.4444444444444444,\"#bd3786\"],[0.5555555555555556,\"#d8576b\"],[0.6666666666666666,\"#ed7953\"],[0.7777777777777778,\"#fb9f3a\"],[0.8888888888888888,\"#fdca26\"],[1.0,\"#f0f921\"]]},\"colorway\":[\"#636efa\",\"#EF553B\",\"#00cc96\",\"#ab63fa\",\"#FFA15A\",\"#19d3f3\",\"#FF6692\",\"#B6E880\",\"#FF97FF\",\"#FECB52\"],\"font\":{\"color\":\"#2a3f5f\"},\"geo\":{\"bgcolor\":\"white\",\"lakecolor\":\"white\",\"landcolor\":\"white\",\"showlakes\":true,\"showland\":true,\"subunitcolor\":\"#C8D4E3\"},\"hoverlabel\":{\"align\":\"left\"},\"hovermode\":\"closest\",\"mapbox\":{\"style\":\"light\"},\"paper_bgcolor\":\"white\",\"plot_bgcolor\":\"white\",\"polar\":{\"angularaxis\":{\"gridcolor\":\"#EBF0F8\",\"linecolor\":\"#EBF0F8\",\"ticks\":\"\"},\"bgcolor\":\"white\",\"radialaxis\":{\"gridcolor\":\"#EBF0F8\",\"linecolor\":\"#EBF0F8\",\"ticks\":\"\"}},\"scene\":{\"xaxis\":{\"backgroundcolor\":\"white\",\"gridcolor\":\"#DFE8F3\",\"gridwidth\":2,\"linecolor\":\"#EBF0F8\",\"showbackground\":true,\"ticks\":\"\",\"zerolinecolor\":\"#EBF0F8\"},\"yaxis\":{\"backgroundcolor\":\"white\",\"gridcolor\":\"#DFE8F3\",\"gridwidth\":2,\"linecolor\":\"#EBF0F8\",\"showbackground\":true,\"ticks\":\"\",\"zerolinecolor\":\"#EBF0F8\"},\"zaxis\":{\"backgroundcolor\":\"white\",\"gridcolor\":\"#DFE8F3\",\"gridwidth\":2,\"linecolor\":\"#EBF0F8\",\"showbackground\":true,\"ticks\":\"\",\"zerolinecolor\":\"#EBF0F8\"}},\"shapedefaults\":{\"line\":{\"color\":\"#2a3f5f\"}},\"ternary\":{\"aaxis\":{\"gridcolor\":\"#DFE8F3\",\"linecolor\":\"#A2B1C6\",\"ticks\":\"\"},\"baxis\":{\"gridcolor\":\"#DFE8F3\",\"linecolor\":\"#A2B1C6\",\"ticks\":\"\"},\"bgcolor\":\"white\",\"caxis\":{\"gridcolor\":\"#DFE8F3\",\"linecolor\":\"#A2B1C6\",\"ticks\":\"\"}},\"title\":{\"x\":0.05},\"xaxis\":{\"automargin\":true,\"gridcolor\":\"#EBF0F8\",\"linecolor\":\"#EBF0F8\",\"ticks\":\"\",\"title\":{\"standoff\":15},\"zerolinecolor\":\"#EBF0F8\",\"zerolinewidth\":2},\"yaxis\":{\"automargin\":true,\"gridcolor\":\"#EBF0F8\",\"linecolor\":\"#EBF0F8\",\"ticks\":\"\",\"title\":{\"standoff\":15},\"zerolinecolor\":\"#EBF0F8\",\"zerolinewidth\":2}}},\"title\":{\"text\":\"Aceleraci\\u00f3n de casos - promedio m\\u00f3vil 14 d\\u00edas (l\\u00ednea) - 3 d\\u00edas (barras) - Cuba\"},\"width\":800,\"xaxis\":{\"dtick\":\"30\",\"linecolor\":\"rgb(204, 204, 204)\",\"linewidth\":2,\"showgrid\":false,\"showline\":true,\"showticklabels\":true,\"tickfont\":{\"color\":\"rgb(82, 82, 82)\",\"family\":\"Arial\",\"size\":12},\"tickformat\":\"%d %B\",\"ticks\":\"outside\"},\"yaxis\":{\"rangemode\":\"tozero\",\"zerolinecolor\":\"black\",\"zerolinewidth\":1},\"yaxis2\":{\"overlaying\":\"y\",\"side\":\"right\",\"zerolinecolor\":\"black\",\"zerolinewidth\":1}},                        {\"responsive\": true}                    ).then(function(){\n                            \nvar gd = document.getElementById('cb318cb8-d887-4748-b415-4bf7d228146f');\nvar x = new MutationObserver(function (mutations, observer) {{\n        var display = window.getComputedStyle(gd).display;\n        if (!display || display === 'none') {{\n            console.log([gd, 'removed!']);\n            Plotly.purge(gd);\n            observer.disconnect();\n        }}\n}});\n\n// Listen for the removal of the full notebook cells\nvar notebookContainer = gd.closest('#notebook-container');\nif (notebookContainer) {{\n    x.observe(notebookContainer, {childList: true});\n}}\n\n// Listen for the clearing of the current output cell\nvar outputEl = gd.closest('.output');\nif (outputEl) {{\n    x.observe(outputEl, {childList: true});\n}}\n\n                        })                };                            </script>        </div>\n</body>\n</html>"
     },
     "metadata": {},
     "output_type": "display_data"
    }
   ]
  },
  {
   "cell_type": "markdown",
   "source": "<a style='text-decoration:none;line-height:16px;display:flex;color:#5B5B62;padding:10px;justify-content:end;' href='https://deepnote.com?utm_source=created-in-deepnote-cell&projectId=331fe212-3056-4b5e-ab8f-59cd76bdab29' target=\"_blank\">\n<img alt='Created in deepnote.com' style='display:inline;max-height:16px;margin:0px;margin-right:7.5px;' src='data:image/svg+xml;base64,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' > </img>\nCreated in <span style='font-weight:600;margin-left:4px;'>Deepnote</span></a>",
   "metadata": {
    "tags": [],
    "created_in_deepnote_cell": true,
    "deepnote_cell_type": "markdown"
   }
  }
 ],
 "nbformat": 4,
 "nbformat_minor": 2,
 "metadata": {
  "language_info": {
   "codemirror_mode": {
    "name": "ipython",
    "version": 3
   },
   "file_extension": ".py",
   "mimetype": "text/x-python",
   "name": "python",
   "nbconvert_exporter": "python",
   "pygments_lexer": "ipython3",
   "version": "3.9.5"
  },
  "orig_nbformat": 2,
  "kernelspec": {
   "name": "python3",
   "display_name": "Python 3.9.5 64-bit"
  },
  "interpreter": {
   "hash": "63fd5069d213b44bf678585dea6b12cceca9941eaf7f819626cde1f2670de90d"
  },
  "deepnote_notebook_id": "c2b68b75-c0e3-4094-9c66-4d5dd388eab1",
  "deepnote": {},
  "deepnote_execution_queue": []
 }
}