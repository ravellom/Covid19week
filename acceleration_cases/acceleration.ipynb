{
 "metadata": {
  "language_info": {
   "codemirror_mode": {
    "name": "ipython",
    "version": 3
   },
   "file_extension": ".py",
   "mimetype": "text/x-python",
   "name": "python",
   "nbconvert_exporter": "python",
   "pygments_lexer": "ipython3",
   "version": "3.9.5"
  },
  "orig_nbformat": 2,
  "kernelspec": {
   "name": "python3",
   "display_name": "Python 3.9.5 64-bit"
  },
  "interpreter": {
   "hash": "63fd5069d213b44bf678585dea6b12cceca9941eaf7f819626cde1f2670de90d"
  }
 },
 "nbformat": 4,
 "nbformat_minor": 2,
 "cells": [
  {
   "cell_type": "code",
   "execution_count": 262,
   "metadata": {},
   "outputs": [],
   "source": [
    "import pandas as pd\n",
    "import datetime\n",
    "import plotly\n",
    "import plotly.express as px\n",
    "import plotly.graph_objects as go\n",
    "\n",
    "#chartTemplate = 'plotly_dark'\n",
    "chartTemplate = 'plotly_white'"
   ]
  },
  {
   "cell_type": "code",
   "execution_count": 281,
   "metadata": {},
   "outputs": [
    {
     "output_type": "stream",
     "name": "stderr",
     "text": [
      "C:\\Python39\\lib\\site-packages\\IPython\\core\\interactiveshell.py:3169: DtypeWarning:\n\nColumns (1,7) have mixed types.Specify dtype option on import or set low_memory=False.\n\n"
     ]
    },
    {
     "output_type": "execute_result",
     "data": {
      "text/plain": [
       "           Date   N   vel   acc  accelMeans14\n",
       "231  2020/03/24   1   NaN   NaN           NaN\n",
       "195  2020/03/27   3   2.0   NaN           NaN\n",
       "217  2020/03/28   1  -2.0  -4.0           NaN\n",
       "200  2020/03/29   3   2.0   4.0           NaN\n",
       "197  2020/04/01   3   0.0  -2.0           NaN\n",
       "..          ...  ..   ...   ...           ...\n",
       "5    2021/06/30  79  13.0  34.0      2.785714\n",
       "3    2021/07/01  86   7.0  -6.0      1.285714\n",
       "2    2021/07/02  87   1.0  -6.0      4.285714\n",
       "7    2021/07/03  73 -14.0 -15.0      2.428571\n",
       "16   2021/07/04  64  -9.0   5.0      0.642857\n",
       "\n",
       "[239 rows x 5 columns]"
      ],
      "text/html": "<div>\n<style scoped>\n    .dataframe tbody tr th:only-of-type {\n        vertical-align: middle;\n    }\n\n    .dataframe tbody tr th {\n        vertical-align: top;\n    }\n\n    .dataframe thead th {\n        text-align: right;\n    }\n</style>\n<table border=\"1\" class=\"dataframe\">\n  <thead>\n    <tr style=\"text-align: right;\">\n      <th></th>\n      <th>Date</th>\n      <th>N</th>\n      <th>vel</th>\n      <th>acc</th>\n      <th>accelMeans14</th>\n    </tr>\n  </thead>\n  <tbody>\n    <tr>\n      <th>231</th>\n      <td>2020/03/24</td>\n      <td>1</td>\n      <td>NaN</td>\n      <td>NaN</td>\n      <td>NaN</td>\n    </tr>\n    <tr>\n      <th>195</th>\n      <td>2020/03/27</td>\n      <td>3</td>\n      <td>2.0</td>\n      <td>NaN</td>\n      <td>NaN</td>\n    </tr>\n    <tr>\n      <th>217</th>\n      <td>2020/03/28</td>\n      <td>1</td>\n      <td>-2.0</td>\n      <td>-4.0</td>\n      <td>NaN</td>\n    </tr>\n    <tr>\n      <th>200</th>\n      <td>2020/03/29</td>\n      <td>3</td>\n      <td>2.0</td>\n      <td>4.0</td>\n      <td>NaN</td>\n    </tr>\n    <tr>\n      <th>197</th>\n      <td>2020/04/01</td>\n      <td>3</td>\n      <td>0.0</td>\n      <td>-2.0</td>\n      <td>NaN</td>\n    </tr>\n    <tr>\n      <th>...</th>\n      <td>...</td>\n      <td>...</td>\n      <td>...</td>\n      <td>...</td>\n      <td>...</td>\n    </tr>\n    <tr>\n      <th>5</th>\n      <td>2021/06/30</td>\n      <td>79</td>\n      <td>13.0</td>\n      <td>34.0</td>\n      <td>2.785714</td>\n    </tr>\n    <tr>\n      <th>3</th>\n      <td>2021/07/01</td>\n      <td>86</td>\n      <td>7.0</td>\n      <td>-6.0</td>\n      <td>1.285714</td>\n    </tr>\n    <tr>\n      <th>2</th>\n      <td>2021/07/02</td>\n      <td>87</td>\n      <td>1.0</td>\n      <td>-6.0</td>\n      <td>4.285714</td>\n    </tr>\n    <tr>\n      <th>7</th>\n      <td>2021/07/03</td>\n      <td>73</td>\n      <td>-14.0</td>\n      <td>-15.0</td>\n      <td>2.428571</td>\n    </tr>\n    <tr>\n      <th>16</th>\n      <td>2021/07/04</td>\n      <td>64</td>\n      <td>-9.0</td>\n      <td>5.0</td>\n      <td>0.642857</td>\n    </tr>\n  </tbody>\n</table>\n<p>239 rows × 5 columns</p>\n</div>"
     },
     "metadata": {},
     "execution_count": 281
    }
   ],
   "source": [
    "cases = pd.read_csv(\"C:/Users/Admin/Documents/GitHub/Tutoriales/Covid19/covid19-casos.csv\")\n",
    "\n",
    "#cases = pd.read_json(\"C:/Users/Admin/Documents/GitHub/Tutoriales/Covid19/covid19-casos.json\")\n",
    "\n",
    "cases_cfg = cases[cases[\"provincia\"] == \"Cienfuegos\"]\n",
    "\n",
    "cuba = cases['fecha_confirmacion'].value_counts().reset_index().rename(columns={'index': 'Date','fecha_confirmacion':'N'}).sort_values(by='Date', ascending=True)\n",
    "cfg = cases_cfg['fecha_confirmacion'].value_counts().reset_index().rename(columns={'index': 'Date','fecha_confirmacion':'N'}).sort_values(by='Date', ascending=True)\n",
    "\n",
    "# calculate case velocity\n",
    "cuba[\"vel\"] = cuba.loc[:, cuba.columns != 'Date'].diff()\n",
    "cfg[\"vel\"] = cfg.loc[:, cfg.columns != 'Date'].diff()\n",
    "\n",
    "# calculate case acceleration\n",
    "cuba[\"acc\"] = cuba[[\"Date\", \"vel\"]].loc[:, cuba[[\"Date\", \"vel\"]].columns != 'Date'].diff()\n",
    "cfg[\"acc\"] = cfg[[\"Date\", \"vel\"]].loc[:, cfg[[\"Date\", \"vel\"]].columns != 'Date'].diff()\n",
    "\n",
    "# calculate means - 14 días - 2 semanas\n",
    "# usando rolling\n",
    "avg = 14\n",
    "cfg[\"accelMeans14\"] = cfg[[\"Date\", \"vel\"]].loc[:, cfg[[\"Date\", \"vel\"]].columns != 'Datetime'].rolling(window = avg).mean()\n",
    "cuba[\"accelMeans14\"] = cuba[[\"Date\", \"vel\"]].loc[:, cuba[[\"Date\", \"vel\"]].columns != 'Datetime'].rolling(window = avg).mean()\n",
    "# con EWM\n",
    "# cfg[\"accelMeans5\"] = cfg[[\"Date\", \"vel\"]].loc[:, cfg[[\"Date\", \"vel\"]].columns != 'Datetime'].ewm(span=5).mean()\n",
    "\n",
    "cfg"
   ]
  },
  {
   "cell_type": "code",
   "execution_count": 282,
   "metadata": {},
   "outputs": [
    {
     "output_type": "display_data",
     "data": {
      "application/vnd.plotly.v1+json": {
       "config": {
        "plotlyServerURL": "https://plot.ly"
       },
       "data": [
        {
         "hovertemplate": "Date=%{x}<br>N=%{y}<extra></extra>",
         "legendgroup": "",
         "line": {
          "color": "#636efa",
          "dash": "solid"
         },
         "mode": "lines",
         "name": "",
         "orientation": "v",
         "showlegend": false,
         "type": "scatter",
         "x": [
          "2020/03/24",
          "2020/03/27",
          "2020/03/28",
          "2020/03/29",
          "2020/04/01",
          "2020/04/17",
          "2020/04/19",
          "2020/04/21",
          "2020/04/23",
          "2020/04/24",
          "2020/04/26",
          "2020/04/27",
          "2020/04/29",
          "2020/06/26",
          "2020/07/24",
          "2020/07/25",
          "2020/08/04",
          "2020/08/07",
          "2020/08/14",
          "2020/09/03",
          "2020/09/10",
          "2020/11/12",
          "2020/11/18",
          "2020/11/22",
          "2020/11/23",
          "2020/11/24",
          "2020/11/25",
          "2020/11/26",
          "2020/11/27",
          "2020/11/28",
          "2020/11/29",
          "2020/11/30",
          "2020/12/01",
          "2020/12/02",
          "2020/12/03",
          "2020/12/04",
          "2020/12/05",
          "2020/12/06",
          "2020/12/07",
          "2020/12/09",
          "2020/12/10",
          "2020/12/11",
          "2020/12/12",
          "2020/12/13",
          "2020/12/14",
          "2020/12/15",
          "2020/12/17",
          "2020/12/18",
          "2020/12/19",
          "2020/12/20",
          "2020/12/21",
          "2020/12/22",
          "2020/12/23",
          "2020/12/24",
          "2020/12/25",
          "2020/12/26",
          "2020/12/27",
          "2020/12/28",
          "2020/12/29",
          "2020/12/30",
          "2020/12/31",
          "2021/01/02",
          "2021/01/03",
          "2021/01/04",
          "2021/01/05",
          "2021/01/07",
          "2021/01/08",
          "2021/01/09",
          "2021/01/10",
          "2021/01/11",
          "2021/01/12",
          "2021/01/13",
          "2021/01/14",
          "2021/01/15",
          "2021/01/16",
          "2021/01/17",
          "2021/01/18",
          "2021/01/19",
          "2021/01/20",
          "2021/01/21",
          "2021/01/22",
          "2021/01/23",
          "2021/01/24",
          "2021/01/26",
          "2021/01/27",
          "2021/01/28",
          "2021/01/29",
          "2021/01/30",
          "2021/01/31",
          "2021/02/01",
          "2021/02/02",
          "2021/02/03",
          "2021/02/05",
          "2021/02/06",
          "2021/02/07",
          "2021/02/08",
          "2021/02/10",
          "2021/02/11",
          "2021/02/12",
          "2021/02/13",
          "2021/02/14",
          "2021/02/15",
          "2021/02/17",
          "2021/02/18",
          "2021/02/19",
          "2021/02/20",
          "2021/02/21",
          "2021/02/22",
          "2021/02/23",
          "2021/02/24",
          "2021/02/25",
          "2021/02/26",
          "2021/02/27",
          "2021/02/28",
          "2021/03/01",
          "2021/03/02",
          "2021/03/03",
          "2021/03/04",
          "2021/03/05",
          "2021/03/06",
          "2021/03/07",
          "2021/03/08",
          "2021/03/09",
          "2021/03/10",
          "2021/03/11",
          "2021/03/12",
          "2021/03/14",
          "2021/03/15",
          "2021/03/16",
          "2021/03/17",
          "2021/03/18",
          "2021/03/19",
          "2021/03/20",
          "2021/03/21",
          "2021/03/22",
          "2021/03/23",
          "2021/03/24",
          "2021/03/25",
          "2021/03/26",
          "2021/03/27",
          "2021/03/28",
          "2021/03/29",
          "2021/03/30",
          "2021/03/31",
          "2021/04/01",
          "2021/04/02",
          "2021/04/03",
          "2021/04/04",
          "2021/04/05",
          "2021/04/06",
          "2021/04/07",
          "2021/04/08",
          "2021/04/09",
          "2021/04/10",
          "2021/04/11",
          "2021/04/12",
          "2021/04/13",
          "2021/04/14",
          "2021/04/15",
          "2021/04/16",
          "2021/04/17",
          "2021/04/18",
          "2021/04/19",
          "2021/04/20",
          "2021/04/21",
          "2021/04/22",
          "2021/04/23",
          "2021/04/24",
          "2021/04/25",
          "2021/04/26",
          "2021/04/27",
          "2021/04/28",
          "2021/04/29",
          "2021/04/30",
          "2021/05/01",
          "2021/05/02",
          "2021/05/03",
          "2021/05/04",
          "2021/05/05",
          "2021/05/06",
          "2021/05/07",
          "2021/05/08",
          "2021/05/09",
          "2021/05/10",
          "2021/05/11",
          "2021/05/12",
          "2021/05/13",
          "2021/05/14",
          "2021/05/15",
          "2021/05/16",
          "2021/05/17",
          "2021/05/18",
          "2021/05/19",
          "2021/05/20",
          "2021/05/21",
          "2021/05/22",
          "2021/05/23",
          "2021/05/24",
          "2021/05/25",
          "2021/05/26",
          "2021/05/27",
          "2021/05/28",
          "2021/05/29",
          "2021/05/30",
          "2021/05/31",
          "2021/06/01",
          "2021/06/02",
          "2021/06/03",
          "2021/06/04",
          "2021/06/05",
          "2021/06/06",
          "2021/06/07",
          "2021/06/08",
          "2021/06/09",
          "2021/06/10",
          "2021/06/11",
          "2021/06/12",
          "2021/06/13",
          "2021/06/14",
          "2021/06/15",
          "2021/06/16",
          "2021/06/17",
          "2021/06/18",
          "2021/06/19",
          "2021/06/20",
          "2021/06/21",
          "2021/06/22",
          "2021/06/23",
          "2021/06/24",
          "2021/06/25",
          "2021/06/26",
          "2021/06/27",
          "2021/06/28",
          "2021/06/29",
          "2021/06/30",
          "2021/07/01",
          "2021/07/02",
          "2021/07/03",
          "2021/07/04"
         ],
         "xaxis": "x",
         "y": [
          1,
          3,
          1,
          3,
          3,
          1,
          1,
          1,
          4,
          1,
          1,
          2,
          2,
          1,
          1,
          1,
          1,
          3,
          1,
          1,
          3,
          1,
          1,
          2,
          6,
          3,
          3,
          2,
          4,
          14,
          7,
          3,
          2,
          4,
          1,
          2,
          7,
          4,
          5,
          2,
          1,
          4,
          4,
          4,
          4,
          2,
          4,
          9,
          1,
          1,
          10,
          5,
          3,
          4,
          4,
          4,
          4,
          4,
          5,
          1,
          3,
          1,
          3,
          2,
          2,
          11,
          2,
          10,
          2,
          1,
          22,
          9,
          37,
          11,
          63,
          5,
          9,
          29,
          9,
          4,
          3,
          17,
          11,
          3,
          4,
          14,
          16,
          8,
          8,
          5,
          9,
          11,
          14,
          6,
          3,
          7,
          4,
          5,
          9,
          11,
          7,
          11,
          11,
          18,
          2,
          11,
          29,
          2,
          12,
          8,
          7,
          16,
          6,
          8,
          12,
          5,
          14,
          5,
          15,
          13,
          3,
          11,
          6,
          9,
          11,
          9,
          7,
          13,
          11,
          7,
          3,
          15,
          8,
          6,
          5,
          7,
          5,
          23,
          16,
          31,
          20,
          18,
          9,
          27,
          49,
          18,
          11,
          11,
          23,
          22,
          22,
          8,
          19,
          24,
          12,
          18,
          13,
          8,
          13,
          7,
          20,
          10,
          13,
          14,
          12,
          11,
          7,
          13,
          16,
          14,
          12,
          15,
          14,
          3,
          17,
          3,
          13,
          19,
          18,
          17,
          16,
          29,
          18,
          21,
          21,
          17,
          39,
          15,
          74,
          52,
          25,
          54,
          48,
          67,
          36,
          59,
          20,
          72,
          50,
          21,
          36,
          26,
          71,
          47,
          37,
          47,
          27,
          25,
          34,
          36,
          34,
          15,
          37,
          31,
          48,
          66,
          72,
          99,
          40,
          51,
          40,
          68,
          27,
          39,
          55,
          57,
          50,
          53,
          58,
          33,
          68,
          79,
          87,
          66,
          79,
          86,
          87,
          73,
          64
         ],
         "yaxis": "y"
        }
       ],
       "layout": {
        "legend": {
         "tracegroupgap": 0
        },
        "margin": {
         "t": 60
        },
        "showlegend": false,
        "template": {
         "data": {
          "bar": [
           {
            "error_x": {
             "color": "#2a3f5f"
            },
            "error_y": {
             "color": "#2a3f5f"
            },
            "marker": {
             "line": {
              "color": "white",
              "width": 0.5
             }
            },
            "type": "bar"
           }
          ],
          "barpolar": [
           {
            "marker": {
             "line": {
              "color": "white",
              "width": 0.5
             }
            },
            "type": "barpolar"
           }
          ],
          "carpet": [
           {
            "aaxis": {
             "endlinecolor": "#2a3f5f",
             "gridcolor": "#C8D4E3",
             "linecolor": "#C8D4E3",
             "minorgridcolor": "#C8D4E3",
             "startlinecolor": "#2a3f5f"
            },
            "baxis": {
             "endlinecolor": "#2a3f5f",
             "gridcolor": "#C8D4E3",
             "linecolor": "#C8D4E3",
             "minorgridcolor": "#C8D4E3",
             "startlinecolor": "#2a3f5f"
            },
            "type": "carpet"
           }
          ],
          "choropleth": [
           {
            "colorbar": {
             "outlinewidth": 0,
             "ticks": ""
            },
            "type": "choropleth"
           }
          ],
          "contour": [
           {
            "colorbar": {
             "outlinewidth": 0,
             "ticks": ""
            },
            "colorscale": [
             [
              0,
              "#0d0887"
             ],
             [
              0.1111111111111111,
              "#46039f"
             ],
             [
              0.2222222222222222,
              "#7201a8"
             ],
             [
              0.3333333333333333,
              "#9c179e"
             ],
             [
              0.4444444444444444,
              "#bd3786"
             ],
             [
              0.5555555555555556,
              "#d8576b"
             ],
             [
              0.6666666666666666,
              "#ed7953"
             ],
             [
              0.7777777777777778,
              "#fb9f3a"
             ],
             [
              0.8888888888888888,
              "#fdca26"
             ],
             [
              1,
              "#f0f921"
             ]
            ],
            "type": "contour"
           }
          ],
          "contourcarpet": [
           {
            "colorbar": {
             "outlinewidth": 0,
             "ticks": ""
            },
            "type": "contourcarpet"
           }
          ],
          "heatmap": [
           {
            "colorbar": {
             "outlinewidth": 0,
             "ticks": ""
            },
            "colorscale": [
             [
              0,
              "#0d0887"
             ],
             [
              0.1111111111111111,
              "#46039f"
             ],
             [
              0.2222222222222222,
              "#7201a8"
             ],
             [
              0.3333333333333333,
              "#9c179e"
             ],
             [
              0.4444444444444444,
              "#bd3786"
             ],
             [
              0.5555555555555556,
              "#d8576b"
             ],
             [
              0.6666666666666666,
              "#ed7953"
             ],
             [
              0.7777777777777778,
              "#fb9f3a"
             ],
             [
              0.8888888888888888,
              "#fdca26"
             ],
             [
              1,
              "#f0f921"
             ]
            ],
            "type": "heatmap"
           }
          ],
          "heatmapgl": [
           {
            "colorbar": {
             "outlinewidth": 0,
             "ticks": ""
            },
            "colorscale": [
             [
              0,
              "#0d0887"
             ],
             [
              0.1111111111111111,
              "#46039f"
             ],
             [
              0.2222222222222222,
              "#7201a8"
             ],
             [
              0.3333333333333333,
              "#9c179e"
             ],
             [
              0.4444444444444444,
              "#bd3786"
             ],
             [
              0.5555555555555556,
              "#d8576b"
             ],
             [
              0.6666666666666666,
              "#ed7953"
             ],
             [
              0.7777777777777778,
              "#fb9f3a"
             ],
             [
              0.8888888888888888,
              "#fdca26"
             ],
             [
              1,
              "#f0f921"
             ]
            ],
            "type": "heatmapgl"
           }
          ],
          "histogram": [
           {
            "marker": {
             "colorbar": {
              "outlinewidth": 0,
              "ticks": ""
             }
            },
            "type": "histogram"
           }
          ],
          "histogram2d": [
           {
            "colorbar": {
             "outlinewidth": 0,
             "ticks": ""
            },
            "colorscale": [
             [
              0,
              "#0d0887"
             ],
             [
              0.1111111111111111,
              "#46039f"
             ],
             [
              0.2222222222222222,
              "#7201a8"
             ],
             [
              0.3333333333333333,
              "#9c179e"
             ],
             [
              0.4444444444444444,
              "#bd3786"
             ],
             [
              0.5555555555555556,
              "#d8576b"
             ],
             [
              0.6666666666666666,
              "#ed7953"
             ],
             [
              0.7777777777777778,
              "#fb9f3a"
             ],
             [
              0.8888888888888888,
              "#fdca26"
             ],
             [
              1,
              "#f0f921"
             ]
            ],
            "type": "histogram2d"
           }
          ],
          "histogram2dcontour": [
           {
            "colorbar": {
             "outlinewidth": 0,
             "ticks": ""
            },
            "colorscale": [
             [
              0,
              "#0d0887"
             ],
             [
              0.1111111111111111,
              "#46039f"
             ],
             [
              0.2222222222222222,
              "#7201a8"
             ],
             [
              0.3333333333333333,
              "#9c179e"
             ],
             [
              0.4444444444444444,
              "#bd3786"
             ],
             [
              0.5555555555555556,
              "#d8576b"
             ],
             [
              0.6666666666666666,
              "#ed7953"
             ],
             [
              0.7777777777777778,
              "#fb9f3a"
             ],
             [
              0.8888888888888888,
              "#fdca26"
             ],
             [
              1,
              "#f0f921"
             ]
            ],
            "type": "histogram2dcontour"
           }
          ],
          "mesh3d": [
           {
            "colorbar": {
             "outlinewidth": 0,
             "ticks": ""
            },
            "type": "mesh3d"
           }
          ],
          "parcoords": [
           {
            "line": {
             "colorbar": {
              "outlinewidth": 0,
              "ticks": ""
             }
            },
            "type": "parcoords"
           }
          ],
          "pie": [
           {
            "automargin": true,
            "type": "pie"
           }
          ],
          "scatter": [
           {
            "marker": {
             "colorbar": {
              "outlinewidth": 0,
              "ticks": ""
             }
            },
            "type": "scatter"
           }
          ],
          "scatter3d": [
           {
            "line": {
             "colorbar": {
              "outlinewidth": 0,
              "ticks": ""
             }
            },
            "marker": {
             "colorbar": {
              "outlinewidth": 0,
              "ticks": ""
             }
            },
            "type": "scatter3d"
           }
          ],
          "scattercarpet": [
           {
            "marker": {
             "colorbar": {
              "outlinewidth": 0,
              "ticks": ""
             }
            },
            "type": "scattercarpet"
           }
          ],
          "scattergeo": [
           {
            "marker": {
             "colorbar": {
              "outlinewidth": 0,
              "ticks": ""
             }
            },
            "type": "scattergeo"
           }
          ],
          "scattergl": [
           {
            "marker": {
             "colorbar": {
              "outlinewidth": 0,
              "ticks": ""
             }
            },
            "type": "scattergl"
           }
          ],
          "scattermapbox": [
           {
            "marker": {
             "colorbar": {
              "outlinewidth": 0,
              "ticks": ""
             }
            },
            "type": "scattermapbox"
           }
          ],
          "scatterpolar": [
           {
            "marker": {
             "colorbar": {
              "outlinewidth": 0,
              "ticks": ""
             }
            },
            "type": "scatterpolar"
           }
          ],
          "scatterpolargl": [
           {
            "marker": {
             "colorbar": {
              "outlinewidth": 0,
              "ticks": ""
             }
            },
            "type": "scatterpolargl"
           }
          ],
          "scatterternary": [
           {
            "marker": {
             "colorbar": {
              "outlinewidth": 0,
              "ticks": ""
             }
            },
            "type": "scatterternary"
           }
          ],
          "surface": [
           {
            "colorbar": {
             "outlinewidth": 0,
             "ticks": ""
            },
            "colorscale": [
             [
              0,
              "#0d0887"
             ],
             [
              0.1111111111111111,
              "#46039f"
             ],
             [
              0.2222222222222222,
              "#7201a8"
             ],
             [
              0.3333333333333333,
              "#9c179e"
             ],
             [
              0.4444444444444444,
              "#bd3786"
             ],
             [
              0.5555555555555556,
              "#d8576b"
             ],
             [
              0.6666666666666666,
              "#ed7953"
             ],
             [
              0.7777777777777778,
              "#fb9f3a"
             ],
             [
              0.8888888888888888,
              "#fdca26"
             ],
             [
              1,
              "#f0f921"
             ]
            ],
            "type": "surface"
           }
          ],
          "table": [
           {
            "cells": {
             "fill": {
              "color": "#EBF0F8"
             },
             "line": {
              "color": "white"
             }
            },
            "header": {
             "fill": {
              "color": "#C8D4E3"
             },
             "line": {
              "color": "white"
             }
            },
            "type": "table"
           }
          ]
         },
         "layout": {
          "annotationdefaults": {
           "arrowcolor": "#2a3f5f",
           "arrowhead": 0,
           "arrowwidth": 1
          },
          "autotypenumbers": "strict",
          "coloraxis": {
           "colorbar": {
            "outlinewidth": 0,
            "ticks": ""
           }
          },
          "colorscale": {
           "diverging": [
            [
             0,
             "#8e0152"
            ],
            [
             0.1,
             "#c51b7d"
            ],
            [
             0.2,
             "#de77ae"
            ],
            [
             0.3,
             "#f1b6da"
            ],
            [
             0.4,
             "#fde0ef"
            ],
            [
             0.5,
             "#f7f7f7"
            ],
            [
             0.6,
             "#e6f5d0"
            ],
            [
             0.7,
             "#b8e186"
            ],
            [
             0.8,
             "#7fbc41"
            ],
            [
             0.9,
             "#4d9221"
            ],
            [
             1,
             "#276419"
            ]
           ],
           "sequential": [
            [
             0,
             "#0d0887"
            ],
            [
             0.1111111111111111,
             "#46039f"
            ],
            [
             0.2222222222222222,
             "#7201a8"
            ],
            [
             0.3333333333333333,
             "#9c179e"
            ],
            [
             0.4444444444444444,
             "#bd3786"
            ],
            [
             0.5555555555555556,
             "#d8576b"
            ],
            [
             0.6666666666666666,
             "#ed7953"
            ],
            [
             0.7777777777777778,
             "#fb9f3a"
            ],
            [
             0.8888888888888888,
             "#fdca26"
            ],
            [
             1,
             "#f0f921"
            ]
           ],
           "sequentialminus": [
            [
             0,
             "#0d0887"
            ],
            [
             0.1111111111111111,
             "#46039f"
            ],
            [
             0.2222222222222222,
             "#7201a8"
            ],
            [
             0.3333333333333333,
             "#9c179e"
            ],
            [
             0.4444444444444444,
             "#bd3786"
            ],
            [
             0.5555555555555556,
             "#d8576b"
            ],
            [
             0.6666666666666666,
             "#ed7953"
            ],
            [
             0.7777777777777778,
             "#fb9f3a"
            ],
            [
             0.8888888888888888,
             "#fdca26"
            ],
            [
             1,
             "#f0f921"
            ]
           ]
          },
          "colorway": [
           "#636efa",
           "#EF553B",
           "#00cc96",
           "#ab63fa",
           "#FFA15A",
           "#19d3f3",
           "#FF6692",
           "#B6E880",
           "#FF97FF",
           "#FECB52"
          ],
          "font": {
           "color": "#2a3f5f"
          },
          "geo": {
           "bgcolor": "white",
           "lakecolor": "white",
           "landcolor": "white",
           "showlakes": true,
           "showland": true,
           "subunitcolor": "#C8D4E3"
          },
          "hoverlabel": {
           "align": "left"
          },
          "hovermode": "closest",
          "mapbox": {
           "style": "light"
          },
          "paper_bgcolor": "white",
          "plot_bgcolor": "white",
          "polar": {
           "angularaxis": {
            "gridcolor": "#EBF0F8",
            "linecolor": "#EBF0F8",
            "ticks": ""
           },
           "bgcolor": "white",
           "radialaxis": {
            "gridcolor": "#EBF0F8",
            "linecolor": "#EBF0F8",
            "ticks": ""
           }
          },
          "scene": {
           "xaxis": {
            "backgroundcolor": "white",
            "gridcolor": "#DFE8F3",
            "gridwidth": 2,
            "linecolor": "#EBF0F8",
            "showbackground": true,
            "ticks": "",
            "zerolinecolor": "#EBF0F8"
           },
           "yaxis": {
            "backgroundcolor": "white",
            "gridcolor": "#DFE8F3",
            "gridwidth": 2,
            "linecolor": "#EBF0F8",
            "showbackground": true,
            "ticks": "",
            "zerolinecolor": "#EBF0F8"
           },
           "zaxis": {
            "backgroundcolor": "white",
            "gridcolor": "#DFE8F3",
            "gridwidth": 2,
            "linecolor": "#EBF0F8",
            "showbackground": true,
            "ticks": "",
            "zerolinecolor": "#EBF0F8"
           }
          },
          "shapedefaults": {
           "line": {
            "color": "#2a3f5f"
           }
          },
          "ternary": {
           "aaxis": {
            "gridcolor": "#DFE8F3",
            "linecolor": "#A2B1C6",
            "ticks": ""
           },
           "baxis": {
            "gridcolor": "#DFE8F3",
            "linecolor": "#A2B1C6",
            "ticks": ""
           },
           "bgcolor": "white",
           "caxis": {
            "gridcolor": "#DFE8F3",
            "linecolor": "#A2B1C6",
            "ticks": ""
           }
          },
          "title": {
           "x": 0.05
          },
          "xaxis": {
           "automargin": true,
           "gridcolor": "#EBF0F8",
           "linecolor": "#EBF0F8",
           "ticks": "",
           "title": {
            "standoff": 15
           },
           "zerolinecolor": "#EBF0F8",
           "zerolinewidth": 2
          },
          "yaxis": {
           "automargin": true,
           "gridcolor": "#EBF0F8",
           "linecolor": "#EBF0F8",
           "ticks": "",
           "title": {
            "standoff": 15
           },
           "zerolinecolor": "#EBF0F8",
           "zerolinewidth": 2
          }
         }
        },
        "title": {
         "text": "Casos - Cienfuegos"
        },
        "xaxis": {
         "anchor": "y",
         "domain": [
          0,
          1
         ],
         "title": {
          "text": "Días"
         }
        },
        "yaxis": {
         "anchor": "x",
         "domain": [
          0,
          1
         ],
         "title": {
          "text": "Casos"
         }
        }
       }
      }
     },
     "metadata": {}
    }
   ],
   "source": [
    "fig = px.line(cfg, x=\"Date\", y=\"N\", template=chartTemplate)\n",
    "fig.update_layout({\"title\": 'Casos - Cienfuegos',\n",
    "                   \"xaxis\": {\"title\":\"Días\"},\n",
    "                   \"yaxis\": {\"title\":\"Casos\"},\n",
    "                   \"showlegend\": False})\n",
    "\n",
    "fig.show()"
   ]
  },
  {
   "cell_type": "code",
   "execution_count": 283,
   "metadata": {},
   "outputs": [
    {
     "output_type": "display_data",
     "data": {
      "application/vnd.plotly.v1+json": {
       "config": {
        "plotlyServerURL": "https://plot.ly"
       },
       "data": [
        {
         "hovertemplate": "Date=%{x}<br>vel=%{y}<extra></extra>",
         "legendgroup": "",
         "line": {
          "color": "#636efa",
          "dash": "solid"
         },
         "mode": "lines",
         "name": "",
         "orientation": "v",
         "showlegend": false,
         "type": "scatter",
         "x": [
          "2020/03/24",
          "2020/03/27",
          "2020/03/28",
          "2020/03/29",
          "2020/04/01",
          "2020/04/17",
          "2020/04/19",
          "2020/04/21",
          "2020/04/23",
          "2020/04/24",
          "2020/04/26",
          "2020/04/27",
          "2020/04/29",
          "2020/06/26",
          "2020/07/24",
          "2020/07/25",
          "2020/08/04",
          "2020/08/07",
          "2020/08/14",
          "2020/09/03",
          "2020/09/10",
          "2020/11/12",
          "2020/11/18",
          "2020/11/22",
          "2020/11/23",
          "2020/11/24",
          "2020/11/25",
          "2020/11/26",
          "2020/11/27",
          "2020/11/28",
          "2020/11/29",
          "2020/11/30",
          "2020/12/01",
          "2020/12/02",
          "2020/12/03",
          "2020/12/04",
          "2020/12/05",
          "2020/12/06",
          "2020/12/07",
          "2020/12/09",
          "2020/12/10",
          "2020/12/11",
          "2020/12/12",
          "2020/12/13",
          "2020/12/14",
          "2020/12/15",
          "2020/12/17",
          "2020/12/18",
          "2020/12/19",
          "2020/12/20",
          "2020/12/21",
          "2020/12/22",
          "2020/12/23",
          "2020/12/24",
          "2020/12/25",
          "2020/12/26",
          "2020/12/27",
          "2020/12/28",
          "2020/12/29",
          "2020/12/30",
          "2020/12/31",
          "2021/01/02",
          "2021/01/03",
          "2021/01/04",
          "2021/01/05",
          "2021/01/07",
          "2021/01/08",
          "2021/01/09",
          "2021/01/10",
          "2021/01/11",
          "2021/01/12",
          "2021/01/13",
          "2021/01/14",
          "2021/01/15",
          "2021/01/16",
          "2021/01/17",
          "2021/01/18",
          "2021/01/19",
          "2021/01/20",
          "2021/01/21",
          "2021/01/22",
          "2021/01/23",
          "2021/01/24",
          "2021/01/26",
          "2021/01/27",
          "2021/01/28",
          "2021/01/29",
          "2021/01/30",
          "2021/01/31",
          "2021/02/01",
          "2021/02/02",
          "2021/02/03",
          "2021/02/05",
          "2021/02/06",
          "2021/02/07",
          "2021/02/08",
          "2021/02/10",
          "2021/02/11",
          "2021/02/12",
          "2021/02/13",
          "2021/02/14",
          "2021/02/15",
          "2021/02/17",
          "2021/02/18",
          "2021/02/19",
          "2021/02/20",
          "2021/02/21",
          "2021/02/22",
          "2021/02/23",
          "2021/02/24",
          "2021/02/25",
          "2021/02/26",
          "2021/02/27",
          "2021/02/28",
          "2021/03/01",
          "2021/03/02",
          "2021/03/03",
          "2021/03/04",
          "2021/03/05",
          "2021/03/06",
          "2021/03/07",
          "2021/03/08",
          "2021/03/09",
          "2021/03/10",
          "2021/03/11",
          "2021/03/12",
          "2021/03/14",
          "2021/03/15",
          "2021/03/16",
          "2021/03/17",
          "2021/03/18",
          "2021/03/19",
          "2021/03/20",
          "2021/03/21",
          "2021/03/22",
          "2021/03/23",
          "2021/03/24",
          "2021/03/25",
          "2021/03/26",
          "2021/03/27",
          "2021/03/28",
          "2021/03/29",
          "2021/03/30",
          "2021/03/31",
          "2021/04/01",
          "2021/04/02",
          "2021/04/03",
          "2021/04/04",
          "2021/04/05",
          "2021/04/06",
          "2021/04/07",
          "2021/04/08",
          "2021/04/09",
          "2021/04/10",
          "2021/04/11",
          "2021/04/12",
          "2021/04/13",
          "2021/04/14",
          "2021/04/15",
          "2021/04/16",
          "2021/04/17",
          "2021/04/18",
          "2021/04/19",
          "2021/04/20",
          "2021/04/21",
          "2021/04/22",
          "2021/04/23",
          "2021/04/24",
          "2021/04/25",
          "2021/04/26",
          "2021/04/27",
          "2021/04/28",
          "2021/04/29",
          "2021/04/30",
          "2021/05/01",
          "2021/05/02",
          "2021/05/03",
          "2021/05/04",
          "2021/05/05",
          "2021/05/06",
          "2021/05/07",
          "2021/05/08",
          "2021/05/09",
          "2021/05/10",
          "2021/05/11",
          "2021/05/12",
          "2021/05/13",
          "2021/05/14",
          "2021/05/15",
          "2021/05/16",
          "2021/05/17",
          "2021/05/18",
          "2021/05/19",
          "2021/05/20",
          "2021/05/21",
          "2021/05/22",
          "2021/05/23",
          "2021/05/24",
          "2021/05/25",
          "2021/05/26",
          "2021/05/27",
          "2021/05/28",
          "2021/05/29",
          "2021/05/30",
          "2021/05/31",
          "2021/06/01",
          "2021/06/02",
          "2021/06/03",
          "2021/06/04",
          "2021/06/05",
          "2021/06/06",
          "2021/06/07",
          "2021/06/08",
          "2021/06/09",
          "2021/06/10",
          "2021/06/11",
          "2021/06/12",
          "2021/06/13",
          "2021/06/14",
          "2021/06/15",
          "2021/06/16",
          "2021/06/17",
          "2021/06/18",
          "2021/06/19",
          "2021/06/20",
          "2021/06/21",
          "2021/06/22",
          "2021/06/23",
          "2021/06/24",
          "2021/06/25",
          "2021/06/26",
          "2021/06/27",
          "2021/06/28",
          "2021/06/29",
          "2021/06/30",
          "2021/07/01",
          "2021/07/02",
          "2021/07/03",
          "2021/07/04"
         ],
         "xaxis": "x",
         "y": [
          null,
          2,
          -2,
          2,
          0,
          -2,
          0,
          0,
          3,
          -3,
          0,
          1,
          0,
          -1,
          0,
          0,
          0,
          2,
          -2,
          0,
          2,
          -2,
          0,
          1,
          4,
          -3,
          0,
          -1,
          2,
          10,
          -7,
          -4,
          -1,
          2,
          -3,
          1,
          5,
          -3,
          1,
          -3,
          -1,
          3,
          0,
          0,
          0,
          -2,
          2,
          5,
          -8,
          0,
          9,
          -5,
          -2,
          1,
          0,
          0,
          0,
          0,
          1,
          -4,
          2,
          -2,
          2,
          -1,
          0,
          9,
          -9,
          8,
          -8,
          -1,
          21,
          -13,
          28,
          -26,
          52,
          -58,
          4,
          20,
          -20,
          -5,
          -1,
          14,
          -6,
          -8,
          1,
          10,
          2,
          -8,
          0,
          -3,
          4,
          2,
          3,
          -8,
          -3,
          4,
          -3,
          1,
          4,
          2,
          -4,
          4,
          0,
          7,
          -16,
          9,
          18,
          -27,
          10,
          -4,
          -1,
          9,
          -10,
          2,
          4,
          -7,
          9,
          -9,
          10,
          -2,
          -10,
          8,
          -5,
          3,
          2,
          -2,
          -2,
          6,
          -2,
          -4,
          -4,
          12,
          -7,
          -2,
          -1,
          2,
          -2,
          18,
          -7,
          15,
          -11,
          -2,
          -9,
          18,
          22,
          -31,
          -7,
          0,
          12,
          -1,
          0,
          -14,
          11,
          5,
          -12,
          6,
          -5,
          -5,
          5,
          -6,
          13,
          -10,
          3,
          1,
          -2,
          -1,
          -4,
          6,
          3,
          -2,
          -2,
          3,
          -1,
          -11,
          14,
          -14,
          10,
          6,
          -1,
          -1,
          -1,
          13,
          -11,
          3,
          0,
          -4,
          22,
          -24,
          59,
          -22,
          -27,
          29,
          -6,
          19,
          -31,
          23,
          -39,
          52,
          -22,
          -29,
          15,
          -10,
          45,
          -24,
          -10,
          10,
          -20,
          -2,
          9,
          2,
          -2,
          -19,
          22,
          -6,
          17,
          18,
          6,
          27,
          -59,
          11,
          -11,
          28,
          -41,
          12,
          16,
          2,
          -7,
          3,
          5,
          -25,
          35,
          11,
          8,
          -21,
          13,
          7,
          1,
          -14,
          -9
         ],
         "yaxis": "y"
        }
       ],
       "layout": {
        "legend": {
         "tracegroupgap": 0
        },
        "margin": {
         "t": 60
        },
        "template": {
         "data": {
          "bar": [
           {
            "error_x": {
             "color": "#2a3f5f"
            },
            "error_y": {
             "color": "#2a3f5f"
            },
            "marker": {
             "line": {
              "color": "white",
              "width": 0.5
             }
            },
            "type": "bar"
           }
          ],
          "barpolar": [
           {
            "marker": {
             "line": {
              "color": "white",
              "width": 0.5
             }
            },
            "type": "barpolar"
           }
          ],
          "carpet": [
           {
            "aaxis": {
             "endlinecolor": "#2a3f5f",
             "gridcolor": "#C8D4E3",
             "linecolor": "#C8D4E3",
             "minorgridcolor": "#C8D4E3",
             "startlinecolor": "#2a3f5f"
            },
            "baxis": {
             "endlinecolor": "#2a3f5f",
             "gridcolor": "#C8D4E3",
             "linecolor": "#C8D4E3",
             "minorgridcolor": "#C8D4E3",
             "startlinecolor": "#2a3f5f"
            },
            "type": "carpet"
           }
          ],
          "choropleth": [
           {
            "colorbar": {
             "outlinewidth": 0,
             "ticks": ""
            },
            "type": "choropleth"
           }
          ],
          "contour": [
           {
            "colorbar": {
             "outlinewidth": 0,
             "ticks": ""
            },
            "colorscale": [
             [
              0,
              "#0d0887"
             ],
             [
              0.1111111111111111,
              "#46039f"
             ],
             [
              0.2222222222222222,
              "#7201a8"
             ],
             [
              0.3333333333333333,
              "#9c179e"
             ],
             [
              0.4444444444444444,
              "#bd3786"
             ],
             [
              0.5555555555555556,
              "#d8576b"
             ],
             [
              0.6666666666666666,
              "#ed7953"
             ],
             [
              0.7777777777777778,
              "#fb9f3a"
             ],
             [
              0.8888888888888888,
              "#fdca26"
             ],
             [
              1,
              "#f0f921"
             ]
            ],
            "type": "contour"
           }
          ],
          "contourcarpet": [
           {
            "colorbar": {
             "outlinewidth": 0,
             "ticks": ""
            },
            "type": "contourcarpet"
           }
          ],
          "heatmap": [
           {
            "colorbar": {
             "outlinewidth": 0,
             "ticks": ""
            },
            "colorscale": [
             [
              0,
              "#0d0887"
             ],
             [
              0.1111111111111111,
              "#46039f"
             ],
             [
              0.2222222222222222,
              "#7201a8"
             ],
             [
              0.3333333333333333,
              "#9c179e"
             ],
             [
              0.4444444444444444,
              "#bd3786"
             ],
             [
              0.5555555555555556,
              "#d8576b"
             ],
             [
              0.6666666666666666,
              "#ed7953"
             ],
             [
              0.7777777777777778,
              "#fb9f3a"
             ],
             [
              0.8888888888888888,
              "#fdca26"
             ],
             [
              1,
              "#f0f921"
             ]
            ],
            "type": "heatmap"
           }
          ],
          "heatmapgl": [
           {
            "colorbar": {
             "outlinewidth": 0,
             "ticks": ""
            },
            "colorscale": [
             [
              0,
              "#0d0887"
             ],
             [
              0.1111111111111111,
              "#46039f"
             ],
             [
              0.2222222222222222,
              "#7201a8"
             ],
             [
              0.3333333333333333,
              "#9c179e"
             ],
             [
              0.4444444444444444,
              "#bd3786"
             ],
             [
              0.5555555555555556,
              "#d8576b"
             ],
             [
              0.6666666666666666,
              "#ed7953"
             ],
             [
              0.7777777777777778,
              "#fb9f3a"
             ],
             [
              0.8888888888888888,
              "#fdca26"
             ],
             [
              1,
              "#f0f921"
             ]
            ],
            "type": "heatmapgl"
           }
          ],
          "histogram": [
           {
            "marker": {
             "colorbar": {
              "outlinewidth": 0,
              "ticks": ""
             }
            },
            "type": "histogram"
           }
          ],
          "histogram2d": [
           {
            "colorbar": {
             "outlinewidth": 0,
             "ticks": ""
            },
            "colorscale": [
             [
              0,
              "#0d0887"
             ],
             [
              0.1111111111111111,
              "#46039f"
             ],
             [
              0.2222222222222222,
              "#7201a8"
             ],
             [
              0.3333333333333333,
              "#9c179e"
             ],
             [
              0.4444444444444444,
              "#bd3786"
             ],
             [
              0.5555555555555556,
              "#d8576b"
             ],
             [
              0.6666666666666666,
              "#ed7953"
             ],
             [
              0.7777777777777778,
              "#fb9f3a"
             ],
             [
              0.8888888888888888,
              "#fdca26"
             ],
             [
              1,
              "#f0f921"
             ]
            ],
            "type": "histogram2d"
           }
          ],
          "histogram2dcontour": [
           {
            "colorbar": {
             "outlinewidth": 0,
             "ticks": ""
            },
            "colorscale": [
             [
              0,
              "#0d0887"
             ],
             [
              0.1111111111111111,
              "#46039f"
             ],
             [
              0.2222222222222222,
              "#7201a8"
             ],
             [
              0.3333333333333333,
              "#9c179e"
             ],
             [
              0.4444444444444444,
              "#bd3786"
             ],
             [
              0.5555555555555556,
              "#d8576b"
             ],
             [
              0.6666666666666666,
              "#ed7953"
             ],
             [
              0.7777777777777778,
              "#fb9f3a"
             ],
             [
              0.8888888888888888,
              "#fdca26"
             ],
             [
              1,
              "#f0f921"
             ]
            ],
            "type": "histogram2dcontour"
           }
          ],
          "mesh3d": [
           {
            "colorbar": {
             "outlinewidth": 0,
             "ticks": ""
            },
            "type": "mesh3d"
           }
          ],
          "parcoords": [
           {
            "line": {
             "colorbar": {
              "outlinewidth": 0,
              "ticks": ""
             }
            },
            "type": "parcoords"
           }
          ],
          "pie": [
           {
            "automargin": true,
            "type": "pie"
           }
          ],
          "scatter": [
           {
            "marker": {
             "colorbar": {
              "outlinewidth": 0,
              "ticks": ""
             }
            },
            "type": "scatter"
           }
          ],
          "scatter3d": [
           {
            "line": {
             "colorbar": {
              "outlinewidth": 0,
              "ticks": ""
             }
            },
            "marker": {
             "colorbar": {
              "outlinewidth": 0,
              "ticks": ""
             }
            },
            "type": "scatter3d"
           }
          ],
          "scattercarpet": [
           {
            "marker": {
             "colorbar": {
              "outlinewidth": 0,
              "ticks": ""
             }
            },
            "type": "scattercarpet"
           }
          ],
          "scattergeo": [
           {
            "marker": {
             "colorbar": {
              "outlinewidth": 0,
              "ticks": ""
             }
            },
            "type": "scattergeo"
           }
          ],
          "scattergl": [
           {
            "marker": {
             "colorbar": {
              "outlinewidth": 0,
              "ticks": ""
             }
            },
            "type": "scattergl"
           }
          ],
          "scattermapbox": [
           {
            "marker": {
             "colorbar": {
              "outlinewidth": 0,
              "ticks": ""
             }
            },
            "type": "scattermapbox"
           }
          ],
          "scatterpolar": [
           {
            "marker": {
             "colorbar": {
              "outlinewidth": 0,
              "ticks": ""
             }
            },
            "type": "scatterpolar"
           }
          ],
          "scatterpolargl": [
           {
            "marker": {
             "colorbar": {
              "outlinewidth": 0,
              "ticks": ""
             }
            },
            "type": "scatterpolargl"
           }
          ],
          "scatterternary": [
           {
            "marker": {
             "colorbar": {
              "outlinewidth": 0,
              "ticks": ""
             }
            },
            "type": "scatterternary"
           }
          ],
          "surface": [
           {
            "colorbar": {
             "outlinewidth": 0,
             "ticks": ""
            },
            "colorscale": [
             [
              0,
              "#0d0887"
             ],
             [
              0.1111111111111111,
              "#46039f"
             ],
             [
              0.2222222222222222,
              "#7201a8"
             ],
             [
              0.3333333333333333,
              "#9c179e"
             ],
             [
              0.4444444444444444,
              "#bd3786"
             ],
             [
              0.5555555555555556,
              "#d8576b"
             ],
             [
              0.6666666666666666,
              "#ed7953"
             ],
             [
              0.7777777777777778,
              "#fb9f3a"
             ],
             [
              0.8888888888888888,
              "#fdca26"
             ],
             [
              1,
              "#f0f921"
             ]
            ],
            "type": "surface"
           }
          ],
          "table": [
           {
            "cells": {
             "fill": {
              "color": "#EBF0F8"
             },
             "line": {
              "color": "white"
             }
            },
            "header": {
             "fill": {
              "color": "#C8D4E3"
             },
             "line": {
              "color": "white"
             }
            },
            "type": "table"
           }
          ]
         },
         "layout": {
          "annotationdefaults": {
           "arrowcolor": "#2a3f5f",
           "arrowhead": 0,
           "arrowwidth": 1
          },
          "autotypenumbers": "strict",
          "coloraxis": {
           "colorbar": {
            "outlinewidth": 0,
            "ticks": ""
           }
          },
          "colorscale": {
           "diverging": [
            [
             0,
             "#8e0152"
            ],
            [
             0.1,
             "#c51b7d"
            ],
            [
             0.2,
             "#de77ae"
            ],
            [
             0.3,
             "#f1b6da"
            ],
            [
             0.4,
             "#fde0ef"
            ],
            [
             0.5,
             "#f7f7f7"
            ],
            [
             0.6,
             "#e6f5d0"
            ],
            [
             0.7,
             "#b8e186"
            ],
            [
             0.8,
             "#7fbc41"
            ],
            [
             0.9,
             "#4d9221"
            ],
            [
             1,
             "#276419"
            ]
           ],
           "sequential": [
            [
             0,
             "#0d0887"
            ],
            [
             0.1111111111111111,
             "#46039f"
            ],
            [
             0.2222222222222222,
             "#7201a8"
            ],
            [
             0.3333333333333333,
             "#9c179e"
            ],
            [
             0.4444444444444444,
             "#bd3786"
            ],
            [
             0.5555555555555556,
             "#d8576b"
            ],
            [
             0.6666666666666666,
             "#ed7953"
            ],
            [
             0.7777777777777778,
             "#fb9f3a"
            ],
            [
             0.8888888888888888,
             "#fdca26"
            ],
            [
             1,
             "#f0f921"
            ]
           ],
           "sequentialminus": [
            [
             0,
             "#0d0887"
            ],
            [
             0.1111111111111111,
             "#46039f"
            ],
            [
             0.2222222222222222,
             "#7201a8"
            ],
            [
             0.3333333333333333,
             "#9c179e"
            ],
            [
             0.4444444444444444,
             "#bd3786"
            ],
            [
             0.5555555555555556,
             "#d8576b"
            ],
            [
             0.6666666666666666,
             "#ed7953"
            ],
            [
             0.7777777777777778,
             "#fb9f3a"
            ],
            [
             0.8888888888888888,
             "#fdca26"
            ],
            [
             1,
             "#f0f921"
            ]
           ]
          },
          "colorway": [
           "#636efa",
           "#EF553B",
           "#00cc96",
           "#ab63fa",
           "#FFA15A",
           "#19d3f3",
           "#FF6692",
           "#B6E880",
           "#FF97FF",
           "#FECB52"
          ],
          "font": {
           "color": "#2a3f5f"
          },
          "geo": {
           "bgcolor": "white",
           "lakecolor": "white",
           "landcolor": "white",
           "showlakes": true,
           "showland": true,
           "subunitcolor": "#C8D4E3"
          },
          "hoverlabel": {
           "align": "left"
          },
          "hovermode": "closest",
          "mapbox": {
           "style": "light"
          },
          "paper_bgcolor": "white",
          "plot_bgcolor": "white",
          "polar": {
           "angularaxis": {
            "gridcolor": "#EBF0F8",
            "linecolor": "#EBF0F8",
            "ticks": ""
           },
           "bgcolor": "white",
           "radialaxis": {
            "gridcolor": "#EBF0F8",
            "linecolor": "#EBF0F8",
            "ticks": ""
           }
          },
          "scene": {
           "xaxis": {
            "backgroundcolor": "white",
            "gridcolor": "#DFE8F3",
            "gridwidth": 2,
            "linecolor": "#EBF0F8",
            "showbackground": true,
            "ticks": "",
            "zerolinecolor": "#EBF0F8"
           },
           "yaxis": {
            "backgroundcolor": "white",
            "gridcolor": "#DFE8F3",
            "gridwidth": 2,
            "linecolor": "#EBF0F8",
            "showbackground": true,
            "ticks": "",
            "zerolinecolor": "#EBF0F8"
           },
           "zaxis": {
            "backgroundcolor": "white",
            "gridcolor": "#DFE8F3",
            "gridwidth": 2,
            "linecolor": "#EBF0F8",
            "showbackground": true,
            "ticks": "",
            "zerolinecolor": "#EBF0F8"
           }
          },
          "shapedefaults": {
           "line": {
            "color": "#2a3f5f"
           }
          },
          "ternary": {
           "aaxis": {
            "gridcolor": "#DFE8F3",
            "linecolor": "#A2B1C6",
            "ticks": ""
           },
           "baxis": {
            "gridcolor": "#DFE8F3",
            "linecolor": "#A2B1C6",
            "ticks": ""
           },
           "bgcolor": "white",
           "caxis": {
            "gridcolor": "#DFE8F3",
            "linecolor": "#A2B1C6",
            "ticks": ""
           }
          },
          "title": {
           "x": 0.05
          },
          "xaxis": {
           "automargin": true,
           "gridcolor": "#EBF0F8",
           "linecolor": "#EBF0F8",
           "ticks": "",
           "title": {
            "standoff": 15
           },
           "zerolinecolor": "#EBF0F8",
           "zerolinewidth": 2
          },
          "yaxis": {
           "automargin": true,
           "gridcolor": "#EBF0F8",
           "linecolor": "#EBF0F8",
           "ticks": "",
           "title": {
            "standoff": 15
           },
           "zerolinecolor": "#EBF0F8",
           "zerolinewidth": 2
          }
         }
        },
        "title": {
         "text": "Velocidad de casos - Cienfuegos"
        },
        "xaxis": {
         "anchor": "y",
         "domain": [
          0,
          1
         ],
         "title": {
          "text": "Días"
         }
        },
        "yaxis": {
         "anchor": "x",
         "domain": [
          0,
          1
         ],
         "title": {
          "text": "Casos"
         }
        }
       }
      }
     },
     "metadata": {}
    }
   ],
   "source": [
    "fig = px.line(cfg, x=\"Date\", y=\"vel\", template=chartTemplate)\n",
    "\n",
    "fig.update_layout({\"title\": 'Velocidad de casos - Cienfuegos',\n",
    "                   \"xaxis\": {\"title\":\"Días\"},\n",
    "                   \"yaxis\": {\"title\":\"Casos\"}})\n",
    "                   #\"showlegend\": False})\n",
    "ffig.show()"
   ]
  },
  {
   "cell_type": "code",
   "execution_count": 284,
   "metadata": {},
   "outputs": [
    {
     "output_type": "execute_result",
     "data": {
      "text/plain": [
       "           Date  N  vel  acc  accelMeans14\n",
       "231  2020/03/24  1  NaN  NaN           NaN\n",
       "195  2020/03/27  3  2.0  NaN           NaN\n",
       "217  2020/03/28  1 -2.0 -4.0           NaN\n",
       "200  2020/03/29  3  2.0  4.0           NaN\n",
       "197  2020/04/01  3  0.0 -2.0           NaN"
      ],
      "text/html": "<div>\n<style scoped>\n    .dataframe tbody tr th:only-of-type {\n        vertical-align: middle;\n    }\n\n    .dataframe tbody tr th {\n        vertical-align: top;\n    }\n\n    .dataframe thead th {\n        text-align: right;\n    }\n</style>\n<table border=\"1\" class=\"dataframe\">\n  <thead>\n    <tr style=\"text-align: right;\">\n      <th></th>\n      <th>Date</th>\n      <th>N</th>\n      <th>vel</th>\n      <th>acc</th>\n      <th>accelMeans14</th>\n    </tr>\n  </thead>\n  <tbody>\n    <tr>\n      <th>231</th>\n      <td>2020/03/24</td>\n      <td>1</td>\n      <td>NaN</td>\n      <td>NaN</td>\n      <td>NaN</td>\n    </tr>\n    <tr>\n      <th>195</th>\n      <td>2020/03/27</td>\n      <td>3</td>\n      <td>2.0</td>\n      <td>NaN</td>\n      <td>NaN</td>\n    </tr>\n    <tr>\n      <th>217</th>\n      <td>2020/03/28</td>\n      <td>1</td>\n      <td>-2.0</td>\n      <td>-4.0</td>\n      <td>NaN</td>\n    </tr>\n    <tr>\n      <th>200</th>\n      <td>2020/03/29</td>\n      <td>3</td>\n      <td>2.0</td>\n      <td>4.0</td>\n      <td>NaN</td>\n    </tr>\n    <tr>\n      <th>197</th>\n      <td>2020/04/01</td>\n      <td>3</td>\n      <td>0.0</td>\n      <td>-2.0</td>\n      <td>NaN</td>\n    </tr>\n  </tbody>\n</table>\n</div>"
     },
     "metadata": {},
     "execution_count": 284
    }
   ],
   "source": [
    "cfg.head(5)"
   ]
  },
  {
   "cell_type": "code",
   "execution_count": 285,
   "metadata": {},
   "outputs": [
    {
     "output_type": "display_data",
     "data": {
      "application/vnd.plotly.v1+json": {
       "config": {
        "plotlyServerURL": "https://plot.ly"
       },
       "data": [
        {
         "hovertemplate": "Date=%{x}<br>accelMeans14=%{y}<extra></extra>",
         "legendgroup": "",
         "line": {
          "color": "#636efa",
          "dash": "solid"
         },
         "mode": "lines",
         "name": "",
         "orientation": "v",
         "showlegend": false,
         "type": "scatter",
         "x": [
          "2020/03/24",
          "2020/03/27",
          "2020/03/28",
          "2020/03/29",
          "2020/04/01",
          "2020/04/17",
          "2020/04/19",
          "2020/04/21",
          "2020/04/23",
          "2020/04/24",
          "2020/04/26",
          "2020/04/27",
          "2020/04/29",
          "2020/06/26",
          "2020/07/24",
          "2020/07/25",
          "2020/08/04",
          "2020/08/07",
          "2020/08/14",
          "2020/09/03",
          "2020/09/10",
          "2020/11/12",
          "2020/11/18",
          "2020/11/22",
          "2020/11/23",
          "2020/11/24",
          "2020/11/25",
          "2020/11/26",
          "2020/11/27",
          "2020/11/28",
          "2020/11/29",
          "2020/11/30",
          "2020/12/01",
          "2020/12/02",
          "2020/12/03",
          "2020/12/04",
          "2020/12/05",
          "2020/12/06",
          "2020/12/07",
          "2020/12/09",
          "2020/12/10",
          "2020/12/11",
          "2020/12/12",
          "2020/12/13",
          "2020/12/14",
          "2020/12/15",
          "2020/12/17",
          "2020/12/18",
          "2020/12/19",
          "2020/12/20",
          "2020/12/21",
          "2020/12/22",
          "2020/12/23",
          "2020/12/24",
          "2020/12/25",
          "2020/12/26",
          "2020/12/27",
          "2020/12/28",
          "2020/12/29",
          "2020/12/30",
          "2020/12/31",
          "2021/01/02",
          "2021/01/03",
          "2021/01/04",
          "2021/01/05",
          "2021/01/07",
          "2021/01/08",
          "2021/01/09",
          "2021/01/10",
          "2021/01/11",
          "2021/01/12",
          "2021/01/13",
          "2021/01/14",
          "2021/01/15",
          "2021/01/16",
          "2021/01/17",
          "2021/01/18",
          "2021/01/19",
          "2021/01/20",
          "2021/01/21",
          "2021/01/22",
          "2021/01/23",
          "2021/01/24",
          "2021/01/26",
          "2021/01/27",
          "2021/01/28",
          "2021/01/29",
          "2021/01/30",
          "2021/01/31",
          "2021/02/01",
          "2021/02/02",
          "2021/02/03",
          "2021/02/05",
          "2021/02/06",
          "2021/02/07",
          "2021/02/08",
          "2021/02/10",
          "2021/02/11",
          "2021/02/12",
          "2021/02/13",
          "2021/02/14",
          "2021/02/15",
          "2021/02/17",
          "2021/02/18",
          "2021/02/19",
          "2021/02/20",
          "2021/02/21",
          "2021/02/22",
          "2021/02/23",
          "2021/02/24",
          "2021/02/25",
          "2021/02/26",
          "2021/02/27",
          "2021/02/28",
          "2021/03/01",
          "2021/03/02",
          "2021/03/03",
          "2021/03/04",
          "2021/03/05",
          "2021/03/06",
          "2021/03/07",
          "2021/03/08",
          "2021/03/09",
          "2021/03/10",
          "2021/03/11",
          "2021/03/12",
          "2021/03/14",
          "2021/03/15",
          "2021/03/16",
          "2021/03/17",
          "2021/03/18",
          "2021/03/19",
          "2021/03/20",
          "2021/03/21",
          "2021/03/22",
          "2021/03/23",
          "2021/03/24",
          "2021/03/25",
          "2021/03/26",
          "2021/03/27",
          "2021/03/28",
          "2021/03/29",
          "2021/03/30",
          "2021/03/31",
          "2021/04/01",
          "2021/04/02",
          "2021/04/03",
          "2021/04/04",
          "2021/04/05",
          "2021/04/06",
          "2021/04/07",
          "2021/04/08",
          "2021/04/09",
          "2021/04/10",
          "2021/04/11",
          "2021/04/12",
          "2021/04/13",
          "2021/04/14",
          "2021/04/15",
          "2021/04/16",
          "2021/04/17",
          "2021/04/18",
          "2021/04/19",
          "2021/04/20",
          "2021/04/21",
          "2021/04/22",
          "2021/04/23",
          "2021/04/24",
          "2021/04/25",
          "2021/04/26",
          "2021/04/27",
          "2021/04/28",
          "2021/04/29",
          "2021/04/30",
          "2021/05/01",
          "2021/05/02",
          "2021/05/03",
          "2021/05/04",
          "2021/05/05",
          "2021/05/06",
          "2021/05/07",
          "2021/05/08",
          "2021/05/09",
          "2021/05/10",
          "2021/05/11",
          "2021/05/12",
          "2021/05/13",
          "2021/05/14",
          "2021/05/15",
          "2021/05/16",
          "2021/05/17",
          "2021/05/18",
          "2021/05/19",
          "2021/05/20",
          "2021/05/21",
          "2021/05/22",
          "2021/05/23",
          "2021/05/24",
          "2021/05/25",
          "2021/05/26",
          "2021/05/27",
          "2021/05/28",
          "2021/05/29",
          "2021/05/30",
          "2021/05/31",
          "2021/06/01",
          "2021/06/02",
          "2021/06/03",
          "2021/06/04",
          "2021/06/05",
          "2021/06/06",
          "2021/06/07",
          "2021/06/08",
          "2021/06/09",
          "2021/06/10",
          "2021/06/11",
          "2021/06/12",
          "2021/06/13",
          "2021/06/14",
          "2021/06/15",
          "2021/06/16",
          "2021/06/17",
          "2021/06/18",
          "2021/06/19",
          "2021/06/20",
          "2021/06/21",
          "2021/06/22",
          "2021/06/23",
          "2021/06/24",
          "2021/06/25",
          "2021/06/26",
          "2021/06/27",
          "2021/06/28",
          "2021/06/29",
          "2021/06/30",
          "2021/07/01",
          "2021/07/02",
          "2021/07/03",
          "2021/07/04"
         ],
         "xaxis": "x",
         "y": [
          null,
          null,
          null,
          null,
          null,
          null,
          null,
          null,
          null,
          null,
          null,
          null,
          null,
          null,
          0,
          -0.14285714285714285,
          0,
          0,
          -0.14285714285714285,
          0,
          0.14285714285714285,
          0,
          -0.21428571428571427,
          0.07142857142857142,
          0.35714285714285715,
          0.07142857142857142,
          0.07142857142857142,
          0.07142857142857142,
          0.21428571428571427,
          0.9285714285714286,
          0.42857142857142855,
          0,
          0.07142857142857142,
          0.21428571428571427,
          -0.14285714285714285,
          0.07142857142857142,
          0.42857142857142855,
          0.14285714285714285,
          -0.07142857142857142,
          -0.07142857142857142,
          -0.14285714285714285,
          0.14285714285714285,
          0,
          -0.7142857142857143,
          -0.21428571428571427,
          -0.07142857142857142,
          0.14285714285714285,
          0.35714285714285715,
          0,
          -0.07142857142857142,
          0.21428571428571427,
          0.07142857142857142,
          -0.14285714285714285,
          0.14285714285714285,
          0.21428571428571427,
          0,
          0,
          0,
          0.07142857142857142,
          -0.07142857142857142,
          -0.07142857142857142,
          -0.5714285714285714,
          0.14285714285714285,
          0.07142857142857142,
          -0.5714285714285714,
          0.42857142857142855,
          -0.07142857142857142,
          0.42857142857142855,
          -0.14285714285714285,
          -0.21428571428571427,
          1.2857142857142858,
          0.35714285714285715,
          2.2857142857142856,
          0.7142857142857143,
          4.285714285714286,
          0.2857142857142857,
          0.42857142857142855,
          1.9285714285714286,
          0.5,
          -0.5,
          0.07142857142857142,
          0.5,
          0.6428571428571429,
          0.14285714285714285,
          -1.2857142857142858,
          0.35714285714285715,
          -1.5,
          -0.21428571428571427,
          -3.9285714285714284,
          0,
          0,
          -1.2857142857142858,
          0.35714285714285715,
          0.14285714285714285,
          0,
          -0.7142857142857143,
          -0.5,
          0.14285714285714285,
          0.35714285714285715,
          -0.21428571428571427,
          -0.6428571428571429,
          0.21428571428571427,
          0.21428571428571427,
          0.9285714285714286,
          -0.5,
          0,
          1.0714285714285714,
          -0.2857142857142857,
          0.6428571428571429,
          0.07142857142857142,
          0.21428571428571427,
          0.7857142857142857,
          -0.21428571428571427,
          -0.21428571428571427,
          0.35714285714285715,
          -0.42857142857142855,
          0.21428571428571427,
          -0.9285714285714286,
          0.9285714285714286,
          0.14285714285714285,
          -1.8571428571428572,
          0.6428571428571429,
          -0.42857142857142855,
          0.07142857142857142,
          0.2857142857142857,
          -0.5,
          0.07142857142857142,
          0.35714285714285715,
          -0.07142857142857142,
          0.14285714285714285,
          -0.7857142857142857,
          0.7142857142857143,
          -0.5,
          -0.5,
          0.14285714285714285,
          -0.2857142857142857,
          -0.07142857142857142,
          1,
          0.35714285714285715,
          1.5714285714285714,
          0.9285714285714286,
          0.35714285714285715,
          -0.14285714285714285,
          1.4285714285714286,
          3.2857142857142856,
          0.21428571428571427,
          0.21428571428571427,
          0.35714285714285715,
          1.2857142857142858,
          1.0714285714285714,
          1.2142857142857142,
          -1.0714285714285714,
          0.21428571428571427,
          -0.5,
          -0.5714285714285714,
          0,
          0.2857142857142857,
          -1.3571428571428572,
          -2.5714285714285716,
          -0.7857142857142857,
          0.6428571428571429,
          -0.07142857142857142,
          -0.7142857142857143,
          -0.5714285714285714,
          -0.7142857142857143,
          0.21428571428571427,
          -0.8571428571428571,
          -0.7857142857142857,
          0.2857142857142857,
          -0.2857142857142857,
          -0.07142857142857142,
          0.5,
          0.07142857142857142,
          -0.2857142857142857,
          -0.21428571428571427,
          -0.5,
          0,
          0.35714285714285715,
          0.42857142857142855,
          0.42857142857142855,
          0.6428571428571429,
          1.1428571428571428,
          0.14285714285714285,
          0.5,
          0.6428571428571429,
          0.14285714285714285,
          1.7857142857142858,
          0.8571428571428571,
          4.071428571428571,
          3.5,
          0.8571428571428571,
          2.5,
          2.142857142857143,
          3.5714285714285716,
          1.4285714285714286,
          2.142857142857143,
          0.14285714285714285,
          3.642857142857143,
          2.0714285714285716,
          0.2857142857142857,
          -0.21428571428571427,
          0.7857142857142857,
          -0.21428571428571427,
          -0.35714285714285715,
          0.8571428571428571,
          -0.5,
          -1.5,
          -3,
          -0.14285714285714285,
          -1.6428571428571428,
          1,
          -4.071428571428571,
          -0.9285714285714286,
          0.7142857142857143,
          0.8571428571428571,
          2.857142857142857,
          0.07142857142857142,
          3.7142857142857144,
          0.21428571428571427,
          0.2857142857142857,
          0.9285714285714286,
          3.0714285714285716,
          -0.5,
          0.21428571428571427,
          1.5,
          3,
          0.9285714285714286,
          1.5714285714285714,
          0.7142857142857143,
          -2.357142857142857,
          -0.2857142857142857,
          -1.4285714285714286,
          3.357142857142857,
          1.0714285714285714,
          2.7857142857142856,
          1.2857142857142858,
          4.285714285714286,
          2.4285714285714284,
          0.6428571428571429
         ],
         "yaxis": "y"
        },
        {
         "marker": {
          "color": "red"
         },
         "name": "Promedio de 14 días",
         "type": "bar",
         "x": [
          "2020/07/24",
          "2020/08/04",
          "2020/08/07",
          "2020/09/03",
          "2020/09/10",
          "2020/11/12",
          "2020/11/22",
          "2020/11/23",
          "2020/11/24",
          "2020/11/25",
          "2020/11/26",
          "2020/11/27",
          "2020/11/28",
          "2020/11/29",
          "2020/11/30",
          "2020/12/01",
          "2020/12/02",
          "2020/12/04",
          "2020/12/05",
          "2020/12/06",
          "2020/12/11",
          "2020/12/12",
          "2020/12/17",
          "2020/12/18",
          "2020/12/19",
          "2020/12/21",
          "2020/12/22",
          "2020/12/24",
          "2020/12/25",
          "2020/12/26",
          "2020/12/27",
          "2020/12/28",
          "2020/12/29",
          "2021/01/03",
          "2021/01/04",
          "2021/01/07",
          "2021/01/09",
          "2021/01/12",
          "2021/01/13",
          "2021/01/14",
          "2021/01/15",
          "2021/01/16",
          "2021/01/17",
          "2021/01/18",
          "2021/01/19",
          "2021/01/20",
          "2021/01/22",
          "2021/01/23",
          "2021/01/24",
          "2021/01/26",
          "2021/01/28",
          "2021/02/01",
          "2021/02/02",
          "2021/02/05",
          "2021/02/06",
          "2021/02/07",
          "2021/02/11",
          "2021/02/12",
          "2021/02/15",
          "2021/02/17",
          "2021/02/18",
          "2021/02/20",
          "2021/02/21",
          "2021/02/23",
          "2021/02/24",
          "2021/02/25",
          "2021/02/26",
          "2021/03/01",
          "2021/03/03",
          "2021/03/05",
          "2021/03/06",
          "2021/03/08",
          "2021/03/10",
          "2021/03/11",
          "2021/03/14",
          "2021/03/15",
          "2021/03/17",
          "2021/03/19",
          "2021/03/22",
          "2021/03/25",
          "2021/03/26",
          "2021/03/27",
          "2021/03/28",
          "2021/03/29",
          "2021/03/31",
          "2021/04/01",
          "2021/04/02",
          "2021/04/03",
          "2021/04/04",
          "2021/04/05",
          "2021/04/06",
          "2021/04/07",
          "2021/04/09",
          "2021/04/12",
          "2021/04/13",
          "2021/04/17",
          "2021/04/22",
          "2021/04/25",
          "2021/04/28",
          "2021/04/29",
          "2021/05/03",
          "2021/05/04",
          "2021/05/05",
          "2021/05/06",
          "2021/05/07",
          "2021/05/08",
          "2021/05/09",
          "2021/05/10",
          "2021/05/11",
          "2021/05/12",
          "2021/05/13",
          "2021/05/14",
          "2021/05/15",
          "2021/05/16",
          "2021/05/17",
          "2021/05/18",
          "2021/05/19",
          "2021/05/20",
          "2021/05/21",
          "2021/05/22",
          "2021/05/23",
          "2021/05/24",
          "2021/05/25",
          "2021/05/26",
          "2021/05/28",
          "2021/05/31",
          "2021/06/06",
          "2021/06/09",
          "2021/06/10",
          "2021/06/11",
          "2021/06/12",
          "2021/06/13",
          "2021/06/14",
          "2021/06/15",
          "2021/06/16",
          "2021/06/17",
          "2021/06/19",
          "2021/06/20",
          "2021/06/21",
          "2021/06/22",
          "2021/06/23",
          "2021/06/24",
          "2021/06/28",
          "2021/06/29",
          "2021/06/30",
          "2021/07/01",
          "2021/07/02",
          "2021/07/03",
          "2021/07/04"
         ],
         "y": [
          0,
          0,
          0,
          0,
          0.14285714285714285,
          0,
          0.07142857142857142,
          0.35714285714285715,
          0.07142857142857142,
          0.07142857142857142,
          0.07142857142857142,
          0.21428571428571427,
          0.9285714285714286,
          0.42857142857142855,
          0,
          0.07142857142857142,
          0.21428571428571427,
          0.07142857142857142,
          0.42857142857142855,
          0.14285714285714285,
          0.14285714285714285,
          0,
          0.14285714285714285,
          0.35714285714285715,
          0,
          0.21428571428571427,
          0.07142857142857142,
          0.14285714285714285,
          0.21428571428571427,
          0,
          0,
          0,
          0.07142857142857142,
          0.14285714285714285,
          0.07142857142857142,
          0.42857142857142855,
          0.42857142857142855,
          1.2857142857142858,
          0.35714285714285715,
          2.2857142857142856,
          0.7142857142857143,
          4.285714285714286,
          0.2857142857142857,
          0.42857142857142855,
          1.9285714285714286,
          0.5,
          0.07142857142857142,
          0.5,
          0.6428571428571429,
          0.14285714285714285,
          0.35714285714285715,
          0,
          0,
          0.35714285714285715,
          0.14285714285714285,
          0,
          0.14285714285714285,
          0.35714285714285715,
          0.21428571428571427,
          0.21428571428571427,
          0.9285714285714286,
          0,
          1.0714285714285714,
          0.6428571428571429,
          0.07142857142857142,
          0.21428571428571427,
          0.7857142857142857,
          0.35714285714285715,
          0.21428571428571427,
          0.9285714285714286,
          0.14285714285714285,
          0.6428571428571429,
          0.07142857142857142,
          0.2857142857142857,
          0.07142857142857142,
          0.35714285714285715,
          0.14285714285714285,
          0.7142857142857143,
          0.14285714285714285,
          1,
          0.35714285714285715,
          1.5714285714285714,
          0.9285714285714286,
          0.35714285714285715,
          1.4285714285714286,
          3.2857142857142856,
          0.21428571428571427,
          0.21428571428571427,
          0.35714285714285715,
          1.2857142857142858,
          1.0714285714285714,
          1.2142857142857142,
          0.21428571428571427,
          0,
          0.2857142857142857,
          0.6428571428571429,
          0.21428571428571427,
          0.2857142857142857,
          0.5,
          0.07142857142857142,
          0,
          0.35714285714285715,
          0.42857142857142855,
          0.42857142857142855,
          0.6428571428571429,
          1.1428571428571428,
          0.14285714285714285,
          0.5,
          0.6428571428571429,
          0.14285714285714285,
          1.7857142857142858,
          0.8571428571428571,
          4.071428571428571,
          3.5,
          0.8571428571428571,
          2.5,
          2.142857142857143,
          3.5714285714285716,
          1.4285714285714286,
          2.142857142857143,
          0.14285714285714285,
          3.642857142857143,
          2.0714285714285716,
          0.2857142857142857,
          0.7857142857142857,
          0.8571428571428571,
          1,
          0.7142857142857143,
          0.8571428571428571,
          2.857142857142857,
          0.07142857142857142,
          3.7142857142857144,
          0.21428571428571427,
          0.2857142857142857,
          0.9285714285714286,
          3.0714285714285716,
          0.21428571428571427,
          1.5,
          3,
          0.9285714285714286,
          1.5714285714285714,
          0.7142857142857143,
          3.357142857142857,
          1.0714285714285714,
          2.7857142857142856,
          1.2857142857142858,
          4.285714285714286,
          2.4285714285714284,
          0.6428571428571429
         ]
        },
        {
         "marker": {
          "color": "green"
         },
         "name": "Promedio de 14 días",
         "type": "bar",
         "x": [
          "2020/07/25",
          "2020/08/14",
          "2020/11/18",
          "2020/12/03",
          "2020/12/07",
          "2020/12/09",
          "2020/12/10",
          "2020/12/13",
          "2020/12/14",
          "2020/12/15",
          "2020/12/20",
          "2020/12/23",
          "2020/12/30",
          "2020/12/31",
          "2021/01/02",
          "2021/01/05",
          "2021/01/08",
          "2021/01/10",
          "2021/01/11",
          "2021/01/21",
          "2021/01/27",
          "2021/01/29",
          "2021/01/30",
          "2021/01/31",
          "2021/02/03",
          "2021/02/08",
          "2021/02/10",
          "2021/02/13",
          "2021/02/14",
          "2021/02/19",
          "2021/02/22",
          "2021/02/27",
          "2021/02/28",
          "2021/03/02",
          "2021/03/04",
          "2021/03/07",
          "2021/03/09",
          "2021/03/12",
          "2021/03/16",
          "2021/03/18",
          "2021/03/20",
          "2021/03/21",
          "2021/03/23",
          "2021/03/24",
          "2021/03/30",
          "2021/04/08",
          "2021/04/10",
          "2021/04/11",
          "2021/04/14",
          "2021/04/15",
          "2021/04/16",
          "2021/04/18",
          "2021/04/19",
          "2021/04/20",
          "2021/04/21",
          "2021/04/23",
          "2021/04/24",
          "2021/04/26",
          "2021/04/27",
          "2021/04/30",
          "2021/05/01",
          "2021/05/02",
          "2021/05/27",
          "2021/05/29",
          "2021/05/30",
          "2021/06/01",
          "2021/06/02",
          "2021/06/03",
          "2021/06/04",
          "2021/06/05",
          "2021/06/07",
          "2021/06/08",
          "2021/06/18",
          "2021/06/25",
          "2021/06/26",
          "2021/06/27"
         ],
         "y": [
          -0.14285714285714285,
          -0.14285714285714285,
          -0.21428571428571427,
          -0.14285714285714285,
          -0.07142857142857142,
          -0.07142857142857142,
          -0.14285714285714285,
          -0.7142857142857143,
          -0.21428571428571427,
          -0.07142857142857142,
          -0.07142857142857142,
          -0.14285714285714285,
          -0.07142857142857142,
          -0.07142857142857142,
          -0.5714285714285714,
          -0.5714285714285714,
          -0.07142857142857142,
          -0.14285714285714285,
          -0.21428571428571427,
          -0.5,
          -1.2857142857142858,
          -1.5,
          -0.21428571428571427,
          -3.9285714285714284,
          -1.2857142857142858,
          -0.7142857142857143,
          -0.5,
          -0.21428571428571427,
          -0.6428571428571429,
          -0.5,
          -0.2857142857142857,
          -0.21428571428571427,
          -0.21428571428571427,
          -0.42857142857142855,
          -0.9285714285714286,
          -1.8571428571428572,
          -0.42857142857142855,
          -0.5,
          -0.07142857142857142,
          -0.7857142857142857,
          -0.5,
          -0.5,
          -0.2857142857142857,
          -0.07142857142857142,
          -0.14285714285714285,
          -1.0714285714285714,
          -0.5,
          -0.5714285714285714,
          -1.3571428571428572,
          -2.5714285714285716,
          -0.7857142857142857,
          -0.07142857142857142,
          -0.7142857142857143,
          -0.5714285714285714,
          -0.7142857142857143,
          -0.8571428571428571,
          -0.7857142857142857,
          -0.2857142857142857,
          -0.07142857142857142,
          -0.2857142857142857,
          -0.21428571428571427,
          -0.5,
          -0.21428571428571427,
          -0.21428571428571427,
          -0.35714285714285715,
          -0.5,
          -1.5,
          -3,
          -0.14285714285714285,
          -1.6428571428571428,
          -4.071428571428571,
          -0.9285714285714286,
          -0.5,
          -2.357142857142857,
          -0.2857142857142857,
          -1.4285714285714286
         ]
        }
       ],
       "layout": {
        "height": 800,
        "legend": {
         "tracegroupgap": 0
        },
        "margin": {
         "t": 60
        },
        "showlegend": false,
        "template": {
         "data": {
          "bar": [
           {
            "error_x": {
             "color": "#2a3f5f"
            },
            "error_y": {
             "color": "#2a3f5f"
            },
            "marker": {
             "line": {
              "color": "white",
              "width": 0.5
             }
            },
            "type": "bar"
           }
          ],
          "barpolar": [
           {
            "marker": {
             "line": {
              "color": "white",
              "width": 0.5
             }
            },
            "type": "barpolar"
           }
          ],
          "carpet": [
           {
            "aaxis": {
             "endlinecolor": "#2a3f5f",
             "gridcolor": "#C8D4E3",
             "linecolor": "#C8D4E3",
             "minorgridcolor": "#C8D4E3",
             "startlinecolor": "#2a3f5f"
            },
            "baxis": {
             "endlinecolor": "#2a3f5f",
             "gridcolor": "#C8D4E3",
             "linecolor": "#C8D4E3",
             "minorgridcolor": "#C8D4E3",
             "startlinecolor": "#2a3f5f"
            },
            "type": "carpet"
           }
          ],
          "choropleth": [
           {
            "colorbar": {
             "outlinewidth": 0,
             "ticks": ""
            },
            "type": "choropleth"
           }
          ],
          "contour": [
           {
            "colorbar": {
             "outlinewidth": 0,
             "ticks": ""
            },
            "colorscale": [
             [
              0,
              "#0d0887"
             ],
             [
              0.1111111111111111,
              "#46039f"
             ],
             [
              0.2222222222222222,
              "#7201a8"
             ],
             [
              0.3333333333333333,
              "#9c179e"
             ],
             [
              0.4444444444444444,
              "#bd3786"
             ],
             [
              0.5555555555555556,
              "#d8576b"
             ],
             [
              0.6666666666666666,
              "#ed7953"
             ],
             [
              0.7777777777777778,
              "#fb9f3a"
             ],
             [
              0.8888888888888888,
              "#fdca26"
             ],
             [
              1,
              "#f0f921"
             ]
            ],
            "type": "contour"
           }
          ],
          "contourcarpet": [
           {
            "colorbar": {
             "outlinewidth": 0,
             "ticks": ""
            },
            "type": "contourcarpet"
           }
          ],
          "heatmap": [
           {
            "colorbar": {
             "outlinewidth": 0,
             "ticks": ""
            },
            "colorscale": [
             [
              0,
              "#0d0887"
             ],
             [
              0.1111111111111111,
              "#46039f"
             ],
             [
              0.2222222222222222,
              "#7201a8"
             ],
             [
              0.3333333333333333,
              "#9c179e"
             ],
             [
              0.4444444444444444,
              "#bd3786"
             ],
             [
              0.5555555555555556,
              "#d8576b"
             ],
             [
              0.6666666666666666,
              "#ed7953"
             ],
             [
              0.7777777777777778,
              "#fb9f3a"
             ],
             [
              0.8888888888888888,
              "#fdca26"
             ],
             [
              1,
              "#f0f921"
             ]
            ],
            "type": "heatmap"
           }
          ],
          "heatmapgl": [
           {
            "colorbar": {
             "outlinewidth": 0,
             "ticks": ""
            },
            "colorscale": [
             [
              0,
              "#0d0887"
             ],
             [
              0.1111111111111111,
              "#46039f"
             ],
             [
              0.2222222222222222,
              "#7201a8"
             ],
             [
              0.3333333333333333,
              "#9c179e"
             ],
             [
              0.4444444444444444,
              "#bd3786"
             ],
             [
              0.5555555555555556,
              "#d8576b"
             ],
             [
              0.6666666666666666,
              "#ed7953"
             ],
             [
              0.7777777777777778,
              "#fb9f3a"
             ],
             [
              0.8888888888888888,
              "#fdca26"
             ],
             [
              1,
              "#f0f921"
             ]
            ],
            "type": "heatmapgl"
           }
          ],
          "histogram": [
           {
            "marker": {
             "colorbar": {
              "outlinewidth": 0,
              "ticks": ""
             }
            },
            "type": "histogram"
           }
          ],
          "histogram2d": [
           {
            "colorbar": {
             "outlinewidth": 0,
             "ticks": ""
            },
            "colorscale": [
             [
              0,
              "#0d0887"
             ],
             [
              0.1111111111111111,
              "#46039f"
             ],
             [
              0.2222222222222222,
              "#7201a8"
             ],
             [
              0.3333333333333333,
              "#9c179e"
             ],
             [
              0.4444444444444444,
              "#bd3786"
             ],
             [
              0.5555555555555556,
              "#d8576b"
             ],
             [
              0.6666666666666666,
              "#ed7953"
             ],
             [
              0.7777777777777778,
              "#fb9f3a"
             ],
             [
              0.8888888888888888,
              "#fdca26"
             ],
             [
              1,
              "#f0f921"
             ]
            ],
            "type": "histogram2d"
           }
          ],
          "histogram2dcontour": [
           {
            "colorbar": {
             "outlinewidth": 0,
             "ticks": ""
            },
            "colorscale": [
             [
              0,
              "#0d0887"
             ],
             [
              0.1111111111111111,
              "#46039f"
             ],
             [
              0.2222222222222222,
              "#7201a8"
             ],
             [
              0.3333333333333333,
              "#9c179e"
             ],
             [
              0.4444444444444444,
              "#bd3786"
             ],
             [
              0.5555555555555556,
              "#d8576b"
             ],
             [
              0.6666666666666666,
              "#ed7953"
             ],
             [
              0.7777777777777778,
              "#fb9f3a"
             ],
             [
              0.8888888888888888,
              "#fdca26"
             ],
             [
              1,
              "#f0f921"
             ]
            ],
            "type": "histogram2dcontour"
           }
          ],
          "mesh3d": [
           {
            "colorbar": {
             "outlinewidth": 0,
             "ticks": ""
            },
            "type": "mesh3d"
           }
          ],
          "parcoords": [
           {
            "line": {
             "colorbar": {
              "outlinewidth": 0,
              "ticks": ""
             }
            },
            "type": "parcoords"
           }
          ],
          "pie": [
           {
            "automargin": true,
            "type": "pie"
           }
          ],
          "scatter": [
           {
            "marker": {
             "colorbar": {
              "outlinewidth": 0,
              "ticks": ""
             }
            },
            "type": "scatter"
           }
          ],
          "scatter3d": [
           {
            "line": {
             "colorbar": {
              "outlinewidth": 0,
              "ticks": ""
             }
            },
            "marker": {
             "colorbar": {
              "outlinewidth": 0,
              "ticks": ""
             }
            },
            "type": "scatter3d"
           }
          ],
          "scattercarpet": [
           {
            "marker": {
             "colorbar": {
              "outlinewidth": 0,
              "ticks": ""
             }
            },
            "type": "scattercarpet"
           }
          ],
          "scattergeo": [
           {
            "marker": {
             "colorbar": {
              "outlinewidth": 0,
              "ticks": ""
             }
            },
            "type": "scattergeo"
           }
          ],
          "scattergl": [
           {
            "marker": {
             "colorbar": {
              "outlinewidth": 0,
              "ticks": ""
             }
            },
            "type": "scattergl"
           }
          ],
          "scattermapbox": [
           {
            "marker": {
             "colorbar": {
              "outlinewidth": 0,
              "ticks": ""
             }
            },
            "type": "scattermapbox"
           }
          ],
          "scatterpolar": [
           {
            "marker": {
             "colorbar": {
              "outlinewidth": 0,
              "ticks": ""
             }
            },
            "type": "scatterpolar"
           }
          ],
          "scatterpolargl": [
           {
            "marker": {
             "colorbar": {
              "outlinewidth": 0,
              "ticks": ""
             }
            },
            "type": "scatterpolargl"
           }
          ],
          "scatterternary": [
           {
            "marker": {
             "colorbar": {
              "outlinewidth": 0,
              "ticks": ""
             }
            },
            "type": "scatterternary"
           }
          ],
          "surface": [
           {
            "colorbar": {
             "outlinewidth": 0,
             "ticks": ""
            },
            "colorscale": [
             [
              0,
              "#0d0887"
             ],
             [
              0.1111111111111111,
              "#46039f"
             ],
             [
              0.2222222222222222,
              "#7201a8"
             ],
             [
              0.3333333333333333,
              "#9c179e"
             ],
             [
              0.4444444444444444,
              "#bd3786"
             ],
             [
              0.5555555555555556,
              "#d8576b"
             ],
             [
              0.6666666666666666,
              "#ed7953"
             ],
             [
              0.7777777777777778,
              "#fb9f3a"
             ],
             [
              0.8888888888888888,
              "#fdca26"
             ],
             [
              1,
              "#f0f921"
             ]
            ],
            "type": "surface"
           }
          ],
          "table": [
           {
            "cells": {
             "fill": {
              "color": "#EBF0F8"
             },
             "line": {
              "color": "white"
             }
            },
            "header": {
             "fill": {
              "color": "#C8D4E3"
             },
             "line": {
              "color": "white"
             }
            },
            "type": "table"
           }
          ]
         },
         "layout": {
          "annotationdefaults": {
           "arrowcolor": "#2a3f5f",
           "arrowhead": 0,
           "arrowwidth": 1
          },
          "autotypenumbers": "strict",
          "coloraxis": {
           "colorbar": {
            "outlinewidth": 0,
            "ticks": ""
           }
          },
          "colorscale": {
           "diverging": [
            [
             0,
             "#8e0152"
            ],
            [
             0.1,
             "#c51b7d"
            ],
            [
             0.2,
             "#de77ae"
            ],
            [
             0.3,
             "#f1b6da"
            ],
            [
             0.4,
             "#fde0ef"
            ],
            [
             0.5,
             "#f7f7f7"
            ],
            [
             0.6,
             "#e6f5d0"
            ],
            [
             0.7,
             "#b8e186"
            ],
            [
             0.8,
             "#7fbc41"
            ],
            [
             0.9,
             "#4d9221"
            ],
            [
             1,
             "#276419"
            ]
           ],
           "sequential": [
            [
             0,
             "#0d0887"
            ],
            [
             0.1111111111111111,
             "#46039f"
            ],
            [
             0.2222222222222222,
             "#7201a8"
            ],
            [
             0.3333333333333333,
             "#9c179e"
            ],
            [
             0.4444444444444444,
             "#bd3786"
            ],
            [
             0.5555555555555556,
             "#d8576b"
            ],
            [
             0.6666666666666666,
             "#ed7953"
            ],
            [
             0.7777777777777778,
             "#fb9f3a"
            ],
            [
             0.8888888888888888,
             "#fdca26"
            ],
            [
             1,
             "#f0f921"
            ]
           ],
           "sequentialminus": [
            [
             0,
             "#0d0887"
            ],
            [
             0.1111111111111111,
             "#46039f"
            ],
            [
             0.2222222222222222,
             "#7201a8"
            ],
            [
             0.3333333333333333,
             "#9c179e"
            ],
            [
             0.4444444444444444,
             "#bd3786"
            ],
            [
             0.5555555555555556,
             "#d8576b"
            ],
            [
             0.6666666666666666,
             "#ed7953"
            ],
            [
             0.7777777777777778,
             "#fb9f3a"
            ],
            [
             0.8888888888888888,
             "#fdca26"
            ],
            [
             1,
             "#f0f921"
            ]
           ]
          },
          "colorway": [
           "#636efa",
           "#EF553B",
           "#00cc96",
           "#ab63fa",
           "#FFA15A",
           "#19d3f3",
           "#FF6692",
           "#B6E880",
           "#FF97FF",
           "#FECB52"
          ],
          "font": {
           "color": "#2a3f5f"
          },
          "geo": {
           "bgcolor": "white",
           "lakecolor": "white",
           "landcolor": "white",
           "showlakes": true,
           "showland": true,
           "subunitcolor": "#C8D4E3"
          },
          "hoverlabel": {
           "align": "left"
          },
          "hovermode": "closest",
          "mapbox": {
           "style": "light"
          },
          "paper_bgcolor": "white",
          "plot_bgcolor": "white",
          "polar": {
           "angularaxis": {
            "gridcolor": "#EBF0F8",
            "linecolor": "#EBF0F8",
            "ticks": ""
           },
           "bgcolor": "white",
           "radialaxis": {
            "gridcolor": "#EBF0F8",
            "linecolor": "#EBF0F8",
            "ticks": ""
           }
          },
          "scene": {
           "xaxis": {
            "backgroundcolor": "white",
            "gridcolor": "#DFE8F3",
            "gridwidth": 2,
            "linecolor": "#EBF0F8",
            "showbackground": true,
            "ticks": "",
            "zerolinecolor": "#EBF0F8"
           },
           "yaxis": {
            "backgroundcolor": "white",
            "gridcolor": "#DFE8F3",
            "gridwidth": 2,
            "linecolor": "#EBF0F8",
            "showbackground": true,
            "ticks": "",
            "zerolinecolor": "#EBF0F8"
           },
           "zaxis": {
            "backgroundcolor": "white",
            "gridcolor": "#DFE8F3",
            "gridwidth": 2,
            "linecolor": "#EBF0F8",
            "showbackground": true,
            "ticks": "",
            "zerolinecolor": "#EBF0F8"
           }
          },
          "shapedefaults": {
           "line": {
            "color": "#2a3f5f"
           }
          },
          "ternary": {
           "aaxis": {
            "gridcolor": "#DFE8F3",
            "linecolor": "#A2B1C6",
            "ticks": ""
           },
           "baxis": {
            "gridcolor": "#DFE8F3",
            "linecolor": "#A2B1C6",
            "ticks": ""
           },
           "bgcolor": "white",
           "caxis": {
            "gridcolor": "#DFE8F3",
            "linecolor": "#A2B1C6",
            "ticks": ""
           }
          },
          "title": {
           "x": 0.05
          },
          "xaxis": {
           "automargin": true,
           "gridcolor": "#EBF0F8",
           "linecolor": "#EBF0F8",
           "ticks": "",
           "title": {
            "standoff": 15
           },
           "zerolinecolor": "#EBF0F8",
           "zerolinewidth": 2
          },
          "yaxis": {
           "automargin": true,
           "gridcolor": "#EBF0F8",
           "linecolor": "#EBF0F8",
           "ticks": "",
           "title": {
            "standoff": 15
           },
           "zerolinecolor": "#EBF0F8",
           "zerolinewidth": 2
          }
         }
        },
        "title": {
         "text": "Aceleración de casos - promedio 14 días - Cienfuegos"
        },
        "width": 1000,
        "xaxis": {
         "anchor": "y",
         "domain": [
          0,
          1
         ],
         "title": {
          "text": "Días"
         }
        },
        "yaxis": {
         "anchor": "x",
         "domain": [
          0,
          1
         ],
         "title": {
          "text": "Casos"
         }
        }
       }
      }
     },
     "metadata": {}
    }
   ],
   "source": [
    "import numpy as np\n",
    "# here you define the color\n",
    "#cfg[\"color\"] = np.where(cfg[\"accelMeans14\"] >= 0, 'green', \"red\")\n",
    "## add a color column to the df, apply along row\n",
    "cfg['color'] = cfg.apply(lambda x: 'red' if x['accelMeans14'] >= 0 else 'green', axis=1)\n",
    "pos = cfg[cfg['accelMeans14'] >= 0]\n",
    "neg = cfg[cfg['accelMeans14'] < 0]\n",
    "\n",
    "fig = go.Figure()\n",
    "\n",
    "fig = px.line(cfg, x=\"Date\", y=\"accelMeans14\", template=chartTemplate)\n",
    "\n",
    "#fig.add_trace(go.Bar(x=cfg['Date'], y=cfg['accelMeans14'], name='Promedio de 14 días', marker = dict(color = 'red')) \n",
    "\n",
    "fig.add_trace(go.Bar(x=pos['Date'], y=pos['accelMeans14'], name='Promedio de 14 días', marker = dict(color = 'red')))\n",
    "fig.add_trace(go.Bar(x=neg['Date'], y=neg['accelMeans14'], name='Promedio de 14 días', marker = dict(color = 'green')))#\n",
    "fig.update_layout({\"title\": 'Aceleración de casos - promedio 14 días - Cienfuegos',\n",
    "                   \"xaxis\": {\"title\":\"Días\"},\n",
    "                   \"yaxis\": {\"title\":\"Casos\"},\n",
    "\n",
    "                   \"width\" : 1000,\n",
    "                   \"height\" : 800,                   \"showlegend\": False})\n",
    "fig.show()"
   ]
  },
  {
   "source": [
    "#  ##--\n",
    "\n",
    "# CUBA\n",
    "\n",
    "## Análisis de Cuba\n",
    "\n",
    "#  ##--"
   ],
   "cell_type": "markdown",
   "metadata": {}
  },
  {
   "cell_type": "code",
   "execution_count": 286,
   "metadata": {},
   "outputs": [
    {
     "output_type": "display_data",
     "data": {
      "application/vnd.plotly.v1+json": {
       "config": {
        "plotlyServerURL": "https://plot.ly"
       },
       "data": [
        {
         "hovertemplate": "Date=%{x}<br>N=%{y}<extra></extra>",
         "legendgroup": "",
         "line": {
          "color": "#636efa",
          "dash": "solid"
         },
         "mode": "lines",
         "name": "",
         "orientation": "v",
         "showlegend": false,
         "type": "scatter",
         "x": [
          "2020/03/11",
          "2020/03/13",
          "2020/03/16",
          "2020/03/17",
          "2020/03/18",
          "2020/03/19",
          "2020/03/20",
          "2020/03/21",
          "2020/03/22",
          "2020/03/23",
          "2020/03/24",
          "2020/03/25",
          "2020/03/26",
          "2020/03/27",
          "2020/03/28",
          "2020/03/29",
          "2020/03/30",
          "2020/03/31",
          "2020/04/01",
          "2020/04/02",
          "2020/04/03",
          "2020/04/04",
          "2020/04/05",
          "2020/04/06",
          "2020/04/07",
          "2020/04/08",
          "2020/04/09",
          "2020/04/10",
          "2020/04/11",
          "2020/04/12",
          "2020/04/13",
          "2020/04/14",
          "2020/04/15",
          "2020/04/16",
          "2020/04/17",
          "2020/04/18",
          "2020/04/19",
          "2020/04/20",
          "2020/04/21",
          "2020/04/22",
          "2020/04/23",
          "2020/04/24",
          "2020/04/25",
          "2020/04/26",
          "2020/04/27",
          "2020/04/28",
          "2020/04/29",
          "2020/04/30",
          "2020/05/01",
          "2020/05/02",
          "2020/05/03",
          "2020/05/04",
          "2020/05/05",
          "2020/05/06",
          "2020/05/07",
          "2020/05/08",
          "2020/05/09",
          "2020/05/10",
          "2020/05/11",
          "2020/05/12",
          "2020/05/13",
          "2020/05/14",
          "2020/05/15",
          "2020/05/16",
          "2020/05/17",
          "2020/05/18",
          "2020/05/19",
          "2020/05/20",
          "2020/05/21",
          "2020/05/22",
          "2020/05/23",
          "2020/05/24",
          "2020/05/25",
          "2020/05/26",
          "2020/05/27",
          "2020/05/28",
          "2020/05/29",
          "2020/05/30",
          "2020/05/31",
          "2020/06/01",
          "2020/06/02",
          "2020/06/03",
          "2020/06/04",
          "2020/06/05",
          "2020/06/06",
          "2020/06/07",
          "2020/06/08",
          "2020/06/09",
          "2020/06/10",
          "2020/06/11",
          "2020/06/12",
          "2020/06/13",
          "2020/06/14",
          "2020/06/15",
          "2020/06/16",
          "2020/06/17",
          "2020/06/18",
          "2020/06/19",
          "2020/06/20",
          "2020/06/21",
          "2020/06/22",
          "2020/06/23",
          "2020/06/24",
          "2020/06/25",
          "2020/06/26",
          "2020/06/27",
          "2020/06/28",
          "2020/06/29",
          "2020/06/30",
          "2020/07/01",
          "2020/07/02",
          "2020/07/03",
          "2020/07/04",
          "2020/07/05",
          "2020/07/06",
          "2020/07/07",
          "2020/07/08",
          "2020/07/09",
          "2020/07/10",
          "2020/07/11",
          "2020/07/12",
          "2020/07/13",
          "2020/07/14",
          "2020/07/15",
          "2020/07/16",
          "2020/07/17",
          "2020/07/18",
          "2020/07/20",
          "2020/07/21",
          "2020/07/22",
          "2020/07/23",
          "2020/07/24",
          "2020/07/25",
          "2020/07/26",
          "2020/07/27",
          "2020/07/28",
          "2020/07/29",
          "2020/07/30",
          "2020/07/31",
          "2020/08/01",
          "2020/08/02",
          "2020/08/03",
          "2020/08/04",
          "2020/08/05",
          "2020/08/06",
          "2020/08/07",
          "2020/08/08",
          "2020/08/09",
          "2020/08/10",
          "2020/08/11",
          "2020/08/12",
          "2020/08/13",
          "2020/08/14",
          "2020/08/15",
          "2020/08/16",
          "2020/08/17",
          "2020/08/18",
          "2020/08/19",
          "2020/08/20",
          "2020/08/21",
          "2020/08/22",
          "2020/08/23",
          "2020/08/24",
          "2020/08/25",
          "2020/08/26",
          "2020/08/27",
          "2020/08/28",
          "2020/08/29",
          "2020/08/30",
          "2020/08/31",
          "2020/09/01",
          "2020/09/02",
          "2020/09/03",
          "2020/09/04",
          "2020/09/05",
          "2020/09/06",
          "2020/09/07",
          "2020/09/08",
          "2020/09/09",
          "2020/09/10",
          "2020/09/11",
          "2020/09/12",
          "2020/09/13",
          "2020/09/14",
          "2020/09/15",
          "2020/09/16",
          "2020/09/17",
          "2020/09/18",
          "2020/09/19",
          "2020/09/20",
          "2020/09/21",
          "2020/09/22",
          "2020/09/23",
          "2020/09/24",
          "2020/09/25",
          "2020/09/26",
          "2020/09/27",
          "2020/09/28",
          "2020/09/29",
          "2020/09/30",
          "2020/10/01",
          "2020/10/02",
          "2020/10/03",
          "2020/10/04",
          "2020/10/05",
          "2020/10/06",
          "2020/10/07",
          "2020/10/08",
          "2020/10/09",
          "2020/10/10",
          "2020/10/11",
          "2020/10/12",
          "2020/10/13",
          "2020/10/14",
          "2020/10/15",
          "2020/10/16",
          "2020/10/17",
          "2020/10/18",
          "2020/10/19",
          "2020/10/20",
          "2020/10/21",
          "2020/10/22",
          "2020/10/23",
          "2020/10/24",
          "2020/10/25",
          "2020/10/26",
          "2020/10/27",
          "2020/10/28",
          "2020/10/29",
          "2020/10/30",
          "2020/10/31",
          "2020/11/01",
          "2020/11/02",
          "2020/11/03",
          "2020/11/04",
          "2020/11/05",
          "2020/11/06",
          "2020/11/07",
          "2020/11/08",
          "2020/11/09",
          "2020/11/10",
          "2020/11/11",
          "2020/11/12",
          "2020/11/13",
          "2020/11/14",
          "2020/11/15",
          "2020/11/16",
          "2020/11/17",
          "2020/11/18",
          "2020/11/19",
          "2020/11/20",
          "2020/11/21",
          "2020/11/22",
          "2020/11/23",
          "2020/11/24",
          "2020/11/25",
          "2020/11/26",
          "2020/11/27",
          "2020/11/28",
          "2020/11/29",
          "2020/11/30",
          "2020/12/01",
          "2020/12/02",
          "2020/12/03",
          "2020/12/04",
          "2020/12/05",
          "2020/12/06",
          "2020/12/07",
          "2020/12/08",
          "2020/12/09",
          "2020/12/10",
          "2020/12/11",
          "2020/12/12",
          "2020/12/13",
          "2020/12/14",
          "2020/12/15",
          "2020/12/16",
          "2020/12/17",
          "2020/12/18",
          "2020/12/19",
          "2020/12/20",
          "2020/12/21",
          "2020/12/22",
          "2020/12/23",
          "2020/12/24",
          "2020/12/25",
          "2020/12/26",
          "2020/12/27",
          "2020/12/28",
          "2020/12/29",
          "2020/12/30",
          "2020/12/31",
          "2021/01/01",
          "2021/01/02",
          "2021/01/03",
          "2021/01/04",
          "2021/01/05",
          "2021/01/06",
          "2021/01/07",
          "2021/01/08",
          "2021/01/09",
          "2021/01/10",
          "2021/01/11",
          "2021/01/12",
          "2021/01/13",
          "2021/01/14",
          "2021/01/15",
          "2021/01/16",
          "2021/01/17",
          "2021/01/18",
          "2021/01/19",
          "2021/01/20",
          "2021/01/21",
          "2021/01/22",
          "2021/01/23",
          "2021/01/24",
          "2021/01/25",
          "2021/01/26",
          "2021/01/27",
          "2021/01/28",
          "2021/01/29",
          "2021/01/30",
          "2021/01/31",
          "2021/02/01",
          "2021/02/02",
          "2021/02/03",
          "2021/02/04",
          "2021/02/05",
          "2021/02/06",
          "2021/02/07",
          "2021/02/08",
          "2021/02/09",
          "2021/02/10",
          "2021/02/11",
          "2021/02/12",
          "2021/02/13",
          "2021/02/14",
          "2021/02/15",
          "2021/02/16",
          "2021/02/17",
          "2021/02/18",
          "2021/02/19",
          "2021/02/20",
          "2021/02/21",
          "2021/02/22",
          "2021/02/23",
          "2021/02/24",
          "2021/02/25",
          "2021/02/26",
          "2021/02/27",
          "2021/02/28",
          "2021/03/01",
          "2021/03/02",
          "2021/03/03",
          "2021/03/04",
          "2021/03/05",
          "2021/03/06",
          "2021/03/07",
          "2021/03/08",
          "2021/03/09",
          "2021/03/10",
          "2021/03/11",
          "2021/03/12",
          "2021/03/13",
          "2021/03/14",
          "2021/03/15",
          "2021/03/16",
          "2021/03/17",
          "2021/03/18",
          "2021/03/19",
          "2021/03/20",
          "2021/03/21",
          "2021/03/22",
          "2021/03/23",
          "2021/03/24",
          "2021/03/25",
          "2021/03/26",
          "2021/03/27",
          "2021/03/28",
          "2021/03/29",
          "2021/03/30",
          "2021/03/31",
          "2021/04/01",
          "2021/04/02",
          "2021/04/03",
          "2021/04/04",
          "2021/04/05",
          "2021/04/06",
          "2021/04/07",
          "2021/04/08",
          "2021/04/09",
          "2021/04/10",
          "2021/04/11",
          "2021/04/12",
          "2021/04/13",
          "2021/04/14",
          "2021/04/15",
          "2021/04/16",
          "2021/04/17",
          "2021/04/18",
          "2021/04/19",
          "2021/04/20",
          "2021/04/21",
          "2021/04/22",
          "2021/04/23",
          "2021/04/24",
          "2021/04/25",
          "2021/04/26",
          "2021/04/27",
          "2021/04/28",
          "2021/04/29",
          "2021/04/30",
          "2021/05/01",
          "2021/05/02",
          "2021/05/03",
          "2021/05/04",
          "2021/05/05",
          "2021/05/06",
          "2021/05/07",
          "2021/05/08",
          "2021/05/09",
          "2021/05/10",
          "2021/05/11",
          "2021/05/12",
          "2021/05/13",
          "2021/05/14",
          "2021/05/15",
          "2021/05/16",
          "2021/05/17",
          "2021/05/18",
          "2021/05/19",
          "2021/05/20",
          "2021/05/21",
          "2021/05/22",
          "2021/05/23",
          "2021/05/24",
          "2021/05/25",
          "2021/05/26",
          "2021/05/27",
          "2021/05/28",
          "2021/05/29",
          "2021/05/30",
          "2021/05/31",
          "2021/06/01",
          "2021/06/02",
          "2021/06/03",
          "2021/06/04",
          "2021/06/05",
          "2021/06/06",
          "2021/06/07",
          "2021/06/08",
          "2021/06/09",
          "2021/06/10",
          "2021/06/11",
          "2021/06/12",
          "2021/06/13",
          "2021/06/14",
          "2021/06/15",
          "2021/06/16",
          "2021/06/17",
          "2021/06/18",
          "2021/06/19",
          "2021/06/20",
          "2021/06/21",
          "2021/06/22",
          "2021/06/23",
          "2021/06/24",
          "2021/06/25",
          "2021/06/26",
          "2021/06/27",
          "2021/06/28",
          "2021/06/29",
          "2021/06/30",
          "2021/07/01",
          "2021/07/02",
          "2021/07/03",
          "2021/07/04"
         ],
         "xaxis": "x",
         "y": [
          3,
          1,
          1,
          2,
          4,
          5,
          9,
          10,
          5,
          8,
          9,
          10,
          13,
          39,
          20,
          31,
          16,
          26,
          21,
          36,
          19,
          32,
          30,
          46,
          61,
          58,
          49,
          56,
          49,
          57,
          40,
          48,
          48,
          61,
          63,
          49,
          52,
          50,
          52,
          46,
          50,
          52,
          32,
          20,
          48,
          30,
          34,
          36,
          74,
          38,
          19,
          17,
          18,
          26,
          12,
          13,
          12,
          17,
          21,
          6,
          20,
          10,
          22,
          10,
          9,
          6,
          13,
          8,
          8,
          15,
          10,
          6,
          16,
          11,
          9,
          22,
          20,
          20,
          38,
          9,
          15,
          12,
          14,
          40,
          18,
          9,
          5,
          6,
          8,
          14,
          5,
          10,
          14,
          11,
          7,
          15,
          10,
          4,
          3,
          3,
          3,
          1,
          2,
          4,
          5,
          2,
          8,
          1,
          7,
          5,
          8,
          8,
          3,
          8,
          15,
          4,
          4,
          10,
          7,
          6,
          2,
          4,
          6,
          2,
          4,
          1,
          1,
          3,
          13,
          4,
          3,
          9,
          17,
          37,
          23,
          33,
          9,
          11,
          25,
          13,
          24,
          31,
          25,
          49,
          54,
          59,
          65,
          93,
          47,
          35,
          45,
          56,
          63,
          24,
          48,
          44,
          74,
          83,
          17,
          35,
          65,
          35,
          27,
          15,
          47,
          60,
          59,
          48,
          59,
          33,
          61,
          88,
          52,
          32,
          11,
          43,
          25,
          82,
          92,
          42,
          60,
          31,
          42,
          77,
          73,
          57,
          71,
          51,
          36,
          50,
          81,
          48,
          40,
          40,
          62,
          45,
          26,
          48,
          66,
          73,
          48,
          62,
          29,
          36,
          38,
          15,
          19,
          26,
          5,
          30,
          22,
          17,
          18,
          27,
          56,
          52,
          50,
          38,
          47,
          63,
          53,
          58,
          55,
          32,
          29,
          83,
          49,
          39,
          35,
          86,
          48,
          35,
          65,
          109,
          40,
          44,
          39,
          30,
          52,
          43,
          37,
          58,
          54,
          27,
          22,
          49,
          28,
          37,
          21,
          38,
          35,
          48,
          33,
          71,
          76,
          49,
          35,
          63,
          60,
          51,
          97,
          75,
          75,
          79,
          104,
          68,
          124,
          76,
          124,
          75,
          86,
          87,
          69,
          69,
          96,
          83,
          100,
          122,
          131,
          103,
          115,
          142,
          116,
          217,
          183,
          138,
          167,
          229,
          167,
          86,
          176,
          193,
          169,
          199,
          316,
          224,
          201,
          314,
          344,
          365,
          388,
          431,
          487,
          550,
          505,
          547,
          405,
          650,
          292,
          330,
          349,
          408,
          530,
          567,
          634,
          567,
          786,
          825,
          666,
          659,
          910,
          1012,
          906,
          1044,
          893,
          816,
          845,
          821,
          820,
          653,
          580,
          858,
          850,
          823,
          888,
          806,
          715,
          937,
          824,
          923,
          859,
          937,
          1039,
          838,
          836,
          699,
          670,
          875,
          720,
          618,
          811,
          997,
          914,
          807,
          777,
          750,
          858,
          873,
          1041,
          772,
          778,
          762,
          639,
          914,
          734,
          792,
          727,
          689,
          735,
          813,
          796,
          718,
          774,
          736,
          816,
          832,
          950,
          919,
          701,
          1008,
          1051,
          1013,
          1077,
          1029,
          1162,
          1066,
          1030,
          961,
          914,
          1017,
          1040,
          959,
          854,
          1060,
          959,
          1004,
          1040,
          1026,
          1037,
          1060,
          1183,
          1006,
          1207,
          1241,
          1110,
          1185,
          938,
          1083,
          988,
          1149,
          1046,
          915,
          1071,
          932,
          1019,
          1010,
          1060,
          1162,
          1036,
          1069,
          1116,
          1071,
          1207,
          1186,
          1277,
          1383,
          1233,
          1057,
          1244,
          1339,
          1252,
          1197,
          1289,
          1221,
          1155,
          1291,
          1129,
          1102,
          1169,
          1188,
          1079,
          1100,
          1057,
          1191,
          1053,
          1129,
          1135,
          1087,
          1185,
          1156,
          1161,
          1158,
          1288,
          1372,
          1470,
          1349,
          1537,
          1403,
          1418,
          1481,
          1472,
          1436,
          1561,
          1489,
          2055,
          1880,
          2464,
          2403,
          2698,
          2589,
          3080,
          2970,
          2952,
          3308,
          3475,
          3519,
          3075
         ],
         "yaxis": "y"
        }
       ],
       "layout": {
        "legend": {
         "tracegroupgap": 0
        },
        "margin": {
         "t": 60
        },
        "showlegend": false,
        "template": {
         "data": {
          "bar": [
           {
            "error_x": {
             "color": "#2a3f5f"
            },
            "error_y": {
             "color": "#2a3f5f"
            },
            "marker": {
             "line": {
              "color": "white",
              "width": 0.5
             }
            },
            "type": "bar"
           }
          ],
          "barpolar": [
           {
            "marker": {
             "line": {
              "color": "white",
              "width": 0.5
             }
            },
            "type": "barpolar"
           }
          ],
          "carpet": [
           {
            "aaxis": {
             "endlinecolor": "#2a3f5f",
             "gridcolor": "#C8D4E3",
             "linecolor": "#C8D4E3",
             "minorgridcolor": "#C8D4E3",
             "startlinecolor": "#2a3f5f"
            },
            "baxis": {
             "endlinecolor": "#2a3f5f",
             "gridcolor": "#C8D4E3",
             "linecolor": "#C8D4E3",
             "minorgridcolor": "#C8D4E3",
             "startlinecolor": "#2a3f5f"
            },
            "type": "carpet"
           }
          ],
          "choropleth": [
           {
            "colorbar": {
             "outlinewidth": 0,
             "ticks": ""
            },
            "type": "choropleth"
           }
          ],
          "contour": [
           {
            "colorbar": {
             "outlinewidth": 0,
             "ticks": ""
            },
            "colorscale": [
             [
              0,
              "#0d0887"
             ],
             [
              0.1111111111111111,
              "#46039f"
             ],
             [
              0.2222222222222222,
              "#7201a8"
             ],
             [
              0.3333333333333333,
              "#9c179e"
             ],
             [
              0.4444444444444444,
              "#bd3786"
             ],
             [
              0.5555555555555556,
              "#d8576b"
             ],
             [
              0.6666666666666666,
              "#ed7953"
             ],
             [
              0.7777777777777778,
              "#fb9f3a"
             ],
             [
              0.8888888888888888,
              "#fdca26"
             ],
             [
              1,
              "#f0f921"
             ]
            ],
            "type": "contour"
           }
          ],
          "contourcarpet": [
           {
            "colorbar": {
             "outlinewidth": 0,
             "ticks": ""
            },
            "type": "contourcarpet"
           }
          ],
          "heatmap": [
           {
            "colorbar": {
             "outlinewidth": 0,
             "ticks": ""
            },
            "colorscale": [
             [
              0,
              "#0d0887"
             ],
             [
              0.1111111111111111,
              "#46039f"
             ],
             [
              0.2222222222222222,
              "#7201a8"
             ],
             [
              0.3333333333333333,
              "#9c179e"
             ],
             [
              0.4444444444444444,
              "#bd3786"
             ],
             [
              0.5555555555555556,
              "#d8576b"
             ],
             [
              0.6666666666666666,
              "#ed7953"
             ],
             [
              0.7777777777777778,
              "#fb9f3a"
             ],
             [
              0.8888888888888888,
              "#fdca26"
             ],
             [
              1,
              "#f0f921"
             ]
            ],
            "type": "heatmap"
           }
          ],
          "heatmapgl": [
           {
            "colorbar": {
             "outlinewidth": 0,
             "ticks": ""
            },
            "colorscale": [
             [
              0,
              "#0d0887"
             ],
             [
              0.1111111111111111,
              "#46039f"
             ],
             [
              0.2222222222222222,
              "#7201a8"
             ],
             [
              0.3333333333333333,
              "#9c179e"
             ],
             [
              0.4444444444444444,
              "#bd3786"
             ],
             [
              0.5555555555555556,
              "#d8576b"
             ],
             [
              0.6666666666666666,
              "#ed7953"
             ],
             [
              0.7777777777777778,
              "#fb9f3a"
             ],
             [
              0.8888888888888888,
              "#fdca26"
             ],
             [
              1,
              "#f0f921"
             ]
            ],
            "type": "heatmapgl"
           }
          ],
          "histogram": [
           {
            "marker": {
             "colorbar": {
              "outlinewidth": 0,
              "ticks": ""
             }
            },
            "type": "histogram"
           }
          ],
          "histogram2d": [
           {
            "colorbar": {
             "outlinewidth": 0,
             "ticks": ""
            },
            "colorscale": [
             [
              0,
              "#0d0887"
             ],
             [
              0.1111111111111111,
              "#46039f"
             ],
             [
              0.2222222222222222,
              "#7201a8"
             ],
             [
              0.3333333333333333,
              "#9c179e"
             ],
             [
              0.4444444444444444,
              "#bd3786"
             ],
             [
              0.5555555555555556,
              "#d8576b"
             ],
             [
              0.6666666666666666,
              "#ed7953"
             ],
             [
              0.7777777777777778,
              "#fb9f3a"
             ],
             [
              0.8888888888888888,
              "#fdca26"
             ],
             [
              1,
              "#f0f921"
             ]
            ],
            "type": "histogram2d"
           }
          ],
          "histogram2dcontour": [
           {
            "colorbar": {
             "outlinewidth": 0,
             "ticks": ""
            },
            "colorscale": [
             [
              0,
              "#0d0887"
             ],
             [
              0.1111111111111111,
              "#46039f"
             ],
             [
              0.2222222222222222,
              "#7201a8"
             ],
             [
              0.3333333333333333,
              "#9c179e"
             ],
             [
              0.4444444444444444,
              "#bd3786"
             ],
             [
              0.5555555555555556,
              "#d8576b"
             ],
             [
              0.6666666666666666,
              "#ed7953"
             ],
             [
              0.7777777777777778,
              "#fb9f3a"
             ],
             [
              0.8888888888888888,
              "#fdca26"
             ],
             [
              1,
              "#f0f921"
             ]
            ],
            "type": "histogram2dcontour"
           }
          ],
          "mesh3d": [
           {
            "colorbar": {
             "outlinewidth": 0,
             "ticks": ""
            },
            "type": "mesh3d"
           }
          ],
          "parcoords": [
           {
            "line": {
             "colorbar": {
              "outlinewidth": 0,
              "ticks": ""
             }
            },
            "type": "parcoords"
           }
          ],
          "pie": [
           {
            "automargin": true,
            "type": "pie"
           }
          ],
          "scatter": [
           {
            "marker": {
             "colorbar": {
              "outlinewidth": 0,
              "ticks": ""
             }
            },
            "type": "scatter"
           }
          ],
          "scatter3d": [
           {
            "line": {
             "colorbar": {
              "outlinewidth": 0,
              "ticks": ""
             }
            },
            "marker": {
             "colorbar": {
              "outlinewidth": 0,
              "ticks": ""
             }
            },
            "type": "scatter3d"
           }
          ],
          "scattercarpet": [
           {
            "marker": {
             "colorbar": {
              "outlinewidth": 0,
              "ticks": ""
             }
            },
            "type": "scattercarpet"
           }
          ],
          "scattergeo": [
           {
            "marker": {
             "colorbar": {
              "outlinewidth": 0,
              "ticks": ""
             }
            },
            "type": "scattergeo"
           }
          ],
          "scattergl": [
           {
            "marker": {
             "colorbar": {
              "outlinewidth": 0,
              "ticks": ""
             }
            },
            "type": "scattergl"
           }
          ],
          "scattermapbox": [
           {
            "marker": {
             "colorbar": {
              "outlinewidth": 0,
              "ticks": ""
             }
            },
            "type": "scattermapbox"
           }
          ],
          "scatterpolar": [
           {
            "marker": {
             "colorbar": {
              "outlinewidth": 0,
              "ticks": ""
             }
            },
            "type": "scatterpolar"
           }
          ],
          "scatterpolargl": [
           {
            "marker": {
             "colorbar": {
              "outlinewidth": 0,
              "ticks": ""
             }
            },
            "type": "scatterpolargl"
           }
          ],
          "scatterternary": [
           {
            "marker": {
             "colorbar": {
              "outlinewidth": 0,
              "ticks": ""
             }
            },
            "type": "scatterternary"
           }
          ],
          "surface": [
           {
            "colorbar": {
             "outlinewidth": 0,
             "ticks": ""
            },
            "colorscale": [
             [
              0,
              "#0d0887"
             ],
             [
              0.1111111111111111,
              "#46039f"
             ],
             [
              0.2222222222222222,
              "#7201a8"
             ],
             [
              0.3333333333333333,
              "#9c179e"
             ],
             [
              0.4444444444444444,
              "#bd3786"
             ],
             [
              0.5555555555555556,
              "#d8576b"
             ],
             [
              0.6666666666666666,
              "#ed7953"
             ],
             [
              0.7777777777777778,
              "#fb9f3a"
             ],
             [
              0.8888888888888888,
              "#fdca26"
             ],
             [
              1,
              "#f0f921"
             ]
            ],
            "type": "surface"
           }
          ],
          "table": [
           {
            "cells": {
             "fill": {
              "color": "#EBF0F8"
             },
             "line": {
              "color": "white"
             }
            },
            "header": {
             "fill": {
              "color": "#C8D4E3"
             },
             "line": {
              "color": "white"
             }
            },
            "type": "table"
           }
          ]
         },
         "layout": {
          "annotationdefaults": {
           "arrowcolor": "#2a3f5f",
           "arrowhead": 0,
           "arrowwidth": 1
          },
          "autotypenumbers": "strict",
          "coloraxis": {
           "colorbar": {
            "outlinewidth": 0,
            "ticks": ""
           }
          },
          "colorscale": {
           "diverging": [
            [
             0,
             "#8e0152"
            ],
            [
             0.1,
             "#c51b7d"
            ],
            [
             0.2,
             "#de77ae"
            ],
            [
             0.3,
             "#f1b6da"
            ],
            [
             0.4,
             "#fde0ef"
            ],
            [
             0.5,
             "#f7f7f7"
            ],
            [
             0.6,
             "#e6f5d0"
            ],
            [
             0.7,
             "#b8e186"
            ],
            [
             0.8,
             "#7fbc41"
            ],
            [
             0.9,
             "#4d9221"
            ],
            [
             1,
             "#276419"
            ]
           ],
           "sequential": [
            [
             0,
             "#0d0887"
            ],
            [
             0.1111111111111111,
             "#46039f"
            ],
            [
             0.2222222222222222,
             "#7201a8"
            ],
            [
             0.3333333333333333,
             "#9c179e"
            ],
            [
             0.4444444444444444,
             "#bd3786"
            ],
            [
             0.5555555555555556,
             "#d8576b"
            ],
            [
             0.6666666666666666,
             "#ed7953"
            ],
            [
             0.7777777777777778,
             "#fb9f3a"
            ],
            [
             0.8888888888888888,
             "#fdca26"
            ],
            [
             1,
             "#f0f921"
            ]
           ],
           "sequentialminus": [
            [
             0,
             "#0d0887"
            ],
            [
             0.1111111111111111,
             "#46039f"
            ],
            [
             0.2222222222222222,
             "#7201a8"
            ],
            [
             0.3333333333333333,
             "#9c179e"
            ],
            [
             0.4444444444444444,
             "#bd3786"
            ],
            [
             0.5555555555555556,
             "#d8576b"
            ],
            [
             0.6666666666666666,
             "#ed7953"
            ],
            [
             0.7777777777777778,
             "#fb9f3a"
            ],
            [
             0.8888888888888888,
             "#fdca26"
            ],
            [
             1,
             "#f0f921"
            ]
           ]
          },
          "colorway": [
           "#636efa",
           "#EF553B",
           "#00cc96",
           "#ab63fa",
           "#FFA15A",
           "#19d3f3",
           "#FF6692",
           "#B6E880",
           "#FF97FF",
           "#FECB52"
          ],
          "font": {
           "color": "#2a3f5f"
          },
          "geo": {
           "bgcolor": "white",
           "lakecolor": "white",
           "landcolor": "white",
           "showlakes": true,
           "showland": true,
           "subunitcolor": "#C8D4E3"
          },
          "hoverlabel": {
           "align": "left"
          },
          "hovermode": "closest",
          "mapbox": {
           "style": "light"
          },
          "paper_bgcolor": "white",
          "plot_bgcolor": "white",
          "polar": {
           "angularaxis": {
            "gridcolor": "#EBF0F8",
            "linecolor": "#EBF0F8",
            "ticks": ""
           },
           "bgcolor": "white",
           "radialaxis": {
            "gridcolor": "#EBF0F8",
            "linecolor": "#EBF0F8",
            "ticks": ""
           }
          },
          "scene": {
           "xaxis": {
            "backgroundcolor": "white",
            "gridcolor": "#DFE8F3",
            "gridwidth": 2,
            "linecolor": "#EBF0F8",
            "showbackground": true,
            "ticks": "",
            "zerolinecolor": "#EBF0F8"
           },
           "yaxis": {
            "backgroundcolor": "white",
            "gridcolor": "#DFE8F3",
            "gridwidth": 2,
            "linecolor": "#EBF0F8",
            "showbackground": true,
            "ticks": "",
            "zerolinecolor": "#EBF0F8"
           },
           "zaxis": {
            "backgroundcolor": "white",
            "gridcolor": "#DFE8F3",
            "gridwidth": 2,
            "linecolor": "#EBF0F8",
            "showbackground": true,
            "ticks": "",
            "zerolinecolor": "#EBF0F8"
           }
          },
          "shapedefaults": {
           "line": {
            "color": "#2a3f5f"
           }
          },
          "ternary": {
           "aaxis": {
            "gridcolor": "#DFE8F3",
            "linecolor": "#A2B1C6",
            "ticks": ""
           },
           "baxis": {
            "gridcolor": "#DFE8F3",
            "linecolor": "#A2B1C6",
            "ticks": ""
           },
           "bgcolor": "white",
           "caxis": {
            "gridcolor": "#DFE8F3",
            "linecolor": "#A2B1C6",
            "ticks": ""
           }
          },
          "title": {
           "x": 0.05
          },
          "xaxis": {
           "automargin": true,
           "gridcolor": "#EBF0F8",
           "linecolor": "#EBF0F8",
           "ticks": "",
           "title": {
            "standoff": 15
           },
           "zerolinecolor": "#EBF0F8",
           "zerolinewidth": 2
          },
          "yaxis": {
           "automargin": true,
           "gridcolor": "#EBF0F8",
           "linecolor": "#EBF0F8",
           "ticks": "",
           "title": {
            "standoff": 15
           },
           "zerolinecolor": "#EBF0F8",
           "zerolinewidth": 2
          }
         }
        },
        "title": {
         "text": "Casos - Cuba"
        },
        "xaxis": {
         "anchor": "y",
         "domain": [
          0,
          1
         ],
         "title": {
          "text": "Días"
         }
        },
        "yaxis": {
         "anchor": "x",
         "domain": [
          0,
          1
         ],
         "title": {
          "text": "Casos"
         }
        }
       }
      }
     },
     "metadata": {}
    }
   ],
   "source": [
    "fig = px.line(cuba, x=\"Date\", y=\"N\", template=chartTemplate)\n",
    "\n",
    "fig.update_layout({\"title\": 'Casos - Cuba',\n",
    "                   \"xaxis\": {\"title\":\"Días\"},\n",
    "                   \"yaxis\": {\"title\":\"Casos\"},\n",
    "                   \"showlegend\": False})\n",
    "\n",
    "fig.show()"
   ]
  },
  {
   "cell_type": "code",
   "execution_count": 287,
   "metadata": {},
   "outputs": [
    {
     "output_type": "display_data",
     "data": {
      "application/vnd.plotly.v1+json": {
       "config": {
        "plotlyServerURL": "https://plot.ly"
       },
       "data": [
        {
         "hovertemplate": "Date=%{x}<br>vel=%{y}<extra></extra>",
         "legendgroup": "",
         "line": {
          "color": "#636efa",
          "dash": "solid"
         },
         "mode": "lines",
         "name": "",
         "orientation": "v",
         "showlegend": false,
         "type": "scatter",
         "x": [
          "2020/03/11",
          "2020/03/13",
          "2020/03/16",
          "2020/03/17",
          "2020/03/18",
          "2020/03/19",
          "2020/03/20",
          "2020/03/21",
          "2020/03/22",
          "2020/03/23",
          "2020/03/24",
          "2020/03/25",
          "2020/03/26",
          "2020/03/27",
          "2020/03/28",
          "2020/03/29",
          "2020/03/30",
          "2020/03/31",
          "2020/04/01",
          "2020/04/02",
          "2020/04/03",
          "2020/04/04",
          "2020/04/05",
          "2020/04/06",
          "2020/04/07",
          "2020/04/08",
          "2020/04/09",
          "2020/04/10",
          "2020/04/11",
          "2020/04/12",
          "2020/04/13",
          "2020/04/14",
          "2020/04/15",
          "2020/04/16",
          "2020/04/17",
          "2020/04/18",
          "2020/04/19",
          "2020/04/20",
          "2020/04/21",
          "2020/04/22",
          "2020/04/23",
          "2020/04/24",
          "2020/04/25",
          "2020/04/26",
          "2020/04/27",
          "2020/04/28",
          "2020/04/29",
          "2020/04/30",
          "2020/05/01",
          "2020/05/02",
          "2020/05/03",
          "2020/05/04",
          "2020/05/05",
          "2020/05/06",
          "2020/05/07",
          "2020/05/08",
          "2020/05/09",
          "2020/05/10",
          "2020/05/11",
          "2020/05/12",
          "2020/05/13",
          "2020/05/14",
          "2020/05/15",
          "2020/05/16",
          "2020/05/17",
          "2020/05/18",
          "2020/05/19",
          "2020/05/20",
          "2020/05/21",
          "2020/05/22",
          "2020/05/23",
          "2020/05/24",
          "2020/05/25",
          "2020/05/26",
          "2020/05/27",
          "2020/05/28",
          "2020/05/29",
          "2020/05/30",
          "2020/05/31",
          "2020/06/01",
          "2020/06/02",
          "2020/06/03",
          "2020/06/04",
          "2020/06/05",
          "2020/06/06",
          "2020/06/07",
          "2020/06/08",
          "2020/06/09",
          "2020/06/10",
          "2020/06/11",
          "2020/06/12",
          "2020/06/13",
          "2020/06/14",
          "2020/06/15",
          "2020/06/16",
          "2020/06/17",
          "2020/06/18",
          "2020/06/19",
          "2020/06/20",
          "2020/06/21",
          "2020/06/22",
          "2020/06/23",
          "2020/06/24",
          "2020/06/25",
          "2020/06/26",
          "2020/06/27",
          "2020/06/28",
          "2020/06/29",
          "2020/06/30",
          "2020/07/01",
          "2020/07/02",
          "2020/07/03",
          "2020/07/04",
          "2020/07/05",
          "2020/07/06",
          "2020/07/07",
          "2020/07/08",
          "2020/07/09",
          "2020/07/10",
          "2020/07/11",
          "2020/07/12",
          "2020/07/13",
          "2020/07/14",
          "2020/07/15",
          "2020/07/16",
          "2020/07/17",
          "2020/07/18",
          "2020/07/20",
          "2020/07/21",
          "2020/07/22",
          "2020/07/23",
          "2020/07/24",
          "2020/07/25",
          "2020/07/26",
          "2020/07/27",
          "2020/07/28",
          "2020/07/29",
          "2020/07/30",
          "2020/07/31",
          "2020/08/01",
          "2020/08/02",
          "2020/08/03",
          "2020/08/04",
          "2020/08/05",
          "2020/08/06",
          "2020/08/07",
          "2020/08/08",
          "2020/08/09",
          "2020/08/10",
          "2020/08/11",
          "2020/08/12",
          "2020/08/13",
          "2020/08/14",
          "2020/08/15",
          "2020/08/16",
          "2020/08/17",
          "2020/08/18",
          "2020/08/19",
          "2020/08/20",
          "2020/08/21",
          "2020/08/22",
          "2020/08/23",
          "2020/08/24",
          "2020/08/25",
          "2020/08/26",
          "2020/08/27",
          "2020/08/28",
          "2020/08/29",
          "2020/08/30",
          "2020/08/31",
          "2020/09/01",
          "2020/09/02",
          "2020/09/03",
          "2020/09/04",
          "2020/09/05",
          "2020/09/06",
          "2020/09/07",
          "2020/09/08",
          "2020/09/09",
          "2020/09/10",
          "2020/09/11",
          "2020/09/12",
          "2020/09/13",
          "2020/09/14",
          "2020/09/15",
          "2020/09/16",
          "2020/09/17",
          "2020/09/18",
          "2020/09/19",
          "2020/09/20",
          "2020/09/21",
          "2020/09/22",
          "2020/09/23",
          "2020/09/24",
          "2020/09/25",
          "2020/09/26",
          "2020/09/27",
          "2020/09/28",
          "2020/09/29",
          "2020/09/30",
          "2020/10/01",
          "2020/10/02",
          "2020/10/03",
          "2020/10/04",
          "2020/10/05",
          "2020/10/06",
          "2020/10/07",
          "2020/10/08",
          "2020/10/09",
          "2020/10/10",
          "2020/10/11",
          "2020/10/12",
          "2020/10/13",
          "2020/10/14",
          "2020/10/15",
          "2020/10/16",
          "2020/10/17",
          "2020/10/18",
          "2020/10/19",
          "2020/10/20",
          "2020/10/21",
          "2020/10/22",
          "2020/10/23",
          "2020/10/24",
          "2020/10/25",
          "2020/10/26",
          "2020/10/27",
          "2020/10/28",
          "2020/10/29",
          "2020/10/30",
          "2020/10/31",
          "2020/11/01",
          "2020/11/02",
          "2020/11/03",
          "2020/11/04",
          "2020/11/05",
          "2020/11/06",
          "2020/11/07",
          "2020/11/08",
          "2020/11/09",
          "2020/11/10",
          "2020/11/11",
          "2020/11/12",
          "2020/11/13",
          "2020/11/14",
          "2020/11/15",
          "2020/11/16",
          "2020/11/17",
          "2020/11/18",
          "2020/11/19",
          "2020/11/20",
          "2020/11/21",
          "2020/11/22",
          "2020/11/23",
          "2020/11/24",
          "2020/11/25",
          "2020/11/26",
          "2020/11/27",
          "2020/11/28",
          "2020/11/29",
          "2020/11/30",
          "2020/12/01",
          "2020/12/02",
          "2020/12/03",
          "2020/12/04",
          "2020/12/05",
          "2020/12/06",
          "2020/12/07",
          "2020/12/08",
          "2020/12/09",
          "2020/12/10",
          "2020/12/11",
          "2020/12/12",
          "2020/12/13",
          "2020/12/14",
          "2020/12/15",
          "2020/12/16",
          "2020/12/17",
          "2020/12/18",
          "2020/12/19",
          "2020/12/20",
          "2020/12/21",
          "2020/12/22",
          "2020/12/23",
          "2020/12/24",
          "2020/12/25",
          "2020/12/26",
          "2020/12/27",
          "2020/12/28",
          "2020/12/29",
          "2020/12/30",
          "2020/12/31",
          "2021/01/01",
          "2021/01/02",
          "2021/01/03",
          "2021/01/04",
          "2021/01/05",
          "2021/01/06",
          "2021/01/07",
          "2021/01/08",
          "2021/01/09",
          "2021/01/10",
          "2021/01/11",
          "2021/01/12",
          "2021/01/13",
          "2021/01/14",
          "2021/01/15",
          "2021/01/16",
          "2021/01/17",
          "2021/01/18",
          "2021/01/19",
          "2021/01/20",
          "2021/01/21",
          "2021/01/22",
          "2021/01/23",
          "2021/01/24",
          "2021/01/25",
          "2021/01/26",
          "2021/01/27",
          "2021/01/28",
          "2021/01/29",
          "2021/01/30",
          "2021/01/31",
          "2021/02/01",
          "2021/02/02",
          "2021/02/03",
          "2021/02/04",
          "2021/02/05",
          "2021/02/06",
          "2021/02/07",
          "2021/02/08",
          "2021/02/09",
          "2021/02/10",
          "2021/02/11",
          "2021/02/12",
          "2021/02/13",
          "2021/02/14",
          "2021/02/15",
          "2021/02/16",
          "2021/02/17",
          "2021/02/18",
          "2021/02/19",
          "2021/02/20",
          "2021/02/21",
          "2021/02/22",
          "2021/02/23",
          "2021/02/24",
          "2021/02/25",
          "2021/02/26",
          "2021/02/27",
          "2021/02/28",
          "2021/03/01",
          "2021/03/02",
          "2021/03/03",
          "2021/03/04",
          "2021/03/05",
          "2021/03/06",
          "2021/03/07",
          "2021/03/08",
          "2021/03/09",
          "2021/03/10",
          "2021/03/11",
          "2021/03/12",
          "2021/03/13",
          "2021/03/14",
          "2021/03/15",
          "2021/03/16",
          "2021/03/17",
          "2021/03/18",
          "2021/03/19",
          "2021/03/20",
          "2021/03/21",
          "2021/03/22",
          "2021/03/23",
          "2021/03/24",
          "2021/03/25",
          "2021/03/26",
          "2021/03/27",
          "2021/03/28",
          "2021/03/29",
          "2021/03/30",
          "2021/03/31",
          "2021/04/01",
          "2021/04/02",
          "2021/04/03",
          "2021/04/04",
          "2021/04/05",
          "2021/04/06",
          "2021/04/07",
          "2021/04/08",
          "2021/04/09",
          "2021/04/10",
          "2021/04/11",
          "2021/04/12",
          "2021/04/13",
          "2021/04/14",
          "2021/04/15",
          "2021/04/16",
          "2021/04/17",
          "2021/04/18",
          "2021/04/19",
          "2021/04/20",
          "2021/04/21",
          "2021/04/22",
          "2021/04/23",
          "2021/04/24",
          "2021/04/25",
          "2021/04/26",
          "2021/04/27",
          "2021/04/28",
          "2021/04/29",
          "2021/04/30",
          "2021/05/01",
          "2021/05/02",
          "2021/05/03",
          "2021/05/04",
          "2021/05/05",
          "2021/05/06",
          "2021/05/07",
          "2021/05/08",
          "2021/05/09",
          "2021/05/10",
          "2021/05/11",
          "2021/05/12",
          "2021/05/13",
          "2021/05/14",
          "2021/05/15",
          "2021/05/16",
          "2021/05/17",
          "2021/05/18",
          "2021/05/19",
          "2021/05/20",
          "2021/05/21",
          "2021/05/22",
          "2021/05/23",
          "2021/05/24",
          "2021/05/25",
          "2021/05/26",
          "2021/05/27",
          "2021/05/28",
          "2021/05/29",
          "2021/05/30",
          "2021/05/31",
          "2021/06/01",
          "2021/06/02",
          "2021/06/03",
          "2021/06/04",
          "2021/06/05",
          "2021/06/06",
          "2021/06/07",
          "2021/06/08",
          "2021/06/09",
          "2021/06/10",
          "2021/06/11",
          "2021/06/12",
          "2021/06/13",
          "2021/06/14",
          "2021/06/15",
          "2021/06/16",
          "2021/06/17",
          "2021/06/18",
          "2021/06/19",
          "2021/06/20",
          "2021/06/21",
          "2021/06/22",
          "2021/06/23",
          "2021/06/24",
          "2021/06/25",
          "2021/06/26",
          "2021/06/27",
          "2021/06/28",
          "2021/06/29",
          "2021/06/30",
          "2021/07/01",
          "2021/07/02",
          "2021/07/03",
          "2021/07/04"
         ],
         "xaxis": "x",
         "y": [
          null,
          -2,
          0,
          1,
          2,
          1,
          4,
          1,
          -5,
          3,
          1,
          1,
          3,
          26,
          -19,
          11,
          -15,
          10,
          -5,
          15,
          -17,
          13,
          -2,
          16,
          15,
          -3,
          -9,
          7,
          -7,
          8,
          -17,
          8,
          0,
          13,
          2,
          -14,
          3,
          -2,
          2,
          -6,
          4,
          2,
          -20,
          -12,
          28,
          -18,
          4,
          2,
          38,
          -36,
          -19,
          -2,
          1,
          8,
          -14,
          1,
          -1,
          5,
          4,
          -15,
          14,
          -10,
          12,
          -12,
          -1,
          -3,
          7,
          -5,
          0,
          7,
          -5,
          -4,
          10,
          -5,
          -2,
          13,
          -2,
          0,
          18,
          -29,
          6,
          -3,
          2,
          26,
          -22,
          -9,
          -4,
          1,
          2,
          6,
          -9,
          5,
          4,
          -3,
          -4,
          8,
          -5,
          -6,
          -1,
          0,
          0,
          -2,
          1,
          2,
          1,
          -3,
          6,
          -7,
          6,
          -2,
          3,
          0,
          -5,
          5,
          7,
          -11,
          0,
          6,
          -3,
          -1,
          -4,
          2,
          2,
          -4,
          2,
          -3,
          0,
          2,
          10,
          -9,
          -1,
          6,
          8,
          20,
          -14,
          10,
          -24,
          2,
          14,
          -12,
          11,
          7,
          -6,
          24,
          5,
          5,
          6,
          28,
          -46,
          -12,
          10,
          11,
          7,
          -39,
          24,
          -4,
          30,
          9,
          -66,
          18,
          30,
          -30,
          -8,
          -12,
          32,
          13,
          -1,
          -11,
          11,
          -26,
          28,
          27,
          -36,
          -20,
          -21,
          32,
          -18,
          57,
          10,
          -50,
          18,
          -29,
          11,
          35,
          -4,
          -16,
          14,
          -20,
          -15,
          14,
          31,
          -33,
          -8,
          0,
          22,
          -17,
          -19,
          22,
          18,
          7,
          -25,
          14,
          -33,
          7,
          2,
          -23,
          4,
          7,
          -21,
          25,
          -8,
          -5,
          1,
          9,
          29,
          -4,
          -2,
          -12,
          9,
          16,
          -10,
          5,
          -3,
          -23,
          -3,
          54,
          -34,
          -10,
          -4,
          51,
          -38,
          -13,
          30,
          44,
          -69,
          4,
          -5,
          -9,
          22,
          -9,
          -6,
          21,
          -4,
          -27,
          -5,
          27,
          -21,
          9,
          -16,
          17,
          -3,
          13,
          -15,
          38,
          5,
          -27,
          -14,
          28,
          -3,
          -9,
          46,
          -22,
          0,
          4,
          25,
          -36,
          56,
          -48,
          48,
          -49,
          11,
          1,
          -18,
          0,
          27,
          -13,
          17,
          22,
          9,
          -28,
          12,
          27,
          -26,
          101,
          -34,
          -45,
          29,
          62,
          -62,
          -81,
          90,
          17,
          -24,
          30,
          117,
          -92,
          -23,
          113,
          30,
          21,
          23,
          43,
          56,
          63,
          -45,
          42,
          -142,
          245,
          -358,
          38,
          19,
          59,
          122,
          37,
          67,
          -67,
          219,
          39,
          -159,
          -7,
          251,
          102,
          -106,
          138,
          -151,
          -77,
          29,
          -24,
          -1,
          -167,
          -73,
          278,
          -8,
          -27,
          65,
          -82,
          -91,
          222,
          -113,
          99,
          -64,
          78,
          102,
          -201,
          -2,
          -137,
          -29,
          205,
          -155,
          -102,
          193,
          186,
          -83,
          -107,
          -30,
          -27,
          108,
          15,
          168,
          -269,
          6,
          -16,
          -123,
          275,
          -180,
          58,
          -65,
          -38,
          46,
          78,
          -17,
          -78,
          56,
          -38,
          80,
          16,
          118,
          -31,
          -218,
          307,
          43,
          -38,
          64,
          -48,
          133,
          -96,
          -36,
          -69,
          -47,
          103,
          23,
          -81,
          -105,
          206,
          -101,
          45,
          36,
          -14,
          11,
          23,
          123,
          -177,
          201,
          34,
          -131,
          75,
          -247,
          145,
          -95,
          161,
          -103,
          -131,
          156,
          -139,
          87,
          -9,
          50,
          102,
          -126,
          33,
          47,
          -45,
          136,
          -21,
          91,
          106,
          -150,
          -176,
          187,
          95,
          -87,
          -55,
          92,
          -68,
          -66,
          136,
          -162,
          -27,
          67,
          19,
          -109,
          21,
          -43,
          134,
          -138,
          76,
          6,
          -48,
          98,
          -29,
          5,
          -3,
          130,
          84,
          98,
          -121,
          188,
          -134,
          15,
          63,
          -9,
          -36,
          125,
          -72,
          566,
          -175,
          584,
          -61,
          295,
          -109,
          491,
          -110,
          -18,
          356,
          167,
          44,
          -444
         ],
         "yaxis": "y"
        }
       ],
       "layout": {
        "legend": {
         "tracegroupgap": 0
        },
        "margin": {
         "t": 60
        },
        "showlegend": false,
        "template": {
         "data": {
          "bar": [
           {
            "error_x": {
             "color": "#2a3f5f"
            },
            "error_y": {
             "color": "#2a3f5f"
            },
            "marker": {
             "line": {
              "color": "white",
              "width": 0.5
             }
            },
            "type": "bar"
           }
          ],
          "barpolar": [
           {
            "marker": {
             "line": {
              "color": "white",
              "width": 0.5
             }
            },
            "type": "barpolar"
           }
          ],
          "carpet": [
           {
            "aaxis": {
             "endlinecolor": "#2a3f5f",
             "gridcolor": "#C8D4E3",
             "linecolor": "#C8D4E3",
             "minorgridcolor": "#C8D4E3",
             "startlinecolor": "#2a3f5f"
            },
            "baxis": {
             "endlinecolor": "#2a3f5f",
             "gridcolor": "#C8D4E3",
             "linecolor": "#C8D4E3",
             "minorgridcolor": "#C8D4E3",
             "startlinecolor": "#2a3f5f"
            },
            "type": "carpet"
           }
          ],
          "choropleth": [
           {
            "colorbar": {
             "outlinewidth": 0,
             "ticks": ""
            },
            "type": "choropleth"
           }
          ],
          "contour": [
           {
            "colorbar": {
             "outlinewidth": 0,
             "ticks": ""
            },
            "colorscale": [
             [
              0,
              "#0d0887"
             ],
             [
              0.1111111111111111,
              "#46039f"
             ],
             [
              0.2222222222222222,
              "#7201a8"
             ],
             [
              0.3333333333333333,
              "#9c179e"
             ],
             [
              0.4444444444444444,
              "#bd3786"
             ],
             [
              0.5555555555555556,
              "#d8576b"
             ],
             [
              0.6666666666666666,
              "#ed7953"
             ],
             [
              0.7777777777777778,
              "#fb9f3a"
             ],
             [
              0.8888888888888888,
              "#fdca26"
             ],
             [
              1,
              "#f0f921"
             ]
            ],
            "type": "contour"
           }
          ],
          "contourcarpet": [
           {
            "colorbar": {
             "outlinewidth": 0,
             "ticks": ""
            },
            "type": "contourcarpet"
           }
          ],
          "heatmap": [
           {
            "colorbar": {
             "outlinewidth": 0,
             "ticks": ""
            },
            "colorscale": [
             [
              0,
              "#0d0887"
             ],
             [
              0.1111111111111111,
              "#46039f"
             ],
             [
              0.2222222222222222,
              "#7201a8"
             ],
             [
              0.3333333333333333,
              "#9c179e"
             ],
             [
              0.4444444444444444,
              "#bd3786"
             ],
             [
              0.5555555555555556,
              "#d8576b"
             ],
             [
              0.6666666666666666,
              "#ed7953"
             ],
             [
              0.7777777777777778,
              "#fb9f3a"
             ],
             [
              0.8888888888888888,
              "#fdca26"
             ],
             [
              1,
              "#f0f921"
             ]
            ],
            "type": "heatmap"
           }
          ],
          "heatmapgl": [
           {
            "colorbar": {
             "outlinewidth": 0,
             "ticks": ""
            },
            "colorscale": [
             [
              0,
              "#0d0887"
             ],
             [
              0.1111111111111111,
              "#46039f"
             ],
             [
              0.2222222222222222,
              "#7201a8"
             ],
             [
              0.3333333333333333,
              "#9c179e"
             ],
             [
              0.4444444444444444,
              "#bd3786"
             ],
             [
              0.5555555555555556,
              "#d8576b"
             ],
             [
              0.6666666666666666,
              "#ed7953"
             ],
             [
              0.7777777777777778,
              "#fb9f3a"
             ],
             [
              0.8888888888888888,
              "#fdca26"
             ],
             [
              1,
              "#f0f921"
             ]
            ],
            "type": "heatmapgl"
           }
          ],
          "histogram": [
           {
            "marker": {
             "colorbar": {
              "outlinewidth": 0,
              "ticks": ""
             }
            },
            "type": "histogram"
           }
          ],
          "histogram2d": [
           {
            "colorbar": {
             "outlinewidth": 0,
             "ticks": ""
            },
            "colorscale": [
             [
              0,
              "#0d0887"
             ],
             [
              0.1111111111111111,
              "#46039f"
             ],
             [
              0.2222222222222222,
              "#7201a8"
             ],
             [
              0.3333333333333333,
              "#9c179e"
             ],
             [
              0.4444444444444444,
              "#bd3786"
             ],
             [
              0.5555555555555556,
              "#d8576b"
             ],
             [
              0.6666666666666666,
              "#ed7953"
             ],
             [
              0.7777777777777778,
              "#fb9f3a"
             ],
             [
              0.8888888888888888,
              "#fdca26"
             ],
             [
              1,
              "#f0f921"
             ]
            ],
            "type": "histogram2d"
           }
          ],
          "histogram2dcontour": [
           {
            "colorbar": {
             "outlinewidth": 0,
             "ticks": ""
            },
            "colorscale": [
             [
              0,
              "#0d0887"
             ],
             [
              0.1111111111111111,
              "#46039f"
             ],
             [
              0.2222222222222222,
              "#7201a8"
             ],
             [
              0.3333333333333333,
              "#9c179e"
             ],
             [
              0.4444444444444444,
              "#bd3786"
             ],
             [
              0.5555555555555556,
              "#d8576b"
             ],
             [
              0.6666666666666666,
              "#ed7953"
             ],
             [
              0.7777777777777778,
              "#fb9f3a"
             ],
             [
              0.8888888888888888,
              "#fdca26"
             ],
             [
              1,
              "#f0f921"
             ]
            ],
            "type": "histogram2dcontour"
           }
          ],
          "mesh3d": [
           {
            "colorbar": {
             "outlinewidth": 0,
             "ticks": ""
            },
            "type": "mesh3d"
           }
          ],
          "parcoords": [
           {
            "line": {
             "colorbar": {
              "outlinewidth": 0,
              "ticks": ""
             }
            },
            "type": "parcoords"
           }
          ],
          "pie": [
           {
            "automargin": true,
            "type": "pie"
           }
          ],
          "scatter": [
           {
            "marker": {
             "colorbar": {
              "outlinewidth": 0,
              "ticks": ""
             }
            },
            "type": "scatter"
           }
          ],
          "scatter3d": [
           {
            "line": {
             "colorbar": {
              "outlinewidth": 0,
              "ticks": ""
             }
            },
            "marker": {
             "colorbar": {
              "outlinewidth": 0,
              "ticks": ""
             }
            },
            "type": "scatter3d"
           }
          ],
          "scattercarpet": [
           {
            "marker": {
             "colorbar": {
              "outlinewidth": 0,
              "ticks": ""
             }
            },
            "type": "scattercarpet"
           }
          ],
          "scattergeo": [
           {
            "marker": {
             "colorbar": {
              "outlinewidth": 0,
              "ticks": ""
             }
            },
            "type": "scattergeo"
           }
          ],
          "scattergl": [
           {
            "marker": {
             "colorbar": {
              "outlinewidth": 0,
              "ticks": ""
             }
            },
            "type": "scattergl"
           }
          ],
          "scattermapbox": [
           {
            "marker": {
             "colorbar": {
              "outlinewidth": 0,
              "ticks": ""
             }
            },
            "type": "scattermapbox"
           }
          ],
          "scatterpolar": [
           {
            "marker": {
             "colorbar": {
              "outlinewidth": 0,
              "ticks": ""
             }
            },
            "type": "scatterpolar"
           }
          ],
          "scatterpolargl": [
           {
            "marker": {
             "colorbar": {
              "outlinewidth": 0,
              "ticks": ""
             }
            },
            "type": "scatterpolargl"
           }
          ],
          "scatterternary": [
           {
            "marker": {
             "colorbar": {
              "outlinewidth": 0,
              "ticks": ""
             }
            },
            "type": "scatterternary"
           }
          ],
          "surface": [
           {
            "colorbar": {
             "outlinewidth": 0,
             "ticks": ""
            },
            "colorscale": [
             [
              0,
              "#0d0887"
             ],
             [
              0.1111111111111111,
              "#46039f"
             ],
             [
              0.2222222222222222,
              "#7201a8"
             ],
             [
              0.3333333333333333,
              "#9c179e"
             ],
             [
              0.4444444444444444,
              "#bd3786"
             ],
             [
              0.5555555555555556,
              "#d8576b"
             ],
             [
              0.6666666666666666,
              "#ed7953"
             ],
             [
              0.7777777777777778,
              "#fb9f3a"
             ],
             [
              0.8888888888888888,
              "#fdca26"
             ],
             [
              1,
              "#f0f921"
             ]
            ],
            "type": "surface"
           }
          ],
          "table": [
           {
            "cells": {
             "fill": {
              "color": "#EBF0F8"
             },
             "line": {
              "color": "white"
             }
            },
            "header": {
             "fill": {
              "color": "#C8D4E3"
             },
             "line": {
              "color": "white"
             }
            },
            "type": "table"
           }
          ]
         },
         "layout": {
          "annotationdefaults": {
           "arrowcolor": "#2a3f5f",
           "arrowhead": 0,
           "arrowwidth": 1
          },
          "autotypenumbers": "strict",
          "coloraxis": {
           "colorbar": {
            "outlinewidth": 0,
            "ticks": ""
           }
          },
          "colorscale": {
           "diverging": [
            [
             0,
             "#8e0152"
            ],
            [
             0.1,
             "#c51b7d"
            ],
            [
             0.2,
             "#de77ae"
            ],
            [
             0.3,
             "#f1b6da"
            ],
            [
             0.4,
             "#fde0ef"
            ],
            [
             0.5,
             "#f7f7f7"
            ],
            [
             0.6,
             "#e6f5d0"
            ],
            [
             0.7,
             "#b8e186"
            ],
            [
             0.8,
             "#7fbc41"
            ],
            [
             0.9,
             "#4d9221"
            ],
            [
             1,
             "#276419"
            ]
           ],
           "sequential": [
            [
             0,
             "#0d0887"
            ],
            [
             0.1111111111111111,
             "#46039f"
            ],
            [
             0.2222222222222222,
             "#7201a8"
            ],
            [
             0.3333333333333333,
             "#9c179e"
            ],
            [
             0.4444444444444444,
             "#bd3786"
            ],
            [
             0.5555555555555556,
             "#d8576b"
            ],
            [
             0.6666666666666666,
             "#ed7953"
            ],
            [
             0.7777777777777778,
             "#fb9f3a"
            ],
            [
             0.8888888888888888,
             "#fdca26"
            ],
            [
             1,
             "#f0f921"
            ]
           ],
           "sequentialminus": [
            [
             0,
             "#0d0887"
            ],
            [
             0.1111111111111111,
             "#46039f"
            ],
            [
             0.2222222222222222,
             "#7201a8"
            ],
            [
             0.3333333333333333,
             "#9c179e"
            ],
            [
             0.4444444444444444,
             "#bd3786"
            ],
            [
             0.5555555555555556,
             "#d8576b"
            ],
            [
             0.6666666666666666,
             "#ed7953"
            ],
            [
             0.7777777777777778,
             "#fb9f3a"
            ],
            [
             0.8888888888888888,
             "#fdca26"
            ],
            [
             1,
             "#f0f921"
            ]
           ]
          },
          "colorway": [
           "#636efa",
           "#EF553B",
           "#00cc96",
           "#ab63fa",
           "#FFA15A",
           "#19d3f3",
           "#FF6692",
           "#B6E880",
           "#FF97FF",
           "#FECB52"
          ],
          "font": {
           "color": "#2a3f5f"
          },
          "geo": {
           "bgcolor": "white",
           "lakecolor": "white",
           "landcolor": "white",
           "showlakes": true,
           "showland": true,
           "subunitcolor": "#C8D4E3"
          },
          "hoverlabel": {
           "align": "left"
          },
          "hovermode": "closest",
          "mapbox": {
           "style": "light"
          },
          "paper_bgcolor": "white",
          "plot_bgcolor": "white",
          "polar": {
           "angularaxis": {
            "gridcolor": "#EBF0F8",
            "linecolor": "#EBF0F8",
            "ticks": ""
           },
           "bgcolor": "white",
           "radialaxis": {
            "gridcolor": "#EBF0F8",
            "linecolor": "#EBF0F8",
            "ticks": ""
           }
          },
          "scene": {
           "xaxis": {
            "backgroundcolor": "white",
            "gridcolor": "#DFE8F3",
            "gridwidth": 2,
            "linecolor": "#EBF0F8",
            "showbackground": true,
            "ticks": "",
            "zerolinecolor": "#EBF0F8"
           },
           "yaxis": {
            "backgroundcolor": "white",
            "gridcolor": "#DFE8F3",
            "gridwidth": 2,
            "linecolor": "#EBF0F8",
            "showbackground": true,
            "ticks": "",
            "zerolinecolor": "#EBF0F8"
           },
           "zaxis": {
            "backgroundcolor": "white",
            "gridcolor": "#DFE8F3",
            "gridwidth": 2,
            "linecolor": "#EBF0F8",
            "showbackground": true,
            "ticks": "",
            "zerolinecolor": "#EBF0F8"
           }
          },
          "shapedefaults": {
           "line": {
            "color": "#2a3f5f"
           }
          },
          "ternary": {
           "aaxis": {
            "gridcolor": "#DFE8F3",
            "linecolor": "#A2B1C6",
            "ticks": ""
           },
           "baxis": {
            "gridcolor": "#DFE8F3",
            "linecolor": "#A2B1C6",
            "ticks": ""
           },
           "bgcolor": "white",
           "caxis": {
            "gridcolor": "#DFE8F3",
            "linecolor": "#A2B1C6",
            "ticks": ""
           }
          },
          "title": {
           "x": 0.05
          },
          "xaxis": {
           "automargin": true,
           "gridcolor": "#EBF0F8",
           "linecolor": "#EBF0F8",
           "ticks": "",
           "title": {
            "standoff": 15
           },
           "zerolinecolor": "#EBF0F8",
           "zerolinewidth": 2
          },
          "yaxis": {
           "automargin": true,
           "gridcolor": "#EBF0F8",
           "linecolor": "#EBF0F8",
           "ticks": "",
           "title": {
            "standoff": 15
           },
           "zerolinecolor": "#EBF0F8",
           "zerolinewidth": 2
          }
         }
        },
        "title": {
         "text": "Velocidad - Cuba"
        },
        "xaxis": {
         "anchor": "y",
         "domain": [
          0,
          1
         ],
         "title": {
          "text": "Días"
         }
        },
        "yaxis": {
         "anchor": "x",
         "domain": [
          0,
          1
         ],
         "title": {
          "text": "Casos"
         }
        }
       }
      }
     },
     "metadata": {}
    }
   ],
   "source": [
    "fig = px.line(cuba, x=\"Date\", y=\"vel\", template=chartTemplate)\n",
    "\n",
    "fig.update_layout({\"title\": 'Velocidad - Cuba',\n",
    "                   \"xaxis\": {\"title\":\"Días\"},\n",
    "                   \"yaxis\": {\"title\":\"Casos\"},\n",
    "                   \"showlegend\": False})\n",
    "\n",
    "fig.show()"
   ]
  },
  {
   "cell_type": "code",
   "execution_count": 288,
   "metadata": {},
   "outputs": [
    {
     "output_type": "display_data",
     "data": {
      "application/vnd.plotly.v1+json": {
       "config": {
        "plotlyServerURL": "https://plot.ly"
       },
       "data": [
        {
         "hovertemplate": "Date=%{x}<br>acc=%{y}<extra></extra>",
         "legendgroup": "",
         "line": {
          "color": "#636efa",
          "dash": "solid"
         },
         "mode": "lines",
         "name": "",
         "orientation": "v",
         "showlegend": false,
         "type": "scatter",
         "x": [
          "2020/03/11",
          "2020/03/13",
          "2020/03/16",
          "2020/03/17",
          "2020/03/18",
          "2020/03/19",
          "2020/03/20",
          "2020/03/21",
          "2020/03/22",
          "2020/03/23",
          "2020/03/24",
          "2020/03/25",
          "2020/03/26",
          "2020/03/27",
          "2020/03/28",
          "2020/03/29",
          "2020/03/30",
          "2020/03/31",
          "2020/04/01",
          "2020/04/02",
          "2020/04/03",
          "2020/04/04",
          "2020/04/05",
          "2020/04/06",
          "2020/04/07",
          "2020/04/08",
          "2020/04/09",
          "2020/04/10",
          "2020/04/11",
          "2020/04/12",
          "2020/04/13",
          "2020/04/14",
          "2020/04/15",
          "2020/04/16",
          "2020/04/17",
          "2020/04/18",
          "2020/04/19",
          "2020/04/20",
          "2020/04/21",
          "2020/04/22",
          "2020/04/23",
          "2020/04/24",
          "2020/04/25",
          "2020/04/26",
          "2020/04/27",
          "2020/04/28",
          "2020/04/29",
          "2020/04/30",
          "2020/05/01",
          "2020/05/02",
          "2020/05/03",
          "2020/05/04",
          "2020/05/05",
          "2020/05/06",
          "2020/05/07",
          "2020/05/08",
          "2020/05/09",
          "2020/05/10",
          "2020/05/11",
          "2020/05/12",
          "2020/05/13",
          "2020/05/14",
          "2020/05/15",
          "2020/05/16",
          "2020/05/17",
          "2020/05/18",
          "2020/05/19",
          "2020/05/20",
          "2020/05/21",
          "2020/05/22",
          "2020/05/23",
          "2020/05/24",
          "2020/05/25",
          "2020/05/26",
          "2020/05/27",
          "2020/05/28",
          "2020/05/29",
          "2020/05/30",
          "2020/05/31",
          "2020/06/01",
          "2020/06/02",
          "2020/06/03",
          "2020/06/04",
          "2020/06/05",
          "2020/06/06",
          "2020/06/07",
          "2020/06/08",
          "2020/06/09",
          "2020/06/10",
          "2020/06/11",
          "2020/06/12",
          "2020/06/13",
          "2020/06/14",
          "2020/06/15",
          "2020/06/16",
          "2020/06/17",
          "2020/06/18",
          "2020/06/19",
          "2020/06/20",
          "2020/06/21",
          "2020/06/22",
          "2020/06/23",
          "2020/06/24",
          "2020/06/25",
          "2020/06/26",
          "2020/06/27",
          "2020/06/28",
          "2020/06/29",
          "2020/06/30",
          "2020/07/01",
          "2020/07/02",
          "2020/07/03",
          "2020/07/04",
          "2020/07/05",
          "2020/07/06",
          "2020/07/07",
          "2020/07/08",
          "2020/07/09",
          "2020/07/10",
          "2020/07/11",
          "2020/07/12",
          "2020/07/13",
          "2020/07/14",
          "2020/07/15",
          "2020/07/16",
          "2020/07/17",
          "2020/07/18",
          "2020/07/20",
          "2020/07/21",
          "2020/07/22",
          "2020/07/23",
          "2020/07/24",
          "2020/07/25",
          "2020/07/26",
          "2020/07/27",
          "2020/07/28",
          "2020/07/29",
          "2020/07/30",
          "2020/07/31",
          "2020/08/01",
          "2020/08/02",
          "2020/08/03",
          "2020/08/04",
          "2020/08/05",
          "2020/08/06",
          "2020/08/07",
          "2020/08/08",
          "2020/08/09",
          "2020/08/10",
          "2020/08/11",
          "2020/08/12",
          "2020/08/13",
          "2020/08/14",
          "2020/08/15",
          "2020/08/16",
          "2020/08/17",
          "2020/08/18",
          "2020/08/19",
          "2020/08/20",
          "2020/08/21",
          "2020/08/22",
          "2020/08/23",
          "2020/08/24",
          "2020/08/25",
          "2020/08/26",
          "2020/08/27",
          "2020/08/28",
          "2020/08/29",
          "2020/08/30",
          "2020/08/31",
          "2020/09/01",
          "2020/09/02",
          "2020/09/03",
          "2020/09/04",
          "2020/09/05",
          "2020/09/06",
          "2020/09/07",
          "2020/09/08",
          "2020/09/09",
          "2020/09/10",
          "2020/09/11",
          "2020/09/12",
          "2020/09/13",
          "2020/09/14",
          "2020/09/15",
          "2020/09/16",
          "2020/09/17",
          "2020/09/18",
          "2020/09/19",
          "2020/09/20",
          "2020/09/21",
          "2020/09/22",
          "2020/09/23",
          "2020/09/24",
          "2020/09/25",
          "2020/09/26",
          "2020/09/27",
          "2020/09/28",
          "2020/09/29",
          "2020/09/30",
          "2020/10/01",
          "2020/10/02",
          "2020/10/03",
          "2020/10/04",
          "2020/10/05",
          "2020/10/06",
          "2020/10/07",
          "2020/10/08",
          "2020/10/09",
          "2020/10/10",
          "2020/10/11",
          "2020/10/12",
          "2020/10/13",
          "2020/10/14",
          "2020/10/15",
          "2020/10/16",
          "2020/10/17",
          "2020/10/18",
          "2020/10/19",
          "2020/10/20",
          "2020/10/21",
          "2020/10/22",
          "2020/10/23",
          "2020/10/24",
          "2020/10/25",
          "2020/10/26",
          "2020/10/27",
          "2020/10/28",
          "2020/10/29",
          "2020/10/30",
          "2020/10/31",
          "2020/11/01",
          "2020/11/02",
          "2020/11/03",
          "2020/11/04",
          "2020/11/05",
          "2020/11/06",
          "2020/11/07",
          "2020/11/08",
          "2020/11/09",
          "2020/11/10",
          "2020/11/11",
          "2020/11/12",
          "2020/11/13",
          "2020/11/14",
          "2020/11/15",
          "2020/11/16",
          "2020/11/17",
          "2020/11/18",
          "2020/11/19",
          "2020/11/20",
          "2020/11/21",
          "2020/11/22",
          "2020/11/23",
          "2020/11/24",
          "2020/11/25",
          "2020/11/26",
          "2020/11/27",
          "2020/11/28",
          "2020/11/29",
          "2020/11/30",
          "2020/12/01",
          "2020/12/02",
          "2020/12/03",
          "2020/12/04",
          "2020/12/05",
          "2020/12/06",
          "2020/12/07",
          "2020/12/08",
          "2020/12/09",
          "2020/12/10",
          "2020/12/11",
          "2020/12/12",
          "2020/12/13",
          "2020/12/14",
          "2020/12/15",
          "2020/12/16",
          "2020/12/17",
          "2020/12/18",
          "2020/12/19",
          "2020/12/20",
          "2020/12/21",
          "2020/12/22",
          "2020/12/23",
          "2020/12/24",
          "2020/12/25",
          "2020/12/26",
          "2020/12/27",
          "2020/12/28",
          "2020/12/29",
          "2020/12/30",
          "2020/12/31",
          "2021/01/01",
          "2021/01/02",
          "2021/01/03",
          "2021/01/04",
          "2021/01/05",
          "2021/01/06",
          "2021/01/07",
          "2021/01/08",
          "2021/01/09",
          "2021/01/10",
          "2021/01/11",
          "2021/01/12",
          "2021/01/13",
          "2021/01/14",
          "2021/01/15",
          "2021/01/16",
          "2021/01/17",
          "2021/01/18",
          "2021/01/19",
          "2021/01/20",
          "2021/01/21",
          "2021/01/22",
          "2021/01/23",
          "2021/01/24",
          "2021/01/25",
          "2021/01/26",
          "2021/01/27",
          "2021/01/28",
          "2021/01/29",
          "2021/01/30",
          "2021/01/31",
          "2021/02/01",
          "2021/02/02",
          "2021/02/03",
          "2021/02/04",
          "2021/02/05",
          "2021/02/06",
          "2021/02/07",
          "2021/02/08",
          "2021/02/09",
          "2021/02/10",
          "2021/02/11",
          "2021/02/12",
          "2021/02/13",
          "2021/02/14",
          "2021/02/15",
          "2021/02/16",
          "2021/02/17",
          "2021/02/18",
          "2021/02/19",
          "2021/02/20",
          "2021/02/21",
          "2021/02/22",
          "2021/02/23",
          "2021/02/24",
          "2021/02/25",
          "2021/02/26",
          "2021/02/27",
          "2021/02/28",
          "2021/03/01",
          "2021/03/02",
          "2021/03/03",
          "2021/03/04",
          "2021/03/05",
          "2021/03/06",
          "2021/03/07",
          "2021/03/08",
          "2021/03/09",
          "2021/03/10",
          "2021/03/11",
          "2021/03/12",
          "2021/03/13",
          "2021/03/14",
          "2021/03/15",
          "2021/03/16",
          "2021/03/17",
          "2021/03/18",
          "2021/03/19",
          "2021/03/20",
          "2021/03/21",
          "2021/03/22",
          "2021/03/23",
          "2021/03/24",
          "2021/03/25",
          "2021/03/26",
          "2021/03/27",
          "2021/03/28",
          "2021/03/29",
          "2021/03/30",
          "2021/03/31",
          "2021/04/01",
          "2021/04/02",
          "2021/04/03",
          "2021/04/04",
          "2021/04/05",
          "2021/04/06",
          "2021/04/07",
          "2021/04/08",
          "2021/04/09",
          "2021/04/10",
          "2021/04/11",
          "2021/04/12",
          "2021/04/13",
          "2021/04/14",
          "2021/04/15",
          "2021/04/16",
          "2021/04/17",
          "2021/04/18",
          "2021/04/19",
          "2021/04/20",
          "2021/04/21",
          "2021/04/22",
          "2021/04/23",
          "2021/04/24",
          "2021/04/25",
          "2021/04/26",
          "2021/04/27",
          "2021/04/28",
          "2021/04/29",
          "2021/04/30",
          "2021/05/01",
          "2021/05/02",
          "2021/05/03",
          "2021/05/04",
          "2021/05/05",
          "2021/05/06",
          "2021/05/07",
          "2021/05/08",
          "2021/05/09",
          "2021/05/10",
          "2021/05/11",
          "2021/05/12",
          "2021/05/13",
          "2021/05/14",
          "2021/05/15",
          "2021/05/16",
          "2021/05/17",
          "2021/05/18",
          "2021/05/19",
          "2021/05/20",
          "2021/05/21",
          "2021/05/22",
          "2021/05/23",
          "2021/05/24",
          "2021/05/25",
          "2021/05/26",
          "2021/05/27",
          "2021/05/28",
          "2021/05/29",
          "2021/05/30",
          "2021/05/31",
          "2021/06/01",
          "2021/06/02",
          "2021/06/03",
          "2021/06/04",
          "2021/06/05",
          "2021/06/06",
          "2021/06/07",
          "2021/06/08",
          "2021/06/09",
          "2021/06/10",
          "2021/06/11",
          "2021/06/12",
          "2021/06/13",
          "2021/06/14",
          "2021/06/15",
          "2021/06/16",
          "2021/06/17",
          "2021/06/18",
          "2021/06/19",
          "2021/06/20",
          "2021/06/21",
          "2021/06/22",
          "2021/06/23",
          "2021/06/24",
          "2021/06/25",
          "2021/06/26",
          "2021/06/27",
          "2021/06/28",
          "2021/06/29",
          "2021/06/30",
          "2021/07/01",
          "2021/07/02",
          "2021/07/03",
          "2021/07/04"
         ],
         "xaxis": "x",
         "y": [
          null,
          null,
          2,
          1,
          1,
          -1,
          3,
          -3,
          -6,
          8,
          -2,
          0,
          2,
          23,
          -45,
          30,
          -26,
          25,
          -15,
          20,
          -32,
          30,
          -15,
          18,
          -1,
          -18,
          -6,
          16,
          -14,
          15,
          -25,
          25,
          -8,
          13,
          -11,
          -16,
          17,
          -5,
          4,
          -8,
          10,
          -2,
          -22,
          8,
          40,
          -46,
          22,
          -2,
          36,
          -74,
          17,
          17,
          3,
          7,
          -22,
          15,
          -2,
          6,
          -1,
          -19,
          29,
          -24,
          22,
          -24,
          11,
          -2,
          10,
          -12,
          5,
          7,
          -12,
          1,
          14,
          -15,
          3,
          15,
          -15,
          2,
          18,
          -47,
          35,
          -9,
          5,
          24,
          -48,
          13,
          5,
          5,
          1,
          4,
          -15,
          14,
          -1,
          -7,
          -1,
          12,
          -13,
          -1,
          5,
          1,
          0,
          -2,
          3,
          1,
          -1,
          -4,
          9,
          -13,
          13,
          -8,
          5,
          -3,
          -5,
          10,
          2,
          -18,
          11,
          6,
          -9,
          2,
          -3,
          6,
          0,
          -6,
          6,
          -5,
          3,
          2,
          8,
          -19,
          8,
          7,
          2,
          12,
          -34,
          24,
          -34,
          26,
          12,
          -26,
          23,
          -4,
          -13,
          30,
          -19,
          0,
          1,
          22,
          -74,
          34,
          22,
          1,
          -4,
          -46,
          63,
          -28,
          34,
          -21,
          -75,
          84,
          12,
          -60,
          22,
          -4,
          44,
          -19,
          -14,
          -10,
          22,
          -37,
          54,
          -1,
          -63,
          16,
          -1,
          53,
          -50,
          75,
          -47,
          -60,
          68,
          -47,
          40,
          24,
          -39,
          -12,
          30,
          -34,
          5,
          29,
          17,
          -64,
          25,
          8,
          22,
          -39,
          -2,
          41,
          -4,
          -11,
          -32,
          39,
          -47,
          40,
          -5,
          -25,
          27,
          3,
          -28,
          46,
          -33,
          3,
          6,
          8,
          20,
          -33,
          2,
          -10,
          21,
          7,
          -26,
          15,
          -8,
          -20,
          20,
          57,
          -88,
          24,
          6,
          55,
          -89,
          25,
          43,
          14,
          -113,
          73,
          -9,
          -4,
          31,
          -31,
          3,
          27,
          -25,
          -23,
          22,
          32,
          -48,
          30,
          -25,
          33,
          -20,
          16,
          -28,
          53,
          -33,
          -32,
          13,
          42,
          -31,
          -6,
          55,
          -68,
          22,
          4,
          21,
          -61,
          92,
          -104,
          96,
          -97,
          60,
          -10,
          -19,
          18,
          27,
          -40,
          30,
          5,
          -13,
          -37,
          40,
          15,
          -53,
          127,
          -135,
          -11,
          74,
          33,
          -124,
          -19,
          171,
          -73,
          -41,
          54,
          87,
          -209,
          69,
          136,
          -83,
          -9,
          2,
          20,
          13,
          7,
          -108,
          87,
          -184,
          387,
          -603,
          396,
          -19,
          40,
          63,
          -85,
          30,
          -134,
          286,
          -180,
          -198,
          152,
          258,
          -149,
          -208,
          244,
          -289,
          74,
          106,
          -53,
          23,
          -166,
          94,
          351,
          -286,
          -19,
          92,
          -147,
          -9,
          313,
          -335,
          212,
          -163,
          142,
          24,
          -303,
          199,
          -135,
          108,
          234,
          -360,
          53,
          295,
          -7,
          -269,
          -24,
          77,
          3,
          135,
          -93,
          153,
          -437,
          275,
          -22,
          -107,
          398,
          -455,
          238,
          -123,
          27,
          84,
          32,
          -95,
          -61,
          134,
          -94,
          118,
          -64,
          102,
          -149,
          -187,
          525,
          -264,
          -81,
          102,
          -112,
          181,
          -229,
          60,
          -33,
          22,
          150,
          -80,
          -104,
          -24,
          311,
          -307,
          146,
          -9,
          -50,
          25,
          12,
          100,
          -300,
          378,
          -167,
          -165,
          206,
          -322,
          392,
          -240,
          256,
          -264,
          -28,
          287,
          -295,
          226,
          -96,
          59,
          52,
          -228,
          159,
          14,
          -92,
          181,
          -157,
          112,
          15,
          -256,
          -26,
          363,
          -92,
          -182,
          32,
          147,
          -160,
          2,
          202,
          -298,
          135,
          94,
          -48,
          -128,
          130,
          -64,
          177,
          -272,
          214,
          -70,
          -54,
          146,
          -127,
          34,
          -8,
          133,
          -46,
          14,
          -219,
          309,
          -322,
          149,
          48,
          -72,
          -27,
          161,
          -197,
          638,
          -741,
          759,
          -645,
          356,
          -404,
          600,
          -601,
          92,
          374,
          -189,
          -123,
          -488
         ],
         "yaxis": "y"
        }
       ],
       "layout": {
        "legend": {
         "tracegroupgap": 0
        },
        "margin": {
         "t": 60
        },
        "showlegend": false,
        "template": {
         "data": {
          "bar": [
           {
            "error_x": {
             "color": "#2a3f5f"
            },
            "error_y": {
             "color": "#2a3f5f"
            },
            "marker": {
             "line": {
              "color": "white",
              "width": 0.5
             }
            },
            "type": "bar"
           }
          ],
          "barpolar": [
           {
            "marker": {
             "line": {
              "color": "white",
              "width": 0.5
             }
            },
            "type": "barpolar"
           }
          ],
          "carpet": [
           {
            "aaxis": {
             "endlinecolor": "#2a3f5f",
             "gridcolor": "#C8D4E3",
             "linecolor": "#C8D4E3",
             "minorgridcolor": "#C8D4E3",
             "startlinecolor": "#2a3f5f"
            },
            "baxis": {
             "endlinecolor": "#2a3f5f",
             "gridcolor": "#C8D4E3",
             "linecolor": "#C8D4E3",
             "minorgridcolor": "#C8D4E3",
             "startlinecolor": "#2a3f5f"
            },
            "type": "carpet"
           }
          ],
          "choropleth": [
           {
            "colorbar": {
             "outlinewidth": 0,
             "ticks": ""
            },
            "type": "choropleth"
           }
          ],
          "contour": [
           {
            "colorbar": {
             "outlinewidth": 0,
             "ticks": ""
            },
            "colorscale": [
             [
              0,
              "#0d0887"
             ],
             [
              0.1111111111111111,
              "#46039f"
             ],
             [
              0.2222222222222222,
              "#7201a8"
             ],
             [
              0.3333333333333333,
              "#9c179e"
             ],
             [
              0.4444444444444444,
              "#bd3786"
             ],
             [
              0.5555555555555556,
              "#d8576b"
             ],
             [
              0.6666666666666666,
              "#ed7953"
             ],
             [
              0.7777777777777778,
              "#fb9f3a"
             ],
             [
              0.8888888888888888,
              "#fdca26"
             ],
             [
              1,
              "#f0f921"
             ]
            ],
            "type": "contour"
           }
          ],
          "contourcarpet": [
           {
            "colorbar": {
             "outlinewidth": 0,
             "ticks": ""
            },
            "type": "contourcarpet"
           }
          ],
          "heatmap": [
           {
            "colorbar": {
             "outlinewidth": 0,
             "ticks": ""
            },
            "colorscale": [
             [
              0,
              "#0d0887"
             ],
             [
              0.1111111111111111,
              "#46039f"
             ],
             [
              0.2222222222222222,
              "#7201a8"
             ],
             [
              0.3333333333333333,
              "#9c179e"
             ],
             [
              0.4444444444444444,
              "#bd3786"
             ],
             [
              0.5555555555555556,
              "#d8576b"
             ],
             [
              0.6666666666666666,
              "#ed7953"
             ],
             [
              0.7777777777777778,
              "#fb9f3a"
             ],
             [
              0.8888888888888888,
              "#fdca26"
             ],
             [
              1,
              "#f0f921"
             ]
            ],
            "type": "heatmap"
           }
          ],
          "heatmapgl": [
           {
            "colorbar": {
             "outlinewidth": 0,
             "ticks": ""
            },
            "colorscale": [
             [
              0,
              "#0d0887"
             ],
             [
              0.1111111111111111,
              "#46039f"
             ],
             [
              0.2222222222222222,
              "#7201a8"
             ],
             [
              0.3333333333333333,
              "#9c179e"
             ],
             [
              0.4444444444444444,
              "#bd3786"
             ],
             [
              0.5555555555555556,
              "#d8576b"
             ],
             [
              0.6666666666666666,
              "#ed7953"
             ],
             [
              0.7777777777777778,
              "#fb9f3a"
             ],
             [
              0.8888888888888888,
              "#fdca26"
             ],
             [
              1,
              "#f0f921"
             ]
            ],
            "type": "heatmapgl"
           }
          ],
          "histogram": [
           {
            "marker": {
             "colorbar": {
              "outlinewidth": 0,
              "ticks": ""
             }
            },
            "type": "histogram"
           }
          ],
          "histogram2d": [
           {
            "colorbar": {
             "outlinewidth": 0,
             "ticks": ""
            },
            "colorscale": [
             [
              0,
              "#0d0887"
             ],
             [
              0.1111111111111111,
              "#46039f"
             ],
             [
              0.2222222222222222,
              "#7201a8"
             ],
             [
              0.3333333333333333,
              "#9c179e"
             ],
             [
              0.4444444444444444,
              "#bd3786"
             ],
             [
              0.5555555555555556,
              "#d8576b"
             ],
             [
              0.6666666666666666,
              "#ed7953"
             ],
             [
              0.7777777777777778,
              "#fb9f3a"
             ],
             [
              0.8888888888888888,
              "#fdca26"
             ],
             [
              1,
              "#f0f921"
             ]
            ],
            "type": "histogram2d"
           }
          ],
          "histogram2dcontour": [
           {
            "colorbar": {
             "outlinewidth": 0,
             "ticks": ""
            },
            "colorscale": [
             [
              0,
              "#0d0887"
             ],
             [
              0.1111111111111111,
              "#46039f"
             ],
             [
              0.2222222222222222,
              "#7201a8"
             ],
             [
              0.3333333333333333,
              "#9c179e"
             ],
             [
              0.4444444444444444,
              "#bd3786"
             ],
             [
              0.5555555555555556,
              "#d8576b"
             ],
             [
              0.6666666666666666,
              "#ed7953"
             ],
             [
              0.7777777777777778,
              "#fb9f3a"
             ],
             [
              0.8888888888888888,
              "#fdca26"
             ],
             [
              1,
              "#f0f921"
             ]
            ],
            "type": "histogram2dcontour"
           }
          ],
          "mesh3d": [
           {
            "colorbar": {
             "outlinewidth": 0,
             "ticks": ""
            },
            "type": "mesh3d"
           }
          ],
          "parcoords": [
           {
            "line": {
             "colorbar": {
              "outlinewidth": 0,
              "ticks": ""
             }
            },
            "type": "parcoords"
           }
          ],
          "pie": [
           {
            "automargin": true,
            "type": "pie"
           }
          ],
          "scatter": [
           {
            "marker": {
             "colorbar": {
              "outlinewidth": 0,
              "ticks": ""
             }
            },
            "type": "scatter"
           }
          ],
          "scatter3d": [
           {
            "line": {
             "colorbar": {
              "outlinewidth": 0,
              "ticks": ""
             }
            },
            "marker": {
             "colorbar": {
              "outlinewidth": 0,
              "ticks": ""
             }
            },
            "type": "scatter3d"
           }
          ],
          "scattercarpet": [
           {
            "marker": {
             "colorbar": {
              "outlinewidth": 0,
              "ticks": ""
             }
            },
            "type": "scattercarpet"
           }
          ],
          "scattergeo": [
           {
            "marker": {
             "colorbar": {
              "outlinewidth": 0,
              "ticks": ""
             }
            },
            "type": "scattergeo"
           }
          ],
          "scattergl": [
           {
            "marker": {
             "colorbar": {
              "outlinewidth": 0,
              "ticks": ""
             }
            },
            "type": "scattergl"
           }
          ],
          "scattermapbox": [
           {
            "marker": {
             "colorbar": {
              "outlinewidth": 0,
              "ticks": ""
             }
            },
            "type": "scattermapbox"
           }
          ],
          "scatterpolar": [
           {
            "marker": {
             "colorbar": {
              "outlinewidth": 0,
              "ticks": ""
             }
            },
            "type": "scatterpolar"
           }
          ],
          "scatterpolargl": [
           {
            "marker": {
             "colorbar": {
              "outlinewidth": 0,
              "ticks": ""
             }
            },
            "type": "scatterpolargl"
           }
          ],
          "scatterternary": [
           {
            "marker": {
             "colorbar": {
              "outlinewidth": 0,
              "ticks": ""
             }
            },
            "type": "scatterternary"
           }
          ],
          "surface": [
           {
            "colorbar": {
             "outlinewidth": 0,
             "ticks": ""
            },
            "colorscale": [
             [
              0,
              "#0d0887"
             ],
             [
              0.1111111111111111,
              "#46039f"
             ],
             [
              0.2222222222222222,
              "#7201a8"
             ],
             [
              0.3333333333333333,
              "#9c179e"
             ],
             [
              0.4444444444444444,
              "#bd3786"
             ],
             [
              0.5555555555555556,
              "#d8576b"
             ],
             [
              0.6666666666666666,
              "#ed7953"
             ],
             [
              0.7777777777777778,
              "#fb9f3a"
             ],
             [
              0.8888888888888888,
              "#fdca26"
             ],
             [
              1,
              "#f0f921"
             ]
            ],
            "type": "surface"
           }
          ],
          "table": [
           {
            "cells": {
             "fill": {
              "color": "#EBF0F8"
             },
             "line": {
              "color": "white"
             }
            },
            "header": {
             "fill": {
              "color": "#C8D4E3"
             },
             "line": {
              "color": "white"
             }
            },
            "type": "table"
           }
          ]
         },
         "layout": {
          "annotationdefaults": {
           "arrowcolor": "#2a3f5f",
           "arrowhead": 0,
           "arrowwidth": 1
          },
          "autotypenumbers": "strict",
          "coloraxis": {
           "colorbar": {
            "outlinewidth": 0,
            "ticks": ""
           }
          },
          "colorscale": {
           "diverging": [
            [
             0,
             "#8e0152"
            ],
            [
             0.1,
             "#c51b7d"
            ],
            [
             0.2,
             "#de77ae"
            ],
            [
             0.3,
             "#f1b6da"
            ],
            [
             0.4,
             "#fde0ef"
            ],
            [
             0.5,
             "#f7f7f7"
            ],
            [
             0.6,
             "#e6f5d0"
            ],
            [
             0.7,
             "#b8e186"
            ],
            [
             0.8,
             "#7fbc41"
            ],
            [
             0.9,
             "#4d9221"
            ],
            [
             1,
             "#276419"
            ]
           ],
           "sequential": [
            [
             0,
             "#0d0887"
            ],
            [
             0.1111111111111111,
             "#46039f"
            ],
            [
             0.2222222222222222,
             "#7201a8"
            ],
            [
             0.3333333333333333,
             "#9c179e"
            ],
            [
             0.4444444444444444,
             "#bd3786"
            ],
            [
             0.5555555555555556,
             "#d8576b"
            ],
            [
             0.6666666666666666,
             "#ed7953"
            ],
            [
             0.7777777777777778,
             "#fb9f3a"
            ],
            [
             0.8888888888888888,
             "#fdca26"
            ],
            [
             1,
             "#f0f921"
            ]
           ],
           "sequentialminus": [
            [
             0,
             "#0d0887"
            ],
            [
             0.1111111111111111,
             "#46039f"
            ],
            [
             0.2222222222222222,
             "#7201a8"
            ],
            [
             0.3333333333333333,
             "#9c179e"
            ],
            [
             0.4444444444444444,
             "#bd3786"
            ],
            [
             0.5555555555555556,
             "#d8576b"
            ],
            [
             0.6666666666666666,
             "#ed7953"
            ],
            [
             0.7777777777777778,
             "#fb9f3a"
            ],
            [
             0.8888888888888888,
             "#fdca26"
            ],
            [
             1,
             "#f0f921"
            ]
           ]
          },
          "colorway": [
           "#636efa",
           "#EF553B",
           "#00cc96",
           "#ab63fa",
           "#FFA15A",
           "#19d3f3",
           "#FF6692",
           "#B6E880",
           "#FF97FF",
           "#FECB52"
          ],
          "font": {
           "color": "#2a3f5f"
          },
          "geo": {
           "bgcolor": "white",
           "lakecolor": "white",
           "landcolor": "white",
           "showlakes": true,
           "showland": true,
           "subunitcolor": "#C8D4E3"
          },
          "hoverlabel": {
           "align": "left"
          },
          "hovermode": "closest",
          "mapbox": {
           "style": "light"
          },
          "paper_bgcolor": "white",
          "plot_bgcolor": "white",
          "polar": {
           "angularaxis": {
            "gridcolor": "#EBF0F8",
            "linecolor": "#EBF0F8",
            "ticks": ""
           },
           "bgcolor": "white",
           "radialaxis": {
            "gridcolor": "#EBF0F8",
            "linecolor": "#EBF0F8",
            "ticks": ""
           }
          },
          "scene": {
           "xaxis": {
            "backgroundcolor": "white",
            "gridcolor": "#DFE8F3",
            "gridwidth": 2,
            "linecolor": "#EBF0F8",
            "showbackground": true,
            "ticks": "",
            "zerolinecolor": "#EBF0F8"
           },
           "yaxis": {
            "backgroundcolor": "white",
            "gridcolor": "#DFE8F3",
            "gridwidth": 2,
            "linecolor": "#EBF0F8",
            "showbackground": true,
            "ticks": "",
            "zerolinecolor": "#EBF0F8"
           },
           "zaxis": {
            "backgroundcolor": "white",
            "gridcolor": "#DFE8F3",
            "gridwidth": 2,
            "linecolor": "#EBF0F8",
            "showbackground": true,
            "ticks": "",
            "zerolinecolor": "#EBF0F8"
           }
          },
          "shapedefaults": {
           "line": {
            "color": "#2a3f5f"
           }
          },
          "ternary": {
           "aaxis": {
            "gridcolor": "#DFE8F3",
            "linecolor": "#A2B1C6",
            "ticks": ""
           },
           "baxis": {
            "gridcolor": "#DFE8F3",
            "linecolor": "#A2B1C6",
            "ticks": ""
           },
           "bgcolor": "white",
           "caxis": {
            "gridcolor": "#DFE8F3",
            "linecolor": "#A2B1C6",
            "ticks": ""
           }
          },
          "title": {
           "x": 0.05
          },
          "xaxis": {
           "automargin": true,
           "gridcolor": "#EBF0F8",
           "linecolor": "#EBF0F8",
           "ticks": "",
           "title": {
            "standoff": 15
           },
           "zerolinecolor": "#EBF0F8",
           "zerolinewidth": 2
          },
          "yaxis": {
           "automargin": true,
           "gridcolor": "#EBF0F8",
           "linecolor": "#EBF0F8",
           "ticks": "",
           "title": {
            "standoff": 15
           },
           "zerolinecolor": "#EBF0F8",
           "zerolinewidth": 2
          }
         }
        },
        "title": {
         "text": "Aceleración de casos - Cuba"
        },
        "xaxis": {
         "anchor": "y",
         "domain": [
          0,
          1
         ],
         "title": {
          "text": "Días"
         }
        },
        "yaxis": {
         "anchor": "x",
         "domain": [
          0,
          1
         ],
         "title": {
          "text": "Casos"
         }
        }
       }
      }
     },
     "metadata": {}
    }
   ],
   "source": [
    "fig = px.line(cuba, x=\"Date\", y=\"acc\", template=chartTemplate)\n",
    "\n",
    "fig.update_layout({\"title\": 'Aceleración de casos - Cuba',\n",
    "                   \"xaxis\": {\"title\":\"Días\"},\n",
    "                   \"yaxis\": {\"title\":\"Casos\"},\n",
    "                   \"showlegend\": False})\n",
    "\n",
    "fig.show()"
   ]
  },
  {
   "cell_type": "code",
   "execution_count": 289,
   "metadata": {},
   "outputs": [
    {
     "output_type": "display_data",
     "data": {
      "application/vnd.plotly.v1+json": {
       "config": {
        "plotlyServerURL": "https://plot.ly"
       },
       "data": [
        {
         "hovertemplate": "Date=%{x}<br>accelMeans14=%{y}<extra></extra>",
         "legendgroup": "",
         "line": {
          "color": "#636efa",
          "dash": "solid"
         },
         "mode": "lines",
         "name": "",
         "orientation": "v",
         "showlegend": false,
         "type": "scatter",
         "x": [
          "2020/03/11",
          "2020/03/13",
          "2020/03/16",
          "2020/03/17",
          "2020/03/18",
          "2020/03/19",
          "2020/03/20",
          "2020/03/21",
          "2020/03/22",
          "2020/03/23",
          "2020/03/24",
          "2020/03/25",
          "2020/03/26",
          "2020/03/27",
          "2020/03/28",
          "2020/03/29",
          "2020/03/30",
          "2020/03/31",
          "2020/04/01",
          "2020/04/02",
          "2020/04/03",
          "2020/04/04",
          "2020/04/05",
          "2020/04/06",
          "2020/04/07",
          "2020/04/08",
          "2020/04/09",
          "2020/04/10",
          "2020/04/11",
          "2020/04/12",
          "2020/04/13",
          "2020/04/14",
          "2020/04/15",
          "2020/04/16",
          "2020/04/17",
          "2020/04/18",
          "2020/04/19",
          "2020/04/20",
          "2020/04/21",
          "2020/04/22",
          "2020/04/23",
          "2020/04/24",
          "2020/04/25",
          "2020/04/26",
          "2020/04/27",
          "2020/04/28",
          "2020/04/29",
          "2020/04/30",
          "2020/05/01",
          "2020/05/02",
          "2020/05/03",
          "2020/05/04",
          "2020/05/05",
          "2020/05/06",
          "2020/05/07",
          "2020/05/08",
          "2020/05/09",
          "2020/05/10",
          "2020/05/11",
          "2020/05/12",
          "2020/05/13",
          "2020/05/14",
          "2020/05/15",
          "2020/05/16",
          "2020/05/17",
          "2020/05/18",
          "2020/05/19",
          "2020/05/20",
          "2020/05/21",
          "2020/05/22",
          "2020/05/23",
          "2020/05/24",
          "2020/05/25",
          "2020/05/26",
          "2020/05/27",
          "2020/05/28",
          "2020/05/29",
          "2020/05/30",
          "2020/05/31",
          "2020/06/01",
          "2020/06/02",
          "2020/06/03",
          "2020/06/04",
          "2020/06/05",
          "2020/06/06",
          "2020/06/07",
          "2020/06/08",
          "2020/06/09",
          "2020/06/10",
          "2020/06/11",
          "2020/06/12",
          "2020/06/13",
          "2020/06/14",
          "2020/06/15",
          "2020/06/16",
          "2020/06/17",
          "2020/06/18",
          "2020/06/19",
          "2020/06/20",
          "2020/06/21",
          "2020/06/22",
          "2020/06/23",
          "2020/06/24",
          "2020/06/25",
          "2020/06/26",
          "2020/06/27",
          "2020/06/28",
          "2020/06/29",
          "2020/06/30",
          "2020/07/01",
          "2020/07/02",
          "2020/07/03",
          "2020/07/04",
          "2020/07/05",
          "2020/07/06",
          "2020/07/07",
          "2020/07/08",
          "2020/07/09",
          "2020/07/10",
          "2020/07/11",
          "2020/07/12",
          "2020/07/13",
          "2020/07/14",
          "2020/07/15",
          "2020/07/16",
          "2020/07/17",
          "2020/07/18",
          "2020/07/20",
          "2020/07/21",
          "2020/07/22",
          "2020/07/23",
          "2020/07/24",
          "2020/07/25",
          "2020/07/26",
          "2020/07/27",
          "2020/07/28",
          "2020/07/29",
          "2020/07/30",
          "2020/07/31",
          "2020/08/01",
          "2020/08/02",
          "2020/08/03",
          "2020/08/04",
          "2020/08/05",
          "2020/08/06",
          "2020/08/07",
          "2020/08/08",
          "2020/08/09",
          "2020/08/10",
          "2020/08/11",
          "2020/08/12",
          "2020/08/13",
          "2020/08/14",
          "2020/08/15",
          "2020/08/16",
          "2020/08/17",
          "2020/08/18",
          "2020/08/19",
          "2020/08/20",
          "2020/08/21",
          "2020/08/22",
          "2020/08/23",
          "2020/08/24",
          "2020/08/25",
          "2020/08/26",
          "2020/08/27",
          "2020/08/28",
          "2020/08/29",
          "2020/08/30",
          "2020/08/31",
          "2020/09/01",
          "2020/09/02",
          "2020/09/03",
          "2020/09/04",
          "2020/09/05",
          "2020/09/06",
          "2020/09/07",
          "2020/09/08",
          "2020/09/09",
          "2020/09/10",
          "2020/09/11",
          "2020/09/12",
          "2020/09/13",
          "2020/09/14",
          "2020/09/15",
          "2020/09/16",
          "2020/09/17",
          "2020/09/18",
          "2020/09/19",
          "2020/09/20",
          "2020/09/21",
          "2020/09/22",
          "2020/09/23",
          "2020/09/24",
          "2020/09/25",
          "2020/09/26",
          "2020/09/27",
          "2020/09/28",
          "2020/09/29",
          "2020/09/30",
          "2020/10/01",
          "2020/10/02",
          "2020/10/03",
          "2020/10/04",
          "2020/10/05",
          "2020/10/06",
          "2020/10/07",
          "2020/10/08",
          "2020/10/09",
          "2020/10/10",
          "2020/10/11",
          "2020/10/12",
          "2020/10/13",
          "2020/10/14",
          "2020/10/15",
          "2020/10/16",
          "2020/10/17",
          "2020/10/18",
          "2020/10/19",
          "2020/10/20",
          "2020/10/21",
          "2020/10/22",
          "2020/10/23",
          "2020/10/24",
          "2020/10/25",
          "2020/10/26",
          "2020/10/27",
          "2020/10/28",
          "2020/10/29",
          "2020/10/30",
          "2020/10/31",
          "2020/11/01",
          "2020/11/02",
          "2020/11/03",
          "2020/11/04",
          "2020/11/05",
          "2020/11/06",
          "2020/11/07",
          "2020/11/08",
          "2020/11/09",
          "2020/11/10",
          "2020/11/11",
          "2020/11/12",
          "2020/11/13",
          "2020/11/14",
          "2020/11/15",
          "2020/11/16",
          "2020/11/17",
          "2020/11/18",
          "2020/11/19",
          "2020/11/20",
          "2020/11/21",
          "2020/11/22",
          "2020/11/23",
          "2020/11/24",
          "2020/11/25",
          "2020/11/26",
          "2020/11/27",
          "2020/11/28",
          "2020/11/29",
          "2020/11/30",
          "2020/12/01",
          "2020/12/02",
          "2020/12/03",
          "2020/12/04",
          "2020/12/05",
          "2020/12/06",
          "2020/12/07",
          "2020/12/08",
          "2020/12/09",
          "2020/12/10",
          "2020/12/11",
          "2020/12/12",
          "2020/12/13",
          "2020/12/14",
          "2020/12/15",
          "2020/12/16",
          "2020/12/17",
          "2020/12/18",
          "2020/12/19",
          "2020/12/20",
          "2020/12/21",
          "2020/12/22",
          "2020/12/23",
          "2020/12/24",
          "2020/12/25",
          "2020/12/26",
          "2020/12/27",
          "2020/12/28",
          "2020/12/29",
          "2020/12/30",
          "2020/12/31",
          "2021/01/01",
          "2021/01/02",
          "2021/01/03",
          "2021/01/04",
          "2021/01/05",
          "2021/01/06",
          "2021/01/07",
          "2021/01/08",
          "2021/01/09",
          "2021/01/10",
          "2021/01/11",
          "2021/01/12",
          "2021/01/13",
          "2021/01/14",
          "2021/01/15",
          "2021/01/16",
          "2021/01/17",
          "2021/01/18",
          "2021/01/19",
          "2021/01/20",
          "2021/01/21",
          "2021/01/22",
          "2021/01/23",
          "2021/01/24",
          "2021/01/25",
          "2021/01/26",
          "2021/01/27",
          "2021/01/28",
          "2021/01/29",
          "2021/01/30",
          "2021/01/31",
          "2021/02/01",
          "2021/02/02",
          "2021/02/03",
          "2021/02/04",
          "2021/02/05",
          "2021/02/06",
          "2021/02/07",
          "2021/02/08",
          "2021/02/09",
          "2021/02/10",
          "2021/02/11",
          "2021/02/12",
          "2021/02/13",
          "2021/02/14",
          "2021/02/15",
          "2021/02/16",
          "2021/02/17",
          "2021/02/18",
          "2021/02/19",
          "2021/02/20",
          "2021/02/21",
          "2021/02/22",
          "2021/02/23",
          "2021/02/24",
          "2021/02/25",
          "2021/02/26",
          "2021/02/27",
          "2021/02/28",
          "2021/03/01",
          "2021/03/02",
          "2021/03/03",
          "2021/03/04",
          "2021/03/05",
          "2021/03/06",
          "2021/03/07",
          "2021/03/08",
          "2021/03/09",
          "2021/03/10",
          "2021/03/11",
          "2021/03/12",
          "2021/03/13",
          "2021/03/14",
          "2021/03/15",
          "2021/03/16",
          "2021/03/17",
          "2021/03/18",
          "2021/03/19",
          "2021/03/20",
          "2021/03/21",
          "2021/03/22",
          "2021/03/23",
          "2021/03/24",
          "2021/03/25",
          "2021/03/26",
          "2021/03/27",
          "2021/03/28",
          "2021/03/29",
          "2021/03/30",
          "2021/03/31",
          "2021/04/01",
          "2021/04/02",
          "2021/04/03",
          "2021/04/04",
          "2021/04/05",
          "2021/04/06",
          "2021/04/07",
          "2021/04/08",
          "2021/04/09",
          "2021/04/10",
          "2021/04/11",
          "2021/04/12",
          "2021/04/13",
          "2021/04/14",
          "2021/04/15",
          "2021/04/16",
          "2021/04/17",
          "2021/04/18",
          "2021/04/19",
          "2021/04/20",
          "2021/04/21",
          "2021/04/22",
          "2021/04/23",
          "2021/04/24",
          "2021/04/25",
          "2021/04/26",
          "2021/04/27",
          "2021/04/28",
          "2021/04/29",
          "2021/04/30",
          "2021/05/01",
          "2021/05/02",
          "2021/05/03",
          "2021/05/04",
          "2021/05/05",
          "2021/05/06",
          "2021/05/07",
          "2021/05/08",
          "2021/05/09",
          "2021/05/10",
          "2021/05/11",
          "2021/05/12",
          "2021/05/13",
          "2021/05/14",
          "2021/05/15",
          "2021/05/16",
          "2021/05/17",
          "2021/05/18",
          "2021/05/19",
          "2021/05/20",
          "2021/05/21",
          "2021/05/22",
          "2021/05/23",
          "2021/05/24",
          "2021/05/25",
          "2021/05/26",
          "2021/05/27",
          "2021/05/28",
          "2021/05/29",
          "2021/05/30",
          "2021/05/31",
          "2021/06/01",
          "2021/06/02",
          "2021/06/03",
          "2021/06/04",
          "2021/06/05",
          "2021/06/06",
          "2021/06/07",
          "2021/06/08",
          "2021/06/09",
          "2021/06/10",
          "2021/06/11",
          "2021/06/12",
          "2021/06/13",
          "2021/06/14",
          "2021/06/15",
          "2021/06/16",
          "2021/06/17",
          "2021/06/18",
          "2021/06/19",
          "2021/06/20",
          "2021/06/21",
          "2021/06/22",
          "2021/06/23",
          "2021/06/24",
          "2021/06/25",
          "2021/06/26",
          "2021/06/27",
          "2021/06/28",
          "2021/06/29",
          "2021/06/30",
          "2021/07/01",
          "2021/07/02",
          "2021/07/03",
          "2021/07/04"
         ],
         "xaxis": "x",
         "y": [
          null,
          null,
          null,
          null,
          null,
          null,
          null,
          null,
          null,
          null,
          null,
          null,
          null,
          null,
          1.2142857142857142,
          2.142857142857143,
          1.0714285714285714,
          1.7142857142857142,
          1.2142857142857142,
          2.2142857142857144,
          0.7142857142857143,
          1.5714285714285714,
          1.7857142857142858,
          2.7142857142857144,
          3.7142857142857144,
          3.4285714285714284,
          2.5714285714285716,
          1.2142857142857142,
          2.0714285714285716,
          1.8571428571428572,
          1.7142857142857142,
          1.5714285714285714,
          1.9285714285714286,
          1.7857142857142858,
          3.142857142857143,
          1.2142857142857142,
          1.5714285714285714,
          0.2857142857142857,
          -0.6428571428571429,
          -0.8571428571428571,
          0.07142857142857142,
          -0.2857142857142857,
          -1.2142857142857142,
          -2.642857142857143,
          0.5714285714285714,
          -1.2857142857142858,
          -1,
          -1.7857142857142858,
          0.7857142857142857,
          -0.7857142857142857,
          -2.357142857142857,
          -2.357142857142857,
          -2.4285714285714284,
          -1.4285714285714286,
          -2.7142857142857144,
          -2.7857142857142856,
          -1.4285714285714286,
          -0.21428571428571427,
          -1.9285714285714286,
          -1.7142857142857142,
          -1,
          -1.8571428571428572,
          -3.7142857142857144,
          -2,
          -0.7142857142857143,
          -0.7857142857142857,
          -0.35714285714285715,
          -1.2857142857142858,
          -0.2857142857142857,
          0.14285714285714285,
          -0.14285714285714285,
          -0.7857142857142857,
          -0.35714285714285715,
          0.35714285714285715,
          -0.7857142857142857,
          0.8571428571428571,
          -0.14285714285714285,
          0.7142857142857143,
          2.0714285714285716,
          0.21428571428571427,
          0.14285714285714285,
          0.2857142857142857,
          0.42857142857142855,
          1.7857142857142858,
          0.5714285714285714,
          0.21428571428571427,
          -0.7857142857142857,
          -0.35714285714285715,
          -0.07142857142857142,
          -0.5714285714285714,
          -1.0714285714285714,
          -0.7142857142857143,
          -1.7142857142857142,
          0.14285714285714285,
          -0.5714285714285714,
          0.21428571428571427,
          -0.2857142857142857,
          -2.5714285714285716,
          -1.0714285714285714,
          -0.42857142857142855,
          -0.14285714285714285,
          -0.35714285714285715,
          -0.42857142857142855,
          -0.7142857142857143,
          0,
          -0.5714285714285714,
          -0.42857142857142855,
          -0.7142857142857143,
          0,
          -0.7142857142857143,
          -0.14285714285714285,
          0.2857142857142857,
          0,
          0.35714285714285715,
          0.8571428571428571,
          0.21428571428571427,
          0.14285714285714285,
          0.42857142857142855,
          0.14285714285714285,
          0.2857142857142857,
          -0.42857142857142855,
          0.21428571428571427,
          -0.07142857142857142,
          -0.21428571428571427,
          -0.2857142857142857,
          -0.5,
          -0.14285714285714285,
          -0.35714285714285715,
          -0.14285714285714285,
          0,
          -0.07142857142857142,
          -0.07142857142857142,
          0.7142857142857143,
          2.2142857142857144,
          1.5,
          2.0714285714285716,
          0.21428571428571427,
          0.6428571428571429,
          1.5,
          0.8571428571428571,
          1.6428571428571428,
          2,
          0.8571428571428571,
          3.2142857142857144,
          3.642857142857143,
          3.5714285714285716,
          3.4285714285714284,
          4,
          1.7142857142857142,
          0.14285714285714285,
          2.5714285714285716,
          3.2142857142857144,
          2.7142857142857144,
          0.7857142857142857,
          1.7142857142857142,
          0.9285714285714286,
          3.5,
          2.4285714285714284,
          -2.642857142857143,
          -1.7142857142857142,
          0,
          -4.142857142857143,
          -1.4285714285714286,
          -1.4285714285714286,
          0.14285714285714285,
          0.2857142857142857,
          -0.2857142857142857,
          1.7142857142857142,
          0.7857142857142857,
          -0.7857142857142857,
          -0.9285714285714286,
          0.35714285714285715,
          2.5,
          -0.21428571428571427,
          -3.857142857142857,
          0.5714285714285714,
          -0.14285714285714285,
          4.785714285714286,
          3.2142857142857144,
          -1.2857142857142858,
          0.07142857142857142,
          -1.2142857142857142,
          -1.2142857142857142,
          3.142857142857143,
          0.8571428571428571,
          -2.2142857142857144,
          1.3571428571428572,
          1.3571428571428572,
          1.7857142857142858,
          0.5,
          4,
          -2.4285714285714284,
          -3.7142857142857144,
          -0.14285714285714285,
          0.14285714285714285,
          1,
          -1.1428571428571428,
          -2.0714285714285716,
          -0.5,
          1.1428571428571428,
          -1.6428571428571428,
          0.7857142857142857,
          -0.5,
          -1,
          -3.0714285714285716,
          -2.357142857142857,
          -1.5,
          -1,
          -4.071428571428571,
          -1.0714285714285714,
          -0.2857142857142857,
          -2.2142857142857144,
          -3.4285714285714284,
          -3.2857142857142856,
          0.5714285714285714,
          -0.7142857142857143,
          1.5,
          0.14285714285714285,
          0.6428571428571429,
          3.4285714285714284,
          2.4285714285714284,
          2.2857142857142856,
          3.5714285714285716,
          0.14285714285714285,
          0.5,
          4.714285714285714,
          2.2142857142857144,
          0.8571428571428571,
          -1.5,
          2.4285714285714284,
          -0.14285714285714285,
          -0.21428571428571427,
          1.2857142857142858,
          3.2857142857142856,
          -0.9285714285714286,
          -1,
          -1.1428571428571428,
          -0.14285714285714285,
          1.6428571428571428,
          -2.857142857142857,
          -0.8571428571428571,
          1.3571428571428572,
          1.3571428571428572,
          -4.214285714285714,
          -1.8571428571428572,
          1,
          -2.642857142857143,
          -5.142857142857143,
          -1.3571428571428572,
          -0.42857142857142855,
          -0.2857142857142857,
          1.2857142857142858,
          -1.3571428571428572,
          2,
          2.7857142857142856,
          -0.6428571428571429,
          -1.3571428571428572,
          2.5714285714285716,
          2.7142857142857144,
          0.14285714285714285,
          4.928571428571429,
          2.7142857142857144,
          3.857142857142857,
          2.9285714285714284,
          4.928571428571429,
          1.4285714285714286,
          6.5,
          0.35714285714285715,
          3.4285714285714284,
          1.8571428571428572,
          3.642857142857143,
          1.7142857142857142,
          0.6428571428571429,
          1.2857142857142858,
          -0.07142857142857142,
          0.5714285714285714,
          1.7857142857142858,
          3.0714285714285716,
          1.9285714285714286,
          2.5,
          -0.6428571428571429,
          4.714285714285714,
          -0.5714285714285714,
          10.142857142857142,
          6.928571428571429,
          3.642857142857143,
          7,
          11.428571428571429,
          5.071428571428571,
          0.21428571428571427,
          5.428571428571429,
          5.071428571428571,
          2.7142857142857144,
          6.857142857142857,
          14.357142857142858,
          5.857142857142857,
          6.071428571428571,
          6.928571428571429,
          11.5,
          16.214285714285715,
          15.785714285714286,
          14.428571428571429,
          22.857142857142858,
          33.142857142857146,
          23.5,
          25.285714285714285,
          16.857142857142858,
          32.214285714285715,
          -1.7142857142857142,
          7.571428571428571,
          10.571428571428571,
          6.714285714285714,
          13.285714285714286,
          14.428571428571429,
          17.571428571428573,
          9.714285714285714,
          21.357142857142858,
          19.642857142857142,
          11.5,
          8,
          36.07142857142857,
          25.857142857142858,
          43.857142857142854,
          51,
          38.857142857142854,
          29.142857142857142,
          22.5,
          18.142857142857142,
          13.285714285714286,
          6.142857142857143,
          -14.714285714285714,
          2.357142857142857,
          13.142857142857142,
          11.714285714285714,
          -1.5714285714285714,
          -14.714285714285714,
          -13.642857142857142,
          -7.642857142857143,
          -4.928571428571429,
          7.642857142857143,
          1,
          8.285714285714286,
          15.642857142857142,
          13.214285714285714,
          18.285714285714285,
          -11.357142857142858,
          -12.857142857142858,
          3.7142857142857144,
          -12,
          -13.428571428571429,
          6.857142857142857,
          4.285714285714286,
          6.428571428571429,
          -8.285714285714286,
          -5.857142857142857,
          -13.357142857142858,
          -12.928571428571429,
          2.5,
          14.642857142857142,
          5.214285714285714,
          7.714285714285714,
          -8.071428571428571,
          -5.785714285714286,
          21.142857142857142,
          -5.5,
          -14.642857142857142,
          -13.357142857142858,
          -8.428571428571429,
          -3,
          4.5,
          -4.428571428571429,
          -11.071428571428571,
          -19.071428571428573,
          -2.5714285714285716,
          2.7142857142857144,
          5,
          22.214285714285715,
          0.35714285714285715,
          -2.357142857142857,
          15.428571428571429,
          23.142857142857142,
          23.142857142857142,
          24.428571428571427,
          15.428571428571429,
          26.142857142857142,
          24.857142857142858,
          18.285714285714285,
          16.071428571428573,
          7,
          13.214285714285714,
          6.428571428571429,
          2.857142857142857,
          10.928571428571429,
          3.7142857142857144,
          -6.571428571428571,
          -0.6428571428571429,
          -2.642857142857143,
          -0.21428571428571427,
          -8.928571428571429,
          -0.42857142857142855,
          10.928571428571429,
          3.2142857142857144,
          20.928571428571427,
          16,
          5,
          16.142857142857142,
          6,
          1.6428571428571428,
          2.0714285714285716,
          10.357142857142858,
          0.42857142857142855,
          -7.928571428571429,
          2.4285714285714284,
          -9.142857142857142,
          -11.714285714285714,
          0.2857142857142857,
          -10.5,
          -5.642857142857143,
          -5.285714285714286,
          -8.285714285714286,
          12.714285714285714,
          -0.8571428571428571,
          15.642857142857142,
          2.642857142857143,
          16.5,
          33.42857142857143,
          11.571428571428571,
          8.928571428571429,
          16.071428571428573,
          23.5,
          13.714285714285714,
          2.5,
          18.071428571428573,
          10.857142857142858,
          2.7857142857142856,
          15.714285714285714,
          -5.571428571428571,
          -6,
          -7.714285714285714,
          -13.928571428571429,
          -11,
          3.0714285714285716,
          -13.357142857142858,
          -10.571428571428571,
          -14.214285714285714,
          -4.857142857142857,
          -11,
          -9.571428571428571,
          2.142857142857143,
          -9.642857142857142,
          2.2857142857142856,
          4,
          8.5,
          13.142857142857142,
          27.928571428571427,
          17.785714285714285,
          34.285714285714285,
          15.142857142857142,
          26.071428571428573,
          25.142857142857142,
          24.071428571428573,
          24.928571428571427,
          26.857142857142858,
          23.785714285714285,
          63.857142857142854,
          51.57142857142857,
          84,
          73.64285714285714,
          87.71428571428571,
          88.57142857142857,
          110.21428571428571,
          111.92857142857143,
          109.57142857142857,
          130.5,
          143.07142857142858,
          148.78571428571428,
          108.14285714285714
         ],
         "yaxis": "y"
        },
        {
         "name": "Promedio de 14 días",
         "type": "bar",
         "x": [
          "2020/03/11",
          "2020/03/13",
          "2020/03/16",
          "2020/03/17",
          "2020/03/18",
          "2020/03/19",
          "2020/03/20",
          "2020/03/21",
          "2020/03/22",
          "2020/03/23",
          "2020/03/24",
          "2020/03/25",
          "2020/03/26",
          "2020/03/27",
          "2020/03/28",
          "2020/03/29",
          "2020/03/30",
          "2020/03/31",
          "2020/04/01",
          "2020/04/02",
          "2020/04/03",
          "2020/04/04",
          "2020/04/05",
          "2020/04/06",
          "2020/04/07",
          "2020/04/08",
          "2020/04/09",
          "2020/04/10",
          "2020/04/11",
          "2020/04/12",
          "2020/04/13",
          "2020/04/14",
          "2020/04/15",
          "2020/04/16",
          "2020/04/17",
          "2020/04/18",
          "2020/04/19",
          "2020/04/20",
          "2020/04/21",
          "2020/04/22",
          "2020/04/23",
          "2020/04/24",
          "2020/04/25",
          "2020/04/26",
          "2020/04/27",
          "2020/04/28",
          "2020/04/29",
          "2020/04/30",
          "2020/05/01",
          "2020/05/02",
          "2020/05/03",
          "2020/05/04",
          "2020/05/05",
          "2020/05/06",
          "2020/05/07",
          "2020/05/08",
          "2020/05/09",
          "2020/05/10",
          "2020/05/11",
          "2020/05/12",
          "2020/05/13",
          "2020/05/14",
          "2020/05/15",
          "2020/05/16",
          "2020/05/17",
          "2020/05/18",
          "2020/05/19",
          "2020/05/20",
          "2020/05/21",
          "2020/05/22",
          "2020/05/23",
          "2020/05/24",
          "2020/05/25",
          "2020/05/26",
          "2020/05/27",
          "2020/05/28",
          "2020/05/29",
          "2020/05/30",
          "2020/05/31",
          "2020/06/01",
          "2020/06/02",
          "2020/06/03",
          "2020/06/04",
          "2020/06/05",
          "2020/06/06",
          "2020/06/07",
          "2020/06/08",
          "2020/06/09",
          "2020/06/10",
          "2020/06/11",
          "2020/06/12",
          "2020/06/13",
          "2020/06/14",
          "2020/06/15",
          "2020/06/16",
          "2020/06/17",
          "2020/06/18",
          "2020/06/19",
          "2020/06/20",
          "2020/06/21",
          "2020/06/22",
          "2020/06/23",
          "2020/06/24",
          "2020/06/25",
          "2020/06/26",
          "2020/06/27",
          "2020/06/28",
          "2020/06/29",
          "2020/06/30",
          "2020/07/01",
          "2020/07/02",
          "2020/07/03",
          "2020/07/04",
          "2020/07/05",
          "2020/07/06",
          "2020/07/07",
          "2020/07/08",
          "2020/07/09",
          "2020/07/10",
          "2020/07/11",
          "2020/07/12",
          "2020/07/13",
          "2020/07/14",
          "2020/07/15",
          "2020/07/16",
          "2020/07/17",
          "2020/07/18",
          "2020/07/20",
          "2020/07/21",
          "2020/07/22",
          "2020/07/23",
          "2020/07/24",
          "2020/07/25",
          "2020/07/26",
          "2020/07/27",
          "2020/07/28",
          "2020/07/29",
          "2020/07/30",
          "2020/07/31",
          "2020/08/01",
          "2020/08/02",
          "2020/08/03",
          "2020/08/04",
          "2020/08/05",
          "2020/08/06",
          "2020/08/07",
          "2020/08/08",
          "2020/08/09",
          "2020/08/10",
          "2020/08/11",
          "2020/08/12",
          "2020/08/13",
          "2020/08/14",
          "2020/08/15",
          "2020/08/16",
          "2020/08/17",
          "2020/08/18",
          "2020/08/19",
          "2020/08/20",
          "2020/08/21",
          "2020/08/22",
          "2020/08/23",
          "2020/08/24",
          "2020/08/25",
          "2020/08/26",
          "2020/08/27",
          "2020/08/28",
          "2020/08/29",
          "2020/08/30",
          "2020/08/31",
          "2020/09/01",
          "2020/09/02",
          "2020/09/03",
          "2020/09/04",
          "2020/09/05",
          "2020/09/06",
          "2020/09/07",
          "2020/09/08",
          "2020/09/09",
          "2020/09/10",
          "2020/09/11",
          "2020/09/12",
          "2020/09/13",
          "2020/09/14",
          "2020/09/15",
          "2020/09/16",
          "2020/09/17",
          "2020/09/18",
          "2020/09/19",
          "2020/09/20",
          "2020/09/21",
          "2020/09/22",
          "2020/09/23",
          "2020/09/24",
          "2020/09/25",
          "2020/09/26",
          "2020/09/27",
          "2020/09/28",
          "2020/09/29",
          "2020/09/30",
          "2020/10/01",
          "2020/10/02",
          "2020/10/03",
          "2020/10/04",
          "2020/10/05",
          "2020/10/06",
          "2020/10/07",
          "2020/10/08",
          "2020/10/09",
          "2020/10/10",
          "2020/10/11",
          "2020/10/12",
          "2020/10/13",
          "2020/10/14",
          "2020/10/15",
          "2020/10/16",
          "2020/10/17",
          "2020/10/18",
          "2020/10/19",
          "2020/10/20",
          "2020/10/21",
          "2020/10/22",
          "2020/10/23",
          "2020/10/24",
          "2020/10/25",
          "2020/10/26",
          "2020/10/27",
          "2020/10/28",
          "2020/10/29",
          "2020/10/30",
          "2020/10/31",
          "2020/11/01",
          "2020/11/02",
          "2020/11/03",
          "2020/11/04",
          "2020/11/05",
          "2020/11/06",
          "2020/11/07",
          "2020/11/08",
          "2020/11/09",
          "2020/11/10",
          "2020/11/11",
          "2020/11/12",
          "2020/11/13",
          "2020/11/14",
          "2020/11/15",
          "2020/11/16",
          "2020/11/17",
          "2020/11/18",
          "2020/11/19",
          "2020/11/20",
          "2020/11/21",
          "2020/11/22",
          "2020/11/23",
          "2020/11/24",
          "2020/11/25",
          "2020/11/26",
          "2020/11/27",
          "2020/11/28",
          "2020/11/29",
          "2020/11/30",
          "2020/12/01",
          "2020/12/02",
          "2020/12/03",
          "2020/12/04",
          "2020/12/05",
          "2020/12/06",
          "2020/12/07",
          "2020/12/08",
          "2020/12/09",
          "2020/12/10",
          "2020/12/11",
          "2020/12/12",
          "2020/12/13",
          "2020/12/14",
          "2020/12/15",
          "2020/12/16",
          "2020/12/17",
          "2020/12/18",
          "2020/12/19",
          "2020/12/20",
          "2020/12/21",
          "2020/12/22",
          "2020/12/23",
          "2020/12/24",
          "2020/12/25",
          "2020/12/26",
          "2020/12/27",
          "2020/12/28",
          "2020/12/29",
          "2020/12/30",
          "2020/12/31",
          "2021/01/01",
          "2021/01/02",
          "2021/01/03",
          "2021/01/04",
          "2021/01/05",
          "2021/01/06",
          "2021/01/07",
          "2021/01/08",
          "2021/01/09",
          "2021/01/10",
          "2021/01/11",
          "2021/01/12",
          "2021/01/13",
          "2021/01/14",
          "2021/01/15",
          "2021/01/16",
          "2021/01/17",
          "2021/01/18",
          "2021/01/19",
          "2021/01/20",
          "2021/01/21",
          "2021/01/22",
          "2021/01/23",
          "2021/01/24",
          "2021/01/25",
          "2021/01/26",
          "2021/01/27",
          "2021/01/28",
          "2021/01/29",
          "2021/01/30",
          "2021/01/31",
          "2021/02/01",
          "2021/02/02",
          "2021/02/03",
          "2021/02/04",
          "2021/02/05",
          "2021/02/06",
          "2021/02/07",
          "2021/02/08",
          "2021/02/09",
          "2021/02/10",
          "2021/02/11",
          "2021/02/12",
          "2021/02/13",
          "2021/02/14",
          "2021/02/15",
          "2021/02/16",
          "2021/02/17",
          "2021/02/18",
          "2021/02/19",
          "2021/02/20",
          "2021/02/21",
          "2021/02/22",
          "2021/02/23",
          "2021/02/24",
          "2021/02/25",
          "2021/02/26",
          "2021/02/27",
          "2021/02/28",
          "2021/03/01",
          "2021/03/02",
          "2021/03/03",
          "2021/03/04",
          "2021/03/05",
          "2021/03/06",
          "2021/03/07",
          "2021/03/08",
          "2021/03/09",
          "2021/03/10",
          "2021/03/11",
          "2021/03/12",
          "2021/03/13",
          "2021/03/14",
          "2021/03/15",
          "2021/03/16",
          "2021/03/17",
          "2021/03/18",
          "2021/03/19",
          "2021/03/20",
          "2021/03/21",
          "2021/03/22",
          "2021/03/23",
          "2021/03/24",
          "2021/03/25",
          "2021/03/26",
          "2021/03/27",
          "2021/03/28",
          "2021/03/29",
          "2021/03/30",
          "2021/03/31",
          "2021/04/01",
          "2021/04/02",
          "2021/04/03",
          "2021/04/04",
          "2021/04/05",
          "2021/04/06",
          "2021/04/07",
          "2021/04/08",
          "2021/04/09",
          "2021/04/10",
          "2021/04/11",
          "2021/04/12",
          "2021/04/13",
          "2021/04/14",
          "2021/04/15",
          "2021/04/16",
          "2021/04/17",
          "2021/04/18",
          "2021/04/19",
          "2021/04/20",
          "2021/04/21",
          "2021/04/22",
          "2021/04/23",
          "2021/04/24",
          "2021/04/25",
          "2021/04/26",
          "2021/04/27",
          "2021/04/28",
          "2021/04/29",
          "2021/04/30",
          "2021/05/01",
          "2021/05/02",
          "2021/05/03",
          "2021/05/04",
          "2021/05/05",
          "2021/05/06",
          "2021/05/07",
          "2021/05/08",
          "2021/05/09",
          "2021/05/10",
          "2021/05/11",
          "2021/05/12",
          "2021/05/13",
          "2021/05/14",
          "2021/05/15",
          "2021/05/16",
          "2021/05/17",
          "2021/05/18",
          "2021/05/19",
          "2021/05/20",
          "2021/05/21",
          "2021/05/22",
          "2021/05/23",
          "2021/05/24",
          "2021/05/25",
          "2021/05/26",
          "2021/05/27",
          "2021/05/28",
          "2021/05/29",
          "2021/05/30",
          "2021/05/31",
          "2021/06/01",
          "2021/06/02",
          "2021/06/03",
          "2021/06/04",
          "2021/06/05",
          "2021/06/06",
          "2021/06/07",
          "2021/06/08",
          "2021/06/09",
          "2021/06/10",
          "2021/06/11",
          "2021/06/12",
          "2021/06/13",
          "2021/06/14",
          "2021/06/15",
          "2021/06/16",
          "2021/06/17",
          "2021/06/18",
          "2021/06/19",
          "2021/06/20",
          "2021/06/21",
          "2021/06/22",
          "2021/06/23",
          "2021/06/24",
          "2021/06/25",
          "2021/06/26",
          "2021/06/27",
          "2021/06/28",
          "2021/06/29",
          "2021/06/30",
          "2021/07/01",
          "2021/07/02",
          "2021/07/03",
          "2021/07/04"
         ],
         "y": [
          null,
          null,
          null,
          null,
          null,
          null,
          null,
          null,
          null,
          null,
          null,
          null,
          null,
          null,
          1.2142857142857142,
          2.142857142857143,
          1.0714285714285714,
          1.7142857142857142,
          1.2142857142857142,
          2.2142857142857144,
          0.7142857142857143,
          1.5714285714285714,
          1.7857142857142858,
          2.7142857142857144,
          3.7142857142857144,
          3.4285714285714284,
          2.5714285714285716,
          1.2142857142857142,
          2.0714285714285716,
          1.8571428571428572,
          1.7142857142857142,
          1.5714285714285714,
          1.9285714285714286,
          1.7857142857142858,
          3.142857142857143,
          1.2142857142857142,
          1.5714285714285714,
          0.2857142857142857,
          -0.6428571428571429,
          -0.8571428571428571,
          0.07142857142857142,
          -0.2857142857142857,
          -1.2142857142857142,
          -2.642857142857143,
          0.5714285714285714,
          -1.2857142857142858,
          -1,
          -1.7857142857142858,
          0.7857142857142857,
          -0.7857142857142857,
          -2.357142857142857,
          -2.357142857142857,
          -2.4285714285714284,
          -1.4285714285714286,
          -2.7142857142857144,
          -2.7857142857142856,
          -1.4285714285714286,
          -0.21428571428571427,
          -1.9285714285714286,
          -1.7142857142857142,
          -1,
          -1.8571428571428572,
          -3.7142857142857144,
          -2,
          -0.7142857142857143,
          -0.7857142857142857,
          -0.35714285714285715,
          -1.2857142857142858,
          -0.2857142857142857,
          0.14285714285714285,
          -0.14285714285714285,
          -0.7857142857142857,
          -0.35714285714285715,
          0.35714285714285715,
          -0.7857142857142857,
          0.8571428571428571,
          -0.14285714285714285,
          0.7142857142857143,
          2.0714285714285716,
          0.21428571428571427,
          0.14285714285714285,
          0.2857142857142857,
          0.42857142857142855,
          1.7857142857142858,
          0.5714285714285714,
          0.21428571428571427,
          -0.7857142857142857,
          -0.35714285714285715,
          -0.07142857142857142,
          -0.5714285714285714,
          -1.0714285714285714,
          -0.7142857142857143,
          -1.7142857142857142,
          0.14285714285714285,
          -0.5714285714285714,
          0.21428571428571427,
          -0.2857142857142857,
          -2.5714285714285716,
          -1.0714285714285714,
          -0.42857142857142855,
          -0.14285714285714285,
          -0.35714285714285715,
          -0.42857142857142855,
          -0.7142857142857143,
          0,
          -0.5714285714285714,
          -0.42857142857142855,
          -0.7142857142857143,
          0,
          -0.7142857142857143,
          -0.14285714285714285,
          0.2857142857142857,
          0,
          0.35714285714285715,
          0.8571428571428571,
          0.21428571428571427,
          0.14285714285714285,
          0.42857142857142855,
          0.14285714285714285,
          0.2857142857142857,
          -0.42857142857142855,
          0.21428571428571427,
          -0.07142857142857142,
          -0.21428571428571427,
          -0.2857142857142857,
          -0.5,
          -0.14285714285714285,
          -0.35714285714285715,
          -0.14285714285714285,
          0,
          -0.07142857142857142,
          -0.07142857142857142,
          0.7142857142857143,
          2.2142857142857144,
          1.5,
          2.0714285714285716,
          0.21428571428571427,
          0.6428571428571429,
          1.5,
          0.8571428571428571,
          1.6428571428571428,
          2,
          0.8571428571428571,
          3.2142857142857144,
          3.642857142857143,
          3.5714285714285716,
          3.4285714285714284,
          4,
          1.7142857142857142,
          0.14285714285714285,
          2.5714285714285716,
          3.2142857142857144,
          2.7142857142857144,
          0.7857142857142857,
          1.7142857142857142,
          0.9285714285714286,
          3.5,
          2.4285714285714284,
          -2.642857142857143,
          -1.7142857142857142,
          0,
          -4.142857142857143,
          -1.4285714285714286,
          -1.4285714285714286,
          0.14285714285714285,
          0.2857142857142857,
          -0.2857142857142857,
          1.7142857142857142,
          0.7857142857142857,
          -0.7857142857142857,
          -0.9285714285714286,
          0.35714285714285715,
          2.5,
          -0.21428571428571427,
          -3.857142857142857,
          0.5714285714285714,
          -0.14285714285714285,
          4.785714285714286,
          3.2142857142857144,
          -1.2857142857142858,
          0.07142857142857142,
          -1.2142857142857142,
          -1.2142857142857142,
          3.142857142857143,
          0.8571428571428571,
          -2.2142857142857144,
          1.3571428571428572,
          1.3571428571428572,
          1.7857142857142858,
          0.5,
          4,
          -2.4285714285714284,
          -3.7142857142857144,
          -0.14285714285714285,
          0.14285714285714285,
          1,
          -1.1428571428571428,
          -2.0714285714285716,
          -0.5,
          1.1428571428571428,
          -1.6428571428571428,
          0.7857142857142857,
          -0.5,
          -1,
          -3.0714285714285716,
          -2.357142857142857,
          -1.5,
          -1,
          -4.071428571428571,
          -1.0714285714285714,
          -0.2857142857142857,
          -2.2142857142857144,
          -3.4285714285714284,
          -3.2857142857142856,
          0.5714285714285714,
          -0.7142857142857143,
          1.5,
          0.14285714285714285,
          0.6428571428571429,
          3.4285714285714284,
          2.4285714285714284,
          2.2857142857142856,
          3.5714285714285716,
          0.14285714285714285,
          0.5,
          4.714285714285714,
          2.2142857142857144,
          0.8571428571428571,
          -1.5,
          2.4285714285714284,
          -0.14285714285714285,
          -0.21428571428571427,
          1.2857142857142858,
          3.2857142857142856,
          -0.9285714285714286,
          -1,
          -1.1428571428571428,
          -0.14285714285714285,
          1.6428571428571428,
          -2.857142857142857,
          -0.8571428571428571,
          1.3571428571428572,
          1.3571428571428572,
          -4.214285714285714,
          -1.8571428571428572,
          1,
          -2.642857142857143,
          -5.142857142857143,
          -1.3571428571428572,
          -0.42857142857142855,
          -0.2857142857142857,
          1.2857142857142858,
          -1.3571428571428572,
          2,
          2.7857142857142856,
          -0.6428571428571429,
          -1.3571428571428572,
          2.5714285714285716,
          2.7142857142857144,
          0.14285714285714285,
          4.928571428571429,
          2.7142857142857144,
          3.857142857142857,
          2.9285714285714284,
          4.928571428571429,
          1.4285714285714286,
          6.5,
          0.35714285714285715,
          3.4285714285714284,
          1.8571428571428572,
          3.642857142857143,
          1.7142857142857142,
          0.6428571428571429,
          1.2857142857142858,
          -0.07142857142857142,
          0.5714285714285714,
          1.7857142857142858,
          3.0714285714285716,
          1.9285714285714286,
          2.5,
          -0.6428571428571429,
          4.714285714285714,
          -0.5714285714285714,
          10.142857142857142,
          6.928571428571429,
          3.642857142857143,
          7,
          11.428571428571429,
          5.071428571428571,
          0.21428571428571427,
          5.428571428571429,
          5.071428571428571,
          2.7142857142857144,
          6.857142857142857,
          14.357142857142858,
          5.857142857142857,
          6.071428571428571,
          6.928571428571429,
          11.5,
          16.214285714285715,
          15.785714285714286,
          14.428571428571429,
          22.857142857142858,
          33.142857142857146,
          23.5,
          25.285714285714285,
          16.857142857142858,
          32.214285714285715,
          -1.7142857142857142,
          7.571428571428571,
          10.571428571428571,
          6.714285714285714,
          13.285714285714286,
          14.428571428571429,
          17.571428571428573,
          9.714285714285714,
          21.357142857142858,
          19.642857142857142,
          11.5,
          8,
          36.07142857142857,
          25.857142857142858,
          43.857142857142854,
          51,
          38.857142857142854,
          29.142857142857142,
          22.5,
          18.142857142857142,
          13.285714285714286,
          6.142857142857143,
          -14.714285714285714,
          2.357142857142857,
          13.142857142857142,
          11.714285714285714,
          -1.5714285714285714,
          -14.714285714285714,
          -13.642857142857142,
          -7.642857142857143,
          -4.928571428571429,
          7.642857142857143,
          1,
          8.285714285714286,
          15.642857142857142,
          13.214285714285714,
          18.285714285714285,
          -11.357142857142858,
          -12.857142857142858,
          3.7142857142857144,
          -12,
          -13.428571428571429,
          6.857142857142857,
          4.285714285714286,
          6.428571428571429,
          -8.285714285714286,
          -5.857142857142857,
          -13.357142857142858,
          -12.928571428571429,
          2.5,
          14.642857142857142,
          5.214285714285714,
          7.714285714285714,
          -8.071428571428571,
          -5.785714285714286,
          21.142857142857142,
          -5.5,
          -14.642857142857142,
          -13.357142857142858,
          -8.428571428571429,
          -3,
          4.5,
          -4.428571428571429,
          -11.071428571428571,
          -19.071428571428573,
          -2.5714285714285716,
          2.7142857142857144,
          5,
          22.214285714285715,
          0.35714285714285715,
          -2.357142857142857,
          15.428571428571429,
          23.142857142857142,
          23.142857142857142,
          24.428571428571427,
          15.428571428571429,
          26.142857142857142,
          24.857142857142858,
          18.285714285714285,
          16.071428571428573,
          7,
          13.214285714285714,
          6.428571428571429,
          2.857142857142857,
          10.928571428571429,
          3.7142857142857144,
          -6.571428571428571,
          -0.6428571428571429,
          -2.642857142857143,
          -0.21428571428571427,
          -8.928571428571429,
          -0.42857142857142855,
          10.928571428571429,
          3.2142857142857144,
          20.928571428571427,
          16,
          5,
          16.142857142857142,
          6,
          1.6428571428571428,
          2.0714285714285716,
          10.357142857142858,
          0.42857142857142855,
          -7.928571428571429,
          2.4285714285714284,
          -9.142857142857142,
          -11.714285714285714,
          0.2857142857142857,
          -10.5,
          -5.642857142857143,
          -5.285714285714286,
          -8.285714285714286,
          12.714285714285714,
          -0.8571428571428571,
          15.642857142857142,
          2.642857142857143,
          16.5,
          33.42857142857143,
          11.571428571428571,
          8.928571428571429,
          16.071428571428573,
          23.5,
          13.714285714285714,
          2.5,
          18.071428571428573,
          10.857142857142858,
          2.7857142857142856,
          15.714285714285714,
          -5.571428571428571,
          -6,
          -7.714285714285714,
          -13.928571428571429,
          -11,
          3.0714285714285716,
          -13.357142857142858,
          -10.571428571428571,
          -14.214285714285714,
          -4.857142857142857,
          -11,
          -9.571428571428571,
          2.142857142857143,
          -9.642857142857142,
          2.2857142857142856,
          4,
          8.5,
          13.142857142857142,
          27.928571428571427,
          17.785714285714285,
          34.285714285714285,
          15.142857142857142,
          26.071428571428573,
          25.142857142857142,
          24.071428571428573,
          24.928571428571427,
          26.857142857142858,
          23.785714285714285,
          63.857142857142854,
          51.57142857142857,
          84,
          73.64285714285714,
          87.71428571428571,
          88.57142857142857,
          110.21428571428571,
          111.92857142857143,
          109.57142857142857,
          130.5,
          143.07142857142858,
          148.78571428571428,
          108.14285714285714
         ]
        }
       ],
       "layout": {
        "legend": {
         "tracegroupgap": 0
        },
        "margin": {
         "t": 60
        },
        "showlegend": false,
        "template": {
         "data": {
          "bar": [
           {
            "error_x": {
             "color": "#2a3f5f"
            },
            "error_y": {
             "color": "#2a3f5f"
            },
            "marker": {
             "line": {
              "color": "white",
              "width": 0.5
             }
            },
            "type": "bar"
           }
          ],
          "barpolar": [
           {
            "marker": {
             "line": {
              "color": "white",
              "width": 0.5
             }
            },
            "type": "barpolar"
           }
          ],
          "carpet": [
           {
            "aaxis": {
             "endlinecolor": "#2a3f5f",
             "gridcolor": "#C8D4E3",
             "linecolor": "#C8D4E3",
             "minorgridcolor": "#C8D4E3",
             "startlinecolor": "#2a3f5f"
            },
            "baxis": {
             "endlinecolor": "#2a3f5f",
             "gridcolor": "#C8D4E3",
             "linecolor": "#C8D4E3",
             "minorgridcolor": "#C8D4E3",
             "startlinecolor": "#2a3f5f"
            },
            "type": "carpet"
           }
          ],
          "choropleth": [
           {
            "colorbar": {
             "outlinewidth": 0,
             "ticks": ""
            },
            "type": "choropleth"
           }
          ],
          "contour": [
           {
            "colorbar": {
             "outlinewidth": 0,
             "ticks": ""
            },
            "colorscale": [
             [
              0,
              "#0d0887"
             ],
             [
              0.1111111111111111,
              "#46039f"
             ],
             [
              0.2222222222222222,
              "#7201a8"
             ],
             [
              0.3333333333333333,
              "#9c179e"
             ],
             [
              0.4444444444444444,
              "#bd3786"
             ],
             [
              0.5555555555555556,
              "#d8576b"
             ],
             [
              0.6666666666666666,
              "#ed7953"
             ],
             [
              0.7777777777777778,
              "#fb9f3a"
             ],
             [
              0.8888888888888888,
              "#fdca26"
             ],
             [
              1,
              "#f0f921"
             ]
            ],
            "type": "contour"
           }
          ],
          "contourcarpet": [
           {
            "colorbar": {
             "outlinewidth": 0,
             "ticks": ""
            },
            "type": "contourcarpet"
           }
          ],
          "heatmap": [
           {
            "colorbar": {
             "outlinewidth": 0,
             "ticks": ""
            },
            "colorscale": [
             [
              0,
              "#0d0887"
             ],
             [
              0.1111111111111111,
              "#46039f"
             ],
             [
              0.2222222222222222,
              "#7201a8"
             ],
             [
              0.3333333333333333,
              "#9c179e"
             ],
             [
              0.4444444444444444,
              "#bd3786"
             ],
             [
              0.5555555555555556,
              "#d8576b"
             ],
             [
              0.6666666666666666,
              "#ed7953"
             ],
             [
              0.7777777777777778,
              "#fb9f3a"
             ],
             [
              0.8888888888888888,
              "#fdca26"
             ],
             [
              1,
              "#f0f921"
             ]
            ],
            "type": "heatmap"
           }
          ],
          "heatmapgl": [
           {
            "colorbar": {
             "outlinewidth": 0,
             "ticks": ""
            },
            "colorscale": [
             [
              0,
              "#0d0887"
             ],
             [
              0.1111111111111111,
              "#46039f"
             ],
             [
              0.2222222222222222,
              "#7201a8"
             ],
             [
              0.3333333333333333,
              "#9c179e"
             ],
             [
              0.4444444444444444,
              "#bd3786"
             ],
             [
              0.5555555555555556,
              "#d8576b"
             ],
             [
              0.6666666666666666,
              "#ed7953"
             ],
             [
              0.7777777777777778,
              "#fb9f3a"
             ],
             [
              0.8888888888888888,
              "#fdca26"
             ],
             [
              1,
              "#f0f921"
             ]
            ],
            "type": "heatmapgl"
           }
          ],
          "histogram": [
           {
            "marker": {
             "colorbar": {
              "outlinewidth": 0,
              "ticks": ""
             }
            },
            "type": "histogram"
           }
          ],
          "histogram2d": [
           {
            "colorbar": {
             "outlinewidth": 0,
             "ticks": ""
            },
            "colorscale": [
             [
              0,
              "#0d0887"
             ],
             [
              0.1111111111111111,
              "#46039f"
             ],
             [
              0.2222222222222222,
              "#7201a8"
             ],
             [
              0.3333333333333333,
              "#9c179e"
             ],
             [
              0.4444444444444444,
              "#bd3786"
             ],
             [
              0.5555555555555556,
              "#d8576b"
             ],
             [
              0.6666666666666666,
              "#ed7953"
             ],
             [
              0.7777777777777778,
              "#fb9f3a"
             ],
             [
              0.8888888888888888,
              "#fdca26"
             ],
             [
              1,
              "#f0f921"
             ]
            ],
            "type": "histogram2d"
           }
          ],
          "histogram2dcontour": [
           {
            "colorbar": {
             "outlinewidth": 0,
             "ticks": ""
            },
            "colorscale": [
             [
              0,
              "#0d0887"
             ],
             [
              0.1111111111111111,
              "#46039f"
             ],
             [
              0.2222222222222222,
              "#7201a8"
             ],
             [
              0.3333333333333333,
              "#9c179e"
             ],
             [
              0.4444444444444444,
              "#bd3786"
             ],
             [
              0.5555555555555556,
              "#d8576b"
             ],
             [
              0.6666666666666666,
              "#ed7953"
             ],
             [
              0.7777777777777778,
              "#fb9f3a"
             ],
             [
              0.8888888888888888,
              "#fdca26"
             ],
             [
              1,
              "#f0f921"
             ]
            ],
            "type": "histogram2dcontour"
           }
          ],
          "mesh3d": [
           {
            "colorbar": {
             "outlinewidth": 0,
             "ticks": ""
            },
            "type": "mesh3d"
           }
          ],
          "parcoords": [
           {
            "line": {
             "colorbar": {
              "outlinewidth": 0,
              "ticks": ""
             }
            },
            "type": "parcoords"
           }
          ],
          "pie": [
           {
            "automargin": true,
            "type": "pie"
           }
          ],
          "scatter": [
           {
            "marker": {
             "colorbar": {
              "outlinewidth": 0,
              "ticks": ""
             }
            },
            "type": "scatter"
           }
          ],
          "scatter3d": [
           {
            "line": {
             "colorbar": {
              "outlinewidth": 0,
              "ticks": ""
             }
            },
            "marker": {
             "colorbar": {
              "outlinewidth": 0,
              "ticks": ""
             }
            },
            "type": "scatter3d"
           }
          ],
          "scattercarpet": [
           {
            "marker": {
             "colorbar": {
              "outlinewidth": 0,
              "ticks": ""
             }
            },
            "type": "scattercarpet"
           }
          ],
          "scattergeo": [
           {
            "marker": {
             "colorbar": {
              "outlinewidth": 0,
              "ticks": ""
             }
            },
            "type": "scattergeo"
           }
          ],
          "scattergl": [
           {
            "marker": {
             "colorbar": {
              "outlinewidth": 0,
              "ticks": ""
             }
            },
            "type": "scattergl"
           }
          ],
          "scattermapbox": [
           {
            "marker": {
             "colorbar": {
              "outlinewidth": 0,
              "ticks": ""
             }
            },
            "type": "scattermapbox"
           }
          ],
          "scatterpolar": [
           {
            "marker": {
             "colorbar": {
              "outlinewidth": 0,
              "ticks": ""
             }
            },
            "type": "scatterpolar"
           }
          ],
          "scatterpolargl": [
           {
            "marker": {
             "colorbar": {
              "outlinewidth": 0,
              "ticks": ""
             }
            },
            "type": "scatterpolargl"
           }
          ],
          "scatterternary": [
           {
            "marker": {
             "colorbar": {
              "outlinewidth": 0,
              "ticks": ""
             }
            },
            "type": "scatterternary"
           }
          ],
          "surface": [
           {
            "colorbar": {
             "outlinewidth": 0,
             "ticks": ""
            },
            "colorscale": [
             [
              0,
              "#0d0887"
             ],
             [
              0.1111111111111111,
              "#46039f"
             ],
             [
              0.2222222222222222,
              "#7201a8"
             ],
             [
              0.3333333333333333,
              "#9c179e"
             ],
             [
              0.4444444444444444,
              "#bd3786"
             ],
             [
              0.5555555555555556,
              "#d8576b"
             ],
             [
              0.6666666666666666,
              "#ed7953"
             ],
             [
              0.7777777777777778,
              "#fb9f3a"
             ],
             [
              0.8888888888888888,
              "#fdca26"
             ],
             [
              1,
              "#f0f921"
             ]
            ],
            "type": "surface"
           }
          ],
          "table": [
           {
            "cells": {
             "fill": {
              "color": "#EBF0F8"
             },
             "line": {
              "color": "white"
             }
            },
            "header": {
             "fill": {
              "color": "#C8D4E3"
             },
             "line": {
              "color": "white"
             }
            },
            "type": "table"
           }
          ]
         },
         "layout": {
          "annotationdefaults": {
           "arrowcolor": "#2a3f5f",
           "arrowhead": 0,
           "arrowwidth": 1
          },
          "autotypenumbers": "strict",
          "coloraxis": {
           "colorbar": {
            "outlinewidth": 0,
            "ticks": ""
           }
          },
          "colorscale": {
           "diverging": [
            [
             0,
             "#8e0152"
            ],
            [
             0.1,
             "#c51b7d"
            ],
            [
             0.2,
             "#de77ae"
            ],
            [
             0.3,
             "#f1b6da"
            ],
            [
             0.4,
             "#fde0ef"
            ],
            [
             0.5,
             "#f7f7f7"
            ],
            [
             0.6,
             "#e6f5d0"
            ],
            [
             0.7,
             "#b8e186"
            ],
            [
             0.8,
             "#7fbc41"
            ],
            [
             0.9,
             "#4d9221"
            ],
            [
             1,
             "#276419"
            ]
           ],
           "sequential": [
            [
             0,
             "#0d0887"
            ],
            [
             0.1111111111111111,
             "#46039f"
            ],
            [
             0.2222222222222222,
             "#7201a8"
            ],
            [
             0.3333333333333333,
             "#9c179e"
            ],
            [
             0.4444444444444444,
             "#bd3786"
            ],
            [
             0.5555555555555556,
             "#d8576b"
            ],
            [
             0.6666666666666666,
             "#ed7953"
            ],
            [
             0.7777777777777778,
             "#fb9f3a"
            ],
            [
             0.8888888888888888,
             "#fdca26"
            ],
            [
             1,
             "#f0f921"
            ]
           ],
           "sequentialminus": [
            [
             0,
             "#0d0887"
            ],
            [
             0.1111111111111111,
             "#46039f"
            ],
            [
             0.2222222222222222,
             "#7201a8"
            ],
            [
             0.3333333333333333,
             "#9c179e"
            ],
            [
             0.4444444444444444,
             "#bd3786"
            ],
            [
             0.5555555555555556,
             "#d8576b"
            ],
            [
             0.6666666666666666,
             "#ed7953"
            ],
            [
             0.7777777777777778,
             "#fb9f3a"
            ],
            [
             0.8888888888888888,
             "#fdca26"
            ],
            [
             1,
             "#f0f921"
            ]
           ]
          },
          "colorway": [
           "#636efa",
           "#EF553B",
           "#00cc96",
           "#ab63fa",
           "#FFA15A",
           "#19d3f3",
           "#FF6692",
           "#B6E880",
           "#FF97FF",
           "#FECB52"
          ],
          "font": {
           "color": "#2a3f5f"
          },
          "geo": {
           "bgcolor": "white",
           "lakecolor": "white",
           "landcolor": "white",
           "showlakes": true,
           "showland": true,
           "subunitcolor": "#C8D4E3"
          },
          "hoverlabel": {
           "align": "left"
          },
          "hovermode": "closest",
          "mapbox": {
           "style": "light"
          },
          "paper_bgcolor": "white",
          "plot_bgcolor": "white",
          "polar": {
           "angularaxis": {
            "gridcolor": "#EBF0F8",
            "linecolor": "#EBF0F8",
            "ticks": ""
           },
           "bgcolor": "white",
           "radialaxis": {
            "gridcolor": "#EBF0F8",
            "linecolor": "#EBF0F8",
            "ticks": ""
           }
          },
          "scene": {
           "xaxis": {
            "backgroundcolor": "white",
            "gridcolor": "#DFE8F3",
            "gridwidth": 2,
            "linecolor": "#EBF0F8",
            "showbackground": true,
            "ticks": "",
            "zerolinecolor": "#EBF0F8"
           },
           "yaxis": {
            "backgroundcolor": "white",
            "gridcolor": "#DFE8F3",
            "gridwidth": 2,
            "linecolor": "#EBF0F8",
            "showbackground": true,
            "ticks": "",
            "zerolinecolor": "#EBF0F8"
           },
           "zaxis": {
            "backgroundcolor": "white",
            "gridcolor": "#DFE8F3",
            "gridwidth": 2,
            "linecolor": "#EBF0F8",
            "showbackground": true,
            "ticks": "",
            "zerolinecolor": "#EBF0F8"
           }
          },
          "shapedefaults": {
           "line": {
            "color": "#2a3f5f"
           }
          },
          "ternary": {
           "aaxis": {
            "gridcolor": "#DFE8F3",
            "linecolor": "#A2B1C6",
            "ticks": ""
           },
           "baxis": {
            "gridcolor": "#DFE8F3",
            "linecolor": "#A2B1C6",
            "ticks": ""
           },
           "bgcolor": "white",
           "caxis": {
            "gridcolor": "#DFE8F3",
            "linecolor": "#A2B1C6",
            "ticks": ""
           }
          },
          "title": {
           "x": 0.05
          },
          "xaxis": {
           "automargin": true,
           "gridcolor": "#EBF0F8",
           "linecolor": "#EBF0F8",
           "ticks": "",
           "title": {
            "standoff": 15
           },
           "zerolinecolor": "#EBF0F8",
           "zerolinewidth": 2
          },
          "yaxis": {
           "automargin": true,
           "gridcolor": "#EBF0F8",
           "linecolor": "#EBF0F8",
           "ticks": "",
           "title": {
            "standoff": 15
           },
           "zerolinecolor": "#EBF0F8",
           "zerolinewidth": 2
          }
         }
        },
        "title": {
         "text": "Aceleración de casos - promedio 14 días - Cuba"
        },
        "xaxis": {
         "anchor": "y",
         "domain": [
          0,
          1
         ],
         "title": {
          "text": "Días"
         }
        },
        "yaxis": {
         "anchor": "x",
         "domain": [
          0,
          1
         ],
         "title": {
          "text": "Casos"
         }
        }
       }
      }
     },
     "metadata": {}
    }
   ],
   "source": [
    "fig = px.line(cuba, x=\"Date\", y=\"accelMeans14\", template=chartTemplate)\n",
    "\n",
    "fig.update_layout({\"title\": 'Aceleración de casos - promedio 14 días - Cuba',\n",
    "                   \"xaxis\": {\"title\":\"Días\"},\n",
    "                   \"yaxis\": {\"title\":\"Casos\"},\n",
    "                   \"showlegend\": False})\n",
    "fig.add_trace(go.Bar(x=cuba['Date'], y=cuba['accelMeans14'], name='Promedio de 14 días'))\n",
    "\n",
    "fig.show()"
   ]
  },
  {
   "cell_type": "code",
   "execution_count": null,
   "metadata": {},
   "outputs": [],
   "source": []
  }
 ]
}